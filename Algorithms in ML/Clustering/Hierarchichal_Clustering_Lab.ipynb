{
 "cells": [
  {
   "cell_type": "markdown",
   "metadata": {},
   "source": [
    "## **Hierarchical clustering**"
   ]
  },
  {
   "cell_type": "markdown",
   "metadata": {},
   "source": [
    "- The process of initiation with each item as a separate cluster, then the pairs of\n",
    "items/clusters are successively merged until all items belong to one cluster. This is\n",
    "known as `Hierarchical clustering`\n",
    "\n",
    "- The graphical representation of this agglomeration is called a `Dendrogram`"
   ]
  },
  {
   "cell_type": "markdown",
   "metadata": {},
   "source": [
    "#### The various linkages (the methods of computing the distances between clusters) are the following:\n",
    "\n",
    "1. `complete linkage` - The distance between two clusters is defined as the maximum value of all pairwise distances between the elements in cluster 1 and the elements in cluster 2. It tends to produce more compact clusters\n",
    "\n",
    "1. `single linkage` - The distance between two clusters is defined as the minimum value of all pairwise distances between the elements in cluster 1 and the elements in cluster 2. It tends to produce long, “loose” clusters\n",
    "\n",
    "1. `average linkage` - The distance between two clusters is defined as the\n",
    "average distance between the elements in cluster 1 and the elements in\n",
    "cluster 2.\n",
    "\n",
    "1. `centroid linkage` - The distance between two clusters is defined as the\n",
    "distance between the centroid for cluster 1 (a mean vector of length p\n",
    "variables) and the centroid for cluster 2\n",
    "\n",
    "1. `Ward’s minimum variance method` - It minimizes the total within-cluster\n",
    "variance."
   ]
  },
  {
   "cell_type": "markdown",
   "metadata": {},
   "source": [
    "## Procedure"
   ]
  },
  {
   "cell_type": "markdown",
   "metadata": {},
   "source": [
    "##### Hierarchical clustering is a method where the data points are clustered using bottom-up approach.\n",
    "- At the initial state, each data point is considered as a cluster and then the data points are combined based on the distance(Euclidean distance generally)\n",
    "- This process of combining continues till all the data points fall into one cluster. The visual representation of this kind of agglomeration is called a \"**Dendrogram**\" \n",
    "- Based on the dendrogram, user can decide on the number of clusters for partitioning/clustering"
   ]
  },
  {
   "cell_type": "code",
   "execution_count": null,
   "metadata": {
    "ExecuteTime": {
     "end_time": "2020-07-19T06:42:53.507959Z",
     "start_time": "2020-07-19T06:42:52.949640Z"
    }
   },
   "outputs": [],
   "source": [
    "## Lets consider a toy example\n",
    "from scipy.cluster.hierarchy import dendrogram, linkage  \n",
    "from matplotlib import pyplot as plt"
   ]
  },
  {
   "cell_type": "code",
   "execution_count": null,
   "metadata": {
    "ExecuteTime": {
     "end_time": "2020-07-19T06:42:53.513907Z",
     "start_time": "2020-07-19T06:42:53.508920Z"
    }
   },
   "outputs": [],
   "source": [
    "import numpy as np\n",
    "\n",
    "X = np.array([[5,3],  \n",
    "    [10,15],\n",
    "    [15,12],\n",
    "    [24,10],\n",
    "    [30,30],\n",
    "    [85,70],\n",
    "    [71,80],\n",
    "    [60,78],\n",
    "    [70,55],\n",
    "    [80,91],])"
   ]
  },
  {
   "cell_type": "code",
   "execution_count": null,
   "metadata": {
    "ExecuteTime": {
     "end_time": "2020-07-19T06:42:53.658567Z",
     "start_time": "2020-07-19T06:42:53.514904Z"
    }
   },
   "outputs": [],
   "source": [
    "## Let's plot x and y\n",
    "plt.figure(figsize=(10, 7))\n",
    "plt.scatter(X[:,0],X[:,1])\n",
    "plt.show()\n",
    "           "
   ]
  },
  {
   "cell_type": "code",
   "execution_count": null,
   "metadata": {
    "ExecuteTime": {
     "end_time": "2020-07-19T06:42:53.666547Z",
     "start_time": "2020-07-19T06:42:53.659565Z"
    }
   },
   "outputs": [],
   "source": [
    "linked = linkage(X, 'single')\n",
    "labelList = range(1, 11)"
   ]
  },
  {
   "cell_type": "code",
   "execution_count": null,
   "metadata": {
    "ExecuteTime": {
     "end_time": "2020-07-19T06:43:31.219293Z",
     "start_time": "2020-07-19T06:43:31.214309Z"
    }
   },
   "outputs": [],
   "source": [
    "labelList"
   ]
  },
  {
   "cell_type": "code",
   "execution_count": null,
   "metadata": {
    "ExecuteTime": {
     "end_time": "2020-07-19T06:42:53.836916Z",
     "start_time": "2020-07-19T06:42:53.668542Z"
    },
    "scrolled": false
   },
   "outputs": [],
   "source": [
    "plt.figure(figsize=(10, 7))  \n",
    "dendrogram(linked,  \n",
    "            orientation='top',\n",
    "            labels=labelList,\n",
    "            distance_sort='descending'\n",
    "           )\n",
    "plt.show()  "
   ]
  },
  {
   "cell_type": "code",
   "execution_count": null,
   "metadata": {},
   "outputs": [],
   "source": []
  }
 ],
 "metadata": {
  "anaconda-cloud": {},
  "kernelspec": {
   "display_name": "Python 3",
   "language": "python",
   "name": "python3"
  },
  "language_info": {
   "codemirror_mode": {
    "name": "ipython",
    "version": 3
   },
   "file_extension": ".py",
   "mimetype": "text/x-python",
   "name": "python",
   "nbconvert_exporter": "python",
   "pygments_lexer": "ipython3",
   "version": "3.7.6"
  }
 },
 "nbformat": 4,
 "nbformat_minor": 2
}
