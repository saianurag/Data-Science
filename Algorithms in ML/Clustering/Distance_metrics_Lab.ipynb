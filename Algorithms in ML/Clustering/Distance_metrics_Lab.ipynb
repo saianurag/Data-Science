{
 "cells": [
  {
   "cell_type": "code",
   "execution_count": null,
   "metadata": {
    "ExecuteTime": {
     "end_time": "2020-07-18T01:55:19.406194Z",
     "start_time": "2020-07-18T01:55:16.869089Z"
    }
   },
   "outputs": [],
   "source": [
    "import numpy as np\n",
    "import pandas as pd\n",
    "import math"
   ]
  },
  {
   "cell_type": "markdown",
   "metadata": {},
   "source": [
    "## **Distance Metrics in Machine Learning**"
   ]
  },
  {
   "cell_type": "markdown",
   "metadata": {},
   "source": [
    "---"
   ]
  },
  {
   "cell_type": "markdown",
   "metadata": {},
   "source": [
    "### Euclidean Distance"
   ]
  },
  {
   "cell_type": "markdown",
   "metadata": {},
   "source": [
    "- It represents the shortest distance between two points\n",
    "- Also referred as L2 distance"
   ]
  },
  {
   "cell_type": "markdown",
   "metadata": {},
   "source": [
    "![Eucleadian_Distance](./img/euclidean.JPG)"
   ]
  },
  {
   "cell_type": "markdown",
   "metadata": {},
   "source": [
    "### Task-1 Euclidean Distance\n",
    "\n",
    "**Calculate Euclidean Distances for the following vectors**\n",
    "\n",
    "1. **a(2, 3, 4)** and **b(5, 6, 7)**\n",
    "1. **a(1, 5, 6)** and **b(1, 2, 3)**\n",
    "1. **a(0, 0, 0)** and **b(0, 5, 6)**\n",
    "1. **a(4, 5, 10, 12)**  and  **b(5, 7, 9, 11)**\n",
    "1. **a(1, 0, 5, 7, 9)** and **b(4, 5, 9, 13, 7)**\n",
    "1. **a(2, 2, 2)** and **b(2, 2, 2)**\n",
    "1. **a(1, -2, 3)** and **b(5, 4, 1)**\n"
   ]
  },
  {
   "cell_type": "code",
   "execution_count": null,
   "metadata": {
    "ExecuteTime": {
     "end_time": "2020-07-18T01:32:37.868408Z",
     "start_time": "2020-07-18T01:32:36.844370Z"
    }
   },
   "outputs": [],
   "source": [
    "# importing the required libraries\n",
    "from scipy.spatial import distance"
   ]
  },
  {
   "cell_type": "markdown",
   "metadata": {},
   "source": [
    "- Let us calculate Euclidean distance between two points **a(1,2,3)** and **b(1,7,8)**"
   ]
  },
  {
   "cell_type": "code",
   "execution_count": null,
   "metadata": {
    "ExecuteTime": {
     "end_time": "2020-07-18T02:37:33.572648Z",
     "start_time": "2020-07-18T02:37:33.566630Z"
    }
   },
   "outputs": [],
   "source": [
    "# defining the variables\n",
    "a = (1, 2, 3)\n",
    "b = (1, 7, 8)\n",
    "# calculating the euclidean distance\n",
    "euclidean_distance = distance.euclidean(a, b)\n",
    "print(\"The euclidean distance between {} and {} is {} units\".format(a,b,euclidean_distance))"
   ]
  },
  {
   "cell_type": "markdown",
   "metadata": {},
   "source": [
    "- Let us Calculate another example, consider vectors **a(5,3,4) and b(5,6,8)**"
   ]
  },
  {
   "cell_type": "code",
   "execution_count": null,
   "metadata": {
    "ExecuteTime": {
     "end_time": "2020-07-18T02:37:34.139603Z",
     "start_time": "2020-07-18T02:37:34.133622Z"
    }
   },
   "outputs": [],
   "source": [
    "# defining the variables\n",
    "a = (5, 3, 4)\n",
    "b = (5, 6, 8)\n",
    "# calculating the euclidean distance\n",
    "euclidean_distance = distance.euclidean(a, b)\n",
    "print(\"The euclidean distance between {} and {} is {} units\".format(a,b,euclidean_distance))"
   ]
  },
  {
   "cell_type": "markdown",
   "metadata": {},
   "source": [
    "- Now consider the vectors given in Task-1"
   ]
  },
  {
   "cell_type": "code",
   "execution_count": null,
   "metadata": {
    "ExecuteTime": {
     "end_time": "2020-07-18T02:37:34.941059Z",
     "start_time": "2020-07-18T02:37:34.937024Z"
    }
   },
   "outputs": [],
   "source": [
    "X = [(2,3,4),(1,5,6),(0,0,0),(4,5,10,12),(1,0,5,7,9),(2,2,2),(1,-2,3)] \n",
    "Y = [(5,6,7),(1,2,3),(0,5,6),(5,7,9,11),(4,5,9,13,7),(2,2,2),(5,4,1)]"
   ]
  },
  {
   "cell_type": "code",
   "execution_count": null,
   "metadata": {
    "ExecuteTime": {
     "end_time": "2020-07-18T02:37:35.497442Z",
     "start_time": "2020-07-18T02:37:35.489463Z"
    }
   },
   "outputs": [],
   "source": [
    "def Euclid_distance(a,b):\n",
    "    i=0\n",
    "    for i in range(len(a)):        \n",
    "        euclid_distance = distance.euclidean(a[i],b[i])\n",
    "        print(\"The euclidean distance between {} and {} is {} units\".format(a[i],b[i],round(euclid_distance,3)))\n",
    "Euclid_distance(X,Y)"
   ]
  },
  {
   "cell_type": "markdown",
   "metadata": {},
   "source": [
    "---"
   ]
  },
  {
   "cell_type": "markdown",
   "metadata": {},
   "source": [
    "## **Manhattan Distance**"
   ]
  },
  {
   "cell_type": "markdown",
   "metadata": {},
   "source": [
    "![manhattan](./img/manhatten.JPG)"
   ]
  },
  {
   "cell_type": "markdown",
   "metadata": {},
   "source": [
    "### Task-2 Manhattan Distance\n",
    "\n",
    "**Calculate Manhattan Distances for the following vectors**\n",
    "\n",
    "1. **a(2, 3, 4)** and **b(5, 6, 7)**\n",
    "1. **a(1, 5, 6)** and **b(1, 2, 3)**\n",
    "1. **a(0, 0, 0)** and **b(0, 5, 6)**\n",
    "1. **a(4, 5, 10, 12)**  and  **b(5, 7, 9, 11)**\n",
    "1. **a(1, 0, 5, 7, 9)** and **b(4, 5, 9, 13, 7)**\n",
    "1. **a(2, 2, 2)** and **b(2, 2, 2)**\n",
    "1. **a(1, -2, 3)** and **b(5, 4, 1)**\n"
   ]
  },
  {
   "cell_type": "markdown",
   "metadata": {},
   "source": [
    "- Let us calculate Manhattan distance between two points **a(1,2,3)** and **b(1,7,8)**"
   ]
  },
  {
   "cell_type": "code",
   "execution_count": null,
   "metadata": {
    "ExecuteTime": {
     "end_time": "2020-07-18T02:37:40.269972Z",
     "start_time": "2020-07-18T02:37:40.263991Z"
    }
   },
   "outputs": [],
   "source": [
    "# defining the variables\n",
    "a = (1, 2, 3)\n",
    "b = (1, 7, 8)\n",
    "# calculating the Manhattan distance\n",
    "manhattan_distance = distance.cityblock(a, b)\n",
    "print(\"The Mahattan distance between {} and {} is {} units\".format(a,b,manhattan_distance))"
   ]
  },
  {
   "cell_type": "markdown",
   "metadata": {},
   "source": [
    "- Let us Calculate another example, consider vectors **a(5,3,4) and b(5,6,8)**"
   ]
  },
  {
   "cell_type": "code",
   "execution_count": null,
   "metadata": {
    "ExecuteTime": {
     "end_time": "2020-07-18T02:37:41.678441Z",
     "start_time": "2020-07-18T02:37:41.671459Z"
    }
   },
   "outputs": [],
   "source": [
    "# defining the variables\n",
    "a = (5, 3, 4)\n",
    "b = (5, 6, 8)\n",
    "# calculating the Manhattan distance\n",
    "manhattan_distance = distance.cityblock(a, b)\n",
    "print(\"The Manhattan distance be {} and {} is {} units\".format(a,b,euclidean_distance))"
   ]
  },
  {
   "cell_type": "code",
   "execution_count": null,
   "metadata": {
    "ExecuteTime": {
     "end_time": "2020-07-18T02:38:49.657106Z",
     "start_time": "2020-07-18T02:38:49.651122Z"
    }
   },
   "outputs": [],
   "source": [
    "def Manhattan_distance(a,b):\n",
    "    i=0\n",
    "    for i in range(len(a)):        \n",
    "        manh_distance = distance.cityblock(a[i],b[i])\n",
    "        print(\"The Manhattan distance between {} and {} is {} units\".format(a[i],b[i],round(manh_distance,3)))\n",
    "Manhattan_distance(X,Y)"
   ]
  },
  {
   "cell_type": "markdown",
   "metadata": {},
   "source": [
    "---"
   ]
  },
  {
   "cell_type": "markdown",
   "metadata": {},
   "source": [
    "## **Minkowski Distance**"
   ]
  },
  {
   "cell_type": "markdown",
   "metadata": {
    "ExecuteTime": {
     "end_time": "2020-07-18T04:44:08.116023Z",
     "start_time": "2020-07-18T04:44:08.084154Z"
    }
   },
   "source": [
    "![minkowski](./img/minkowski.JPG)"
   ]
  },
  {
   "cell_type": "markdown",
   "metadata": {
    "ExecuteTime": {
     "end_time": "2020-07-18T02:41:48.739869Z",
     "start_time": "2020-07-18T02:41:48.727862Z"
    }
   },
   "source": [
    "### Task-3 Minkowski Distance\n",
    "\n",
    "**Calculate Minkowski Distances (order-3) for the following vectors**\n",
    "\n",
    "1. **a(2, 3, 4)** and **b(5, 6, 7)**\n",
    "1. **a(1, 5, 6)** and **b(1, 2, 3)**\n",
    "1. **a(0, 0, 0)** and **b(0, 5, 6)**\n",
    "1. **a(4, 5, 10, 12)**  and  **b(5, 7, 9, 11)**\n",
    "1. **a(1, 0, 5, 7, 9)** and **b(4, 5, 9, 13, 7)**\n",
    "1. **a(2, 2, 2)** and **b(2, 2, 2)**\n",
    "1. **a(1, -2, 3)** and **b(5, 4, 1)**\n"
   ]
  },
  {
   "cell_type": "markdown",
   "metadata": {},
   "source": [
    "- Let us calculate Minkowski distance between two points **a(1,2,3)** and **b(1,7,8)**"
   ]
  },
  {
   "cell_type": "code",
   "execution_count": null,
   "metadata": {
    "ExecuteTime": {
     "end_time": "2020-07-18T02:48:11.001342Z",
     "start_time": "2020-07-18T02:48:10.992366Z"
    }
   },
   "outputs": [],
   "source": [
    "# defining the variables\n",
    "a = (1, 2, 3)\n",
    "b = (1, 7, 8)\n",
    "# calculating the Minokowski distance\n",
    "minkowski_distance = distance.minkowski(a, b, p=3)\n",
    "print(\"The Minkowski distance between {} and {} is {} units\".format(a,b,minkowski_distance))"
   ]
  },
  {
   "cell_type": "markdown",
   "metadata": {},
   "source": [
    "- Let us Calculate this distance for another example, consider vectors **a(5,3,4) and b(5,6,8)**"
   ]
  },
  {
   "cell_type": "code",
   "execution_count": null,
   "metadata": {
    "ExecuteTime": {
     "end_time": "2020-07-18T03:00:20.558539Z",
     "start_time": "2020-07-18T03:00:20.551559Z"
    }
   },
   "outputs": [],
   "source": [
    "# defining the variables\n",
    "a = (5, 3, 4)\n",
    "b = (5, 6, 8)\n",
    "c=5\n",
    "# calculating the Minkowski distance\n",
    "minkowski_distance = distance.minkowski(a, b,p=c)\n",
    "print(\"The Minkowski distance between {} and {} is {} units\".format(a,b,minkowski_distance))"
   ]
  },
  {
   "cell_type": "code",
   "execution_count": null,
   "metadata": {
    "ExecuteTime": {
     "end_time": "2020-07-18T04:45:25.718232Z",
     "start_time": "2020-07-18T04:45:25.713208Z"
    }
   },
   "outputs": [],
   "source": [
    "def Minkowski_distance(a,b,c):\n",
    "    i=0\n",
    "    for i in range(len(a)):        \n",
    "        mink_distance = distance.minkowski(a[i],b[i],p=c)\n",
    "        print(\"The Manhattan distance of order {} between {} and {} is {} units\".format(c,a[i],b[i],round(mink_distance,3)))"
   ]
  },
  {
   "cell_type": "code",
   "execution_count": null,
   "metadata": {
    "ExecuteTime": {
     "end_time": "2020-07-18T04:45:30.571265Z",
     "start_time": "2020-07-18T04:45:30.563287Z"
    }
   },
   "outputs": [],
   "source": [
    "Minkowski_distance(X,Y,3)"
   ]
  },
  {
   "cell_type": "markdown",
   "metadata": {},
   "source": [
    "### Task-4 Minkowski Distance\n",
    "\n",
    "**Calculate Minkowski Distances (order-1) for the following vectors and compare the results with the Manhattan distances calculated in Task-2**\n",
    "\n",
    "1. **a(2, 3, 4)** and **b(5, 6, 7)**\n",
    "1. **a(1, 5, 6)** and **b(1, 2, 3)**\n",
    "1. **a(0, 0, 0)** and **b(0, 5, 6)**\n",
    "1. **a(4, 5, 10, 12)**  and  **b(5, 7, 9, 11)**\n",
    "1. **a(1, 0, 5, 7, 9)** and **b(4, 5, 9, 13, 7)**\n",
    "1. **a(2, 2, 2)** and **b(2, 2, 2)**\n",
    "1. **a(1, -2, 3)** and **b(5, 4, 1)**\n"
   ]
  },
  {
   "cell_type": "code",
   "execution_count": null,
   "metadata": {
    "ExecuteTime": {
     "end_time": "2020-07-18T03:05:19.768619Z",
     "start_time": "2020-07-18T03:05:19.759643Z"
    }
   },
   "outputs": [],
   "source": [
    "Minkowski_distance(X,Y,1)"
   ]
  },
  {
   "cell_type": "code",
   "execution_count": null,
   "metadata": {
    "ExecuteTime": {
     "end_time": "2020-07-18T03:05:30.443232Z",
     "start_time": "2020-07-18T03:05:30.437251Z"
    }
   },
   "outputs": [],
   "source": [
    "Manhattan_distance(X,Y)"
   ]
  },
  {
   "cell_type": "markdown",
   "metadata": {},
   "source": [
    "### Task-5 Minkowski Distance\n",
    "\n",
    "**Calculate Minkowski Distances (order-2) for the following vectors and compare the results with the Euclidean distances calculated in Task-2**\n",
    "\n",
    "1. **a(2, 3, 4)** and **b(5, 6, 7)**\n",
    "1. **a(1, 5, 6)** and **b(1, 2, 3)**\n",
    "1. **a(0, 0, 0)** and **b(0, 5, 6)**\n",
    "1. **a(4, 5, 10, 12)**  and  **b(5, 7, 9, 11)**\n",
    "1. **a(1, 0, 5, 7, 9)** and **b(4, 5, 9, 13, 7)**\n",
    "1. **a(2, 2, 2)** and **b(2, 2, 2)**\n",
    "1. **a(1, -2, 3)** and **b(5, 4, 1)**\n"
   ]
  },
  {
   "cell_type": "code",
   "execution_count": null,
   "metadata": {
    "ExecuteTime": {
     "end_time": "2020-07-18T03:06:41.313421Z",
     "start_time": "2020-07-18T03:06:41.307437Z"
    }
   },
   "outputs": [],
   "source": [
    "Minkowski_distance(X,Y,2)"
   ]
  },
  {
   "cell_type": "code",
   "execution_count": null,
   "metadata": {
    "ExecuteTime": {
     "end_time": "2020-07-18T03:06:52.718149Z",
     "start_time": "2020-07-18T03:06:52.710212Z"
    },
    "scrolled": true
   },
   "outputs": [],
   "source": [
    "Euclid_distance(X,Y)"
   ]
  },
  {
   "cell_type": "markdown",
   "metadata": {},
   "source": [
    "---"
   ]
  },
  {
   "cell_type": "markdown",
   "metadata": {},
   "source": [
    "## **Cosine Similarity**"
   ]
  },
  {
   "cell_type": "markdown",
   "metadata": {},
   "source": [
    "![Cos](./img/cosine.JPG)"
   ]
  },
  {
   "cell_type": "markdown",
   "metadata": {},
   "source": [
    "#### **a)** Using a custom function"
   ]
  },
  {
   "cell_type": "code",
   "execution_count": null,
   "metadata": {
    "ExecuteTime": {
     "end_time": "2020-07-18T04:34:22.877976Z",
     "start_time": "2020-07-18T04:34:22.872989Z"
    }
   },
   "outputs": [],
   "source": [
    "def cos_sim(a, b):    \n",
    "    norm_a = np.linalg.norm(a)\n",
    "    norm_b = np.linalg.norm(b)\n",
    "    return np.dot(a, b) / (norm_a * norm_b)"
   ]
  },
  {
   "cell_type": "markdown",
   "metadata": {},
   "source": [
    "- Let us calculate Cosine similarity between two vectors **a(1,2,3)** and **b(1,7,8)**"
   ]
  },
  {
   "cell_type": "code",
   "execution_count": null,
   "metadata": {
    "ExecuteTime": {
     "end_time": "2020-07-18T04:34:24.437862Z",
     "start_time": "2020-07-18T04:34:24.431877Z"
    }
   },
   "outputs": [],
   "source": [
    "a=(1,2,3)\n",
    "b=(1,7,8)\n",
    "cosine_sim = cos_sim(a,b)\n",
    "print(\"The Cosine similarity between {} and {} is {}\".format(a,b,round(cosine_sim,3)))"
   ]
  },
  {
   "cell_type": "markdown",
   "metadata": {
    "ExecuteTime": {
     "end_time": "2020-07-18T03:37:02.430427Z",
     "start_time": "2020-07-18T03:37:02.422501Z"
    }
   },
   "source": [
    "### Task-6 Cosine Similarity\n",
    "\n",
    "**Calculate Cosine Similarity for the following vectors**\n",
    "\n",
    "1. **a(2, 3, 4)** and **b(5, 6, 7)**\n",
    "1. **a(1, 5, 6)** and **b(1, 2, 3)**\n",
    "1. **a(0, 0, 0)** and **b(0, 5, 6)**\n",
    "1. **a(4, 5, 10, 12)**  and  **b(5, 7, 9, 11)**\n",
    "1. **a(1, 0, 5, 7, 9)** and **b(4, 5, 9, 13, 7)**\n",
    "1. **a(2, 2, 2)** and **b(2, 2, 2)**\n",
    "1. **a(1, -2, 3)** and **b(5, 4, 1)**\n"
   ]
  },
  {
   "cell_type": "code",
   "execution_count": null,
   "metadata": {
    "ExecuteTime": {
     "end_time": "2020-07-18T03:36:08.878942Z",
     "start_time": "2020-07-18T03:36:08.872960Z"
    }
   },
   "outputs": [],
   "source": [
    "def Cosine_Similarity(a,b):\n",
    "    i=0\n",
    "    for i in range(len(a)):        \n",
    "        cosine_sim = cos_sim(a[i],b[i])\n",
    "        print(\"The Cosine similarity between {} and {} is {}\".format(a[i],b[i],round(cosine_sim,3)))\n",
    "Cosine_Similarity(X,Y)"
   ]
  },
  {
   "cell_type": "markdown",
   "metadata": {},
   "source": [
    "#### b) From sklearn"
   ]
  },
  {
   "cell_type": "code",
   "execution_count": null,
   "metadata": {
    "ExecuteTime": {
     "end_time": "2020-07-18T04:49:12.082298Z",
     "start_time": "2020-07-18T04:49:12.071331Z"
    }
   },
   "outputs": [],
   "source": [
    "from sklearn.metrics.pairwise import cosine_similarity\n",
    "\n",
    "a=[1, -2, 2]\n",
    "b=[1 ,7 ,8]\n",
    "cosine_sim = cosine_similarity([a],[b])\n",
    "print(\"The Cosine similarity between {} and {} is {}\".format(a,b,(cosine_sim)))"
   ]
  },
  {
   "cell_type": "code",
   "execution_count": null,
   "metadata": {
    "ExecuteTime": {
     "end_time": "2020-07-18T04:47:45.690076Z",
     "start_time": "2020-07-18T04:47:45.683093Z"
    }
   },
   "outputs": [],
   "source": [
    "round(cos_sim(a,b),8)"
   ]
  },
  {
   "cell_type": "code",
   "execution_count": null,
   "metadata": {
    "ExecuteTime": {
     "end_time": "2020-07-18T04:49:53.779669Z",
     "start_time": "2020-07-18T04:49:53.768699Z"
    }
   },
   "outputs": [],
   "source": [
    "from sklearn.metrics.pairwise import cosine_similarity\n",
    "\n",
    "a=[[1, -2, 2],[1,3,5]]\n",
    "b=[[1 ,7 ,8],[0,9,5]]\n",
    "cosine_sim = cosine_similarity(a,b)\n",
    "print(\"The Cosine similarity between {} and {} is {}\".format(a,b,(cosine_sim)))"
   ]
  },
  {
   "cell_type": "code",
   "execution_count": null,
   "metadata": {},
   "outputs": [],
   "source": []
  },
  {
   "cell_type": "code",
   "execution_count": null,
   "metadata": {},
   "outputs": [],
   "source": []
  },
  {
   "cell_type": "code",
   "execution_count": null,
   "metadata": {},
   "outputs": [],
   "source": []
  }
 ],
 "metadata": {
  "kernelspec": {
   "display_name": "Python 3",
   "language": "python",
   "name": "python3"
  },
  "language_info": {
   "codemirror_mode": {
    "name": "ipython",
    "version": 3
   },
   "file_extension": ".py",
   "mimetype": "text/x-python",
   "name": "python",
   "nbconvert_exporter": "python",
   "pygments_lexer": "ipython3",
   "version": "3.7.6"
  }
 },
 "nbformat": 4,
 "nbformat_minor": 4
}
