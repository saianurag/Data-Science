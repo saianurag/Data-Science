{
 "cells": [
  {
   "cell_type": "markdown",
   "metadata": {
    "toc": true
   },
   "source": [
    "<h1>Table of Contents<span class=\"tocSkip\"></span></h1>\n",
    "<div class=\"toc\"><ul class=\"toc-item\"><li><span><a href=\"#Problem-Statement:\" data-toc-modified-id=\"Problem-Statement:-1\"><span class=\"toc-item-num\">1&nbsp;&nbsp;</span>Problem Statement:</a></span><ul class=\"toc-item\"><li><span><a href=\"#Dataset-Description:\" data-toc-modified-id=\"Dataset-Description:-1.1\"><span class=\"toc-item-num\">1.1&nbsp;&nbsp;</span>Dataset Description:</a></span></li><li><span><a href=\"#Atribute-description\" data-toc-modified-id=\"Atribute-description-1.2\"><span class=\"toc-item-num\">1.2&nbsp;&nbsp;</span>Atribute description</a></span></li></ul></li><li><span><a href=\"#Import-libraries\" data-toc-modified-id=\"Import-libraries-2\"><span class=\"toc-item-num\">2&nbsp;&nbsp;</span>Import libraries</a></span></li><li><span><a href=\"#Load-data\" data-toc-modified-id=\"Load-data-3\"><span class=\"toc-item-num\">3&nbsp;&nbsp;</span>Load data</a></span></li><li><span><a href=\"#Data-Understanding\" data-toc-modified-id=\"Data-Understanding-4\"><span class=\"toc-item-num\">4&nbsp;&nbsp;</span>Data Understanding</a></span><ul class=\"toc-item\"><li><span><a href=\"#Number-of-records-and-columns\" data-toc-modified-id=\"Number-of-records-and-columns-4.1\"><span class=\"toc-item-num\">4.1&nbsp;&nbsp;</span>Number of records and columns</a></span></li><li><span><a href=\"#See-the-first-five-records\" data-toc-modified-id=\"See-the-first-five-records-4.2\"><span class=\"toc-item-num\">4.2&nbsp;&nbsp;</span>See the first five records</a></span></li><li><span><a href=\"#Different-classes-in-Outcome-variable\" data-toc-modified-id=\"Different-classes-in-Outcome-variable-4.3\"><span class=\"toc-item-num\">4.3&nbsp;&nbsp;</span>Different classes in Outcome variable</a></span></li><li><span><a href=\"#Display-data-type-of-each-variable\" data-toc-modified-id=\"Display-data-type-of-each-variable-4.4\"><span class=\"toc-item-num\">4.4&nbsp;&nbsp;</span>Display data type of each variable</a></span></li><li><span><a href=\"#Identifying-categorical-attributes\" data-toc-modified-id=\"Identifying-categorical-attributes-4.5\"><span class=\"toc-item-num\">4.5&nbsp;&nbsp;</span>Identifying categorical attributes</a></span></li><li><span><a href=\"#Converting-to-appropriate-datatype\" data-toc-modified-id=\"Converting-to-appropriate-datatype-4.6\"><span class=\"toc-item-num\">4.6&nbsp;&nbsp;</span>Converting to appropriate datatype</a></span></li><li><span><a href=\"#Display-data-type-of-each-variable-after-conversion\" data-toc-modified-id=\"Display-data-type-of-each-variable-after-conversion-4.7\"><span class=\"toc-item-num\">4.7&nbsp;&nbsp;</span>Display data type of each variable after conversion</a></span></li><li><span><a href=\"#Dropping-ID-column-and-checking-the-length-of-columns\" data-toc-modified-id=\"Dropping-ID-column-and-checking-the-length-of-columns-4.8\"><span class=\"toc-item-num\">4.8&nbsp;&nbsp;</span>Dropping ID column and checking the length of columns</a></span></li><li><span><a href=\"#Display-summary-statistics\" data-toc-modified-id=\"Display-summary-statistics-4.9\"><span class=\"toc-item-num\">4.9&nbsp;&nbsp;</span>Display summary statistics</a></span></li><li><span><a href=\"#Check-the-distribution-of-all-categorical-attributes\" data-toc-modified-id=\"Check-the-distribution-of-all-categorical-attributes-4.10\"><span class=\"toc-item-num\">4.10&nbsp;&nbsp;</span>Check the distribution of all categorical attributes</a></span></li><li><span><a href=\"#Checking-for-null-values\" data-toc-modified-id=\"Checking-for-null-values-4.11\"><span class=\"toc-item-num\">4.11&nbsp;&nbsp;</span>Checking for null values</a></span></li></ul></li><li><span><a href=\"#Divide-the-data-into-train-and-test\" data-toc-modified-id=\"Divide-the-data-into-train-and-test-5\"><span class=\"toc-item-num\">5&nbsp;&nbsp;</span>Divide the data into train and test</a></span></li><li><span><a href=\"#Preprocessing\" data-toc-modified-id=\"Preprocessing-6\"><span class=\"toc-item-num\">6&nbsp;&nbsp;</span>Preprocessing</a></span><ul class=\"toc-item\"><li><span><a href=\"#Display-all-the-columns\" data-toc-modified-id=\"Display-all-the-columns-6.1\"><span class=\"toc-item-num\">6.1&nbsp;&nbsp;</span>Display all the columns</a></span></li><li><span><a href=\"#Creating-a-list-of-numerical-attributes-and-categorical-list\" data-toc-modified-id=\"Creating-a-list-of-numerical-attributes-and-categorical-list-6.2\"><span class=\"toc-item-num\">6.2&nbsp;&nbsp;</span>Creating a list of numerical attributes and categorical list</a></span></li><li><span><a href=\"#LabelEncoder--:-Target-Attributes\" data-toc-modified-id=\"LabelEncoder--:-Target-Attributes-6.3\"><span class=\"toc-item-num\">6.3&nbsp;&nbsp;</span>LabelEncoder  : Target Attributes</a></span></li><li><span><a href=\"#Standard-Scaler-:-Independent-Numberic-Attributes\" data-toc-modified-id=\"Standard-Scaler-:-Independent-Numberic-Attributes-6.4\"><span class=\"toc-item-num\">6.4&nbsp;&nbsp;</span>Standard Scaler : Independent Numberic Attributes</a></span></li><li><span><a href=\"#OneHotEncoder-:-Independent-Categorical-Attributes\" data-toc-modified-id=\"OneHotEncoder-:-Independent-Categorical-Attributes-6.5\"><span class=\"toc-item-num\">6.5&nbsp;&nbsp;</span>OneHotEncoder : Independent Categorical Attributes</a></span></li><li><span><a href=\"#Concatenate\" data-toc-modified-id=\"Concatenate-6.6\"><span class=\"toc-item-num\">6.6&nbsp;&nbsp;</span>Concatenate</a></span></li></ul></li><li><span><a href=\"#Error-Metrics\" data-toc-modified-id=\"Error-Metrics-7\"><span class=\"toc-item-num\">7&nbsp;&nbsp;</span>Error Metrics</a></span><ul class=\"toc-item\"><li><span><a href=\"#Function-to-calculate-accuracy,-recall,-precision-and-F1-score\" data-toc-modified-id=\"Function-to-calculate-accuracy,-recall,-precision-and-F1-score-7.1\"><span class=\"toc-item-num\">7.1&nbsp;&nbsp;</span>Function to calculate accuracy, recall, precision and F1 score</a></span></li><li><span><a href=\"#Function-for-Classification-Report\" data-toc-modified-id=\"Function-for-Classification-Report-7.2\"><span class=\"toc-item-num\">7.2&nbsp;&nbsp;</span>Function for Classification Report</a></span></li></ul></li><li><span><a href=\"#Model-Building\" data-toc-modified-id=\"Model-Building-8\"><span class=\"toc-item-num\">8&nbsp;&nbsp;</span>Model Building</a></span><ul class=\"toc-item\"><li><span><a href=\"#Decision-Trees\" data-toc-modified-id=\"Decision-Trees-8.1\"><span class=\"toc-item-num\">8.1&nbsp;&nbsp;</span>Decision Trees</a></span></li><li><span><a href=\"#Random-Forests\" data-toc-modified-id=\"Random-Forests-8.2\"><span class=\"toc-item-num\">8.2&nbsp;&nbsp;</span>Random Forests</a></span></li><li><span><a href=\"#AdaBoost\" data-toc-modified-id=\"AdaBoost-8.3\"><span class=\"toc-item-num\">8.3&nbsp;&nbsp;</span>AdaBoost</a></span></li><li><span><a href=\"#Build-Gradient-Boosting-Classifier\" data-toc-modified-id=\"Build-Gradient-Boosting-Classifier-8.4\"><span class=\"toc-item-num\">8.4&nbsp;&nbsp;</span>Build Gradient Boosting Classifier</a></span><ul class=\"toc-item\"><li><span><a href=\"#XGBOOST\" data-toc-modified-id=\"XGBOOST-8.4.1\"><span class=\"toc-item-num\">8.4.1&nbsp;&nbsp;</span>XGBOOST</a></span><ul class=\"toc-item\"><li><span><a href=\"#Create-XGBoost-Classifier\" data-toc-modified-id=\"Create-XGBoost-Classifier-8.4.1.1\"><span class=\"toc-item-num\">8.4.1.1&nbsp;&nbsp;</span>Create XGBoost Classifier</a></span></li></ul></li><li><span><a href=\"#Extracting-the-important-features\" data-toc-modified-id=\"Extracting-the-important-features-8.4.2\"><span class=\"toc-item-num\">8.4.2&nbsp;&nbsp;</span>Extracting the important features</a></span></li></ul></li><li><span><a href=\"#Stacking:\" data-toc-modified-id=\"Stacking:-8.5\"><span class=\"toc-item-num\">8.5&nbsp;&nbsp;</span>Stacking:</a></span><ul class=\"toc-item\"><li><span><a href=\"#References:\" data-toc-modified-id=\"References:-8.5.1\"><span class=\"toc-item-num\">8.5.1&nbsp;&nbsp;</span>References:</a></span></li></ul></li></ul></li></ul></div>"
   ]
  },
  {
   "cell_type": "markdown",
   "metadata": {},
   "source": [
    "# Problem Statement: \n",
    "\n",
    "Tennis Australia Open is trying to better automate how tennis points get categorized into three outcomes – \n",
    "\n",
    "* `Winner` – the point winning player hits a shot that is not touched by the opponent\n",
    "* `Forced error` – the point winning player hits a shot that causes the opponent to not be able to return it, i.e. a good shot that is hard to handle\n",
    "* `Unforced error` – the player attempting to return the ball makes an error on an otherwise normal looking rally shot"
   ]
  },
  {
   "cell_type": "markdown",
   "metadata": {},
   "source": [
    "## Dataset Description:\n",
    "\n",
    "The dataset includes point outcomes of rallies only. All points were played at a past Australian Open."
   ]
  },
  {
   "cell_type": "markdown",
   "metadata": {},
   "source": [
    "## Atribute description"
   ]
  },
  {
   "cell_type": "markdown",
   "metadata": {},
   "source": [
    "| Variable | Description| Value Range |\n",
    "| :- | -: | :-: |\n",
    "rally | The number of shots in the point counting serves and point-ending shot | An integer from 1, 2, 3...\n",
    "| serve | A number indicating whether the point was played on a first or second serve.  | 1 = First, 2 = Second\n",
    "| hitpoint | Shot category for point-ending shot | F = Forehand, B = Backhand, V = Volley, U = Unknown\n",
    "| speed | Speed of point-ending shot | Continuous (m/s)\n",
    "| net.clearance | Distance above the net as point-ending shot passed the net | Continuous (cm) distance above net. Can be negative if shot did not pass above the net.\n",
    "| distance.from.sideline | Lateral distance of the point-ending shot bounce from the nearest singles sideline. | Perpendicular distance in meters (always positive even if out)\n",
    "| depth | Distance of the point-ending shot bounce from the baseline | Perpendicular distance in meters\n",
    "(always positive even if out)\n",
    "| outside.sideline | Logical indicator of whether point-ending shot landed outside of the in-play singles sideline | TRUE, FALSE\n",
    "| outside.baseline | Logical indicator of whether point-ending shot landed beyond the in-play baseline | TRUE, FALSE\n",
    "| player.distance.travelled | Distance player who made the point-ending shot travelled between the impact of the penultimate shot and the impact of the point-ending shot | Euclidean distance in meters\n",
    "| player.impact.depth | Distance of player who made point-ending shot from the net at the time the point-ending shot was made | Perpendicular distance along the length of court from net in meters\n",
    "| player.impact.distance.from.center | Distance of player who made point-ending shot from the center line at the time the point-ending shot was made | Perpendicular distance from the center line in meters\n",
    "| player.depth | Distance of player who made point-ending shot from the net at the time the penultimate shot was made | Perpendicular distance along the length of court from net in meters\n",
    "| player.distance.from.center | Distance of player who made point-ending shot from the center line at the time the penultimate shot was made | Perpendicular distance from the center line in meters\n",
    "| opponent.depth | Distance of opponent from the net at the time the at the time the penultimate shot was made | Perpendicular distance along the length of court from net in meters\n",
    "| opponent.distance.from.center | Distance of opponent from the center line at the time the penultimate shot was made | Perpendicular distance from the center line in meters\n",
    "| same.side | Logical indicator if both player and opponent were positioned on the same side of the center line (ad or deuce court) at the time the penultimate shot was made | TRUE, FALSE\n",
    "| previous.speed | Speed of penultimate shot | Continuous (m/s)\n",
    "| previous.net.clearance | Distance above the net as penultimate shot passed the net | Continuous (cm) distance above net. Can be negative if shot did not pass above the net.\n",
    "| previous.distance.from.sideline | Lateral distance of the penultimate  shot bounce from the nearest singles sideline. | Perpendicular distance in meters (always positive even if out)\n",
    "| previous.depth | Distance of the penultimate shot bounce from the baseline | Perpendicular distance in meters\n",
    "(always positive even if out)\n",
    "| previous.hitpoint | Shot category for penultimate shot | F = Forehand, B = Backhand, V = Volley, U = Unknown\n",
    "| previous.time.to.net | Time for penultimate shot to be hit and pass the net | Continuous number in seconds\n",
    "| server.is.impact.player | Logical if player who made point-ending shot was the server of the point | TRUE, FALSE\n",
    "| outcome | Target variable, character with three categories indicating the type of shot that ended the point  | W (Winner), FE (Forced Error), UE (Unforced Error)\n",
    "| id | A 10-character unique identifier for the point | Character"
   ]
  },
  {
   "cell_type": "markdown",
   "metadata": {},
   "source": [
    "# Import libraries"
   ]
  },
  {
   "cell_type": "code",
   "execution_count": null,
   "metadata": {},
   "outputs": [],
   "source": [
    "import pandas as pd\n",
    "import numpy as np\n",
    "\n",
    "from sklearn.model_selection import train_test_split\n",
    "\n",
    "from sklearn.preprocessing import StandardScaler, OneHotEncoder, LabelEncoder\n",
    "from sklearn.metrics import accuracy_score, recall_score, precision_score, f1_score, classification_report\n",
    "\n",
    "from sklearn.linear_model import LogisticRegression\n",
    "\n",
    "from sklearn.tree import DecisionTreeClassifier\n",
    "from sklearn.ensemble import AdaBoostClassifier, RandomForestClassifier, GradientBoostingClassifier\n",
    "\n",
    "from xgboost import XGBClassifier\n",
    "\n",
    "from vecstack import stacking\n",
    "\n",
    "from sklearn.model_selection import GridSearchCV"
   ]
  },
  {
   "cell_type": "markdown",
   "metadata": {},
   "source": [
    "# Load data"
   ]
  },
  {
   "cell_type": "code",
   "execution_count": null,
   "metadata": {},
   "outputs": [],
   "source": [
    "data = pd.read_csv(\"/home/datasets/lab/tennis.csv\")"
   ]
  },
  {
   "cell_type": "markdown",
   "metadata": {},
   "source": [
    "# Data Understanding"
   ]
  },
  {
   "cell_type": "markdown",
   "metadata": {},
   "source": [
    "## Number of records and columns"
   ]
  },
  {
   "cell_type": "code",
   "execution_count": null,
   "metadata": {},
   "outputs": [],
   "source": [
    "<>"
   ]
  },
  {
   "cell_type": "markdown",
   "metadata": {},
   "source": [
    "## See the first five records"
   ]
  },
  {
   "cell_type": "code",
   "execution_count": null,
   "metadata": {},
   "outputs": [],
   "source": [
    "<>"
   ]
  },
  {
   "cell_type": "markdown",
   "metadata": {},
   "source": [
    "## Different classes in Outcome variable"
   ]
  },
  {
   "cell_type": "code",
   "execution_count": null,
   "metadata": {},
   "outputs": [],
   "source": [
    "data.outcome.value_counts()"
   ]
  },
  {
   "cell_type": "code",
   "execution_count": null,
   "metadata": {},
   "outputs": [],
   "source": [
    "data.outcome.value_counts(normalize= True)*100"
   ]
  },
  {
   "cell_type": "markdown",
   "metadata": {},
   "source": [
    "## Display data type of each variable"
   ]
  },
  {
   "cell_type": "code",
   "execution_count": null,
   "metadata": {
    "scrolled": false
   },
   "outputs": [],
   "source": [
    "<>"
   ]
  },
  {
   "cell_type": "markdown",
   "metadata": {},
   "source": [
    "## Identifying categorical attributes"
   ]
  },
  {
   "cell_type": "code",
   "execution_count": null,
   "metadata": {},
   "outputs": [],
   "source": [
    "categorical_list = [\"hitpoint\",\"outside.sideline\",\n",
    "                    \"outside.baseline\",\"same.side\",\n",
    "                    \"previous.hitpoint\",\n",
    "                    \"server.is.impact.player\",\n",
    "                    \"gender\",\"outcome\"]"
   ]
  },
  {
   "cell_type": "markdown",
   "metadata": {},
   "source": [
    "## Converting to appropriate datatype"
   ]
  },
  {
   "cell_type": "code",
   "execution_count": null,
   "metadata": {},
   "outputs": [],
   "source": [
    "data[categorical_list] = data[categorical_list].astype(\"  <> \")    "
   ]
  },
  {
   "cell_type": "markdown",
   "metadata": {},
   "source": [
    "## Display data type of each variable after conversion"
   ]
  },
  {
   "cell_type": "code",
   "execution_count": null,
   "metadata": {},
   "outputs": [],
   "source": [
    "<>"
   ]
  },
  {
   "cell_type": "markdown",
   "metadata": {},
   "source": [
    "## Dropping ID column and checking the length of columns"
   ]
  },
  {
   "cell_type": "code",
   "execution_count": null,
   "metadata": {},
   "outputs": [],
   "source": [
    "len(data['ID'].unique())"
   ]
  },
  {
   "cell_type": "code",
   "execution_count": null,
   "metadata": {},
   "outputs": [],
   "source": [
    "data.shape"
   ]
  },
  {
   "cell_type": "code",
   "execution_count": null,
   "metadata": {},
   "outputs": [],
   "source": [
    "data.drop([\"ID\"], axis= , inplace= )\n",
    "\n",
    "len(data.columns)"
   ]
  },
  {
   "cell_type": "markdown",
   "metadata": {},
   "source": [
    "## Display summary statistics "
   ]
  },
  {
   "cell_type": "code",
   "execution_count": null,
   "metadata": {
    "scrolled": true
   },
   "outputs": [],
   "source": [
    "<>"
   ]
  },
  {
   "cell_type": "code",
   "execution_count": null,
   "metadata": {},
   "outputs": [],
   "source": [
    "data. <>(include=['category'])"
   ]
  },
  {
   "cell_type": "markdown",
   "metadata": {},
   "source": [
    "## Check the distribution of all categorical attributes"
   ]
  },
  {
   "cell_type": "code",
   "execution_count": null,
   "metadata": {},
   "outputs": [],
   "source": [
    "for i in categorical_list:\n",
    "    print(data[i].value_counts(normalize=True)*100)"
   ]
  },
  {
   "cell_type": "markdown",
   "metadata": {},
   "source": [
    "## Checking for null values"
   ]
  },
  {
   "cell_type": "code",
   "execution_count": null,
   "metadata": {
    "scrolled": false
   },
   "outputs": [],
   "source": [
    "data.<>"
   ]
  },
  {
   "cell_type": "markdown",
   "metadata": {},
   "source": [
    "# Divide the data into train and test"
   ]
  },
  {
   "cell_type": "code",
   "execution_count": null,
   "metadata": {},
   "outputs": [],
   "source": [
    "y = data[\"outcome\"]\n",
    "X = data.drop('outcome', axis=1)\n",
    "\n",
    "X_train, X_test, y_train, y_test = train_test_split(X, y, test_size=0.30, random_state=123, stratify=y)\n",
    "\n",
    "print(X_train.shape)\n",
    "print(X_test.shape)\n",
    "print(y_train.shape)\n",
    "print(y_test.shape)"
   ]
  },
  {
   "cell_type": "markdown",
   "metadata": {},
   "source": [
    "# Preprocessing"
   ]
  },
  {
   "cell_type": "markdown",
   "metadata": {},
   "source": [
    "## Display all the columns"
   ]
  },
  {
   "cell_type": "code",
   "execution_count": null,
   "metadata": {},
   "outputs": [],
   "source": [
    "data.columns"
   ]
  },
  {
   "cell_type": "markdown",
   "metadata": {},
   "source": [
    "## Creating a list of numerical attributes and categorical list"
   ]
  },
  {
   "cell_type": "code",
   "execution_count": null,
   "metadata": {},
   "outputs": [],
   "source": [
    "numeric_list = ['rally', 'serve', 'speed', 'net.clearance',\n",
    "                'distance.from.sideline', 'depth',\n",
    "                'player.distance.travelled', 'player.impact.depth',\n",
    "                'player.impact.distance.from.center',\n",
    "                'player.depth', 'player.distance.from.center',\n",
    "                'previous.speed', 'previous.net.clearance',\n",
    "                'previous.distance.from.sideline', 'previous.depth',\n",
    "                'opponent.depth', 'opponent.distance.from.center',\n",
    "                'previous.time.to.net']\n",
    "\n",
    "categorical_list = [\"hitpoint\", \"outside.sideline\", \"outside.baseline\", \"same.side\", \n",
    "                    \"previous.hitpoint\", \"server.is.impact.player\", \"gender\"]"
   ]
  },
  {
   "cell_type": "code",
   "execution_count": null,
   "metadata": {
    "scrolled": true
   },
   "outputs": [],
   "source": [
    "len(numeric_list)"
   ]
  },
  {
   "cell_type": "code",
   "execution_count": null,
   "metadata": {
    "scrolled": true
   },
   "outputs": [],
   "source": [
    "len(categorical_list)"
   ]
  },
  {
   "cell_type": "markdown",
   "metadata": {},
   "source": [
    "## LabelEncoder  : Target Attributes"
   ]
  },
  {
   "cell_type": "code",
   "execution_count": null,
   "metadata": {},
   "outputs": [],
   "source": [
    "y_train.value_counts()"
   ]
  },
  {
   "cell_type": "code",
   "execution_count": null,
   "metadata": {},
   "outputs": [],
   "source": [
    "le = LabelEncoder()\n",
    "\n",
    "le.fit(y_train)\n",
    "\n",
    "y_train = le.transform(y_train)\n",
    "y_test = le.transform(y_test)"
   ]
  },
  {
   "cell_type": "code",
   "execution_count": null,
   "metadata": {},
   "outputs": [],
   "source": [
    "print(le.classes_)\n",
    "print(le.inverse_transform([0, 1, 2]))"
   ]
  },
  {
   "cell_type": "code",
   "execution_count": null,
   "metadata": {},
   "outputs": [],
   "source": [
    "np.unique(y_train, return_counts=True)\n",
    "# 0 - Forced Error, 1 - Unforced Error, W - Winner"
   ]
  },
  {
   "cell_type": "code",
   "execution_count": null,
   "metadata": {},
   "outputs": [],
   "source": [
    "np.unique(y_test, return_counts=True)"
   ]
  },
  {
   "cell_type": "markdown",
   "metadata": {},
   "source": [
    "## Standard Scaler : Independent Numberic Attributes"
   ]
  },
  {
   "cell_type": "code",
   "execution_count": null,
   "metadata": {},
   "outputs": [],
   "source": [
    "scaler = StandardScaler()\n",
    "scaler.fit(X_train[numeric_list])\n",
    "\n",
    "X_train_num = pd.DataFrame(scaler.transform(X_train[numeric_list]), columns=numeric_list)\n",
    "X_test_num = pd.DataFrame(scaler.transform(X_test[numeric_list]), columns=numeric_list)"
   ]
  },
  {
   "cell_type": "code",
   "execution_count": null,
   "metadata": {},
   "outputs": [],
   "source": [
    "X_train_num.head()"
   ]
  },
  {
   "cell_type": "markdown",
   "metadata": {},
   "source": [
    "## OneHotEncoder : Independent Categorical Attributes"
   ]
  },
  {
   "cell_type": "code",
   "execution_count": null,
   "metadata": {},
   "outputs": [],
   "source": [
    "ohe = OneHotEncoder()\n",
    "\n",
    "ohe.fit(X_train[categorical_list])\n",
    "\n",
    "columns_ohe = list(ohe.get_feature_names(categorical_list))\n",
    "print(columns_ohe)"
   ]
  },
  {
   "cell_type": "code",
   "execution_count": null,
   "metadata": {},
   "outputs": [],
   "source": [
    "X_train_cat = ohe.transform(X_train[categorical_list])\n",
    "X_test_cat  = ohe.transform(X_test[categorical_list])"
   ]
  },
  {
   "cell_type": "code",
   "execution_count": null,
   "metadata": {},
   "outputs": [],
   "source": [
    "X_train_cat = pd.DataFrame(X_train_cat.todense(), columns=columns_ohe)\n",
    "X_test_cat  = pd.DataFrame(X_test_cat.todense(), columns=columns_ohe)"
   ]
  },
  {
   "cell_type": "code",
   "execution_count": null,
   "metadata": {},
   "outputs": [],
   "source": [
    "X_train_cat.head()"
   ]
  },
  {
   "cell_type": "markdown",
   "metadata": {},
   "source": [
    "## Concatenate"
   ]
  },
  {
   "cell_type": "code",
   "execution_count": null,
   "metadata": {},
   "outputs": [],
   "source": [
    "X_train = pd.concat([X_train_num, X_train_cat], axis=1)\n",
    "X_test = pd.concat([X_test_num, X_test_cat], axis=1)"
   ]
  },
  {
   "cell_type": "code",
   "execution_count": null,
   "metadata": {},
   "outputs": [],
   "source": [
    "print(X_train.shape, X_test.shape)"
   ]
  },
  {
   "cell_type": "code",
   "execution_count": null,
   "metadata": {
    "scrolled": true
   },
   "outputs": [],
   "source": [
    "X_train.head()"
   ]
  },
  {
   "cell_type": "code",
   "execution_count": null,
   "metadata": {},
   "outputs": [],
   "source": [
    "X_test.head()"
   ]
  },
  {
   "cell_type": "markdown",
   "metadata": {
    "colab_type": "text",
    "id": "LaCrCouj867P"
   },
   "source": [
    "# Error Metrics"
   ]
  },
  {
   "cell_type": "markdown",
   "metadata": {},
   "source": [
    "## Function to calculate accuracy, recall, precision and F1 score"
   ]
  },
  {
   "cell_type": "code",
   "execution_count": null,
   "metadata": {
    "ExecuteTime": {
     "end_time": "2020-03-06T10:32:34.925827Z",
     "start_time": "2020-03-06T10:32:34.910844Z"
    },
    "colab": {},
    "colab_type": "code",
    "id": "JYJp3Qo5viNe"
   },
   "outputs": [],
   "source": [
    "scores = pd.DataFrame(columns=['Model', 'Train_Accuracy', 'Train_Recall', 'Train_Precision', 'Train_F1_Score', \n",
    "                               'Test_Accuracy', 'Test_Recall', 'Test_Precision', 'Test_F1_Score'])\n",
    "\n",
    "def get_metrics(train_actual, train_predicted, test_actual, test_predicted, model_description, dataframe):\n",
    "\n",
    "    train_accuracy  = accuracy_score(train_actual, train_predicted)\n",
    "    train_recall    = recall_score(train_actual, train_predicted, average=\"weighted\")\n",
    "    train_precision = precision_score(train_actual, train_predicted, average=\"weighted\")\n",
    "    train_f1score   = f1_score(train_actual, train_predicted, average=\"weighted\")\n",
    "    \n",
    "    test_accuracy   = accuracy_score(test_actual, test_predicted)\n",
    "    test_recall     = recall_score(test_actual, test_predicted, average=\"weighted\")\n",
    "    test_precision  = precision_score(test_actual, test_predicted, average=\"weighted\")\n",
    "    test_f1score    = f1_score(test_actual, test_predicted, average=\"weighted\")\n",
    "\n",
    "    dataframe       = dataframe.append(pd.Series([model_description, \n",
    "                                                  train_accuracy, train_recall, train_precision, train_f1score,\n",
    "                                                  test_accuracy, test_recall, test_precision, test_f1score],\n",
    "                                                 index=scores.columns ), \n",
    "                                       ignore_index=True)\n",
    "\n",
    "    return(dataframe)"
   ]
  },
  {
   "cell_type": "markdown",
   "metadata": {},
   "source": [
    "## Function for Classification Report"
   ]
  },
  {
   "cell_type": "code",
   "execution_count": null,
   "metadata": {
    "ExecuteTime": {
     "end_time": "2020-03-06T10:32:35.165305Z",
     "start_time": "2020-03-06T10:32:34.927798Z"
    },
    "colab": {},
    "colab_type": "code",
    "id": "Vd9891yaxMtM"
   },
   "outputs": [],
   "source": [
    "def classifcation_report_train_test(y_train, y_train_pred, y_test, y_test_pred):\n",
    "\n",
    "    print('''\n",
    "            =========================================\n",
    "               CLASSIFICATION REPORT FOR TRAIN DATA\n",
    "            =========================================\n",
    "            ''')\n",
    "    print(classification_report(y_train, y_train_pred, digits=4))\n",
    "\n",
    "    print('''\n",
    "            =========================================\n",
    "               CLASSIFICATION REPORT FOR TEST DATA\n",
    "            =========================================\n",
    "            ''')\n",
    "    print(classification_report(y_test, y_test_pred, digits=4))"
   ]
  },
  {
   "cell_type": "markdown",
   "metadata": {},
   "source": [
    "# Model Building"
   ]
  },
  {
   "cell_type": "markdown",
   "metadata": {},
   "source": [
    "## Decision Trees"
   ]
  },
  {
   "cell_type": "code",
   "execution_count": null,
   "metadata": {},
   "outputs": [],
   "source": [
    "clf_dt = DecisionTreeClassifier()"
   ]
  },
  {
   "cell_type": "code",
   "execution_count": null,
   "metadata": {},
   "outputs": [],
   "source": [
    "clf_dt.fit()"
   ]
  },
  {
   "cell_type": "code",
   "execution_count": null,
   "metadata": {},
   "outputs": [],
   "source": [
    "y_pred_train = <>\n",
    "y_pred_test = <>"
   ]
  },
  {
   "cell_type": "code",
   "execution_count": null,
   "metadata": {},
   "outputs": [],
   "source": [
    "classifcation_report_train_test(y_train, y_pred_train, y_test, y_pred_test)"
   ]
  },
  {
   "cell_type": "code",
   "execution_count": null,
   "metadata": {},
   "outputs": [],
   "source": [
    "scores = get_metrics(y_train, y_pred_train, y_test, y_pred_test, \"DecisionTrees\", scores)\n",
    "scores"
   ]
  },
  {
   "cell_type": "markdown",
   "metadata": {},
   "source": [
    "## Random Forests"
   ]
  },
  {
   "cell_type": "code",
   "execution_count": null,
   "metadata": {},
   "outputs": [],
   "source": [
    "clf_rf = RandomForestClassifier()"
   ]
  },
  {
   "cell_type": "code",
   "execution_count": null,
   "metadata": {},
   "outputs": [],
   "source": [
    "clf_rf.fit( )"
   ]
  },
  {
   "cell_type": "code",
   "execution_count": null,
   "metadata": {},
   "outputs": [],
   "source": [
    "y_pred_train = <>\n",
    "y_pred_test = <>"
   ]
  },
  {
   "cell_type": "code",
   "execution_count": null,
   "metadata": {},
   "outputs": [],
   "source": [
    "classifcation_report_train_test(y_train, y_pred_train, y_test, y_pred_test)"
   ]
  },
  {
   "cell_type": "code",
   "execution_count": null,
   "metadata": {},
   "outputs": [],
   "source": [
    "scores = get_metrics(y_train, y_pred_train, y_test, y_pred_test, \"RandomForest\", scores)\n",
    "scores"
   ]
  },
  {
   "cell_type": "markdown",
   "metadata": {},
   "source": [
    "## AdaBoost"
   ]
  },
  {
   "cell_type": "code",
   "execution_count": null,
   "metadata": {},
   "outputs": [],
   "source": [
    "clf_adaboost =  AdaBoostClassifier()"
   ]
  },
  {
   "cell_type": "code",
   "execution_count": null,
   "metadata": {},
   "outputs": [],
   "source": [
    "clf_adaboost.fit(X_train, y_train)"
   ]
  },
  {
   "cell_type": "code",
   "execution_count": null,
   "metadata": {
    "scrolled": false
   },
   "outputs": [],
   "source": [
    "y_pred_train = <>\n",
    "y_pred_test = <>"
   ]
  },
  {
   "cell_type": "code",
   "execution_count": null,
   "metadata": {
    "scrolled": false
   },
   "outputs": [],
   "source": [
    "classifcation_report_train_test(y_train, y_pred_train, y_test, y_pred_test)"
   ]
  },
  {
   "cell_type": "code",
   "execution_count": null,
   "metadata": {},
   "outputs": [],
   "source": [
    "scores = get_metrics(y_train, y_pred_train, y_test, y_pred_test, \"Adaboost\", scores)\n",
    "scores"
   ]
  },
  {
   "cell_type": "markdown",
   "metadata": {},
   "source": [
    "## Build Gradient Boosting Classifier"
   ]
  },
  {
   "cell_type": "code",
   "execution_count": null,
   "metadata": {},
   "outputs": [],
   "source": [
    "clf_gbm = GradientBoostingClassifier()"
   ]
  },
  {
   "cell_type": "code",
   "execution_count": null,
   "metadata": {},
   "outputs": [],
   "source": [
    "clf_gbm.fit(X=X_train, y=y_train)"
   ]
  },
  {
   "cell_type": "code",
   "execution_count": null,
   "metadata": {},
   "outputs": [],
   "source": [
    "y_pred_train = clf_gbm.predict(X_train)\n",
    "y_pred_test = clf_gbm.predict(X_test)"
   ]
  },
  {
   "cell_type": "code",
   "execution_count": null,
   "metadata": {
    "scrolled": true
   },
   "outputs": [],
   "source": [
    "classifcation_report_train_test(y_train, y_pred_train, y_test, y_pred_test)"
   ]
  },
  {
   "cell_type": "code",
   "execution_count": null,
   "metadata": {},
   "outputs": [],
   "source": [
    "scores = get_metrics(y_train, y_pred_train, y_test, y_pred_test, \"GBM\", scores)\n",
    "scores"
   ]
  },
  {
   "cell_type": "markdown",
   "metadata": {},
   "source": [
    "### XGBOOST "
   ]
  },
  {
   "cell_type": "markdown",
   "metadata": {},
   "source": [
    "#### Create XGBoost Classifier\n",
    "\n",
    "There are different hyperparameters that we can tune and the parametres are different from baselearner to baselearner. \n",
    "<br>In tree based learners, which are the most common ones in xgboost applications, the following are the most commonly tuned hyperparameters:\n",
    "\n",
    "-  **learning rate/eta:** governs how quickly the model fits the residual error using additional base learners. If it is a smaller learning rate, it will need more boosting rounds, hence more time, to achieve the same reduction in residual error as one with larger learning rate. Typically, it lies between 0.01 – 0.3\n",
    "-  **max_depth:** max depth per tree. This controls how deep our tree can grow. The Larger the depth, more complex the model will be and higher chances of overfitting. Larger data sets require deep trees to learn the rules from data. Default = 6.\n",
    "-  **subsample:** % samples used per tree. This is the fraction of the total training set that can be used in any boosting round. Low value may lead to underfitting issues. A very high value can cause over-fitting problems.\n",
    "-  **colsample_bytree:** % features used per tree. This is the fraction of the number of columns that we can use in any boosting round. A smaller value is an additional regularization and a larger value may be cause overfitting issues.\n",
    "-  **n_estimators:** number of estimators (base learners). This is the number of boosting rounds.\n",
    "<br><br>The three hyperparameters below are regularization hyperparameters.\n",
    "-  **gamma:** min loss reduction to create new tree split. default = 0 means no regularization.\n",
    "-  **lambda:** L2 reg on leaf weights. Equivalent to Ridge regression.\n",
    "-  **alpha:** L1 reg on leaf weights. Equivalent to Lasso regression.\n",
    "\n",
    "\n",
    "Refer: https://xgboost.readthedocs.io/en/latest/python/python_api.html"
   ]
  },
  {
   "cell_type": "code",
   "execution_count": null,
   "metadata": {},
   "outputs": [],
   "source": [
    "clf_xgb = XGBClassifier()"
   ]
  },
  {
   "cell_type": "code",
   "execution_count": null,
   "metadata": {},
   "outputs": [],
   "source": [
    "clf_xgb.fit(X_train, y_train)"
   ]
  },
  {
   "cell_type": "code",
   "execution_count": null,
   "metadata": {},
   "outputs": [],
   "source": [
    "y_pred_train = clf_xgb.predict(X_train)\n",
    "y_pred_test = clf_xgb.predict(X_test)"
   ]
  },
  {
   "cell_type": "code",
   "execution_count": null,
   "metadata": {},
   "outputs": [],
   "source": [
    "classifcation_report_train_test(y_train, y_pred_train, y_test, y_pred_test)"
   ]
  },
  {
   "cell_type": "code",
   "execution_count": null,
   "metadata": {},
   "outputs": [],
   "source": [
    "XGB = XGBClassifier(n_jobs=-1)\n",
    " \n",
    "# Use a grid over parameters of interest\n",
    "param_grid = {\n",
    "    'colsample_bytree': np.linspace(0.6, 0.8, 2),\n",
    "    'n_estimators': [50, 100],\n",
    "    'max_depth': [5, 6]}\n",
    "\n",
    "CV_XGB = GridSearchCV(estimator=XGB, param_grid=param_grid, cv=3)"
   ]
  },
  {
   "cell_type": "code",
   "execution_count": null,
   "metadata": {},
   "outputs": [],
   "source": [
    "CV_XGB.fit(X=X_train, y=y_train)"
   ]
  },
  {
   "cell_type": "markdown",
   "metadata": {},
   "source": [
    "Find best model"
   ]
  },
  {
   "cell_type": "code",
   "execution_count": null,
   "metadata": {},
   "outputs": [],
   "source": [
    "best_xgb_model = CV_XGB.best_estimator_"
   ]
  },
  {
   "cell_type": "code",
   "execution_count": null,
   "metadata": {},
   "outputs": [],
   "source": [
    "print(CV_XGB.best_score_, CV_XGB.best_params_)"
   ]
  },
  {
   "cell_type": "code",
   "execution_count": null,
   "metadata": {},
   "outputs": [],
   "source": [
    "best_xgb_model"
   ]
  },
  {
   "cell_type": "code",
   "execution_count": null,
   "metadata": {},
   "outputs": [],
   "source": [
    "y_pred_train = best_xgb_model.predict(X_train)\n",
    "y_pred_test = best_xgb_model.predict(X_test)"
   ]
  },
  {
   "cell_type": "code",
   "execution_count": null,
   "metadata": {},
   "outputs": [],
   "source": [
    "classifcation_report_train_test(y_train, y_pred_train, y_test, y_pred_test)"
   ]
  },
  {
   "cell_type": "code",
   "execution_count": null,
   "metadata": {},
   "outputs": [],
   "source": [
    "scores = get_metrics(y_train, y_pred_train, y_test, y_pred_test, \"XGBoost\", scores)\n",
    "scores"
   ]
  },
  {
   "cell_type": "markdown",
   "metadata": {},
   "source": [
    "### Extracting the important features"
   ]
  },
  {
   "cell_type": "code",
   "execution_count": null,
   "metadata": {},
   "outputs": [],
   "source": [
    "best_xgb_model.feature_importances_"
   ]
  },
  {
   "cell_type": "code",
   "execution_count": null,
   "metadata": {},
   "outputs": [],
   "source": [
    "importances = best_xgb_model.feature_importances_\n",
    "indices = np.argsort(importances)\n",
    "print(indices)"
   ]
  },
  {
   "cell_type": "code",
   "execution_count": null,
   "metadata": {},
   "outputs": [],
   "source": [
    "indices = np.argsort(importances)[::-1] # np.argsort returns the indices that would sort an array.\n",
    "pd.DataFrame([X_train.columns[indices], np.sort(importances)[::-1]])"
   ]
  },
  {
   "cell_type": "markdown",
   "metadata": {},
   "source": [
    "## Stacking:"
   ]
  },
  {
   "cell_type": "code",
   "execution_count": null,
   "metadata": {},
   "outputs": [],
   "source": [
    "from sklearn.ensemble import VotingClassifier"
   ]
  },
  {
   "cell_type": "code",
   "execution_count": null,
   "metadata": {},
   "outputs": [],
   "source": [
    "voting_clf = VotingClassifier(estimators=[('clf_dt', clf_dt), ('clf_rf', clf_rf), ('clf_adaboost', clf_adaboost)]) "
   ]
  },
  {
   "cell_type": "code",
   "execution_count": null,
   "metadata": {},
   "outputs": [],
   "source": [
    "voting_clf"
   ]
  },
  {
   "cell_type": "code",
   "execution_count": null,
   "metadata": {},
   "outputs": [],
   "source": [
    "voting_clf.fit(X_train, y_train) \n"
   ]
  },
  {
   "cell_type": "code",
   "execution_count": null,
   "metadata": {},
   "outputs": [],
   "source": [
    "y_pred_train = voting_clf.predict(X_train)\n",
    "y_pred_train"
   ]
  },
  {
   "cell_type": "code",
   "execution_count": null,
   "metadata": {},
   "outputs": [],
   "source": [
    "y_pred_test = voting_clf.predict(X_test)\n",
    "y_pred_test"
   ]
  },
  {
   "cell_type": "markdown",
   "metadata": {},
   "source": [
    "Performance Metric"
   ]
  },
  {
   "cell_type": "code",
   "execution_count": null,
   "metadata": {},
   "outputs": [],
   "source": [
    "scores = get_metrics(y_train, y_pred_train, y_test, y_pred_test, \"Stacking\", scores)\n",
    "scores"
   ]
  },
  {
   "cell_type": "markdown",
   "metadata": {},
   "source": [
    "### References: \n",
    "* https://github.com/scikit-learn-contrib/sklearn-pandas\n",
    "* https://scikit-learn.org/\n",
    "* https://xgboost.readthedocs.io/en/latest/python/python_api.html\n",
    "* https://github.com/vecxoz/vecstack"
   ]
  }
 ],
 "metadata": {
  "kernelspec": {
   "display_name": "Python 3",
   "language": "python",
   "name": "python3"
  },
  "language_info": {
   "codemirror_mode": {
    "name": "ipython",
    "version": 3
   },
   "file_extension": ".py",
   "mimetype": "text/x-python",
   "name": "python",
   "nbconvert_exporter": "python",
   "pygments_lexer": "ipython3",
   "version": "3.7.6"
  },
  "toc": {
   "base_numbering": 1,
   "nav_menu": {},
   "number_sections": true,
   "sideBar": true,
   "skip_h1_title": false,
   "title_cell": "Table of Contents",
   "title_sidebar": "Contents",
   "toc_cell": true,
   "toc_position": {},
   "toc_section_display": true,
   "toc_window_display": false
  }
 },
 "nbformat": 4,
 "nbformat_minor": 2
}
