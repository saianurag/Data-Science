{
 "cells": [
  {
   "cell_type": "markdown",
   "metadata": {},
   "source": [
    "### Decision tree classification"
   ]
  },
  {
   "cell_type": "markdown",
   "metadata": {},
   "source": [
    "1. Read the data\n",
    "2. Create Lab Encoder For categorical\n",
    "3. Split the data into train and test\n",
    "4. Build a Decision tree with default hyper parameters and check the model performance\n",
    "5. Try to change the hyper parameter and check the model performance\n",
    "6. Use Grid search to find the best tuning parameter\n",
    "7. Visualize the tree structure of the final model\n",
    "8. Construct a Logistic Regression Model and compare results with Decision Tree"
   ]
  },
  {
   "cell_type": "code",
   "execution_count": 1,
   "metadata": {},
   "outputs": [],
   "source": [
    "import pandas as pd\n",
    "from sklearn import tree\n",
    "from sklearn.metrics import accuracy_score, mean_absolute_error\n",
    "from sklearn.model_selection import GridSearchCV\n",
    "import numpy as np\n",
    "\n"
   ]
  },
  {
   "cell_type": "markdown",
   "metadata": {},
   "source": [
    "#### 1.  Read the data (new_bank.csv)"
   ]
  },
  {
   "cell_type": "code",
   "execution_count": 52,
   "metadata": {},
   "outputs": [
    {
     "data": {
      "text/html": [
       "<div>\n",
       "<style scoped>\n",
       "    .dataframe tbody tr th:only-of-type {\n",
       "        vertical-align: middle;\n",
       "    }\n",
       "\n",
       "    .dataframe tbody tr th {\n",
       "        vertical-align: top;\n",
       "    }\n",
       "\n",
       "    .dataframe thead th {\n",
       "        text-align: right;\n",
       "    }\n",
       "</style>\n",
       "<table border=\"1\" class=\"dataframe\">\n",
       "  <thead>\n",
       "    <tr style=\"text-align: right;\">\n",
       "      <th></th>\n",
       "      <th>age</th>\n",
       "      <th>marital</th>\n",
       "      <th>balance</th>\n",
       "      <th>loan</th>\n",
       "      <th>contact</th>\n",
       "      <th>y</th>\n",
       "    </tr>\n",
       "  </thead>\n",
       "  <tbody>\n",
       "    <tr>\n",
       "      <th>0</th>\n",
       "      <td>30</td>\n",
       "      <td>married</td>\n",
       "      <td>1787</td>\n",
       "      <td>no</td>\n",
       "      <td>cellular</td>\n",
       "      <td>no</td>\n",
       "    </tr>\n",
       "    <tr>\n",
       "      <th>1</th>\n",
       "      <td>33</td>\n",
       "      <td>married</td>\n",
       "      <td>4789</td>\n",
       "      <td>yes</td>\n",
       "      <td>cellular</td>\n",
       "      <td>no</td>\n",
       "    </tr>\n",
       "    <tr>\n",
       "      <th>2</th>\n",
       "      <td>35</td>\n",
       "      <td>single</td>\n",
       "      <td>1350</td>\n",
       "      <td>no</td>\n",
       "      <td>cellular</td>\n",
       "      <td>no</td>\n",
       "    </tr>\n",
       "    <tr>\n",
       "      <th>3</th>\n",
       "      <td>30</td>\n",
       "      <td>married</td>\n",
       "      <td>1476</td>\n",
       "      <td>yes</td>\n",
       "      <td>unknown</td>\n",
       "      <td>no</td>\n",
       "    </tr>\n",
       "    <tr>\n",
       "      <th>4</th>\n",
       "      <td>59</td>\n",
       "      <td>married</td>\n",
       "      <td>0</td>\n",
       "      <td>no</td>\n",
       "      <td>unknown</td>\n",
       "      <td>no</td>\n",
       "    </tr>\n",
       "  </tbody>\n",
       "</table>\n",
       "</div>"
      ],
      "text/plain": [
       "   age  marital  balance loan   contact   y\n",
       "0   30  married     1787   no  cellular  no\n",
       "1   33  married     4789  yes  cellular  no\n",
       "2   35   single     1350   no  cellular  no\n",
       "3   30  married     1476  yes   unknown  no\n",
       "4   59  married        0   no   unknown  no"
      ]
     },
     "execution_count": 52,
     "metadata": {},
     "output_type": "execute_result"
    }
   ],
   "source": [
    "Bank_data = pd.read_csv(\"bank.csv\")\n",
    "Bank_data.head()\n"
   ]
  },
  {
   "cell_type": "code",
   "execution_count": 53,
   "metadata": {},
   "outputs": [
    {
     "data": {
      "text/plain": [
       "age         int64\n",
       "marital    object\n",
       "balance     int64\n",
       "loan       object\n",
       "contact    object\n",
       "y          object\n",
       "dtype: object"
      ]
     },
     "execution_count": 53,
     "metadata": {},
     "output_type": "execute_result"
    }
   ],
   "source": [
    "Bank_data.dtypes\n"
   ]
  },
  {
   "cell_type": "markdown",
   "metadata": {},
   "source": [
    "#### 2. Label Encoding"
   ]
  },
  {
   "cell_type": "code",
   "execution_count": 54,
   "metadata": {},
   "outputs": [],
   "source": [
    "\n",
    "cat_cols = Bank_data.select_dtypes(include='object')\n",
    "num_cols = Bank_data.select_dtypes(exclude='object')\n",
    "\n"
   ]
  },
  {
   "cell_type": "code",
   "execution_count": 55,
   "metadata": {},
   "outputs": [],
   "source": [
    "\n",
    "from sklearn.preprocessing import LabelEncoder\n"
   ]
  },
  {
   "cell_type": "code",
   "execution_count": 67,
   "metadata": {},
   "outputs": [],
   "source": [
    "for i in range(0,len(Bank_data.columns)):\n",
    "    j=Bank_data.columns[i]\n",
    "    if(j in cat_cols):\n",
    "        label_encoder = LabelEncoder()                  # converts the character array to numeric array. Assigns levels to unique labels.\n",
    "        label_encoder.fit(Bank_data[j])\n",
    "        Bank_data[j]  = label_encoder.transform(Bank_data[j])\n",
    "        Bank_data[j]  = Bank_data[j].astype('category')"
   ]
  },
  {
   "cell_type": "code",
   "execution_count": 68,
   "metadata": {},
   "outputs": [
    {
     "data": {
      "text/html": [
       "<div>\n",
       "<style scoped>\n",
       "    .dataframe tbody tr th:only-of-type {\n",
       "        vertical-align: middle;\n",
       "    }\n",
       "\n",
       "    .dataframe tbody tr th {\n",
       "        vertical-align: top;\n",
       "    }\n",
       "\n",
       "    .dataframe thead th {\n",
       "        text-align: right;\n",
       "    }\n",
       "</style>\n",
       "<table border=\"1\" class=\"dataframe\">\n",
       "  <thead>\n",
       "    <tr style=\"text-align: right;\">\n",
       "      <th></th>\n",
       "      <th>age</th>\n",
       "      <th>marital</th>\n",
       "      <th>balance</th>\n",
       "      <th>loan</th>\n",
       "      <th>contact</th>\n",
       "      <th>y</th>\n",
       "    </tr>\n",
       "  </thead>\n",
       "  <tbody>\n",
       "    <tr>\n",
       "      <th>0</th>\n",
       "      <td>30</td>\n",
       "      <td>1</td>\n",
       "      <td>1787</td>\n",
       "      <td>0</td>\n",
       "      <td>0</td>\n",
       "      <td>0</td>\n",
       "    </tr>\n",
       "    <tr>\n",
       "      <th>1</th>\n",
       "      <td>33</td>\n",
       "      <td>1</td>\n",
       "      <td>4789</td>\n",
       "      <td>1</td>\n",
       "      <td>0</td>\n",
       "      <td>0</td>\n",
       "    </tr>\n",
       "    <tr>\n",
       "      <th>2</th>\n",
       "      <td>35</td>\n",
       "      <td>2</td>\n",
       "      <td>1350</td>\n",
       "      <td>0</td>\n",
       "      <td>0</td>\n",
       "      <td>0</td>\n",
       "    </tr>\n",
       "    <tr>\n",
       "      <th>3</th>\n",
       "      <td>30</td>\n",
       "      <td>1</td>\n",
       "      <td>1476</td>\n",
       "      <td>1</td>\n",
       "      <td>2</td>\n",
       "      <td>0</td>\n",
       "    </tr>\n",
       "    <tr>\n",
       "      <th>4</th>\n",
       "      <td>59</td>\n",
       "      <td>1</td>\n",
       "      <td>0</td>\n",
       "      <td>0</td>\n",
       "      <td>2</td>\n",
       "      <td>0</td>\n",
       "    </tr>\n",
       "  </tbody>\n",
       "</table>\n",
       "</div>"
      ],
      "text/plain": [
       "   age marital  balance loan contact  y\n",
       "0   30       1     1787    0       0  0\n",
       "1   33       1     4789    1       0  0\n",
       "2   35       2     1350    0       0  0\n",
       "3   30       1     1476    1       2  0\n",
       "4   59       1        0    0       2  0"
      ]
     },
     "execution_count": 68,
     "metadata": {},
     "output_type": "execute_result"
    }
   ],
   "source": [
    "Bank_data.head()\n"
   ]
  },
  {
   "cell_type": "code",
   "execution_count": 69,
   "metadata": {},
   "outputs": [
    {
     "data": {
      "text/plain": [
       "age           int64\n",
       "marital    category\n",
       "balance       int64\n",
       "loan       category\n",
       "contact    category\n",
       "y          category\n",
       "dtype: object"
      ]
     },
     "execution_count": 69,
     "metadata": {},
     "output_type": "execute_result"
    }
   ],
   "source": [
    "Bank_data.dtypes\n",
    "\n"
   ]
  },
  {
   "cell_type": "code",
   "execution_count": 70,
   "metadata": {},
   "outputs": [],
   "source": [
    "def inspect_data(data):\n",
    "    return pd.DataFrame({\"Data Type\":data.dtypes,\"No of Levels\":data.apply(lambda x: x.unique().shape[0],axis=0), \"Levels\":data.apply(lambda x: str(x.unique()),axis=0)})\n"
   ]
  },
  {
   "cell_type": "code",
   "execution_count": 71,
   "metadata": {},
   "outputs": [
    {
     "data": {
      "text/html": [
       "<div>\n",
       "<style scoped>\n",
       "    .dataframe tbody tr th:only-of-type {\n",
       "        vertical-align: middle;\n",
       "    }\n",
       "\n",
       "    .dataframe tbody tr th {\n",
       "        vertical-align: top;\n",
       "    }\n",
       "\n",
       "    .dataframe thead th {\n",
       "        text-align: right;\n",
       "    }\n",
       "</style>\n",
       "<table border=\"1\" class=\"dataframe\">\n",
       "  <thead>\n",
       "    <tr style=\"text-align: right;\">\n",
       "      <th></th>\n",
       "      <th>Data Type</th>\n",
       "      <th>No of Levels</th>\n",
       "      <th>Levels</th>\n",
       "    </tr>\n",
       "  </thead>\n",
       "  <tbody>\n",
       "    <tr>\n",
       "      <th>age</th>\n",
       "      <td>int64</td>\n",
       "      <td>67</td>\n",
       "      <td>[30 33 35 59 36 39 41 43 20 31 40 56 37 25 38 ...</td>\n",
       "    </tr>\n",
       "    <tr>\n",
       "      <th>marital</th>\n",
       "      <td>category</td>\n",
       "      <td>3</td>\n",
       "      <td>[1, 2, 0]\\nCategories (3, int64): [1, 2, 0]</td>\n",
       "    </tr>\n",
       "    <tr>\n",
       "      <th>balance</th>\n",
       "      <td>int64</td>\n",
       "      <td>2353</td>\n",
       "      <td>[ 1787  4789  1350 ...  -333 -3313  1137]</td>\n",
       "    </tr>\n",
       "    <tr>\n",
       "      <th>loan</th>\n",
       "      <td>category</td>\n",
       "      <td>2</td>\n",
       "      <td>[0, 1]\\nCategories (2, int64): [0, 1]</td>\n",
       "    </tr>\n",
       "    <tr>\n",
       "      <th>contact</th>\n",
       "      <td>category</td>\n",
       "      <td>3</td>\n",
       "      <td>[0, 2, 1]\\nCategories (3, int64): [0, 2, 1]</td>\n",
       "    </tr>\n",
       "    <tr>\n",
       "      <th>y</th>\n",
       "      <td>category</td>\n",
       "      <td>2</td>\n",
       "      <td>[0, 1]\\nCategories (2, int64): [0, 1]</td>\n",
       "    </tr>\n",
       "  </tbody>\n",
       "</table>\n",
       "</div>"
      ],
      "text/plain": [
       "        Data Type  No of Levels  \\\n",
       "age         int64            67   \n",
       "marital  category             3   \n",
       "balance     int64          2353   \n",
       "loan     category             2   \n",
       "contact  category             3   \n",
       "y        category             2   \n",
       "\n",
       "                                                    Levels  \n",
       "age      [30 33 35 59 36 39 41 43 20 31 40 56 37 25 38 ...  \n",
       "marital        [1, 2, 0]\\nCategories (3, int64): [1, 2, 0]  \n",
       "balance          [ 1787  4789  1350 ...  -333 -3313  1137]  \n",
       "loan                 [0, 1]\\nCategories (2, int64): [0, 1]  \n",
       "contact        [0, 2, 1]\\nCategories (3, int64): [0, 2, 1]  \n",
       "y                    [0, 1]\\nCategories (2, int64): [0, 1]  "
      ]
     },
     "execution_count": 71,
     "metadata": {},
     "output_type": "execute_result"
    }
   ],
   "source": [
    "inspect_data(Bank_data)\n",
    "\n"
   ]
  },
  {
   "cell_type": "markdown",
   "metadata": {},
   "source": [
    "### Stats for Target variable"
   ]
  },
  {
   "cell_type": "code",
   "execution_count": 72,
   "metadata": {},
   "outputs": [
    {
     "name": "stdout",
     "output_type": "stream",
     "text": [
      "0    4000\n",
      "1     521\n",
      "Name: y, dtype: int64\n"
     ]
    },
    {
     "data": {
      "text/plain": [
       "Text(0, 0.5, 'Frequency')"
      ]
     },
     "execution_count": 72,
     "metadata": {},
     "output_type": "execute_result"
    },
    {
     "data": {
      "image/png": "[encoded data removed]",
      "text/plain": [
       "<Figure size 432x288 with 1 Axes>"
      ]
     },
     "metadata": {
      "needs_background": "light"
     },
     "output_type": "display_data"
    }
   ],
   "source": [
    "import matplotlib.pyplot as plt\n",
    "count_classes = pd.value_counts(Bank_data['y'], sort = True).sort_index()\n",
    "print(count_classes)\n",
    "count_classes.plot(kind = 'bar')\n",
    "plt.title(\"Personal Loan class histogram\")\n",
    "plt.xlabel(\"Class\")\n",
    "plt.ylabel(\"Frequency\")"
   ]
  },
  {
   "cell_type": "markdown",
   "metadata": {},
   "source": [
    "#### Train-Test Split"
   ]
  },
  {
   "cell_type": "code",
   "execution_count": 73,
   "metadata": {},
   "outputs": [],
   "source": [
    "Target   = Bank_data['y']\n",
    "Features = Bank_data[Bank_data.columns.difference(['y'])]\n"
   ]
  },
  {
   "cell_type": "code",
   "execution_count": 74,
   "metadata": {},
   "outputs": [],
   "source": [
    "## Split the data into X_train, X_test, y_train, y_test with test_size = 0.20 using sklearn\n",
    "from sklearn.model_selection import train_test_split\n",
    "X_train, X_test, y_train, y_test = train_test_split(Features, Target, test_size=0.20,stratify=Target)\n",
    "\n"
   ]
  },
  {
   "cell_type": "code",
   "execution_count": 75,
   "metadata": {},
   "outputs": [
    {
     "data": {
      "text/plain": [
       "234     0\n",
       "1488    0\n",
       "3609    0\n",
       "429     0\n",
       "1030    0\n",
       "Name: y, dtype: category\n",
       "Categories (2, int64): [0, 1]"
      ]
     },
     "execution_count": 75,
     "metadata": {},
     "output_type": "execute_result"
    }
   ],
   "source": [
    "y_test.head()\n"
   ]
  },
  {
   "cell_type": "code",
   "execution_count": 76,
   "metadata": {},
   "outputs": [
    {
     "name": "stdout",
     "output_type": "stream",
     "text": [
      " Shape of Train data features                      : (3616, 5)\n",
      " Shape of Train data target                        : (905, 5)\n",
      " Shape of test data features                       : (3616,)\n",
      " Shape of test data target                         : (905,)\n",
      " Proportion of target distribution for train data  : \n",
      " 0    0.884679\n",
      "1    0.115321\n",
      "Name: y, dtype: float64\n",
      " Proportion of target distribution for train data  :\n",
      " 0    0.885083\n",
      "1    0.114917\n",
      "Name: y, dtype: float64\n"
     ]
    }
   ],
   "source": [
    "## Print the shape of X_train, X_test, y_train, y_test\n",
    "print(\" Shape of Train data features                      :\" , X_train.shape)\n",
    "print(\" Shape of Train data target                        :\" , X_test.shape)\n",
    "print(\" Shape of test data features                       :\" , y_train.shape)\n",
    "print(\" Shape of test data target                         :\" , y_test.shape)\n",
    "print(\" Proportion of target distribution for train data  : \\n\" , y_train.value_counts()/sum(y_train.value_counts()))\n",
    "print(\" Proportion of target distribution for train data  :\\n\" , y_test.value_counts()/sum(y_test.value_counts()))"
   ]
  },
  {
   "cell_type": "markdown",
   "metadata": {},
   "source": [
    "#### Decsion Tree with Default Parameters"
   ]
  },
  {
   "cell_type": "code",
   "execution_count": 77,
   "metadata": {},
   "outputs": [
    {
     "data": {
      "text/plain": [
       "DecisionTreeClassifier()"
      ]
     },
     "execution_count": 77,
     "metadata": {},
     "output_type": "execute_result"
    }
   ],
   "source": [
    "# Defining the model\n",
    "# Fit / train the model\n",
    "DT_Model1 = tree.DecisionTreeClassifier()\n",
    "\n",
    "DT_Model1.fit(X_train,y_train)\n",
    "\n"
   ]
  },
  {
   "cell_type": "code",
   "execution_count": 78,
   "metadata": {},
   "outputs": [],
   "source": [
    "# Get the prediction for both train and test\n",
    "Prediction_Train_Model1 = DT_Model1.predict(X_train)\n",
    "Prediction_Test_Model1 = DT_Model1.predict(X_test)\n"
   ]
  },
  {
   "cell_type": "markdown",
   "metadata": {},
   "source": [
    "#### Confusion matrix and Classification Report on Train"
   ]
  },
  {
   "cell_type": "code",
   "execution_count": 79,
   "metadata": {},
   "outputs": [],
   "source": [
    "from sklearn.metrics import confusion_matrix \n",
    "from sklearn.metrics import accuracy_score \n",
    "from sklearn.metrics import classification_report \n"
   ]
  },
  {
   "cell_type": "code",
   "execution_count": 80,
   "metadata": {},
   "outputs": [],
   "source": [
    "def get_metircs(actuals,predictions):\n",
    "    results = confusion_matrix(actuals,predictions) \n",
    "    print('Confusion Matrix :\\n',results)\n",
    "    print('Accuracy Score :',accuracy_score(actuals,predictions)) \n",
    "    print('Report : ')\n",
    "    print(classification_report(actuals,predictions))\n",
    "    \n",
    "    "
   ]
  },
  {
   "cell_type": "code",
   "execution_count": 81,
   "metadata": {},
   "outputs": [
    {
     "name": "stdout",
     "output_type": "stream",
     "text": [
      "Confusion Matrix :\n",
      " [[3198    1]\n",
      " [  20  397]]\n",
      "Accuracy Score : 0.9941924778761062\n",
      "Report : \n",
      "              precision    recall  f1-score   support\n",
      "\n",
      "           0       0.99      1.00      1.00      3199\n",
      "           1       1.00      0.95      0.97       417\n",
      "\n",
      "    accuracy                           0.99      3616\n",
      "   macro avg       1.00      0.98      0.99      3616\n",
      "weighted avg       0.99      0.99      0.99      3616\n",
      "\n"
     ]
    }
   ],
   "source": [
    "get_metircs(y_train,Prediction_Train_Model1)\n"
   ]
  },
  {
   "cell_type": "markdown",
   "metadata": {},
   "source": [
    "#### Confusion matrix and Classification Report on Test"
   ]
  },
  {
   "cell_type": "code",
   "execution_count": 82,
   "metadata": {},
   "outputs": [
    {
     "name": "stdout",
     "output_type": "stream",
     "text": [
      "Confusion Matrix :\n",
      " [[698 103]\n",
      " [ 85  19]]\n",
      "Accuracy Score : 0.7922651933701658\n",
      "Report : \n",
      "              precision    recall  f1-score   support\n",
      "\n",
      "           0       0.89      0.87      0.88       801\n",
      "           1       0.16      0.18      0.17       104\n",
      "\n",
      "    accuracy                           0.79       905\n",
      "   macro avg       0.52      0.53      0.52       905\n",
      "weighted avg       0.81      0.79      0.80       905\n",
      "\n"
     ]
    }
   ],
   "source": [
    "get_metircs(y_test,Prediction_Test_Model1)"
   ]
  },
  {
   "cell_type": "markdown",
   "metadata": {},
   "source": [
    "### Use Grid search to find the best tuning parameters of Decision Tree\n"
   ]
  },
  {
   "cell_type": "code",
   "execution_count": 83,
   "metadata": {},
   "outputs": [
    {
     "data": {
      "text/plain": [
       "[2, 3, 4, 5, 6, 7, 8, 9]"
      ]
     },
     "execution_count": 83,
     "metadata": {},
     "output_type": "execute_result"
    }
   ],
   "source": [
    "list(range(2,10,1))"
   ]
  },
  {
   "cell_type": "code",
   "execution_count": 84,
   "metadata": {},
   "outputs": [
    {
     "name": "stdout",
     "output_type": "stream",
     "text": [
      "0.884680369140356\n",
      "{'criterion': 'gini', 'max_depth': 2, 'min_samples_leaf': 5}\n"
     ]
    }
   ],
   "source": [
    "# Define the parameters to be tuned and the ranges that you want to check\n",
    "# Define the grid search experiemnt\n",
    "# Fit the grid search on train\n",
    "# Check the best validation score\n",
    "# Check the best parameters choosen\n",
    "\n",
    "# DecisionTree Classifier\n",
    "tree_params = {\"criterion\": [\"gini\", \"entropy\"], \n",
    "               \"max_depth\": list(range(2,5,1)), \n",
    "              \"min_samples_leaf\": list(range(5,7,1))}\n",
    "\n",
    "\n",
    "DT_gridsearch = GridSearchCV(tree.DecisionTreeClassifier(),param_grid=tree_params,n_jobs=1,cv=10)\n",
    "DT_gridsearch.fit(X_train,y_train)\n",
    "print(DT_gridsearch.best_score_)\n",
    "print(DT_gridsearch.best_params_)\n",
    "\n"
   ]
  },
  {
   "cell_type": "code",
   "execution_count": 85,
   "metadata": {},
   "outputs": [],
   "source": [
    "DT_Mode12 = DT_gridsearch.best_estimator_\n",
    "Prediction_Train_Model2 = DT_Mode12.predict(X_train)\n",
    "Prediction_Test_Mode12 = DT_Mode12.predict(X_test)\n",
    "\n"
   ]
  },
  {
   "cell_type": "code",
   "execution_count": 86,
   "metadata": {},
   "outputs": [
    {
     "name": "stdout",
     "output_type": "stream",
     "text": [
      "Confusion Matrix :\n",
      " [[3199    0]\n",
      " [ 417    0]]\n",
      "Accuracy Score : 0.884679203539823\n",
      "Report : \n",
      "              precision    recall  f1-score   support\n",
      "\n",
      "           0       0.88      1.00      0.94      3199\n",
      "           1       0.00      0.00      0.00       417\n",
      "\n",
      "    accuracy                           0.88      3616\n",
      "   macro avg       0.44      0.50      0.47      3616\n",
      "weighted avg       0.78      0.88      0.83      3616\n",
      "\n"
     ]
    },
    {
     "name": "stderr",
     "output_type": "stream",
     "text": [
      "/Users/sujitdhanuka/opt/anaconda3/lib/python3.7/site-packages/sklearn/metrics/_classification.py:1221: UndefinedMetricWarning: Precision and F-score are ill-defined and being set to 0.0 in labels with no predicted samples. Use `zero_division` parameter to control this behavior.\n",
      "  _warn_prf(average, modifier, msg_start, len(result))\n"
     ]
    }
   ],
   "source": [
    "\n",
    "get_metircs(y_train,Prediction_Train_Model2)\n",
    "\n"
   ]
  },
  {
   "cell_type": "code",
   "execution_count": 87,
   "metadata": {},
   "outputs": [
    {
     "name": "stdout",
     "output_type": "stream",
     "text": [
      "Confusion Matrix :\n",
      " [[801   0]\n",
      " [104   0]]\n",
      "Accuracy Score : 0.8850828729281768\n",
      "Report : \n",
      "              precision    recall  f1-score   support\n",
      "\n",
      "           0       0.89      1.00      0.94       801\n",
      "           1       0.00      0.00      0.00       104\n",
      "\n",
      "    accuracy                           0.89       905\n",
      "   macro avg       0.44      0.50      0.47       905\n",
      "weighted avg       0.78      0.89      0.83       905\n",
      "\n"
     ]
    }
   ],
   "source": [
    "get_metircs(y_test,Prediction_Test_Mode12)"
   ]
  },
  {
   "cell_type": "markdown",
   "metadata": {},
   "source": [
    "#### 7. Visualize the tree structure of the best tree"
   ]
  },
  {
   "cell_type": "code",
   "execution_count": 88,
   "metadata": {},
   "outputs": [
    {
     "data": {
      "text/plain": [
       "[Text(558.0, 453.0, 'contact <= 1.5\\ngini = 0.204\\nsamples = 3616\\nvalue = [3199, 417]'),\n",
       " Text(279.0, 271.8, 'age <= 60.5\\ngini = 0.245\\nsamples = 2548\\nvalue = [2183, 365]'),\n",
       " Text(139.5, 90.59999999999997, '\\n  (...)  \\n'),\n",
       " Text(418.5, 90.59999999999997, '\\n  (...)  \\n'),\n",
       " Text(837.0, 271.8, 'marital <= 1.5\\ngini = 0.093\\nsamples = 1068\\nvalue = [1016, 52]'),\n",
       " Text(697.5, 90.59999999999997, '\\n  (...)  \\n'),\n",
       " Text(976.5, 90.59999999999997, '\\n  (...)  \\n')]"
      ]
     },
     "execution_count": 88,
     "metadata": {},
     "output_type": "execute_result"
    },
    {
     "data": {
      "image/png": "[encoded data removed]",
      "text/plain": [
       "<Figure size 1440x720 with 1 Axes>"
      ]
     },
     "metadata": {
      "needs_background": "light"
     },
     "output_type": "display_data"
    }
   ],
   "source": [
    "from sklearn import tree\n",
    "plt.figure(figsize=(20,10))\n",
    "tree.plot_tree(DT_Model1,max_depth=1,fontsize=13,feature_names=Features.columns)\n",
    "\n"
   ]
  },
  {
   "cell_type": "code",
   "execution_count": 27,
   "metadata": {},
   "outputs": [
    {
     "data": {
      "text/plain": [
       "'Bank_Data_Split.pdf.pdf'"
      ]
     },
     "execution_count": 27,
     "metadata": {},
     "output_type": "execute_result"
    }
   ],
   "source": [
    "import graphviz \n",
    "dot_data = tree.export_graphviz(DT_Model1, out_file=None) \n",
    "graph = graphviz.Source(dot_data) \n",
    "graph.render(\"Bank_Data_Split.pdf\") \n",
    "\n"
   ]
  },
  {
   "cell_type": "code",
   "execution_count": 28,
   "metadata": {},
   "outputs": [],
   "source": [
    "Bank_data[\"y\"] = Bank_data.y.astype(\"str\")"
   ]
  },
  {
   "cell_type": "raw",
   "metadata": {},
   "source": [
    "dot_data = tree.export_graphviz(DT_Model1, out_file=None, \n",
    "                     feature_names=Features.columns,  \n",
    "                     class_names=Bank_data['y'].unique(),\n",
    "                     filled=True, rounded=True,  \n",
    "                     special_characters=True)  \n",
    "graph = graphviz.Source(dot_data)  \n",
    "graph "
   ]
  },
  {
   "cell_type": "code",
   "execution_count": 48,
   "metadata": {},
   "outputs": [
    {
     "data": {
      "image/svg+xml": [
       "<?xml version=\"1.0\" encoding=\"UTF-8\" standalone=\"no\"?>\n",
       "<!DOCTYPE svg PUBLIC \"-//W3C//DTD SVG 1.1//EN\"\n",
       " \"http://www.w3.org/Graphics/SVG/1.1/DTD/svg11.dtd\">\n",
       "<!-- Generated by graphviz version 2.44.1 (20200629.0846)\n",
       " -->\n",
       "<!-- Title: Tree Pages: 1 -->\n",
       "<svg width=\"1010pt\" height=\"433pt\"\n",
       " viewBox=\"0.00 0.00 1010.00 433.00\" xmlns=\"http://www.w3.org/2000/svg\" xmlns:xlink=\"http://www.w3.org/1999/xlink\">\n",
       "<g id=\"graph0\" class=\"graph\" transform=\"scale(1 1) rotate(0) translate(4 429)\">\n",
       "<title>Tree</title>\n",
       "<polygon fill=\"white\" stroke=\"transparent\" points=\"-4,4 -4,-429 1006,-429 1006,4 -4,4\"/>\n",
       "<!-- 0 -->\n",
       "<g id=\"node1\" class=\"node\">\n",
       "<title>0</title>\n",
       "<path fill=\"#e89153\" stroke=\"black\" d=\"M573,-425C573,-425 465,-425 465,-425 459,-425 453,-419 453,-413 453,-413 453,-354 453,-354 453,-348 459,-342 465,-342 465,-342 573,-342 573,-342 579,-342 585,-348 585,-354 585,-354 585,-413 585,-413 585,-419 579,-425 573,-425\"/>\n",
       "<text text-anchor=\"middle\" x=\"519\" y=\"-409.8\" font-family=\"Helvetica,sans-Serif\" font-size=\"14.00\">age &lt;= 60.5</text>\n",
       "<text text-anchor=\"middle\" x=\"519\" y=\"-394.8\" font-family=\"Helvetica,sans-Serif\" font-size=\"14.00\">gini = 0.204</text>\n",
       "<text text-anchor=\"middle\" x=\"519\" y=\"-379.8\" font-family=\"Helvetica,sans-Serif\" font-size=\"14.00\">samples = 3616</text>\n",
       "<text text-anchor=\"middle\" x=\"519\" y=\"-364.8\" font-family=\"Helvetica,sans-Serif\" font-size=\"14.00\">value = [3199, 417]</text>\n",
       "<text text-anchor=\"middle\" x=\"519\" y=\"-349.8\" font-family=\"Helvetica,sans-Serif\" font-size=\"14.00\">class = 0</text>\n",
       "</g>\n",
       "<!-- 1 -->\n",
       "<g id=\"node2\" class=\"node\">\n",
       "<title>1</title>\n",
       "<path fill=\"#e89051\" stroke=\"black\" d=\"M449,-306C449,-306 341,-306 341,-306 335,-306 329,-300 329,-294 329,-294 329,-235 329,-235 329,-229 335,-223 341,-223 341,-223 449,-223 449,-223 455,-223 461,-229 461,-235 461,-235 461,-294 461,-294 461,-300 455,-306 449,-306\"/>\n",
       "<text text-anchor=\"middle\" x=\"395\" y=\"-290.8\" font-family=\"Helvetica,sans-Serif\" font-size=\"14.00\">contact &lt;= 1.5</text>\n",
       "<text text-anchor=\"middle\" x=\"395\" y=\"-275.8\" font-family=\"Helvetica,sans-Serif\" font-size=\"14.00\">gini = 0.193</text>\n",
       "<text text-anchor=\"middle\" x=\"395\" y=\"-260.8\" font-family=\"Helvetica,sans-Serif\" font-size=\"14.00\">samples = 3516</text>\n",
       "<text text-anchor=\"middle\" x=\"395\" y=\"-245.8\" font-family=\"Helvetica,sans-Serif\" font-size=\"14.00\">value = [3136, 380]</text>\n",
       "<text text-anchor=\"middle\" x=\"395\" y=\"-230.8\" font-family=\"Helvetica,sans-Serif\" font-size=\"14.00\">class = 0</text>\n",
       "</g>\n",
       "<!-- 0&#45;&gt;1 -->\n",
       "<g id=\"edge1\" class=\"edge\">\n",
       "<title>0&#45;&gt;1</title>\n",
       "<path fill=\"none\" stroke=\"black\" d=\"M475.98,-341.91C466.07,-332.56 455.45,-322.54 445.27,-312.93\"/>\n",
       "<polygon fill=\"black\" stroke=\"black\" points=\"447.62,-310.34 437.95,-306.02 442.82,-315.43 447.62,-310.34\"/>\n",
       "<text text-anchor=\"middle\" x=\"438.67\" y=\"-327.31\" font-family=\"Helvetica,sans-Serif\" font-size=\"14.00\">True</text>\n",
       "</g>\n",
       "<!-- 8 -->\n",
       "<g id=\"node9\" class=\"node\">\n",
       "<title>8</title>\n",
       "<path fill=\"#f4cbad\" stroke=\"black\" d=\"M689,-306C689,-306 603,-306 603,-306 597,-306 591,-300 591,-294 591,-294 591,-235 591,-235 591,-229 597,-223 603,-223 603,-223 689,-223 689,-223 695,-223 701,-229 701,-235 701,-235 701,-294 701,-294 701,-300 695,-306 689,-306\"/>\n",
       "<text text-anchor=\"middle\" x=\"646\" y=\"-290.8\" font-family=\"Helvetica,sans-Serif\" font-size=\"14.00\">age &lt;= 76.5</text>\n",
       "<text text-anchor=\"middle\" x=\"646\" y=\"-275.8\" font-family=\"Helvetica,sans-Serif\" font-size=\"14.00\">gini = 0.466</text>\n",
       "<text text-anchor=\"middle\" x=\"646\" y=\"-260.8\" font-family=\"Helvetica,sans-Serif\" font-size=\"14.00\">samples = 100</text>\n",
       "<text text-anchor=\"middle\" x=\"646\" y=\"-245.8\" font-family=\"Helvetica,sans-Serif\" font-size=\"14.00\">value = [63, 37]</text>\n",
       "<text text-anchor=\"middle\" x=\"646\" y=\"-230.8\" font-family=\"Helvetica,sans-Serif\" font-size=\"14.00\">class = 0</text>\n",
       "</g>\n",
       "<!-- 0&#45;&gt;8 -->\n",
       "<g id=\"edge8\" class=\"edge\">\n",
       "<title>0&#45;&gt;8</title>\n",
       "<path fill=\"none\" stroke=\"black\" d=\"M563.06,-341.91C573.21,-332.56 584.09,-322.54 594.52,-312.93\"/>\n",
       "<polygon fill=\"black\" stroke=\"black\" points=\"597.03,-315.37 602.02,-306.02 592.29,-310.22 597.03,-315.37\"/>\n",
       "<text text-anchor=\"middle\" x=\"600.99\" y=\"-327.3\" font-family=\"Helvetica,sans-Serif\" font-size=\"14.00\">False</text>\n",
       "</g>\n",
       "<!-- 2 -->\n",
       "<g id=\"node3\" class=\"node\">\n",
       "<title>2</title>\n",
       "<path fill=\"#e99457\" stroke=\"black\" d=\"M248,-187C248,-187 140,-187 140,-187 134,-187 128,-181 128,-175 128,-175 128,-116 128,-116 128,-110 134,-104 140,-104 140,-104 248,-104 248,-104 254,-104 260,-110 260,-116 260,-116 260,-175 260,-175 260,-181 254,-187 248,-187\"/>\n",
       "<text text-anchor=\"middle\" x=\"194\" y=\"-171.8\" font-family=\"Helvetica,sans-Serif\" font-size=\"14.00\">age &lt;= 25.5</text>\n",
       "<text text-anchor=\"middle\" x=\"194\" y=\"-156.8\" font-family=\"Helvetica,sans-Serif\" font-size=\"14.00\">gini = 0.231</text>\n",
       "<text text-anchor=\"middle\" x=\"194\" y=\"-141.8\" font-family=\"Helvetica,sans-Serif\" font-size=\"14.00\">samples = 2463</text>\n",
       "<text text-anchor=\"middle\" x=\"194\" y=\"-126.8\" font-family=\"Helvetica,sans-Serif\" font-size=\"14.00\">value = [2135, 328]</text>\n",
       "<text text-anchor=\"middle\" x=\"194\" y=\"-111.8\" font-family=\"Helvetica,sans-Serif\" font-size=\"14.00\">class = 0</text>\n",
       "</g>\n",
       "<!-- 1&#45;&gt;2 -->\n",
       "<g id=\"edge2\" class=\"edge\">\n",
       "<title>1&#45;&gt;2</title>\n",
       "<path fill=\"none\" stroke=\"black\" d=\"M328.91,-225.03C309.67,-213.83 288.52,-201.52 268.79,-190.03\"/>\n",
       "<polygon fill=\"black\" stroke=\"black\" points=\"270.54,-187 260.13,-185 267.01,-193.05 270.54,-187\"/>\n",
       "</g>\n",
       "<!-- 5 -->\n",
       "<g id=\"node6\" class=\"node\">\n",
       "<title>5</title>\n",
       "<path fill=\"#e68843\" stroke=\"black\" d=\"M445.5,-187C445.5,-187 344.5,-187 344.5,-187 338.5,-187 332.5,-181 332.5,-175 332.5,-175 332.5,-116 332.5,-116 332.5,-110 338.5,-104 344.5,-104 344.5,-104 445.5,-104 445.5,-104 451.5,-104 457.5,-110 457.5,-116 457.5,-116 457.5,-175 457.5,-175 457.5,-181 451.5,-187 445.5,-187\"/>\n",
       "<text text-anchor=\"middle\" x=\"395\" y=\"-171.8\" font-family=\"Helvetica,sans-Serif\" font-size=\"14.00\">age &lt;= 58.5</text>\n",
       "<text text-anchor=\"middle\" x=\"395\" y=\"-156.8\" font-family=\"Helvetica,sans-Serif\" font-size=\"14.00\">gini = 0.094</text>\n",
       "<text text-anchor=\"middle\" x=\"395\" y=\"-141.8\" font-family=\"Helvetica,sans-Serif\" font-size=\"14.00\">samples = 1053</text>\n",
       "<text text-anchor=\"middle\" x=\"395\" y=\"-126.8\" font-family=\"Helvetica,sans-Serif\" font-size=\"14.00\">value = [1001, 52]</text>\n",
       "<text text-anchor=\"middle\" x=\"395\" y=\"-111.8\" font-family=\"Helvetica,sans-Serif\" font-size=\"14.00\">class = 0</text>\n",
       "</g>\n",
       "<!-- 1&#45;&gt;5 -->\n",
       "<g id=\"edge5\" class=\"edge\">\n",
       "<title>1&#45;&gt;5</title>\n",
       "<path fill=\"none\" stroke=\"black\" d=\"M395,-222.91C395,-214.65 395,-205.86 395,-197.3\"/>\n",
       "<polygon fill=\"black\" stroke=\"black\" points=\"398.5,-197.02 395,-187.02 391.5,-197.02 398.5,-197.02\"/>\n",
       "</g>\n",
       "<!-- 3 -->\n",
       "<g id=\"node4\" class=\"node\">\n",
       "<title>3</title>\n",
       "<path fill=\"#f1ba93\" stroke=\"black\" d=\"M98,-68C98,-68 12,-68 12,-68 6,-68 0,-62 0,-56 0,-56 0,-12 0,-12 0,-6 6,0 12,0 12,0 98,0 98,0 104,0 110,-6 110,-12 110,-12 110,-56 110,-56 110,-62 104,-68 98,-68\"/>\n",
       "<text text-anchor=\"middle\" x=\"55\" y=\"-52.8\" font-family=\"Helvetica,sans-Serif\" font-size=\"14.00\">gini = 0.429</text>\n",
       "<text text-anchor=\"middle\" x=\"55\" y=\"-37.8\" font-family=\"Helvetica,sans-Serif\" font-size=\"14.00\">samples = 61</text>\n",
       "<text text-anchor=\"middle\" x=\"55\" y=\"-22.8\" font-family=\"Helvetica,sans-Serif\" font-size=\"14.00\">value = [42, 19]</text>\n",
       "<text text-anchor=\"middle\" x=\"55\" y=\"-7.8\" font-family=\"Helvetica,sans-Serif\" font-size=\"14.00\">class = 0</text>\n",
       "</g>\n",
       "<!-- 2&#45;&gt;3 -->\n",
       "<g id=\"edge3\" class=\"edge\">\n",
       "<title>2&#45;&gt;3</title>\n",
       "<path fill=\"none\" stroke=\"black\" d=\"M142.24,-103.73C130.2,-94.24 117.4,-84.16 105.42,-74.72\"/>\n",
       "<polygon fill=\"black\" stroke=\"black\" points=\"107.29,-71.74 97.27,-68.3 102.96,-77.24 107.29,-71.74\"/>\n",
       "</g>\n",
       "<!-- 4 -->\n",
       "<g id=\"node5\" class=\"node\">\n",
       "<title>4</title>\n",
       "<path fill=\"#e99456\" stroke=\"black\" d=\"M248,-68C248,-68 140,-68 140,-68 134,-68 128,-62 128,-56 128,-56 128,-12 128,-12 128,-6 134,0 140,0 140,0 248,0 248,0 254,0 260,-6 260,-12 260,-12 260,-56 260,-56 260,-62 254,-68 248,-68\"/>\n",
       "<text text-anchor=\"middle\" x=\"194\" y=\"-52.8\" font-family=\"Helvetica,sans-Serif\" font-size=\"14.00\">gini = 0.224</text>\n",
       "<text text-anchor=\"middle\" x=\"194\" y=\"-37.8\" font-family=\"Helvetica,sans-Serif\" font-size=\"14.00\">samples = 2402</text>\n",
       "<text text-anchor=\"middle\" x=\"194\" y=\"-22.8\" font-family=\"Helvetica,sans-Serif\" font-size=\"14.00\">value = [2093, 309]</text>\n",
       "<text text-anchor=\"middle\" x=\"194\" y=\"-7.8\" font-family=\"Helvetica,sans-Serif\" font-size=\"14.00\">class = 0</text>\n",
       "</g>\n",
       "<!-- 2&#45;&gt;4 -->\n",
       "<g id=\"edge4\" class=\"edge\">\n",
       "<title>2&#45;&gt;4</title>\n",
       "<path fill=\"none\" stroke=\"black\" d=\"M194,-103.73C194,-95.52 194,-86.86 194,-78.56\"/>\n",
       "<polygon fill=\"black\" stroke=\"black\" points=\"197.5,-78.3 194,-68.3 190.5,-78.3 197.5,-78.3\"/>\n",
       "</g>\n",
       "<!-- 6 -->\n",
       "<g id=\"node7\" class=\"node\">\n",
       "<title>6</title>\n",
       "<path fill=\"#e68742\" stroke=\"black\" d=\"M383.5,-68C383.5,-68 290.5,-68 290.5,-68 284.5,-68 278.5,-62 278.5,-56 278.5,-56 278.5,-12 278.5,-12 278.5,-6 284.5,0 290.5,0 290.5,0 383.5,0 383.5,0 389.5,0 395.5,-6 395.5,-12 395.5,-12 395.5,-56 395.5,-56 395.5,-62 389.5,-68 383.5,-68\"/>\n",
       "<text text-anchor=\"middle\" x=\"337\" y=\"-52.8\" font-family=\"Helvetica,sans-Serif\" font-size=\"14.00\">gini = 0.087</text>\n",
       "<text text-anchor=\"middle\" x=\"337\" y=\"-37.8\" font-family=\"Helvetica,sans-Serif\" font-size=\"14.00\">samples = 1027</text>\n",
       "<text text-anchor=\"middle\" x=\"337\" y=\"-22.8\" font-family=\"Helvetica,sans-Serif\" font-size=\"14.00\">value = [980, 47]</text>\n",
       "<text text-anchor=\"middle\" x=\"337\" y=\"-7.8\" font-family=\"Helvetica,sans-Serif\" font-size=\"14.00\">class = 0</text>\n",
       "</g>\n",
       "<!-- 5&#45;&gt;6 -->\n",
       "<g id=\"edge6\" class=\"edge\">\n",
       "<title>5&#45;&gt;6</title>\n",
       "<path fill=\"none\" stroke=\"black\" d=\"M373.4,-103.73C368.81,-95.06 363.96,-85.9 359.34,-77.18\"/>\n",
       "<polygon fill=\"black\" stroke=\"black\" points=\"362.41,-75.5 354.64,-68.3 356.23,-78.77 362.41,-75.5\"/>\n",
       "</g>\n",
       "<!-- 7 -->\n",
       "<g id=\"node8\" class=\"node\">\n",
       "<title>7</title>\n",
       "<path fill=\"#eb9f68\" stroke=\"black\" d=\"M504,-68C504,-68 426,-68 426,-68 420,-68 414,-62 414,-56 414,-56 414,-12 414,-12 414,-6 420,0 426,0 426,0 504,0 504,0 510,0 516,-6 516,-12 516,-12 516,-56 516,-56 516,-62 510,-68 504,-68\"/>\n",
       "<text text-anchor=\"middle\" x=\"465\" y=\"-52.8\" font-family=\"Helvetica,sans-Serif\" font-size=\"14.00\">gini = 0.311</text>\n",
       "<text text-anchor=\"middle\" x=\"465\" y=\"-37.8\" font-family=\"Helvetica,sans-Serif\" font-size=\"14.00\">samples = 26</text>\n",
       "<text text-anchor=\"middle\" x=\"465\" y=\"-22.8\" font-family=\"Helvetica,sans-Serif\" font-size=\"14.00\">value = [21, 5]</text>\n",
       "<text text-anchor=\"middle\" x=\"465\" y=\"-7.8\" font-family=\"Helvetica,sans-Serif\" font-size=\"14.00\">class = 0</text>\n",
       "</g>\n",
       "<!-- 5&#45;&gt;7 -->\n",
       "<g id=\"edge7\" class=\"edge\">\n",
       "<title>5&#45;&gt;7</title>\n",
       "<path fill=\"none\" stroke=\"black\" d=\"M421.07,-103.73C426.66,-94.97 432.59,-85.7 438.21,-76.91\"/>\n",
       "<polygon fill=\"black\" stroke=\"black\" points=\"441.28,-78.61 443.71,-68.3 435.38,-74.84 441.28,-78.61\"/>\n",
       "</g>\n",
       "<!-- 9 -->\n",
       "<g id=\"node10\" class=\"node\">\n",
       "<title>9</title>\n",
       "<path fill=\"#f2be98\" stroke=\"black\" d=\"M689,-187C689,-187 603,-187 603,-187 597,-187 591,-181 591,-175 591,-175 591,-116 591,-116 591,-110 597,-104 603,-104 603,-104 689,-104 689,-104 695,-104 701,-110 701,-116 701,-116 701,-175 701,-175 701,-181 695,-187 689,-187\"/>\n",
       "<text text-anchor=\"middle\" x=\"646\" y=\"-171.8\" font-family=\"Helvetica,sans-Serif\" font-size=\"14.00\">age &lt;= 63.5</text>\n",
       "<text text-anchor=\"middle\" x=\"646\" y=\"-156.8\" font-family=\"Helvetica,sans-Serif\" font-size=\"14.00\">gini = 0.439</text>\n",
       "<text text-anchor=\"middle\" x=\"646\" y=\"-141.8\" font-family=\"Helvetica,sans-Serif\" font-size=\"14.00\">samples = 77</text>\n",
       "<text text-anchor=\"middle\" x=\"646\" y=\"-126.8\" font-family=\"Helvetica,sans-Serif\" font-size=\"14.00\">value = [52, 25]</text>\n",
       "<text text-anchor=\"middle\" x=\"646\" y=\"-111.8\" font-family=\"Helvetica,sans-Serif\" font-size=\"14.00\">class = 0</text>\n",
       "</g>\n",
       "<!-- 8&#45;&gt;9 -->\n",
       "<g id=\"edge9\" class=\"edge\">\n",
       "<title>8&#45;&gt;9</title>\n",
       "<path fill=\"none\" stroke=\"black\" d=\"M646,-222.91C646,-214.65 646,-205.86 646,-197.3\"/>\n",
       "<polygon fill=\"black\" stroke=\"black\" points=\"649.5,-197.02 646,-187.02 642.5,-197.02 649.5,-197.02\"/>\n",
       "</g>\n",
       "<!-- 12 -->\n",
       "<g id=\"node13\" class=\"node\">\n",
       "<title>12</title>\n",
       "<path fill=\"#eff7fd\" stroke=\"black\" d=\"M887,-187C887,-187 789,-187 789,-187 783,-187 777,-181 777,-175 777,-175 777,-116 777,-116 777,-110 783,-104 789,-104 789,-104 887,-104 887,-104 893,-104 899,-110 899,-116 899,-116 899,-175 899,-175 899,-181 893,-187 887,-187\"/>\n",
       "<text text-anchor=\"middle\" x=\"838\" y=\"-171.8\" font-family=\"Helvetica,sans-Serif\" font-size=\"14.00\">balance &lt;= 464.0</text>\n",
       "<text text-anchor=\"middle\" x=\"838\" y=\"-156.8\" font-family=\"Helvetica,sans-Serif\" font-size=\"14.00\">gini = 0.499</text>\n",
       "<text text-anchor=\"middle\" x=\"838\" y=\"-141.8\" font-family=\"Helvetica,sans-Serif\" font-size=\"14.00\">samples = 23</text>\n",
       "<text text-anchor=\"middle\" x=\"838\" y=\"-126.8\" font-family=\"Helvetica,sans-Serif\" font-size=\"14.00\">value = [11, 12]</text>\n",
       "<text text-anchor=\"middle\" x=\"838\" y=\"-111.8\" font-family=\"Helvetica,sans-Serif\" font-size=\"14.00\">class = 1</text>\n",
       "</g>\n",
       "<!-- 8&#45;&gt;12 -->\n",
       "<g id=\"edge12\" class=\"edge\">\n",
       "<title>8&#45;&gt;12</title>\n",
       "<path fill=\"none\" stroke=\"black\" d=\"M701.02,-229.97C721.95,-217.22 746.09,-202.51 768.21,-189.03\"/>\n",
       "<polygon fill=\"black\" stroke=\"black\" points=\"770.19,-191.92 776.91,-183.73 766.55,-185.94 770.19,-191.92\"/>\n",
       "</g>\n",
       "<!-- 10 -->\n",
       "<g id=\"node11\" class=\"node\">\n",
       "<title>10</title>\n",
       "<path fill=\"#fdf5f0\" stroke=\"black\" d=\"M632,-68C632,-68 546,-68 546,-68 540,-68 534,-62 534,-56 534,-56 534,-12 534,-12 534,-6 540,0 546,0 546,0 632,0 632,0 638,0 644,-6 644,-12 644,-12 644,-56 644,-56 644,-62 638,-68 632,-68\"/>\n",
       "<text text-anchor=\"middle\" x=\"589\" y=\"-52.8\" font-family=\"Helvetica,sans-Serif\" font-size=\"14.00\">gini = 0.499</text>\n",
       "<text text-anchor=\"middle\" x=\"589\" y=\"-37.8\" font-family=\"Helvetica,sans-Serif\" font-size=\"14.00\">samples = 25</text>\n",
       "<text text-anchor=\"middle\" x=\"589\" y=\"-22.8\" font-family=\"Helvetica,sans-Serif\" font-size=\"14.00\">value = [13, 12]</text>\n",
       "<text text-anchor=\"middle\" x=\"589\" y=\"-7.8\" font-family=\"Helvetica,sans-Serif\" font-size=\"14.00\">class = 0</text>\n",
       "</g>\n",
       "<!-- 9&#45;&gt;10 -->\n",
       "<g id=\"edge10\" class=\"edge\">\n",
       "<title>9&#45;&gt;10</title>\n",
       "<path fill=\"none\" stroke=\"black\" d=\"M624.78,-103.73C620.26,-95.06 615.49,-85.9 610.96,-77.18\"/>\n",
       "<polygon fill=\"black\" stroke=\"black\" points=\"614.06,-75.55 606.33,-68.3 607.85,-78.79 614.06,-75.55\"/>\n",
       "</g>\n",
       "<!-- 11 -->\n",
       "<g id=\"node12\" class=\"node\">\n",
       "<title>11</title>\n",
       "<path fill=\"#eeab7b\" stroke=\"black\" d=\"M760,-68C760,-68 674,-68 674,-68 668,-68 662,-62 662,-56 662,-56 662,-12 662,-12 662,-6 668,0 674,0 674,0 760,0 760,0 766,0 772,-6 772,-12 772,-12 772,-56 772,-56 772,-62 766,-68 760,-68\"/>\n",
       "<text text-anchor=\"middle\" x=\"717\" y=\"-52.8\" font-family=\"Helvetica,sans-Serif\" font-size=\"14.00\">gini = 0.375</text>\n",
       "<text text-anchor=\"middle\" x=\"717\" y=\"-37.8\" font-family=\"Helvetica,sans-Serif\" font-size=\"14.00\">samples = 52</text>\n",
       "<text text-anchor=\"middle\" x=\"717\" y=\"-22.8\" font-family=\"Helvetica,sans-Serif\" font-size=\"14.00\">value = [39, 13]</text>\n",
       "<text text-anchor=\"middle\" x=\"717\" y=\"-7.8\" font-family=\"Helvetica,sans-Serif\" font-size=\"14.00\">class = 0</text>\n",
       "</g>\n",
       "<!-- 9&#45;&gt;11 -->\n",
       "<g id=\"edge11\" class=\"edge\">\n",
       "<title>9&#45;&gt;11</title>\n",
       "<path fill=\"none\" stroke=\"black\" d=\"M672.44,-103.73C678.12,-94.97 684.12,-85.7 689.83,-76.91\"/>\n",
       "<polygon fill=\"black\" stroke=\"black\" points=\"692.9,-78.59 695.41,-68.3 687.03,-74.79 692.9,-78.59\"/>\n",
       "</g>\n",
       "<!-- 13 -->\n",
       "<g id=\"node14\" class=\"node\">\n",
       "<title>13</title>\n",
       "<path fill=\"#9ccef2\" stroke=\"black\" d=\"M873.5,-68C873.5,-68 802.5,-68 802.5,-68 796.5,-68 790.5,-62 790.5,-56 790.5,-56 790.5,-12 790.5,-12 790.5,-6 796.5,0 802.5,0 802.5,0 873.5,0 873.5,0 879.5,0 885.5,-6 885.5,-12 885.5,-12 885.5,-56 885.5,-56 885.5,-62 879.5,-68 873.5,-68\"/>\n",
       "<text text-anchor=\"middle\" x=\"838\" y=\"-52.8\" font-family=\"Helvetica,sans-Serif\" font-size=\"14.00\">gini = 0.444</text>\n",
       "<text text-anchor=\"middle\" x=\"838\" y=\"-37.8\" font-family=\"Helvetica,sans-Serif\" font-size=\"14.00\">samples = 9</text>\n",
       "<text text-anchor=\"middle\" x=\"838\" y=\"-22.8\" font-family=\"Helvetica,sans-Serif\" font-size=\"14.00\">value = [3, 6]</text>\n",
       "<text text-anchor=\"middle\" x=\"838\" y=\"-7.8\" font-family=\"Helvetica,sans-Serif\" font-size=\"14.00\">class = 1</text>\n",
       "</g>\n",
       "<!-- 12&#45;&gt;13 -->\n",
       "<g id=\"edge13\" class=\"edge\">\n",
       "<title>12&#45;&gt;13</title>\n",
       "<path fill=\"none\" stroke=\"black\" d=\"M838,-103.73C838,-95.52 838,-86.86 838,-78.56\"/>\n",
       "<polygon fill=\"black\" stroke=\"black\" points=\"841.5,-78.3 838,-68.3 834.5,-78.3 841.5,-78.3\"/>\n",
       "</g>\n",
       "<!-- 14 -->\n",
       "<g id=\"node15\" class=\"node\">\n",
       "<title>14</title>\n",
       "<path fill=\"#f8e0ce\" stroke=\"black\" d=\"M990,-68C990,-68 916,-68 916,-68 910,-68 904,-62 904,-56 904,-56 904,-12 904,-12 904,-6 910,0 916,0 916,0 990,0 990,0 996,0 1002,-6 1002,-12 1002,-12 1002,-56 1002,-56 1002,-62 996,-68 990,-68\"/>\n",
       "<text text-anchor=\"middle\" x=\"953\" y=\"-52.8\" font-family=\"Helvetica,sans-Serif\" font-size=\"14.00\">gini = 0.49</text>\n",
       "<text text-anchor=\"middle\" x=\"953\" y=\"-37.8\" font-family=\"Helvetica,sans-Serif\" font-size=\"14.00\">samples = 14</text>\n",
       "<text text-anchor=\"middle\" x=\"953\" y=\"-22.8\" font-family=\"Helvetica,sans-Serif\" font-size=\"14.00\">value = [8, 6]</text>\n",
       "<text text-anchor=\"middle\" x=\"953\" y=\"-7.8\" font-family=\"Helvetica,sans-Serif\" font-size=\"14.00\">class = 0</text>\n",
       "</g>\n",
       "<!-- 12&#45;&gt;14 -->\n",
       "<g id=\"edge14\" class=\"edge\">\n",
       "<title>12&#45;&gt;14</title>\n",
       "<path fill=\"none\" stroke=\"black\" d=\"M880.82,-103.73C890.59,-94.42 900.97,-84.54 910.72,-75.26\"/>\n",
       "<polygon fill=\"black\" stroke=\"black\" points=\"913.2,-77.73 918.03,-68.3 908.37,-72.66 913.2,-77.73\"/>\n",
       "</g>\n",
       "</g>\n",
       "</svg>\n"
      ],
      "text/plain": [
       "<graphviz.files.Source at 0x7fc8a5192f50>"
      ]
     },
     "execution_count": 48,
     "metadata": {},
     "output_type": "execute_result"
    }
   ],
   "source": [
    "dot_data = tree.export_graphviz(DT_Mode12, out_file=None, \n",
    "                     feature_names=Features.columns,  \n",
    "                     class_names=Bank_data['y'].unique(),\n",
    "                     filled=True, rounded=True,  \n",
    "                     special_characters=False)  \n",
    "graph = graphviz.Source(dot_data)  \n",
    "graph "
   ]
  },
  {
   "cell_type": "code",
   "execution_count": null,
   "metadata": {},
   "outputs": [],
   "source": []
  }
 ],
 "metadata": {
  "kernelspec": {
   "display_name": "Python 3",
   "language": "python",
   "name": "python3"
  },
  "language_info": {
   "codemirror_mode": {
    "name": "ipython",
    "version": 3
   },
   "file_extension": ".py",
   "mimetype": "text/x-python",
   "name": "python",
   "nbconvert_exporter": "python",
   "pygments_lexer": "ipython3",
   "version": "3.7.9"
  }
 },
 "nbformat": 4,
 "nbformat_minor": 4
}
