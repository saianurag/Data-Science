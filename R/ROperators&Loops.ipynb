{
 "cells": [
  {
   "cell_type": "markdown",
   "metadata": {},
   "source": [
    "## Operators\n",
    "\n",
    "Like any other programming language, R also provides a similar set of arithematic, comparision and logical operators. We will see some common operators.\n",
    "\n",
    "### 1. Arithematic operators\n",
    "\n",
    "- `+` Add\n",
    "- `-` Subtract\n",
    "- `*` Multiply\n",
    "- `/` Divide\n",
    "- `^` Exponent (Power to)\n",
    "- `%/%` Integer Division\n",
    "- `%%` Modulus (Remainder from Division)"
   ]
  },
  {
   "cell_type": "code",
   "execution_count": 17,
   "metadata": {},
   "outputs": [
    {
     "data": {
      "text/html": [
       "25"
      ],
      "text/latex": [
       "25"
      ],
      "text/markdown": [
       "25"
      ],
      "text/plain": [
       "[1] 25"
      ]
     },
     "metadata": {},
     "output_type": "display_data"
    },
    {
     "data": {
      "text/html": [
       "2.5"
      ],
      "text/latex": [
       "2.5"
      ],
      "text/markdown": [
       "2.5"
      ],
      "text/plain": [
       "[1] 2.5"
      ]
     },
     "metadata": {},
     "output_type": "display_data"
    },
    {
     "data": {
      "text/html": [
       "2"
      ],
      "text/latex": [
       "2"
      ],
      "text/markdown": [
       "2"
      ],
      "text/plain": [
       "[1] 2"
      ]
     },
     "metadata": {},
     "output_type": "display_data"
    },
    {
     "data": {
      "text/html": [
       "1"
      ],
      "text/latex": [
       "1"
      ],
      "text/markdown": [
       "1"
      ],
      "text/plain": [
       "[1] 1"
      ]
     },
     "metadata": {},
     "output_type": "display_data"
    }
   ],
   "source": [
    "5^2\n",
    "5/2\n",
    "5%/%2\n",
    "5%%2"
   ]
  },
  {
   "cell_type": "markdown",
   "metadata": {},
   "source": [
    "### 2. Relational / Comparision operators\n",
    "\n",
    "- `>` Greater than\n",
    "- `<` Less than\n",
    "- `>=` Greater than or equal to\n",
    "- `<=` Less than or equal to\n",
    "- `==` equal to\n",
    "- `!=` not equal to\n",
    "\n",
    "![](img/r_conditionoperators.png)"
   ]
  },
  {
   "cell_type": "code",
   "execution_count": 2,
   "metadata": {},
   "outputs": [
    {
     "data": {
      "text/html": [
       "FALSE"
      ],
      "text/latex": [
       "FALSE"
      ],
      "text/markdown": [
       "FALSE"
      ],
      "text/plain": [
       "[1] FALSE"
      ]
     },
     "metadata": {},
     "output_type": "display_data"
    },
    {
     "data": {
      "text/html": [
       "FALSE"
      ],
      "text/latex": [
       "FALSE"
      ],
      "text/markdown": [
       "FALSE"
      ],
      "text/plain": [
       "[1] FALSE"
      ]
     },
     "metadata": {},
     "output_type": "display_data"
    },
    {
     "data": {
      "text/html": [
       "TRUE"
      ],
      "text/latex": [
       "TRUE"
      ],
      "text/markdown": [
       "TRUE"
      ],
      "text/plain": [
       "[1] TRUE"
      ]
     },
     "metadata": {},
     "output_type": "display_data"
    },
    {
     "data": {
      "text/html": [
       "TRUE"
      ],
      "text/latex": [
       "TRUE"
      ],
      "text/markdown": [
       "TRUE"
      ],
      "text/plain": [
       "[1] TRUE"
      ]
     },
     "metadata": {},
     "output_type": "display_data"
    },
    {
     "data": {
      "text/html": [
       "TRUE"
      ],
      "text/latex": [
       "TRUE"
      ],
      "text/markdown": [
       "TRUE"
      ],
      "text/plain": [
       "[1] TRUE"
      ]
     },
     "metadata": {},
     "output_type": "display_data"
    },
    {
     "data": {
      "text/html": [
       "FALSE"
      ],
      "text/latex": [
       "FALSE"
      ],
      "text/markdown": [
       "FALSE"
      ],
      "text/plain": [
       "[1] FALSE"
      ]
     },
     "metadata": {},
     "output_type": "display_data"
    }
   ],
   "source": [
    "2 > 2\n",
    "2 < 2\n",
    "2 >= 2\n",
    "2 <= 2\n",
    "2 == 2\n",
    "2 != 2"
   ]
  },
  {
   "cell_type": "markdown",
   "metadata": {},
   "source": [
    "### 3. Logical operators\n",
    "\n",
    "It is possible to join multiple condition together using logical operators. Only when the condition as a whole is satisfied the code is executed.\n",
    "\n",
    "\n",
    "- `&` element wise AND\n",
    "- `&&` AND\n",
    "- `|` element wise OR\n",
    "- `||` OR\n",
    "- `!` NOT\n",
    "\n",
    "Operators & and | perform element-wise operation producing result having length of the longer operand. But && and || examines only the first element of the operands resulting into a single length logical vector."
   ]
  },
  {
   "cell_type": "code",
   "execution_count": 26,
   "metadata": {},
   "outputs": [
    {
     "data": {
      "text/html": [
       "<style>\n",
       ".list-inline {list-style: none; margin:0; padding: 0}\n",
       ".list-inline>li {display: inline-block}\n",
       ".list-inline>li:not(:last-child)::after {content: \"\\00b7\"; padding: 0 .5ex}\n",
       "</style>\n",
       "<ol class=list-inline><li>FALSE</li><li>FALSE</li><li>TRUE</li></ol>\n"
      ],
      "text/latex": [
       "\\begin{enumerate*}\n",
       "\\item FALSE\n",
       "\\item FALSE\n",
       "\\item TRUE\n",
       "\\end{enumerate*}\n"
      ],
      "text/markdown": [
       "1. FALSE\n",
       "2. FALSE\n",
       "3. TRUE\n",
       "\n",
       "\n"
      ],
      "text/plain": [
       "[1] FALSE FALSE  TRUE"
      ]
     },
     "metadata": {},
     "output_type": "display_data"
    },
    {
     "data": {
      "text/html": [
       "FALSE"
      ],
      "text/latex": [
       "FALSE"
      ],
      "text/markdown": [
       "FALSE"
      ],
      "text/plain": [
       "[1] FALSE"
      ]
     },
     "metadata": {},
     "output_type": "display_data"
    },
    {
     "data": {
      "text/html": [
       "<style>\n",
       ".list-inline {list-style: none; margin:0; padding: 0}\n",
       ".list-inline>li {display: inline-block}\n",
       ".list-inline>li:not(:last-child)::after {content: \"\\00b7\"; padding: 0 .5ex}\n",
       "</style>\n",
       "<ol class=list-inline><li>FALSE</li><li>TRUE</li><li>TRUE</li></ol>\n"
      ],
      "text/latex": [
       "\\begin{enumerate*}\n",
       "\\item FALSE\n",
       "\\item TRUE\n",
       "\\item TRUE\n",
       "\\end{enumerate*}\n"
      ],
      "text/markdown": [
       "1. FALSE\n",
       "2. TRUE\n",
       "3. TRUE\n",
       "\n",
       "\n"
      ],
      "text/plain": [
       "[1] FALSE  TRUE  TRUE"
      ]
     },
     "metadata": {},
     "output_type": "display_data"
    },
    {
     "data": {
      "text/html": [
       "FALSE"
      ],
      "text/latex": [
       "FALSE"
      ],
      "text/markdown": [
       "FALSE"
      ],
      "text/plain": [
       "[1] FALSE"
      ]
     },
     "metadata": {},
     "output_type": "display_data"
    },
    {
     "data": {
      "text/html": [
       "<style>\n",
       ".list-inline {list-style: none; margin:0; padding: 0}\n",
       ".list-inline>li {display: inline-block}\n",
       ".list-inline>li:not(:last-child)::after {content: \"\\00b7\"; padding: 0 .5ex}\n",
       "</style>\n",
       "<ol class=list-inline><li>TRUE</li><li>FALSE</li><li>FALSE</li></ol>\n"
      ],
      "text/latex": [
       "\\begin{enumerate*}\n",
       "\\item TRUE\n",
       "\\item FALSE\n",
       "\\item FALSE\n",
       "\\end{enumerate*}\n"
      ],
      "text/markdown": [
       "1. TRUE\n",
       "2. FALSE\n",
       "3. FALSE\n",
       "\n",
       "\n"
      ],
      "text/plain": [
       "[1]  TRUE FALSE FALSE"
      ]
     },
     "metadata": {},
     "output_type": "display_data"
    }
   ],
   "source": [
    "num <- c(55, 4, 400)\n",
    "\n",
    "num %% 4 == 0 & num %% 10 == 0\n",
    "num %% 4 == 0 && num %% 10 == 0\n",
    "\n",
    "num %% 4 == 0 | num %% 10 == 0\n",
    "num %% 4 == 0 || num %% 10 == 0\n",
    "\n",
    "!(num %% 4 == 0 | num %% 10 == 0)"
   ]
  },
  {
   "cell_type": "markdown",
   "metadata": {},
   "source": [
    "## Conditional statements\n",
    "\n",
    "Every programming language provides syntax for conditional statements. These are useful when some part of the code should execute only when a condition is satisfied, else the code portion shouldn't execute or some other portion of code should execute. \n",
    "\n",
    "There are 2 types of conditional statements.\n",
    "\n",
    "1. if condition\n",
    "2. if-else condition\n",
    "\n",
    "![](img/r_ifelse.png)\n",
    "\n",
    "### 1. if condition"
   ]
  },
  {
   "cell_type": "code",
   "execution_count": 33,
   "metadata": {},
   "outputs": [
    {
     "name": "stdout",
     "output_type": "stream",
     "text": [
      "[1] \"Positive number\"\n"
     ]
    }
   ],
   "source": [
    "num <- 5\n",
    "\n",
    "if(num > 0){\n",
    "  print(\"Positive number\")\n",
    "}\n"
   ]
  },
  {
   "cell_type": "markdown",
   "metadata": {},
   "source": [
    "### 2. if-else condition"
   ]
  },
  {
   "cell_type": "code",
   "execution_count": 52,
   "metadata": {},
   "outputs": [
    {
     "name": "stdout",
     "output_type": "stream",
     "text": [
      "[1] \"Negative number\"\n"
     ]
    }
   ],
   "source": [
    "num <- -3\n",
    "\n",
    "if(num > 0){\n",
    "    print(\"Positive number\")\n",
    "} else if (num == 0) {\n",
    "    print(\"Zero\")\n",
    "} else {\n",
    "    print(\"Negative number\")\n",
    "}"
   ]
  },
  {
   "cell_type": "markdown",
   "metadata": {},
   "source": [
    "There is a shorter way of implementing if-else which is quite useful with two to 3 conditions. It can be used for any number of conditions but it becomes difficult to read as the conditions increase. \n"
   ]
  },
  {
   "cell_type": "markdown",
   "metadata": {},
   "source": [
    "ifelse( condition, do something, do something different )"
   ]
  },
  {
   "cell_type": "code",
   "execution_count": 42,
   "metadata": {},
   "outputs": [
    {
     "data": {
      "text/html": [
       "'Positive number'"
      ],
      "text/latex": [
       "'Positive number'"
      ],
      "text/markdown": [
       "'Positive number'"
      ],
      "text/plain": [
       "[1] \"Positive number\""
      ]
     },
     "metadata": {},
     "output_type": "display_data"
    }
   ],
   "source": [
    "num <- 3\n",
    "\n",
    "ifelse( num > 0, \"Positive number\", ifelse( num == 0 , \"Zero\", \"Negative number\") )\n"
   ]
  },
  {
   "cell_type": "markdown",
   "metadata": {},
   "source": [
    "**This also works with vector more than length 1. It will automatically iterate through each element.**"
   ]
  },
  {
   "cell_type": "code",
   "execution_count": 47,
   "metadata": {},
   "outputs": [
    {
     "data": {
      "text/html": [
       "<style>\n",
       ".list-inline {list-style: none; margin:0; padding: 0}\n",
       ".list-inline>li {display: inline-block}\n",
       ".list-inline>li:not(:last-child)::after {content: \"\\00b7\"; padding: 0 .5ex}\n",
       "</style>\n",
       "<ol class=list-inline><li>'Negative number'</li><li>'Zero'</li><li>'Positive number'</li></ol>\n"
      ],
      "text/latex": [
       "\\begin{enumerate*}\n",
       "\\item 'Negative number'\n",
       "\\item 'Zero'\n",
       "\\item 'Positive number'\n",
       "\\end{enumerate*}\n"
      ],
      "text/markdown": [
       "1. 'Negative number'\n",
       "2. 'Zero'\n",
       "3. 'Positive number'\n",
       "\n",
       "\n"
      ],
      "text/plain": [
       "[1] \"Negative number\" \"Zero\"            \"Positive number\""
      ]
     },
     "metadata": {},
     "output_type": "display_data"
    }
   ],
   "source": [
    "num <- c(-3, 0, 3)\n",
    "\n",
    "ifelse( num > 0, \"Positive number\", ifelse( num == 0 , \"Zero\", \"Negative number\"))\n"
   ]
  },
  {
   "cell_type": "markdown",
   "metadata": {},
   "source": [
    "GREAT..This is internally running a loop to process each element of the vector. \n",
    "\n",
    "**What if we explicitly want to use this looping functionality for code other than if-else??? We will see that next.**\n",
    "\n",
    "## Loops\n",
    "\n",
    "Every programming language provides syntax for executing loops. These are useful when some part of the code should execute more than once. \n",
    "\n",
    "There are 2 ways of writing loops.\n",
    "\n",
    "1. For Loop \n",
    "2. While Loop\n",
    "\n",
    "![](img/r_loops.png)\n",
    "\n",
    "### 1. For Loop\n",
    "\n",
    "In a for loop, the code gets executed n times. The value of n should be pre-defined and cannot be changed during the execution."
   ]
  },
  {
   "cell_type": "code",
   "execution_count": 51,
   "metadata": {},
   "outputs": [
    {
     "name": "stdout",
     "output_type": "stream",
     "text": [
      "[1] \"Negative number\"\n",
      "[1] \"Zero\"\n",
      "[1] \"Positive number\"\n"
     ]
    }
   ],
   "source": [
    "num <- c(-3, 0, 3)\n",
    "\n",
    "for (n in num) {\n",
    "  if(n > 0){\n",
    "      print(\"Positive number\")\n",
    "  } else if (n == 0) {\n",
    "      print(\"Zero\")\n",
    "  } else {\n",
    "      print(\"Negative number\")\n",
    "  }\n",
    "}"
   ]
  },
  {
   "cell_type": "markdown",
   "metadata": {},
   "source": [
    "### 2. While loop\n",
    "\n",
    "In a while loop, the code gets executed iteratively until a condition is met. It is important to be careful while using while loops because if the condition is not handeled properly within the construct then the loop will run infinitely."
   ]
  },
  {
   "cell_type": "code",
   "execution_count": 58,
   "metadata": {},
   "outputs": [
    {
     "name": "stdout",
     "output_type": "stream",
     "text": [
      "[1] \"Negative number\"\n",
      "[1] \"Zero\"\n",
      "[1] \"Positive number\"\n"
     ]
    }
   ],
   "source": [
    "cnt <- 1\n",
    "num <- c(-3, 0, 3)\n",
    "\n",
    "while (cnt <= length(num)) {\n",
    "  \n",
    "  if(num[cnt] > 0){\n",
    "      print(\"Positive number\")\n",
    "  } else if (num[cnt] == 0) {\n",
    "      print(\"Zero\")\n",
    "  } else {\n",
    "      print(\"Negative number\")\n",
    "  }\n",
    "  \n",
    "  cnt = cnt + 1\n",
    "  \n",
    "}"
   ]
  },
  {
   "cell_type": "markdown",
   "metadata": {},
   "source": [
    "Sometimes, you might want to break out of the loop intermediately, it can be done using `break` command.\n",
    "\n",
    "#### Let's say we want to loop for only positive and negative number, and want to break if we get 0.\n",
    "\n"
   ]
  },
  {
   "cell_type": "code",
   "execution_count": 62,
   "metadata": {},
   "outputs": [
    {
     "name": "stdout",
     "output_type": "stream",
     "text": [
      "[1] \"Negative number :  -3\"\n",
      "[1] \"Positive number :  5\"\n",
      "[1] \"Negative number :  -8\"\n",
      "[1] \"Zero found : Skipping  2 number/s\"\n"
     ]
    }
   ],
   "source": [
    "cnt <- 1\n",
    "num <- c(-3, 5, -8, 0, 3, -5)\n",
    "\n",
    "while (cnt <= length(num)) {\n",
    "  if(num[cnt] > 0){\n",
    "      print(paste(\"Positive number : \", num[cnt]))\n",
    "  } else if (num[cnt] == 0) {\n",
    "      print(paste(\"Zero found : Skipping \", length(num) - cnt, \"number/s\"))\n",
    "      break\n",
    "  } else {\n",
    "      print(paste(\"Negative number : \", num[cnt]))\n",
    "  }\n",
    "  cnt = cnt + 1\n",
    "}"
   ]
  },
  {
   "cell_type": "markdown",
   "metadata": {},
   "source": [
    "## Looping Functions\n",
    "\n",
    "We have already seen how to write loops. Now, we will see some looping function that come very handy when a function has to be applied iteratively on an object, without writing a loop explicitly.\n",
    "\n",
    "There are 6 such functions, together making the apply family. We will look mainly into the two of them which are the ones you will use the most. For others, there are easier way to get the same result, we will see that later.\n",
    "\n",
    "1. apply\n",
    "2. lapply"
   ]
  },
  {
   "cell_type": "code",
   "execution_count": 11,
   "metadata": {},
   "outputs": [
    {
     "data": {
      "text/html": [
       "<table>\n",
       "<caption>A data.frame: 3 × 3</caption>\n",
       "<thead>\n",
       "\t<tr><th></th><th scope=col>English</th><th scope=col>Math</th><th scope=col>Science</th></tr>\n",
       "\t<tr><th></th><th scope=col>&lt;dbl&gt;</th><th scope=col>&lt;dbl&gt;</th><th scope=col>&lt;dbl&gt;</th></tr>\n",
       "</thead>\n",
       "<tbody>\n",
       "\t<tr><th scope=row>S1</th><td>50</td><td>38</td><td>75</td></tr>\n",
       "\t<tr><th scope=row>S2</th><td>85</td><td>65</td><td>75</td></tr>\n",
       "\t<tr><th scope=row>S3</th><td>90</td><td>65</td><td>80</td></tr>\n",
       "</tbody>\n",
       "</table>\n"
      ],
      "text/latex": [
       "A data.frame: 3 × 3\n",
       "\\begin{tabular}{r|lll}\n",
       "  & English & Math & Science\\\\\n",
       "  & <dbl> & <dbl> & <dbl>\\\\\n",
       "\\hline\n",
       "\tS1 & 50 & 38 & 75\\\\\n",
       "\tS2 & 85 & 65 & 75\\\\\n",
       "\tS3 & 90 & 65 & 80\\\\\n",
       "\\end{tabular}\n"
      ],
      "text/markdown": [
       "\n",
       "A data.frame: 3 × 3\n",
       "\n",
       "| <!--/--> | English &lt;dbl&gt; | Math &lt;dbl&gt; | Science &lt;dbl&gt; |\n",
       "|---|---|---|---|\n",
       "| S1 | 50 | 38 | 75 |\n",
       "| S2 | 85 | 65 | 75 |\n",
       "| S3 | 90 | 65 | 80 |\n",
       "\n"
      ],
      "text/plain": [
       "   English Math Science\n",
       "S1 50      38   75     \n",
       "S2 85      65   75     \n",
       "S3 90      65   80     "
      ]
     },
     "metadata": {},
     "output_type": "display_data"
    }
   ],
   "source": [
    "English <- c(50, 85, 90)\n",
    "Math <- c(38, 65, 65)\n",
    "Science <- c(75, 75, 80)\n",
    "\n",
    "df <- data.frame(English, Math, Science, row.names = c('S1', 'S2', 'S3'))\n",
    "df"
   ]
  },
  {
   "cell_type": "markdown",
   "metadata": {},
   "source": [
    "\n",
    "### 1. apply\n",
    "\n",
    "apply function requires three mandatory arguments.\n",
    "\n",
    "`apply(X, MARGIN, FUN, ...)`\n",
    "\n",
    "- `X` array or matrix\n",
    "- `MARGIN` for a matrix \n",
    "    - 1 indicates rows, \n",
    "    - 2 indicates columns, \n",
    "    - c(1, 2) indicates rows and columns. \n",
    "- `FUN` pre-defined (like mean, max, min etc) or user-defined function\n",
    "- `...` arguments to function\n",
    "\n",
    "_Apply can return a vector, array or list based on the dimension of value returned from each function call._\n",
    "\n",
    "- Apply row-wise"
   ]
  },
  {
   "cell_type": "code",
   "execution_count": 12,
   "metadata": {},
   "outputs": [
    {
     "data": {
      "text/html": [
       "<style>\n",
       ".dl-inline {width: auto; margin:0; padding: 0}\n",
       ".dl-inline>dt, .dl-inline>dd {float: none; width: auto; display: inline-block}\n",
       ".dl-inline>dt::after {content: \":\\0020\"; padding-right: .5ex}\n",
       ".dl-inline>dt:not(:first-of-type) {padding-left: .5ex}\n",
       "</style><dl class=dl-inline><dt>S1</dt><dd>38</dd><dt>S2</dt><dd>65</dd><dt>S3</dt><dd>65</dd></dl>\n"
      ],
      "text/latex": [
       "\\begin{description*}\n",
       "\\item[S1] 38\n",
       "\\item[S2] 65\n",
       "\\item[S3] 65\n",
       "\\end{description*}\n"
      ],
      "text/markdown": [
       "S1\n",
       ":   38S2\n",
       ":   65S3\n",
       ":   65\n",
       "\n"
      ],
      "text/plain": [
       "S1 S2 S3 \n",
       "38 65 65 "
      ]
     },
     "metadata": {},
     "output_type": "display_data"
    },
    {
     "data": {
      "text/html": [
       "<style>\n",
       ".dl-inline {width: auto; margin:0; padding: 0}\n",
       ".dl-inline>dt, .dl-inline>dd {float: none; width: auto; display: inline-block}\n",
       ".dl-inline>dt::after {content: \":\\0020\"; padding-right: .5ex}\n",
       ".dl-inline>dt:not(:first-of-type) {padding-left: .5ex}\n",
       "</style><dl class=dl-inline><dt>S1</dt><dd>75</dd><dt>S2</dt><dd>85</dd><dt>S3</dt><dd>90</dd></dl>\n"
      ],
      "text/latex": [
       "\\begin{description*}\n",
       "\\item[S1] 75\n",
       "\\item[S2] 85\n",
       "\\item[S3] 90\n",
       "\\end{description*}\n"
      ],
      "text/markdown": [
       "S1\n",
       ":   75S2\n",
       ":   85S3\n",
       ":   90\n",
       "\n"
      ],
      "text/plain": [
       "S1 S2 S3 \n",
       "75 85 90 "
      ]
     },
     "metadata": {},
     "output_type": "display_data"
    },
    {
     "data": {
      "text/html": [
       "<style>\n",
       ".dl-inline {width: auto; margin:0; padding: 0}\n",
       ".dl-inline>dt, .dl-inline>dd {float: none; width: auto; display: inline-block}\n",
       ".dl-inline>dt::after {content: \":\\0020\"; padding-right: .5ex}\n",
       ".dl-inline>dt:not(:first-of-type) {padding-left: .5ex}\n",
       "</style><dl class=dl-inline><dt>S1</dt><dd>54.3333333333333</dd><dt>S2</dt><dd>75</dd><dt>S3</dt><dd>78.3333333333333</dd></dl>\n"
      ],
      "text/latex": [
       "\\begin{description*}\n",
       "\\item[S1] 54.3333333333333\n",
       "\\item[S2] 75\n",
       "\\item[S3] 78.3333333333333\n",
       "\\end{description*}\n"
      ],
      "text/markdown": [
       "S1\n",
       ":   54.3333333333333S2\n",
       ":   75S3\n",
       ":   78.3333333333333\n",
       "\n"
      ],
      "text/plain": [
       "      S1       S2       S3 \n",
       "54.33333 75.00000 78.33333 "
      ]
     },
     "metadata": {},
     "output_type": "display_data"
    }
   ],
   "source": [
    "apply(df, 1, min)\n",
    "apply(df, 1, max)\n",
    "apply(df, 1, mean)"
   ]
  },
  {
   "cell_type": "markdown",
   "metadata": {},
   "source": [
    "- Apply column-wise"
   ]
  },
  {
   "cell_type": "code",
   "execution_count": 72,
   "metadata": {
    "scrolled": false
   },
   "outputs": [
    {
     "data": {
      "text/html": [
       "<table>\n",
       "<caption>A matrix: 3 × 3 of type dbl</caption>\n",
       "<thead>\n",
       "\t<tr><th></th><th scope=col>English</th><th scope=col>Math</th><th scope=col>Science</th></tr>\n",
       "</thead>\n",
       "<tbody>\n",
       "\t<tr><th scope=row>S1</th><td>50</td><td>38</td><td>75</td></tr>\n",
       "\t<tr><th scope=row>S2</th><td>85</td><td>65</td><td>75</td></tr>\n",
       "\t<tr><th scope=row>S3</th><td>90</td><td>65</td><td>80</td></tr>\n",
       "</tbody>\n",
       "</table>\n"
      ],
      "text/latex": [
       "A matrix: 3 × 3 of type dbl\n",
       "\\begin{tabular}{r|lll}\n",
       "  & English & Math & Science\\\\\n",
       "\\hline\n",
       "\tS1 & 50 & 38 & 75\\\\\n",
       "\tS2 & 85 & 65 & 75\\\\\n",
       "\tS3 & 90 & 65 & 80\\\\\n",
       "\\end{tabular}\n"
      ],
      "text/markdown": [
       "\n",
       "A matrix: 3 × 3 of type dbl\n",
       "\n",
       "| <!--/--> | English | Math | Science |\n",
       "|---|---|---|---|\n",
       "| S1 | 50 | 38 | 75 |\n",
       "| S2 | 85 | 65 | 75 |\n",
       "| S3 | 90 | 65 | 80 |\n",
       "\n"
      ],
      "text/plain": [
       "   English Math Science\n",
       "S1 50      38   75     \n",
       "S2 85      65   75     \n",
       "S3 90      65   80     "
      ]
     },
     "metadata": {},
     "output_type": "display_data"
    },
    {
     "data": {
      "text/html": [
       "<style>\n",
       ".dl-inline {width: auto; margin:0; padding: 0}\n",
       ".dl-inline>dt, .dl-inline>dd {float: none; width: auto; display: inline-block}\n",
       ".dl-inline>dt::after {content: \":\\0020\"; padding-right: .5ex}\n",
       ".dl-inline>dt:not(:first-of-type) {padding-left: .5ex}\n",
       "</style><dl class=dl-inline><dt>English</dt><dd>90</dd><dt>Math</dt><dd>65</dd><dt>Science</dt><dd>80</dd></dl>\n"
      ],
      "text/latex": [
       "\\begin{description*}\n",
       "\\item[English] 90\n",
       "\\item[Math] 65\n",
       "\\item[Science] 80\n",
       "\\end{description*}\n"
      ],
      "text/markdown": [
       "English\n",
       ":   90Math\n",
       ":   65Science\n",
       ":   80\n",
       "\n"
      ],
      "text/plain": [
       "English    Math Science \n",
       "     90      65      80 "
      ]
     },
     "metadata": {},
     "output_type": "display_data"
    },
    {
     "data": {
      "text/html": [
       "<style>\n",
       ".dl-inline {width: auto; margin:0; padding: 0}\n",
       ".dl-inline>dt, .dl-inline>dd {float: none; width: auto; display: inline-block}\n",
       ".dl-inline>dt::after {content: \":\\0020\"; padding-right: .5ex}\n",
       ".dl-inline>dt:not(:first-of-type) {padding-left: .5ex}\n",
       "</style><dl class=dl-inline><dt>English</dt><dd>75</dd><dt>Math</dt><dd>56</dd><dt>Science</dt><dd>76.6666666666667</dd></dl>\n"
      ],
      "text/latex": [
       "\\begin{description*}\n",
       "\\item[English] 75\n",
       "\\item[Math] 56\n",
       "\\item[Science] 76.6666666666667\n",
       "\\end{description*}\n"
      ],
      "text/markdown": [
       "English\n",
       ":   75Math\n",
       ":   56Science\n",
       ":   76.6666666666667\n",
       "\n"
      ],
      "text/plain": [
       " English     Math  Science \n",
       "75.00000 56.00000 76.66667 "
      ]
     },
     "metadata": {},
     "output_type": "display_data"
    }
   ],
   "source": [
    "apply(df, 2, min)\n",
    "apply(df, 2, max)\n",
    "apply(df, 2, mean)"
   ]
  },
  {
   "cell_type": "markdown",
   "metadata": {},
   "source": [
    "### 2. lapply\n",
    "\n",
    "lapply takes in a vector or list. Any other object is coerced to list internally. As data frame is a collection of similar length list, every list element (column) of the data frame is passed as an argument to the function. So, we don't give the argument '2' explicitly as in apply().\n",
    "\n",
    "`lapply(X, FUN, ...)`\n",
    "\n",
    "It always returns a list.\n"
   ]
  },
  {
   "cell_type": "code",
   "execution_count": 14,
   "metadata": {
    "scrolled": true
   },
   "outputs": [
    {
     "data": {
      "text/html": [
       "<dl>\n",
       "\t<dt>$English</dt>\n",
       "\t\t<dd>75</dd>\n",
       "\t<dt>$Math</dt>\n",
       "\t\t<dd>56</dd>\n",
       "\t<dt>$Science</dt>\n",
       "\t\t<dd>76.6666666666667</dd>\n",
       "</dl>\n"
      ],
      "text/latex": [
       "\\begin{description}\n",
       "\\item[\\$English] 75\n",
       "\\item[\\$Math] 56\n",
       "\\item[\\$Science] 76.6666666666667\n",
       "\\end{description}\n"
      ],
      "text/markdown": [
       "$English\n",
       ":   75\n",
       "$Math\n",
       ":   56\n",
       "$Science\n",
       ":   76.6666666666667\n",
       "\n",
       "\n"
      ],
      "text/plain": [
       "$English\n",
       "[1] 75\n",
       "\n",
       "$Math\n",
       "[1] 56\n",
       "\n",
       "$Science\n",
       "[1] 76.66667\n"
      ]
     },
     "metadata": {},
     "output_type": "display_data"
    }
   ],
   "source": [
    "lapply(df, mean) "
   ]
  },
  {
   "cell_type": "markdown",
   "metadata": {},
   "source": [
    "**Can you create a list with different element size and print the length of each element?**"
   ]
  },
  {
   "cell_type": "code",
   "execution_count": 85,
   "metadata": {
    "scrolled": false
   },
   "outputs": [
    {
     "data": {
      "text/html": [
       "<dl>\n",
       "\t<dt>$a</dt>\n",
       "\t\t<dd>3</dd>\n",
       "\t<dt>$b</dt>\n",
       "\t\t<dd>2</dd>\n",
       "\t<dt>$c</dt>\n",
       "\t\t<dd>1</dd>\n",
       "</dl>\n"
      ],
      "text/latex": [
       "\\begin{description}\n",
       "\\item[\\$a] 3\n",
       "\\item[\\$b] 2\n",
       "\\item[\\$c] 1\n",
       "\\end{description}\n"
      ],
      "text/markdown": [
       "$a\n",
       ":   3\n",
       "$b\n",
       ":   2\n",
       "$c\n",
       ":   1\n",
       "\n",
       "\n"
      ],
      "text/plain": [
       "$a\n",
       "[1] 3\n",
       "\n",
       "$b\n",
       "[1] 2\n",
       "\n",
       "$c\n",
       "[1] 1\n"
      ]
     },
     "metadata": {},
     "output_type": "display_data"
    }
   ],
   "source": [
    "l <- list(a = 1:3, b = c(T, F), c = \"Hello\")\n",
    "\n",
    "lapply(l, length)"
   ]
  },
  {
   "cell_type": "markdown",
   "metadata": {},
   "source": [
    "## User-Defined Functions\n",
    "\n",
    "We can also write our own function for any functionality that we wish to implement. If a piece of code repeats more than once in your project, always convert it to a function.\n",
    "\n",
    "This is a very important concept and we will use it often. Let's start with a simple example.\n",
    "\n",
    "![](img/r_functions.png)"
   ]
  },
  {
   "cell_type": "code",
   "execution_count": 97,
   "metadata": {
    "scrolled": true
   },
   "outputs": [
    {
     "name": "stderr",
     "output_type": "stream",
     "text": [
      "Warning message in mean.default(df[1, ], na.rm = TRUE):\n",
      "“argument is not numeric or logical: returning NA”\n"
     ]
    },
    {
     "data": {
      "text/html": [
       "&lt;NA&gt;"
      ],
      "text/latex": [
       "<NA>"
      ],
      "text/markdown": [
       "&lt;NA&gt;"
      ],
      "text/plain": [
       "[1] NA"
      ]
     },
     "metadata": {},
     "output_type": "display_data"
    }
   ],
   "source": [
    "mean(df[1,])"
   ]
  },
  {
   "cell_type": "code",
   "execution_count": 88,
   "metadata": {},
   "outputs": [
    {
     "data": {
      "text/html": [
       "<dl>\n",
       "\t<dt>$S1</dt>\n",
       "\t\t<dd><table>\n",
       "<caption>A data.frame: 1 × 3</caption>\n",
       "<thead>\n",
       "\t<tr><th scope=col>minimum</th><th scope=col>maximum</th><th scope=col>average</th></tr>\n",
       "\t<tr><th scope=col>&lt;dbl&gt;</th><th scope=col>&lt;dbl&gt;</th><th scope=col>&lt;dbl&gt;</th></tr>\n",
       "</thead>\n",
       "<tbody>\n",
       "\t<tr><td>38</td><td>75</td><td>54.33333</td></tr>\n",
       "</tbody>\n",
       "</table>\n",
       "</dd>\n",
       "\t<dt>$S2</dt>\n",
       "\t\t<dd><table>\n",
       "<caption>A data.frame: 1 × 3</caption>\n",
       "<thead>\n",
       "\t<tr><th scope=col>minimum</th><th scope=col>maximum</th><th scope=col>average</th></tr>\n",
       "\t<tr><th scope=col>&lt;dbl&gt;</th><th scope=col>&lt;dbl&gt;</th><th scope=col>&lt;dbl&gt;</th></tr>\n",
       "</thead>\n",
       "<tbody>\n",
       "\t<tr><td>65</td><td>85</td><td>75</td></tr>\n",
       "</tbody>\n",
       "</table>\n",
       "</dd>\n",
       "\t<dt>$S3</dt>\n",
       "\t\t<dd><table>\n",
       "<caption>A data.frame: 1 × 3</caption>\n",
       "<thead>\n",
       "\t<tr><th scope=col>minimum</th><th scope=col>maximum</th><th scope=col>average</th></tr>\n",
       "\t<tr><th scope=col>&lt;dbl&gt;</th><th scope=col>&lt;dbl&gt;</th><th scope=col>&lt;dbl&gt;</th></tr>\n",
       "</thead>\n",
       "<tbody>\n",
       "\t<tr><td>65</td><td>90</td><td>78.33333</td></tr>\n",
       "</tbody>\n",
       "</table>\n",
       "</dd>\n",
       "</dl>\n"
      ],
      "text/latex": [
       "\\begin{description}\n",
       "\\item[\\$S1] A data.frame: 1 × 3\n",
       "\\begin{tabular}{lll}\n",
       " minimum & maximum & average\\\\\n",
       " <dbl> & <dbl> & <dbl>\\\\\n",
       "\\hline\n",
       "\t 38 & 75 & 54.33333\\\\\n",
       "\\end{tabular}\n",
       "\n",
       "\\item[\\$S2] A data.frame: 1 × 3\n",
       "\\begin{tabular}{lll}\n",
       " minimum & maximum & average\\\\\n",
       " <dbl> & <dbl> & <dbl>\\\\\n",
       "\\hline\n",
       "\t 65 & 85 & 75\\\\\n",
       "\\end{tabular}\n",
       "\n",
       "\\item[\\$S3] A data.frame: 1 × 3\n",
       "\\begin{tabular}{lll}\n",
       " minimum & maximum & average\\\\\n",
       " <dbl> & <dbl> & <dbl>\\\\\n",
       "\\hline\n",
       "\t 65 & 90 & 78.33333\\\\\n",
       "\\end{tabular}\n",
       "\n",
       "\\end{description}\n"
      ],
      "text/markdown": [
       "$S1\n",
       ":   \n",
       "A data.frame: 1 × 3\n",
       "\n",
       "| minimum &lt;dbl&gt; | maximum &lt;dbl&gt; | average &lt;dbl&gt; |\n",
       "|---|---|---|\n",
       "| 38 | 75 | 54.33333 |\n",
       "\n",
       "\n",
       "$S2\n",
       ":   \n",
       "A data.frame: 1 × 3\n",
       "\n",
       "| minimum &lt;dbl&gt; | maximum &lt;dbl&gt; | average &lt;dbl&gt; |\n",
       "|---|---|---|\n",
       "| 65 | 85 | 75 |\n",
       "\n",
       "\n",
       "$S3\n",
       ":   \n",
       "A data.frame: 1 × 3\n",
       "\n",
       "| minimum &lt;dbl&gt; | maximum &lt;dbl&gt; | average &lt;dbl&gt; |\n",
       "|---|---|---|\n",
       "| 65 | 90 | 78.33333 |\n",
       "\n",
       "\n",
       "\n",
       "\n"
      ],
      "text/plain": [
       "$S1\n",
       "  minimum maximum  average\n",
       "1      38      75 54.33333\n",
       "\n",
       "$S2\n",
       "  minimum maximum average\n",
       "1      65      85      75\n",
       "\n",
       "$S3\n",
       "  minimum maximum  average\n",
       "1      65      90 78.33333\n"
      ]
     },
     "metadata": {},
     "output_type": "display_data"
    }
   ],
   "source": [
    "stat <- function(i){\n",
    "    \n",
    "  average = mean(i)\n",
    "  minimum = min(i)\n",
    "  maximum = max(i)\n",
    "    \n",
    "  return(data.frame(minimum, maximum, average))\n",
    "}\n",
    "\n",
    "apply(df, 1, stat) "
   ]
  },
  {
   "cell_type": "markdown",
   "metadata": {},
   "source": [
    "Check for every value in the dataframe and if the value is divisible by 2 then divide by 2, otherwise divide by 5 "
   ]
  },
  {
   "cell_type": "code",
   "execution_count": 98,
   "metadata": {
    "scrolled": true
   },
   "outputs": [
    {
     "data": {
      "text/html": [
       "<table>\n",
       "<caption>A matrix: 3 × 3 of type dbl</caption>\n",
       "<thead>\n",
       "\t<tr><th></th><th scope=col>English</th><th scope=col>Math</th><th scope=col>Science</th></tr>\n",
       "</thead>\n",
       "<tbody>\n",
       "\t<tr><th scope=row>S1</th><td>25</td><td>19</td><td>15</td></tr>\n",
       "\t<tr><th scope=row>S2</th><td>17</td><td>13</td><td>15</td></tr>\n",
       "\t<tr><th scope=row>S3</th><td>45</td><td>13</td><td>40</td></tr>\n",
       "</tbody>\n",
       "</table>\n"
      ],
      "text/latex": [
       "A matrix: 3 × 3 of type dbl\n",
       "\\begin{tabular}{r|lll}\n",
       "  & English & Math & Science\\\\\n",
       "\\hline\n",
       "\tS1 & 25 & 19 & 15\\\\\n",
       "\tS2 & 17 & 13 & 15\\\\\n",
       "\tS3 & 45 & 13 & 40\\\\\n",
       "\\end{tabular}\n"
      ],
      "text/markdown": [
       "\n",
       "A matrix: 3 × 3 of type dbl\n",
       "\n",
       "| <!--/--> | English | Math | Science |\n",
       "|---|---|---|---|\n",
       "| S1 | 25 | 19 | 15 |\n",
       "| S2 | 17 | 13 | 15 |\n",
       "| S3 | 45 | 13 | 40 |\n",
       "\n"
      ],
      "text/plain": [
       "   English Math Science\n",
       "S1 25      19   15     \n",
       "S2 17      13   15     \n",
       "S3 45      13   40     "
      ]
     },
     "metadata": {},
     "output_type": "display_data"
    }
   ],
   "source": [
    "apply(df, c(1, 2), function(x){ ifelse(x %% 2 == 0, x/2, x/5) })"
   ]
  }
 ],
 "metadata": {
  "kernelspec": {
   "display_name": "R",
   "language": "R",
   "name": "ir"
  },
  "language_info": {
   "codemirror_mode": "r",
   "file_extension": ".r",
   "mimetype": "text/x-r-source",
   "name": "R",
   "pygments_lexer": "r",
   "version": "4.0.3"
  }
 },
 "nbformat": 4,
 "nbformat_minor": 4
}
