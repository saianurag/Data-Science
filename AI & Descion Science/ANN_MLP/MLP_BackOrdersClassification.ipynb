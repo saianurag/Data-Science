{
 "cells": [
  {
   "cell_type": "markdown",
   "metadata": {},
   "source": [
    "### Problem Statement\n",
    "\n",
    "    Identify products at risk of backorder before the event occurs so that business has time to react."
   ]
  },
  {
   "cell_type": "markdown",
   "metadata": {},
   "source": [
    "### What is a Backorder?\n",
    "    Backorders are products that are temporarily out of stock, but a customer is permitted to place an order against future inventory. A backorder generally indicates that customer demand for a product or service exceeds a company’s capacity to supply it. Back orders are both good and bad. Strong demand can drive back orders, but so can suboptimal planning."
   ]
  },
  {
   "cell_type": "markdown",
   "metadata": {},
   "source": [
    "### Data\n",
    "\n",
    "Data file contains the historical data for the 8 weeks prior to the week we are trying to predict. The data was taken as weekly snapshots at the start of each week. Columns are defined as follows:\n",
    "\n",
    "    sku - Random ID for the product\n",
    "\n",
    "    national_inv - Current inventory level for the part\n",
    "\n",
    "    lead_time - Transit time for product (if available)\n",
    "\n",
    "    in_transit_qty - Amount of product in transit from source\n",
    "\n",
    "    forecast_3_month - Forecast sales for the next 3 months\n",
    "\n",
    "    forecast_6_month - Forecast sales for the next 6 months\n",
    "\n",
    "    forecast_9_month - Forecast sales for the next 9 months\n",
    "\n",
    "    sales_1_month - Sales quantity for the prior 1 month time period\n",
    "\n",
    "    sales_3_month - Sales quantity for the prior 3 month time period\n",
    "\n",
    "    sales_6_month - Sales quantity for the prior 6 month time period\n",
    "\n",
    "    sales_9_month - Sales quantity for the prior 9 month time period\n",
    "\n",
    "    min_bank - Minimum recommend amount to stock\n",
    "\n",
    "    potential_issue - Source issue for part identified\n",
    "\n",
    "    pieces_past_due - Parts overdue from source\n",
    "\n",
    "    perf_6_month_avg - Source performance for prior 6 month period\n",
    "\n",
    "    perf_12_month_avg - Source performance for prior 12 month period\n",
    "\n",
    "    local_bo_qty - Amount of stock orders overdue\n",
    "\n",
    "    deck_risk - Part risk flag\n",
    "\n",
    "    oe_constraint - Part risk flag\n",
    "\n",
    "    ppap_risk - Part risk flag\n",
    "\n",
    "    stop_auto_buy - Part risk flag\n",
    "\n",
    "    rev_stop - Part risk flag\n",
    "\n",
    "    went_on_backorder - Product actually went on backorder. This is the target value."
   ]
  },
  {
   "cell_type": "markdown",
   "metadata": {},
   "source": [
    "#### Identify Right Error Metrics\n",
    "\n",
    "    Based on the businees, identify right error metrics."
   ]
  },
  {
   "cell_type": "raw",
   "metadata": {},
   "source": [
    "Recall/TPR"
   ]
  },
  {
   "cell_type": "markdown",
   "metadata": {},
   "source": [
    "### Data Pre-processing\n",
    "#### Loading the required libraries"
   ]
  },
  {
   "cell_type": "code",
   "execution_count": 1,
   "metadata": {},
   "outputs": [],
   "source": [
    "import numpy as np\n",
    "import pandas as pd\n",
    "\n",
    "from sklearn.impute import SimpleImputer\n",
    "from sklearn.preprocessing import StandardScaler, OneHotEncoder\n",
    "from sklearn.model_selection import train_test_split\n",
    "\n",
    "from sklearn.metrics import accuracy_score,recall_score,precision_score,f1_score \n",
    "from sklearn.metrics import classification_report, confusion_matrix\n",
    "\n",
    "import tensorflow as tf\n",
    "\n",
    "import matplotlib.pyplot as plt\n",
    "%matplotlib inline  \n",
    "\n",
    "import warnings\n",
    "warnings.filterwarnings(\"ignore\", category=DeprecationWarning) "
   ]
  },
  {
   "cell_type": "code",
   "execution_count": 2,
   "metadata": {},
   "outputs": [],
   "source": [
    "from tensorflow.keras import Sequential\n",
    "from tensorflow.keras.layers import Dense, Input\n",
    "from tensorflow.keras.callbacks import EarlyStopping, ModelCheckpoint\n",
    "\n",
    "from tensorflow.keras import backend as K"
   ]
  },
  {
   "cell_type": "code",
   "execution_count": 3,
   "metadata": {},
   "outputs": [
    {
     "data": {
      "text/plain": [
       "'2.4.1'"
      ]
     },
     "execution_count": 3,
     "metadata": {},
     "output_type": "execute_result"
    }
   ],
   "source": [
    "tf.__version__"
   ]
  },
  {
   "cell_type": "markdown",
   "metadata": {},
   "source": [
    "###### fix random seed for reproducibility\n",
    "\n",
    "    Generally, Keras gets its source of randomness from the NumPy random number generator.\n",
    "    \n",
    "    In addition, TensorFlow has its own random number generator that must also be seeded by calling the set_random_seed() function immediately after the NumPy random number generator, as follows:"
   ]
  },
  {
   "cell_type": "code",
   "execution_count": 4,
   "metadata": {},
   "outputs": [],
   "source": [
    "np.random.seed(123)\n",
    "\n",
    "tf.random.set_seed(123)"
   ]
  },
  {
   "cell_type": "markdown",
   "metadata": {},
   "source": [
    "#### Loading the data"
   ]
  },
  {
   "cell_type": "code",
   "execution_count": 5,
   "metadata": {
    "scrolled": true
   },
   "outputs": [],
   "source": [
    "data = pd.read_csv(\"/home/datasets/lab/BackOrders.csv\",header=0)"
   ]
  },
  {
   "cell_type": "markdown",
   "metadata": {},
   "source": [
    "#### Understand the Data"
   ]
  },
  {
   "cell_type": "markdown",
   "metadata": {},
   "source": [
    "See the number row and columns"
   ]
  },
  {
   "cell_type": "code",
   "execution_count": 6,
   "metadata": {},
   "outputs": [
    {
     "data": {
      "text/plain": [
       "(61589, 23)"
      ]
     },
     "execution_count": 6,
     "metadata": {},
     "output_type": "execute_result"
    }
   ],
   "source": [
    "data.shape"
   ]
  },
  {
   "cell_type": "markdown",
   "metadata": {},
   "source": [
    "Display the columns"
   ]
  },
  {
   "cell_type": "code",
   "execution_count": 7,
   "metadata": {},
   "outputs": [
    {
     "data": {
      "text/plain": [
       "Index(['sku', 'national_inv', 'lead_time', 'in_transit_qty',\n",
       "       'forecast_3_month', 'forecast_6_month', 'forecast_9_month',\n",
       "       'sales_1_month', 'sales_3_month', 'sales_6_month', 'sales_9_month',\n",
       "       'min_bank', 'potential_issue', 'pieces_past_due', 'perf_6_month_avg',\n",
       "       'perf_12_month_avg', 'local_bo_qty', 'deck_risk', 'oe_constraint',\n",
       "       'ppap_risk', 'stop_auto_buy', 'rev_stop', 'went_on_backorder'],\n",
       "      dtype='object')"
      ]
     },
     "execution_count": 7,
     "metadata": {},
     "output_type": "execute_result"
    }
   ],
   "source": [
    "data.columns"
   ]
  },
  {
   "cell_type": "markdown",
   "metadata": {},
   "source": [
    "__See the top rows of the data__"
   ]
  },
  {
   "cell_type": "code",
   "execution_count": 8,
   "metadata": {},
   "outputs": [
    {
     "data": {
      "text/html": [
       "<div>\n",
       "<style scoped>\n",
       "    .dataframe tbody tr th:only-of-type {\n",
       "        vertical-align: middle;\n",
       "    }\n",
       "\n",
       "    .dataframe tbody tr th {\n",
       "        vertical-align: top;\n",
       "    }\n",
       "\n",
       "    .dataframe thead th {\n",
       "        text-align: right;\n",
       "    }\n",
       "</style>\n",
       "<table border=\"1\" class=\"dataframe\">\n",
       "  <thead>\n",
       "    <tr style=\"text-align: right;\">\n",
       "      <th></th>\n",
       "      <th>sku</th>\n",
       "      <th>national_inv</th>\n",
       "      <th>lead_time</th>\n",
       "      <th>in_transit_qty</th>\n",
       "      <th>forecast_3_month</th>\n",
       "      <th>forecast_6_month</th>\n",
       "      <th>forecast_9_month</th>\n",
       "      <th>sales_1_month</th>\n",
       "      <th>sales_3_month</th>\n",
       "      <th>sales_6_month</th>\n",
       "      <th>...</th>\n",
       "      <th>pieces_past_due</th>\n",
       "      <th>perf_6_month_avg</th>\n",
       "      <th>perf_12_month_avg</th>\n",
       "      <th>local_bo_qty</th>\n",
       "      <th>deck_risk</th>\n",
       "      <th>oe_constraint</th>\n",
       "      <th>ppap_risk</th>\n",
       "      <th>stop_auto_buy</th>\n",
       "      <th>rev_stop</th>\n",
       "      <th>went_on_backorder</th>\n",
       "    </tr>\n",
       "  </thead>\n",
       "  <tbody>\n",
       "    <tr>\n",
       "      <th>0</th>\n",
       "      <td>1888279</td>\n",
       "      <td>117</td>\n",
       "      <td>NaN</td>\n",
       "      <td>0</td>\n",
       "      <td>0</td>\n",
       "      <td>0</td>\n",
       "      <td>0</td>\n",
       "      <td>0</td>\n",
       "      <td>0</td>\n",
       "      <td>15</td>\n",
       "      <td>...</td>\n",
       "      <td>0</td>\n",
       "      <td>-99.00</td>\n",
       "      <td>-99.00</td>\n",
       "      <td>0</td>\n",
       "      <td>No</td>\n",
       "      <td>No</td>\n",
       "      <td>Yes</td>\n",
       "      <td>Yes</td>\n",
       "      <td>No</td>\n",
       "      <td>No</td>\n",
       "    </tr>\n",
       "    <tr>\n",
       "      <th>1</th>\n",
       "      <td>1870557</td>\n",
       "      <td>7</td>\n",
       "      <td>2.0</td>\n",
       "      <td>0</td>\n",
       "      <td>0</td>\n",
       "      <td>0</td>\n",
       "      <td>0</td>\n",
       "      <td>0</td>\n",
       "      <td>0</td>\n",
       "      <td>0</td>\n",
       "      <td>...</td>\n",
       "      <td>0</td>\n",
       "      <td>0.50</td>\n",
       "      <td>0.28</td>\n",
       "      <td>0</td>\n",
       "      <td>Yes</td>\n",
       "      <td>No</td>\n",
       "      <td>No</td>\n",
       "      <td>Yes</td>\n",
       "      <td>No</td>\n",
       "      <td>No</td>\n",
       "    </tr>\n",
       "    <tr>\n",
       "      <th>2</th>\n",
       "      <td>1475481</td>\n",
       "      <td>258</td>\n",
       "      <td>15.0</td>\n",
       "      <td>10</td>\n",
       "      <td>10</td>\n",
       "      <td>77</td>\n",
       "      <td>184</td>\n",
       "      <td>46</td>\n",
       "      <td>132</td>\n",
       "      <td>256</td>\n",
       "      <td>...</td>\n",
       "      <td>0</td>\n",
       "      <td>0.54</td>\n",
       "      <td>0.70</td>\n",
       "      <td>0</td>\n",
       "      <td>No</td>\n",
       "      <td>No</td>\n",
       "      <td>No</td>\n",
       "      <td>Yes</td>\n",
       "      <td>No</td>\n",
       "      <td>No</td>\n",
       "    </tr>\n",
       "    <tr>\n",
       "      <th>3</th>\n",
       "      <td>1758220</td>\n",
       "      <td>46</td>\n",
       "      <td>2.0</td>\n",
       "      <td>0</td>\n",
       "      <td>0</td>\n",
       "      <td>0</td>\n",
       "      <td>0</td>\n",
       "      <td>1</td>\n",
       "      <td>2</td>\n",
       "      <td>6</td>\n",
       "      <td>...</td>\n",
       "      <td>0</td>\n",
       "      <td>0.75</td>\n",
       "      <td>0.90</td>\n",
       "      <td>0</td>\n",
       "      <td>Yes</td>\n",
       "      <td>No</td>\n",
       "      <td>No</td>\n",
       "      <td>Yes</td>\n",
       "      <td>No</td>\n",
       "      <td>No</td>\n",
       "    </tr>\n",
       "    <tr>\n",
       "      <th>4</th>\n",
       "      <td>1360312</td>\n",
       "      <td>2</td>\n",
       "      <td>2.0</td>\n",
       "      <td>0</td>\n",
       "      <td>4</td>\n",
       "      <td>6</td>\n",
       "      <td>10</td>\n",
       "      <td>2</td>\n",
       "      <td>2</td>\n",
       "      <td>5</td>\n",
       "      <td>...</td>\n",
       "      <td>0</td>\n",
       "      <td>0.97</td>\n",
       "      <td>0.92</td>\n",
       "      <td>0</td>\n",
       "      <td>No</td>\n",
       "      <td>No</td>\n",
       "      <td>No</td>\n",
       "      <td>Yes</td>\n",
       "      <td>No</td>\n",
       "      <td>No</td>\n",
       "    </tr>\n",
       "  </tbody>\n",
       "</table>\n",
       "<p>5 rows × 23 columns</p>\n",
       "</div>"
      ],
      "text/plain": [
       "       sku  national_inv  lead_time  in_transit_qty  forecast_3_month  \\\n",
       "0  1888279           117        NaN               0                 0   \n",
       "1  1870557             7        2.0               0                 0   \n",
       "2  1475481           258       15.0              10                10   \n",
       "3  1758220            46        2.0               0                 0   \n",
       "4  1360312             2        2.0               0                 4   \n",
       "\n",
       "   forecast_6_month  forecast_9_month  sales_1_month  sales_3_month  \\\n",
       "0                 0                 0              0              0   \n",
       "1                 0                 0              0              0   \n",
       "2                77               184             46            132   \n",
       "3                 0                 0              1              2   \n",
       "4                 6                10              2              2   \n",
       "\n",
       "   sales_6_month  ...  pieces_past_due  perf_6_month_avg perf_12_month_avg  \\\n",
       "0             15  ...                0            -99.00            -99.00   \n",
       "1              0  ...                0              0.50              0.28   \n",
       "2            256  ...                0              0.54              0.70   \n",
       "3              6  ...                0              0.75              0.90   \n",
       "4              5  ...                0              0.97              0.92   \n",
       "\n",
       "   local_bo_qty  deck_risk  oe_constraint  ppap_risk stop_auto_buy rev_stop  \\\n",
       "0             0         No             No        Yes           Yes       No   \n",
       "1             0        Yes             No         No           Yes       No   \n",
       "2             0         No             No         No           Yes       No   \n",
       "3             0        Yes             No         No           Yes       No   \n",
       "4             0         No             No         No           Yes       No   \n",
       "\n",
       "  went_on_backorder  \n",
       "0                No  \n",
       "1                No  \n",
       "2                No  \n",
       "3                No  \n",
       "4                No  \n",
       "\n",
       "[5 rows x 23 columns]"
      ]
     },
     "execution_count": 8,
     "metadata": {},
     "output_type": "execute_result"
    }
   ],
   "source": [
    "data.head()"
   ]
  },
  {
   "cell_type": "markdown",
   "metadata": {},
   "source": [
    "__Shows a quick statistic summary of your data using describe__"
   ]
  },
  {
   "cell_type": "code",
   "execution_count": 9,
   "metadata": {
    "scrolled": true
   },
   "outputs": [
    {
     "data": {
      "text/html": [
       "<div>\n",
       "<style scoped>\n",
       "    .dataframe tbody tr th:only-of-type {\n",
       "        vertical-align: middle;\n",
       "    }\n",
       "\n",
       "    .dataframe tbody tr th {\n",
       "        vertical-align: top;\n",
       "    }\n",
       "\n",
       "    .dataframe thead th {\n",
       "        text-align: right;\n",
       "    }\n",
       "</style>\n",
       "<table border=\"1\" class=\"dataframe\">\n",
       "  <thead>\n",
       "    <tr style=\"text-align: right;\">\n",
       "      <th></th>\n",
       "      <th>sku</th>\n",
       "      <th>national_inv</th>\n",
       "      <th>lead_time</th>\n",
       "      <th>in_transit_qty</th>\n",
       "      <th>forecast_3_month</th>\n",
       "      <th>forecast_6_month</th>\n",
       "      <th>forecast_9_month</th>\n",
       "      <th>sales_1_month</th>\n",
       "      <th>sales_3_month</th>\n",
       "      <th>sales_6_month</th>\n",
       "      <th>...</th>\n",
       "      <th>pieces_past_due</th>\n",
       "      <th>perf_6_month_avg</th>\n",
       "      <th>perf_12_month_avg</th>\n",
       "      <th>local_bo_qty</th>\n",
       "      <th>deck_risk</th>\n",
       "      <th>oe_constraint</th>\n",
       "      <th>ppap_risk</th>\n",
       "      <th>stop_auto_buy</th>\n",
       "      <th>rev_stop</th>\n",
       "      <th>went_on_backorder</th>\n",
       "    </tr>\n",
       "  </thead>\n",
       "  <tbody>\n",
       "    <tr>\n",
       "      <th>count</th>\n",
       "      <td>6.158900e+04</td>\n",
       "      <td>61589.000000</td>\n",
       "      <td>58186.000000</td>\n",
       "      <td>61589.000000</td>\n",
       "      <td>6.158900e+04</td>\n",
       "      <td>6.158900e+04</td>\n",
       "      <td>6.158900e+04</td>\n",
       "      <td>61589.000000</td>\n",
       "      <td>61589.000000</td>\n",
       "      <td>6.158900e+04</td>\n",
       "      <td>...</td>\n",
       "      <td>61589.000000</td>\n",
       "      <td>61589.000000</td>\n",
       "      <td>61589.000000</td>\n",
       "      <td>61589.000000</td>\n",
       "      <td>61589</td>\n",
       "      <td>61589</td>\n",
       "      <td>61589</td>\n",
       "      <td>61589</td>\n",
       "      <td>61589</td>\n",
       "      <td>61589</td>\n",
       "    </tr>\n",
       "    <tr>\n",
       "      <th>unique</th>\n",
       "      <td>NaN</td>\n",
       "      <td>NaN</td>\n",
       "      <td>NaN</td>\n",
       "      <td>NaN</td>\n",
       "      <td>NaN</td>\n",
       "      <td>NaN</td>\n",
       "      <td>NaN</td>\n",
       "      <td>NaN</td>\n",
       "      <td>NaN</td>\n",
       "      <td>NaN</td>\n",
       "      <td>...</td>\n",
       "      <td>NaN</td>\n",
       "      <td>NaN</td>\n",
       "      <td>NaN</td>\n",
       "      <td>NaN</td>\n",
       "      <td>2</td>\n",
       "      <td>2</td>\n",
       "      <td>2</td>\n",
       "      <td>2</td>\n",
       "      <td>2</td>\n",
       "      <td>2</td>\n",
       "    </tr>\n",
       "    <tr>\n",
       "      <th>top</th>\n",
       "      <td>NaN</td>\n",
       "      <td>NaN</td>\n",
       "      <td>NaN</td>\n",
       "      <td>NaN</td>\n",
       "      <td>NaN</td>\n",
       "      <td>NaN</td>\n",
       "      <td>NaN</td>\n",
       "      <td>NaN</td>\n",
       "      <td>NaN</td>\n",
       "      <td>NaN</td>\n",
       "      <td>...</td>\n",
       "      <td>NaN</td>\n",
       "      <td>NaN</td>\n",
       "      <td>NaN</td>\n",
       "      <td>NaN</td>\n",
       "      <td>No</td>\n",
       "      <td>No</td>\n",
       "      <td>No</td>\n",
       "      <td>Yes</td>\n",
       "      <td>No</td>\n",
       "      <td>No</td>\n",
       "    </tr>\n",
       "    <tr>\n",
       "      <th>freq</th>\n",
       "      <td>NaN</td>\n",
       "      <td>NaN</td>\n",
       "      <td>NaN</td>\n",
       "      <td>NaN</td>\n",
       "      <td>NaN</td>\n",
       "      <td>NaN</td>\n",
       "      <td>NaN</td>\n",
       "      <td>NaN</td>\n",
       "      <td>NaN</td>\n",
       "      <td>NaN</td>\n",
       "      <td>...</td>\n",
       "      <td>NaN</td>\n",
       "      <td>NaN</td>\n",
       "      <td>NaN</td>\n",
       "      <td>NaN</td>\n",
       "      <td>48145</td>\n",
       "      <td>61577</td>\n",
       "      <td>53792</td>\n",
       "      <td>59303</td>\n",
       "      <td>61569</td>\n",
       "      <td>50296</td>\n",
       "    </tr>\n",
       "    <tr>\n",
       "      <th>mean</th>\n",
       "      <td>2.037188e+06</td>\n",
       "      <td>287.721882</td>\n",
       "      <td>7.559619</td>\n",
       "      <td>30.192843</td>\n",
       "      <td>1.692728e+02</td>\n",
       "      <td>3.150413e+02</td>\n",
       "      <td>4.535760e+02</td>\n",
       "      <td>44.742957</td>\n",
       "      <td>150.732631</td>\n",
       "      <td>2.835465e+02</td>\n",
       "      <td>...</td>\n",
       "      <td>1.605400</td>\n",
       "      <td>-6.264182</td>\n",
       "      <td>-5.863664</td>\n",
       "      <td>1.205361</td>\n",
       "      <td>NaN</td>\n",
       "      <td>NaN</td>\n",
       "      <td>NaN</td>\n",
       "      <td>NaN</td>\n",
       "      <td>NaN</td>\n",
       "      <td>NaN</td>\n",
       "    </tr>\n",
       "    <tr>\n",
       "      <th>std</th>\n",
       "      <td>6.564178e+05</td>\n",
       "      <td>4233.906931</td>\n",
       "      <td>6.498952</td>\n",
       "      <td>792.869253</td>\n",
       "      <td>5.286742e+03</td>\n",
       "      <td>9.774362e+03</td>\n",
       "      <td>1.420201e+04</td>\n",
       "      <td>1373.805831</td>\n",
       "      <td>5224.959649</td>\n",
       "      <td>8.872270e+03</td>\n",
       "      <td>...</td>\n",
       "      <td>42.309229</td>\n",
       "      <td>25.537906</td>\n",
       "      <td>24.844514</td>\n",
       "      <td>29.981155</td>\n",
       "      <td>NaN</td>\n",
       "      <td>NaN</td>\n",
       "      <td>NaN</td>\n",
       "      <td>NaN</td>\n",
       "      <td>NaN</td>\n",
       "      <td>NaN</td>\n",
       "    </tr>\n",
       "    <tr>\n",
       "      <th>min</th>\n",
       "      <td>1.068628e+06</td>\n",
       "      <td>-2999.000000</td>\n",
       "      <td>0.000000</td>\n",
       "      <td>0.000000</td>\n",
       "      <td>0.000000e+00</td>\n",
       "      <td>0.000000e+00</td>\n",
       "      <td>0.000000e+00</td>\n",
       "      <td>0.000000</td>\n",
       "      <td>0.000000</td>\n",
       "      <td>0.000000e+00</td>\n",
       "      <td>...</td>\n",
       "      <td>0.000000</td>\n",
       "      <td>-99.000000</td>\n",
       "      <td>-99.000000</td>\n",
       "      <td>0.000000</td>\n",
       "      <td>NaN</td>\n",
       "      <td>NaN</td>\n",
       "      <td>NaN</td>\n",
       "      <td>NaN</td>\n",
       "      <td>NaN</td>\n",
       "      <td>NaN</td>\n",
       "    </tr>\n",
       "    <tr>\n",
       "      <th>25%</th>\n",
       "      <td>1.498574e+06</td>\n",
       "      <td>3.000000</td>\n",
       "      <td>4.000000</td>\n",
       "      <td>0.000000</td>\n",
       "      <td>0.000000e+00</td>\n",
       "      <td>0.000000e+00</td>\n",
       "      <td>0.000000e+00</td>\n",
       "      <td>0.000000</td>\n",
       "      <td>0.000000</td>\n",
       "      <td>0.000000e+00</td>\n",
       "      <td>...</td>\n",
       "      <td>0.000000</td>\n",
       "      <td>0.620000</td>\n",
       "      <td>0.640000</td>\n",
       "      <td>0.000000</td>\n",
       "      <td>NaN</td>\n",
       "      <td>NaN</td>\n",
       "      <td>NaN</td>\n",
       "      <td>NaN</td>\n",
       "      <td>NaN</td>\n",
       "      <td>NaN</td>\n",
       "    </tr>\n",
       "    <tr>\n",
       "      <th>50%</th>\n",
       "      <td>1.898033e+06</td>\n",
       "      <td>10.000000</td>\n",
       "      <td>8.000000</td>\n",
       "      <td>0.000000</td>\n",
       "      <td>0.000000e+00</td>\n",
       "      <td>0.000000e+00</td>\n",
       "      <td>0.000000e+00</td>\n",
       "      <td>0.000000</td>\n",
       "      <td>2.000000</td>\n",
       "      <td>4.000000e+00</td>\n",
       "      <td>...</td>\n",
       "      <td>0.000000</td>\n",
       "      <td>0.820000</td>\n",
       "      <td>0.800000</td>\n",
       "      <td>0.000000</td>\n",
       "      <td>NaN</td>\n",
       "      <td>NaN</td>\n",
       "      <td>NaN</td>\n",
       "      <td>NaN</td>\n",
       "      <td>NaN</td>\n",
       "      <td>NaN</td>\n",
       "    </tr>\n",
       "    <tr>\n",
       "      <th>75%</th>\n",
       "      <td>2.314826e+06</td>\n",
       "      <td>57.000000</td>\n",
       "      <td>8.000000</td>\n",
       "      <td>0.000000</td>\n",
       "      <td>1.200000e+01</td>\n",
       "      <td>2.500000e+01</td>\n",
       "      <td>3.600000e+01</td>\n",
       "      <td>6.000000</td>\n",
       "      <td>17.000000</td>\n",
       "      <td>3.400000e+01</td>\n",
       "      <td>...</td>\n",
       "      <td>0.000000</td>\n",
       "      <td>0.960000</td>\n",
       "      <td>0.950000</td>\n",
       "      <td>0.000000</td>\n",
       "      <td>NaN</td>\n",
       "      <td>NaN</td>\n",
       "      <td>NaN</td>\n",
       "      <td>NaN</td>\n",
       "      <td>NaN</td>\n",
       "      <td>NaN</td>\n",
       "    </tr>\n",
       "    <tr>\n",
       "      <th>max</th>\n",
       "      <td>3.284895e+06</td>\n",
       "      <td>673445.000000</td>\n",
       "      <td>52.000000</td>\n",
       "      <td>170976.000000</td>\n",
       "      <td>1.126656e+06</td>\n",
       "      <td>2.094336e+06</td>\n",
       "      <td>3.062016e+06</td>\n",
       "      <td>295197.000000</td>\n",
       "      <td>934593.000000</td>\n",
       "      <td>1.799099e+06</td>\n",
       "      <td>...</td>\n",
       "      <td>7392.000000</td>\n",
       "      <td>1.000000</td>\n",
       "      <td>1.000000</td>\n",
       "      <td>2999.000000</td>\n",
       "      <td>NaN</td>\n",
       "      <td>NaN</td>\n",
       "      <td>NaN</td>\n",
       "      <td>NaN</td>\n",
       "      <td>NaN</td>\n",
       "      <td>NaN</td>\n",
       "    </tr>\n",
       "  </tbody>\n",
       "</table>\n",
       "<p>11 rows × 23 columns</p>\n",
       "</div>"
      ],
      "text/plain": [
       "                 sku   national_inv     lead_time  in_transit_qty  \\\n",
       "count   6.158900e+04   61589.000000  58186.000000    61589.000000   \n",
       "unique           NaN            NaN           NaN             NaN   \n",
       "top              NaN            NaN           NaN             NaN   \n",
       "freq             NaN            NaN           NaN             NaN   \n",
       "mean    2.037188e+06     287.721882      7.559619       30.192843   \n",
       "std     6.564178e+05    4233.906931      6.498952      792.869253   \n",
       "min     1.068628e+06   -2999.000000      0.000000        0.000000   \n",
       "25%     1.498574e+06       3.000000      4.000000        0.000000   \n",
       "50%     1.898033e+06      10.000000      8.000000        0.000000   \n",
       "75%     2.314826e+06      57.000000      8.000000        0.000000   \n",
       "max     3.284895e+06  673445.000000     52.000000   170976.000000   \n",
       "\n",
       "        forecast_3_month  forecast_6_month  forecast_9_month  sales_1_month  \\\n",
       "count       6.158900e+04      6.158900e+04      6.158900e+04   61589.000000   \n",
       "unique               NaN               NaN               NaN            NaN   \n",
       "top                  NaN               NaN               NaN            NaN   \n",
       "freq                 NaN               NaN               NaN            NaN   \n",
       "mean        1.692728e+02      3.150413e+02      4.535760e+02      44.742957   \n",
       "std         5.286742e+03      9.774362e+03      1.420201e+04    1373.805831   \n",
       "min         0.000000e+00      0.000000e+00      0.000000e+00       0.000000   \n",
       "25%         0.000000e+00      0.000000e+00      0.000000e+00       0.000000   \n",
       "50%         0.000000e+00      0.000000e+00      0.000000e+00       0.000000   \n",
       "75%         1.200000e+01      2.500000e+01      3.600000e+01       6.000000   \n",
       "max         1.126656e+06      2.094336e+06      3.062016e+06  295197.000000   \n",
       "\n",
       "        sales_3_month  sales_6_month  ...  pieces_past_due  perf_6_month_avg  \\\n",
       "count    61589.000000   6.158900e+04  ...     61589.000000      61589.000000   \n",
       "unique            NaN            NaN  ...              NaN               NaN   \n",
       "top               NaN            NaN  ...              NaN               NaN   \n",
       "freq              NaN            NaN  ...              NaN               NaN   \n",
       "mean       150.732631   2.835465e+02  ...         1.605400         -6.264182   \n",
       "std       5224.959649   8.872270e+03  ...        42.309229         25.537906   \n",
       "min          0.000000   0.000000e+00  ...         0.000000        -99.000000   \n",
       "25%          0.000000   0.000000e+00  ...         0.000000          0.620000   \n",
       "50%          2.000000   4.000000e+00  ...         0.000000          0.820000   \n",
       "75%         17.000000   3.400000e+01  ...         0.000000          0.960000   \n",
       "max     934593.000000   1.799099e+06  ...      7392.000000          1.000000   \n",
       "\n",
       "       perf_12_month_avg  local_bo_qty  deck_risk  oe_constraint  ppap_risk  \\\n",
       "count       61589.000000  61589.000000      61589          61589      61589   \n",
       "unique               NaN           NaN          2              2          2   \n",
       "top                  NaN           NaN         No             No         No   \n",
       "freq                 NaN           NaN      48145          61577      53792   \n",
       "mean           -5.863664      1.205361        NaN            NaN        NaN   \n",
       "std            24.844514     29.981155        NaN            NaN        NaN   \n",
       "min           -99.000000      0.000000        NaN            NaN        NaN   \n",
       "25%             0.640000      0.000000        NaN            NaN        NaN   \n",
       "50%             0.800000      0.000000        NaN            NaN        NaN   \n",
       "75%             0.950000      0.000000        NaN            NaN        NaN   \n",
       "max             1.000000   2999.000000        NaN            NaN        NaN   \n",
       "\n",
       "       stop_auto_buy rev_stop went_on_backorder  \n",
       "count          61589    61589             61589  \n",
       "unique             2        2                 2  \n",
       "top              Yes       No                No  \n",
       "freq           59303    61569             50296  \n",
       "mean             NaN      NaN               NaN  \n",
       "std              NaN      NaN               NaN  \n",
       "min              NaN      NaN               NaN  \n",
       "25%              NaN      NaN               NaN  \n",
       "50%              NaN      NaN               NaN  \n",
       "75%              NaN      NaN               NaN  \n",
       "max              NaN      NaN               NaN  \n",
       "\n",
       "[11 rows x 23 columns]"
      ]
     },
     "execution_count": 9,
     "metadata": {},
     "output_type": "execute_result"
    }
   ],
   "source": [
    "data.describe(include='all')"
   ]
  },
  {
   "cell_type": "markdown",
   "metadata": {},
   "source": [
    "__Display data type of each variable__"
   ]
  },
  {
   "cell_type": "code",
   "execution_count": 10,
   "metadata": {},
   "outputs": [
    {
     "data": {
      "text/plain": [
       "sku                    int64\n",
       "national_inv           int64\n",
       "lead_time            float64\n",
       "in_transit_qty         int64\n",
       "forecast_3_month       int64\n",
       "forecast_6_month       int64\n",
       "forecast_9_month       int64\n",
       "sales_1_month          int64\n",
       "sales_3_month          int64\n",
       "sales_6_month          int64\n",
       "sales_9_month          int64\n",
       "min_bank               int64\n",
       "potential_issue       object\n",
       "pieces_past_due        int64\n",
       "perf_6_month_avg     float64\n",
       "perf_12_month_avg    float64\n",
       "local_bo_qty           int64\n",
       "deck_risk             object\n",
       "oe_constraint         object\n",
       "ppap_risk             object\n",
       "stop_auto_buy         object\n",
       "rev_stop              object\n",
       "went_on_backorder     object\n",
       "dtype: object"
      ]
     },
     "execution_count": 10,
     "metadata": {},
     "output_type": "execute_result"
    }
   ],
   "source": [
    "data.dtypes"
   ]
  },
  {
   "cell_type": "markdown",
   "metadata": {},
   "source": [
    "#### Observations\n",
    "\n",
    "    sku is Categorical but is interpreted as int64 \n",
    "\n",
    "    potential_issue, deck_risk, oe_constraint, ppap_risk, stop_auto_buy, rev_stop, and went_on_backorder are categorical but is interpreted as object. "
   ]
  },
  {
   "cell_type": "markdown",
   "metadata": {},
   "source": [
    "#### Convert all the attributes to appropriate type"
   ]
  },
  {
   "cell_type": "markdown",
   "metadata": {},
   "source": [
    "Data type conversion\n",
    "\n",
    "    Using astype('category') to convert potential_issue, deck_risk, oe_constraint, ppap_risk, stop_auto_buy, rev_stop, and went_on_backorder attributes to categorical attributes.\n"
   ]
  },
  {
   "cell_type": "code",
   "execution_count": 11,
   "metadata": {},
   "outputs": [],
   "source": [
    "for col in ['sku', 'potential_issue', 'deck_risk', 'oe_constraint', 'ppap_risk', 'stop_auto_buy', 'rev_stop', 'went_on_backorder']:\n",
    "    data[col] = data[col].astype('category')"
   ]
  },
  {
   "cell_type": "markdown",
   "metadata": {},
   "source": [
    "Display data type of each variable"
   ]
  },
  {
   "cell_type": "code",
   "execution_count": 12,
   "metadata": {},
   "outputs": [
    {
     "data": {
      "text/plain": [
       "sku                  category\n",
       "national_inv            int64\n",
       "lead_time             float64\n",
       "in_transit_qty          int64\n",
       "forecast_3_month        int64\n",
       "forecast_6_month        int64\n",
       "forecast_9_month        int64\n",
       "sales_1_month           int64\n",
       "sales_3_month           int64\n",
       "sales_6_month           int64\n",
       "sales_9_month           int64\n",
       "min_bank                int64\n",
       "potential_issue      category\n",
       "pieces_past_due         int64\n",
       "perf_6_month_avg      float64\n",
       "perf_12_month_avg     float64\n",
       "local_bo_qty            int64\n",
       "deck_risk            category\n",
       "oe_constraint        category\n",
       "ppap_risk            category\n",
       "stop_auto_buy        category\n",
       "rev_stop             category\n",
       "went_on_backorder    category\n",
       "dtype: object"
      ]
     },
     "execution_count": 12,
     "metadata": {},
     "output_type": "execute_result"
    }
   ],
   "source": [
    "data.dtypes"
   ]
  },
  {
   "cell_type": "markdown",
   "metadata": {},
   "source": [
    "##### Delete sku attribute"
   ]
  },
  {
   "cell_type": "code",
   "execution_count": 13,
   "metadata": {},
   "outputs": [
    {
     "data": {
      "text/plain": [
       "61589"
      ]
     },
     "execution_count": 13,
     "metadata": {},
     "output_type": "execute_result"
    }
   ],
   "source": [
    "np.size(np.unique(data.sku))"
   ]
  },
  {
   "cell_type": "code",
   "execution_count": 14,
   "metadata": {},
   "outputs": [],
   "source": [
    "data.drop('sku', axis=1, inplace=True)"
   ]
  },
  {
   "cell_type": "markdown",
   "metadata": {},
   "source": [
    "#### Missing Data"
   ]
  },
  {
   "cell_type": "code",
   "execution_count": 15,
   "metadata": {},
   "outputs": [
    {
     "data": {
      "text/plain": [
       "national_inv            0\n",
       "lead_time            3403\n",
       "in_transit_qty          0\n",
       "forecast_3_month        0\n",
       "forecast_6_month        0\n",
       "forecast_9_month        0\n",
       "sales_1_month           0\n",
       "sales_3_month           0\n",
       "sales_6_month           0\n",
       "sales_9_month           0\n",
       "min_bank                0\n",
       "potential_issue         0\n",
       "pieces_past_due         0\n",
       "perf_6_month_avg        0\n",
       "perf_12_month_avg       0\n",
       "local_bo_qty            0\n",
       "deck_risk               0\n",
       "oe_constraint           0\n",
       "ppap_risk               0\n",
       "stop_auto_buy           0\n",
       "rev_stop                0\n",
       "went_on_backorder       0\n",
       "dtype: int64"
      ]
     },
     "execution_count": 15,
     "metadata": {},
     "output_type": "execute_result"
    }
   ],
   "source": [
    "data.isnull().sum()"
   ]
  },
  {
   "cell_type": "markdown",
   "metadata": {},
   "source": [
    "### Preparing Data for Model building"
   ]
  },
  {
   "cell_type": "code",
   "execution_count": 16,
   "metadata": {},
   "outputs": [
    {
     "data": {
      "text/plain": [
       "0    50296\n",
       "1    11293\n",
       "Name: went_on_backorder, dtype: int64"
      ]
     },
     "execution_count": 16,
     "metadata": {},
     "output_type": "execute_result"
    }
   ],
   "source": [
    "data['went_on_backorder'] = data['went_on_backorder'].replace(to_replace=['No', 'Yes'], value=[0, 1])\n",
    "data['went_on_backorder'].value_counts()"
   ]
  },
  {
   "cell_type": "code",
   "execution_count": 17,
   "metadata": {},
   "outputs": [],
   "source": [
    "X, y = data.loc[:,data.columns!='went_on_backorder'], data.loc[:,'went_on_backorder']\n",
    "\n",
    "X_train, X_val, y_train, y_val = train_test_split(X, y, test_size=0.3, random_state=123, stratify = y)"
   ]
  },
  {
   "cell_type": "code",
   "execution_count": 18,
   "metadata": {},
   "outputs": [
    {
     "name": "stdout",
     "output_type": "stream",
     "text": [
      "(43112, 21)\n",
      "(43112,)\n",
      "(18477, 21)\n",
      "(18477,)\n"
     ]
    }
   ],
   "source": [
    "print(X_train.shape)\n",
    "print(y_train.shape)\n",
    "print(X_val.shape)\n",
    "print(y_val.shape)"
   ]
  },
  {
   "cell_type": "code",
   "execution_count": 19,
   "metadata": {},
   "outputs": [
    {
     "data": {
      "text/plain": [
       "national_inv            int64\n",
       "lead_time             float64\n",
       "in_transit_qty          int64\n",
       "forecast_3_month        int64\n",
       "forecast_6_month        int64\n",
       "forecast_9_month        int64\n",
       "sales_1_month           int64\n",
       "sales_3_month           int64\n",
       "sales_6_month           int64\n",
       "sales_9_month           int64\n",
       "min_bank                int64\n",
       "potential_issue      category\n",
       "pieces_past_due         int64\n",
       "perf_6_month_avg      float64\n",
       "perf_12_month_avg     float64\n",
       "local_bo_qty            int64\n",
       "deck_risk            category\n",
       "oe_constraint        category\n",
       "ppap_risk            category\n",
       "stop_auto_buy        category\n",
       "rev_stop             category\n",
       "dtype: object"
      ]
     },
     "execution_count": 19,
     "metadata": {},
     "output_type": "execute_result"
    }
   ],
   "source": [
    "X_train.dtypes"
   ]
  },
  {
   "cell_type": "code",
   "execution_count": 20,
   "metadata": {},
   "outputs": [],
   "source": [
    "cat_attr = list(X_train.select_dtypes(include=['category']).columns)\n",
    "num_attr = list(X_train.select_dtypes(include=['number']).columns)"
   ]
  },
  {
   "cell_type": "code",
   "execution_count": 21,
   "metadata": {},
   "outputs": [
    {
     "name": "stdout",
     "output_type": "stream",
     "text": [
      "['potential_issue', 'deck_risk', 'oe_constraint', 'ppap_risk', 'stop_auto_buy', 'rev_stop']\n",
      "['national_inv', 'lead_time', 'in_transit_qty', 'forecast_3_month', 'forecast_6_month', 'forecast_9_month', 'sales_1_month', 'sales_3_month', 'sales_6_month', 'sales_9_month', 'min_bank', 'pieces_past_due', 'perf_6_month_avg', 'perf_12_month_avg', 'local_bo_qty']\n"
     ]
    }
   ],
   "source": [
    "print(cat_attr)\n",
    "print(num_attr)"
   ]
  },
  {
   "cell_type": "markdown",
   "metadata": {},
   "source": [
    "#### Handling Numerical Columns\n",
    "\n",
    "##### Imputation"
   ]
  },
  {
   "cell_type": "code",
   "execution_count": 22,
   "metadata": {},
   "outputs": [
    {
     "name": "stderr",
     "output_type": "stream",
     "text": [
      "/usr/share/anaconda3/lib/python3.7/site-packages/ipykernel_launcher.py:4: SettingWithCopyWarning: \n",
      "A value is trying to be set on a copy of a slice from a DataFrame.\n",
      "Try using .loc[row_indexer,col_indexer] = value instead\n",
      "\n",
      "See the caveats in the documentation: https://pandas.pydata.org/pandas-docs/stable/user_guide/indexing.html#returning-a-view-versus-a-copy\n",
      "  after removing the cwd from sys.path.\n",
      "/usr/share/anaconda3/lib/python3.7/site-packages/pandas/core/indexing.py:965: SettingWithCopyWarning: \n",
      "A value is trying to be set on a copy of a slice from a DataFrame.\n",
      "Try using .loc[row_indexer,col_indexer] = value instead\n",
      "\n",
      "See the caveats in the documentation: https://pandas.pydata.org/pandas-docs/stable/user_guide/indexing.html#returning-a-view-versus-a-copy\n",
      "  self.obj[item] = s\n",
      "/usr/share/anaconda3/lib/python3.7/site-packages/ipykernel_launcher.py:5: SettingWithCopyWarning: \n",
      "A value is trying to be set on a copy of a slice from a DataFrame.\n",
      "Try using .loc[row_indexer,col_indexer] = value instead\n",
      "\n",
      "See the caveats in the documentation: https://pandas.pydata.org/pandas-docs/stable/user_guide/indexing.html#returning-a-view-versus-a-copy\n",
      "  \"\"\"\n",
      "/usr/share/anaconda3/lib/python3.7/site-packages/pandas/core/indexing.py:965: SettingWithCopyWarning: \n",
      "A value is trying to be set on a copy of a slice from a DataFrame.\n",
      "Try using .loc[row_indexer,col_indexer] = value instead\n",
      "\n",
      "See the caveats in the documentation: https://pandas.pydata.org/pandas-docs/stable/user_guide/indexing.html#returning-a-view-versus-a-copy\n",
      "  self.obj[item] = s\n"
     ]
    }
   ],
   "source": [
    "imputer = SimpleImputer(strategy='median')\n",
    "imputer = imputer.fit(X_train[num_attr])\n",
    "\n",
    "X_train[num_attr] = imputer.transform(X_train[num_attr])\n",
    "X_val[num_attr] = imputer.transform(X_val[num_attr])"
   ]
  },
  {
   "cell_type": "code",
   "execution_count": 23,
   "metadata": {},
   "outputs": [
    {
     "data": {
      "text/plain": [
       "national_inv         0\n",
       "lead_time            0\n",
       "in_transit_qty       0\n",
       "forecast_3_month     0\n",
       "forecast_6_month     0\n",
       "forecast_9_month     0\n",
       "sales_1_month        0\n",
       "sales_3_month        0\n",
       "sales_6_month        0\n",
       "sales_9_month        0\n",
       "min_bank             0\n",
       "potential_issue      0\n",
       "pieces_past_due      0\n",
       "perf_6_month_avg     0\n",
       "perf_12_month_avg    0\n",
       "local_bo_qty         0\n",
       "deck_risk            0\n",
       "oe_constraint        0\n",
       "ppap_risk            0\n",
       "stop_auto_buy        0\n",
       "rev_stop             0\n",
       "dtype: int64"
      ]
     },
     "execution_count": 23,
     "metadata": {},
     "output_type": "execute_result"
    }
   ],
   "source": [
    "X_train.isnull().sum()"
   ]
  },
  {
   "cell_type": "code",
   "execution_count": 24,
   "metadata": {},
   "outputs": [
    {
     "data": {
      "text/plain": [
       "national_inv         0\n",
       "lead_time            0\n",
       "in_transit_qty       0\n",
       "forecast_3_month     0\n",
       "forecast_6_month     0\n",
       "forecast_9_month     0\n",
       "sales_1_month        0\n",
       "sales_3_month        0\n",
       "sales_6_month        0\n",
       "sales_9_month        0\n",
       "min_bank             0\n",
       "potential_issue      0\n",
       "pieces_past_due      0\n",
       "perf_6_month_avg     0\n",
       "perf_12_month_avg    0\n",
       "local_bo_qty         0\n",
       "deck_risk            0\n",
       "oe_constraint        0\n",
       "ppap_risk            0\n",
       "stop_auto_buy        0\n",
       "rev_stop             0\n",
       "dtype: int64"
      ]
     },
     "execution_count": 24,
     "metadata": {},
     "output_type": "execute_result"
    }
   ],
   "source": [
    "X_val.isnull().sum()"
   ]
  },
  {
   "cell_type": "markdown",
   "metadata": {},
   "source": [
    "##### Standardize the data \n"
   ]
  },
  {
   "cell_type": "code",
   "execution_count": 25,
   "metadata": {},
   "outputs": [
    {
     "data": {
      "text/plain": [
       "StandardScaler()"
      ]
     },
     "execution_count": 25,
     "metadata": {},
     "output_type": "execute_result"
    }
   ],
   "source": [
    "scaler = StandardScaler()\n",
    "scaler.fit(X_train[num_attr])"
   ]
  },
  {
   "cell_type": "code",
   "execution_count": 26,
   "metadata": {},
   "outputs": [
    {
     "data": {
      "text/plain": [
       "array([280.39807942,   7.58475598,  31.7570746 , 180.32192893,\n",
       "       333.50714418, 478.5932223 ,  48.70351642, 168.15587307,\n",
       "       311.69379755, 459.47599276,  45.86509557,   1.33239005,\n",
       "        -6.23209338,  -5.79506425,   1.13017257])"
      ]
     },
     "execution_count": 26,
     "metadata": {},
     "output_type": "execute_result"
    }
   ],
   "source": [
    "scaler.mean_"
   ]
  },
  {
   "cell_type": "code",
   "execution_count": 27,
   "metadata": {},
   "outputs": [
    {
     "data": {
      "text/plain": [
       "array([1.65743285e+07, 3.96771734e+01, 8.41446996e+05, 3.84987183e+07,\n",
       "       1.30909776e+08, 2.76547320e+08, 2.64594279e+06, 3.85766961e+07,\n",
       "       1.10699939e+08, 2.26680875e+08, 1.26537112e+06, 7.44504380e+02,\n",
       "       6.49465857e+02, 6.11292307e+02, 8.74380578e+02])"
      ]
     },
     "execution_count": 27,
     "metadata": {},
     "output_type": "execute_result"
    }
   ],
   "source": [
    "scaler.var_"
   ]
  },
  {
   "cell_type": "code",
   "execution_count": 28,
   "metadata": {},
   "outputs": [],
   "source": [
    "X_train_num = pd.DataFrame(scaler.transform(X_train[num_attr]), columns=num_attr)\n",
    "X_val_num = pd.DataFrame(scaler.transform(X_val[num_attr]), columns=num_attr)"
   ]
  },
  {
   "cell_type": "code",
   "execution_count": 29,
   "metadata": {},
   "outputs": [
    {
     "name": "stdout",
     "output_type": "stream",
     "text": [
      "(43112, 15)\n",
      "(18477, 15)\n",
      "<class 'pandas.core.frame.DataFrame'>\n",
      "<class 'pandas.core.frame.DataFrame'>\n"
     ]
    }
   ],
   "source": [
    "print(X_train_num.shape)\n",
    "print(X_val_num.shape)\n",
    "\n",
    "print(type(X_train_num))\n",
    "print(type(X_val_num))"
   ]
  },
  {
   "cell_type": "markdown",
   "metadata": {},
   "source": [
    "#### Handling Categorical Columns\n",
    "##### Imputation"
   ]
  },
  {
   "cell_type": "code",
   "execution_count": 30,
   "metadata": {},
   "outputs": [
    {
     "name": "stderr",
     "output_type": "stream",
     "text": [
      "/usr/share/anaconda3/lib/python3.7/site-packages/ipykernel_launcher.py:5: SettingWithCopyWarning: \n",
      "A value is trying to be set on a copy of a slice from a DataFrame.\n",
      "Try using .loc[row_indexer,col_indexer] = value instead\n",
      "\n",
      "See the caveats in the documentation: https://pandas.pydata.org/pandas-docs/stable/user_guide/indexing.html#returning-a-view-versus-a-copy\n",
      "  \"\"\"\n",
      "/usr/share/anaconda3/lib/python3.7/site-packages/pandas/core/indexing.py:965: SettingWithCopyWarning: \n",
      "A value is trying to be set on a copy of a slice from a DataFrame.\n",
      "Try using .loc[row_indexer,col_indexer] = value instead\n",
      "\n",
      "See the caveats in the documentation: https://pandas.pydata.org/pandas-docs/stable/user_guide/indexing.html#returning-a-view-versus-a-copy\n",
      "  self.obj[item] = s\n",
      "/usr/share/anaconda3/lib/python3.7/site-packages/ipykernel_launcher.py:6: SettingWithCopyWarning: \n",
      "A value is trying to be set on a copy of a slice from a DataFrame.\n",
      "Try using .loc[row_indexer,col_indexer] = value instead\n",
      "\n",
      "See the caveats in the documentation: https://pandas.pydata.org/pandas-docs/stable/user_guide/indexing.html#returning-a-view-versus-a-copy\n",
      "  \n",
      "/usr/share/anaconda3/lib/python3.7/site-packages/pandas/core/indexing.py:965: SettingWithCopyWarning: \n",
      "A value is trying to be set on a copy of a slice from a DataFrame.\n",
      "Try using .loc[row_indexer,col_indexer] = value instead\n",
      "\n",
      "See the caveats in the documentation: https://pandas.pydata.org/pandas-docs/stable/user_guide/indexing.html#returning-a-view-versus-a-copy\n",
      "  self.obj[item] = s\n"
     ]
    }
   ],
   "source": [
    "imputer = SimpleImputer(strategy='most_frequent')\n",
    "\n",
    "imputer = imputer.fit(X_train[cat_attr])\n",
    "\n",
    "X_train[cat_attr] = imputer.transform(X_train[cat_attr])\n",
    "X_val[cat_attr] = imputer.transform(X_val[cat_attr])"
   ]
  },
  {
   "cell_type": "markdown",
   "metadata": {},
   "source": [
    "##### One Hot Encoding"
   ]
  },
  {
   "cell_type": "code",
   "execution_count": 31,
   "metadata": {},
   "outputs": [],
   "source": [
    "ohe = OneHotEncoder(handle_unknown='error')"
   ]
  },
  {
   "cell_type": "code",
   "execution_count": 32,
   "metadata": {},
   "outputs": [
    {
     "name": "stdout",
     "output_type": "stream",
     "text": [
      "['potential_issue_No', 'potential_issue_Yes', 'deck_risk_No', 'deck_risk_Yes', 'oe_constraint_No', 'oe_constraint_Yes', 'ppap_risk_No', 'ppap_risk_Yes', 'stop_auto_buy_No', 'stop_auto_buy_Yes', 'rev_stop_No', 'rev_stop_Yes']\n"
     ]
    }
   ],
   "source": [
    "ohe.fit(X_train[cat_attr])\n",
    "\n",
    "columns_ohe = list(ohe.get_feature_names(cat_attr))\n",
    "print(columns_ohe)\n",
    "\n",
    "X_train_cat = ohe.transform(X_train[cat_attr])\n",
    "X_val_cat = ohe.transform(X_val[cat_attr])\n",
    "\n",
    "X_train_cat = pd.DataFrame(X_train_cat.todense(), columns=columns_ohe)\n",
    "X_val_cat = pd.DataFrame(X_val_cat.todense(), columns=columns_ohe)"
   ]
  },
  {
   "cell_type": "code",
   "execution_count": 33,
   "metadata": {},
   "outputs": [
    {
     "name": "stdout",
     "output_type": "stream",
     "text": [
      "(43112, 12)\n",
      "(18477, 12)\n",
      "<class 'pandas.core.frame.DataFrame'>\n",
      "<class 'pandas.core.frame.DataFrame'>\n"
     ]
    }
   ],
   "source": [
    "print(X_train_cat.shape)\n",
    "print(X_val_cat.shape)\n",
    "\n",
    "print(type(X_train_cat))\n",
    "print(type(X_val_cat))"
   ]
  },
  {
   "cell_type": "markdown",
   "metadata": {},
   "source": [
    "### Merging of Numerical and Categorical Dataframes"
   ]
  },
  {
   "cell_type": "code",
   "execution_count": 34,
   "metadata": {},
   "outputs": [],
   "source": [
    "X_train_proc = pd.concat([X_train_num, X_train_cat], axis=1)\n",
    "X_val_proc = pd.concat([X_val_num, X_val_cat], axis=1)"
   ]
  },
  {
   "cell_type": "code",
   "execution_count": 35,
   "metadata": {},
   "outputs": [
    {
     "name": "stdout",
     "output_type": "stream",
     "text": [
      "(43112, 27)\n",
      "(43112,)\n",
      "(18477, 27)\n",
      "(18477,)\n"
     ]
    }
   ],
   "source": [
    "print(X_train_proc.shape)\n",
    "print(y_train.shape)\n",
    "print(X_val_proc.shape)\n",
    "print(y_val.shape)"
   ]
  },
  {
   "cell_type": "code",
   "execution_count": 36,
   "metadata": {},
   "outputs": [
    {
     "data": {
      "text/plain": [
       "32557    0\n",
       "35028    0\n",
       "18       1\n",
       "24527    0\n",
       "54999    0\n",
       "        ..\n",
       "27190    0\n",
       "55221    0\n",
       "2605     1\n",
       "35193    1\n",
       "15355    0\n",
       "Name: went_on_backorder, Length: 43112, dtype: int64"
      ]
     },
     "execution_count": 36,
     "metadata": {},
     "output_type": "execute_result"
    }
   ],
   "source": [
    "y_train"
   ]
  },
  {
   "cell_type": "markdown",
   "metadata": {},
   "source": [
    "### Convert dataframe to numpy array to feed into Neural Networks"
   ]
  },
  {
   "cell_type": "code",
   "execution_count": 37,
   "metadata": {},
   "outputs": [
    {
     "name": "stdout",
     "output_type": "stream",
     "text": [
      "<class 'pandas.core.frame.DataFrame'>\n",
      "<class 'pandas.core.frame.DataFrame'>\n",
      "<class 'numpy.ndarray'>\n",
      "<class 'numpy.ndarray'>\n"
     ]
    }
   ],
   "source": [
    "print(type(X_train_proc))\n",
    "print(type(X_val_proc))\n",
    "\n",
    "X_train_proc_arr = X_train_proc.values\n",
    "X_val_proc_arr = X_val_proc.values\n",
    "\n",
    "print(type(X_train_proc_arr))\n",
    "print(type(X_val_proc_arr))"
   ]
  },
  {
   "cell_type": "markdown",
   "metadata": {},
   "source": [
    "### Perceptron Model"
   ]
  },
  {
   "cell_type": "code",
   "execution_count": 38,
   "metadata": {},
   "outputs": [],
   "source": [
    "perceptron_model = Sequential()\n",
    "perceptron_model.add(Dense(1, activation='sigmoid', input_shape=(27,)))"
   ]
  },
  {
   "cell_type": "code",
   "execution_count": 39,
   "metadata": {},
   "outputs": [],
   "source": [
    "perceptron_model.compile(loss='binary_crossentropy', optimizer='sgd', metrics=[tf.keras.metrics.Recall()])"
   ]
  },
  {
   "cell_type": "code",
   "execution_count": 40,
   "metadata": {},
   "outputs": [
    {
     "name": "stdout",
     "output_type": "stream",
     "text": [
      "Model: \"sequential\"\n",
      "_________________________________________________________________\n",
      "Layer (type)                 Output Shape              Param #   \n",
      "=================================================================\n",
      "dense (Dense)                (None, 1)                 28        \n",
      "=================================================================\n",
      "Total params: 28\n",
      "Trainable params: 28\n",
      "Non-trainable params: 0\n",
      "_________________________________________________________________\n"
     ]
    }
   ],
   "source": [
    "perceptron_model.summary()"
   ]
  },
  {
   "cell_type": "code",
   "execution_count": 41,
   "metadata": {},
   "outputs": [
    {
     "name": "stdout",
     "output_type": "stream",
     "text": [
      "Epoch 1/100\n",
      "539/539 [==============================] - 1s 2ms/step - loss: 0.5636 - recall: 0.1431 - val_loss: 0.4730 - val_recall: 0.0025\n",
      "Epoch 2/100\n",
      "539/539 [==============================] - 1s 1ms/step - loss: 0.4683 - recall: 0.0067 - val_loss: 0.4680 - val_recall: 0.0025\n",
      "Epoch 3/100\n",
      "539/539 [==============================] - 1s 1ms/step - loss: 0.4621 - recall: 0.0081 - val_loss: 0.4656 - val_recall: 0.0037\n",
      "Epoch 4/100\n",
      "539/539 [==============================] - 1s 1ms/step - loss: 0.4576 - recall: 0.0077 - val_loss: 0.4649 - val_recall: 0.0050\n",
      "Epoch 5/100\n",
      "539/539 [==============================] - 1s 1ms/step - loss: 0.4602 - recall: 0.0063 - val_loss: 0.4647 - val_recall: 0.0056\n",
      "Epoch 6/100\n",
      "539/539 [==============================] - 0s 839us/step - loss: 0.4608 - recall: 0.0097 - val_loss: 0.4645 - val_recall: 0.0056\n",
      "Epoch 7/100\n",
      "539/539 [==============================] - 1s 934us/step - loss: 0.4571 - recall: 0.0095 - val_loss: 0.4645 - val_recall: 0.0056\n",
      "Epoch 8/100\n",
      "539/539 [==============================] - 1s 1ms/step - loss: 0.4545 - recall: 0.0086 - val_loss: 0.4644 - val_recall: 0.0056\n",
      "Epoch 9/100\n",
      "539/539 [==============================] - 1s 1ms/step - loss: 0.4586 - recall: 0.0118 - val_loss: 0.4644 - val_recall: 0.0056\n",
      "Epoch 10/100\n",
      "539/539 [==============================] - 1s 1ms/step - loss: 0.4576 - recall: 0.0081 - val_loss: 0.4642 - val_recall: 0.0056\n",
      "Epoch 11/100\n",
      "539/539 [==============================] - 1s 1ms/step - loss: 0.4584 - recall: 0.0078 - val_loss: 0.4642 - val_recall: 0.0063\n",
      "Epoch 12/100\n",
      "539/539 [==============================] - 1s 1ms/step - loss: 0.4570 - recall: 0.0098 - val_loss: 0.4642 - val_recall: 0.0063\n",
      "Epoch 13/100\n",
      "539/539 [==============================] - 1s 1ms/step - loss: 0.4598 - recall: 0.0078 - val_loss: 0.4643 - val_recall: 0.0063\n",
      "Epoch 14/100\n",
      "539/539 [==============================] - 1s 1ms/step - loss: 0.4571 - recall: 0.0076 - val_loss: 0.4641 - val_recall: 0.0075\n",
      "Epoch 15/100\n",
      "539/539 [==============================] - 1s 1ms/step - loss: 0.4570 - recall: 0.0113 - val_loss: 0.4640 - val_recall: 0.0075\n",
      "Epoch 16/100\n",
      "539/539 [==============================] - 1s 1ms/step - loss: 0.4531 - recall: 0.0113 - val_loss: 0.4640 - val_recall: 0.0075\n",
      "Epoch 17/100\n",
      "539/539 [==============================] - 1s 1ms/step - loss: 0.4558 - recall: 0.0104 - val_loss: 0.4640 - val_recall: 0.0075\n",
      "Epoch 18/100\n",
      "539/539 [==============================] - 1s 2ms/step - loss: 0.4571 - recall: 0.0103 - val_loss: 0.4639 - val_recall: 0.0075\n",
      "Epoch 19/100\n",
      "539/539 [==============================] - 1s 1ms/step - loss: 0.4586 - recall: 0.0088 - val_loss: 0.4639 - val_recall: 0.0075\n",
      "Epoch 20/100\n",
      "539/539 [==============================] - 1s 1ms/step - loss: 0.4596 - recall: 0.0077 - val_loss: 0.4638 - val_recall: 0.0075\n",
      "Epoch 21/100\n",
      "539/539 [==============================] - 1s 1ms/step - loss: 0.4582 - recall: 0.0093 - val_loss: 0.4639 - val_recall: 0.0075\n",
      "Epoch 22/100\n",
      "539/539 [==============================] - 1s 1ms/step - loss: 0.4540 - recall: 0.0092 - val_loss: 0.4637 - val_recall: 0.0081\n",
      "Epoch 23/100\n",
      "539/539 [==============================] - 1s 1ms/step - loss: 0.4556 - recall: 0.0100 - val_loss: 0.4637 - val_recall: 0.0081\n",
      "Epoch 24/100\n",
      "539/539 [==============================] - 1s 1ms/step - loss: 0.4572 - recall: 0.0102 - val_loss: 0.4637 - val_recall: 0.0081\n",
      "Epoch 25/100\n",
      "539/539 [==============================] - 1s 1ms/step - loss: 0.4556 - recall: 0.0092 - val_loss: 0.4636 - val_recall: 0.0081\n",
      "Epoch 26/100\n",
      "539/539 [==============================] - 1s 1ms/step - loss: 0.4529 - recall: 0.0105 - val_loss: 0.4636 - val_recall: 0.0081\n",
      "Epoch 27/100\n",
      "539/539 [==============================] - 1s 1ms/step - loss: 0.4589 - recall: 0.0093 - val_loss: 0.4635 - val_recall: 0.0081\n",
      "Epoch 28/100\n",
      "539/539 [==============================] - 1s 1ms/step - loss: 0.4566 - recall: 0.0084 - val_loss: 0.4636 - val_recall: 0.0081\n",
      "Epoch 29/100\n",
      "539/539 [==============================] - 1s 1ms/step - loss: 0.4566 - recall: 0.0087 - val_loss: 0.4635 - val_recall: 0.0081\n",
      "Epoch 30/100\n",
      "539/539 [==============================] - 1s 967us/step - loss: 0.4528 - recall: 0.0100 - val_loss: 0.4634 - val_recall: 0.0081\n",
      "Epoch 31/100\n",
      "539/539 [==============================] - 1s 1ms/step - loss: 0.4602 - recall: 0.0099 - val_loss: 0.4635 - val_recall: 0.0081\n",
      "Epoch 32/100\n",
      "539/539 [==============================] - 1s 1ms/step - loss: 0.4587 - recall: 0.0098 - val_loss: 0.4634 - val_recall: 0.0081\n",
      "Epoch 33/100\n",
      "539/539 [==============================] - 1s 1ms/step - loss: 0.4553 - recall: 0.0088 - val_loss: 0.4633 - val_recall: 0.0081\n",
      "Epoch 34/100\n",
      "539/539 [==============================] - 1s 1ms/step - loss: 0.4556 - recall: 0.0092 - val_loss: 0.4633 - val_recall: 0.0081\n",
      "Epoch 35/100\n",
      "539/539 [==============================] - 1s 1ms/step - loss: 0.4586 - recall: 0.0119 - val_loss: 0.4633 - val_recall: 0.0081\n",
      "Epoch 36/100\n",
      "539/539 [==============================] - 1s 1ms/step - loss: 0.4492 - recall: 0.0089 - val_loss: 0.4632 - val_recall: 0.0081\n",
      "Epoch 37/100\n",
      "539/539 [==============================] - 1s 1ms/step - loss: 0.4501 - recall: 0.0114 - val_loss: 0.4632 - val_recall: 0.0081\n",
      "Epoch 38/100\n",
      "539/539 [==============================] - 1s 1ms/step - loss: 0.4519 - recall: 0.0089 - val_loss: 0.4632 - val_recall: 0.0094\n",
      "Epoch 39/100\n",
      "539/539 [==============================] - 1s 1ms/step - loss: 0.4568 - recall: 0.0095 - val_loss: 0.4631 - val_recall: 0.0081\n",
      "Epoch 40/100\n",
      "539/539 [==============================] - 1s 1ms/step - loss: 0.4589 - recall: 0.0106 - val_loss: 0.4631 - val_recall: 0.0081\n",
      "Epoch 41/100\n",
      "539/539 [==============================] - 1s 2ms/step - loss: 0.4562 - recall: 0.0081 - val_loss: 0.4631 - val_recall: 0.0094\n",
      "Epoch 42/100\n",
      "539/539 [==============================] - 0s 918us/step - loss: 0.4577 - recall: 0.0097 - val_loss: 0.4630 - val_recall: 0.0094\n",
      "Epoch 43/100\n",
      "539/539 [==============================] - 0s 912us/step - loss: 0.4496 - recall: 0.0083 - val_loss: 0.4630 - val_recall: 0.0094\n",
      "Epoch 44/100\n",
      "539/539 [==============================] - 1s 1ms/step - loss: 0.4594 - recall: 0.0100 - val_loss: 0.4629 - val_recall: 0.0088\n",
      "Epoch 45/100\n",
      "539/539 [==============================] - 1s 1ms/step - loss: 0.4568 - recall: 0.0095 - val_loss: 0.4629 - val_recall: 0.0094\n",
      "Epoch 46/100\n",
      "539/539 [==============================] - 1s 999us/step - loss: 0.4560 - recall: 0.0093 - val_loss: 0.4630 - val_recall: 0.0081\n",
      "Epoch 47/100\n",
      "539/539 [==============================] - 1s 1ms/step - loss: 0.4584 - recall: 0.0106 - val_loss: 0.4629 - val_recall: 0.0081\n",
      "Epoch 48/100\n",
      "539/539 [==============================] - 1s 983us/step - loss: 0.4561 - recall: 0.0111 - val_loss: 0.4628 - val_recall: 0.0094\n",
      "Epoch 49/100\n",
      "539/539 [==============================] - 1s 1ms/step - loss: 0.4557 - recall: 0.0114 - val_loss: 0.4630 - val_recall: 0.0081\n",
      "Epoch 50/100\n",
      "539/539 [==============================] - 1s 1ms/step - loss: 0.4562 - recall: 0.0100 - val_loss: 0.4628 - val_recall: 0.0094\n",
      "Epoch 51/100\n",
      "539/539 [==============================] - 1s 1ms/step - loss: 0.4538 - recall: 0.0101 - val_loss: 0.4627 - val_recall: 0.0094\n",
      "Epoch 52/100\n",
      "539/539 [==============================] - 1s 1ms/step - loss: 0.4542 - recall: 0.0126 - val_loss: 0.4627 - val_recall: 0.0081\n",
      "Epoch 53/100\n",
      "539/539 [==============================] - 1s 1ms/step - loss: 0.4528 - recall: 0.0100 - val_loss: 0.4627 - val_recall: 0.0081\n",
      "Epoch 54/100\n",
      "539/539 [==============================] - 1s 994us/step - loss: 0.4508 - recall: 0.0118 - val_loss: 0.4626 - val_recall: 0.0094\n",
      "Epoch 55/100\n",
      "539/539 [==============================] - 1s 1ms/step - loss: 0.4588 - recall: 0.0116 - val_loss: 0.4626 - val_recall: 0.0094\n",
      "Epoch 56/100\n",
      "539/539 [==============================] - 1s 990us/step - loss: 0.4525 - recall: 0.0120 - val_loss: 0.4626 - val_recall: 0.0094\n",
      "Epoch 57/100\n",
      "539/539 [==============================] - 1s 1ms/step - loss: 0.4550 - recall: 0.0104 - val_loss: 0.4626 - val_recall: 0.0094\n",
      "Epoch 58/100\n",
      "539/539 [==============================] - 1s 1ms/step - loss: 0.4475 - recall: 0.0111 - val_loss: 0.4626 - val_recall: 0.0094\n",
      "Epoch 59/100\n",
      "539/539 [==============================] - 1s 1ms/step - loss: 0.4492 - recall: 0.0135 - val_loss: 0.4625 - val_recall: 0.0094\n",
      "Epoch 60/100\n",
      "539/539 [==============================] - 1s 1ms/step - loss: 0.4570 - recall: 0.0106 - val_loss: 0.4625 - val_recall: 0.0094\n",
      "Epoch 61/100\n",
      "539/539 [==============================] - 1s 1ms/step - loss: 0.4586 - recall: 0.0109 - val_loss: 0.4626 - val_recall: 0.0088\n",
      "Epoch 62/100\n",
      "539/539 [==============================] - 1s 1ms/step - loss: 0.4510 - recall: 0.0119 - val_loss: 0.4625 - val_recall: 0.0094\n",
      "Epoch 63/100\n",
      "539/539 [==============================] - 1s 955us/step - loss: 0.4535 - recall: 0.0131 - val_loss: 0.4625 - val_recall: 0.0094\n",
      "Epoch 64/100\n",
      "539/539 [==============================] - 1s 1ms/step - loss: 0.4515 - recall: 0.0071 - val_loss: 0.4625 - val_recall: 0.0094\n",
      "Epoch 65/100\n",
      "539/539 [==============================] - 1s 933us/step - loss: 0.4529 - recall: 0.0096 - val_loss: 0.4624 - val_recall: 0.0094\n",
      "Epoch 66/100\n",
      "539/539 [==============================] - 1s 997us/step - loss: 0.4567 - recall: 0.0121 - val_loss: 0.4624 - val_recall: 0.0094\n",
      "Epoch 67/100\n",
      "539/539 [==============================] - 1s 1ms/step - loss: 0.4516 - recall: 0.0121 - val_loss: 0.4624 - val_recall: 0.0094\n",
      "Epoch 68/100\n",
      "539/539 [==============================] - 1s 1ms/step - loss: 0.4526 - recall: 0.0087 - val_loss: 0.4623 - val_recall: 0.0094\n",
      "Epoch 69/100\n",
      "539/539 [==============================] - 1s 1ms/step - loss: 0.4536 - recall: 0.0110 - val_loss: 0.4623 - val_recall: 0.0094\n",
      "Epoch 70/100\n",
      "539/539 [==============================] - 1s 1ms/step - loss: 0.4518 - recall: 0.0108 - val_loss: 0.4623 - val_recall: 0.0094\n",
      "Epoch 71/100\n",
      "539/539 [==============================] - 1s 1ms/step - loss: 0.4538 - recall: 0.0119 - val_loss: 0.4622 - val_recall: 0.0094\n",
      "Epoch 72/100\n",
      "539/539 [==============================] - 1s 1ms/step - loss: 0.4501 - recall: 0.0114 - val_loss: 0.4622 - val_recall: 0.0094\n",
      "Epoch 73/100\n",
      "539/539 [==============================] - 1s 1ms/step - loss: 0.4525 - recall: 0.0099 - val_loss: 0.4622 - val_recall: 0.0094\n",
      "Epoch 74/100\n",
      "539/539 [==============================] - 1s 1ms/step - loss: 0.4539 - recall: 0.0125 - val_loss: 0.4622 - val_recall: 0.0088\n",
      "Epoch 75/100\n",
      "539/539 [==============================] - 1s 1ms/step - loss: 0.4517 - recall: 0.0099 - val_loss: 0.4621 - val_recall: 0.0094\n",
      "Epoch 76/100\n",
      "539/539 [==============================] - 1s 1ms/step - loss: 0.4570 - recall: 0.0098 - val_loss: 0.4620 - val_recall: 0.0094\n",
      "Epoch 77/100\n",
      "539/539 [==============================] - 1s 2ms/step - loss: 0.4538 - recall: 0.0129 - val_loss: 0.4620 - val_recall: 0.0094\n",
      "Epoch 78/100\n",
      "539/539 [==============================] - 1s 2ms/step - loss: 0.4515 - recall: 0.0100 - val_loss: 0.4620 - val_recall: 0.0094\n",
      "Epoch 79/100\n",
      "539/539 [==============================] - 1s 1ms/step - loss: 0.4535 - recall: 0.0111 - val_loss: 0.4620 - val_recall: 0.0094\n",
      "Epoch 80/100\n",
      "539/539 [==============================] - 1s 2ms/step - loss: 0.4542 - recall: 0.0095 - val_loss: 0.4620 - val_recall: 0.0094\n",
      "Epoch 81/100\n",
      "539/539 [==============================] - 1s 2ms/step - loss: 0.4550 - recall: 0.0113 - val_loss: 0.4619 - val_recall: 0.0094\n",
      "Epoch 82/100\n",
      "539/539 [==============================] - 1s 1ms/step - loss: 0.4534 - recall: 0.0126 - val_loss: 0.4620 - val_recall: 0.0094\n",
      "Epoch 83/100\n",
      "539/539 [==============================] - 1s 1ms/step - loss: 0.4566 - recall: 0.0123 - val_loss: 0.4620 - val_recall: 0.0094\n",
      "Epoch 84/100\n",
      "539/539 [==============================] - 1s 1ms/step - loss: 0.4525 - recall: 0.0117 - val_loss: 0.4619 - val_recall: 0.0094\n",
      "Epoch 85/100\n",
      "539/539 [==============================] - 1s 1ms/step - loss: 0.4550 - recall: 0.0107 - val_loss: 0.4619 - val_recall: 0.0094\n",
      "Epoch 86/100\n",
      "539/539 [==============================] - 1s 1ms/step - loss: 0.4580 - recall: 0.0081 - val_loss: 0.4618 - val_recall: 0.0094\n",
      "Epoch 87/100\n",
      "539/539 [==============================] - 1s 1ms/step - loss: 0.4497 - recall: 0.0112 - val_loss: 0.4619 - val_recall: 0.0094\n",
      "Epoch 88/100\n",
      "539/539 [==============================] - 1s 1ms/step - loss: 0.4531 - recall: 0.0113 - val_loss: 0.4618 - val_recall: 0.0094\n",
      "Epoch 89/100\n",
      "539/539 [==============================] - 1s 1ms/step - loss: 0.4531 - recall: 0.0123 - val_loss: 0.4619 - val_recall: 0.0094\n",
      "Epoch 90/100\n",
      "539/539 [==============================] - 1s 1ms/step - loss: 0.4520 - recall: 0.0106 - val_loss: 0.4618 - val_recall: 0.0094\n",
      "Epoch 91/100\n",
      "539/539 [==============================] - 1s 1ms/step - loss: 0.4504 - recall: 0.0103 - val_loss: 0.4618 - val_recall: 0.0094\n",
      "Epoch 92/100\n",
      "539/539 [==============================] - 1s 1ms/step - loss: 0.4550 - recall: 0.0104 - val_loss: 0.4618 - val_recall: 0.0094\n",
      "Epoch 93/100\n",
      "539/539 [==============================] - 1s 988us/step - loss: 0.4526 - recall: 0.0135 - val_loss: 0.4617 - val_recall: 0.0094\n",
      "Epoch 94/100\n",
      "539/539 [==============================] - 1s 1ms/step - loss: 0.4561 - recall: 0.0115 - val_loss: 0.4619 - val_recall: 0.0094\n",
      "Epoch 95/100\n",
      "539/539 [==============================] - 1s 2ms/step - loss: 0.4544 - recall: 0.0095 - val_loss: 0.4617 - val_recall: 0.0094\n",
      "Epoch 96/100\n",
      "539/539 [==============================] - 1s 1ms/step - loss: 0.4539 - recall: 0.0125 - val_loss: 0.4617 - val_recall: 0.0094\n",
      "Epoch 97/100\n",
      "539/539 [==============================] - 1s 982us/step - loss: 0.4529 - recall: 0.0107 - val_loss: 0.4617 - val_recall: 0.0094\n",
      "Epoch 98/100\n",
      "539/539 [==============================] - 1s 1ms/step - loss: 0.4566 - recall: 0.0122 - val_loss: 0.4617 - val_recall: 0.0094\n",
      "Epoch 99/100\n",
      "539/539 [==============================] - 1s 1ms/step - loss: 0.4569 - recall: 0.0101 - val_loss: 0.4616 - val_recall: 0.0094\n",
      "Epoch 100/100\n",
      "539/539 [==============================] - 1s 1ms/step - loss: 0.4529 - recall: 0.0140 - val_loss: 0.4616 - val_recall: 0.0094\n"
     ]
    }
   ],
   "source": [
    "perceptron_model_history = perceptron_model.fit(X_train_proc_arr, y_train, epochs=100, batch_size=64, validation_split=0.2)"
   ]
  },
  {
   "cell_type": "markdown",
   "metadata": {},
   "source": [
    "##### Plot"
   ]
  },
  {
   "cell_type": "code",
   "execution_count": 42,
   "metadata": {},
   "outputs": [
    {
     "name": "stdout",
     "output_type": "stream",
     "text": [
      "dict_keys(['loss', 'recall', 'val_loss', 'val_recall'])\n"
     ]
    }
   ],
   "source": [
    "print(perceptron_model_history.history.keys())"
   ]
  },
  {
   "cell_type": "code",
   "execution_count": 43,
   "metadata": {},
   "outputs": [
    {
     "data": {
      "image/png": "[encoded data removed]",
      "text/plain": [
       "<Figure size 432x288 with 1 Axes>"
      ]
     },
     "metadata": {
      "needs_background": "light"
     },
     "output_type": "display_data"
    }
   ],
   "source": [
    "plt.plot(perceptron_model_history.history['recall'])\n",
    "plt.plot(perceptron_model_history.history['val_recall'])\n",
    "plt.title('Recall Plot')\n",
    "plt.ylabel('Recall')\n",
    "plt.xlabel('Epoch')\n",
    "plt.legend(['Train', 'Validation'])\n",
    "plt.show()"
   ]
  },
  {
   "cell_type": "code",
   "execution_count": 44,
   "metadata": {},
   "outputs": [
    {
     "data": {
      "image/png": "[encoded data removed]",
      "text/plain": [
       "<Figure size 432x288 with 1 Axes>"
      ]
     },
     "metadata": {
      "needs_background": "light"
     },
     "output_type": "display_data"
    }
   ],
   "source": [
    "plt.plot(perceptron_model_history.history['loss'])\n",
    "plt.plot(perceptron_model_history.history['val_loss'])\n",
    "plt.title('Loss Function Plot')\n",
    "plt.ylabel('Loss')\n",
    "plt.xlabel('Epoch')\n",
    "plt.legend(['Train', 'Validation'])\n",
    "plt.show()"
   ]
  },
  {
   "cell_type": "markdown",
   "metadata": {},
   "source": [
    "##### Predictions"
   ]
  },
  {
   "cell_type": "code",
   "execution_count": 45,
   "metadata": {},
   "outputs": [
    {
     "name": "stderr",
     "output_type": "stream",
     "text": [
      "/home/sujitd/.local/lib/python3.7/site-packages/tensorflow/python/keras/engine/sequential.py:450: UserWarning: `model.predict_classes()` is deprecated and will be removed after 2021-01-01. Please use instead:* `np.argmax(model.predict(x), axis=-1)`,   if your model does multi-class classification   (e.g. if it uses a `softmax` last-layer activation).* `(model.predict(x) > 0.5).astype(\"int32\")`,   if your model does binary classification   (e.g. if it uses a `sigmoid` last-layer activation).\n",
      "  warnings.warn('`model.predict_classes()` is deprecated and '\n"
     ]
    },
    {
     "name": "stdout",
     "output_type": "stream",
     "text": [
      "[[35162    45]\n",
      " [ 7819    86]]\n",
      "[[15060    29]\n",
      " [ 3343    45]]\n"
     ]
    }
   ],
   "source": [
    "val_pred = perceptron_model.predict_classes(X_val_proc_arr)\n",
    "train_pred = perceptron_model.predict_classes(X_train_proc_arr)\n",
    "\n",
    "confusion_matrix_val = confusion_matrix(y_val, val_pred)\n",
    "confusion_matrix_train = confusion_matrix(y_train, train_pred)\n",
    "\n",
    "print(confusion_matrix_train)\n",
    "print(confusion_matrix_val)"
   ]
  },
  {
   "cell_type": "markdown",
   "metadata": {},
   "source": [
    "##### Train Test Accuracy, True Negative Rate and True Positive Rate"
   ]
  },
  {
   "cell_type": "code",
   "execution_count": 46,
   "metadata": {},
   "outputs": [
    {
     "name": "stdout",
     "output_type": "stream",
     "text": [
      "Train Accuracy:  0.8175913898682501\n",
      "Train Recall:  0.010879190385831752\n",
      "Train Precision:  0.6564885496183206\n",
      "-----------------------\n",
      "Val Accuracy:  0.8175028413703523\n",
      "Val Recall:  0.013282172373081463\n",
      "Val Precision:  0.6081081081081081\n"
     ]
    }
   ],
   "source": [
    "accuracy_score_train = accuracy_score(y_train, train_pred)\n",
    "accuracy_score_val = accuracy_score(y_val, val_pred)\n",
    "\n",
    "recall_score_train = recall_score(y_train, train_pred)\n",
    "recall_score_val = recall_score(y_val, val_pred)\n",
    "\n",
    "precision_score_train = precision_score(y_train, train_pred)\n",
    "precision_score_val = precision_score(y_val, val_pred)\n",
    "\n",
    "\n",
    "print(\"Train Accuracy: \",accuracy_score_train)\n",
    "print(\"Train Recall: \",recall_score_train)\n",
    "print(\"Train Precision: \",precision_score_train)\n",
    "\n",
    "print(\"-----------------------\")\n",
    "\n",
    "print(\"Val Accuracy: \",accuracy_score_val)\n",
    "print(\"Val Recall: \",recall_score_val)\n",
    "print(\"Val Precision: \",precision_score_val)"
   ]
  },
  {
   "cell_type": "markdown",
   "metadata": {},
   "source": [
    "### MLP with 2 layers\n",
    "\n",
    "    1 hidden layer with 15 neurons"
   ]
  },
  {
   "cell_type": "code",
   "execution_count": 131,
   "metadata": {},
   "outputs": [],
   "source": [
    "mlp_model1 = Sequential()\n",
    "# tanh, sigmoid, softmax, relu, linear,\n",
    "mlp_model1.add(Dense(100, activation='relu', kernel_initializer='normal', input_shape=(27,)))\n",
    "mlp_model1.add(Dense(1, activation='sigmoid', kernel_initializer='normal'))"
   ]
  },
  {
   "cell_type": "code",
   "execution_count": 132,
   "metadata": {},
   "outputs": [
    {
     "name": "stdout",
     "output_type": "stream",
     "text": [
      "Model: \"sequential_12\"\n",
      "_________________________________________________________________\n",
      "Layer (type)                 Output Shape              Param #   \n",
      "=================================================================\n",
      "dense_27 (Dense)             (None, 50)                1400      \n",
      "_________________________________________________________________\n",
      "dense_28 (Dense)             (None, 62)                3162      \n",
      "_________________________________________________________________\n",
      "dense_29 (Dense)             (None, 1)                 63        \n",
      "=================================================================\n",
      "Total params: 4,625\n",
      "Trainable params: 4,625\n",
      "Non-trainable params: 0\n",
      "_________________________________________________________________\n"
     ]
    }
   ],
   "source": [
    "mlp_model1.summary()"
   ]
  },
  {
   "cell_type": "code",
   "execution_count": 133,
   "metadata": {},
   "outputs": [],
   "source": [
    "mlp_model1.compile(loss='binary_crossentropy', optimizer='sgd', metrics=tf.keras.metrics.Recall(name='recall'))"
   ]
  },
  {
   "cell_type": "code",
   "execution_count": 134,
   "metadata": {},
   "outputs": [
    {
     "data": {
      "text/plain": [
       "0    35207\n",
       "1     7905\n",
       "Name: went_on_backorder, dtype: int64"
      ]
     },
     "execution_count": 134,
     "metadata": {},
     "output_type": "execute_result"
    }
   ],
   "source": [
    "y_train.value_counts()"
   ]
  },
  {
   "cell_type": "code",
   "execution_count": 135,
   "metadata": {},
   "outputs": [
    {
     "name": "stdout",
     "output_type": "stream",
     "text": [
      "Epoch 1/100\n",
      "539/539 [==============================] - 1s 2ms/step - loss: 0.5993 - recall: 0.0037 - val_loss: 0.4844 - val_recall: 0.0000e+00\n",
      "Epoch 2/100\n",
      "539/539 [==============================] - 1s 1ms/step - loss: 0.4781 - recall: 0.0000e+00 - val_loss: 0.4757 - val_recall: 0.0000e+00\n",
      "Epoch 3/100\n",
      "539/539 [==============================] - 1s 2ms/step - loss: 0.4713 - recall: 0.0000e+00 - val_loss: 0.4744 - val_recall: 0.0000e+00\n",
      "Epoch 4/100\n",
      "539/539 [==============================] - 1s 1ms/step - loss: 0.4671 - recall: 0.0000e+00 - val_loss: 0.4731 - val_recall: 0.0000e+00\n",
      "Epoch 5/100\n",
      "539/539 [==============================] - 1s 1ms/step - loss: 0.4688 - recall: 0.0000e+00 - val_loss: 0.4718 - val_recall: 0.0000e+00\n",
      "Epoch 6/100\n",
      "539/539 [==============================] - 1s 1ms/step - loss: 0.4680 - recall: 0.0000e+00 - val_loss: 0.4706 - val_recall: 0.0000e+00\n",
      "Epoch 7/100\n",
      "539/539 [==============================] - 1s 2ms/step - loss: 0.4640 - recall: 0.0000e+00 - val_loss: 0.4696 - val_recall: 0.0000e+00\n",
      "Epoch 8/100\n",
      "539/539 [==============================] - 1s 1ms/step - loss: 0.4621 - recall: 0.0000e+00 - val_loss: 0.4687 - val_recall: 0.0000e+00\n",
      "Epoch 9/100\n",
      "539/539 [==============================] - 1s 1ms/step - loss: 0.4648 - recall: 0.0000e+00 - val_loss: 0.4678 - val_recall: 0.0000e+00\n",
      "Epoch 10/100\n",
      "539/539 [==============================] - 1s 1ms/step - loss: 0.4620 - recall: 0.0000e+00 - val_loss: 0.4670 - val_recall: 0.0000e+00\n",
      "Epoch 11/100\n",
      "539/539 [==============================] - 1s 1ms/step - loss: 0.4637 - recall: 0.0000e+00 - val_loss: 0.4662 - val_recall: 0.0000e+00\n",
      "Epoch 12/100\n",
      "539/539 [==============================] - 1s 1ms/step - loss: 0.4612 - recall: 0.0000e+00 - val_loss: 0.4655 - val_recall: 0.0000e+00\n",
      "Epoch 13/100\n",
      "539/539 [==============================] - 1s 1ms/step - loss: 0.4631 - recall: 0.0000e+00 - val_loss: 0.4649 - val_recall: 0.0000e+00\n",
      "Epoch 14/100\n",
      "539/539 [==============================] - 1s 1ms/step - loss: 0.4595 - recall: 0.0000e+00 - val_loss: 0.4641 - val_recall: 0.0000e+00\n",
      "Epoch 15/100\n",
      "539/539 [==============================] - 1s 1ms/step - loss: 0.4587 - recall: 0.0000e+00 - val_loss: 0.4634 - val_recall: 0.0000e+00\n",
      "Epoch 16/100\n",
      "539/539 [==============================] - 1s 1ms/step - loss: 0.4559 - recall: 3.0020e-04 - val_loss: 0.4628 - val_recall: 0.0000e+00\n",
      "Epoch 17/100\n",
      "539/539 [==============================] - 1s 1ms/step - loss: 0.4578 - recall: 2.3790e-04 - val_loss: 0.4622 - val_recall: 0.0000e+00\n",
      "Epoch 18/100\n",
      "539/539 [==============================] - 1s 1ms/step - loss: 0.4587 - recall: 4.6647e-04 - val_loss: 0.4616 - val_recall: 0.0000e+00\n",
      "Epoch 19/100\n",
      "539/539 [==============================] - 1s 1ms/step - loss: 0.4582 - recall: 9.5245e-04 - val_loss: 0.4611 - val_recall: 0.0000e+00\n",
      "Epoch 20/100\n",
      "539/539 [==============================] - 1s 2ms/step - loss: 0.4598 - recall: 2.7282e-04 - val_loss: 0.4605 - val_recall: 0.0000e+00\n",
      "Epoch 21/100\n",
      "539/539 [==============================] - 1s 2ms/step - loss: 0.4574 - recall: 0.0011 - val_loss: 0.4602 - val_recall: 0.0000e+00\n",
      "Epoch 22/100\n",
      "539/539 [==============================] - 1s 1ms/step - loss: 0.4518 - recall: 0.0017 - val_loss: 0.4593 - val_recall: 0.0000e+00\n",
      "Epoch 23/100\n",
      "539/539 [==============================] - 1s 1ms/step - loss: 0.4527 - recall: 3.9384e-04 - val_loss: 0.4589 - val_recall: 0.0000e+00\n",
      "Epoch 24/100\n",
      "539/539 [==============================] - 1s 1ms/step - loss: 0.4550 - recall: 0.0016 - val_loss: 0.4584 - val_recall: 0.0000e+00\n",
      "Epoch 25/100\n",
      "539/539 [==============================] - 1s 1ms/step - loss: 0.4530 - recall: 7.0902e-04 - val_loss: 0.4577 - val_recall: 0.0000e+00\n",
      "Epoch 26/100\n",
      "539/539 [==============================] - 1s 1ms/step - loss: 0.4498 - recall: 0.0017 - val_loss: 0.4572 - val_recall: 0.0000e+00\n",
      "Epoch 27/100\n",
      "539/539 [==============================] - 1s 1ms/step - loss: 0.4547 - recall: 0.0014 - val_loss: 0.4565 - val_recall: 0.0000e+00\n",
      "Epoch 28/100\n",
      "539/539 [==============================] - 1s 1ms/step - loss: 0.4517 - recall: 0.0011 - val_loss: 0.4563 - val_recall: 6.2500e-04\n",
      "Epoch 29/100\n",
      "539/539 [==============================] - 1s 1ms/step - loss: 0.4506 - recall: 0.0021 - val_loss: 0.4554 - val_recall: 6.2500e-04\n",
      "Epoch 30/100\n",
      "539/539 [==============================] - 1s 1ms/step - loss: 0.4471 - recall: 0.0024 - val_loss: 0.4547 - val_recall: 6.2500e-04\n",
      "Epoch 31/100\n",
      "539/539 [==============================] - 1s 1ms/step - loss: 0.4537 - recall: 0.0024 - val_loss: 0.4549 - val_recall: 0.0019\n",
      "Epoch 32/100\n",
      "539/539 [==============================] - 1s 1ms/step - loss: 0.4508 - recall: 0.0035 - val_loss: 0.4535 - val_recall: 0.0019\n",
      "Epoch 33/100\n",
      "539/539 [==============================] - 1s 1ms/step - loss: 0.4475 - recall: 0.0027 - val_loss: 0.4529 - val_recall: 0.0019\n",
      "Epoch 34/100\n",
      "539/539 [==============================] - 1s 1ms/step - loss: 0.4455 - recall: 0.0054 - val_loss: 0.4528 - val_recall: 0.0025\n",
      "Epoch 35/100\n",
      "539/539 [==============================] - 1s 1ms/step - loss: 0.4484 - recall: 0.0056 - val_loss: 0.4520 - val_recall: 0.0031\n",
      "Epoch 36/100\n",
      "539/539 [==============================] - 1s 1ms/step - loss: 0.4383 - recall: 0.0052 - val_loss: 0.4510 - val_recall: 0.0044\n",
      "Epoch 37/100\n",
      "539/539 [==============================] - 1s 1ms/step - loss: 0.4394 - recall: 0.0080 - val_loss: 0.4507 - val_recall: 0.0056\n",
      "Epoch 38/100\n",
      "539/539 [==============================] - 1s 1ms/step - loss: 0.4390 - recall: 0.0088 - val_loss: 0.4499 - val_recall: 0.0088\n",
      "Epoch 39/100\n",
      "539/539 [==============================] - 1s 1ms/step - loss: 0.4452 - recall: 0.0120 - val_loss: 0.4491 - val_recall: 0.0119\n",
      "Epoch 40/100\n",
      "539/539 [==============================] - 1s 1ms/step - loss: 0.4447 - recall: 0.0150 - val_loss: 0.4489 - val_recall: 0.0125\n",
      "Epoch 41/100\n",
      "539/539 [==============================] - 1s 1ms/step - loss: 0.4400 - recall: 0.0152 - val_loss: 0.4479 - val_recall: 0.0169\n",
      "Epoch 42/100\n",
      "539/539 [==============================] - 1s 1ms/step - loss: 0.4407 - recall: 0.0258 - val_loss: 0.4473 - val_recall: 0.0225\n",
      "Epoch 43/100\n",
      "539/539 [==============================] - 1s 1ms/step - loss: 0.4345 - recall: 0.0263 - val_loss: 0.4474 - val_recall: 0.0338\n",
      "Epoch 44/100\n",
      "539/539 [==============================] - 1s 1ms/step - loss: 0.4421 - recall: 0.0366 - val_loss: 0.4459 - val_recall: 0.0400\n",
      "Epoch 45/100\n",
      "539/539 [==============================] - 1s 1ms/step - loss: 0.4401 - recall: 0.0509 - val_loss: 0.4454 - val_recall: 0.0475\n",
      "Epoch 46/100\n",
      "539/539 [==============================] - 1s 2ms/step - loss: 0.4378 - recall: 0.0593 - val_loss: 0.4464 - val_recall: 0.0538\n",
      "Epoch 47/100\n",
      "539/539 [==============================] - 1s 2ms/step - loss: 0.4374 - recall: 0.0675 - val_loss: 0.4449 - val_recall: 0.0587\n",
      "Epoch 48/100\n",
      "539/539 [==============================] - 1s 2ms/step - loss: 0.4364 - recall: 0.0688 - val_loss: 0.4443 - val_recall: 0.0631\n",
      "Epoch 49/100\n",
      "539/539 [==============================] - 1s 1ms/step - loss: 0.4367 - recall: 0.0708 - val_loss: 0.4442 - val_recall: 0.0613\n",
      "Epoch 50/100\n",
      "539/539 [==============================] - 1s 1ms/step - loss: 0.4361 - recall: 0.0713 - val_loss: 0.4426 - val_recall: 0.0650\n",
      "Epoch 51/100\n",
      "539/539 [==============================] - 1s 1ms/step - loss: 0.4324 - recall: 0.0782 - val_loss: 0.4414 - val_recall: 0.0688\n",
      "Epoch 52/100\n",
      "539/539 [==============================] - 1s 1ms/step - loss: 0.4316 - recall: 0.0795 - val_loss: 0.4410 - val_recall: 0.0719\n",
      "Epoch 53/100\n",
      "539/539 [==============================] - 1s 1ms/step - loss: 0.4301 - recall: 0.0820 - val_loss: 0.4410 - val_recall: 0.0706\n",
      "Epoch 54/100\n",
      "539/539 [==============================] - 1s 1ms/step - loss: 0.4269 - recall: 0.0768 - val_loss: 0.4412 - val_recall: 0.0825\n",
      "Epoch 55/100\n",
      "539/539 [==============================] - 1s 2ms/step - loss: 0.4370 - recall: 0.0848 - val_loss: 0.4388 - val_recall: 0.0763\n",
      "Epoch 56/100\n",
      "539/539 [==============================] - 1s 1ms/step - loss: 0.4276 - recall: 0.0826 - val_loss: 0.4396 - val_recall: 0.0763\n",
      "Epoch 57/100\n",
      "539/539 [==============================] - 1s 1ms/step - loss: 0.4288 - recall: 0.0801 - val_loss: 0.4380 - val_recall: 0.0838\n",
      "Epoch 58/100\n",
      "539/539 [==============================] - 1s 1ms/step - loss: 0.4204 - recall: 0.0879 - val_loss: 0.4372 - val_recall: 0.0869\n",
      "Epoch 59/100\n",
      "539/539 [==============================] - 1s 2ms/step - loss: 0.4215 - recall: 0.0875 - val_loss: 0.4372 - val_recall: 0.0875\n",
      "Epoch 60/100\n",
      "539/539 [==============================] - 1s 1ms/step - loss: 0.4293 - recall: 0.0915 - val_loss: 0.4359 - val_recall: 0.0887\n",
      "Epoch 61/100\n",
      "539/539 [==============================] - 1s 1ms/step - loss: 0.4325 - recall: 0.0915 - val_loss: 0.4366 - val_recall: 0.0831\n",
      "Epoch 62/100\n",
      "539/539 [==============================] - 1s 1ms/step - loss: 0.4196 - recall: 0.1009 - val_loss: 0.4368 - val_recall: 0.0862\n",
      "Epoch 63/100\n",
      "539/539 [==============================] - 1s 1ms/step - loss: 0.4231 - recall: 0.1002 - val_loss: 0.4363 - val_recall: 0.0881\n",
      "Epoch 64/100\n",
      "539/539 [==============================] - 1s 1ms/step - loss: 0.4182 - recall: 0.1015 - val_loss: 0.4348 - val_recall: 0.0962\n",
      "Epoch 65/100\n",
      "539/539 [==============================] - 1s 1ms/step - loss: 0.4232 - recall: 0.0987 - val_loss: 0.4337 - val_recall: 0.0981\n",
      "Epoch 66/100\n",
      "539/539 [==============================] - 1s 1ms/step - loss: 0.4266 - recall: 0.0994 - val_loss: 0.4326 - val_recall: 0.0956\n",
      "Epoch 67/100\n",
      "539/539 [==============================] - 1s 1ms/step - loss: 0.4189 - recall: 0.1050 - val_loss: 0.4326 - val_recall: 0.0962\n",
      "Epoch 68/100\n",
      "539/539 [==============================] - 1s 1ms/step - loss: 0.4208 - recall: 0.1014 - val_loss: 0.4396 - val_recall: 0.0925\n",
      "Epoch 69/100\n",
      "539/539 [==============================] - 1s 1ms/step - loss: 0.4230 - recall: 0.1024 - val_loss: 0.4362 - val_recall: 0.0938\n",
      "Epoch 70/100\n",
      "539/539 [==============================] - 1s 2ms/step - loss: 0.4154 - recall: 0.1123 - val_loss: 0.4325 - val_recall: 0.0988\n",
      "Epoch 71/100\n",
      "539/539 [==============================] - 1s 2ms/step - loss: 0.4237 - recall: 0.1085 - val_loss: 0.4347 - val_recall: 0.1112\n",
      "Epoch 72/100\n",
      "539/539 [==============================] - 1s 1ms/step - loss: 0.4243 - recall: 0.1095 - val_loss: 0.4311 - val_recall: 0.1056\n",
      "Epoch 73/100\n",
      "539/539 [==============================] - 1s 1ms/step - loss: 0.4209 - recall: 0.1055 - val_loss: 0.4305 - val_recall: 0.1044\n",
      "Epoch 74/100\n",
      "539/539 [==============================] - 1s 1ms/step - loss: 0.4170 - recall: 0.1145 - val_loss: 0.4314 - val_recall: 0.1119\n",
      "Epoch 75/100\n",
      "539/539 [==============================] - 1s 1ms/step - loss: 0.4181 - recall: 0.1107 - val_loss: 0.4316 - val_recall: 0.1013\n",
      "Epoch 76/100\n",
      "539/539 [==============================] - 1s 1ms/step - loss: 0.4205 - recall: 0.1192 - val_loss: 0.4289 - val_recall: 0.1056\n",
      "Epoch 77/100\n",
      "539/539 [==============================] - 1s 1ms/step - loss: 0.4184 - recall: 0.1176 - val_loss: 0.4289 - val_recall: 0.1169\n",
      "Epoch 78/100\n",
      "539/539 [==============================] - 1s 2ms/step - loss: 0.4172 - recall: 0.1097 - val_loss: 0.4282 - val_recall: 0.1112\n",
      "Epoch 79/100\n",
      "539/539 [==============================] - 1s 1ms/step - loss: 0.4147 - recall: 0.1226 - val_loss: 0.4293 - val_recall: 0.1206\n",
      "Epoch 80/100\n",
      "539/539 [==============================] - 1s 1ms/step - loss: 0.4159 - recall: 0.1173 - val_loss: 0.4263 - val_recall: 0.1156\n",
      "Epoch 81/100\n",
      "539/539 [==============================] - 1s 1ms/step - loss: 0.4123 - recall: 0.1241 - val_loss: 0.4282 - val_recall: 0.1187\n",
      "Epoch 82/100\n",
      "539/539 [==============================] - 1s 1ms/step - loss: 0.4132 - recall: 0.1270 - val_loss: 0.4418 - val_recall: 0.1631\n",
      "Epoch 83/100\n",
      "539/539 [==============================] - 1s 1ms/step - loss: 0.4143 - recall: 0.1243 - val_loss: 0.4313 - val_recall: 0.1300\n",
      "Epoch 84/100\n",
      "539/539 [==============================] - 1s 1ms/step - loss: 0.4154 - recall: 0.1211 - val_loss: 0.4250 - val_recall: 0.1181\n",
      "Epoch 85/100\n",
      "539/539 [==============================] - 1s 1ms/step - loss: 0.4130 - recall: 0.1222 - val_loss: 0.4260 - val_recall: 0.1275\n",
      "Epoch 86/100\n",
      "539/539 [==============================] - 1s 1ms/step - loss: 0.4173 - recall: 0.1248 - val_loss: 0.4266 - val_recall: 0.1144\n",
      "Epoch 87/100\n",
      "539/539 [==============================] - 1s 1ms/step - loss: 0.4101 - recall: 0.1303 - val_loss: 0.4302 - val_recall: 0.1119\n",
      "Epoch 88/100\n",
      "539/539 [==============================] - 1s 1ms/step - loss: 0.4109 - recall: 0.1353 - val_loss: 0.4264 - val_recall: 0.1169\n",
      "Epoch 89/100\n",
      "539/539 [==============================] - 1s 1ms/step - loss: 0.4116 - recall: 0.1327 - val_loss: 0.4251 - val_recall: 0.1219\n",
      "Epoch 90/100\n",
      "539/539 [==============================] - 1s 2ms/step - loss: 0.4118 - recall: 0.1332 - val_loss: 0.4331 - val_recall: 0.1444\n",
      "Epoch 91/100\n",
      "539/539 [==============================] - 1s 2ms/step - loss: 0.4059 - recall: 0.1339 - val_loss: 0.4310 - val_recall: 0.1431\n",
      "Epoch 92/100\n",
      "539/539 [==============================] - 1s 2ms/step - loss: 0.4112 - recall: 0.1407 - val_loss: 0.4240 - val_recall: 0.1194\n",
      "Epoch 93/100\n",
      "539/539 [==============================] - 1s 1ms/step - loss: 0.4117 - recall: 0.1369 - val_loss: 0.4245 - val_recall: 0.1331\n",
      "Epoch 94/100\n",
      "539/539 [==============================] - 1s 2ms/step - loss: 0.4125 - recall: 0.1381 - val_loss: 0.4289 - val_recall: 0.1181\n",
      "Epoch 95/100\n",
      "539/539 [==============================] - 1s 2ms/step - loss: 0.4120 - recall: 0.1335 - val_loss: 0.4212 - val_recall: 0.1312\n",
      "Epoch 96/100\n",
      "539/539 [==============================] - 1s 1ms/step - loss: 0.4151 - recall: 0.1365 - val_loss: 0.4231 - val_recall: 0.1269\n",
      "Epoch 97/100\n",
      "539/539 [==============================] - 1s 1ms/step - loss: 0.4126 - recall: 0.1370 - val_loss: 0.4239 - val_recall: 0.1238\n",
      "Epoch 98/100\n",
      "539/539 [==============================] - 1s 2ms/step - loss: 0.4118 - recall: 0.1376 - val_loss: 0.4277 - val_recall: 0.1625\n",
      "Epoch 99/100\n",
      "539/539 [==============================] - 1s 1ms/step - loss: 0.4134 - recall: 0.1335 - val_loss: 0.4204 - val_recall: 0.1294\n",
      "Epoch 100/100\n",
      "539/539 [==============================] - 1s 1ms/step - loss: 0.4078 - recall: 0.1443 - val_loss: 0.4210 - val_recall: 0.1300\n"
     ]
    }
   ],
   "source": [
    "model1_history = mlp_model1.fit(X_train_proc_arr, y_train, epochs=100, batch_size=64, validation_split=0.2)"
   ]
  },
  {
   "cell_type": "markdown",
   "metadata": {},
   "source": [
    "##### Plot"
   ]
  },
  {
   "cell_type": "code",
   "execution_count": 51,
   "metadata": {},
   "outputs": [
    {
     "name": "stdout",
     "output_type": "stream",
     "text": [
      "dict_keys(['loss', 'recall', 'val_loss', 'val_recall'])\n"
     ]
    }
   ],
   "source": [
    "print(model1_history.history.keys())"
   ]
  },
  {
   "cell_type": "code",
   "execution_count": 137,
   "metadata": {},
   "outputs": [
    {
     "data": {
      "image/png": "[encoded data removed]",
      "text/plain": [
       "<Figure size 432x288 with 1 Axes>"
      ]
     },
     "metadata": {
      "needs_background": "light"
     },
     "output_type": "display_data"
    }
   ],
   "source": [
    "plt.plot(model1_history.history['recall'])\n",
    "plt.plot(model1_history.history['val_recall'])\n",
    "plt.title('Recall Plot')\n",
    "plt.ylabel('Recall')\n",
    "plt.xlabel('Epoch')\n",
    "plt.legend(['Train', 'Validation'])\n",
    "plt.show()"
   ]
  },
  {
   "cell_type": "code",
   "execution_count": 53,
   "metadata": {},
   "outputs": [
    {
     "data": {
      "image/png": "[encoded data removed]",
      "text/plain": [
       "<Figure size 432x288 with 1 Axes>"
      ]
     },
     "metadata": {
      "needs_background": "light"
     },
     "output_type": "display_data"
    }
   ],
   "source": [
    "plt.plot(model1_history.history['loss'])\n",
    "plt.plot(model1_history.history['val_loss'])\n",
    "plt.title('Loss Function Plot')\n",
    "plt.ylabel('Loss')\n",
    "plt.xlabel('Epoch')\n",
    "plt.legend(['Train', 'Validation'])\n",
    "plt.show()"
   ]
  },
  {
   "cell_type": "markdown",
   "metadata": {},
   "source": [
    "#### Predictions"
   ]
  },
  {
   "cell_type": "code",
   "execution_count": 138,
   "metadata": {},
   "outputs": [
    {
     "name": "stderr",
     "output_type": "stream",
     "text": [
      "/home/sujitd/.local/lib/python3.7/site-packages/tensorflow/python/keras/engine/sequential.py:450: UserWarning: `model.predict_classes()` is deprecated and will be removed after 2021-01-01. Please use instead:* `np.argmax(model.predict(x), axis=-1)`,   if your model does multi-class classification   (e.g. if it uses a `softmax` last-layer activation).* `(model.predict(x) > 0.5).astype(\"int32\")`,   if your model does binary classification   (e.g. if it uses a `sigmoid` last-layer activation).\n",
      "  warnings.warn('`model.predict_classes()` is deprecated and '\n"
     ]
    }
   ],
   "source": [
    "train_model1_pred = mlp_model1.predict_classes(X_train_proc_arr)\n",
    "val_model1_pred = mlp_model1.predict_classes(X_val_proc_arr)"
   ]
  },
  {
   "cell_type": "code",
   "execution_count": 139,
   "metadata": {},
   "outputs": [
    {
     "data": {
      "text/plain": [
       "array([[0],\n",
       "       [0],\n",
       "       [0],\n",
       "       ...,\n",
       "       [1],\n",
       "       [0],\n",
       "       [0]], dtype=int32)"
      ]
     },
     "execution_count": 139,
     "metadata": {},
     "output_type": "execute_result"
    }
   ],
   "source": [
    "train_model1_pred"
   ]
  },
  {
   "cell_type": "code",
   "execution_count": 144,
   "metadata": {},
   "outputs": [],
   "source": [
    "train_model1_pred = mlp_model1.predict(X_train_proc_arr)\n",
    "val_model1_pred = mlp_model1.predict(X_val_proc_arr)"
   ]
  },
  {
   "cell_type": "code",
   "execution_count": 148,
   "metadata": {},
   "outputs": [],
   "source": [
    "train_model1_pred = [0 if x < 0.25 else 1 for x in train_model1_pred ]  #ROC curve AUC\n",
    "val_model1_pred = [0 if x < 0.25 else 1 for x in val_model1_pred]"
   ]
  },
  {
   "cell_type": "markdown",
   "metadata": {},
   "source": [
    "#### Getting evaluation metrics and evaluating model performance"
   ]
  },
  {
   "cell_type": "code",
   "execution_count": 149,
   "metadata": {},
   "outputs": [
    {
     "name": "stdout",
     "output_type": "stream",
     "text": [
      "[[30251  4956]\n",
      " [ 3912  3993]]\n",
      "[[12976  2113]\n",
      " [ 1695  1693]]\n"
     ]
    }
   ],
   "source": [
    "confusion_matrix_train = confusion_matrix(y_train, train_model1_pred)\n",
    "confusion_matrix_val = confusion_matrix(y_val, val_model1_pred)\n",
    "\n",
    "print(confusion_matrix_train)\n",
    "print(confusion_matrix_val)"
   ]
  },
  {
   "cell_type": "markdown",
   "metadata": {},
   "source": [
    "#### Calculate Accuracy, True Positive Rate and True Negative Rates"
   ]
  },
  {
   "cell_type": "code",
   "execution_count": 150,
   "metadata": {},
   "outputs": [
    {
     "name": "stdout",
     "output_type": "stream",
     "text": [
      "Train Accuracy:  0.7943032102430878\n",
      "Train Recall:  0.505123339658444\n",
      "Train Precision:  0.4461951055983909\n",
      "-----------------------\n",
      "Val Accuracy:  0.7939059371110029\n",
      "Val Recall:  0.4997048406139315\n",
      "Val Precision:  0.44482396216500264\n"
     ]
    }
   ],
   "source": [
    "accuracy_score_train = accuracy_score(y_train, train_model1_pred)\n",
    "accuracy_score_val = accuracy_score(y_val, val_model1_pred)\n",
    "\n",
    "recall_score_train = recall_score(y_train, train_model1_pred)\n",
    "recall_score_val = recall_score(y_val, val_model1_pred)\n",
    "\n",
    "precision_score_train = precision_score(y_train, train_model1_pred)\n",
    "precision_score_val = precision_score(y_val, val_model1_pred)\n",
    "\n",
    "\n",
    "print(\"Train Accuracy: \",accuracy_score_train)\n",
    "print(\"Train Recall: \",recall_score_train)\n",
    "print(\"Train Precision: \",precision_score_train)\n",
    "\n",
    "print(\"-----------------------\")\n",
    "\n",
    "print(\"Val Accuracy: \",accuracy_score_val)\n",
    "print(\"Val Recall: \",recall_score_val)\n",
    "print(\"Val Precision: \",precision_score_val)"
   ]
  },
  {
   "cell_type": "markdown",
   "metadata": {},
   "source": [
    "### MLP with 2 layers\n",
    "\n",
    "    1 hidden layer with 20 neurons"
   ]
  },
  {
   "cell_type": "code",
   "execution_count": 57,
   "metadata": {},
   "outputs": [],
   "source": [
    "mlp_model2 = Sequential()\n",
    "\n",
    "mlp_model2.add(Dense(20, input_shape=(27,), activation='sigmoid', kernel_initializer='normal'))\n",
    "mlp_model2.add(Dense(1, activation='sigmoid', kernel_initializer='normal'))"
   ]
  },
  {
   "cell_type": "code",
   "execution_count": 58,
   "metadata": {},
   "outputs": [
    {
     "name": "stdout",
     "output_type": "stream",
     "text": [
      "Model: \"sequential_2\"\n",
      "_________________________________________________________________\n",
      "Layer (type)                 Output Shape              Param #   \n",
      "=================================================================\n",
      "dense_3 (Dense)              (None, 20)                560       \n",
      "_________________________________________________________________\n",
      "dense_4 (Dense)              (None, 1)                 21        \n",
      "=================================================================\n",
      "Total params: 581\n",
      "Trainable params: 581\n",
      "Non-trainable params: 0\n",
      "_________________________________________________________________\n"
     ]
    }
   ],
   "source": [
    "mlp_model2.summary()"
   ]
  },
  {
   "cell_type": "markdown",
   "metadata": {},
   "source": [
    "#### Callbacks - Early Stopping & ModelCheckpoint"
   ]
  },
  {
   "cell_type": "code",
   "execution_count": 59,
   "metadata": {},
   "outputs": [
    {
     "data": {
      "text/plain": [
       "'/home/sujitd/7221o/day02'"
      ]
     },
     "execution_count": 59,
     "metadata": {},
     "output_type": "execute_result"
    }
   ],
   "source": [
    "import os\n",
    "cwd = os.getcwd()\n",
    "cwd"
   ]
  },
  {
   "cell_type": "code",
   "execution_count": 151,
   "metadata": {},
   "outputs": [
    {
     "data": {
      "text/plain": [
       "'/home/sujitd/7221o/day02/mlp_backorders.h5'"
      ]
     },
     "execution_count": 151,
     "metadata": {},
     "output_type": "execute_result"
    }
   ],
   "source": [
    "os.path.join(cwd, 'mlp_backorders.h5')"
   ]
  },
  {
   "cell_type": "code",
   "execution_count": 152,
   "metadata": {},
   "outputs": [],
   "source": [
    "early_stopping = EarlyStopping(monitor='val_loss', patience=5, mode='min', verbose=1, min_delta=0.001)\n",
    "    \n",
    "model_checkpoint = ModelCheckpoint(\n",
    "        os.path.join(cwd, 'mlp_backorders.h5'),\n",
    "        save_weights_only=True,\n",
    "        save_best_only=True,\n",
    "        verbose=1)"
   ]
  },
  {
   "cell_type": "code",
   "execution_count": 153,
   "metadata": {},
   "outputs": [],
   "source": [
    "callbacks = [early_stopping, model_checkpoint]"
   ]
  },
  {
   "cell_type": "code",
   "execution_count": 154,
   "metadata": {},
   "outputs": [],
   "source": [
    "mlp_model2.compile(loss='binary_crossentropy', optimizer='sgd', metrics=tf.keras.metrics.Recall(name='recall'))"
   ]
  },
  {
   "cell_type": "code",
   "execution_count": 155,
   "metadata": {},
   "outputs": [
    {
     "name": "stdout",
     "output_type": "stream",
     "text": [
      "Epoch 1/100\n",
      "539/539 [==============================] - 1s 1ms/step - loss: 0.4599 - recall: 0.0043 - val_loss: 0.4677 - val_recall: 0.0025\n",
      "\n",
      "Epoch 00001: val_loss improved from inf to 0.46774, saving model to /home/sujitd/7221o/day02/mlp_backorders.h5\n",
      "Epoch 2/100\n",
      "539/539 [==============================] - 1s 1ms/step - loss: 0.4641 - recall: 0.0036 - val_loss: 0.4675 - val_recall: 0.0025\n",
      "\n",
      "Epoch 00002: val_loss improved from 0.46774 to 0.46754, saving model to /home/sujitd/7221o/day02/mlp_backorders.h5\n",
      "Epoch 3/100\n",
      "539/539 [==============================] - 1s 1ms/step - loss: 0.4616 - recall: 0.0049 - val_loss: 0.4675 - val_recall: 0.0025\n",
      "\n",
      "Epoch 00003: val_loss improved from 0.46754 to 0.46748, saving model to /home/sujitd/7221o/day02/mlp_backorders.h5\n",
      "Epoch 4/100\n",
      "539/539 [==============================] - 1s 1ms/step - loss: 0.4592 - recall: 0.0046 - val_loss: 0.4672 - val_recall: 0.0031\n",
      "\n",
      "Epoch 00004: val_loss improved from 0.46748 to 0.46716, saving model to /home/sujitd/7221o/day02/mlp_backorders.h5\n",
      "Epoch 5/100\n",
      "539/539 [==============================] - 1s 1ms/step - loss: 0.4623 - recall: 0.0023 - val_loss: 0.4670 - val_recall: 0.0031\n",
      "\n",
      "Epoch 00005: val_loss improved from 0.46716 to 0.46697, saving model to /home/sujitd/7221o/day02/mlp_backorders.h5\n",
      "Epoch 6/100\n",
      "539/539 [==============================] - 1s 1ms/step - loss: 0.4624 - recall: 0.0051 - val_loss: 0.4668 - val_recall: 0.0031\n",
      "\n",
      "Epoch 00006: val_loss improved from 0.46697 to 0.46675, saving model to /home/sujitd/7221o/day02/mlp_backorders.h5\n",
      "Epoch 00006: early stopping\n"
     ]
    }
   ],
   "source": [
    "model2_history = mlp_model2.fit(X_train_proc_arr, y_train, epochs=100, batch_size=64, validation_split=0.2, callbacks=callbacks)"
   ]
  },
  {
   "cell_type": "markdown",
   "metadata": {},
   "source": [
    "##### Plot"
   ]
  },
  {
   "cell_type": "code",
   "execution_count": 64,
   "metadata": {},
   "outputs": [
    {
     "name": "stdout",
     "output_type": "stream",
     "text": [
      "dict_keys(['loss', 'recall', 'val_loss', 'val_recall'])\n"
     ]
    }
   ],
   "source": [
    "print(model2_history.history.keys())"
   ]
  },
  {
   "cell_type": "code",
   "execution_count": 136,
   "metadata": {},
   "outputs": [
    {
     "data": {
      "image/png": "[encoded data removed]",
      "text/plain": [
       "<Figure size 432x288 with 1 Axes>"
      ]
     },
     "metadata": {
      "needs_background": "light"
     },
     "output_type": "display_data"
    }
   ],
   "source": [
    "plt.plot(model2_history.history['recall'])\n",
    "plt.plot(model2_history.history['val_recall'])\n",
    "plt.title('Recall Plot')\n",
    "plt.ylabel('Recall')\n",
    "plt.xlabel('Epoch')\n",
    "plt.legend(['Train', 'Validation'])\n",
    "plt.show()"
   ]
  },
  {
   "cell_type": "code",
   "execution_count": 66,
   "metadata": {},
   "outputs": [
    {
     "data": {
      "image/png": "[encoded data removed]",
      "text/plain": [
       "<Figure size 432x288 with 1 Axes>"
      ]
     },
     "metadata": {
      "needs_background": "light"
     },
     "output_type": "display_data"
    }
   ],
   "source": [
    "plt.plot(model2_history.history['loss'])\n",
    "plt.plot(model2_history.history['val_loss'])\n",
    "plt.title('Loss Function Plot')\n",
    "plt.ylabel('Loss')\n",
    "plt.xlabel('Epoch')\n",
    "plt.legend(['Train', 'Validation'])\n",
    "plt.show()"
   ]
  },
  {
   "cell_type": "markdown",
   "metadata": {},
   "source": [
    "#### Predictions"
   ]
  },
  {
   "cell_type": "code",
   "execution_count": 67,
   "metadata": {},
   "outputs": [
    {
     "name": "stderr",
     "output_type": "stream",
     "text": [
      "/home/sujitd/.local/lib/python3.7/site-packages/tensorflow/python/keras/engine/sequential.py:450: UserWarning: `model.predict_classes()` is deprecated and will be removed after 2021-01-01. Please use instead:* `np.argmax(model.predict(x), axis=-1)`,   if your model does multi-class classification   (e.g. if it uses a `softmax` last-layer activation).* `(model.predict(x) > 0.5).astype(\"int32\")`,   if your model does binary classification   (e.g. if it uses a `sigmoid` last-layer activation).\n",
      "  warnings.warn('`model.predict_classes()` is deprecated and '\n"
     ]
    }
   ],
   "source": [
    "train_model2_pred = mlp_model2.predict_classes(X_train_proc_arr)\n",
    "val_model2_pred = mlp_model2.predict_classes(X_val_proc_arr)"
   ]
  },
  {
   "cell_type": "markdown",
   "metadata": {},
   "source": [
    "#### Getting evaluation metrics and evaluating model performance"
   ]
  },
  {
   "cell_type": "code",
   "execution_count": 68,
   "metadata": {},
   "outputs": [
    {
     "name": "stdout",
     "output_type": "stream",
     "text": [
      "[[35191    16]\n",
      " [ 7879    26]]\n",
      "[[15067    22]\n",
      " [ 3374    14]]\n"
     ]
    }
   ],
   "source": [
    "confusion_matrix_train = confusion_matrix(y_train, train_model2_pred)\n",
    "confusion_matrix_val = confusion_matrix(y_val, val_model2_pred)\n",
    "\n",
    "print(confusion_matrix_train)\n",
    "print(confusion_matrix_val)"
   ]
  },
  {
   "cell_type": "markdown",
   "metadata": {},
   "source": [
    "#### Calculate Accuracy, True Positive Rate and True Negative Rates"
   ]
  },
  {
   "cell_type": "code",
   "execution_count": 69,
   "metadata": {},
   "outputs": [
    {
     "name": "stdout",
     "output_type": "stream",
     "text": [
      "Train Accuracy:  0.8168723325292262\n",
      "Train Recall:  0.003289057558507274\n",
      "Train Precision:  0.6190476190476191\n",
      "-----------------------\n",
      "Val Accuracy:  0.8162039292092872\n",
      "Val Recall:  0.004132231404958678\n",
      "Val Precision:  0.3888888888888889\n"
     ]
    }
   ],
   "source": [
    "accuracy_score_train = accuracy_score(y_train, train_model2_pred)\n",
    "accuracy_score_val = accuracy_score(y_val, val_model2_pred)\n",
    "\n",
    "recall_score_train = recall_score(y_train, train_model2_pred)\n",
    "recall_score_val = recall_score(y_val, val_model2_pred)\n",
    "\n",
    "precision_score_train = precision_score(y_train, train_model2_pred)\n",
    "precision_score_val = precision_score(y_val, val_model2_pred)\n",
    "\n",
    "\n",
    "print(\"Train Accuracy: \",accuracy_score_train)\n",
    "print(\"Train Recall: \",recall_score_train)\n",
    "print(\"Train Precision: \",precision_score_train)\n",
    "\n",
    "print(\"-----------------------\")\n",
    "\n",
    "print(\"Val Accuracy: \",accuracy_score_val)\n",
    "print(\"Val Recall: \",recall_score_val)\n",
    "print(\"Val Precision: \",precision_score_val)"
   ]
  },
  {
   "cell_type": "markdown",
   "metadata": {},
   "source": [
    "### MLP with 2 layers\n",
    "\n",
    "    1 hidden layer with 25 neurons. activation function - relu "
   ]
  },
  {
   "cell_type": "code",
   "execution_count": 70,
   "metadata": {},
   "outputs": [],
   "source": [
    "mlp_model3 = Sequential()\n",
    "\n",
    "mlp_model3.add(Dense(25, input_shape=(27,), activation='relu', kernel_initializer='normal'))\n",
    "mlp_model3.add(Dense(1, activation='sigmoid', kernel_initializer='normal'))"
   ]
  },
  {
   "cell_type": "code",
   "execution_count": 71,
   "metadata": {},
   "outputs": [
    {
     "name": "stdout",
     "output_type": "stream",
     "text": [
      "Model: \"sequential_3\"\n",
      "_________________________________________________________________\n",
      "Layer (type)                 Output Shape              Param #   \n",
      "=================================================================\n",
      "dense_5 (Dense)              (None, 25)                700       \n",
      "_________________________________________________________________\n",
      "dense_6 (Dense)              (None, 1)                 26        \n",
      "=================================================================\n",
      "Total params: 726\n",
      "Trainable params: 726\n",
      "Non-trainable params: 0\n",
      "_________________________________________________________________\n"
     ]
    }
   ],
   "source": [
    "mlp_model3.summary()"
   ]
  },
  {
   "cell_type": "code",
   "execution_count": 72,
   "metadata": {},
   "outputs": [],
   "source": [
    "mlp_model3.compile(loss='binary_crossentropy', optimizer='sgd', metrics=tf.keras.metrics.Recall(name='recall'))"
   ]
  },
  {
   "cell_type": "code",
   "execution_count": 73,
   "metadata": {},
   "outputs": [
    {
     "name": "stdout",
     "output_type": "stream",
     "text": [
      "Epoch 1/100\n",
      "539/539 [==============================] - 1s 2ms/step - loss: 0.5871 - recall: 0.0060 - val_loss: 0.4762 - val_recall: 0.0000e+00\n",
      "\n",
      "Epoch 00001: val_loss did not improve from 0.46803\n",
      "Epoch 2/100\n",
      "539/539 [==============================] - 1s 1ms/step - loss: 0.4724 - recall: 0.0000e+00 - val_loss: 0.4729 - val_recall: 0.0000e+00\n",
      "\n",
      "Epoch 00002: val_loss did not improve from 0.46803\n",
      "Epoch 3/100\n",
      "539/539 [==============================] - 1s 2ms/step - loss: 0.4673 - recall: 0.0000e+00 - val_loss: 0.4711 - val_recall: 0.0000e+00\n",
      "\n",
      "Epoch 00003: val_loss did not improve from 0.46803\n",
      "Epoch 4/100\n",
      "539/539 [==============================] - 1s 1ms/step - loss: 0.4630 - recall: 0.0000e+00 - val_loss: 0.4695 - val_recall: 6.2500e-04\n",
      "\n",
      "Epoch 00004: val_loss did not improve from 0.46803\n",
      "Epoch 5/100\n",
      "539/539 [==============================] - 1s 2ms/step - loss: 0.4648 - recall: 3.0247e-04 - val_loss: 0.4682 - val_recall: 0.0012\n",
      "\n",
      "Epoch 00005: val_loss did not improve from 0.46803\n",
      "Epoch 6/100\n",
      "539/539 [==============================] - 1s 1ms/step - loss: 0.4637 - recall: 0.0015 - val_loss: 0.4672 - val_recall: 0.0019\n",
      "\n",
      "Epoch 00006: val_loss improved from 0.46803 to 0.46717, saving model to /home/sujitd/7221o/day02/mlp_backorders.h5\n",
      "Epoch 7/100\n",
      "539/539 [==============================] - 1s 1ms/step - loss: 0.4597 - recall: 0.0032 - val_loss: 0.4663 - val_recall: 0.0025\n",
      "\n",
      "Epoch 00007: val_loss improved from 0.46717 to 0.46632, saving model to /home/sujitd/7221o/day02/mlp_backorders.h5\n",
      "Epoch 8/100\n",
      "539/539 [==============================] - 1s 1ms/step - loss: 0.4580 - recall: 0.0017 - val_loss: 0.4654 - val_recall: 0.0025\n",
      "\n",
      "Epoch 00008: val_loss improved from 0.46632 to 0.46544, saving model to /home/sujitd/7221o/day02/mlp_backorders.h5\n",
      "Epoch 9/100\n",
      "539/539 [==============================] - 1s 1ms/step - loss: 0.4608 - recall: 0.0049 - val_loss: 0.4647 - val_recall: 0.0031\n",
      "\n",
      "Epoch 00009: val_loss improved from 0.46544 to 0.46472, saving model to /home/sujitd/7221o/day02/mlp_backorders.h5\n",
      "Epoch 10/100\n",
      "539/539 [==============================] - 1s 2ms/step - loss: 0.4583 - recall: 0.0025 - val_loss: 0.4640 - val_recall: 0.0037\n",
      "\n",
      "Epoch 00010: val_loss improved from 0.46472 to 0.46399, saving model to /home/sujitd/7221o/day02/mlp_backorders.h5\n",
      "Epoch 11/100\n",
      "539/539 [==============================] - 1s 1ms/step - loss: 0.4600 - recall: 0.0036 - val_loss: 0.4634 - val_recall: 0.0044\n",
      "\n",
      "Epoch 00011: val_loss improved from 0.46399 to 0.46342, saving model to /home/sujitd/7221o/day02/mlp_backorders.h5\n",
      "Epoch 12/100\n",
      "539/539 [==============================] - 1s 1ms/step - loss: 0.4572 - recall: 0.0056 - val_loss: 0.4629 - val_recall: 0.0056\n",
      "\n",
      "Epoch 00012: val_loss improved from 0.46342 to 0.46294, saving model to /home/sujitd/7221o/day02/mlp_backorders.h5\n",
      "Epoch 13/100\n",
      "539/539 [==============================] - 1s 1ms/step - loss: 0.4598 - recall: 0.0039 - val_loss: 0.4625 - val_recall: 0.0056\n",
      "\n",
      "Epoch 00013: val_loss improved from 0.46294 to 0.46252, saving model to /home/sujitd/7221o/day02/mlp_backorders.h5\n",
      "Epoch 14/100\n",
      "539/539 [==============================] - 1s 1ms/step - loss: 0.4567 - recall: 0.0039 - val_loss: 0.4619 - val_recall: 0.0056\n",
      "\n",
      "Epoch 00014: val_loss improved from 0.46252 to 0.46195, saving model to /home/sujitd/7221o/day02/mlp_backorders.h5\n",
      "Epoch 15/100\n",
      "539/539 [==============================] - 1s 1ms/step - loss: 0.4556 - recall: 0.0072 - val_loss: 0.4615 - val_recall: 0.0063\n",
      "\n",
      "Epoch 00015: val_loss improved from 0.46195 to 0.46147, saving model to /home/sujitd/7221o/day02/mlp_backorders.h5\n",
      "Epoch 16/100\n",
      "539/539 [==============================] - 1s 1ms/step - loss: 0.4525 - recall: 0.0094 - val_loss: 0.4611 - val_recall: 0.0069\n",
      "\n",
      "Epoch 00016: val_loss improved from 0.46147 to 0.46108, saving model to /home/sujitd/7221o/day02/mlp_backorders.h5\n",
      "Epoch 17/100\n",
      "539/539 [==============================] - 1s 1ms/step - loss: 0.4547 - recall: 0.0080 - val_loss: 0.4607 - val_recall: 0.0075\n",
      "\n",
      "Epoch 00017: val_loss improved from 0.46108 to 0.46075, saving model to /home/sujitd/7221o/day02/mlp_backorders.h5\n",
      "Epoch 18/100\n",
      "539/539 [==============================] - 1s 1ms/step - loss: 0.4555 - recall: 0.0086 - val_loss: 0.4603 - val_recall: 0.0088\n",
      "\n",
      "Epoch 00018: val_loss improved from 0.46075 to 0.46032, saving model to /home/sujitd/7221o/day02/mlp_backorders.h5\n",
      "Epoch 19/100\n",
      "539/539 [==============================] - 1s 1ms/step - loss: 0.4556 - recall: 0.0090 - val_loss: 0.4600 - val_recall: 0.0088\n",
      "\n",
      "Epoch 00019: val_loss improved from 0.46032 to 0.45998, saving model to /home/sujitd/7221o/day02/mlp_backorders.h5\n",
      "Epoch 20/100\n",
      "539/539 [==============================] - 1s 1ms/step - loss: 0.4573 - recall: 0.0082 - val_loss: 0.4595 - val_recall: 0.0088\n",
      "\n",
      "Epoch 00020: val_loss improved from 0.45998 to 0.45955, saving model to /home/sujitd/7221o/day02/mlp_backorders.h5\n",
      "Epoch 21/100\n",
      "539/539 [==============================] - 1s 1ms/step - loss: 0.4552 - recall: 0.0096 - val_loss: 0.4594 - val_recall: 0.0088\n",
      "\n",
      "Epoch 00021: val_loss improved from 0.45955 to 0.45944, saving model to /home/sujitd/7221o/day02/mlp_backorders.h5\n",
      "Epoch 22/100\n",
      "539/539 [==============================] - 1s 1ms/step - loss: 0.4499 - recall: 0.0109 - val_loss: 0.4587 - val_recall: 0.0100\n",
      "\n",
      "Epoch 00022: val_loss improved from 0.45944 to 0.45873, saving model to /home/sujitd/7221o/day02/mlp_backorders.h5\n",
      "Epoch 23/100\n",
      "539/539 [==============================] - 1s 1ms/step - loss: 0.4509 - recall: 0.0126 - val_loss: 0.4584 - val_recall: 0.0106\n",
      "\n",
      "Epoch 00023: val_loss improved from 0.45873 to 0.45843, saving model to /home/sujitd/7221o/day02/mlp_backorders.h5\n",
      "Epoch 24/100\n",
      "539/539 [==============================] - 1s 1ms/step - loss: 0.4538 - recall: 0.0136 - val_loss: 0.4581 - val_recall: 0.0106\n",
      "\n",
      "Epoch 00024: val_loss improved from 0.45843 to 0.45811, saving model to /home/sujitd/7221o/day02/mlp_backorders.h5\n",
      "Epoch 25/100\n",
      "539/539 [==============================] - 1s 1ms/step - loss: 0.4514 - recall: 0.0133 - val_loss: 0.4576 - val_recall: 0.0113\n",
      "\n",
      "Epoch 00025: val_loss improved from 0.45811 to 0.45759, saving model to /home/sujitd/7221o/day02/mlp_backorders.h5\n",
      "Epoch 26/100\n",
      "539/539 [==============================] - 1s 1ms/step - loss: 0.4484 - recall: 0.0164 - val_loss: 0.4573 - val_recall: 0.0113\n",
      "\n",
      "Epoch 00026: val_loss improved from 0.45759 to 0.45726, saving model to /home/sujitd/7221o/day02/mlp_backorders.h5\n",
      "Epoch 27/100\n",
      "539/539 [==============================] - 1s 1ms/step - loss: 0.4541 - recall: 0.0149 - val_loss: 0.4568 - val_recall: 0.0144\n",
      "\n",
      "Epoch 00027: val_loss improved from 0.45726 to 0.45676, saving model to /home/sujitd/7221o/day02/mlp_backorders.h5\n",
      "Epoch 28/100\n",
      "539/539 [==============================] - 1s 1ms/step - loss: 0.4513 - recall: 0.0174 - val_loss: 0.4568 - val_recall: 0.0144\n",
      "\n",
      "Epoch 00028: val_loss improved from 0.45676 to 0.45675, saving model to /home/sujitd/7221o/day02/mlp_backorders.h5\n",
      "Epoch 29/100\n",
      "539/539 [==============================] - 1s 1ms/step - loss: 0.4506 - recall: 0.0180 - val_loss: 0.4561 - val_recall: 0.0162\n",
      "\n",
      "Epoch 00029: val_loss improved from 0.45675 to 0.45613, saving model to /home/sujitd/7221o/day02/mlp_backorders.h5\n",
      "Epoch 30/100\n",
      "539/539 [==============================] - 1s 1ms/step - loss: 0.4471 - recall: 0.0213 - val_loss: 0.4557 - val_recall: 0.0169\n",
      "\n",
      "Epoch 00030: val_loss improved from 0.45613 to 0.45566, saving model to /home/sujitd/7221o/day02/mlp_backorders.h5\n",
      "Epoch 31/100\n",
      "539/539 [==============================] - 1s 1ms/step - loss: 0.4543 - recall: 0.0209 - val_loss: 0.4558 - val_recall: 0.0169\n",
      "\n",
      "Epoch 00031: val_loss did not improve from 0.45566\n",
      "Epoch 32/100\n",
      "539/539 [==============================] - 1s 1ms/step - loss: 0.4518 - recall: 0.0239 - val_loss: 0.4548 - val_recall: 0.0206\n",
      "\n",
      "Epoch 00032: val_loss improved from 0.45566 to 0.45484, saving model to /home/sujitd/7221o/day02/mlp_backorders.h5\n",
      "Epoch 33/100\n",
      "539/539 [==============================] - 1s 2ms/step - loss: 0.4488 - recall: 0.0238 - val_loss: 0.4545 - val_recall: 0.0225\n",
      "\n",
      "Epoch 00033: val_loss improved from 0.45484 to 0.45449, saving model to /home/sujitd/7221o/day02/mlp_backorders.h5\n",
      "Epoch 34/100\n",
      "539/539 [==============================] - 1s 2ms/step - loss: 0.4472 - recall: 0.0296 - val_loss: 0.4544 - val_recall: 0.0231\n",
      "\n",
      "Epoch 00034: val_loss improved from 0.45449 to 0.45439, saving model to /home/sujitd/7221o/day02/mlp_backorders.h5\n",
      "Epoch 35/100\n",
      "539/539 [==============================] - 1s 2ms/step - loss: 0.4505 - recall: 0.0292 - val_loss: 0.4539 - val_recall: 0.0262\n",
      "\n",
      "Epoch 00035: val_loss improved from 0.45439 to 0.45386, saving model to /home/sujitd/7221o/day02/mlp_backorders.h5\n",
      "Epoch 36/100\n",
      "539/539 [==============================] - 1s 1ms/step - loss: 0.4410 - recall: 0.0300 - val_loss: 0.4533 - val_recall: 0.0275\n",
      "\n",
      "Epoch 00036: val_loss improved from 0.45386 to 0.45334, saving model to /home/sujitd/7221o/day02/mlp_backorders.h5\n",
      "Epoch 37/100\n",
      "539/539 [==============================] - 1s 1ms/step - loss: 0.4422 - recall: 0.0336 - val_loss: 0.4531 - val_recall: 0.0275\n",
      "\n",
      "Epoch 00037: val_loss improved from 0.45334 to 0.45312, saving model to /home/sujitd/7221o/day02/mlp_backorders.h5\n",
      "Epoch 38/100\n",
      "539/539 [==============================] - 1s 1ms/step - loss: 0.4426 - recall: 0.0324 - val_loss: 0.4527 - val_recall: 0.0319\n",
      "\n",
      "Epoch 00038: val_loss improved from 0.45312 to 0.45265, saving model to /home/sujitd/7221o/day02/mlp_backorders.h5\n",
      "Epoch 39/100\n",
      "539/539 [==============================] - 1s 1ms/step - loss: 0.4489 - recall: 0.0340 - val_loss: 0.4523 - val_recall: 0.0338\n",
      "\n",
      "Epoch 00039: val_loss improved from 0.45265 to 0.45226, saving model to /home/sujitd/7221o/day02/mlp_backorders.h5\n",
      "Epoch 40/100\n",
      "539/539 [==============================] - 1s 1ms/step - loss: 0.4487 - recall: 0.0379 - val_loss: 0.4519 - val_recall: 0.0356\n",
      "\n",
      "Epoch 00040: val_loss improved from 0.45226 to 0.45195, saving model to /home/sujitd/7221o/day02/mlp_backorders.h5\n",
      "Epoch 41/100\n",
      "539/539 [==============================] - 1s 1ms/step - loss: 0.4450 - recall: 0.0393 - val_loss: 0.4515 - val_recall: 0.0369\n",
      "\n",
      "Epoch 00041: val_loss improved from 0.45195 to 0.45150, saving model to /home/sujitd/7221o/day02/mlp_backorders.h5\n",
      "Epoch 42/100\n",
      "539/539 [==============================] - 1s 1ms/step - loss: 0.4461 - recall: 0.0459 - val_loss: 0.4513 - val_recall: 0.0400\n",
      "\n",
      "Epoch 00042: val_loss improved from 0.45150 to 0.45125, saving model to /home/sujitd/7221o/day02/mlp_backorders.h5\n",
      "Epoch 43/100\n",
      "539/539 [==============================] - 1s 2ms/step - loss: 0.4390 - recall: 0.0419 - val_loss: 0.4510 - val_recall: 0.0406\n",
      "\n",
      "Epoch 00043: val_loss improved from 0.45125 to 0.45096, saving model to /home/sujitd/7221o/day02/mlp_backorders.h5\n",
      "Epoch 44/100\n",
      "539/539 [==============================] - 1s 1ms/step - loss: 0.4480 - recall: 0.0455 - val_loss: 0.4505 - val_recall: 0.0419\n",
      "\n",
      "Epoch 00044: val_loss improved from 0.45096 to 0.45054, saving model to /home/sujitd/7221o/day02/mlp_backorders.h5\n",
      "Epoch 45/100\n",
      "539/539 [==============================] - 1s 1ms/step - loss: 0.4454 - recall: 0.0487 - val_loss: 0.4501 - val_recall: 0.0431\n",
      "\n",
      "Epoch 00045: val_loss improved from 0.45054 to 0.45014, saving model to /home/sujitd/7221o/day02/mlp_backorders.h5\n",
      "Epoch 46/100\n",
      "539/539 [==============================] - 1s 1ms/step - loss: 0.4435 - recall: 0.0504 - val_loss: 0.4505 - val_recall: 0.0419\n",
      "\n",
      "Epoch 00046: val_loss did not improve from 0.45014\n",
      "Epoch 47/100\n",
      "539/539 [==============================] - 1s 1ms/step - loss: 0.4447 - recall: 0.0519 - val_loss: 0.4499 - val_recall: 0.0431\n",
      "\n",
      "Epoch 00047: val_loss improved from 0.45014 to 0.44993, saving model to /home/sujitd/7221o/day02/mlp_backorders.h5\n",
      "Epoch 48/100\n",
      "539/539 [==============================] - 1s 2ms/step - loss: 0.4439 - recall: 0.0537 - val_loss: 0.4494 - val_recall: 0.0444\n",
      "\n",
      "Epoch 00048: val_loss improved from 0.44993 to 0.44940, saving model to /home/sujitd/7221o/day02/mlp_backorders.h5\n",
      "Epoch 49/100\n",
      "539/539 [==============================] - 1s 1ms/step - loss: 0.4440 - recall: 0.0517 - val_loss: 0.4497 - val_recall: 0.0431\n",
      "\n",
      "Epoch 00049: val_loss did not improve from 0.44940\n",
      "Epoch 50/100\n",
      "539/539 [==============================] - 1s 1ms/step - loss: 0.4440 - recall: 0.0525 - val_loss: 0.4488 - val_recall: 0.0456\n",
      "\n",
      "Epoch 00050: val_loss improved from 0.44940 to 0.44881, saving model to /home/sujitd/7221o/day02/mlp_backorders.h5\n",
      "Epoch 51/100\n",
      "539/539 [==============================] - 1s 1ms/step - loss: 0.4406 - recall: 0.0581 - val_loss: 0.4482 - val_recall: 0.0463\n",
      "\n",
      "Epoch 00051: val_loss improved from 0.44881 to 0.44822, saving model to /home/sujitd/7221o/day02/mlp_backorders.h5\n",
      "Epoch 52/100\n",
      "539/539 [==============================] - 1s 1ms/step - loss: 0.4404 - recall: 0.0585 - val_loss: 0.4479 - val_recall: 0.0456\n",
      "\n",
      "Epoch 00052: val_loss improved from 0.44822 to 0.44790, saving model to /home/sujitd/7221o/day02/mlp_backorders.h5\n",
      "Epoch 53/100\n",
      "539/539 [==============================] - 1s 1ms/step - loss: 0.4396 - recall: 0.0580 - val_loss: 0.4479 - val_recall: 0.0456\n",
      "\n",
      "Epoch 00053: val_loss improved from 0.44790 to 0.44788, saving model to /home/sujitd/7221o/day02/mlp_backorders.h5\n",
      "Epoch 54/100\n",
      "539/539 [==============================] - 1s 1ms/step - loss: 0.4365 - recall: 0.0524 - val_loss: 0.4481 - val_recall: 0.0550\n",
      "\n",
      "Epoch 00054: val_loss did not improve from 0.44788\n",
      "Epoch 55/100\n",
      "539/539 [==============================] - 1s 1ms/step - loss: 0.4445 - recall: 0.0613 - val_loss: 0.4471 - val_recall: 0.0494\n",
      "\n",
      "Epoch 00055: val_loss improved from 0.44788 to 0.44706, saving model to /home/sujitd/7221o/day02/mlp_backorders.h5\n",
      "Epoch 56/100\n",
      "539/539 [==============================] - 1s 1ms/step - loss: 0.4380 - recall: 0.0570 - val_loss: 0.4471 - val_recall: 0.0487\n",
      "\n",
      "Epoch 00056: val_loss improved from 0.44706 to 0.44706, saving model to /home/sujitd/7221o/day02/mlp_backorders.h5\n",
      "Epoch 57/100\n",
      "539/539 [==============================] - 1s 1ms/step - loss: 0.4404 - recall: 0.0560 - val_loss: 0.4465 - val_recall: 0.0512\n",
      "\n",
      "Epoch 00057: val_loss improved from 0.44706 to 0.44649, saving model to /home/sujitd/7221o/day02/mlp_backorders.h5\n",
      "Epoch 58/100\n",
      "539/539 [==============================] - 1s 1ms/step - loss: 0.4320 - recall: 0.0595 - val_loss: 0.4463 - val_recall: 0.0544\n",
      "\n",
      "Epoch 00058: val_loss improved from 0.44649 to 0.44633, saving model to /home/sujitd/7221o/day02/mlp_backorders.h5\n",
      "Epoch 59/100\n",
      "539/539 [==============================] - 1s 1ms/step - loss: 0.4333 - recall: 0.0620 - val_loss: 0.4460 - val_recall: 0.0550\n",
      "\n",
      "Epoch 00059: val_loss improved from 0.44633 to 0.44597, saving model to /home/sujitd/7221o/day02/mlp_backorders.h5\n",
      "Epoch 60/100\n",
      "539/539 [==============================] - 1s 1ms/step - loss: 0.4413 - recall: 0.0620 - val_loss: 0.4460 - val_recall: 0.0506\n",
      "\n",
      "Epoch 00060: val_loss improved from 0.44597 to 0.44597, saving model to /home/sujitd/7221o/day02/mlp_backorders.h5\n",
      "Epoch 61/100\n",
      "539/539 [==============================] - 1s 1ms/step - loss: 0.4417 - recall: 0.0640 - val_loss: 0.4461 - val_recall: 0.0512\n",
      "\n",
      "Epoch 00061: val_loss did not improve from 0.44597\n",
      "Epoch 62/100\n",
      "539/539 [==============================] - 1s 1ms/step - loss: 0.4323 - recall: 0.0691 - val_loss: 0.4453 - val_recall: 0.0544\n",
      "\n",
      "Epoch 00062: val_loss improved from 0.44597 to 0.44530, saving model to /home/sujitd/7221o/day02/mlp_backorders.h5\n",
      "Epoch 63/100\n",
      "539/539 [==============================] - 1s 1ms/step - loss: 0.4355 - recall: 0.0684 - val_loss: 0.4450 - val_recall: 0.0550\n",
      "\n",
      "Epoch 00063: val_loss improved from 0.44530 to 0.44504, saving model to /home/sujitd/7221o/day02/mlp_backorders.h5\n",
      "Epoch 64/100\n",
      "539/539 [==============================] - 1s 1ms/step - loss: 0.4324 - recall: 0.0693 - val_loss: 0.4448 - val_recall: 0.0569\n",
      "\n",
      "Epoch 00064: val_loss improved from 0.44504 to 0.44482, saving model to /home/sujitd/7221o/day02/mlp_backorders.h5\n",
      "Epoch 65/100\n",
      "539/539 [==============================] - 1s 1ms/step - loss: 0.4350 - recall: 0.0693 - val_loss: 0.4440 - val_recall: 0.0575\n",
      "\n",
      "Epoch 00065: val_loss improved from 0.44482 to 0.44399, saving model to /home/sujitd/7221o/day02/mlp_backorders.h5\n",
      "Epoch 66/100\n",
      "539/539 [==============================] - 1s 1ms/step - loss: 0.4395 - recall: 0.0685 - val_loss: 0.4440 - val_recall: 0.0581\n",
      "\n",
      "Epoch 00066: val_loss did not improve from 0.44399\n",
      "Epoch 67/100\n",
      "539/539 [==============================] - 1s 1ms/step - loss: 0.4327 - recall: 0.0725 - val_loss: 0.4436 - val_recall: 0.0581\n",
      "\n",
      "Epoch 00067: val_loss improved from 0.44399 to 0.44355, saving model to /home/sujitd/7221o/day02/mlp_backorders.h5\n",
      "Epoch 68/100\n",
      "539/539 [==============================] - 1s 1ms/step - loss: 0.4339 - recall: 0.0666 - val_loss: 0.4436 - val_recall: 0.0575\n",
      "\n",
      "Epoch 00068: val_loss did not improve from 0.44355\n",
      "Epoch 69/100\n",
      "539/539 [==============================] - 1s 1ms/step - loss: 0.4355 - recall: 0.0675 - val_loss: 0.4429 - val_recall: 0.0594\n",
      "\n",
      "Epoch 00069: val_loss improved from 0.44355 to 0.44295, saving model to /home/sujitd/7221o/day02/mlp_backorders.h5\n",
      "Epoch 70/100\n",
      "539/539 [==============================] - 1s 1ms/step - loss: 0.4317 - recall: 0.0747 - val_loss: 0.4430 - val_recall: 0.0581\n",
      "\n",
      "Epoch 00070: val_loss did not improve from 0.44295\n",
      "Epoch 71/100\n",
      "539/539 [==============================] - 1s 1ms/step - loss: 0.4357 - recall: 0.0714 - val_loss: 0.4428 - val_recall: 0.0631\n",
      "\n",
      "Epoch 00071: val_loss improved from 0.44295 to 0.44285, saving model to /home/sujitd/7221o/day02/mlp_backorders.h5\n",
      "Epoch 72/100\n",
      "539/539 [==============================] - 1s 2ms/step - loss: 0.4330 - recall: 0.0728 - val_loss: 0.4424 - val_recall: 0.0625\n",
      "\n",
      "Epoch 00072: val_loss improved from 0.44285 to 0.44237, saving model to /home/sujitd/7221o/day02/mlp_backorders.h5\n",
      "Epoch 73/100\n",
      "539/539 [==============================] - 1s 2ms/step - loss: 0.4337 - recall: 0.0689 - val_loss: 0.4424 - val_recall: 0.0619\n",
      "\n",
      "Epoch 00073: val_loss did not improve from 0.44237\n",
      "Epoch 74/100\n",
      "539/539 [==============================] - 1s 2ms/step - loss: 0.4333 - recall: 0.0736 - val_loss: 0.4428 - val_recall: 0.0600\n",
      "\n",
      "Epoch 00074: val_loss did not improve from 0.44237\n",
      "Epoch 75/100\n",
      "539/539 [==============================] - 1s 1ms/step - loss: 0.4322 - recall: 0.0743 - val_loss: 0.4419 - val_recall: 0.0625\n",
      "\n",
      "Epoch 00075: val_loss improved from 0.44237 to 0.44194, saving model to /home/sujitd/7221o/day02/mlp_backorders.h5\n",
      "Epoch 76/100\n",
      "539/539 [==============================] - 1s 1ms/step - loss: 0.4358 - recall: 0.0766 - val_loss: 0.4411 - val_recall: 0.0650\n",
      "\n",
      "Epoch 00076: val_loss improved from 0.44194 to 0.44111, saving model to /home/sujitd/7221o/day02/mlp_backorders.h5\n",
      "Epoch 77/100\n",
      "539/539 [==============================] - 1s 1ms/step - loss: 0.4327 - recall: 0.0792 - val_loss: 0.4407 - val_recall: 0.0662\n",
      "\n",
      "Epoch 00077: val_loss improved from 0.44111 to 0.44075, saving model to /home/sujitd/7221o/day02/mlp_backorders.h5\n",
      "Epoch 78/100\n",
      "539/539 [==============================] - 1s 1ms/step - loss: 0.4313 - recall: 0.0766 - val_loss: 0.4409 - val_recall: 0.0656\n",
      "\n",
      "Epoch 00078: val_loss did not improve from 0.44075\n",
      "Epoch 79/100\n",
      "539/539 [==============================] - 1s 1ms/step - loss: 0.4312 - recall: 0.0819 - val_loss: 0.4407 - val_recall: 0.0675\n",
      "\n",
      "Epoch 00079: val_loss improved from 0.44075 to 0.44074, saving model to /home/sujitd/7221o/day02/mlp_backorders.h5\n",
      "Epoch 80/100\n",
      "539/539 [==============================] - 1s 1ms/step - loss: 0.4317 - recall: 0.0782 - val_loss: 0.4404 - val_recall: 0.0675\n",
      "\n",
      "Epoch 00080: val_loss improved from 0.44074 to 0.44044, saving model to /home/sujitd/7221o/day02/mlp_backorders.h5\n",
      "Epoch 81/100\n",
      "539/539 [==============================] - 1s 1ms/step - loss: 0.4310 - recall: 0.0777 - val_loss: 0.4400 - val_recall: 0.0681\n",
      "\n",
      "Epoch 00081: val_loss improved from 0.44044 to 0.43998, saving model to /home/sujitd/7221o/day02/mlp_backorders.h5\n",
      "Epoch 82/100\n",
      "539/539 [==============================] - 1s 1ms/step - loss: 0.4296 - recall: 0.0835 - val_loss: 0.4407 - val_recall: 0.0737\n",
      "\n",
      "Epoch 00082: val_loss did not improve from 0.43998\n",
      "Epoch 83/100\n",
      "539/539 [==============================] - 1s 1ms/step - loss: 0.4331 - recall: 0.0796 - val_loss: 0.4396 - val_recall: 0.0737\n",
      "\n",
      "Epoch 00083: val_loss improved from 0.43998 to 0.43963, saving model to /home/sujitd/7221o/day02/mlp_backorders.h5\n",
      "Epoch 84/100\n",
      "539/539 [==============================] - 1s 1ms/step - loss: 0.4307 - recall: 0.0796 - val_loss: 0.4394 - val_recall: 0.0706\n",
      "\n",
      "Epoch 00084: val_loss improved from 0.43963 to 0.43940, saving model to /home/sujitd/7221o/day02/mlp_backorders.h5\n",
      "Epoch 85/100\n",
      "539/539 [==============================] - 1s 1ms/step - loss: 0.4298 - recall: 0.0787 - val_loss: 0.4390 - val_recall: 0.0744\n",
      "\n",
      "Epoch 00085: val_loss improved from 0.43940 to 0.43898, saving model to /home/sujitd/7221o/day02/mlp_backorders.h5\n",
      "Epoch 86/100\n",
      "539/539 [==============================] - 1s 2ms/step - loss: 0.4332 - recall: 0.0826 - val_loss: 0.4388 - val_recall: 0.0737\n",
      "\n",
      "Epoch 00086: val_loss improved from 0.43898 to 0.43882, saving model to /home/sujitd/7221o/day02/mlp_backorders.h5\n",
      "Epoch 87/100\n",
      "539/539 [==============================] - 1s 2ms/step - loss: 0.4266 - recall: 0.0860 - val_loss: 0.4392 - val_recall: 0.0712\n",
      "\n",
      "Epoch 00087: val_loss did not improve from 0.43882\n",
      "Epoch 88/100\n",
      "539/539 [==============================] - 1s 1ms/step - loss: 0.4286 - recall: 0.0860 - val_loss: 0.4386 - val_recall: 0.0744\n",
      "\n",
      "Epoch 00088: val_loss improved from 0.43882 to 0.43855, saving model to /home/sujitd/7221o/day02/mlp_backorders.h5\n",
      "Epoch 89/100\n",
      "539/539 [==============================] - 1s 1ms/step - loss: 0.4291 - recall: 0.0858 - val_loss: 0.4392 - val_recall: 0.0731\n",
      "\n",
      "Epoch 00089: val_loss did not improve from 0.43855\n",
      "Epoch 90/100\n",
      "539/539 [==============================] - 1s 1ms/step - loss: 0.4281 - recall: 0.0823 - val_loss: 0.4384 - val_recall: 0.0769\n",
      "\n",
      "Epoch 00090: val_loss improved from 0.43855 to 0.43837, saving model to /home/sujitd/7221o/day02/mlp_backorders.h5\n",
      "Epoch 00090: early stopping\n"
     ]
    }
   ],
   "source": [
    "model3_history = mlp_model3.fit(X_train_proc_arr, y_train, epochs=100, batch_size=64, validation_split=0.2, callbacks=callbacks)"
   ]
  },
  {
   "cell_type": "markdown",
   "metadata": {},
   "source": [
    "##### Plot"
   ]
  },
  {
   "cell_type": "code",
   "execution_count": 74,
   "metadata": {},
   "outputs": [
    {
     "name": "stdout",
     "output_type": "stream",
     "text": [
      "dict_keys(['loss', 'recall', 'val_loss', 'val_recall'])\n"
     ]
    }
   ],
   "source": [
    "print(model3_history.history.keys())"
   ]
  },
  {
   "cell_type": "code",
   "execution_count": 75,
   "metadata": {},
   "outputs": [
    {
     "data": {
      "image/png": "[encoded data removed]",
      "text/plain": [
       "<Figure size 432x288 with 1 Axes>"
      ]
     },
     "metadata": {
      "needs_background": "light"
     },
     "output_type": "display_data"
    }
   ],
   "source": [
    "plt.plot(model3_history.history['recall'])\n",
    "plt.plot(model3_history.history['val_recall'])\n",
    "plt.title('Recall Plot')\n",
    "plt.ylabel('Recall')\n",
    "plt.xlabel('Epoch')\n",
    "plt.legend(['Train', 'Validation'])\n",
    "plt.show()"
   ]
  },
  {
   "cell_type": "code",
   "execution_count": 76,
   "metadata": {},
   "outputs": [
    {
     "data": {
      "image/png": "[encoded data removed]",
      "text/plain": [
       "<Figure size 432x288 with 1 Axes>"
      ]
     },
     "metadata": {
      "needs_background": "light"
     },
     "output_type": "display_data"
    }
   ],
   "source": [
    "plt.plot(model3_history.history['loss'])\n",
    "plt.plot(model3_history.history['val_loss'])\n",
    "plt.title('Loss Function Plot')\n",
    "plt.ylabel('Loss')\n",
    "plt.xlabel('Epoch')\n",
    "plt.legend(['Train', 'Validation'])\n",
    "plt.show()"
   ]
  },
  {
   "cell_type": "markdown",
   "metadata": {},
   "source": [
    "#### Predictions"
   ]
  },
  {
   "cell_type": "code",
   "execution_count": 77,
   "metadata": {},
   "outputs": [
    {
     "name": "stderr",
     "output_type": "stream",
     "text": [
      "/home/sujitd/.local/lib/python3.7/site-packages/tensorflow/python/keras/engine/sequential.py:450: UserWarning: `model.predict_classes()` is deprecated and will be removed after 2021-01-01. Please use instead:* `np.argmax(model.predict(x), axis=-1)`,   if your model does multi-class classification   (e.g. if it uses a `softmax` last-layer activation).* `(model.predict(x) > 0.5).astype(\"int32\")`,   if your model does binary classification   (e.g. if it uses a `sigmoid` last-layer activation).\n",
      "  warnings.warn('`model.predict_classes()` is deprecated and '\n"
     ]
    }
   ],
   "source": [
    "train_model3_pred = mlp_model3.predict_classes(X_train_proc_arr)\n",
    "val_model3_pred = mlp_model3.predict_classes(X_val_proc_arr)"
   ]
  },
  {
   "cell_type": "markdown",
   "metadata": {},
   "source": [
    "#### Getting evaluation metrics and evaluating model performance"
   ]
  },
  {
   "cell_type": "code",
   "execution_count": 78,
   "metadata": {},
   "outputs": [
    {
     "name": "stdout",
     "output_type": "stream",
     "text": [
      "[[34905   302]\n",
      " [ 7246   659]]\n",
      "[[14941   148]\n",
      " [ 3093   295]]\n"
     ]
    }
   ],
   "source": [
    "confusion_matrix_train = confusion_matrix(y_train, train_model3_pred)\n",
    "confusion_matrix_val = confusion_matrix(y_val, val_model3_pred)\n",
    "\n",
    "print(confusion_matrix_train)\n",
    "print(confusion_matrix_val)"
   ]
  },
  {
   "cell_type": "markdown",
   "metadata": {},
   "source": [
    "#### Calculate Accuracy, True Positive Rate and True Negative Rates"
   ]
  },
  {
   "cell_type": "code",
   "execution_count": 79,
   "metadata": {},
   "outputs": [
    {
     "name": "stdout",
     "output_type": "stream",
     "text": [
      "Train Accuracy:  0.8249211356466877\n",
      "Train Recall:  0.08336495888678051\n",
      "Train Precision:  0.6857440166493236\n",
      "-----------------------\n",
      "Val Accuracy:  0.8245927369161661\n",
      "Val Recall:  0.0870720188902007\n",
      "Val Precision:  0.6659142212189616\n"
     ]
    }
   ],
   "source": [
    "accuracy_score_train = accuracy_score(y_train, train_model3_pred)\n",
    "accuracy_score_val = accuracy_score(y_val, val_model3_pred)\n",
    "\n",
    "recall_score_train = recall_score(y_train, train_model3_pred)\n",
    "recall_score_val = recall_score(y_val, val_model3_pred)\n",
    "\n",
    "precision_score_train = precision_score(y_train, train_model3_pred)\n",
    "precision_score_val = precision_score(y_val, val_model3_pred)\n",
    "\n",
    "\n",
    "print(\"Train Accuracy: \",accuracy_score_train)\n",
    "print(\"Train Recall: \",recall_score_train)\n",
    "print(\"Train Precision: \",precision_score_train)\n",
    "\n",
    "print(\"-----------------------\")\n",
    "\n",
    "print(\"Val Accuracy: \",accuracy_score_val)\n",
    "print(\"Val Recall: \",recall_score_val)\n",
    "print(\"Val Precision: \",precision_score_val)"
   ]
  },
  {
   "cell_type": "markdown",
   "metadata": {},
   "source": [
    "### MLP with 3 layers\n",
    "\n",
    "    1st hidden layer with 25 neurons\n",
    "    2nd hidden layer with 15 neurons"
   ]
  },
  {
   "cell_type": "code",
   "execution_count": 175,
   "metadata": {},
   "outputs": [],
   "source": [
    "mlp_model4 = Sequential()\n",
    "\n",
    "mlp_model4.add(Dense(25, input_shape=(27,), activation='tanh', kernel_initializer='normal'))\n",
    "mlp_model4.add(Dense(15, activation='tanh', kernel_initializer='normal'))\n",
    "mlp_model4.add(Dense(1, activation='sigmoid', kernel_initializer='normal'))"
   ]
  },
  {
   "cell_type": "code",
   "execution_count": 176,
   "metadata": {},
   "outputs": [
    {
     "name": "stdout",
     "output_type": "stream",
     "text": [
      "Model: \"sequential_15\"\n",
      "_________________________________________________________________\n",
      "Layer (type)                 Output Shape              Param #   \n",
      "=================================================================\n",
      "dense_36 (Dense)             (None, 25)                700       \n",
      "_________________________________________________________________\n",
      "dense_37 (Dense)             (None, 15)                390       \n",
      "_________________________________________________________________\n",
      "dense_38 (Dense)             (None, 1)                 16        \n",
      "=================================================================\n",
      "Total params: 1,106\n",
      "Trainable params: 1,106\n",
      "Non-trainable params: 0\n",
      "_________________________________________________________________\n"
     ]
    }
   ],
   "source": [
    "mlp_model4.summary()"
   ]
  },
  {
   "cell_type": "code",
   "execution_count": 177,
   "metadata": {},
   "outputs": [],
   "source": [
    "mlp_model4.compile(loss='binary_crossentropy', optimizer='adam', metrics=tf.keras.metrics.Recall(name='recall'))"
   ]
  },
  {
   "cell_type": "code",
   "execution_count": 178,
   "metadata": {},
   "outputs": [
    {
     "name": "stdout",
     "output_type": "stream",
     "text": [
      "Epoch 1/150\n",
      "539/539 [==============================] - 1s 2ms/step - loss: 0.5207 - recall: 0.0153 - val_loss: 0.4574 - val_recall: 0.0325\n",
      "Epoch 2/150\n",
      "539/539 [==============================] - 1s 1ms/step - loss: 0.4504 - recall: 0.0461 - val_loss: 0.4376 - val_recall: 0.0763\n",
      "Epoch 3/150\n",
      "539/539 [==============================] - 1s 1ms/step - loss: 0.4300 - recall: 0.0872 - val_loss: 0.4190 - val_recall: 0.1025\n",
      "Epoch 4/150\n",
      "539/539 [==============================] - 1s 1ms/step - loss: 0.4116 - recall: 0.1110 - val_loss: 0.4093 - val_recall: 0.1206\n",
      "Epoch 5/150\n",
      "539/539 [==============================] - 1s 1ms/step - loss: 0.4021 - recall: 0.1316 - val_loss: 0.3974 - val_recall: 0.1513\n",
      "Epoch 6/150\n",
      "539/539 [==============================] - 1s 1ms/step - loss: 0.3960 - recall: 0.1529 - val_loss: 0.3921 - val_recall: 0.1600\n",
      "Epoch 7/150\n",
      "539/539 [==============================] - 1s 1ms/step - loss: 0.3843 - recall: 0.1680 - val_loss: 0.3967 - val_recall: 0.1406\n",
      "Epoch 8/150\n",
      "539/539 [==============================] - 1s 1ms/step - loss: 0.3854 - recall: 0.1687 - val_loss: 0.3828 - val_recall: 0.1550\n",
      "Epoch 9/150\n",
      "539/539 [==============================] - 1s 1ms/step - loss: 0.3840 - recall: 0.1680 - val_loss: 0.3813 - val_recall: 0.1506\n",
      "Epoch 10/150\n",
      "539/539 [==============================] - 1s 2ms/step - loss: 0.3721 - recall: 0.1756 - val_loss: 0.3782 - val_recall: 0.1556\n",
      "Epoch 11/150\n",
      "539/539 [==============================] - 1s 1ms/step - loss: 0.3705 - recall: 0.1888 - val_loss: 0.3705 - val_recall: 0.2100\n",
      "Epoch 12/150\n",
      "539/539 [==============================] - 1s 1ms/step - loss: 0.3649 - recall: 0.2020 - val_loss: 0.3623 - val_recall: 0.1912\n",
      "Epoch 13/150\n",
      "539/539 [==============================] - 1s 1ms/step - loss: 0.3618 - recall: 0.2098 - val_loss: 0.3599 - val_recall: 0.2438\n",
      "Epoch 14/150\n",
      "539/539 [==============================] - 1s 1ms/step - loss: 0.3582 - recall: 0.2240 - val_loss: 0.3572 - val_recall: 0.2306\n",
      "Epoch 15/150\n",
      "539/539 [==============================] - 1s 1ms/step - loss: 0.3539 - recall: 0.2250 - val_loss: 0.3560 - val_recall: 0.2144\n",
      "Epoch 16/150\n",
      "539/539 [==============================] - 1s 1ms/step - loss: 0.3506 - recall: 0.2345 - val_loss: 0.3567 - val_recall: 0.2694\n",
      "Epoch 17/150\n",
      "539/539 [==============================] - 1s 1ms/step - loss: 0.3554 - recall: 0.2436 - val_loss: 0.3537 - val_recall: 0.2113\n",
      "Epoch 18/150\n",
      "539/539 [==============================] - 1s 2ms/step - loss: 0.3465 - recall: 0.2534 - val_loss: 0.3486 - val_recall: 0.2837\n",
      "Epoch 19/150\n",
      "539/539 [==============================] - 1s 1ms/step - loss: 0.3528 - recall: 0.2644 - val_loss: 0.3685 - val_recall: 0.1819\n",
      "Epoch 20/150\n",
      "539/539 [==============================] - 1s 2ms/step - loss: 0.3479 - recall: 0.2626 - val_loss: 0.3452 - val_recall: 0.2819\n",
      "Epoch 21/150\n",
      "539/539 [==============================] - 1s 2ms/step - loss: 0.3479 - recall: 0.2736 - val_loss: 0.3553 - val_recall: 0.3769\n",
      "Epoch 22/150\n",
      "539/539 [==============================] - 1s 1ms/step - loss: 0.3397 - recall: 0.2942 - val_loss: 0.3417 - val_recall: 0.2600\n",
      "Epoch 23/150\n",
      "539/539 [==============================] - 1s 1ms/step - loss: 0.3368 - recall: 0.2842 - val_loss: 0.3433 - val_recall: 0.2356\n",
      "Epoch 24/150\n",
      "539/539 [==============================] - 1s 1ms/step - loss: 0.3375 - recall: 0.3026 - val_loss: 0.3377 - val_recall: 0.3331\n",
      "Epoch 25/150\n",
      "539/539 [==============================] - 1s 2ms/step - loss: 0.3317 - recall: 0.3199 - val_loss: 0.3360 - val_recall: 0.3200\n",
      "Epoch 26/150\n",
      "539/539 [==============================] - 1s 2ms/step - loss: 0.3313 - recall: 0.3321 - val_loss: 0.3370 - val_recall: 0.2713\n",
      "Epoch 27/150\n",
      "539/539 [==============================] - 1s 1ms/step - loss: 0.3274 - recall: 0.3232 - val_loss: 0.3306 - val_recall: 0.3131\n",
      "Epoch 28/150\n",
      "539/539 [==============================] - 1s 1ms/step - loss: 0.3253 - recall: 0.3373 - val_loss: 0.3416 - val_recall: 0.2631\n",
      "Epoch 29/150\n",
      "539/539 [==============================] - 1s 1ms/step - loss: 0.3175 - recall: 0.3511 - val_loss: 0.3411 - val_recall: 0.2488\n",
      "Epoch 30/150\n",
      "539/539 [==============================] - 1s 1ms/step - loss: 0.3234 - recall: 0.3360 - val_loss: 0.3561 - val_recall: 0.5987\n",
      "Epoch 31/150\n",
      "539/539 [==============================] - 1s 1ms/step - loss: 0.3252 - recall: 0.3714 - val_loss: 0.3259 - val_recall: 0.3106\n",
      "Epoch 32/150\n",
      "539/539 [==============================] - 1s 1ms/step - loss: 0.3212 - recall: 0.3805 - val_loss: 0.3256 - val_recall: 0.3794\n",
      "Epoch 33/150\n",
      "539/539 [==============================] - 1s 2ms/step - loss: 0.3163 - recall: 0.3678 - val_loss: 0.3314 - val_recall: 0.4512\n",
      "Epoch 34/150\n",
      "539/539 [==============================] - 1s 1ms/step - loss: 0.3225 - recall: 0.3917 - val_loss: 0.3322 - val_recall: 0.2781\n",
      "Epoch 35/150\n",
      "539/539 [==============================] - 1s 2ms/step - loss: 0.3236 - recall: 0.3962 - val_loss: 0.3205 - val_recall: 0.3125\n",
      "Epoch 36/150\n",
      "539/539 [==============================] - 1s 2ms/step - loss: 0.3068 - recall: 0.3873 - val_loss: 0.3160 - val_recall: 0.3606\n",
      "Epoch 37/150\n",
      "539/539 [==============================] - 1s 1ms/step - loss: 0.3071 - recall: 0.4156 - val_loss: 0.3190 - val_recall: 0.3294\n",
      "Epoch 38/150\n",
      "539/539 [==============================] - 1s 1ms/step - loss: 0.3107 - recall: 0.4008 - val_loss: 0.3144 - val_recall: 0.3487\n",
      "Epoch 39/150\n",
      "539/539 [==============================] - 1s 2ms/step - loss: 0.3144 - recall: 0.4068 - val_loss: 0.3112 - val_recall: 0.3844\n",
      "Epoch 40/150\n",
      "539/539 [==============================] - 1s 1ms/step - loss: 0.3130 - recall: 0.4358 - val_loss: 0.3408 - val_recall: 0.5925\n",
      "Epoch 41/150\n",
      "539/539 [==============================] - 1s 1ms/step - loss: 0.3036 - recall: 0.4244 - val_loss: 0.3211 - val_recall: 0.3494\n",
      "Epoch 42/150\n",
      "539/539 [==============================] - 1s 2ms/step - loss: 0.3042 - recall: 0.4283 - val_loss: 0.3129 - val_recall: 0.4700\n",
      "Epoch 43/150\n",
      "539/539 [==============================] - 1s 1ms/step - loss: 0.3022 - recall: 0.4265 - val_loss: 0.3326 - val_recall: 0.6444\n",
      "Epoch 44/150\n",
      "539/539 [==============================] - 1s 2ms/step - loss: 0.3058 - recall: 0.4515 - val_loss: 0.3139 - val_recall: 0.3438\n",
      "Epoch 45/150\n",
      "539/539 [==============================] - 1s 1ms/step - loss: 0.3015 - recall: 0.4520 - val_loss: 0.3088 - val_recall: 0.3644\n",
      "Epoch 46/150\n",
      "539/539 [==============================] - 1s 1ms/step - loss: 0.2959 - recall: 0.4450 - val_loss: 0.3168 - val_recall: 0.3656\n",
      "Epoch 47/150\n",
      "539/539 [==============================] - 1s 2ms/step - loss: 0.2938 - recall: 0.4812 - val_loss: 0.3215 - val_recall: 0.2831\n",
      "Epoch 48/150\n",
      "539/539 [==============================] - 1s 2ms/step - loss: 0.3016 - recall: 0.4457 - val_loss: 0.3248 - val_recall: 0.3369\n",
      "Epoch 49/150\n",
      "539/539 [==============================] - 1s 1ms/step - loss: 0.3064 - recall: 0.4610 - val_loss: 0.3223 - val_recall: 0.3762\n",
      "Epoch 50/150\n",
      "539/539 [==============================] - 1s 1ms/step - loss: 0.3030 - recall: 0.4543 - val_loss: 0.3186 - val_recall: 0.3450\n",
      "Epoch 51/150\n",
      "539/539 [==============================] - 1s 1ms/step - loss: 0.3007 - recall: 0.4587 - val_loss: 0.3100 - val_recall: 0.4575\n",
      "Epoch 52/150\n",
      "539/539 [==============================] - 1s 1ms/step - loss: 0.3025 - recall: 0.4672 - val_loss: 0.3263 - val_recall: 0.6837\n",
      "Epoch 53/150\n",
      "539/539 [==============================] - 1s 1ms/step - loss: 0.2968 - recall: 0.4848 - val_loss: 0.3036 - val_recall: 0.5600\n",
      "Epoch 54/150\n",
      "539/539 [==============================] - 1s 1ms/step - loss: 0.2955 - recall: 0.4721 - val_loss: 0.3001 - val_recall: 0.4437\n",
      "Epoch 55/150\n",
      "539/539 [==============================] - 1s 2ms/step - loss: 0.2935 - recall: 0.4828 - val_loss: 0.2998 - val_recall: 0.5188\n",
      "Epoch 56/150\n",
      "539/539 [==============================] - 1s 2ms/step - loss: 0.2944 - recall: 0.4805 - val_loss: 0.3041 - val_recall: 0.4006\n",
      "Epoch 57/150\n",
      "539/539 [==============================] - 1s 2ms/step - loss: 0.3048 - recall: 0.4845 - val_loss: 0.2985 - val_recall: 0.4475\n",
      "Epoch 58/150\n",
      "539/539 [==============================] - 1s 1ms/step - loss: 0.2867 - recall: 0.4765 - val_loss: 0.2971 - val_recall: 0.4350\n",
      "Epoch 59/150\n",
      "539/539 [==============================] - 1s 1ms/step - loss: 0.2927 - recall: 0.5002 - val_loss: 0.3081 - val_recall: 0.5337\n",
      "Epoch 60/150\n",
      "539/539 [==============================] - 1s 1ms/step - loss: 0.2911 - recall: 0.5041 - val_loss: 0.2954 - val_recall: 0.5025\n",
      "Epoch 61/150\n",
      "539/539 [==============================] - 1s 1ms/step - loss: 0.2961 - recall: 0.4999 - val_loss: 0.2930 - val_recall: 0.4794\n",
      "Epoch 62/150\n",
      "539/539 [==============================] - 1s 1ms/step - loss: 0.2868 - recall: 0.4938 - val_loss: 0.2943 - val_recall: 0.5419\n",
      "Epoch 63/150\n",
      "539/539 [==============================] - 1s 2ms/step - loss: 0.2897 - recall: 0.4981 - val_loss: 0.2979 - val_recall: 0.4150\n",
      "Epoch 64/150\n",
      "539/539 [==============================] - 1s 2ms/step - loss: 0.2790 - recall: 0.5062 - val_loss: 0.3032 - val_recall: 0.6081\n",
      "Epoch 65/150\n",
      "539/539 [==============================] - 1s 2ms/step - loss: 0.2881 - recall: 0.5092 - val_loss: 0.2975 - val_recall: 0.6075\n",
      "Epoch 66/150\n",
      "539/539 [==============================] - 1s 2ms/step - loss: 0.2942 - recall: 0.5023 - val_loss: 0.2931 - val_recall: 0.4669\n",
      "Epoch 67/150\n",
      "539/539 [==============================] - 1s 2ms/step - loss: 0.2830 - recall: 0.5056 - val_loss: 0.2909 - val_recall: 0.5188\n",
      "Epoch 68/150\n",
      "539/539 [==============================] - 1s 2ms/step - loss: 0.2830 - recall: 0.5078 - val_loss: 0.2963 - val_recall: 0.4938\n",
      "Epoch 69/150\n",
      "539/539 [==============================] - 1s 1ms/step - loss: 0.2850 - recall: 0.5092 - val_loss: 0.2995 - val_recall: 0.4606\n",
      "Epoch 70/150\n",
      "539/539 [==============================] - 1s 2ms/step - loss: 0.2849 - recall: 0.5161 - val_loss: 0.2944 - val_recall: 0.4256\n",
      "Epoch 71/150\n",
      "539/539 [==============================] - 1s 1ms/step - loss: 0.2803 - recall: 0.5110 - val_loss: 0.2908 - val_recall: 0.4625\n",
      "Epoch 72/150\n",
      "539/539 [==============================] - 1s 2ms/step - loss: 0.2845 - recall: 0.5033 - val_loss: 0.2997 - val_recall: 0.6162\n",
      "Epoch 73/150\n",
      "539/539 [==============================] - 1s 2ms/step - loss: 0.2811 - recall: 0.5285 - val_loss: 0.2928 - val_recall: 0.5925\n",
      "Epoch 74/150\n",
      "539/539 [==============================] - 1s 1ms/step - loss: 0.2819 - recall: 0.5346 - val_loss: 0.2899 - val_recall: 0.5094\n",
      "Epoch 75/150\n",
      "539/539 [==============================] - 1s 1ms/step - loss: 0.2843 - recall: 0.5185 - val_loss: 0.3185 - val_recall: 0.3388\n",
      "Epoch 76/150\n",
      "539/539 [==============================] - 1s 2ms/step - loss: 0.2891 - recall: 0.5266 - val_loss: 0.2910 - val_recall: 0.5131\n",
      "Epoch 77/150\n",
      "539/539 [==============================] - 1s 2ms/step - loss: 0.2831 - recall: 0.5263 - val_loss: 0.2883 - val_recall: 0.4338\n",
      "Epoch 78/150\n",
      "539/539 [==============================] - 1s 1ms/step - loss: 0.2795 - recall: 0.5273 - val_loss: 0.2896 - val_recall: 0.5044\n",
      "Epoch 79/150\n",
      "539/539 [==============================] - 1s 2ms/step - loss: 0.2766 - recall: 0.5365 - val_loss: 0.2938 - val_recall: 0.6194\n",
      "Epoch 80/150\n",
      "539/539 [==============================] - 1s 1ms/step - loss: 0.2839 - recall: 0.5315 - val_loss: 0.2818 - val_recall: 0.5088\n",
      "Epoch 81/150\n",
      "539/539 [==============================] - 1s 2ms/step - loss: 0.2773 - recall: 0.5400 - val_loss: 0.3410 - val_recall: 0.2087\n",
      "Epoch 82/150\n",
      "539/539 [==============================] - 1s 2ms/step - loss: 0.2818 - recall: 0.5314 - val_loss: 0.3027 - val_recall: 0.5213\n",
      "Epoch 83/150\n",
      "539/539 [==============================] - 1s 2ms/step - loss: 0.2799 - recall: 0.5385 - val_loss: 0.2816 - val_recall: 0.5506\n",
      "Epoch 84/150\n",
      "539/539 [==============================] - 1s 1ms/step - loss: 0.2864 - recall: 0.5310 - val_loss: 0.2839 - val_recall: 0.5025\n",
      "Epoch 85/150\n",
      "539/539 [==============================] - 1s 1ms/step - loss: 0.2768 - recall: 0.5427 - val_loss: 0.2797 - val_recall: 0.5350\n",
      "Epoch 86/150\n",
      "539/539 [==============================] - 1s 1ms/step - loss: 0.2804 - recall: 0.5422 - val_loss: 0.3303 - val_recall: 0.2700\n",
      "Epoch 87/150\n",
      "539/539 [==============================] - 1s 1ms/step - loss: 0.2828 - recall: 0.5246 - val_loss: 0.2858 - val_recall: 0.5925\n",
      "Epoch 88/150\n",
      "539/539 [==============================] - 1s 2ms/step - loss: 0.2770 - recall: 0.5454 - val_loss: 0.2811 - val_recall: 0.4844\n",
      "Epoch 89/150\n",
      "539/539 [==============================] - 1s 2ms/step - loss: 0.2776 - recall: 0.5499 - val_loss: 0.2882 - val_recall: 0.6275\n",
      "Epoch 90/150\n",
      "539/539 [==============================] - 1s 2ms/step - loss: 0.2793 - recall: 0.5403 - val_loss: 0.2838 - val_recall: 0.6144\n",
      "Epoch 91/150\n",
      "539/539 [==============================] - 1s 1ms/step - loss: 0.2710 - recall: 0.5596 - val_loss: 0.2972 - val_recall: 0.4094\n",
      "Epoch 92/150\n",
      "539/539 [==============================] - 1s 1ms/step - loss: 0.2774 - recall: 0.5476 - val_loss: 0.2810 - val_recall: 0.4625\n",
      "Epoch 93/150\n",
      "539/539 [==============================] - 1s 1ms/step - loss: 0.2761 - recall: 0.5376 - val_loss: 0.2888 - val_recall: 0.6619\n",
      "Epoch 94/150\n",
      "539/539 [==============================] - 1s 1ms/step - loss: 0.2761 - recall: 0.5552 - val_loss: 0.2780 - val_recall: 0.4988\n",
      "Epoch 95/150\n",
      "539/539 [==============================] - 1s 1ms/step - loss: 0.2813 - recall: 0.5376 - val_loss: 0.2827 - val_recall: 0.5763\n",
      "Epoch 96/150\n",
      "539/539 [==============================] - 1s 1ms/step - loss: 0.2757 - recall: 0.5495 - val_loss: 0.2893 - val_recall: 0.6069\n",
      "Epoch 97/150\n",
      "539/539 [==============================] - 1s 1ms/step - loss: 0.2738 - recall: 0.5455 - val_loss: 0.2851 - val_recall: 0.5656\n",
      "Epoch 98/150\n",
      "539/539 [==============================] - 1s 2ms/step - loss: 0.2771 - recall: 0.5526 - val_loss: 0.3100 - val_recall: 0.3275\n",
      "Epoch 99/150\n",
      "539/539 [==============================] - 1s 1ms/step - loss: 0.2742 - recall: 0.5506 - val_loss: 0.2817 - val_recall: 0.4706\n",
      "Epoch 100/150\n",
      "539/539 [==============================] - 1s 1ms/step - loss: 0.2755 - recall: 0.5569 - val_loss: 0.2828 - val_recall: 0.6219\n",
      "Epoch 101/150\n",
      "539/539 [==============================] - 1s 2ms/step - loss: 0.2644 - recall: 0.5528 - val_loss: 0.2861 - val_recall: 0.6594\n",
      "Epoch 102/150\n",
      "539/539 [==============================] - 1s 2ms/step - loss: 0.2731 - recall: 0.5449 - val_loss: 0.2768 - val_recall: 0.5531\n",
      "Epoch 103/150\n",
      "539/539 [==============================] - 1s 2ms/step - loss: 0.2669 - recall: 0.5440 - val_loss: 0.2850 - val_recall: 0.6244\n",
      "Epoch 104/150\n",
      "539/539 [==============================] - 1s 1ms/step - loss: 0.2782 - recall: 0.5460 - val_loss: 0.2771 - val_recall: 0.5412\n",
      "Epoch 105/150\n",
      "539/539 [==============================] - 1s 2ms/step - loss: 0.2708 - recall: 0.5804 - val_loss: 0.2780 - val_recall: 0.5950\n",
      "Epoch 106/150\n",
      "539/539 [==============================] - 1s 2ms/step - loss: 0.2715 - recall: 0.5517 - val_loss: 0.2833 - val_recall: 0.4837\n",
      "Epoch 107/150\n",
      "539/539 [==============================] - 1s 2ms/step - loss: 0.2708 - recall: 0.5698 - val_loss: 0.2797 - val_recall: 0.5806\n",
      "Epoch 108/150\n",
      "539/539 [==============================] - 1s 2ms/step - loss: 0.2705 - recall: 0.5632 - val_loss: 0.3036 - val_recall: 0.4306\n",
      "Epoch 109/150\n",
      "539/539 [==============================] - 1s 1ms/step - loss: 0.2716 - recall: 0.5575 - val_loss: 0.2881 - val_recall: 0.4419\n",
      "Epoch 110/150\n",
      "539/539 [==============================] - 1s 1ms/step - loss: 0.2698 - recall: 0.5608 - val_loss: 0.2767 - val_recall: 0.6431\n",
      "Epoch 111/150\n",
      "539/539 [==============================] - 1s 1ms/step - loss: 0.2736 - recall: 0.5625 - val_loss: 0.2828 - val_recall: 0.4694\n",
      "Epoch 112/150\n",
      "539/539 [==============================] - 1s 1ms/step - loss: 0.2729 - recall: 0.5557 - val_loss: 0.2801 - val_recall: 0.6413\n",
      "Epoch 113/150\n",
      "539/539 [==============================] - 1s 1ms/step - loss: 0.2714 - recall: 0.5787 - val_loss: 0.2913 - val_recall: 0.7050\n",
      "Epoch 114/150\n",
      "539/539 [==============================] - 1s 1ms/step - loss: 0.2768 - recall: 0.5448 - val_loss: 0.2795 - val_recall: 0.6469\n",
      "Epoch 115/150\n",
      "539/539 [==============================] - 1s 1ms/step - loss: 0.2682 - recall: 0.5716 - val_loss: 0.2956 - val_recall: 0.4881\n",
      "Epoch 116/150\n",
      "539/539 [==============================] - 1s 1ms/step - loss: 0.2674 - recall: 0.5793 - val_loss: 0.2850 - val_recall: 0.6650\n",
      "Epoch 117/150\n",
      "539/539 [==============================] - 1s 1ms/step - loss: 0.2727 - recall: 0.5564 - val_loss: 0.2786 - val_recall: 0.5256\n",
      "Epoch 118/150\n",
      "539/539 [==============================] - 1s 1ms/step - loss: 0.2747 - recall: 0.5574 - val_loss: 0.2834 - val_recall: 0.4144\n",
      "Epoch 119/150\n",
      "539/539 [==============================] - 1s 1ms/step - loss: 0.2819 - recall: 0.5627 - val_loss: 0.2874 - val_recall: 0.6681\n",
      "Epoch 120/150\n",
      "539/539 [==============================] - 1s 1ms/step - loss: 0.2651 - recall: 0.5671 - val_loss: 0.2689 - val_recall: 0.5337\n",
      "Epoch 121/150\n",
      "539/539 [==============================] - 1s 1ms/step - loss: 0.2641 - recall: 0.5864 - val_loss: 0.2881 - val_recall: 0.7088\n",
      "Epoch 122/150\n",
      "539/539 [==============================] - 1s 1ms/step - loss: 0.2626 - recall: 0.5782 - val_loss: 0.2912 - val_recall: 0.3675\n",
      "Epoch 123/150\n",
      "539/539 [==============================] - 1s 2ms/step - loss: 0.2771 - recall: 0.5640 - val_loss: 0.2917 - val_recall: 0.6719\n",
      "Epoch 124/150\n",
      "539/539 [==============================] - 1s 1ms/step - loss: 0.2692 - recall: 0.5724 - val_loss: 0.2845 - val_recall: 0.5006\n",
      "Epoch 125/150\n",
      "539/539 [==============================] - 1s 1ms/step - loss: 0.2639 - recall: 0.5810 - val_loss: 0.2715 - val_recall: 0.5725\n",
      "Epoch 126/150\n",
      "539/539 [==============================] - 1s 1ms/step - loss: 0.2590 - recall: 0.5897 - val_loss: 0.2827 - val_recall: 0.5206\n",
      "Epoch 127/150\n",
      "539/539 [==============================] - 1s 2ms/step - loss: 0.2662 - recall: 0.5742 - val_loss: 0.2816 - val_recall: 0.3794\n",
      "Epoch 128/150\n",
      "539/539 [==============================] - 1s 2ms/step - loss: 0.2663 - recall: 0.5673 - val_loss: 0.2753 - val_recall: 0.5106\n",
      "Epoch 129/150\n",
      "539/539 [==============================] - 1s 1ms/step - loss: 0.2753 - recall: 0.5789 - val_loss: 0.2991 - val_recall: 0.3325\n",
      "Epoch 130/150\n",
      "539/539 [==============================] - 1s 1ms/step - loss: 0.2736 - recall: 0.5612 - val_loss: 0.2841 - val_recall: 0.6594\n",
      "Epoch 131/150\n",
      "539/539 [==============================] - 1s 1ms/step - loss: 0.2658 - recall: 0.5755 - val_loss: 0.2843 - val_recall: 0.4062\n",
      "Epoch 132/150\n",
      "539/539 [==============================] - 1s 1ms/step - loss: 0.2680 - recall: 0.5823 - val_loss: 0.2817 - val_recall: 0.6269\n",
      "Epoch 133/150\n",
      "539/539 [==============================] - 1s 1ms/step - loss: 0.2684 - recall: 0.5598 - val_loss: 0.2753 - val_recall: 0.4888\n",
      "Epoch 134/150\n",
      "539/539 [==============================] - 1s 1ms/step - loss: 0.2709 - recall: 0.5633 - val_loss: 0.2748 - val_recall: 0.5050\n",
      "Epoch 135/150\n",
      "539/539 [==============================] - 1s 2ms/step - loss: 0.2694 - recall: 0.5764 - val_loss: 0.2795 - val_recall: 0.6594\n",
      "Epoch 136/150\n",
      "539/539 [==============================] - 1s 2ms/step - loss: 0.2719 - recall: 0.5696 - val_loss: 0.3192 - val_recall: 0.3956\n",
      "Epoch 137/150\n",
      "539/539 [==============================] - 1s 2ms/step - loss: 0.2724 - recall: 0.5678 - val_loss: 0.2713 - val_recall: 0.6137\n",
      "Epoch 138/150\n",
      "539/539 [==============================] - 1s 1ms/step - loss: 0.2687 - recall: 0.5856 - val_loss: 0.3003 - val_recall: 0.7544\n",
      "Epoch 139/150\n",
      "539/539 [==============================] - 1s 1ms/step - loss: 0.2645 - recall: 0.5811 - val_loss: 0.2807 - val_recall: 0.4762\n",
      "Epoch 140/150\n",
      "539/539 [==============================] - 1s 2ms/step - loss: 0.2612 - recall: 0.5750 - val_loss: 0.2789 - val_recall: 0.6050\n",
      "Epoch 141/150\n",
      "539/539 [==============================] - 1s 1ms/step - loss: 0.2750 - recall: 0.5588 - val_loss: 0.2678 - val_recall: 0.5412\n",
      "Epoch 142/150\n",
      "539/539 [==============================] - 1s 2ms/step - loss: 0.2686 - recall: 0.5734 - val_loss: 0.2757 - val_recall: 0.6294\n",
      "Epoch 143/150\n",
      "539/539 [==============================] - 1s 1ms/step - loss: 0.2726 - recall: 0.5681 - val_loss: 0.2715 - val_recall: 0.5881\n",
      "Epoch 144/150\n",
      "539/539 [==============================] - 1s 2ms/step - loss: 0.2652 - recall: 0.5788 - val_loss: 0.3650 - val_recall: 0.2856\n",
      "Epoch 145/150\n",
      "539/539 [==============================] - 1s 2ms/step - loss: 0.2736 - recall: 0.5712 - val_loss: 0.2712 - val_recall: 0.6550\n",
      "Epoch 146/150\n",
      "539/539 [==============================] - 1s 2ms/step - loss: 0.2607 - recall: 0.5881 - val_loss: 0.2690 - val_recall: 0.5956\n",
      "Epoch 147/150\n",
      "539/539 [==============================] - 1s 2ms/step - loss: 0.2642 - recall: 0.5806 - val_loss: 0.2788 - val_recall: 0.4425\n",
      "Epoch 148/150\n",
      "539/539 [==============================] - 1s 1ms/step - loss: 0.2630 - recall: 0.5761 - val_loss: 0.2687 - val_recall: 0.5025\n",
      "Epoch 149/150\n",
      "539/539 [==============================] - 1s 1ms/step - loss: 0.2646 - recall: 0.5738 - val_loss: 0.2670 - val_recall: 0.5800\n",
      "Epoch 150/150\n",
      "539/539 [==============================] - 1s 1ms/step - loss: 0.2648 - recall: 0.5917 - val_loss: 0.2855 - val_recall: 0.7038\n"
     ]
    }
   ],
   "source": [
    "model4_history = mlp_model4.fit(X_train_proc_arr, y_train, epochs=150, batch_size=64, validation_split=0.2, callbacks=callbacks)"
   ]
  },
  {
   "cell_type": "markdown",
   "metadata": {},
   "source": [
    "##### Plot"
   ]
  },
  {
   "cell_type": "code",
   "execution_count": 160,
   "metadata": {},
   "outputs": [
    {
     "name": "stdout",
     "output_type": "stream",
     "text": [
      "dict_keys(['loss', 'recall', 'val_loss', 'val_recall'])\n"
     ]
    }
   ],
   "source": [
    "print(model4_history.history.keys())"
   ]
  },
  {
   "cell_type": "code",
   "execution_count": 179,
   "metadata": {},
   "outputs": [
    {
     "data": {
      "image/png": "[encoded data removed]",
      "text/plain": [
       "<Figure size 432x288 with 1 Axes>"
      ]
     },
     "metadata": {
      "needs_background": "light"
     },
     "output_type": "display_data"
    }
   ],
   "source": [
    "plt.plot(model4_history.history['recall'])\n",
    "plt.plot(model4_history.history['val_recall'])\n",
    "plt.title('Recall Plot')\n",
    "plt.ylabel('Recall')\n",
    "plt.xlabel('Epoch')\n",
    "plt.legend(['Train', 'Validation'])\n",
    "plt.show()"
   ]
  },
  {
   "cell_type": "code",
   "execution_count": 180,
   "metadata": {},
   "outputs": [
    {
     "data": {
      "image/png": "[encoded data removed]",
      "text/plain": [
       "<Figure size 432x288 with 1 Axes>"
      ]
     },
     "metadata": {
      "needs_background": "light"
     },
     "output_type": "display_data"
    }
   ],
   "source": [
    "plt.plot(model4_history.history['loss'])\n",
    "plt.plot(model4_history.history['val_loss'])\n",
    "plt.title('Loss Function Plot')\n",
    "plt.ylabel('Loss')\n",
    "plt.xlabel('Epoch')\n",
    "plt.legend(['Train', 'Validation'])\n",
    "plt.show()"
   ]
  },
  {
   "cell_type": "markdown",
   "metadata": {},
   "source": [
    "#### Predictions"
   ]
  },
  {
   "cell_type": "code",
   "execution_count": 181,
   "metadata": {},
   "outputs": [
    {
     "name": "stderr",
     "output_type": "stream",
     "text": [
      "/home/sujitd/.local/lib/python3.7/site-packages/tensorflow/python/keras/engine/sequential.py:450: UserWarning: `model.predict_classes()` is deprecated and will be removed after 2021-01-01. Please use instead:* `np.argmax(model.predict(x), axis=-1)`,   if your model does multi-class classification   (e.g. if it uses a `softmax` last-layer activation).* `(model.predict(x) > 0.5).astype(\"int32\")`,   if your model does binary classification   (e.g. if it uses a `sigmoid` last-layer activation).\n",
      "  warnings.warn('`model.predict_classes()` is deprecated and '\n"
     ]
    }
   ],
   "source": [
    "train_model4_pred = mlp_model4.predict_classes(X_train_proc_arr)\n",
    "val_model4_pred = mlp_model4.predict_classes(X_val_proc_arr)"
   ]
  },
  {
   "cell_type": "markdown",
   "metadata": {},
   "source": [
    "#### Getting evaluation metrics and evaluating model performance"
   ]
  },
  {
   "cell_type": "code",
   "execution_count": 182,
   "metadata": {},
   "outputs": [
    {
     "name": "stdout",
     "output_type": "stream",
     "text": [
      "[[33085  2122]\n",
      " [ 2285  5620]]\n",
      "[[14179   910]\n",
      " [ 1020  2368]]\n"
     ]
    }
   ],
   "source": [
    "confusion_matrix_train = confusion_matrix(y_train, train_model4_pred)\n",
    "confusion_matrix_val = confusion_matrix(y_val, val_model4_pred)\n",
    "\n",
    "print(confusion_matrix_train)\n",
    "print(confusion_matrix_val)"
   ]
  },
  {
   "cell_type": "markdown",
   "metadata": {},
   "source": [
    "#### Calculate Accuracy, True Positive Rate and True Negative Rates"
   ]
  },
  {
   "cell_type": "code",
   "execution_count": 183,
   "metadata": {},
   "outputs": [
    {
     "name": "stdout",
     "output_type": "stream",
     "text": [
      "Train Accuracy:  0.8977778808684357\n",
      "Train Recall:  0.7109424414927261\n",
      "Train Precision:  0.7259106174115215\n",
      "-----------------------\n",
      "Val Accuracy:  0.8955458137143476\n",
      "Val Recall:  0.6989374262101535\n",
      "Val Precision:  0.7223917022574741\n"
     ]
    }
   ],
   "source": [
    "accuracy_score_train = accuracy_score(y_train, train_model4_pred)\n",
    "accuracy_score_val = accuracy_score(y_val, val_model4_pred)\n",
    "\n",
    "recall_score_train = recall_score(y_train, train_model4_pred)\n",
    "recall_score_val = recall_score(y_val, val_model4_pred)\n",
    "\n",
    "precision_score_train = precision_score(y_train, train_model4_pred)\n",
    "precision_score_val = precision_score(y_val, val_model4_pred)\n",
    "\n",
    "\n",
    "print(\"Train Accuracy: \",accuracy_score_train)\n",
    "print(\"Train Recall: \",recall_score_train)\n",
    "print(\"Train Precision: \",precision_score_train)\n",
    "\n",
    "print(\"-----------------------\")\n",
    "\n",
    "print(\"Val Accuracy: \",accuracy_score_val)\n",
    "print(\"Val Recall: \",recall_score_val)\n",
    "print(\"Val Precision: \",precision_score_val)"
   ]
  },
  {
   "cell_type": "markdown",
   "metadata": {},
   "source": [
    "### MLP with 3 layers\n",
    "\n",
    "    1st hidden layer with 25 neurons\n",
    "    2nd hidden layer with 20 neurons"
   ]
  },
  {
   "cell_type": "code",
   "execution_count": 90,
   "metadata": {},
   "outputs": [],
   "source": [
    "mlp_model5 = Sequential()\n",
    "\n",
    "mlp_model5.add(Dense(25, input_shape=(27,), activation='relu', kernel_initializer='normal'))\n",
    "mlp_model5.add(Dense(20, activation='relu', kernel_initializer='normal'))\n",
    "mlp_model5.add(Dense(1, activation='sigmoid', kernel_initializer='normal'))"
   ]
  },
  {
   "cell_type": "code",
   "execution_count": 91,
   "metadata": {},
   "outputs": [
    {
     "name": "stdout",
     "output_type": "stream",
     "text": [
      "Model: \"sequential_5\"\n",
      "_________________________________________________________________\n",
      "Layer (type)                 Output Shape              Param #   \n",
      "=================================================================\n",
      "dense_10 (Dense)             (None, 25)                700       \n",
      "_________________________________________________________________\n",
      "dense_11 (Dense)             (None, 20)                520       \n",
      "_________________________________________________________________\n",
      "dense_12 (Dense)             (None, 1)                 21        \n",
      "=================================================================\n",
      "Total params: 1,241\n",
      "Trainable params: 1,241\n",
      "Non-trainable params: 0\n",
      "_________________________________________________________________\n"
     ]
    }
   ],
   "source": [
    "mlp_model5.summary()"
   ]
  },
  {
   "cell_type": "code",
   "execution_count": 92,
   "metadata": {},
   "outputs": [],
   "source": [
    "mlp_model5.compile(loss='binary_crossentropy', optimizer='sgd', metrics=tf.keras.metrics.Recall(name='recall'))"
   ]
  },
  {
   "cell_type": "code",
   "execution_count": 93,
   "metadata": {},
   "outputs": [
    {
     "name": "stdout",
     "output_type": "stream",
     "text": [
      "Epoch 1/100\n",
      "539/539 [==============================] - 1s 2ms/step - loss: 0.6064 - recall: 0.0037 - val_loss: 0.4970 - val_recall: 0.0000e+00\n",
      "\n",
      "Epoch 00001: val_loss did not improve from 0.41386\n",
      "Epoch 2/100\n",
      "539/539 [==============================] - 1s 1ms/step - loss: 0.4881 - recall: 0.0000e+00 - val_loss: 0.4808 - val_recall: 0.0000e+00\n",
      "\n",
      "Epoch 00002: val_loss did not improve from 0.41386\n",
      "Epoch 3/100\n",
      "539/539 [==============================] - 1s 1ms/step - loss: 0.4762 - recall: 0.0000e+00 - val_loss: 0.4793 - val_recall: 0.0000e+00\n",
      "\n",
      "Epoch 00003: val_loss did not improve from 0.41386\n",
      "Epoch 4/100\n",
      "539/539 [==============================] - 1s 1ms/step - loss: 0.4725 - recall: 0.0000e+00 - val_loss: 0.4790 - val_recall: 0.0000e+00\n",
      "\n",
      "Epoch 00004: val_loss did not improve from 0.41386\n",
      "Epoch 5/100\n",
      "539/539 [==============================] - 1s 1ms/step - loss: 0.4752 - recall: 0.0000e+00 - val_loss: 0.4787 - val_recall: 0.0000e+00\n",
      "\n",
      "Epoch 00005: val_loss did not improve from 0.41386\n",
      "Epoch 6/100\n",
      "539/539 [==============================] - 1s 1ms/step - loss: 0.4753 - recall: 0.0000e+00 - val_loss: 0.4783 - val_recall: 0.0000e+00\n",
      "\n",
      "Epoch 00006: val_loss did not improve from 0.41386\n",
      "Epoch 7/100\n",
      "539/539 [==============================] - 1s 1ms/step - loss: 0.4719 - recall: 0.0000e+00 - val_loss: 0.4779 - val_recall: 0.0000e+00\n",
      "\n",
      "Epoch 00007: val_loss did not improve from 0.41386\n",
      "Epoch 8/100\n",
      "539/539 [==============================] - 1s 1ms/step - loss: 0.4708 - recall: 0.0000e+00 - val_loss: 0.4773 - val_recall: 0.0000e+00\n",
      "\n",
      "Epoch 00008: val_loss did not improve from 0.41386\n",
      "Epoch 9/100\n",
      "539/539 [==============================] - 1s 1ms/step - loss: 0.4734 - recall: 0.0000e+00 - val_loss: 0.4767 - val_recall: 0.0000e+00\n",
      "\n",
      "Epoch 00009: val_loss did not improve from 0.41386\n",
      "Epoch 10/100\n",
      "539/539 [==============================] - 1s 1ms/step - loss: 0.4709 - recall: 0.0000e+00 - val_loss: 0.4760 - val_recall: 0.0000e+00\n",
      "\n",
      "Epoch 00010: val_loss did not improve from 0.41386\n",
      "Epoch 11/100\n",
      "539/539 [==============================] - 1s 1ms/step - loss: 0.4727 - recall: 0.0000e+00 - val_loss: 0.4753 - val_recall: 0.0000e+00\n",
      "\n",
      "Epoch 00011: val_loss did not improve from 0.41386\n",
      "Epoch 12/100\n",
      "539/539 [==============================] - 1s 1ms/step - loss: 0.4699 - recall: 0.0000e+00 - val_loss: 0.4746 - val_recall: 0.0000e+00\n",
      "\n",
      "Epoch 00012: val_loss did not improve from 0.41386\n",
      "Epoch 13/100\n",
      "539/539 [==============================] - 1s 1ms/step - loss: 0.4723 - recall: 0.0000e+00 - val_loss: 0.4739 - val_recall: 0.0000e+00\n",
      "\n",
      "Epoch 00013: val_loss did not improve from 0.41386\n",
      "Epoch 14/100\n",
      "539/539 [==============================] - 1s 1ms/step - loss: 0.4674 - recall: 0.0000e+00 - val_loss: 0.4731 - val_recall: 0.0000e+00\n",
      "\n",
      "Epoch 00014: val_loss did not improve from 0.41386\n",
      "Epoch 15/100\n",
      "539/539 [==============================] - 1s 1ms/step - loss: 0.4672 - recall: 0.0000e+00 - val_loss: 0.4724 - val_recall: 0.0000e+00\n",
      "\n",
      "Epoch 00015: val_loss did not improve from 0.41386\n",
      "Epoch 16/100\n",
      "539/539 [==============================] - 1s 1ms/step - loss: 0.4642 - recall: 0.0000e+00 - val_loss: 0.4717 - val_recall: 0.0000e+00\n",
      "\n",
      "Epoch 00016: val_loss did not improve from 0.41386\n",
      "Epoch 17/100\n",
      "539/539 [==============================] - 1s 1ms/step - loss: 0.4662 - recall: 0.0000e+00 - val_loss: 0.4710 - val_recall: 0.0000e+00\n",
      "\n",
      "Epoch 00017: val_loss did not improve from 0.41386\n",
      "Epoch 18/100\n",
      "539/539 [==============================] - 1s 1ms/step - loss: 0.4670 - recall: 0.0000e+00 - val_loss: 0.4703 - val_recall: 0.0000e+00\n",
      "\n",
      "Epoch 00018: val_loss did not improve from 0.41386\n",
      "Epoch 19/100\n",
      "539/539 [==============================] - 1s 965us/step - loss: 0.4670 - recall: 0.0000e+00 - val_loss: 0.4696 - val_recall: 0.0000e+00\n",
      "\n",
      "Epoch 00019: val_loss did not improve from 0.41386\n",
      "Epoch 20/100\n",
      "539/539 [==============================] - 1s 996us/step - loss: 0.4675 - recall: 0.0000e+00 - val_loss: 0.4688 - val_recall: 0.0000e+00\n",
      "\n",
      "Epoch 00020: val_loss did not improve from 0.41386\n",
      "Epoch 21/100\n",
      "539/539 [==============================] - 1s 1ms/step - loss: 0.4653 - recall: 0.0000e+00 - val_loss: 0.4682 - val_recall: 0.0000e+00\n",
      "\n",
      "Epoch 00021: val_loss did not improve from 0.41386\n",
      "Epoch 22/100\n",
      "539/539 [==============================] - 1s 1ms/step - loss: 0.4605 - recall: 0.0000e+00 - val_loss: 0.4673 - val_recall: 0.0000e+00\n",
      "\n",
      "Epoch 00022: val_loss did not improve from 0.41386\n",
      "Epoch 23/100\n",
      "539/539 [==============================] - 1s 1ms/step - loss: 0.4614 - recall: 0.0000e+00 - val_loss: 0.4666 - val_recall: 0.0000e+00\n",
      "\n",
      "Epoch 00023: val_loss did not improve from 0.41386\n",
      "Epoch 24/100\n",
      "539/539 [==============================] - 1s 1ms/step - loss: 0.4632 - recall: 0.0000e+00 - val_loss: 0.4659 - val_recall: 0.0000e+00\n",
      "\n",
      "Epoch 00024: val_loss did not improve from 0.41386\n",
      "Epoch 25/100\n",
      "539/539 [==============================] - 1s 1ms/step - loss: 0.4612 - recall: 0.0000e+00 - val_loss: 0.4651 - val_recall: 0.0000e+00\n",
      "\n",
      "Epoch 00025: val_loss did not improve from 0.41386\n",
      "Epoch 26/100\n",
      "539/539 [==============================] - 1s 1ms/step - loss: 0.4586 - recall: 0.0000e+00 - val_loss: 0.4645 - val_recall: 0.0000e+00\n",
      "\n",
      "Epoch 00026: val_loss did not improve from 0.41386\n",
      "Epoch 27/100\n",
      "539/539 [==============================] - 1s 1ms/step - loss: 0.4629 - recall: 0.0000e+00 - val_loss: 0.4638 - val_recall: 0.0000e+00\n",
      "\n",
      "Epoch 00027: val_loss did not improve from 0.41386\n",
      "Epoch 28/100\n",
      "539/539 [==============================] - 1s 1ms/step - loss: 0.4605 - recall: 0.0000e+00 - val_loss: 0.4634 - val_recall: 0.0000e+00\n",
      "\n",
      "Epoch 00028: val_loss did not improve from 0.41386\n",
      "Epoch 29/100\n",
      "539/539 [==============================] - 1s 1ms/step - loss: 0.4602 - recall: 0.0000e+00 - val_loss: 0.4627 - val_recall: 0.0000e+00\n",
      "\n",
      "Epoch 00029: val_loss did not improve from 0.41386\n",
      "Epoch 30/100\n",
      "539/539 [==============================] - 1s 1ms/step - loss: 0.4552 - recall: 0.0000e+00 - val_loss: 0.4621 - val_recall: 0.0000e+00\n",
      "\n",
      "Epoch 00030: val_loss did not improve from 0.41386\n",
      "Epoch 31/100\n",
      "539/539 [==============================] - 1s 1ms/step - loss: 0.4627 - recall: 0.0000e+00 - val_loss: 0.4619 - val_recall: 0.0000e+00\n",
      "\n",
      "Epoch 00031: val_loss did not improve from 0.41386\n",
      "Epoch 32/100\n",
      "539/539 [==============================] - 1s 1ms/step - loss: 0.4604 - recall: 0.0000e+00 - val_loss: 0.4611 - val_recall: 0.0000e+00\n",
      "\n",
      "Epoch 00032: val_loss did not improve from 0.41386\n",
      "Epoch 33/100\n",
      "539/539 [==============================] - 1s 1ms/step - loss: 0.4568 - recall: 0.0000e+00 - val_loss: 0.4606 - val_recall: 0.0000e+00\n",
      "\n",
      "Epoch 00033: val_loss did not improve from 0.41386\n",
      "Epoch 34/100\n",
      "539/539 [==============================] - 1s 1ms/step - loss: 0.4550 - recall: 0.0000e+00 - val_loss: 0.4603 - val_recall: 0.0000e+00\n",
      "\n",
      "Epoch 00034: val_loss did not improve from 0.41386\n",
      "Epoch 35/100\n",
      "539/539 [==============================] - 1s 1ms/step - loss: 0.4589 - recall: 0.0000e+00 - val_loss: 0.4597 - val_recall: 0.0000e+00\n",
      "\n",
      "Epoch 00035: val_loss did not improve from 0.41386\n",
      "Epoch 36/100\n",
      "539/539 [==============================] - 1s 1ms/step - loss: 0.4490 - recall: 0.0000e+00 - val_loss: 0.4591 - val_recall: 0.0000e+00\n",
      "\n",
      "Epoch 00036: val_loss did not improve from 0.41386\n",
      "Epoch 37/100\n",
      "539/539 [==============================] - 1s 1ms/step - loss: 0.4500 - recall: 0.0000e+00 - val_loss: 0.4588 - val_recall: 0.0000e+00\n",
      "\n",
      "Epoch 00037: val_loss did not improve from 0.41386\n",
      "Epoch 38/100\n",
      "539/539 [==============================] - 1s 1ms/step - loss: 0.4494 - recall: 0.0000e+00 - val_loss: 0.4581 - val_recall: 0.0000e+00\n",
      "\n",
      "Epoch 00038: val_loss did not improve from 0.41386\n",
      "Epoch 39/100\n",
      "539/539 [==============================] - 1s 1ms/step - loss: 0.4556 - recall: 0.0000e+00 - val_loss: 0.4576 - val_recall: 0.0000e+00\n",
      "\n",
      "Epoch 00039: val_loss did not improve from 0.41386\n",
      "Epoch 40/100\n",
      "539/539 [==============================] - 1s 1ms/step - loss: 0.4554 - recall: 0.0000e+00 - val_loss: 0.4571 - val_recall: 0.0000e+00\n",
      "\n",
      "Epoch 00040: val_loss did not improve from 0.41386\n",
      "Epoch 41/100\n",
      "539/539 [==============================] - 1s 1ms/step - loss: 0.4512 - recall: 0.0000e+00 - val_loss: 0.4565 - val_recall: 0.0000e+00\n",
      "\n",
      "Epoch 00041: val_loss did not improve from 0.41386\n",
      "Epoch 42/100\n",
      "539/539 [==============================] - 1s 1ms/step - loss: 0.4528 - recall: 0.0000e+00 - val_loss: 0.4561 - val_recall: 0.0000e+00\n",
      "\n",
      "Epoch 00042: val_loss did not improve from 0.41386\n",
      "Epoch 43/100\n",
      "539/539 [==============================] - 1s 1ms/step - loss: 0.4450 - recall: 0.0000e+00 - val_loss: 0.4556 - val_recall: 0.0000e+00\n",
      "\n",
      "Epoch 00043: val_loss did not improve from 0.41386\n",
      "Epoch 44/100\n",
      "539/539 [==============================] - 1s 1ms/step - loss: 0.4535 - recall: 0.0000e+00 - val_loss: 0.4551 - val_recall: 0.0000e+00\n",
      "\n",
      "Epoch 00044: val_loss did not improve from 0.41386\n",
      "Epoch 45/100\n",
      "539/539 [==============================] - 1s 1ms/step - loss: 0.4510 - recall: 0.0000e+00 - val_loss: 0.4544 - val_recall: 0.0000e+00\n",
      "\n",
      "Epoch 00045: val_loss did not improve from 0.41386\n",
      "Epoch 46/100\n",
      "539/539 [==============================] - 1s 1ms/step - loss: 0.4480 - recall: 0.0000e+00 - val_loss: 0.4547 - val_recall: 0.0000e+00\n",
      "\n",
      "Epoch 00046: val_loss did not improve from 0.41386\n",
      "Epoch 47/100\n",
      "539/539 [==============================] - 1s 1ms/step - loss: 0.4497 - recall: 0.0000e+00 - val_loss: 0.4539 - val_recall: 0.0000e+00\n",
      "\n",
      "Epoch 00047: val_loss did not improve from 0.41386\n",
      "Epoch 48/100\n",
      "539/539 [==============================] - 1s 1ms/step - loss: 0.4484 - recall: 0.0000e+00 - val_loss: 0.4533 - val_recall: 0.0000e+00\n",
      "\n",
      "Epoch 00048: val_loss did not improve from 0.41386\n",
      "Epoch 49/100\n",
      "539/539 [==============================] - 1s 1ms/step - loss: 0.4485 - recall: 0.0000e+00 - val_loss: 0.4534 - val_recall: 0.0000e+00\n",
      "\n",
      "Epoch 00049: val_loss did not improve from 0.41386\n",
      "Epoch 50/100\n",
      "539/539 [==============================] - 1s 1ms/step - loss: 0.4482 - recall: 0.0000e+00 - val_loss: 0.4523 - val_recall: 6.2500e-04\n",
      "\n",
      "Epoch 00050: val_loss did not improve from 0.41386\n",
      "Epoch 51/100\n",
      "539/539 [==============================] - 1s 1ms/step - loss: 0.4442 - recall: 0.0000e+00 - val_loss: 0.4515 - val_recall: 6.2500e-04\n",
      "\n",
      "Epoch 00051: val_loss did not improve from 0.41386\n",
      "Epoch 52/100\n",
      "539/539 [==============================] - 1s 1ms/step - loss: 0.4437 - recall: 0.0000e+00 - val_loss: 0.4509 - val_recall: 6.2500e-04\n",
      "\n",
      "Epoch 00052: val_loss did not improve from 0.41386\n",
      "Epoch 53/100\n",
      "539/539 [==============================] - 1s 1ms/step - loss: 0.4427 - recall: 1.8548e-04 - val_loss: 0.4509 - val_recall: 0.0012\n",
      "\n",
      "Epoch 00053: val_loss did not improve from 0.41386\n",
      "Epoch 54/100\n",
      "539/539 [==============================] - 1s 1ms/step - loss: 0.4386 - recall: 5.8765e-04 - val_loss: 0.4510 - val_recall: 0.0012\n",
      "\n",
      "Epoch 00054: val_loss did not improve from 0.41386\n",
      "Epoch 55/100\n",
      "539/539 [==============================] - 1s 1ms/step - loss: 0.4473 - recall: 6.0861e-04 - val_loss: 0.4493 - val_recall: 0.0019\n",
      "\n",
      "Epoch 00055: val_loss did not improve from 0.41386\n",
      "Epoch 56/100\n",
      "539/539 [==============================] - 1s 1ms/step - loss: 0.4397 - recall: 0.0020 - val_loss: 0.4492 - val_recall: 0.0025\n",
      "\n",
      "Epoch 00056: val_loss did not improve from 0.41386\n",
      "Epoch 57/100\n",
      "539/539 [==============================] - 1s 1ms/step - loss: 0.4414 - recall: 0.0020 - val_loss: 0.4483 - val_recall: 0.0031\n",
      "\n",
      "Epoch 00057: val_loss did not improve from 0.41386\n",
      "Epoch 58/100\n",
      "539/539 [==============================] - 1s 1ms/step - loss: 0.4331 - recall: 0.0028 - val_loss: 0.4477 - val_recall: 0.0037\n",
      "\n",
      "Epoch 00058: val_loss did not improve from 0.41386\n",
      "Epoch 59/100\n",
      "539/539 [==============================] - 1s 1ms/step - loss: 0.4340 - recall: 0.0065 - val_loss: 0.4472 - val_recall: 0.0056\n",
      "\n",
      "Epoch 00059: val_loss did not improve from 0.41386\n",
      "Epoch 60/100\n",
      "539/539 [==============================] - 1s 2ms/step - loss: 0.4413 - recall: 0.0046 - val_loss: 0.4469 - val_recall: 0.0081\n",
      "\n",
      "Epoch 00060: val_loss did not improve from 0.41386\n",
      "Epoch 61/100\n",
      "539/539 [==============================] - 1s 1ms/step - loss: 0.4419 - recall: 0.0113 - val_loss: 0.4465 - val_recall: 0.0181\n",
      "\n",
      "Epoch 00061: val_loss did not improve from 0.41386\n",
      "Epoch 62/100\n",
      "539/539 [==============================] - 1s 1ms/step - loss: 0.4318 - recall: 0.0263 - val_loss: 0.4456 - val_recall: 0.0381\n",
      "\n",
      "Epoch 00062: val_loss did not improve from 0.41386\n",
      "Epoch 63/100\n",
      "539/539 [==============================] - 1s 1ms/step - loss: 0.4344 - recall: 0.0577 - val_loss: 0.4455 - val_recall: 0.0581\n",
      "\n",
      "Epoch 00063: val_loss did not improve from 0.41386\n",
      "Epoch 64/100\n",
      "539/539 [==============================] - 1s 1ms/step - loss: 0.4309 - recall: 0.0740 - val_loss: 0.4447 - val_recall: 0.0656\n",
      "\n",
      "Epoch 00064: val_loss did not improve from 0.41386\n",
      "Epoch 65/100\n",
      "539/539 [==============================] - 1s 1ms/step - loss: 0.4336 - recall: 0.0772 - val_loss: 0.4435 - val_recall: 0.0719\n",
      "\n",
      "Epoch 00065: val_loss did not improve from 0.41386\n",
      "Epoch 66/100\n",
      "539/539 [==============================] - 1s 1ms/step - loss: 0.4377 - recall: 0.0767 - val_loss: 0.4429 - val_recall: 0.0725\n",
      "\n",
      "Epoch 00066: val_loss did not improve from 0.41386\n",
      "Epoch 67/100\n",
      "539/539 [==============================] - 1s 2ms/step - loss: 0.4303 - recall: 0.0826 - val_loss: 0.4423 - val_recall: 0.0737\n",
      "\n",
      "Epoch 00067: val_loss did not improve from 0.41386\n",
      "Epoch 68/100\n",
      "539/539 [==============================] - 1s 1ms/step - loss: 0.4314 - recall: 0.0779 - val_loss: 0.4439 - val_recall: 0.0719\n",
      "\n",
      "Epoch 00068: val_loss did not improve from 0.41386\n",
      "Epoch 69/100\n",
      "539/539 [==============================] - 1s 1ms/step - loss: 0.4326 - recall: 0.0781 - val_loss: 0.4423 - val_recall: 0.0750\n",
      "\n",
      "Epoch 00069: val_loss did not improve from 0.41386\n",
      "Epoch 70/100\n",
      "539/539 [==============================] - 1s 1ms/step - loss: 0.4274 - recall: 0.0875 - val_loss: 0.4411 - val_recall: 0.0775\n",
      "\n",
      "Epoch 00070: val_loss did not improve from 0.41386\n",
      "Epoch 71/100\n",
      "539/539 [==============================] - 1s 1ms/step - loss: 0.4325 - recall: 0.0864 - val_loss: 0.4421 - val_recall: 0.0838\n",
      "\n",
      "Epoch 00071: val_loss did not improve from 0.41386\n",
      "Epoch 72/100\n",
      "539/539 [==============================] - 1s 1ms/step - loss: 0.4312 - recall: 0.0884 - val_loss: 0.4401 - val_recall: 0.0812\n",
      "\n",
      "Epoch 00072: val_loss did not improve from 0.41386\n",
      "Epoch 73/100\n",
      "539/539 [==============================] - 1s 1ms/step - loss: 0.4295 - recall: 0.0833 - val_loss: 0.4396 - val_recall: 0.0819\n",
      "\n",
      "Epoch 00073: val_loss did not improve from 0.41386\n",
      "Epoch 74/100\n",
      "539/539 [==============================] - 1s 1ms/step - loss: 0.4274 - recall: 0.0910 - val_loss: 0.4393 - val_recall: 0.0856\n",
      "\n",
      "Epoch 00074: val_loss did not improve from 0.41386\n",
      "Epoch 75/100\n",
      "539/539 [==============================] - 1s 1ms/step - loss: 0.4268 - recall: 0.0926 - val_loss: 0.4405 - val_recall: 0.0825\n",
      "\n",
      "Epoch 00075: val_loss did not improve from 0.41386\n",
      "Epoch 76/100\n",
      "539/539 [==============================] - 1s 1ms/step - loss: 0.4297 - recall: 0.0948 - val_loss: 0.4376 - val_recall: 0.0875\n",
      "\n",
      "Epoch 00076: val_loss did not improve from 0.41386\n",
      "Epoch 77/100\n",
      "539/539 [==============================] - 1s 1ms/step - loss: 0.4269 - recall: 0.0953 - val_loss: 0.4371 - val_recall: 0.0925\n",
      "\n",
      "Epoch 00077: val_loss did not improve from 0.41386\n",
      "Epoch 78/100\n",
      "539/539 [==============================] - 1s 1ms/step - loss: 0.4255 - recall: 0.0922 - val_loss: 0.4372 - val_recall: 0.0919\n",
      "\n",
      "Epoch 00078: val_loss did not improve from 0.41386\n",
      "Epoch 79/100\n",
      "539/539 [==============================] - 1s 1ms/step - loss: 0.4240 - recall: 0.1023 - val_loss: 0.4367 - val_recall: 0.0956\n",
      "\n",
      "Epoch 00079: val_loss did not improve from 0.41386\n",
      "Epoch 80/100\n",
      "539/539 [==============================] - 1s 1ms/step - loss: 0.4243 - recall: 0.0988 - val_loss: 0.4355 - val_recall: 0.0944\n",
      "\n",
      "Epoch 00080: val_loss did not improve from 0.41386\n",
      "Epoch 81/100\n",
      "539/539 [==============================] - 1s 1ms/step - loss: 0.4220 - recall: 0.1028 - val_loss: 0.4356 - val_recall: 0.0962\n",
      "\n",
      "Epoch 00081: val_loss did not improve from 0.41386\n",
      "Epoch 82/100\n",
      "539/539 [==============================] - 1s 2ms/step - loss: 0.4217 - recall: 0.1055 - val_loss: 0.4417 - val_recall: 0.1125\n",
      "\n",
      "Epoch 00082: val_loss did not improve from 0.41386\n",
      "Epoch 83/100\n",
      "539/539 [==============================] - 1s 1ms/step - loss: 0.4229 - recall: 0.1059 - val_loss: 0.4377 - val_recall: 0.1119\n",
      "\n",
      "Epoch 00083: val_loss did not improve from 0.41386\n",
      "Epoch 84/100\n",
      "539/539 [==============================] - 1s 2ms/step - loss: 0.4227 - recall: 0.1024 - val_loss: 0.4335 - val_recall: 0.1019\n",
      "\n",
      "Epoch 00084: val_loss did not improve from 0.41386\n",
      "Epoch 85/100\n",
      "539/539 [==============================] - 1s 1ms/step - loss: 0.4211 - recall: 0.1033 - val_loss: 0.4335 - val_recall: 0.1100\n",
      "\n",
      "Epoch 00085: val_loss did not improve from 0.41386\n",
      "Epoch 86/100\n",
      "539/539 [==============================] - 1s 1ms/step - loss: 0.4245 - recall: 0.1074 - val_loss: 0.4354 - val_recall: 0.0981\n",
      "\n",
      "Epoch 00086: val_loss did not improve from 0.41386\n",
      "Epoch 87/100\n",
      "539/539 [==============================] - 1s 1ms/step - loss: 0.4174 - recall: 0.1096 - val_loss: 0.4357 - val_recall: 0.0981\n",
      "\n",
      "Epoch 00087: val_loss did not improve from 0.41386\n",
      "Epoch 88/100\n",
      "539/539 [==============================] - 1s 1ms/step - loss: 0.4184 - recall: 0.1166 - val_loss: 0.4344 - val_recall: 0.1013\n",
      "\n",
      "Epoch 00088: val_loss did not improve from 0.41386\n",
      "Epoch 89/100\n",
      "539/539 [==============================] - 1s 1ms/step - loss: 0.4189 - recall: 0.1140 - val_loss: 0.4332 - val_recall: 0.1044\n",
      "\n",
      "Epoch 00089: val_loss did not improve from 0.41386\n",
      "Epoch 00089: early stopping\n"
     ]
    }
   ],
   "source": [
    "model5_history = mlp_model5.fit(X_train_proc_arr, y_train, epochs=100, batch_size=64, validation_split=0.2, callbacks=callbacks)"
   ]
  },
  {
   "cell_type": "markdown",
   "metadata": {},
   "source": [
    "##### Plot"
   ]
  },
  {
   "cell_type": "code",
   "execution_count": 94,
   "metadata": {},
   "outputs": [
    {
     "name": "stdout",
     "output_type": "stream",
     "text": [
      "dict_keys(['loss', 'recall', 'val_loss', 'val_recall'])\n"
     ]
    }
   ],
   "source": [
    "print(model5_history.history.keys())"
   ]
  },
  {
   "cell_type": "code",
   "execution_count": 95,
   "metadata": {},
   "outputs": [
    {
     "data": {
      "image/png": "[encoded data removed]",
      "text/plain": [
       "<Figure size 432x288 with 1 Axes>"
      ]
     },
     "metadata": {
      "needs_background": "light"
     },
     "output_type": "display_data"
    }
   ],
   "source": [
    "plt.plot(model5_history.history['recall'])\n",
    "plt.plot(model5_history.history['val_recall'])\n",
    "plt.title('Recall Plot')\n",
    "plt.ylabel('Recall')\n",
    "plt.xlabel('Epoch')\n",
    "plt.legend(['Train', 'Validation'])\n",
    "plt.show()"
   ]
  },
  {
   "cell_type": "code",
   "execution_count": 96,
   "metadata": {},
   "outputs": [
    {
     "data": {
      "image/png": "[encoded data removed]",
      "text/plain": [
       "<Figure size 432x288 with 1 Axes>"
      ]
     },
     "metadata": {
      "needs_background": "light"
     },
     "output_type": "display_data"
    }
   ],
   "source": [
    "plt.plot(model5_history.history['loss'])\n",
    "plt.plot(model5_history.history['val_loss'])\n",
    "plt.title('Loss Function Plot')\n",
    "plt.ylabel('Loss')\n",
    "plt.xlabel('Epoch')\n",
    "plt.legend(['Train', 'Validation'])\n",
    "plt.show()"
   ]
  },
  {
   "cell_type": "markdown",
   "metadata": {},
   "source": [
    "#### Predictions"
   ]
  },
  {
   "cell_type": "code",
   "execution_count": 97,
   "metadata": {},
   "outputs": [
    {
     "name": "stderr",
     "output_type": "stream",
     "text": [
      "/home/sujitd/.local/lib/python3.7/site-packages/tensorflow/python/keras/engine/sequential.py:450: UserWarning: `model.predict_classes()` is deprecated and will be removed after 2021-01-01. Please use instead:* `np.argmax(model.predict(x), axis=-1)`,   if your model does multi-class classification   (e.g. if it uses a `softmax` last-layer activation).* `(model.predict(x) > 0.5).astype(\"int32\")`,   if your model does binary classification   (e.g. if it uses a `sigmoid` last-layer activation).\n",
      "  warnings.warn('`model.predict_classes()` is deprecated and '\n"
     ]
    }
   ],
   "source": [
    "train_model5_pred = mlp_model5.predict_classes(X_train_proc_arr)\n",
    "val_model5_pred = mlp_model5.predict_classes(X_val_proc_arr)"
   ]
  },
  {
   "cell_type": "markdown",
   "metadata": {},
   "source": [
    "#### Getting evaluation metrics and evaluating model performance"
   ]
  },
  {
   "cell_type": "code",
   "execution_count": 98,
   "metadata": {},
   "outputs": [
    {
     "name": "stdout",
     "output_type": "stream",
     "text": [
      "[[34784   423]\n",
      " [ 7047   858]]\n",
      "[[14878   211]\n",
      " [ 3002   386]]\n"
     ]
    }
   ],
   "source": [
    "confusion_matrix_train = confusion_matrix(y_train, train_model5_pred)\n",
    "confusion_matrix_val = confusion_matrix(y_val, val_model5_pred)\n",
    "\n",
    "print(confusion_matrix_train)\n",
    "print(confusion_matrix_val)"
   ]
  },
  {
   "cell_type": "markdown",
   "metadata": {},
   "source": [
    "#### Calculate Accuracy, True Positive Rate and True Negative Rates"
   ]
  },
  {
   "cell_type": "code",
   "execution_count": 99,
   "metadata": {},
   "outputs": [
    {
     "name": "stdout",
     "output_type": "stream",
     "text": [
      "Train Accuracy:  0.8267303766932641\n",
      "Train Recall:  0.10853889943074004\n",
      "Train Precision:  0.6697892271662763\n",
      "-----------------------\n",
      "Val Accuracy:  0.8261081344374087\n",
      "Val Recall:  0.11393152302243212\n",
      "Val Precision:  0.6465661641541038\n"
     ]
    }
   ],
   "source": [
    "accuracy_score_train = accuracy_score(y_train, train_model5_pred)\n",
    "accuracy_score_val = accuracy_score(y_val, val_model5_pred)\n",
    "\n",
    "recall_score_train = recall_score(y_train, train_model5_pred)\n",
    "recall_score_val = recall_score(y_val, val_model5_pred)\n",
    "\n",
    "precision_score_train = precision_score(y_train, train_model5_pred)\n",
    "precision_score_val = precision_score(y_val, val_model5_pred)\n",
    "\n",
    "\n",
    "print(\"Train Accuracy: \",accuracy_score_train)\n",
    "print(\"Train Recall: \",recall_score_train)\n",
    "print(\"Train Precision: \",precision_score_train)\n",
    "\n",
    "print(\"-----------------------\")\n",
    "\n",
    "print(\"Val Accuracy: \",accuracy_score_val)\n",
    "print(\"Val Recall: \",recall_score_val)\n",
    "print(\"Val Precision: \",precision_score_val)"
   ]
  },
  {
   "cell_type": "markdown",
   "metadata": {},
   "source": [
    "### MLP with 4 layers\n",
    "\n",
    "    1st hidden layer with 25 neurons\n",
    "    2nd hidden layer with 20 neurons"
   ]
  },
  {
   "cell_type": "code",
   "execution_count": 100,
   "metadata": {},
   "outputs": [],
   "source": [
    "mlp_model6 = Sequential()\n",
    "\n",
    "mlp_model6.add(Dense(256, input_shape=(27,), activation='relu', kernel_initializer='normal'))\n",
    "mlp_model6.add(Dense(64, activation='relu'))\n",
    "mlp_model6.add(Dense(8, activation='relu'))\n",
    "mlp_model6.add(Dense(1, activation='sigmoid'))"
   ]
  },
  {
   "cell_type": "code",
   "execution_count": 101,
   "metadata": {},
   "outputs": [
    {
     "name": "stdout",
     "output_type": "stream",
     "text": [
      "Model: \"sequential_6\"\n",
      "_________________________________________________________________\n",
      "Layer (type)                 Output Shape              Param #   \n",
      "=================================================================\n",
      "dense_13 (Dense)             (None, 256)               7168      \n",
      "_________________________________________________________________\n",
      "dense_14 (Dense)             (None, 64)                16448     \n",
      "_________________________________________________________________\n",
      "dense_15 (Dense)             (None, 8)                 520       \n",
      "_________________________________________________________________\n",
      "dense_16 (Dense)             (None, 1)                 9         \n",
      "=================================================================\n",
      "Total params: 24,145\n",
      "Trainable params: 24,145\n",
      "Non-trainable params: 0\n",
      "_________________________________________________________________\n"
     ]
    }
   ],
   "source": [
    "mlp_model6.summary()"
   ]
  },
  {
   "cell_type": "code",
   "execution_count": 102,
   "metadata": {},
   "outputs": [],
   "source": [
    "mlp_model6.compile(loss='binary_crossentropy', optimizer='sgd', metrics=tf.keras.metrics.Recall(name='recall'))"
   ]
  },
  {
   "cell_type": "code",
   "execution_count": 103,
   "metadata": {},
   "outputs": [],
   "source": [
    "early_stopping = EarlyStopping(monitor='val_recall', patience=5, mode='max', verbose=1)#min_delta=0.001\n",
    "    \n",
    "model_checkpoint = ModelCheckpoint(\n",
    "        os.path.join(cwd, 'mlp_backorders.h5'),\n",
    "        monitor='val_recall',\n",
    "        mode='max',\n",
    "        save_best_only=True,\n",
    "        save_weights_only=True,\n",
    "        verbose=1)"
   ]
  },
  {
   "cell_type": "code",
   "execution_count": 104,
   "metadata": {},
   "outputs": [],
   "source": [
    "callbacks1 = [early_stopping, model_checkpoint]"
   ]
  },
  {
   "cell_type": "code",
   "execution_count": 105,
   "metadata": {},
   "outputs": [
    {
     "name": "stdout",
     "output_type": "stream",
     "text": [
      "Epoch 1/100\n",
      "539/539 [==============================] - 2s 2ms/step - loss: 0.6021 - recall: 0.0923 - val_loss: 0.4745 - val_recall: 0.0019\n",
      "\n",
      "Epoch 00001: val_recall improved from -inf to 0.00187, saving model to /home/sujitd/7221o/day02/mlp_backorders.h5\n",
      "Epoch 2/100\n",
      "539/539 [==============================] - 1s 1ms/step - loss: 0.4695 - recall: 0.0027 - val_loss: 0.4701 - val_recall: 0.0025\n",
      "\n",
      "Epoch 00002: val_recall improved from 0.00187 to 0.00250, saving model to /home/sujitd/7221o/day02/mlp_backorders.h5\n",
      "Epoch 3/100\n",
      "539/539 [==============================] - 1s 2ms/step - loss: 0.4630 - recall: 0.0049 - val_loss: 0.4672 - val_recall: 0.0025\n",
      "\n",
      "Epoch 00003: val_recall did not improve from 0.00250\n",
      "Epoch 4/100\n",
      "539/539 [==============================] - 1s 1ms/step - loss: 0.4581 - recall: 0.0054 - val_loss: 0.4649 - val_recall: 0.0031\n",
      "\n",
      "Epoch 00004: val_recall improved from 0.00250 to 0.00313, saving model to /home/sujitd/7221o/day02/mlp_backorders.h5\n",
      "Epoch 5/100\n",
      "539/539 [==============================] - 1s 1ms/step - loss: 0.4593 - recall: 0.0039 - val_loss: 0.4627 - val_recall: 0.0044\n",
      "\n",
      "Epoch 00005: val_recall improved from 0.00313 to 0.00438, saving model to /home/sujitd/7221o/day02/mlp_backorders.h5\n",
      "Epoch 6/100\n",
      "539/539 [==============================] - 1s 1ms/step - loss: 0.4580 - recall: 0.0084 - val_loss: 0.4610 - val_recall: 0.0063\n",
      "\n",
      "Epoch 00006: val_recall improved from 0.00438 to 0.00625, saving model to /home/sujitd/7221o/day02/mlp_backorders.h5\n",
      "Epoch 7/100\n",
      "539/539 [==============================] - 1s 1ms/step - loss: 0.4534 - recall: 0.0074 - val_loss: 0.4598 - val_recall: 0.0069\n",
      "\n",
      "Epoch 00007: val_recall improved from 0.00625 to 0.00687, saving model to /home/sujitd/7221o/day02/mlp_backorders.h5\n",
      "Epoch 8/100\n",
      "539/539 [==============================] - 1s 1ms/step - loss: 0.4506 - recall: 0.0074 - val_loss: 0.4579 - val_recall: 0.0081\n",
      "\n",
      "Epoch 00008: val_recall improved from 0.00687 to 0.00812, saving model to /home/sujitd/7221o/day02/mlp_backorders.h5\n",
      "Epoch 9/100\n",
      "539/539 [==============================] - 1s 1ms/step - loss: 0.4527 - recall: 0.0129 - val_loss: 0.4568 - val_recall: 0.0100\n",
      "\n",
      "Epoch 00009: val_recall improved from 0.00812 to 0.01000, saving model to /home/sujitd/7221o/day02/mlp_backorders.h5\n",
      "Epoch 10/100\n",
      "539/539 [==============================] - 1s 1ms/step - loss: 0.4498 - recall: 0.0122 - val_loss: 0.4544 - val_recall: 0.0106\n",
      "\n",
      "Epoch 00010: val_recall improved from 0.01000 to 0.01063, saving model to /home/sujitd/7221o/day02/mlp_backorders.h5\n",
      "Epoch 11/100\n",
      "539/539 [==============================] - 1s 2ms/step - loss: 0.4498 - recall: 0.0158 - val_loss: 0.4531 - val_recall: 0.0137\n",
      "\n",
      "Epoch 00011: val_recall improved from 0.01063 to 0.01375, saving model to /home/sujitd/7221o/day02/mlp_backorders.h5\n",
      "Epoch 12/100\n",
      "539/539 [==============================] - 1s 2ms/step - loss: 0.4463 - recall: 0.0203 - val_loss: 0.4520 - val_recall: 0.0188\n",
      "\n",
      "Epoch 00012: val_recall improved from 0.01375 to 0.01875, saving model to /home/sujitd/7221o/day02/mlp_backorders.h5\n",
      "Epoch 13/100\n",
      "539/539 [==============================] - 1s 2ms/step - loss: 0.4480 - recall: 0.0217 - val_loss: 0.4497 - val_recall: 0.0250\n",
      "\n",
      "Epoch 00013: val_recall improved from 0.01875 to 0.02500, saving model to /home/sujitd/7221o/day02/mlp_backorders.h5\n",
      "Epoch 14/100\n",
      "539/539 [==============================] - 1s 2ms/step - loss: 0.4434 - recall: 0.0244 - val_loss: 0.4483 - val_recall: 0.0325\n",
      "\n",
      "Epoch 00014: val_recall improved from 0.02500 to 0.03250, saving model to /home/sujitd/7221o/day02/mlp_backorders.h5\n",
      "Epoch 15/100\n",
      "539/539 [==============================] - 1s 2ms/step - loss: 0.4411 - recall: 0.0357 - val_loss: 0.4458 - val_recall: 0.0369\n",
      "\n",
      "Epoch 00015: val_recall improved from 0.03250 to 0.03687, saving model to /home/sujitd/7221o/day02/mlp_backorders.h5\n",
      "Epoch 16/100\n",
      "539/539 [==============================] - 1s 1ms/step - loss: 0.4368 - recall: 0.0482 - val_loss: 0.4449 - val_recall: 0.0431\n",
      "\n",
      "Epoch 00016: val_recall improved from 0.03687 to 0.04312, saving model to /home/sujitd/7221o/day02/mlp_backorders.h5\n",
      "Epoch 17/100\n",
      "539/539 [==============================] - 1s 1ms/step - loss: 0.4381 - recall: 0.0487 - val_loss: 0.4434 - val_recall: 0.0450\n",
      "\n",
      "Epoch 00017: val_recall improved from 0.04312 to 0.04500, saving model to /home/sujitd/7221o/day02/mlp_backorders.h5\n",
      "Epoch 18/100\n",
      "539/539 [==============================] - 1s 1ms/step - loss: 0.4378 - recall: 0.0579 - val_loss: 0.4411 - val_recall: 0.0481\n",
      "\n",
      "Epoch 00018: val_recall improved from 0.04500 to 0.04812, saving model to /home/sujitd/7221o/day02/mlp_backorders.h5\n",
      "Epoch 19/100\n",
      "539/539 [==============================] - 1s 2ms/step - loss: 0.4370 - recall: 0.0605 - val_loss: 0.4423 - val_recall: 0.0469\n",
      "\n",
      "Epoch 00019: val_recall did not improve from 0.04812\n",
      "Epoch 20/100\n",
      "539/539 [==============================] - 1s 2ms/step - loss: 0.4386 - recall: 0.0646 - val_loss: 0.4388 - val_recall: 0.0562\n",
      "\n",
      "Epoch 00020: val_recall improved from 0.04812 to 0.05625, saving model to /home/sujitd/7221o/day02/mlp_backorders.h5\n",
      "Epoch 21/100\n",
      "539/539 [==============================] - 1s 1ms/step - loss: 0.4343 - recall: 0.0654 - val_loss: 0.4366 - val_recall: 0.0650\n",
      "\n",
      "Epoch 00021: val_recall improved from 0.05625 to 0.06500, saving model to /home/sujitd/7221o/day02/mlp_backorders.h5\n",
      "Epoch 22/100\n",
      "539/539 [==============================] - 1s 2ms/step - loss: 0.4285 - recall: 0.0751 - val_loss: 0.4349 - val_recall: 0.0669\n",
      "\n",
      "Epoch 00022: val_recall improved from 0.06500 to 0.06688, saving model to /home/sujitd/7221o/day02/mlp_backorders.h5\n",
      "Epoch 23/100\n",
      "539/539 [==============================] - 1s 2ms/step - loss: 0.4298 - recall: 0.0747 - val_loss: 0.4398 - val_recall: 0.0575\n",
      "\n",
      "Epoch 00023: val_recall did not improve from 0.06688\n",
      "Epoch 24/100\n",
      "539/539 [==============================] - 1s 2ms/step - loss: 0.4305 - recall: 0.0749 - val_loss: 0.4326 - val_recall: 0.0737\n",
      "\n",
      "Epoch 00024: val_recall improved from 0.06688 to 0.07375, saving model to /home/sujitd/7221o/day02/mlp_backorders.h5\n",
      "Epoch 25/100\n",
      "539/539 [==============================] - 1s 1ms/step - loss: 0.4283 - recall: 0.0828 - val_loss: 0.4322 - val_recall: 0.0781\n",
      "\n",
      "Epoch 00025: val_recall improved from 0.07375 to 0.07812, saving model to /home/sujitd/7221o/day02/mlp_backorders.h5\n",
      "Epoch 26/100\n",
      "539/539 [==============================] - 1s 1ms/step - loss: 0.4235 - recall: 0.0868 - val_loss: 0.4305 - val_recall: 0.0812\n",
      "\n",
      "Epoch 00026: val_recall improved from 0.07812 to 0.08125, saving model to /home/sujitd/7221o/day02/mlp_backorders.h5\n",
      "Epoch 27/100\n",
      "539/539 [==============================] - 1s 2ms/step - loss: 0.4276 - recall: 0.0839 - val_loss: 0.4372 - val_recall: 0.0706\n",
      "\n",
      "Epoch 00027: val_recall did not improve from 0.08125\n",
      "Epoch 28/100\n",
      "539/539 [==============================] - 1s 1ms/step - loss: 0.4243 - recall: 0.0931 - val_loss: 0.4368 - val_recall: 0.0737\n",
      "\n",
      "Epoch 00028: val_recall did not improve from 0.08125\n",
      "Epoch 29/100\n",
      "539/539 [==============================] - 1s 1ms/step - loss: 0.4205 - recall: 0.0950 - val_loss: 0.4282 - val_recall: 0.0944\n",
      "\n",
      "Epoch 00029: val_recall improved from 0.08125 to 0.09437, saving model to /home/sujitd/7221o/day02/mlp_backorders.h5\n",
      "Epoch 30/100\n",
      "539/539 [==============================] - 1s 1ms/step - loss: 0.4210 - recall: 0.0903 - val_loss: 0.4351 - val_recall: 0.1081\n",
      "\n",
      "Epoch 00030: val_recall improved from 0.09437 to 0.10813, saving model to /home/sujitd/7221o/day02/mlp_backorders.h5\n",
      "Epoch 31/100\n",
      "539/539 [==============================] - 1s 2ms/step - loss: 0.4247 - recall: 0.0966 - val_loss: 0.4237 - val_recall: 0.0975\n",
      "\n",
      "Epoch 00031: val_recall did not improve from 0.10813\n",
      "Epoch 32/100\n",
      "539/539 [==============================] - 1s 1ms/step - loss: 0.4226 - recall: 0.1028 - val_loss: 0.4382 - val_recall: 0.0806\n",
      "\n",
      "Epoch 00032: val_recall did not improve from 0.10813\n",
      "Epoch 33/100\n",
      "539/539 [==============================] - 1s 2ms/step - loss: 0.4199 - recall: 0.0988 - val_loss: 0.4214 - val_recall: 0.1037\n",
      "\n",
      "Epoch 00033: val_recall did not improve from 0.10813\n",
      "Epoch 34/100\n",
      "539/539 [==============================] - 1s 2ms/step - loss: 0.4176 - recall: 0.1152 - val_loss: 0.4195 - val_recall: 0.0956\n",
      "\n",
      "Epoch 00034: val_recall did not improve from 0.10813\n",
      "Epoch 35/100\n",
      "539/539 [==============================] - 1s 2ms/step - loss: 0.4207 - recall: 0.1081 - val_loss: 0.4191 - val_recall: 0.1031\n",
      "\n",
      "Epoch 00035: val_recall did not improve from 0.10813\n",
      "Epoch 00035: early stopping\n"
     ]
    }
   ],
   "source": [
    "model6_history = mlp_model6.fit(X_train_proc_arr, y_train, epochs=100, batch_size=64, validation_split=0.2, callbacks=callbacks1)"
   ]
  },
  {
   "cell_type": "markdown",
   "metadata": {},
   "source": [
    "##### Plot"
   ]
  },
  {
   "cell_type": "code",
   "execution_count": 106,
   "metadata": {},
   "outputs": [
    {
     "name": "stdout",
     "output_type": "stream",
     "text": [
      "dict_keys(['loss', 'recall', 'val_loss', 'val_recall'])\n"
     ]
    }
   ],
   "source": [
    "print(model6_history.history.keys())"
   ]
  },
  {
   "cell_type": "code",
   "execution_count": 107,
   "metadata": {},
   "outputs": [
    {
     "data": {
      "image/png": "[encoded data removed]",
      "text/plain": [
       "<Figure size 432x288 with 1 Axes>"
      ]
     },
     "metadata": {
      "needs_background": "light"
     },
     "output_type": "display_data"
    }
   ],
   "source": [
    "plt.plot(model6_history.history['recall'])\n",
    "plt.plot(model6_history.history['val_recall'])\n",
    "plt.title('Recall Plot')\n",
    "plt.ylabel('Recall')\n",
    "plt.xlabel('Epoch')\n",
    "plt.legend(['Train', 'Validation'])\n",
    "plt.show()"
   ]
  },
  {
   "cell_type": "code",
   "execution_count": 108,
   "metadata": {},
   "outputs": [
    {
     "data": {
      "image/png": "[encoded data removed]",
      "text/plain": [
       "<Figure size 432x288 with 1 Axes>"
      ]
     },
     "metadata": {
      "needs_background": "light"
     },
     "output_type": "display_data"
    }
   ],
   "source": [
    "plt.plot(model6_history.history['loss'])\n",
    "plt.plot(model6_history.history['val_loss'])\n",
    "plt.title('Loss Function Plot')\n",
    "plt.ylabel('Loss')\n",
    "plt.xlabel('Epoch')\n",
    "plt.legend(['Train', 'Validation'])\n",
    "plt.show()"
   ]
  },
  {
   "cell_type": "markdown",
   "metadata": {},
   "source": [
    "#### Predictions"
   ]
  },
  {
   "cell_type": "code",
   "execution_count": 109,
   "metadata": {},
   "outputs": [
    {
     "name": "stderr",
     "output_type": "stream",
     "text": [
      "/home/sujitd/.local/lib/python3.7/site-packages/tensorflow/python/keras/engine/sequential.py:450: UserWarning: `model.predict_classes()` is deprecated and will be removed after 2021-01-01. Please use instead:* `np.argmax(model.predict(x), axis=-1)`,   if your model does multi-class classification   (e.g. if it uses a `softmax` last-layer activation).* `(model.predict(x) > 0.5).astype(\"int32\")`,   if your model does binary classification   (e.g. if it uses a `sigmoid` last-layer activation).\n",
      "  warnings.warn('`model.predict_classes()` is deprecated and '\n"
     ]
    }
   ],
   "source": [
    "train_model6_pred = mlp_model6.predict_classes(X_train_proc_arr)\n",
    "val_model6_pred = mlp_model6.predict_classes(X_val_proc_arr)"
   ]
  },
  {
   "cell_type": "markdown",
   "metadata": {},
   "source": [
    "#### Getting evaluation metrics and evaluating model performance"
   ]
  },
  {
   "cell_type": "code",
   "execution_count": 110,
   "metadata": {},
   "outputs": [
    {
     "name": "stdout",
     "output_type": "stream",
     "text": [
      "[[34820   387]\n",
      " [ 7044   861]]\n",
      "[[14910   179]\n",
      " [ 3006   382]]\n"
     ]
    }
   ],
   "source": [
    "confusion_matrix_train = confusion_matrix(y_train, train_model6_pred)\n",
    "confusion_matrix_val = confusion_matrix(y_val, val_model6_pred)\n",
    "\n",
    "print(confusion_matrix_train)\n",
    "print(confusion_matrix_val)"
   ]
  },
  {
   "cell_type": "markdown",
   "metadata": {},
   "source": [
    "#### Calculate Accuracy, True Positive Rate and True Negative Rates"
   ]
  },
  {
   "cell_type": "code",
   "execution_count": 111,
   "metadata": {},
   "outputs": [
    {
     "name": "stdout",
     "output_type": "stream",
     "text": [
      "Train Accuracy:  0.8276349972165522\n",
      "Train Recall:  0.10891840607210626\n",
      "Train Precision:  0.6899038461538461\n",
      "-----------------------\n",
      "Val Accuracy:  0.8276235319586513\n",
      "Val Recall:  0.1127508854781582\n",
      "Val Precision:  0.6809269162210339\n"
     ]
    }
   ],
   "source": [
    "accuracy_score_train = accuracy_score(y_train, train_model6_pred)\n",
    "accuracy_score_val = accuracy_score(y_val, val_model6_pred)\n",
    "\n",
    "recall_score_train = recall_score(y_train, train_model6_pred)\n",
    "recall_score_val = recall_score(y_val, val_model6_pred)\n",
    "\n",
    "precision_score_train = precision_score(y_train, train_model6_pred)\n",
    "precision_score_val = precision_score(y_val, val_model6_pred)\n",
    "\n",
    "\n",
    "print(\"Train Accuracy: \",accuracy_score_train)\n",
    "print(\"Train Recall: \",recall_score_train)\n",
    "print(\"Train Precision: \",precision_score_train)\n",
    "\n",
    "print(\"-----------------------\")\n",
    "\n",
    "print(\"Val Accuracy: \",accuracy_score_val)\n",
    "print(\"Val Recall: \",recall_score_val)\n",
    "print(\"Val Precision: \",precision_score_val)"
   ]
  },
  {
   "cell_type": "markdown",
   "metadata": {},
   "source": [
    "Observation:\n",
    "\n",
    "    Model 6 performs better with 256, 64 and 8 neurons\n",
    "    "
   ]
  },
  {
   "cell_type": "markdown",
   "metadata": {},
   "source": [
    "### Reference Links:\n",
    "\n",
    "https://machinelearningmastery.com/adam-optimization-algorithm-for-deep-learning/\n",
    "\n",
    "https://keras.io/"
   ]
  }
 ],
 "metadata": {
  "kernelspec": {
   "display_name": "Python 3",
   "language": "python",
   "name": "python3"
  },
  "language_info": {
   "codemirror_mode": {
    "name": "ipython",
    "version": 3
   },
   "file_extension": ".py",
   "mimetype": "text/x-python",
   "name": "python",
   "nbconvert_exporter": "python",
   "pygments_lexer": "ipython3",
   "version": "3.7.6"
  },
  "toc": {
   "base_numbering": 1,
   "nav_menu": {},
   "number_sections": true,
   "sideBar": true,
   "skip_h1_title": false,
   "title_cell": "Table of Contents",
   "title_sidebar": "Contents",
   "toc_cell": false,
   "toc_position": {},
   "toc_section_display": true,
   "toc_window_display": false
  }
 },
 "nbformat": 4,
 "nbformat_minor": 4
}
