{
 "cells": [
  {
   "cell_type": "markdown",
   "metadata": {},
   "source": [
    "#### Install the package pulp"
   ]
  },
  {
   "cell_type": "code",
   "execution_count": 1,
   "metadata": {
    "ExecuteTime": {
     "end_time": "2021-04-07T15:08:28.888604Z",
     "start_time": "2021-04-07T15:08:28.883067Z"
    }
   },
   "outputs": [],
   "source": [
    "#!pip install pulp"
   ]
  },
  {
   "cell_type": "markdown",
   "metadata": {},
   "source": [
    "# Problem 1 \n",
    "\n",
    "####  Manufacturing two products using two resources"
   ]
  },
  {
   "cell_type": "markdown",
   "metadata": {},
   "source": [
    "*   Consider a small manufacturer making two products P1 and P2. Two resources R1 and R2 are required to make these products. Each unit of product P1 requires 1 unit of R1 and 3 units of R2. Each unit of product P2 requires 1 unit of R1 and 2 units of R2. The manufacturer has 5 units of R1 and 12 of R2 available The manufacturer also makes a profit of Rs 6 per unit of product P1 sold and Rs 5 per unit of product P2 sold\n",
    "\n",
    "* Solution:\n",
    " * Decision variables : Represent the solution for the problem.\n",
    "    * P1: Number of units of P1 produced.\n",
    "    * P2: Number of units of P2 produced.\n",
    "\n",
    " * Objective Function : Maximize the profit\n",
    "    * Maximize Z : 6 P1 + 5 P2\n",
    "\n",
    " * Constraints \n",
    "    * 1 P1 + 1 P2 <= 5\n",
    "    * 3 P1 + 2 P2 <= 12\n",
    "\n",
    " * Non negativity restriction \n",
    "   * P1 >= 0\n",
    "   * P2 >= 0"
   ]
  },
  {
   "cell_type": "code",
   "execution_count": 2,
   "metadata": {
    "ExecuteTime": {
     "end_time": "2021-04-07T15:08:30.142887Z",
     "start_time": "2021-04-07T15:08:30.021452Z"
    }
   },
   "outputs": [],
   "source": [
    "import pulp # Library to perfom linear programming\n",
    "from pulp import LpProblem"
   ]
  },
  {
   "cell_type": "code",
   "execution_count": 3,
   "metadata": {
    "ExecuteTime": {
     "end_time": "2021-04-07T15:08:30.905858Z",
     "start_time": "2021-04-07T15:08:30.900692Z"
    }
   },
   "outputs": [],
   "source": [
    "# looking for an optimal maximum so we use LpMaximize (default = LpMinimize)\n",
    "manufacturing_products_lp = pulp.LpProblem(\"Manufacturing_2_types_of_products_using_2_types_of_resources\", \n",
    "                                           pulp.LpMaximize)"
   ]
  },
  {
   "cell_type": "code",
   "execution_count": 4,
   "metadata": {
    "ExecuteTime": {
     "end_time": "2021-04-07T15:08:31.345847Z",
     "start_time": "2021-04-07T15:08:31.339753Z"
    }
   },
   "outputs": [],
   "source": [
    "# Setting the lower and upper bounds for the decision variables\n",
    "# Default lowBound is negative infinity\n",
    "# Default upBound is positive infinity\n",
    "# Default cat is 'Continuous'  #The category this variable is in, Integer, Binary or Continuous(default)\n",
    "\n",
    "P1 = pulp.LpVariable('P1', lowBound=0, cat='Integer')\n",
    "P2 = pulp.LpVariable('P2', lowBound=0, cat='Integer')"
   ]
  },
  {
   "cell_type": "code",
   "execution_count": 5,
   "metadata": {
    "ExecuteTime": {
     "end_time": "2021-04-07T15:08:31.575206Z",
     "start_time": "2021-04-07T15:08:31.569805Z"
    }
   },
   "outputs": [],
   "source": [
    "# The objective function and constraints are added using the += operator to our model.\n",
    "\n",
    "# Objective function\n",
    "manufacturing_products_lp += 6 * P1 + 5 * P2,\"Z\""
   ]
  },
  {
   "cell_type": "code",
   "execution_count": 6,
   "metadata": {
    "ExecuteTime": {
     "end_time": "2021-04-07T15:08:32.528433Z",
     "start_time": "2021-04-07T15:08:32.512775Z"
    }
   },
   "outputs": [
    {
     "data": {
      "text/plain": [
       "Manufacturing_2_types_of_products_using_2_types_of_resources:\n",
       "MAXIMIZE\n",
       "6*P1 + 5*P2 + 0\n",
       "VARIABLES\n",
       "0 <= P1 Integer\n",
       "0 <= P2 Integer"
      ]
     },
     "execution_count": 6,
     "metadata": {},
     "output_type": "execute_result"
    }
   ],
   "source": [
    "manufacturing_products_lp"
   ]
  },
  {
   "cell_type": "code",
   "execution_count": 7,
   "metadata": {
    "ExecuteTime": {
     "end_time": "2021-04-07T15:08:33.087749Z",
     "start_time": "2021-04-07T15:08:33.080952Z"
    }
   },
   "outputs": [],
   "source": [
    "# Constraints\n",
    "manufacturing_products_lp += P1 + P2 <= 5, \"C1\"\n",
    "manufacturing_products_lp += 3 * P1 + 2 * P2 <= 12, \"C2\""
   ]
  },
  {
   "cell_type": "code",
   "execution_count": 8,
   "metadata": {
    "ExecuteTime": {
     "end_time": "2021-04-07T15:08:33.814967Z",
     "start_time": "2021-04-07T15:08:33.805633Z"
    }
   },
   "outputs": [
    {
     "data": {
      "text/plain": [
       "Manufacturing_2_types_of_products_using_2_types_of_resources:\n",
       "MAXIMIZE\n",
       "6*P1 + 5*P2 + 0\n",
       "SUBJECT TO\n",
       "C1: P1 + P2 <= 5\n",
       "\n",
       "C2: 3 P1 + 2 P2 <= 12\n",
       "\n",
       "VARIABLES\n",
       "0 <= P1 Integer\n",
       "0 <= P2 Integer"
      ]
     },
     "execution_count": 8,
     "metadata": {},
     "output_type": "execute_result"
    }
   ],
   "source": [
    "manufacturing_products_lp"
   ]
  },
  {
   "cell_type": "code",
   "execution_count": 9,
   "metadata": {
    "ExecuteTime": {
     "end_time": "2021-04-07T15:08:34.419179Z",
     "start_time": "2021-04-07T15:08:34.388476Z"
    }
   },
   "outputs": [
    {
     "data": {
      "text/plain": [
       "'Optimal'"
      ]
     },
     "execution_count": 9,
     "metadata": {},
     "output_type": "execute_result"
    }
   ],
   "source": [
    "manufacturing_products_lp.solve()\n",
    "\n",
    "# There are 5 status codes: 'Not Solved', 'Optimal', 'Infeasible', 'Unbounded', 'Undefined\n",
    "\n",
    "#print(manufacturing_products_lp.status)\n",
    "\n",
    "pulp.LpStatus[manufacturing_products_lp.status]"
   ]
  },
  {
   "cell_type": "code",
   "execution_count": 10,
   "metadata": {
    "ExecuteTime": {
     "end_time": "2021-04-07T15:08:34.996922Z",
     "start_time": "2021-04-07T15:08:34.974621Z"
    }
   },
   "outputs": [
    {
     "data": {
      "text/plain": [
       "6*P1 + 5*P2 + 0"
      ]
     },
     "execution_count": 10,
     "metadata": {},
     "output_type": "execute_result"
    }
   ],
   "source": [
    "manufacturing_products_lp.objective"
   ]
  },
  {
   "cell_type": "code",
   "execution_count": 11,
   "metadata": {
    "ExecuteTime": {
     "end_time": "2021-04-07T15:08:35.598313Z",
     "start_time": "2021-04-07T15:08:35.589355Z"
    }
   },
   "outputs": [
    {
     "data": {
      "text/plain": [
       "27.0"
      ]
     },
     "execution_count": 11,
     "metadata": {},
     "output_type": "execute_result"
    }
   ],
   "source": [
    "pulp.value(manufacturing_products_lp.objective)"
   ]
  },
  {
   "cell_type": "code",
   "execution_count": 12,
   "metadata": {
    "ExecuteTime": {
     "end_time": "2021-04-07T15:08:36.080787Z",
     "start_time": "2021-04-07T15:08:36.071976Z"
    }
   },
   "outputs": [
    {
     "data": {
      "text/plain": [
       "3.0"
      ]
     },
     "execution_count": 12,
     "metadata": {},
     "output_type": "execute_result"
    }
   ],
   "source": [
    "manufacturing_products_lp.variables()[1].varValue"
   ]
  },
  {
   "cell_type": "code",
   "execution_count": 13,
   "metadata": {
    "ExecuteTime": {
     "end_time": "2021-04-07T15:08:36.519196Z",
     "start_time": "2021-04-07T15:08:36.506891Z"
    }
   },
   "outputs": [
    {
     "name": "stdout",
     "output_type": "stream",
     "text": [
      "The optimized solution : 27.0\n",
      "P1 2.0\n",
      "P2 3.0\n"
     ]
    }
   ],
   "source": [
    "print(\"The optimized solution :\", pulp.value(manufacturing_products_lp.objective) )\n",
    "\n",
    "for variable in manufacturing_products_lp.variables():\n",
    "    print(variable.name,variable.varValue)"
   ]
  },
  {
   "cell_type": "markdown",
   "metadata": {},
   "source": [
    "# Problem 2"
   ]
  },
  {
   "cell_type": "markdown",
   "metadata": {},
   "source": [
    "* Consider the following product mix example (Hadley, 1962). A shop that has three machines, A, B, and C, turns out four different products. Each product must be processed  on each of the three machines (for example, lathes, drills, and milling machines). The following table shows the number of hours required by each product on each machine:\n",
    "![Assignment](./Images/MachineProducts.png)\n",
    "* The weekly time available on each of the machines is 2,000, 8,000, and 5,000 hours, respectively. The products contribute 5.24, 7.30, 8.34, and 4.18 to profit, respectively. What mixture of products can be manufactured to maximize profit?"
   ]
  },
  {
   "cell_type": "code",
   "execution_count": 14,
   "metadata": {
    "ExecuteTime": {
     "end_time": "2021-04-07T15:08:39.311479Z",
     "start_time": "2021-04-07T15:08:39.306847Z"
    }
   },
   "outputs": [],
   "source": [
    "### Problem2 :\n",
    "\n",
    "# Problem Formulation\n",
    "# Decision variables : Represent the solution for the problem.\n",
    "#   X1: Number of units of Product 1 produced.\n",
    "#   X2: Number of units of Product 2 produced.\n",
    "#   X3: Number of units of Product 3 produced.\n",
    "#   X4: Number of units of Product 4 produced.\n",
    "# Objective Function\n",
    "#   Z : 5.24 X1 + 7.30 X2 + 8.34 X3 + 4.18 X4 (Maximize)\n",
    "# Constraints \n",
    "#   1.5 X1 + 1 X2 + 2.4 X3 +   1 X4 <= 2000\n",
    "#     1 X1 + 5 X2 +   1 X3 + 3.5 X4 <= 8000\n",
    "#   1.5 X1 + 3 X2 + 3.5 X3 +   1 X4 <= 5000\n",
    "# Non negativity restriction \n",
    "#   X1 >= 0\n",
    "#   X2 >= 0\n",
    "#   X3 >= 0\n",
    "#   X4 >= 0\n"
   ]
  },
  {
   "cell_type": "code",
   "execution_count": 15,
   "metadata": {
    "ExecuteTime": {
     "end_time": "2021-04-07T15:08:39.466229Z",
     "start_time": "2021-04-07T15:08:39.457590Z"
    }
   },
   "outputs": [],
   "source": [
    "products_lp = pulp.LpProblem(\"Four_types_of_products_from_three_machines\", pulp.LpMaximize)"
   ]
  },
  {
   "cell_type": "code",
   "execution_count": 16,
   "metadata": {
    "ExecuteTime": {
     "end_time": "2021-04-07T15:08:40.138030Z",
     "start_time": "2021-04-07T15:08:40.124295Z"
    }
   },
   "outputs": [],
   "source": [
    "x1 = pulp.LpVariable('Product1', lowBound=0, cat='Integer')\n",
    "x2 = pulp.LpVariable('Product2', lowBound=0, cat='Integer')\n",
    "x3 = pulp.LpVariable('Product3', lowBound=0, cat='Integer')\n",
    "x4 = pulp.LpVariable('Product4', lowBound=0, cat='Integer')\n",
    "\n",
    "# The objective function and constraints are added using the += operator to our model.\n",
    "\n",
    "# Objective function\n",
    "products_lp += 5.24 * x1 + 7.30 * x2 + 8.34 * x3 + 4.18 * x4, \"Z\"\n",
    "\n",
    "# Constraints\n",
    "products_lp += 1.5 * x1 + 1 * x2 + 2.4 * x3 + 1 * x4 <= 2000\n",
    "products_lp += 1 * x1 + 5 * x2 + 1 * x3 + 3.5 * x4 <= 8000\n",
    "products_lp += 1.5 * x1 + 3 * x2 + 3.5 * x3 + 1 * x4 <= 5000"
   ]
  },
  {
   "cell_type": "code",
   "execution_count": 17,
   "metadata": {
    "ExecuteTime": {
     "end_time": "2021-04-07T15:08:40.643900Z",
     "start_time": "2021-04-07T15:08:40.635193Z"
    }
   },
   "outputs": [
    {
     "data": {
      "text/plain": [
       "Four_types_of_products_from_three_machines:\n",
       "MAXIMIZE\n",
       "5.24*Product1 + 7.3*Product2 + 8.34*Product3 + 4.18*Product4 + 0.0\n",
       "SUBJECT TO\n",
       "_C1: 1.5 Product1 + Product2 + 2.4 Product3 + Product4 <= 2000\n",
       "\n",
       "_C2: Product1 + 5 Product2 + Product3 + 3.5 Product4 <= 8000\n",
       "\n",
       "_C3: 1.5 Product1 + 3 Product2 + 3.5 Product3 + Product4 <= 5000\n",
       "\n",
       "VARIABLES\n",
       "0 <= Product1 Integer\n",
       "0 <= Product2 Integer\n",
       "0 <= Product3 Integer\n",
       "0 <= Product4 Integer"
      ]
     },
     "execution_count": 17,
     "metadata": {},
     "output_type": "execute_result"
    }
   ],
   "source": [
    "products_lp"
   ]
  },
  {
   "cell_type": "code",
   "execution_count": 18,
   "metadata": {
    "ExecuteTime": {
     "end_time": "2021-04-07T15:08:41.193923Z",
     "start_time": "2021-04-07T15:08:41.129886Z"
    }
   },
   "outputs": [
    {
     "data": {
      "text/plain": [
       "'Optimal'"
      ]
     },
     "execution_count": 18,
     "metadata": {},
     "output_type": "execute_result"
    }
   ],
   "source": [
    "products_lp.solve()\n",
    "\n",
    "# There are 5 status codes: 'Not Solved', 'Optimal', 'Infeasible', 'Unbounded', 'Undefined\n",
    "pulp.LpStatus[products_lp.status]"
   ]
  },
  {
   "cell_type": "code",
   "execution_count": 19,
   "metadata": {
    "ExecuteTime": {
     "end_time": "2021-04-07T15:08:41.868208Z",
     "start_time": "2021-04-07T15:08:41.858023Z"
    }
   },
   "outputs": [
    {
     "data": {
      "text/plain": [
       "12735.12"
      ]
     },
     "execution_count": 19,
     "metadata": {},
     "output_type": "execute_result"
    }
   ],
   "source": [
    "products_lp.objective\n",
    "pulp.value(products_lp.objective)"
   ]
  },
  {
   "cell_type": "code",
   "execution_count": 20,
   "metadata": {
    "ExecuteTime": {
     "end_time": "2021-04-07T15:08:42.386238Z",
     "start_time": "2021-04-07T15:08:42.379188Z"
    }
   },
   "outputs": [
    {
     "name": "stdout",
     "output_type": "stream",
     "text": [
      "The optimized solution : 12735.12\n"
     ]
    }
   ],
   "source": [
    "print(\"The optimized solution :\", pulp.value(products_lp.objective))\n"
   ]
  },
  {
   "cell_type": "code",
   "execution_count": 21,
   "metadata": {
    "ExecuteTime": {
     "end_time": "2021-04-07T15:08:43.242805Z",
     "start_time": "2021-04-07T15:08:43.235415Z"
    }
   },
   "outputs": [
    {
     "data": {
      "text/plain": [
       "[Product1, Product2, Product3, Product4]"
      ]
     },
     "execution_count": 21,
     "metadata": {},
     "output_type": "execute_result"
    }
   ],
   "source": [
    "products_lp.variables()"
   ]
  },
  {
   "cell_type": "code",
   "execution_count": 22,
   "metadata": {
    "ExecuteTime": {
     "end_time": "2021-04-07T15:08:44.106372Z",
     "start_time": "2021-04-07T15:08:44.098867Z"
    }
   },
   "outputs": [
    {
     "name": "stdout",
     "output_type": "stream",
     "text": [
      "Product1 296.0\n",
      "Product2 1500.0\n",
      "Product3 0.0\n",
      "Product4 56.0\n"
     ]
    }
   ],
   "source": [
    "for variable in products_lp.variables():\n",
    "    print(variable.name, variable.varValue)"
   ]
  },
  {
   "cell_type": "code",
   "execution_count": null,
   "metadata": {},
   "outputs": [],
   "source": []
  },
  {
   "cell_type": "markdown",
   "metadata": {},
   "source": [
    "# Problem 3\n",
    "####  Capital Budget Allocation Problem"
   ]
  },
  {
   "cell_type": "markdown",
   "metadata": {},
   "source": [
    "* In his position as vice president of research and development (R&D) for CRT Technologies, Mark Schwartz is responsible for evaluating and choosing which R&D projects to support. The company received 18 R&D proposals from its scientists and engineers, and identified six projects as being consistent with the company’s mission. However, the company does not have the funds available to undertake all six projects. Mark must determine which of the projects to select. The funding requirements for each project are summarized in the following table along with the NPV the company expects each project to generate.\n",
    "\n",
    "![Capital Allocation](./Images/Prob3_CapitalAllocation.png)\n",
    "\n",
    "* The company currently has 250,000 dollars available to invest in new projects. It has budgeted 75,000 dollars for continued support for these projects in year 2 and 50,000 dollars per year for years 3, 4, and 5. Surplus funds in any year are re-appropriated for other uses within the company and may not be carried over to future years"
   ]
  },
  {
   "cell_type": "markdown",
   "metadata": {},
   "source": [
    "#### Problem 4: Assignement Problem \n",
    "* Week off - minimize wage problem "
   ]
  },
  {
   "cell_type": "markdown",
   "metadata": {},
   "source": [
    " * Air-Express is an express shipping service that guarantees overnight delivery of packages  anywhere in the continental United States. The company has various operations centers, called hubs, at airports in major cities across the country. Packages are received at hubs from other locations and then shipped to intermediate hubs or to their final destinations.\n",
    "\n",
    "* The manager of the Air-Express hub in Baltimore, Maryland, is concerned about labor costs at the hub and is interested in determining the most effective way to schedule workers. The hub operates seven days a week, and the number of packages it handles each day varies from one day to the next. Using historical data on the average number of packages received each day, the manager estimates the number of workers needed to handle the packages as:"
   ]
  },
  {
   "cell_type": "markdown",
   "metadata": {},
   "source": [
    "![Workers_wage](./Images/week_day_workers.png)"
   ]
  },
  {
   "cell_type": "markdown",
   "metadata": {},
   "source": [
    "* The package handlers working for Air-Express are unionized and are guaranteed a five-day work week with two consecutive days off. The base wage for the handlers is 655 dollars per week. Because most workers prefer to have Saturday or Sunday off, the union has negotiated bonuses of 25 dollars per day for its members who work on these days. The possible shifts and salaries for package handlers are:"
   ]
  },
  {
   "cell_type": "markdown",
   "metadata": {},
   "source": [
    "![Weekoff_day](./Images/week_day_off_wage.png)"
   ]
  },
  {
   "cell_type": "markdown",
   "metadata": {},
   "source": [
    "* The manager wants to keep the total wage expense for the hub as low as possible. With this in mind, how many package handlers should be assigned to each shift if the manager wants to have a sufficient number of workers available each day?"
   ]
  },
  {
   "cell_type": "markdown",
   "metadata": {},
   "source": [
    "#### Problem5: Transportation Problem"
   ]
  },
  {
   "cell_type": "markdown",
   "metadata": {},
   "source": [
    "* Tropicsun currently has 275,000 bags of citrus at Mt. Dora, 400,000 bags at Eustis, and 300,000 bags at Clermont. Tropicsun has citrus processing plants in Ocala, Orlando, and Leesburg with processing capacities to handle 200,000, 600,000, and 225,000 bags, respectively. Tropicsun contracts with a local trucking company to transport its fruit from the groves to theprocessing plants. \n",
    "* The trucking company charges a flat rate for every mile that each bushel of fruit must be transported. Each mile a bag of fruit travels is known as a bag-mile. The following table summarizes the distances (in miles) between the groves and processing plants:\n",
    "![Distances (in miles) between the groves and processing plants](./Images/Prob2_table.PNG)\n",
    "* Minimize the fare for transporting the bags to the respective processing plants"
   ]
  },
  {
   "cell_type": "code",
   "execution_count": null,
   "metadata": {},
   "outputs": [],
   "source": []
  }
 ],
 "metadata": {
  "kernelspec": {
   "display_name": "Python 3",
   "language": "python",
   "name": "python3"
  },
  "language_info": {
   "codemirror_mode": {
    "name": "ipython",
    "version": 3
   },
   "file_extension": ".py",
   "mimetype": "text/x-python",
   "name": "python",
   "nbconvert_exporter": "python",
   "pygments_lexer": "ipython3",
   "version": "3.7.3"
  }
 },
 "nbformat": 4,
 "nbformat_minor": 2
}
