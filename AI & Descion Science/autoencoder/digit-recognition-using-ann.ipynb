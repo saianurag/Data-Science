{
 "cells": [
  {
   "cell_type": "code",
   "execution_count": 2,
   "id": "young-hughes",
   "metadata": {
    "_cell_guid": "b1076dfc-b9ad-4769-8c92-a6c4dae69d19",
    "_uuid": "8f2839f25d086af736a60e9eeb907d3b93b6e0e5",
    "papermill": {
     "duration": 6.548786,
     "end_time": "2021-04-17T06:07:43.362413",
     "exception": false,
     "start_time": "2021-04-17T06:07:36.813627",
     "status": "completed"
    },
    "tags": []
   },
   "outputs": [],
   "source": [
    "import numpy as np\n",
    "import pandas as pd\n",
    "import matplotlib.pyplot as plt\n",
    "%matplotlib inline\n",
    "import tensorflow as tf\n",
    "from tensorflow import keras"
   ]
  },
  {
   "cell_type": "code",
   "execution_count": 3,
   "id": "signal-latitude",
   "metadata": {
    "papermill": {
     "duration": 6.223949,
     "end_time": "2021-04-17T06:07:49.610495",
     "exception": false,
     "start_time": "2021-04-17T06:07:43.386546",
     "status": "completed"
    },
    "tags": []
   },
   "outputs": [],
   "source": [
    "train=pd.read_csv('data/train.csv')\n",
    "test=pd.read_csv('data/test.csv')\n",
    "sam_sub=pd.read_csv('data/sample_submission.csv')"
   ]
  },
  {
   "cell_type": "code",
   "execution_count": 4,
   "id": "african-decline",
   "metadata": {
    "papermill": {
     "duration": 0.035226,
     "end_time": "2021-04-17T06:07:49.668628",
     "exception": false,
     "start_time": "2021-04-17T06:07:49.633402",
     "status": "completed"
    },
    "tags": []
   },
   "outputs": [
    {
     "data": {
      "text/plain": [
       "(42000, 785)"
      ]
     },
     "execution_count": 4,
     "metadata": {},
     "output_type": "execute_result"
    }
   ],
   "source": [
    "train.shape"
   ]
  },
  {
   "cell_type": "code",
   "execution_count": 5,
   "id": "fresh-vanilla",
   "metadata": {
    "papermill": {
     "duration": 0.040779,
     "end_time": "2021-04-17T06:07:49.738819",
     "exception": false,
     "start_time": "2021-04-17T06:07:49.698040",
     "status": "completed"
    },
    "tags": []
   },
   "outputs": [
    {
     "data": {
      "text/plain": [
       "(28000, 784)"
      ]
     },
     "execution_count": 5,
     "metadata": {},
     "output_type": "execute_result"
    }
   ],
   "source": [
    "test.shape"
   ]
  },
  {
   "cell_type": "code",
   "execution_count": 6,
   "id": "cardiovascular-remark",
   "metadata": {
    "papermill": {
     "duration": 0.07431,
     "end_time": "2021-04-17T06:07:49.843958",
     "exception": false,
     "start_time": "2021-04-17T06:07:49.769648",
     "status": "completed"
    },
    "tags": []
   },
   "outputs": [
    {
     "data": {
      "text/html": [
       "<div>\n",
       "<style scoped>\n",
       "    .dataframe tbody tr th:only-of-type {\n",
       "        vertical-align: middle;\n",
       "    }\n",
       "\n",
       "    .dataframe tbody tr th {\n",
       "        vertical-align: top;\n",
       "    }\n",
       "\n",
       "    .dataframe thead th {\n",
       "        text-align: right;\n",
       "    }\n",
       "</style>\n",
       "<table border=\"1\" class=\"dataframe\">\n",
       "  <thead>\n",
       "    <tr style=\"text-align: right;\">\n",
       "      <th></th>\n",
       "      <th>label</th>\n",
       "      <th>pixel0</th>\n",
       "      <th>pixel1</th>\n",
       "      <th>pixel2</th>\n",
       "      <th>pixel3</th>\n",
       "      <th>pixel4</th>\n",
       "      <th>pixel5</th>\n",
       "      <th>pixel6</th>\n",
       "      <th>pixel7</th>\n",
       "      <th>pixel8</th>\n",
       "      <th>...</th>\n",
       "      <th>pixel774</th>\n",
       "      <th>pixel775</th>\n",
       "      <th>pixel776</th>\n",
       "      <th>pixel777</th>\n",
       "      <th>pixel778</th>\n",
       "      <th>pixel779</th>\n",
       "      <th>pixel780</th>\n",
       "      <th>pixel781</th>\n",
       "      <th>pixel782</th>\n",
       "      <th>pixel783</th>\n",
       "    </tr>\n",
       "  </thead>\n",
       "  <tbody>\n",
       "    <tr>\n",
       "      <th>0</th>\n",
       "      <td>1</td>\n",
       "      <td>0</td>\n",
       "      <td>0</td>\n",
       "      <td>0</td>\n",
       "      <td>0</td>\n",
       "      <td>0</td>\n",
       "      <td>0</td>\n",
       "      <td>0</td>\n",
       "      <td>0</td>\n",
       "      <td>0</td>\n",
       "      <td>...</td>\n",
       "      <td>0</td>\n",
       "      <td>0</td>\n",
       "      <td>0</td>\n",
       "      <td>0</td>\n",
       "      <td>0</td>\n",
       "      <td>0</td>\n",
       "      <td>0</td>\n",
       "      <td>0</td>\n",
       "      <td>0</td>\n",
       "      <td>0</td>\n",
       "    </tr>\n",
       "    <tr>\n",
       "      <th>1</th>\n",
       "      <td>0</td>\n",
       "      <td>0</td>\n",
       "      <td>0</td>\n",
       "      <td>0</td>\n",
       "      <td>0</td>\n",
       "      <td>0</td>\n",
       "      <td>0</td>\n",
       "      <td>0</td>\n",
       "      <td>0</td>\n",
       "      <td>0</td>\n",
       "      <td>...</td>\n",
       "      <td>0</td>\n",
       "      <td>0</td>\n",
       "      <td>0</td>\n",
       "      <td>0</td>\n",
       "      <td>0</td>\n",
       "      <td>0</td>\n",
       "      <td>0</td>\n",
       "      <td>0</td>\n",
       "      <td>0</td>\n",
       "      <td>0</td>\n",
       "    </tr>\n",
       "    <tr>\n",
       "      <th>2</th>\n",
       "      <td>1</td>\n",
       "      <td>0</td>\n",
       "      <td>0</td>\n",
       "      <td>0</td>\n",
       "      <td>0</td>\n",
       "      <td>0</td>\n",
       "      <td>0</td>\n",
       "      <td>0</td>\n",
       "      <td>0</td>\n",
       "      <td>0</td>\n",
       "      <td>...</td>\n",
       "      <td>0</td>\n",
       "      <td>0</td>\n",
       "      <td>0</td>\n",
       "      <td>0</td>\n",
       "      <td>0</td>\n",
       "      <td>0</td>\n",
       "      <td>0</td>\n",
       "      <td>0</td>\n",
       "      <td>0</td>\n",
       "      <td>0</td>\n",
       "    </tr>\n",
       "    <tr>\n",
       "      <th>3</th>\n",
       "      <td>4</td>\n",
       "      <td>0</td>\n",
       "      <td>0</td>\n",
       "      <td>0</td>\n",
       "      <td>0</td>\n",
       "      <td>0</td>\n",
       "      <td>0</td>\n",
       "      <td>0</td>\n",
       "      <td>0</td>\n",
       "      <td>0</td>\n",
       "      <td>...</td>\n",
       "      <td>0</td>\n",
       "      <td>0</td>\n",
       "      <td>0</td>\n",
       "      <td>0</td>\n",
       "      <td>0</td>\n",
       "      <td>0</td>\n",
       "      <td>0</td>\n",
       "      <td>0</td>\n",
       "      <td>0</td>\n",
       "      <td>0</td>\n",
       "    </tr>\n",
       "    <tr>\n",
       "      <th>4</th>\n",
       "      <td>0</td>\n",
       "      <td>0</td>\n",
       "      <td>0</td>\n",
       "      <td>0</td>\n",
       "      <td>0</td>\n",
       "      <td>0</td>\n",
       "      <td>0</td>\n",
       "      <td>0</td>\n",
       "      <td>0</td>\n",
       "      <td>0</td>\n",
       "      <td>...</td>\n",
       "      <td>0</td>\n",
       "      <td>0</td>\n",
       "      <td>0</td>\n",
       "      <td>0</td>\n",
       "      <td>0</td>\n",
       "      <td>0</td>\n",
       "      <td>0</td>\n",
       "      <td>0</td>\n",
       "      <td>0</td>\n",
       "      <td>0</td>\n",
       "    </tr>\n",
       "  </tbody>\n",
       "</table>\n",
       "<p>5 rows × 785 columns</p>\n",
       "</div>"
      ],
      "text/plain": [
       "   label  pixel0  pixel1  pixel2  pixel3  pixel4  pixel5  pixel6  pixel7  \\\n",
       "0      1       0       0       0       0       0       0       0       0   \n",
       "1      0       0       0       0       0       0       0       0       0   \n",
       "2      1       0       0       0       0       0       0       0       0   \n",
       "3      4       0       0       0       0       0       0       0       0   \n",
       "4      0       0       0       0       0       0       0       0       0   \n",
       "\n",
       "   pixel8  ...  pixel774  pixel775  pixel776  pixel777  pixel778  pixel779  \\\n",
       "0       0  ...         0         0         0         0         0         0   \n",
       "1       0  ...         0         0         0         0         0         0   \n",
       "2       0  ...         0         0         0         0         0         0   \n",
       "3       0  ...         0         0         0         0         0         0   \n",
       "4       0  ...         0         0         0         0         0         0   \n",
       "\n",
       "   pixel780  pixel781  pixel782  pixel783  \n",
       "0         0         0         0         0  \n",
       "1         0         0         0         0  \n",
       "2         0         0         0         0  \n",
       "3         0         0         0         0  \n",
       "4         0         0         0         0  \n",
       "\n",
       "[5 rows x 785 columns]"
      ]
     },
     "execution_count": 6,
     "metadata": {},
     "output_type": "execute_result"
    }
   ],
   "source": [
    "train.head()"
   ]
  },
  {
   "cell_type": "code",
   "execution_count": 7,
   "id": "digital-amount",
   "metadata": {
    "papermill": {
     "duration": 0.143165,
     "end_time": "2021-04-17T06:07:50.013066",
     "exception": false,
     "start_time": "2021-04-17T06:07:49.869901",
     "status": "completed"
    },
    "tags": []
   },
   "outputs": [],
   "source": [
    "X=train.drop('label',axis=1)\n",
    "y=train['label']"
   ]
  },
  {
   "cell_type": "code",
   "execution_count": 8,
   "id": "incomplete-poetry",
   "metadata": {
    "papermill": {
     "duration": 0.034718,
     "end_time": "2021-04-17T06:07:50.072357",
     "exception": false,
     "start_time": "2021-04-17T06:07:50.037639",
     "status": "completed"
    },
    "tags": []
   },
   "outputs": [
    {
     "data": {
      "text/plain": [
       "((42000, 784), (28000, 784))"
      ]
     },
     "execution_count": 8,
     "metadata": {},
     "output_type": "execute_result"
    }
   ],
   "source": [
    "X.shape,test.shape"
   ]
  },
  {
   "cell_type": "code",
   "execution_count": 9,
   "id": "nuclear-captain",
   "metadata": {
    "papermill": {
     "duration": 0.032841,
     "end_time": "2021-04-17T06:07:50.132182",
     "exception": false,
     "start_time": "2021-04-17T06:07:50.099341",
     "status": "completed"
    },
    "tags": []
   },
   "outputs": [],
   "source": [
    "X,test=X.values.reshape(-1,28,28),test.values.reshape(-1,28,28)"
   ]
  },
  {
   "cell_type": "code",
   "execution_count": 10,
   "id": "emerging-projector",
   "metadata": {
    "papermill": {
     "duration": 0.034884,
     "end_time": "2021-04-17T06:07:50.192157",
     "exception": false,
     "start_time": "2021-04-17T06:07:50.157273",
     "status": "completed"
    },
    "tags": []
   },
   "outputs": [
    {
     "data": {
      "text/plain": [
       "((42000, 28, 28), (28000, 28, 28))"
      ]
     },
     "execution_count": 10,
     "metadata": {},
     "output_type": "execute_result"
    }
   ],
   "source": [
    "X.shape,test.shape"
   ]
  },
  {
   "cell_type": "code",
   "execution_count": 11,
   "id": "dependent-order",
   "metadata": {
    "papermill": {
     "duration": 0.035281,
     "end_time": "2021-04-17T06:07:50.253237",
     "exception": false,
     "start_time": "2021-04-17T06:07:50.217956",
     "status": "completed"
    },
    "tags": []
   },
   "outputs": [
    {
     "data": {
      "text/plain": [
       "(28, 28)"
      ]
     },
     "execution_count": 11,
     "metadata": {},
     "output_type": "execute_result"
    }
   ],
   "source": [
    "X[0].shape"
   ]
  },
  {
   "cell_type": "code",
   "execution_count": 12,
   "id": "powerful-behalf",
   "metadata": {
    "papermill": {
     "duration": 0.191806,
     "end_time": "2021-04-17T06:07:50.472649",
     "exception": false,
     "start_time": "2021-04-17T06:07:50.280843",
     "status": "completed"
    },
    "tags": []
   },
   "outputs": [
    {
     "data": {
      "text/plain": [
       "<matplotlib.image.AxesImage at 0x7ffa14132c50>"
      ]
     },
     "execution_count": 12,
     "metadata": {},
     "output_type": "execute_result"
    },
    {
     "data": {
      "image/png": "[encoded data removed]",
      "text/plain": [
       "<Figure size 432x288 with 1 Axes>"
      ]
     },
     "metadata": {
      "needs_background": "light"
     },
     "output_type": "display_data"
    }
   ],
   "source": [
    "plt.imshow(X[0])"
   ]
  },
  {
   "cell_type": "code",
   "execution_count": 13,
   "id": "developed-carrier",
   "metadata": {
    "papermill": {
     "duration": 0.038934,
     "end_time": "2021-04-17T06:07:50.539633",
     "exception": false,
     "start_time": "2021-04-17T06:07:50.500699",
     "status": "completed"
    },
    "tags": []
   },
   "outputs": [
    {
     "name": "stdout",
     "output_type": "stream",
     "text": [
      "[[  0   0   0   0   0   0   0   0   0   0   0   0   0   0   0   0   0   0\n",
      "    0   0   0   0   0   0   0   0   0   0]\n",
      " [  0   0   0   0   0   0   0   0   0   0   0   0   0   0   0   0   0   0\n",
      "    0   0   0   0   0   0   0   0   0   0]\n",
      " [  0   0   0   0   0   0   0   0   0   0   0   0   0   0   0   0   0   0\n",
      "    0   0   0   0   0   0   0   0   0   0]\n",
      " [  0   0   0   0   0   0   0   0   0   0   0   0   0   0   0   0   0   0\n",
      "    0   0   0   0   0   0   0   0   0   0]\n",
      " [  0   0   0   0   0   0   0   0   0   0   0   0   0   0   0   0   0   0\n",
      "    0   0 188 255  94   0   0   0   0   0]\n",
      " [  0   0   0   0   0   0   0   0   0   0   0   0   0   0   0   0   0   0\n",
      "    0 191 250 253  93   0   0   0   0   0]\n",
      " [  0   0   0   0   0   0   0   0   0   0   0   0   0   0   0   0   0   0\n",
      "  123 248 253 167  10   0   0   0   0   0]\n",
      " [  0   0   0   0   0   0   0   0   0   0   0   0   0   0   0   0   0  80\n",
      "  247 253 208  13   0   0   0   0   0   0]\n",
      " [  0   0   0   0   0   0   0   0   0   0   0   0   0   0   0   0  29 207\n",
      "  253 235  77   0   0   0   0   0   0   0]\n",
      " [  0   0   0   0   0   0   0   0   0   0   0   0   0   0   0  54 209 253\n",
      "  253  88   0   0   0   0   0   0   0   0]\n",
      " [  0   0   0   0   0   0   0   0   0   0   0   0   0   0  93 254 253 238\n",
      "  170  17   0   0   0   0   0   0   0   0]\n",
      " [  0   0   0   0   0   0   0   0   0   0   0   0   0  23 210 254 253 159\n",
      "    0   0   0   0   0   0   0   0   0   0]\n",
      " [  0   0   0   0   0   0   0   0   0   0   0   0  16 209 253 254 240  81\n",
      "    0   0   0   0   0   0   0   0   0   0]\n",
      " [  0   0   0   0   0   0   0   0   0   0   0   0  27 253 253 254  13   0\n",
      "    0   0   0   0   0   0   0   0   0   0]\n",
      " [  0   0   0   0   0   0   0   0   0   0   0  20 206 254 254 198   7   0\n",
      "    0   0   0   0   0   0   0   0   0   0]\n",
      " [  0   0   0   0   0   0   0   0   0   0   0 168 253 253 196   7   0   0\n",
      "    0   0   0   0   0   0   0   0   0   0]\n",
      " [  0   0   0   0   0   0   0   0   0   0  20 203 253 248  76   0   0   0\n",
      "    0   0   0   0   0   0   0   0   0   0]\n",
      " [  0   0   0   0   0   0   0   0   0  22 188 253 245  93   0   0   0   0\n",
      "    0   0   0   0   0   0   0   0   0   0]\n",
      " [  0   0   0   0   0   0   0   0   0 103 253 253 191   0   0   0   0   0\n",
      "    0   0   0   0   0   0   0   0   0   0]\n",
      " [  0   0   0   0   0   0   0   0  89 240 253 195  25   0   0   0   0   0\n",
      "    0   0   0   0   0   0   0   0   0   0]\n",
      " [  0   0   0   0   0   0   0  15 220 253 253  80   0   0   0   0   0   0\n",
      "    0   0   0   0   0   0   0   0   0   0]\n",
      " [  0   0   0   0   0   0   0  94 253 253 253  94   0   0   0   0   0   0\n",
      "    0   0   0   0   0   0   0   0   0   0]\n",
      " [  0   0   0   0   0   0   0  89 251 253 250 131   0   0   0   0   0   0\n",
      "    0   0   0   0   0   0   0   0   0   0]\n",
      " [  0   0   0   0   0   0   0   0 214 218  95   0   0   0   0   0   0   0\n",
      "    0   0   0   0   0   0   0   0   0   0]\n",
      " [  0   0   0   0   0   0   0   0   0   0   0   0   0   0   0   0   0   0\n",
      "    0   0   0   0   0   0   0   0   0   0]\n",
      " [  0   0   0   0   0   0   0   0   0   0   0   0   0   0   0   0   0   0\n",
      "    0   0   0   0   0   0   0   0   0   0]\n",
      " [  0   0   0   0   0   0   0   0   0   0   0   0   0   0   0   0   0   0\n",
      "    0   0   0   0   0   0   0   0   0   0]\n",
      " [  0   0   0   0   0   0   0   0   0   0   0   0   0   0   0   0   0   0\n",
      "    0   0   0   0   0   0   0   0   0   0]]\n"
     ]
    }
   ],
   "source": [
    "print(X[0])"
   ]
  },
  {
   "cell_type": "code",
   "execution_count": 14,
   "id": "charitable-seminar",
   "metadata": {
    "papermill": {
     "duration": 0.260452,
     "end_time": "2021-04-17T06:07:50.828565",
     "exception": false,
     "start_time": "2021-04-17T06:07:50.568113",
     "status": "completed"
    },
    "tags": []
   },
   "outputs": [
    {
     "name": "stdout",
     "output_type": "stream",
     "text": [
      "[[0.         0.         0.         0.         0.         0.\n",
      "  0.         0.         0.         0.         0.         0.\n",
      "  0.         0.         0.         0.         0.         0.\n",
      "  0.         0.         0.         0.         0.         0.\n",
      "  0.         0.         0.         0.        ]\n",
      " [0.         0.         0.         0.         0.         0.\n",
      "  0.         0.         0.         0.         0.         0.\n",
      "  0.         0.         0.         0.         0.         0.\n",
      "  0.         0.         0.         0.         0.         0.\n",
      "  0.         0.         0.         0.        ]\n",
      " [0.         0.         0.         0.         0.         0.\n",
      "  0.         0.         0.         0.         0.         0.\n",
      "  0.         0.         0.         0.         0.         0.\n",
      "  0.         0.         0.         0.         0.         0.\n",
      "  0.         0.         0.         0.        ]\n",
      " [0.         0.         0.         0.         0.         0.\n",
      "  0.         0.         0.         0.         0.         0.\n",
      "  0.         0.         0.         0.         0.         0.\n",
      "  0.         0.         0.         0.         0.         0.\n",
      "  0.         0.         0.         0.        ]\n",
      " [0.         0.         0.         0.         0.         0.\n",
      "  0.         0.         0.         0.         0.         0.\n",
      "  0.         0.         0.         0.         0.         0.\n",
      "  0.         0.         0.7372549  1.         0.36862745 0.\n",
      "  0.         0.         0.         0.        ]\n",
      " [0.         0.         0.         0.         0.         0.\n",
      "  0.         0.         0.         0.         0.         0.\n",
      "  0.         0.         0.         0.         0.         0.\n",
      "  0.         0.74901961 0.98039216 0.99215686 0.36470588 0.\n",
      "  0.         0.         0.         0.        ]\n",
      " [0.         0.         0.         0.         0.         0.\n",
      "  0.         0.         0.         0.         0.         0.\n",
      "  0.         0.         0.         0.         0.         0.\n",
      "  0.48235294 0.97254902 0.99215686 0.65490196 0.03921569 0.\n",
      "  0.         0.         0.         0.        ]\n",
      " [0.         0.         0.         0.         0.         0.\n",
      "  0.         0.         0.         0.         0.         0.\n",
      "  0.         0.         0.         0.         0.         0.31372549\n",
      "  0.96862745 0.99215686 0.81568627 0.05098039 0.         0.\n",
      "  0.         0.         0.         0.        ]\n",
      " [0.         0.         0.         0.         0.         0.\n",
      "  0.         0.         0.         0.         0.         0.\n",
      "  0.         0.         0.         0.         0.11372549 0.81176471\n",
      "  0.99215686 0.92156863 0.30196078 0.         0.         0.\n",
      "  0.         0.         0.         0.        ]\n",
      " [0.         0.         0.         0.         0.         0.\n",
      "  0.         0.         0.         0.         0.         0.\n",
      "  0.         0.         0.         0.21176471 0.81960784 0.99215686\n",
      "  0.99215686 0.34509804 0.         0.         0.         0.\n",
      "  0.         0.         0.         0.        ]\n",
      " [0.         0.         0.         0.         0.         0.\n",
      "  0.         0.         0.         0.         0.         0.\n",
      "  0.         0.         0.36470588 0.99607843 0.99215686 0.93333333\n",
      "  0.66666667 0.06666667 0.         0.         0.         0.\n",
      "  0.         0.         0.         0.        ]\n",
      " [0.         0.         0.         0.         0.         0.\n",
      "  0.         0.         0.         0.         0.         0.\n",
      "  0.         0.09019608 0.82352941 0.99607843 0.99215686 0.62352941\n",
      "  0.         0.         0.         0.         0.         0.\n",
      "  0.         0.         0.         0.        ]\n",
      " [0.         0.         0.         0.         0.         0.\n",
      "  0.         0.         0.         0.         0.         0.\n",
      "  0.0627451  0.81960784 0.99215686 0.99607843 0.94117647 0.31764706\n",
      "  0.         0.         0.         0.         0.         0.\n",
      "  0.         0.         0.         0.        ]\n",
      " [0.         0.         0.         0.         0.         0.\n",
      "  0.         0.         0.         0.         0.         0.\n",
      "  0.10588235 0.99215686 0.99215686 0.99607843 0.05098039 0.\n",
      "  0.         0.         0.         0.         0.         0.\n",
      "  0.         0.         0.         0.        ]\n",
      " [0.         0.         0.         0.         0.         0.\n",
      "  0.         0.         0.         0.         0.         0.07843137\n",
      "  0.80784314 0.99607843 0.99607843 0.77647059 0.02745098 0.\n",
      "  0.         0.         0.         0.         0.         0.\n",
      "  0.         0.         0.         0.        ]\n",
      " [0.         0.         0.         0.         0.         0.\n",
      "  0.         0.         0.         0.         0.         0.65882353\n",
      "  0.99215686 0.99215686 0.76862745 0.02745098 0.         0.\n",
      "  0.         0.         0.         0.         0.         0.\n",
      "  0.         0.         0.         0.        ]\n",
      " [0.         0.         0.         0.         0.         0.\n",
      "  0.         0.         0.         0.         0.07843137 0.79607843\n",
      "  0.99215686 0.97254902 0.29803922 0.         0.         0.\n",
      "  0.         0.         0.         0.         0.         0.\n",
      "  0.         0.         0.         0.        ]\n",
      " [0.         0.         0.         0.         0.         0.\n",
      "  0.         0.         0.         0.08627451 0.7372549  0.99215686\n",
      "  0.96078431 0.36470588 0.         0.         0.         0.\n",
      "  0.         0.         0.         0.         0.         0.\n",
      "  0.         0.         0.         0.        ]\n",
      " [0.         0.         0.         0.         0.         0.\n",
      "  0.         0.         0.         0.40392157 0.99215686 0.99215686\n",
      "  0.74901961 0.         0.         0.         0.         0.\n",
      "  0.         0.         0.         0.         0.         0.\n",
      "  0.         0.         0.         0.        ]\n",
      " [0.         0.         0.         0.         0.         0.\n",
      "  0.         0.         0.34901961 0.94117647 0.99215686 0.76470588\n",
      "  0.09803922 0.         0.         0.         0.         0.\n",
      "  0.         0.         0.         0.         0.         0.\n",
      "  0.         0.         0.         0.        ]\n",
      " [0.         0.         0.         0.         0.         0.\n",
      "  0.         0.05882353 0.8627451  0.99215686 0.99215686 0.31372549\n",
      "  0.         0.         0.         0.         0.         0.\n",
      "  0.         0.         0.         0.         0.         0.\n",
      "  0.         0.         0.         0.        ]\n",
      " [0.         0.         0.         0.         0.         0.\n",
      "  0.         0.36862745 0.99215686 0.99215686 0.99215686 0.36862745\n",
      "  0.         0.         0.         0.         0.         0.\n",
      "  0.         0.         0.         0.         0.         0.\n",
      "  0.         0.         0.         0.        ]\n",
      " [0.         0.         0.         0.         0.         0.\n",
      "  0.         0.34901961 0.98431373 0.99215686 0.98039216 0.51372549\n",
      "  0.         0.         0.         0.         0.         0.\n",
      "  0.         0.         0.         0.         0.         0.\n",
      "  0.         0.         0.         0.        ]\n",
      " [0.         0.         0.         0.         0.         0.\n",
      "  0.         0.         0.83921569 0.85490196 0.37254902 0.\n",
      "  0.         0.         0.         0.         0.         0.\n",
      "  0.         0.         0.         0.         0.         0.\n",
      "  0.         0.         0.         0.        ]\n",
      " [0.         0.         0.         0.         0.         0.\n",
      "  0.         0.         0.         0.         0.         0.\n",
      "  0.         0.         0.         0.         0.         0.\n",
      "  0.         0.         0.         0.         0.         0.\n",
      "  0.         0.         0.         0.        ]\n",
      " [0.         0.         0.         0.         0.         0.\n",
      "  0.         0.         0.         0.         0.         0.\n",
      "  0.         0.         0.         0.         0.         0.\n",
      "  0.         0.         0.         0.         0.         0.\n",
      "  0.         0.         0.         0.        ]\n",
      " [0.         0.         0.         0.         0.         0.\n",
      "  0.         0.         0.         0.         0.         0.\n",
      "  0.         0.         0.         0.         0.         0.\n",
      "  0.         0.         0.         0.         0.         0.\n",
      "  0.         0.         0.         0.        ]\n",
      " [0.         0.         0.         0.         0.         0.\n",
      "  0.         0.         0.         0.         0.         0.\n",
      "  0.         0.         0.         0.         0.         0.\n",
      "  0.         0.         0.         0.         0.         0.\n",
      "  0.         0.         0.         0.        ]]\n"
     ]
    }
   ],
   "source": [
    "X,test=X/255,test/255\n",
    "print(X[0])"
   ]
  },
  {
   "cell_type": "code",
   "execution_count": 42,
   "id": "after-inside",
   "metadata": {
    "papermill": {
     "duration": 0.30326,
     "end_time": "2021-04-17T06:07:51.160628",
     "exception": false,
     "start_time": "2021-04-17T06:07:50.857368",
     "status": "completed"
    },
    "tags": []
   },
   "outputs": [
    {
     "data": {
      "text/plain": [
       "<matplotlib.image.AxesImage at 0x7ff9bff8a4d0>"
      ]
     },
     "execution_count": 42,
     "metadata": {},
     "output_type": "execute_result"
    },
    {
     "data": {
      "image/png": "[encoded data removed]",
      "text/plain": [
       "<Figure size 288x288 with 1 Axes>"
      ]
     },
     "metadata": {
      "needs_background": "light"
     },
     "output_type": "display_data"
    }
   ],
   "source": [
    "plt.matshow(X[0])"
   ]
  },
  {
   "cell_type": "code",
   "execution_count": 16,
   "id": "burning-grenada",
   "metadata": {
    "papermill": {
     "duration": 0.768206,
     "end_time": "2021-04-17T06:07:51.983072",
     "exception": false,
     "start_time": "2021-04-17T06:07:51.214866",
     "status": "completed"
    },
    "tags": []
   },
   "outputs": [],
   "source": [
    "from sklearn.model_selection import train_test_split"
   ]
  },
  {
   "cell_type": "code",
   "execution_count": 46,
   "id": "designed-variation",
   "metadata": {
    "papermill": {
     "duration": 0.446602,
     "end_time": "2021-04-17T06:07:52.462536",
     "exception": false,
     "start_time": "2021-04-17T06:07:52.015934",
     "status": "completed"
    },
    "tags": []
   },
   "outputs": [],
   "source": [
    "X_train,X_val,y_train,y_val=train_test_split(X,y,test_size=0.4,random_state=21)"
   ]
  },
  {
   "cell_type": "code",
   "execution_count": 47,
   "id": "voluntary-editing",
   "metadata": {
    "papermill": {
     "duration": 0.037894,
     "end_time": "2021-04-17T06:07:52.530069",
     "exception": false,
     "start_time": "2021-04-17T06:07:52.492175",
     "status": "completed"
    },
    "tags": []
   },
   "outputs": [
    {
     "data": {
      "text/plain": [
       "(10080, 28, 28)"
      ]
     },
     "execution_count": 47,
     "metadata": {},
     "output_type": "execute_result"
    }
   ],
   "source": [
    "X_val.shape"
   ]
  },
  {
   "cell_type": "code",
   "execution_count": 49,
   "id": "educated-fashion",
   "metadata": {},
   "outputs": [
    {
     "data": {
      "text/plain": [
       "(15120, 28, 28)"
      ]
     },
     "execution_count": 49,
     "metadata": {},
     "output_type": "execute_result"
    }
   ],
   "source": [
    "X_train.shape"
   ]
  },
  {
   "cell_type": "markdown",
   "id": "charged-parking",
   "metadata": {},
   "source": [
    "## Simple Multi-layer Model"
   ]
  },
  {
   "cell_type": "code",
   "execution_count": 50,
   "id": "wanted-funds",
   "metadata": {},
   "outputs": [
    {
     "name": "stdout",
     "output_type": "stream",
     "text": [
      "Train on 25200 samples, validate on 15120 samples\n",
      "Epoch 1/10\n",
      "25200/25200 [==============================] - 1s 56us/sample - loss: 0.3690 - accuracy: 0.8921 - val_loss: 0.1773 - val_accuracy: 0.9478\n",
      "Epoch 2/10\n",
      "25200/25200 [==============================] - 1s 57us/sample - loss: 0.1598 - accuracy: 0.9527 - val_loss: 0.1156 - val_accuracy: 0.9650\n",
      "Epoch 3/10\n",
      "25200/25200 [==============================] - 1s 51us/sample - loss: 0.1085 - accuracy: 0.9657 - val_loss: 0.0775 - val_accuracy: 0.9778\n",
      "Epoch 4/10\n",
      "25200/25200 [==============================] - 1s 54us/sample - loss: 0.0813 - accuracy: 0.9745 - val_loss: 0.0572 - val_accuracy: 0.9821\n",
      "Epoch 5/10\n",
      "25200/25200 [==============================] - 2s 76us/sample - loss: 0.0646 - accuracy: 0.9794 - val_loss: 0.0462 - val_accuracy: 0.9870\n",
      "Epoch 6/10\n",
      "25200/25200 [==============================] - 1s 55us/sample - loss: 0.0478 - accuracy: 0.9856 - val_loss: 0.0347 - val_accuracy: 0.9896\n",
      "Epoch 7/10\n",
      "25200/25200 [==============================] - 1s 53us/sample - loss: 0.0388 - accuracy: 0.9871 - val_loss: 0.0315 - val_accuracy: 0.9897\n",
      "Epoch 8/10\n",
      "25200/25200 [==============================] - 1s 53us/sample - loss: 0.0316 - accuracy: 0.9896 - val_loss: 0.0230 - val_accuracy: 0.9929\n",
      "Epoch 9/10\n",
      "25200/25200 [==============================] - 1s 53us/sample - loss: 0.0225 - accuracy: 0.9929 - val_loss: 0.0204 - val_accuracy: 0.9941\n",
      "Epoch 10/10\n",
      "25200/25200 [==============================] - 2s 66us/sample - loss: 0.0240 - accuracy: 0.9926 - val_loss: 0.0103 - val_accuracy: 0.9974\n"
     ]
    }
   ],
   "source": [
    "model=keras.Sequential([\n",
    "    keras.layers.Flatten(input_shape=(28,28)),\n",
    "    keras.layers.Dense(100,activation='relu'),\n",
    "    \n",
    "    keras.layers.Dense(50,activation='relu'),\n",
    "    keras.layers.Dense(10,activation='softmax'),\n",
    "    \n",
    "])\n",
    "\n",
    "model.compile(optimizer='adam',loss='sparse_categorical_crossentropy',metrics=['accuracy'])\n",
    "\n",
    "history=model.fit(X,y,epochs=10,validation_data=(X_train,y_train))"
   ]
  },
  {
   "cell_type": "code",
   "execution_count": 67,
   "id": "technical-alliance",
   "metadata": {},
   "outputs": [],
   "source": [
    "train_pred = model.predict_classes(X_train)\n",
    "val_pred = model.predict_classes(X_val)\n",
    "test_pred = model.predict_classes(test)"
   ]
  },
  {
   "cell_type": "code",
   "execution_count": 68,
   "id": "variable-encounter",
   "metadata": {},
   "outputs": [
    {
     "name": "stdout",
     "output_type": "stream",
     "text": [
      "Train Accuracy:  0.9974206349206349\n",
      "-----------------------\n",
      "Val Accuracy:  0.9976190476190476\n"
     ]
    }
   ],
   "source": [
    "from sklearn.metrics import accuracy_score\n",
    "from sklearn.metrics import classification_report, confusion_matrix\n",
    "\n",
    "accuracy_score_train = accuracy_score(y_train, train_pred)\n",
    "accuracy_score_val = accuracy_score(y_val, val_pred)\n",
    "\n",
    "\n",
    "\n",
    "print(\"Train Accuracy: \",accuracy_score_train)\n",
    "\n",
    "print(\"-----------------------\")\n",
    "\n",
    "print(\"Val Accuracy: \",accuracy_score_val)\n"
   ]
  },
  {
   "cell_type": "code",
   "execution_count": 73,
   "id": "european-charity",
   "metadata": {
    "papermill": {
     "duration": 1.19761,
     "end_time": "2021-04-17T06:12:36.188846",
     "exception": false,
     "start_time": "2021-04-17T06:12:34.991236",
     "status": "completed"
    },
    "tags": []
   },
   "outputs": [
    {
     "data": {
      "text/plain": [
       "0"
      ]
     },
     "execution_count": 73,
     "metadata": {},
     "output_type": "execute_result"
    }
   ],
   "source": [
    "val_pred[1]"
   ]
  },
  {
   "cell_type": "code",
   "execution_count": 72,
   "id": "amateur-director",
   "metadata": {
    "papermill": {
     "duration": 1.452087,
     "end_time": "2021-04-17T06:12:38.821151",
     "exception": false,
     "start_time": "2021-04-17T06:12:37.369064",
     "status": "completed"
    },
    "tags": []
   },
   "outputs": [
    {
     "data": {
      "text/plain": [
       "<matplotlib.image.AxesImage at 0x7ff9ccb71dd0>"
      ]
     },
     "execution_count": 72,
     "metadata": {},
     "output_type": "execute_result"
    },
    {
     "data": {
      "image/png": "[encoded data removed]",
      "text/plain": [
       "<Figure size 288x288 with 1 Axes>"
      ]
     },
     "metadata": {
      "needs_background": "light"
     },
     "output_type": "display_data"
    }
   ],
   "source": [
    "plt.matshow(test[1])"
   ]
  },
  {
   "cell_type": "code",
   "execution_count": 74,
   "id": "supreme-consequence",
   "metadata": {
    "papermill": {
     "duration": 1.26894,
     "end_time": "2021-04-17T06:12:48.538420",
     "exception": false,
     "start_time": "2021-04-17T06:12:47.269480",
     "status": "completed"
    },
    "tags": []
   },
   "outputs": [],
   "source": [
    "submission=pd.DataFrame({'ImageId':imgid,'Label':test_pred})\n",
    "submission.to_csv('submission.csv',index=False)"
   ]
  },
  {
   "cell_type": "code",
   "execution_count": 76,
   "id": "juvenile-norwegian",
   "metadata": {},
   "outputs": [
    {
     "name": "stdout",
     "output_type": "stream",
     "text": [
      "(28000, 2)\n"
     ]
    }
   ],
   "source": [
    "submission = pd.read_csv(\"submission.csv\")\n",
    "print(submission.shape)"
   ]
  },
  {
   "cell_type": "code",
   "execution_count": 77,
   "id": "vanilla-capital",
   "metadata": {},
   "outputs": [
    {
     "data": {
      "text/plain": [
       "(28000, 2)"
      ]
     },
     "execution_count": 77,
     "metadata": {},
     "output_type": "execute_result"
    }
   ],
   "source": [
    "sam_sub.shape"
   ]
  },
  {
   "cell_type": "markdown",
   "id": "higher-colony",
   "metadata": {},
   "source": [
    "## Final Model"
   ]
  },
  {
   "cell_type": "code",
   "execution_count": 21,
   "id": "opened-brooklyn",
   "metadata": {
    "papermill": {
     "duration": 252.728258,
     "end_time": "2021-04-17T06:12:05.288317",
     "exception": false,
     "start_time": "2021-04-17T06:07:52.560059",
     "status": "completed"
    },
    "tags": []
   },
   "outputs": [
    {
     "name": "stdout",
     "output_type": "stream",
     "text": [
      "Train on 25200 samples, validate on 16800 samples\n",
      "Epoch 1/100\n",
      "25200/25200 [==============================] - 2s 92us/sample - loss: 0.8218 - accuracy: 0.7360 - val_loss: 0.2740 - val_accuracy: 0.9259\n",
      "Epoch 2/100\n",
      "25200/25200 [==============================] - 3s 114us/sample - loss: 0.2840 - accuracy: 0.9186 - val_loss: 0.2000 - val_accuracy: 0.9436\n",
      "Epoch 3/100\n",
      "25200/25200 [==============================] - 2s 75us/sample - loss: 0.2128 - accuracy: 0.9387 - val_loss: 0.1924 - val_accuracy: 0.9460\n",
      "Epoch 4/100\n",
      "25200/25200 [==============================] - 2s 75us/sample - loss: 0.1801 - accuracy: 0.9485 - val_loss: 0.1579 - val_accuracy: 0.9565\n",
      "Epoch 5/100\n",
      "25200/25200 [==============================] - 2s 74us/sample - loss: 0.1548 - accuracy: 0.9547 - val_loss: 0.1545 - val_accuracy: 0.9585\n",
      "Epoch 6/100\n",
      "25200/25200 [==============================] - 2s 72us/sample - loss: 0.1339 - accuracy: 0.9604 - val_loss: 0.1435 - val_accuracy: 0.9627\n",
      "Epoch 7/100\n",
      "25200/25200 [==============================] - 2s 78us/sample - loss: 0.1236 - accuracy: 0.9637 - val_loss: 0.1422 - val_accuracy: 0.9633\n",
      "Epoch 8/100\n",
      "25200/25200 [==============================] - 2s 69us/sample - loss: 0.1098 - accuracy: 0.9683 - val_loss: 0.1330 - val_accuracy: 0.9664\n",
      "Epoch 9/100\n",
      "25200/25200 [==============================] - 3s 100us/sample - loss: 0.1012 - accuracy: 0.9700 - val_loss: 0.1346 - val_accuracy: 0.9660\n",
      "Epoch 10/100\n",
      "25200/25200 [==============================] - 2s 98us/sample - loss: 0.0909 - accuracy: 0.9719 - val_loss: 0.1429 - val_accuracy: 0.9637\n",
      "Epoch 11/100\n",
      "25200/25200 [==============================] - 2s 74us/sample - loss: 0.0904 - accuracy: 0.9733 - val_loss: 0.1362 - val_accuracy: 0.9652\n",
      "Epoch 12/100\n",
      "25200/25200 [==============================] - 2s 76us/sample - loss: 0.0842 - accuracy: 0.9758 - val_loss: 0.1298 - val_accuracy: 0.9678\n",
      "Epoch 13/100\n",
      "25200/25200 [==============================] - 2s 69us/sample - loss: 0.0790 - accuracy: 0.9769 - val_loss: 0.1425 - val_accuracy: 0.9670\n",
      "Epoch 14/100\n",
      "25200/25200 [==============================] - 2s 98us/sample - loss: 0.0723 - accuracy: 0.9773 - val_loss: 0.1338 - val_accuracy: 0.9682\n",
      "Epoch 15/100\n",
      "25200/25200 [==============================] - 2s 96us/sample - loss: 0.0685 - accuracy: 0.9798 - val_loss: 0.1471 - val_accuracy: 0.9671\n",
      "Epoch 16/100\n",
      "25200/25200 [==============================] - 2s 75us/sample - loss: 0.0668 - accuracy: 0.9791 - val_loss: 0.1334 - val_accuracy: 0.9697\n",
      "Epoch 17/100\n",
      "25200/25200 [==============================] - 2s 96us/sample - loss: 0.0652 - accuracy: 0.9795 - val_loss: 0.1360 - val_accuracy: 0.9709\n",
      "Epoch 18/100\n",
      "25200/25200 [==============================] - 2s 83us/sample - loss: 0.0631 - accuracy: 0.9807 - val_loss: 0.1522 - val_accuracy: 0.9657\n",
      "Epoch 19/100\n",
      "25200/25200 [==============================] - 2s 79us/sample - loss: 0.0617 - accuracy: 0.9814 - val_loss: 0.1490 - val_accuracy: 0.9665\n",
      "Epoch 20/100\n",
      "25200/25200 [==============================] - 2s 82us/sample - loss: 0.0595 - accuracy: 0.9818 - val_loss: 0.1331 - val_accuracy: 0.9715\n",
      "Epoch 21/100\n",
      "25200/25200 [==============================] - 2s 94us/sample - loss: 0.0578 - accuracy: 0.9827 - val_loss: 0.1357 - val_accuracy: 0.9705\n",
      "Epoch 22/100\n",
      "25200/25200 [==============================] - 2s 96us/sample - loss: 0.0527 - accuracy: 0.9842 - val_loss: 0.1489 - val_accuracy: 0.9680\n",
      "Epoch 23/100\n",
      "25200/25200 [==============================] - 2s 76us/sample - loss: 0.0497 - accuracy: 0.9850 - val_loss: 0.1560 - val_accuracy: 0.9689\n",
      "Epoch 24/100\n",
      "25200/25200 [==============================] - 2s 82us/sample - loss: 0.0497 - accuracy: 0.9849 - val_loss: 0.1345 - val_accuracy: 0.9712\n",
      "Epoch 25/100\n",
      "25200/25200 [==============================] - 1s 55us/sample - loss: 0.0509 - accuracy: 0.9842 - val_loss: 0.1446 - val_accuracy: 0.9705\n",
      "Epoch 26/100\n",
      "25200/25200 [==============================] - 1s 54us/sample - loss: 0.0473 - accuracy: 0.9856 - val_loss: 0.1417 - val_accuracy: 0.9717\n",
      "Epoch 27/100\n",
      "25200/25200 [==============================] - 1s 54us/sample - loss: 0.0438 - accuracy: 0.9873 - val_loss: 0.1354 - val_accuracy: 0.9711\n",
      "Epoch 28/100\n",
      "25200/25200 [==============================] - 1s 55us/sample - loss: 0.0469 - accuracy: 0.9851 - val_loss: 0.1437 - val_accuracy: 0.9705\n",
      "Epoch 29/100\n",
      "25200/25200 [==============================] - 1s 54us/sample - loss: 0.0447 - accuracy: 0.9869 - val_loss: 0.1325 - val_accuracy: 0.9726\n",
      "Epoch 30/100\n",
      "25200/25200 [==============================] - 1s 55us/sample - loss: 0.0472 - accuracy: 0.9854 - val_loss: 0.1488 - val_accuracy: 0.9698\n",
      "Epoch 31/100\n",
      "25200/25200 [==============================] - 1s 55us/sample - loss: 0.0419 - accuracy: 0.9869 - val_loss: 0.1448 - val_accuracy: 0.9696\n",
      "Epoch 32/100\n",
      "25200/25200 [==============================] - 1s 55us/sample - loss: 0.0455 - accuracy: 0.9860 - val_loss: 0.1618 - val_accuracy: 0.9683\n",
      "Epoch 33/100\n",
      "25200/25200 [==============================] - 1s 56us/sample - loss: 0.0382 - accuracy: 0.9882 - val_loss: 0.1562 - val_accuracy: 0.9690\n",
      "Epoch 34/100\n",
      "25200/25200 [==============================] - 1s 55us/sample - loss: 0.0394 - accuracy: 0.9875 - val_loss: 0.1449 - val_accuracy: 0.9717\n",
      "Epoch 35/100\n",
      "25200/25200 [==============================] - 1s 55us/sample - loss: 0.0371 - accuracy: 0.9892 - val_loss: 0.1498 - val_accuracy: 0.9704\n",
      "Epoch 36/100\n",
      "25200/25200 [==============================] - 1s 55us/sample - loss: 0.0374 - accuracy: 0.9883 - val_loss: 0.1880 - val_accuracy: 0.9632\n",
      "Epoch 37/100\n",
      "25200/25200 [==============================] - 1s 55us/sample - loss: 0.0423 - accuracy: 0.9866 - val_loss: 0.1475 - val_accuracy: 0.9715\n",
      "Epoch 38/100\n",
      "25200/25200 [==============================] - 1s 55us/sample - loss: 0.0397 - accuracy: 0.9886 - val_loss: 0.1463 - val_accuracy: 0.9714\n",
      "Epoch 39/100\n",
      "25200/25200 [==============================] - 1s 55us/sample - loss: 0.0336 - accuracy: 0.9893 - val_loss: 0.1553 - val_accuracy: 0.9714\n",
      "Epoch 40/100\n",
      "25200/25200 [==============================] - 2s 97us/sample - loss: 0.0361 - accuracy: 0.9887 - val_loss: 0.1600 - val_accuracy: 0.9707\n",
      "Epoch 41/100\n",
      "25200/25200 [==============================] - 2s 88us/sample - loss: 0.0380 - accuracy: 0.9895 - val_loss: 0.1579 - val_accuracy: 0.9715\n",
      "Epoch 42/100\n",
      "25200/25200 [==============================] - 2s 76us/sample - loss: 0.0360 - accuracy: 0.9892 - val_loss: 0.1562 - val_accuracy: 0.9711\n",
      "Epoch 43/100\n",
      "25200/25200 [==============================] - 1s 54us/sample - loss: 0.0331 - accuracy: 0.9901 - val_loss: 0.1629 - val_accuracy: 0.9705\n",
      "Epoch 44/100\n",
      "25200/25200 [==============================] - 1s 58us/sample - loss: 0.0373 - accuracy: 0.9886 - val_loss: 0.1468 - val_accuracy: 0.9726\n",
      "Epoch 45/100\n",
      "25200/25200 [==============================] - 1s 59us/sample - loss: 0.0339 - accuracy: 0.9897 - val_loss: 0.1534 - val_accuracy: 0.9715\n",
      "Epoch 46/100\n",
      "25200/25200 [==============================] - 1s 59us/sample - loss: 0.0352 - accuracy: 0.9896 - val_loss: 0.1472 - val_accuracy: 0.9727\n",
      "Epoch 47/100\n",
      "25200/25200 [==============================] - 2s 61us/sample - loss: 0.0331 - accuracy: 0.9904 - val_loss: 0.1498 - val_accuracy: 0.9715\n",
      "Epoch 48/100\n",
      "25200/25200 [==============================] - 1s 59us/sample - loss: 0.0290 - accuracy: 0.9909 - val_loss: 0.1515 - val_accuracy: 0.9718\n",
      "Epoch 49/100\n",
      "25200/25200 [==============================] - 1s 55us/sample - loss: 0.0299 - accuracy: 0.9910 - val_loss: 0.1525 - val_accuracy: 0.9712\n",
      "Epoch 50/100\n",
      "25200/25200 [==============================] - 1s 55us/sample - loss: 0.0299 - accuracy: 0.9910 - val_loss: 0.1631 - val_accuracy: 0.9725\n",
      "Epoch 51/100\n",
      "25200/25200 [==============================] - 2s 69us/sample - loss: 0.0310 - accuracy: 0.9907 - val_loss: 0.1674 - val_accuracy: 0.9705\n",
      "Epoch 52/100\n",
      "25200/25200 [==============================] - 2s 79us/sample - loss: 0.0326 - accuracy: 0.9901 - val_loss: 0.1627 - val_accuracy: 0.9717\n",
      "Epoch 53/100\n",
      "25200/25200 [==============================] - 2s 74us/sample - loss: 0.0287 - accuracy: 0.9913 - val_loss: 0.1474 - val_accuracy: 0.9739\n",
      "Epoch 54/100\n",
      "25200/25200 [==============================] - 2s 76us/sample - loss: 0.0287 - accuracy: 0.9922 - val_loss: 0.1566 - val_accuracy: 0.9698\n",
      "Epoch 55/100\n",
      "25200/25200 [==============================] - 2s 72us/sample - loss: 0.0281 - accuracy: 0.9917 - val_loss: 0.1619 - val_accuracy: 0.9726\n",
      "Epoch 56/100\n",
      "25200/25200 [==============================] - 2s 68us/sample - loss: 0.0258 - accuracy: 0.9923 - val_loss: 0.1587 - val_accuracy: 0.9739\n",
      "Epoch 57/100\n",
      "25200/25200 [==============================] - 2s 70us/sample - loss: 0.0296 - accuracy: 0.9915 - val_loss: 0.1610 - val_accuracy: 0.9685\n",
      "Epoch 58/100\n",
      "25200/25200 [==============================] - 2s 60us/sample - loss: 0.0270 - accuracy: 0.9913 - val_loss: 0.1628 - val_accuracy: 0.9721\n",
      "Epoch 59/100\n",
      "25200/25200 [==============================] - 2s 62us/sample - loss: 0.0279 - accuracy: 0.9902 - val_loss: 0.1719 - val_accuracy: 0.9694\n",
      "Epoch 60/100\n",
      "25200/25200 [==============================] - 2s 63us/sample - loss: 0.0266 - accuracy: 0.9923 - val_loss: 0.1762 - val_accuracy: 0.9702\n",
      "Epoch 61/100\n",
      "25200/25200 [==============================] - 1s 58us/sample - loss: 0.0236 - accuracy: 0.9926 - val_loss: 0.1630 - val_accuracy: 0.9733\n",
      "Epoch 62/100\n",
      "25200/25200 [==============================] - 2s 60us/sample - loss: 0.0273 - accuracy: 0.9919 - val_loss: 0.1613 - val_accuracy: 0.9714\n",
      "Epoch 63/100\n",
      "25200/25200 [==============================] - 1s 56us/sample - loss: 0.0291 - accuracy: 0.9917 - val_loss: 0.1544 - val_accuracy: 0.9720\n",
      "Epoch 64/100\n",
      "25200/25200 [==============================] - 2s 60us/sample - loss: 0.0234 - accuracy: 0.9931 - val_loss: 0.1777 - val_accuracy: 0.9715\n",
      "Epoch 65/100\n",
      "25200/25200 [==============================] - 2s 61us/sample - loss: 0.0262 - accuracy: 0.9929 - val_loss: 0.1682 - val_accuracy: 0.9720\n",
      "Epoch 66/100\n",
      "25200/25200 [==============================] - 2s 63us/sample - loss: 0.0257 - accuracy: 0.9923 - val_loss: 0.1669 - val_accuracy: 0.9713\n",
      "Epoch 67/100\n",
      "25200/25200 [==============================] - 2s 66us/sample - loss: 0.0267 - accuracy: 0.9921 - val_loss: 0.1690 - val_accuracy: 0.9708\n",
      "Epoch 68/100\n",
      "25200/25200 [==============================] - 2s 82us/sample - loss: 0.0248 - accuracy: 0.9927 - val_loss: 0.1689 - val_accuracy: 0.9702\n",
      "Epoch 69/100\n",
      "25200/25200 [==============================] - 2s 93us/sample - loss: 0.0261 - accuracy: 0.9925 - val_loss: 0.1685 - val_accuracy: 0.9710\n",
      "Epoch 70/100\n",
      "25200/25200 [==============================] - 2s 84us/sample - loss: 0.0260 - accuracy: 0.9924 - val_loss: 0.1640 - val_accuracy: 0.9717\n",
      "Epoch 71/100\n",
      "25200/25200 [==============================] - 2s 68us/sample - loss: 0.0244 - accuracy: 0.9929 - val_loss: 0.1800 - val_accuracy: 0.9708\n",
      "Epoch 72/100\n",
      "25200/25200 [==============================] - 2s 60us/sample - loss: 0.0253 - accuracy: 0.9926 - val_loss: 0.1664 - val_accuracy: 0.9710\n",
      "Epoch 73/100\n",
      "25200/25200 [==============================] - 2s 69us/sample - loss: 0.0237 - accuracy: 0.9937 - val_loss: 0.1619 - val_accuracy: 0.9714\n",
      "Epoch 74/100\n",
      "25200/25200 [==============================] - 2s 63us/sample - loss: 0.0220 - accuracy: 0.9940 - val_loss: 0.1627 - val_accuracy: 0.9736\n",
      "Epoch 75/100\n",
      "25200/25200 [==============================] - 2s 67us/sample - loss: 0.0224 - accuracy: 0.9934 - val_loss: 0.1635 - val_accuracy: 0.9714\n",
      "Epoch 76/100\n",
      "25200/25200 [==============================] - 2s 67us/sample - loss: 0.0246 - accuracy: 0.9927 - val_loss: 0.1814 - val_accuracy: 0.9695\n",
      "Epoch 77/100\n",
      "25200/25200 [==============================] - 2s 74us/sample - loss: 0.0254 - accuracy: 0.9922 - val_loss: 0.1609 - val_accuracy: 0.9714\n",
      "Epoch 78/100\n",
      "25200/25200 [==============================] - 2s 70us/sample - loss: 0.0180 - accuracy: 0.9948 - val_loss: 0.1683 - val_accuracy: 0.9724\n",
      "Epoch 79/100\n",
      "25200/25200 [==============================] - 2s 68us/sample - loss: 0.0253 - accuracy: 0.9929 - val_loss: 0.1607 - val_accuracy: 0.9723\n",
      "Epoch 80/100\n",
      "25200/25200 [==============================] - 2s 65us/sample - loss: 0.0223 - accuracy: 0.9935 - val_loss: 0.1748 - val_accuracy: 0.9722\n",
      "Epoch 81/100\n",
      "25200/25200 [==============================] - 2s 78us/sample - loss: 0.0246 - accuracy: 0.9931 - val_loss: 0.1665 - val_accuracy: 0.9718\n",
      "Epoch 82/100\n",
      "25200/25200 [==============================] - 2s 70us/sample - loss: 0.0206 - accuracy: 0.9938 - val_loss: 0.1744 - val_accuracy: 0.9716\n",
      "Epoch 83/100\n",
      "25200/25200 [==============================] - 2s 64us/sample - loss: 0.0245 - accuracy: 0.9927 - val_loss: 0.1679 - val_accuracy: 0.9707\n",
      "Epoch 84/100\n",
      "25200/25200 [==============================] - 2s 75us/sample - loss: 0.0212 - accuracy: 0.9942 - val_loss: 0.1700 - val_accuracy: 0.9726\n",
      "Epoch 85/100\n",
      "25200/25200 [==============================] - 2s 73us/sample - loss: 0.0209 - accuracy: 0.9942 - val_loss: 0.1685 - val_accuracy: 0.9729\n",
      "Epoch 86/100\n",
      "25200/25200 [==============================] - 2s 78us/sample - loss: 0.0237 - accuracy: 0.9931 - val_loss: 0.1775 - val_accuracy: 0.9689\n",
      "Epoch 87/100\n",
      "25200/25200 [==============================] - 2s 64us/sample - loss: 0.0218 - accuracy: 0.9941 - val_loss: 0.1583 - val_accuracy: 0.9730\n",
      "Epoch 88/100\n",
      "25200/25200 [==============================] - 2s 64us/sample - loss: 0.0188 - accuracy: 0.9948 - val_loss: 0.1706 - val_accuracy: 0.9717\n",
      "Epoch 89/100\n",
      "25200/25200 [==============================] - 1s 56us/sample - loss: 0.0204 - accuracy: 0.9943 - val_loss: 0.1617 - val_accuracy: 0.9726\n",
      "Epoch 90/100\n",
      "25200/25200 [==============================] - 1s 55us/sample - loss: 0.0218 - accuracy: 0.9938 - val_loss: 0.1789 - val_accuracy: 0.9692\n",
      "Epoch 91/100\n",
      "25200/25200 [==============================] - 1s 55us/sample - loss: 0.0254 - accuracy: 0.9929 - val_loss: 0.1675 - val_accuracy: 0.9720\n",
      "Epoch 92/100\n",
      "25200/25200 [==============================] - 1s 55us/sample - loss: 0.0213 - accuracy: 0.9934 - val_loss: 0.1695 - val_accuracy: 0.9702\n",
      "Epoch 93/100\n",
      "25200/25200 [==============================] - 1s 54us/sample - loss: 0.0195 - accuracy: 0.9950 - val_loss: 0.1724 - val_accuracy: 0.9715\n",
      "Epoch 94/100\n",
      "25200/25200 [==============================] - 1s 54us/sample - loss: 0.0204 - accuracy: 0.9939 - val_loss: 0.1695 - val_accuracy: 0.9710\n",
      "Epoch 95/100\n",
      "25200/25200 [==============================] - 1s 55us/sample - loss: 0.0200 - accuracy: 0.9939 - val_loss: 0.1861 - val_accuracy: 0.9705\n",
      "Epoch 96/100\n",
      "25200/25200 [==============================] - 1s 55us/sample - loss: 0.0179 - accuracy: 0.9948 - val_loss: 0.1684 - val_accuracy: 0.9725\n",
      "Epoch 97/100\n",
      "25200/25200 [==============================] - 1s 55us/sample - loss: 0.0184 - accuracy: 0.9948 - val_loss: 0.1870 - val_accuracy: 0.9722\n",
      "Epoch 98/100\n",
      "25200/25200 [==============================] - 1s 54us/sample - loss: 0.0196 - accuracy: 0.9944 - val_loss: 0.1790 - val_accuracy: 0.9721\n",
      "Epoch 99/100\n",
      "25200/25200 [==============================] - 2s 60us/sample - loss: 0.0170 - accuracy: 0.9948 - val_loss: 0.1905 - val_accuracy: 0.9707\n",
      "Epoch 100/100\n",
      "25200/25200 [==============================] - 2s 75us/sample - loss: 0.0218 - accuracy: 0.9937 - val_loss: 0.1682 - val_accuracy: 0.9729\n"
     ]
    }
   ],
   "source": [
    "model=keras.Sequential([\n",
    "    keras.layers.Flatten(input_shape=(28,28)),\n",
    "    keras.layers.Dense(100,activation='relu'),\n",
    "    keras.layers.Dropout(0.20),\n",
    "    keras.layers.Dense(50,activation='relu'),\n",
    "    keras.layers.Dense(25,activation='relu'),\n",
    "    keras.layers.Dropout(0.10),\n",
    "    keras.layers.Dense(12,activation='relu'),\n",
    "    keras.layers.Dense(10,activation='relu'),\n",
    "    keras.layers.Dense(10,activation='softmax')\n",
    "])\n",
    "\n",
    "\n",
    "model.compile(optimizer='adam',loss='sparse_categorical_crossentropy',metrics=['accuracy'])\n",
    "\n",
    "history=model.fit(X,y,epochs=100,validation_data=(X_val,y_val))"
   ]
  },
  {
   "cell_type": "code",
   "execution_count": 22,
   "id": "manual-cooking",
   "metadata": {
    "papermill": {
     "duration": 1.180179,
     "end_time": "2021-04-17T06:12:07.626142",
     "exception": false,
     "start_time": "2021-04-17T06:12:06.445963",
     "status": "completed"
    },
    "tags": []
   },
   "outputs": [
    {
     "name": "stdout",
     "output_type": "stream",
     "text": [
      "Model: \"sequential_2\"\n",
      "_________________________________________________________________\n",
      "Layer (type)                 Output Shape              Param #   \n",
      "=================================================================\n",
      "flatten_2 (Flatten)          (None, 784)               0         \n",
      "_________________________________________________________________\n",
      "dense_12 (Dense)             (None, 100)               78500     \n",
      "_________________________________________________________________\n",
      "dropout_4 (Dropout)          (None, 100)               0         \n",
      "_________________________________________________________________\n",
      "dense_13 (Dense)             (None, 50)                5050      \n",
      "_________________________________________________________________\n",
      "dense_14 (Dense)             (None, 25)                1275      \n",
      "_________________________________________________________________\n",
      "dropout_5 (Dropout)          (None, 25)                0         \n",
      "_________________________________________________________________\n",
      "dense_15 (Dense)             (None, 12)                312       \n",
      "_________________________________________________________________\n",
      "dense_16 (Dense)             (None, 10)                130       \n",
      "_________________________________________________________________\n",
      "dense_17 (Dense)             (None, 10)                110       \n",
      "=================================================================\n",
      "Total params: 85,377\n",
      "Trainable params: 85,377\n",
      "Non-trainable params: 0\n",
      "_________________________________________________________________\n"
     ]
    }
   ],
   "source": [
    "model.summary()"
   ]
  },
  {
   "cell_type": "raw",
   "id": "nuclear-collectible",
   "metadata": {
    "papermill": {
     "duration": 1.86236,
     "end_time": "2021-04-17T06:12:10.646053",
     "exception": false,
     "start_time": "2021-04-17T06:12:08.783693",
     "status": "completed"
    },
    "tags": []
   },
   "source": [
    "from keras.utils.vis_utils import plot_model\n",
    "plot_model(model,to_file='model_plot.png',show_shapes=True,show_layer_names=True)"
   ]
  },
  {
   "cell_type": "code",
   "execution_count": 24,
   "id": "infrared-supervision",
   "metadata": {
    "papermill": {
     "duration": 1.406933,
     "end_time": "2021-04-17T06:12:13.218141",
     "exception": false,
     "start_time": "2021-04-17T06:12:11.811208",
     "status": "completed"
    },
    "tags": []
   },
   "outputs": [
    {
     "data": {
      "image/png": "[encoded data removed]",
      "text/plain": [
       "<Figure size 432x288 with 1 Axes>"
      ]
     },
     "metadata": {
      "needs_background": "light"
     },
     "output_type": "display_data"
    }
   ],
   "source": [
    "loss_train=history.history['loss']\n",
    "loss_val=history.history['val_loss']\n",
    "epochs=range(1,101)\n",
    "plt.plot(epochs,loss_train,'g',label='Training loss')\n",
    "plt.plot(epochs,loss_val,'b',label='Validation loss')\n",
    "plt.title('Training and Validation loss')\n",
    "plt.xlabel('Epochs')\n",
    "plt.ylabel('Loss')\n",
    "plt.legend()\n",
    "plt.show()"
   ]
  },
  {
   "cell_type": "code",
   "execution_count": 25,
   "id": "literary-assets",
   "metadata": {
    "papermill": {
     "duration": 1.359161,
     "end_time": "2021-04-17T06:12:15.776188",
     "exception": false,
     "start_time": "2021-04-17T06:12:14.417027",
     "status": "completed"
    },
    "tags": []
   },
   "outputs": [
    {
     "data": {
      "image/png": "[encoded data removed]",
      "text/plain": [
       "<Figure size 432x288 with 1 Axes>"
      ]
     },
     "metadata": {
      "needs_background": "light"
     },
     "output_type": "display_data"
    }
   ],
   "source": [
    "loss_train=history.history['accuracy']\n",
    "loss_val=history.history['val_accuracy']\n",
    "epochs=range(1,101)\n",
    "plt.plot(epochs,loss_train,'g',label='Training accuracy')\n",
    "plt.plot(epochs,loss_val,'b',label='Validation accuracy')\n",
    "plt.title('Training and Validation accuracy')\n",
    "plt.xlabel('Epochs')\n",
    "plt.ylabel('Accuracy')\n",
    "plt.legend()\n",
    "plt.show()"
   ]
  },
  {
   "cell_type": "code",
   "execution_count": 32,
   "id": "efficient-shark",
   "metadata": {
    "papermill": {
     "duration": 1.200948,
     "end_time": "2021-04-17T06:12:25.631408",
     "exception": false,
     "start_time": "2021-04-17T06:12:24.430460",
     "status": "completed"
    },
    "tags": []
   },
   "outputs": [
    {
     "data": {
      "text/html": [
       "<div>\n",
       "<style scoped>\n",
       "    .dataframe tbody tr th:only-of-type {\n",
       "        vertical-align: middle;\n",
       "    }\n",
       "\n",
       "    .dataframe tbody tr th {\n",
       "        vertical-align: top;\n",
       "    }\n",
       "\n",
       "    .dataframe thead th {\n",
       "        text-align: right;\n",
       "    }\n",
       "</style>\n",
       "<table border=\"1\" class=\"dataframe\">\n",
       "  <thead>\n",
       "    <tr style=\"text-align: right;\">\n",
       "      <th></th>\n",
       "      <th>ImageId</th>\n",
       "      <th>Label</th>\n",
       "    </tr>\n",
       "  </thead>\n",
       "  <tbody>\n",
       "    <tr>\n",
       "      <th>0</th>\n",
       "      <td>1</td>\n",
       "      <td>0</td>\n",
       "    </tr>\n",
       "    <tr>\n",
       "      <th>1</th>\n",
       "      <td>2</td>\n",
       "      <td>0</td>\n",
       "    </tr>\n",
       "    <tr>\n",
       "      <th>2</th>\n",
       "      <td>3</td>\n",
       "      <td>0</td>\n",
       "    </tr>\n",
       "    <tr>\n",
       "      <th>3</th>\n",
       "      <td>4</td>\n",
       "      <td>0</td>\n",
       "    </tr>\n",
       "    <tr>\n",
       "      <th>4</th>\n",
       "      <td>5</td>\n",
       "      <td>0</td>\n",
       "    </tr>\n",
       "  </tbody>\n",
       "</table>\n",
       "</div>"
      ],
      "text/plain": [
       "   ImageId  Label\n",
       "0        1      0\n",
       "1        2      0\n",
       "2        3      0\n",
       "3        4      0\n",
       "4        5      0"
      ]
     },
     "execution_count": 32,
     "metadata": {},
     "output_type": "execute_result"
    }
   ],
   "source": [
    "sam_sub.head()"
   ]
  },
  {
   "cell_type": "code",
   "execution_count": 33,
   "id": "educated-jamaica",
   "metadata": {
    "papermill": {
     "duration": 1.16533,
     "end_time": "2021-04-17T06:12:28.021219",
     "exception": false,
     "start_time": "2021-04-17T06:12:26.855889",
     "status": "completed"
    },
    "tags": []
   },
   "outputs": [
    {
     "data": {
      "text/plain": [
       "(28000, 2)"
      ]
     },
     "execution_count": 33,
     "metadata": {},
     "output_type": "execute_result"
    }
   ],
   "source": [
    "sam_sub.shape"
   ]
  },
  {
   "cell_type": "code",
   "execution_count": 34,
   "id": "prostate-titanium",
   "metadata": {
    "papermill": {
     "duration": 1.165693,
     "end_time": "2021-04-17T06:12:30.343943",
     "exception": false,
     "start_time": "2021-04-17T06:12:29.178250",
     "status": "completed"
    },
    "tags": []
   },
   "outputs": [
    {
     "data": {
      "text/plain": [
       "(28000, 28, 28)"
      ]
     },
     "execution_count": 34,
     "metadata": {},
     "output_type": "execute_result"
    }
   ],
   "source": [
    "test.shape"
   ]
  },
  {
   "cell_type": "code",
   "execution_count": 35,
   "id": "korean-pottery",
   "metadata": {
    "papermill": {
     "duration": 2.265061,
     "end_time": "2021-04-17T06:12:33.775902",
     "exception": false,
     "start_time": "2021-04-17T06:12:31.510841",
     "status": "completed"
    },
    "tags": []
   },
   "outputs": [],
   "source": [
    "Label=model.predict(test)"
   ]
  },
  {
   "cell_type": "code",
   "execution_count": 36,
   "id": "naval-malta",
   "metadata": {
    "papermill": {
     "duration": 1.19761,
     "end_time": "2021-04-17T06:12:36.188846",
     "exception": false,
     "start_time": "2021-04-17T06:12:34.991236",
     "status": "completed"
    },
    "tags": []
   },
   "outputs": [
    {
     "data": {
      "text/plain": [
       "array([3.0284680e-19, 1.8426173e-15, 1.0000000e+00, 1.7429221e-11,\n",
       "       3.1089142e-15, 1.3210111e-21, 2.4598240e-14, 8.1149931e-12,\n",
       "       1.7839904e-17, 2.4281649e-20], dtype=float32)"
      ]
     },
     "execution_count": 36,
     "metadata": {},
     "output_type": "execute_result"
    }
   ],
   "source": [
    "Label[0]"
   ]
  },
  {
   "cell_type": "code",
   "execution_count": 37,
   "id": "golden-relative",
   "metadata": {
    "papermill": {
     "duration": 1.452087,
     "end_time": "2021-04-17T06:12:38.821151",
     "exception": false,
     "start_time": "2021-04-17T06:12:37.369064",
     "status": "completed"
    },
    "tags": []
   },
   "outputs": [
    {
     "data": {
      "text/plain": [
       "<matplotlib.image.AxesImage at 0x7ff9caf867d0>"
      ]
     },
     "execution_count": 37,
     "metadata": {},
     "output_type": "execute_result"
    },
    {
     "data": {
      "image/png": "[encoded data removed]",
      "text/plain": [
       "<Figure size 288x288 with 1 Axes>"
      ]
     },
     "metadata": {
      "needs_background": "light"
     },
     "output_type": "display_data"
    }
   ],
   "source": [
    "plt.matshow(test[0])"
   ]
  },
  {
   "cell_type": "code",
   "execution_count": 38,
   "id": "extensive-label",
   "metadata": {
    "papermill": {
     "duration": 1.188141,
     "end_time": "2021-04-17T06:12:41.211013",
     "exception": false,
     "start_time": "2021-04-17T06:12:40.022872",
     "status": "completed"
    },
    "tags": []
   },
   "outputs": [
    {
     "data": {
      "text/plain": [
       "2"
      ]
     },
     "execution_count": 38,
     "metadata": {},
     "output_type": "execute_result"
    }
   ],
   "source": [
    "np.argmax(Label[0])"
   ]
  },
  {
   "cell_type": "code",
   "execution_count": 39,
   "id": "completed-soccer",
   "metadata": {
    "papermill": {
     "duration": 1.316362,
     "end_time": "2021-04-17T06:12:43.705849",
     "exception": false,
     "start_time": "2021-04-17T06:12:42.389487",
     "status": "completed"
    },
    "tags": []
   },
   "outputs": [
    {
     "data": {
      "text/plain": [
       "[2, 0, 9, 4, 3, 7, 0, 3, 0, 3]"
      ]
     },
     "execution_count": 39,
     "metadata": {},
     "output_type": "execute_result"
    }
   ],
   "source": [
    "Label=[np.argmax(i) for i in Label]\n",
    "Label[:10]"
   ]
  },
  {
   "cell_type": "code",
   "execution_count": 40,
   "id": "european-scanner",
   "metadata": {
    "papermill": {
     "duration": 1.179547,
     "end_time": "2021-04-17T06:12:46.057974",
     "exception": false,
     "start_time": "2021-04-17T06:12:44.878427",
     "status": "completed"
    },
    "tags": []
   },
   "outputs": [],
   "source": [
    "imgid=range(1,len(Label)+1)"
   ]
  },
  {
   "cell_type": "code",
   "execution_count": 41,
   "id": "transsexual-rally",
   "metadata": {
    "papermill": {
     "duration": 1.26894,
     "end_time": "2021-04-17T06:12:48.538420",
     "exception": false,
     "start_time": "2021-04-17T06:12:47.269480",
     "status": "completed"
    },
    "tags": []
   },
   "outputs": [],
   "source": [
    "submission=pd.DataFrame({'ImageId':imgid,'Label':Label})\n",
    "submission.to_csv('submission.csv',index=False)"
   ]
  },
  {
   "cell_type": "code",
   "execution_count": null,
   "id": "decent-tracker",
   "metadata": {
    "papermill": {
     "duration": 1.216583,
     "end_time": "2021-04-17T06:12:50.984180",
     "exception": false,
     "start_time": "2021-04-17T06:12:49.767597",
     "status": "completed"
    },
    "tags": []
   },
   "outputs": [],
   "source": []
  }
 ],
 "metadata": {
  "kernelspec": {
   "display_name": "Python 3",
   "language": "python",
   "name": "python3"
  },
  "language_info": {
   "codemirror_mode": {
    "name": "ipython",
    "version": 3
   },
   "file_extension": ".py",
   "mimetype": "text/x-python",
   "name": "python",
   "nbconvert_exporter": "python",
   "pygments_lexer": "ipython3",
   "version": "3.7.9"
  },
  "papermill": {
   "default_parameters": {},
   "duration": 323.216434,
   "end_time": "2021-04-17T06:12:53.365808",
   "environment_variables": {},
   "exception": null,
   "input_path": "__notebook__.ipynb",
   "output_path": "__notebook__.ipynb",
   "parameters": {},
   "start_time": "2021-04-17T06:07:30.149374",
   "version": "2.3.2"
  }
 },
 "nbformat": 4,
 "nbformat_minor": 5
}
