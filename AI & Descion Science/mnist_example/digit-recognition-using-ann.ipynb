{
 "cells": [
  {
   "cell_type": "code",
   "execution_count": null,
   "id": "upper-charm",
   "metadata": {
    "_cell_guid": "b1076dfc-b9ad-4769-8c92-a6c4dae69d19",
    "_uuid": "8f2839f25d086af736a60e9eeb907d3b93b6e0e5",
    "papermill": {
     "duration": 6.548786,
     "end_time": "2021-04-17T06:07:43.362413",
     "exception": false,
     "start_time": "2021-04-17T06:07:36.813627",
     "status": "completed"
    },
    "tags": []
   },
   "outputs": [],
   "source": [
    "import numpy as np\n",
    "import pandas as pd\n",
    "import matplotlib.pyplot as plt\n",
    "%matplotlib inline\n",
    "import tensorflow as tf\n",
    "from tensorflow import keras"
   ]
  },
  {
   "cell_type": "code",
   "execution_count": null,
   "id": "center-australian",
   "metadata": {
    "papermill": {
     "duration": 6.223949,
     "end_time": "2021-04-17T06:07:49.610495",
     "exception": false,
     "start_time": "2021-04-17T06:07:43.386546",
     "status": "completed"
    },
    "tags": []
   },
   "outputs": [],
   "source": [
    "train=pd.read_csv('data/train.csv')\n",
    "test=pd.read_csv('data/test.csv')\n",
    "sam_sub=pd.read_csv('data/sample_submission.csv')"
   ]
  },
  {
   "cell_type": "code",
   "execution_count": null,
   "id": "clean-course",
   "metadata": {
    "papermill": {
     "duration": 0.035226,
     "end_time": "2021-04-17T06:07:49.668628",
     "exception": false,
     "start_time": "2021-04-17T06:07:49.633402",
     "status": "completed"
    },
    "tags": []
   },
   "outputs": [],
   "source": [
    "train.shape"
   ]
  },
  {
   "cell_type": "code",
   "execution_count": null,
   "id": "intensive-cookie",
   "metadata": {
    "papermill": {
     "duration": 0.040779,
     "end_time": "2021-04-17T06:07:49.738819",
     "exception": false,
     "start_time": "2021-04-17T06:07:49.698040",
     "status": "completed"
    },
    "tags": []
   },
   "outputs": [],
   "source": [
    "test.shape"
   ]
  },
  {
   "cell_type": "code",
   "execution_count": null,
   "id": "sustainable-probability",
   "metadata": {
    "papermill": {
     "duration": 0.07431,
     "end_time": "2021-04-17T06:07:49.843958",
     "exception": false,
     "start_time": "2021-04-17T06:07:49.769648",
     "status": "completed"
    },
    "tags": []
   },
   "outputs": [],
   "source": [
    "train.head()"
   ]
  },
  {
   "cell_type": "code",
   "execution_count": null,
   "id": "designing-indiana",
   "metadata": {
    "papermill": {
     "duration": 0.143165,
     "end_time": "2021-04-17T06:07:50.013066",
     "exception": false,
     "start_time": "2021-04-17T06:07:49.869901",
     "status": "completed"
    },
    "tags": []
   },
   "outputs": [],
   "source": [
    "X=train.drop('label',axis=1)\n",
    "y=train['label']"
   ]
  },
  {
   "cell_type": "code",
   "execution_count": null,
   "id": "forbidden-crash",
   "metadata": {
    "papermill": {
     "duration": 0.034718,
     "end_time": "2021-04-17T06:07:50.072357",
     "exception": false,
     "start_time": "2021-04-17T06:07:50.037639",
     "status": "completed"
    },
    "tags": []
   },
   "outputs": [],
   "source": [
    "X.shape,test.shape"
   ]
  },
  {
   "cell_type": "code",
   "execution_count": null,
   "id": "competent-florence",
   "metadata": {
    "papermill": {
     "duration": 0.032841,
     "end_time": "2021-04-17T06:07:50.132182",
     "exception": false,
     "start_time": "2021-04-17T06:07:50.099341",
     "status": "completed"
    },
    "tags": []
   },
   "outputs": [],
   "source": [
    "X,test=X.values.reshape(-1,28,28),test.values.reshape(-1,28,28)"
   ]
  },
  {
   "cell_type": "code",
   "execution_count": null,
   "id": "greek-representation",
   "metadata": {
    "papermill": {
     "duration": 0.034884,
     "end_time": "2021-04-17T06:07:50.192157",
     "exception": false,
     "start_time": "2021-04-17T06:07:50.157273",
     "status": "completed"
    },
    "tags": []
   },
   "outputs": [],
   "source": [
    "X.shape,test.shape"
   ]
  },
  {
   "cell_type": "code",
   "execution_count": null,
   "id": "editorial-prisoner",
   "metadata": {
    "papermill": {
     "duration": 0.035281,
     "end_time": "2021-04-17T06:07:50.253237",
     "exception": false,
     "start_time": "2021-04-17T06:07:50.217956",
     "status": "completed"
    },
    "tags": []
   },
   "outputs": [],
   "source": [
    "X[0].shape"
   ]
  },
  {
   "cell_type": "code",
   "execution_count": null,
   "id": "blond-blanket",
   "metadata": {
    "papermill": {
     "duration": 0.191806,
     "end_time": "2021-04-17T06:07:50.472649",
     "exception": false,
     "start_time": "2021-04-17T06:07:50.280843",
     "status": "completed"
    },
    "tags": []
   },
   "outputs": [],
   "source": [
    "plt.imshow(X[0])"
   ]
  },
  {
   "cell_type": "code",
   "execution_count": null,
   "id": "conventional-session",
   "metadata": {
    "papermill": {
     "duration": 0.038934,
     "end_time": "2021-04-17T06:07:50.539633",
     "exception": false,
     "start_time": "2021-04-17T06:07:50.500699",
     "status": "completed"
    },
    "tags": []
   },
   "outputs": [],
   "source": [
    "print(X[0])"
   ]
  },
  {
   "cell_type": "code",
   "execution_count": null,
   "id": "saving-feelings",
   "metadata": {
    "papermill": {
     "duration": 0.260452,
     "end_time": "2021-04-17T06:07:50.828565",
     "exception": false,
     "start_time": "2021-04-17T06:07:50.568113",
     "status": "completed"
    },
    "tags": []
   },
   "outputs": [],
   "source": [
    "X,test=X/255,test/255\n",
    "print(X[0])"
   ]
  },
  {
   "cell_type": "code",
   "execution_count": null,
   "id": "golden-lucas",
   "metadata": {
    "papermill": {
     "duration": 0.30326,
     "end_time": "2021-04-17T06:07:51.160628",
     "exception": false,
     "start_time": "2021-04-17T06:07:50.857368",
     "status": "completed"
    },
    "tags": []
   },
   "outputs": [],
   "source": [
    "plt.matshow(X[0])"
   ]
  },
  {
   "cell_type": "code",
   "execution_count": null,
   "id": "stone-james",
   "metadata": {
    "papermill": {
     "duration": 0.768206,
     "end_time": "2021-04-17T06:07:51.983072",
     "exception": false,
     "start_time": "2021-04-17T06:07:51.214866",
     "status": "completed"
    },
    "tags": []
   },
   "outputs": [],
   "source": [
    "from sklearn.model_selection import train_test_split"
   ]
  },
  {
   "cell_type": "code",
   "execution_count": null,
   "id": "statistical-denver",
   "metadata": {
    "papermill": {
     "duration": 0.446602,
     "end_time": "2021-04-17T06:07:52.462536",
     "exception": false,
     "start_time": "2021-04-17T06:07:52.015934",
     "status": "completed"
    },
    "tags": []
   },
   "outputs": [],
   "source": [
    "X_train,X_val,y_train,y_val=train_test_split(X,y,test_size=0.4,random_state=21)"
   ]
  },
  {
   "cell_type": "code",
   "execution_count": null,
   "id": "filled-voluntary",
   "metadata": {
    "papermill": {
     "duration": 0.037894,
     "end_time": "2021-04-17T06:07:52.530069",
     "exception": false,
     "start_time": "2021-04-17T06:07:52.492175",
     "status": "completed"
    },
    "tags": []
   },
   "outputs": [],
   "source": [
    "X_val.shape"
   ]
  },
  {
   "cell_type": "code",
   "execution_count": null,
   "id": "brief-sword",
   "metadata": {},
   "outputs": [],
   "source": [
    "X_train.shape"
   ]
  },
  {
   "cell_type": "markdown",
   "id": "little-botswana",
   "metadata": {},
   "source": [
    "## Simple Multi-layer Model"
   ]
  },
  {
   "cell_type": "code",
   "execution_count": null,
   "id": "spare-banana",
   "metadata": {},
   "outputs": [],
   "source": [
    "model=keras.Sequential([\n",
    "    keras.layers.Flatten(input_shape=(28,28)),\n",
    "    #add layers\n",
    "    \n",
    "])\n",
    "\n",
    "model.compile(optimizer='adam',loss='sparse_categorical_crossentropy',metrics=['accuracy'])\n",
    "\n",
    "history=model.fit(X,y,epochs=10,validation_data=(X_train,y_train))"
   ]
  },
  {
   "cell_type": "code",
   "execution_count": null,
   "id": "quantitative-dietary",
   "metadata": {},
   "outputs": [],
   "source": [
    "train_pred = model.predict_classes(X_train)\n",
    "val_pred = model.predict_classes(X_val)\n",
    "test_pred = model.predict_classes(test)"
   ]
  },
  {
   "cell_type": "code",
   "execution_count": null,
   "id": "composite-things",
   "metadata": {},
   "outputs": [],
   "source": [
    "from sklearn.metrics import accuracy_score\n",
    "from sklearn.metrics import classification_report, confusion_matrix\n",
    "\n",
    "accuracy_score_train = accuracy_score(y_train, train_pred)\n",
    "accuracy_score_val = accuracy_score(y_val, val_pred)\n",
    "\n",
    "\n",
    "\n",
    "print(\"Train Accuracy: \",accuracy_score_train)\n",
    "\n",
    "print(\"-----------------------\")\n",
    "\n",
    "print(\"Val Accuracy: \",accuracy_score_val)\n"
   ]
  },
  {
   "cell_type": "code",
   "execution_count": null,
   "id": "ultimate-guitar",
   "metadata": {
    "papermill": {
     "duration": 1.19761,
     "end_time": "2021-04-17T06:12:36.188846",
     "exception": false,
     "start_time": "2021-04-17T06:12:34.991236",
     "status": "completed"
    },
    "tags": []
   },
   "outputs": [],
   "source": [
    "val_pred[1]"
   ]
  },
  {
   "cell_type": "code",
   "execution_count": null,
   "id": "urban-marriage",
   "metadata": {
    "papermill": {
     "duration": 1.452087,
     "end_time": "2021-04-17T06:12:38.821151",
     "exception": false,
     "start_time": "2021-04-17T06:12:37.369064",
     "status": "completed"
    },
    "tags": []
   },
   "outputs": [],
   "source": [
    "plt.matshow(test[1])"
   ]
  },
  {
   "cell_type": "code",
   "execution_count": null,
   "id": "sudden-venue",
   "metadata": {
    "papermill": {
     "duration": 1.26894,
     "end_time": "2021-04-17T06:12:48.538420",
     "exception": false,
     "start_time": "2021-04-17T06:12:47.269480",
     "status": "completed"
    },
    "tags": []
   },
   "outputs": [],
   "source": [
    "submission=pd.DataFrame({'ImageId':imgid,'Label':test_pred})\n",
    "submission.to_csv('submission.csv',index=False)"
   ]
  },
  {
   "cell_type": "code",
   "execution_count": null,
   "id": "elementary-chain",
   "metadata": {},
   "outputs": [],
   "source": [
    "submission = pd.read_csv(\"submission.csv\")\n",
    "print(submission.shape)"
   ]
  },
  {
   "cell_type": "code",
   "execution_count": null,
   "id": "assigned-handle",
   "metadata": {},
   "outputs": [],
   "source": [
    "sam_sub.shape"
   ]
  },
  {
   "cell_type": "markdown",
   "id": "lined-national",
   "metadata": {},
   "source": [
    "## Final Model"
   ]
  },
  {
   "cell_type": "code",
   "execution_count": null,
   "id": "illegal-spread",
   "metadata": {
    "papermill": {
     "duration": 252.728258,
     "end_time": "2021-04-17T06:12:05.288317",
     "exception": false,
     "start_time": "2021-04-17T06:07:52.560059",
     "status": "completed"
    },
    "tags": []
   },
   "outputs": [],
   "source": [
    "model=keras.Sequential([\n",
    "    # add layers\n",
    "])\n",
    "\n",
    "\n",
    "model.compile(optimizer='adam',loss='sparse_categorical_crossentropy',metrics=['accuracy'])\n",
    "\n",
    "history=model.fit(X,y,epochs=100,validation_data=(X_val,y_val))"
   ]
  },
  {
   "cell_type": "code",
   "execution_count": null,
   "id": "lesbian-thirty",
   "metadata": {
    "papermill": {
     "duration": 1.180179,
     "end_time": "2021-04-17T06:12:07.626142",
     "exception": false,
     "start_time": "2021-04-17T06:12:06.445963",
     "status": "completed"
    },
    "tags": []
   },
   "outputs": [],
   "source": [
    "model.summary()"
   ]
  },
  {
   "cell_type": "raw",
   "id": "cooked-housing",
   "metadata": {
    "papermill": {
     "duration": 1.86236,
     "end_time": "2021-04-17T06:12:10.646053",
     "exception": false,
     "start_time": "2021-04-17T06:12:08.783693",
     "status": "completed"
    },
    "tags": []
   },
   "source": [
    "from keras.utils.vis_utils import plot_model\n",
    "plot_model(model,to_file='model_plot.png',show_shapes=True,show_layer_names=True)"
   ]
  },
  {
   "cell_type": "code",
   "execution_count": null,
   "id": "productive-restriction",
   "metadata": {
    "papermill": {
     "duration": 1.406933,
     "end_time": "2021-04-17T06:12:13.218141",
     "exception": false,
     "start_time": "2021-04-17T06:12:11.811208",
     "status": "completed"
    },
    "tags": []
   },
   "outputs": [],
   "source": [
    "loss_train=history.history['loss']\n",
    "loss_val=history.history['val_loss']\n",
    "epochs=range(1,101)\n",
    "plt.plot(epochs,loss_train,'g',label='Training loss')\n",
    "plt.plot(epochs,loss_val,'b',label='Validation loss')\n",
    "plt.title('Training and Validation loss')\n",
    "plt.xlabel('Epochs')\n",
    "plt.ylabel('Loss')\n",
    "plt.legend()\n",
    "plt.show()"
   ]
  },
  {
   "cell_type": "code",
   "execution_count": null,
   "id": "satisfied-ivory",
   "metadata": {
    "papermill": {
     "duration": 1.359161,
     "end_time": "2021-04-17T06:12:15.776188",
     "exception": false,
     "start_time": "2021-04-17T06:12:14.417027",
     "status": "completed"
    },
    "tags": []
   },
   "outputs": [],
   "source": [
    "loss_train=history.history['accuracy']\n",
    "loss_val=history.history['val_accuracy']\n",
    "epochs=range(1,101)\n",
    "plt.plot(epochs,loss_train,'g',label='Training accuracy')\n",
    "plt.plot(epochs,loss_val,'b',label='Validation accuracy')\n",
    "plt.title('Training and Validation accuracy')\n",
    "plt.xlabel('Epochs')\n",
    "plt.ylabel('Accuracy')\n",
    "plt.legend()\n",
    "plt.show()"
   ]
  },
  {
   "cell_type": "code",
   "execution_count": null,
   "id": "special-sample",
   "metadata": {
    "papermill": {
     "duration": 1.200948,
     "end_time": "2021-04-17T06:12:25.631408",
     "exception": false,
     "start_time": "2021-04-17T06:12:24.430460",
     "status": "completed"
    },
    "tags": []
   },
   "outputs": [],
   "source": [
    "sam_sub.head()"
   ]
  },
  {
   "cell_type": "code",
   "execution_count": null,
   "id": "respected-communications",
   "metadata": {
    "papermill": {
     "duration": 1.16533,
     "end_time": "2021-04-17T06:12:28.021219",
     "exception": false,
     "start_time": "2021-04-17T06:12:26.855889",
     "status": "completed"
    },
    "tags": []
   },
   "outputs": [],
   "source": [
    "sam_sub.shape"
   ]
  },
  {
   "cell_type": "code",
   "execution_count": null,
   "id": "unlimited-strap",
   "metadata": {
    "papermill": {
     "duration": 1.165693,
     "end_time": "2021-04-17T06:12:30.343943",
     "exception": false,
     "start_time": "2021-04-17T06:12:29.178250",
     "status": "completed"
    },
    "tags": []
   },
   "outputs": [],
   "source": [
    "test.shape"
   ]
  },
  {
   "cell_type": "code",
   "execution_count": null,
   "id": "variable-disease",
   "metadata": {
    "papermill": {
     "duration": 2.265061,
     "end_time": "2021-04-17T06:12:33.775902",
     "exception": false,
     "start_time": "2021-04-17T06:12:31.510841",
     "status": "completed"
    },
    "tags": []
   },
   "outputs": [],
   "source": [
    "Label=model.predict(test)"
   ]
  },
  {
   "cell_type": "code",
   "execution_count": null,
   "id": "specified-spice",
   "metadata": {
    "papermill": {
     "duration": 1.19761,
     "end_time": "2021-04-17T06:12:36.188846",
     "exception": false,
     "start_time": "2021-04-17T06:12:34.991236",
     "status": "completed"
    },
    "tags": []
   },
   "outputs": [],
   "source": [
    "Label[0]"
   ]
  },
  {
   "cell_type": "code",
   "execution_count": null,
   "id": "beneficial-contamination",
   "metadata": {
    "papermill": {
     "duration": 1.452087,
     "end_time": "2021-04-17T06:12:38.821151",
     "exception": false,
     "start_time": "2021-04-17T06:12:37.369064",
     "status": "completed"
    },
    "tags": []
   },
   "outputs": [],
   "source": [
    "plt.matshow(test[0])"
   ]
  },
  {
   "cell_type": "code",
   "execution_count": null,
   "id": "macro-antarctica",
   "metadata": {
    "papermill": {
     "duration": 1.188141,
     "end_time": "2021-04-17T06:12:41.211013",
     "exception": false,
     "start_time": "2021-04-17T06:12:40.022872",
     "status": "completed"
    },
    "tags": []
   },
   "outputs": [],
   "source": [
    "np.argmax(Label[0])"
   ]
  },
  {
   "cell_type": "code",
   "execution_count": null,
   "id": "applicable-geometry",
   "metadata": {
    "papermill": {
     "duration": 1.316362,
     "end_time": "2021-04-17T06:12:43.705849",
     "exception": false,
     "start_time": "2021-04-17T06:12:42.389487",
     "status": "completed"
    },
    "tags": []
   },
   "outputs": [],
   "source": [
    "Label=[np.argmax(i) for i in Label]\n",
    "Label[:10]"
   ]
  },
  {
   "cell_type": "code",
   "execution_count": null,
   "id": "indirect-input",
   "metadata": {
    "papermill": {
     "duration": 1.179547,
     "end_time": "2021-04-17T06:12:46.057974",
     "exception": false,
     "start_time": "2021-04-17T06:12:44.878427",
     "status": "completed"
    },
    "tags": []
   },
   "outputs": [],
   "source": [
    "imgid=range(1,len(Label)+1)"
   ]
  },
  {
   "cell_type": "code",
   "execution_count": null,
   "id": "analyzed-lucas",
   "metadata": {
    "papermill": {
     "duration": 1.26894,
     "end_time": "2021-04-17T06:12:48.538420",
     "exception": false,
     "start_time": "2021-04-17T06:12:47.269480",
     "status": "completed"
    },
    "tags": []
   },
   "outputs": [],
   "source": [
    "submission=pd.DataFrame({'ImageId':imgid,'Label':Label})\n",
    "submission.to_csv('submission.csv',index=False)"
   ]
  },
  {
   "cell_type": "code",
   "execution_count": null,
   "id": "joint-typing",
   "metadata": {
    "papermill": {
     "duration": 1.216583,
     "end_time": "2021-04-17T06:12:50.984180",
     "exception": false,
     "start_time": "2021-04-17T06:12:49.767597",
     "status": "completed"
    },
    "tags": []
   },
   "outputs": [],
   "source": []
  }
 ],
 "metadata": {
  "kernelspec": {
   "display_name": "Python 3",
   "language": "python",
   "name": "python3"
  },
  "language_info": {
   "codemirror_mode": {
    "name": "ipython",
    "version": 3
   },
   "file_extension": ".py",
   "mimetype": "text/x-python",
   "name": "python",
   "nbconvert_exporter": "python",
   "pygments_lexer": "ipython3",
   "version": "3.7.9"
  },
  "papermill": {
   "default_parameters": {},
   "duration": 323.216434,
   "end_time": "2021-04-17T06:12:53.365808",
   "environment_variables": {},
   "exception": null,
   "input_path": "__notebook__.ipynb",
   "output_path": "__notebook__.ipynb",
   "parameters": {},
   "start_time": "2021-04-17T06:07:30.149374",
   "version": "2.3.2"
  }
 },
 "nbformat": 4,
 "nbformat_minor": 5
}
