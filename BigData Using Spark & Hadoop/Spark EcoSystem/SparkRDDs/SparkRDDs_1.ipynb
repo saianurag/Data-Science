{
  "nbformat": 4,
  "nbformat_minor": 0,
  "metadata": {
    "colab": {
      "name": "20201106_Batch88_CSE7246o_SparkRDDs_1.ipynb",
      "provenance": []
    },
    "kernelspec": {
      "name": "python3",
      "display_name": "Python 3"
    }
  },
  "cells": [
    {
      "cell_type": "code",
      "metadata": {
        "id": "w1CT6Ecu1RGU"
      },
      "source": [
        "!apt-get install openjdk-8-jdk-headless -qq > /dev/null\n",
        "!wget -q https://www-us.apache.org/dist/spark/spark-2.4.7/spark-2.4.7-bin-hadoop2.7.tgz"
      ],
      "execution_count": 5,
      "outputs": []
    },
    {
      "cell_type": "code",
      "metadata": {
        "id": "5SkoJFVf1iYx"
      },
      "source": [
        "!tar xf spark-2.4.7-bin-hadoop2.7.tgz\n",
        "!pip install -q findspark"
      ],
      "execution_count": 6,
      "outputs": []
    },
    {
      "cell_type": "code",
      "metadata": {
        "id": "rC7sYMb02EJ2"
      },
      "source": [
        "import os \n",
        "os.environ[\"JAVA_HOME\"] = \"/usr/lib/jvm/java-8-openjdk-amd64\"\n",
        "os.environ[\"SPARK_HOME\"] = \"/content/spark-2.4.7-bin-hadoop2.7\""
      ],
      "execution_count": 11,
      "outputs": []
    },
    {
      "cell_type": "code",
      "metadata": {
        "id": "Levh2bVE3Dtd"
      },
      "source": [
        "import findspark\n",
        "findspark.init()"
      ],
      "execution_count": 12,
      "outputs": []
    },
    {
      "cell_type": "code",
      "metadata": {
        "id": "4KnF7g4K3MbO"
      },
      "source": [
        "## Create a spark Session\n",
        "### Spark Session is the gateway for creating a spark Program.\n",
        "from pyspark.sql import SparkSession\n",
        "spark = SparkSession.builder.master(\"local[*]\").appName(\"RDDProgram\").getOrCreate()"
      ],
      "execution_count": 13,
      "outputs": []
    },
    {
      "cell_type": "code",
      "metadata": {
        "id": "BNLowhZF7FcP",
        "outputId": "e62e0663-9840-492d-f0cd-10b9251ad713",
        "colab": {
          "base_uri": "https://localhost:8080/",
          "height": 216
        }
      },
      "source": [
        "spark"
      ],
      "execution_count": 14,
      "outputs": [
        {
          "output_type": "execute_result",
          "data": {
            "text/html": [
              "\n",
              "            <div>\n",
              "                <p><b>SparkSession - in-memory</b></p>\n",
              "                \n",
              "        <div>\n",
              "            <p><b>SparkContext</b></p>\n",
              "\n",
              "            <p><a href=\"http://3d3b2c953600:4040\">Spark UI</a></p>\n",
              "\n",
              "            <dl>\n",
              "              <dt>Version</dt>\n",
              "                <dd><code>v2.4.7</code></dd>\n",
              "              <dt>Master</dt>\n",
              "                <dd><code>local[*]</code></dd>\n",
              "              <dt>AppName</dt>\n",
              "                <dd><code>RDDProgram</code></dd>\n",
              "            </dl>\n",
              "        </div>\n",
              "        \n",
              "            </div>\n",
              "        "
            ],
            "text/plain": [
              "<pyspark.sql.session.SparkSession at 0x7fef5998a780>"
            ]
          },
          "metadata": {
            "tags": []
          },
          "execution_count": 14
        }
      ]
    },
    {
      "cell_type": "markdown",
      "metadata": {
        "id": "r3IB4Mn4Xx22"
      },
      "source": [
        " AppName Sets a name for the application, which will be shown in the Spark web UI.\n",
        "    \n",
        "\n",
        " Config Sets a config option. Options set using this method are automatically propagated to both SparkConf and SparkSession‘s own configuration.\n",
        "\n",
        "master is a Spark, Mesos or YARN cluster URL, or a special “local” string to run in local modemaster \n",
        "\n",
        "getOrCreate() Gets an existing SparkSession or, if there is no existing one, creates a new one based on the options set in this builder."
      ]
    },
    {
      "cell_type": "code",
      "metadata": {
        "id": "PaTvI3LW7IU9"
      },
      "source": [
        "sc = spark.sparkContext"
      ],
      "execution_count": 15,
      "outputs": []
    },
    {
      "cell_type": "markdown",
      "metadata": {
        "id": "3fOp3BEzX2jS"
      },
      "source": [
        "* Spark introduces the concept of an RDD (Resilient Distributed Dataset), an\n",
        " immutable fault-tolerant, distributed collection of objects that can be operated on\n",
        " in parallel. \n",
        "\n",
        "* An RDD can contain any type of object and is created by loading an\n",
        " external dataset or distributing a collection from the driver program."
      ]
    },
    {
      "cell_type": "code",
      "metadata": {
        "id": "EltK-l9A7QSc",
        "outputId": "0c276a1a-e3a1-4708-d9b8-fea4aee70540",
        "colab": {
          "base_uri": "https://localhost:8080/",
          "height": 193
        }
      },
      "source": [
        "sc"
      ],
      "execution_count": 16,
      "outputs": [
        {
          "output_type": "execute_result",
          "data": {
            "text/html": [
              "\n",
              "        <div>\n",
              "            <p><b>SparkContext</b></p>\n",
              "\n",
              "            <p><a href=\"http://3d3b2c953600:4040\">Spark UI</a></p>\n",
              "\n",
              "            <dl>\n",
              "              <dt>Version</dt>\n",
              "                <dd><code>v2.4.7</code></dd>\n",
              "              <dt>Master</dt>\n",
              "                <dd><code>local[*]</code></dd>\n",
              "              <dt>AppName</dt>\n",
              "                <dd><code>RDDProgram</code></dd>\n",
              "            </dl>\n",
              "        </div>\n",
              "        "
            ],
            "text/plain": [
              "<SparkContext master=local[*] appName=RDDProgram>"
            ]
          },
          "metadata": {
            "tags": []
          },
          "execution_count": 16
        }
      ]
    },
    {
      "cell_type": "markdown",
      "metadata": {
        "id": "anfT08GBX4CT"
      },
      "source": [
        "* Spark introduces the concept of an RDD (Resilient Distributed Dataset), an\n",
        " immutable fault-tolerant, distributed collection of objects that can be operated on\n",
        " in parallel. \n",
        "\n",
        "* An RDD can contain any type of object and is created by loading an\n",
        " external dataset or distributing a collection from the driver program."
      ]
    },
    {
      "cell_type": "markdown",
      "metadata": {
        "id": "8rBjhjiBX8Wq"
      },
      "source": [
        "### Creating RDD in Pyspark"
      ]
    },
    {
      "cell_type": "markdown",
      "metadata": {
        "id": "dspsRyUlX98-"
      },
      "source": [
        "#####  There are three ways to create an RDD in Spark.\n",
        "\n",
        "* Parallelizing already existing collection in driver program.\n",
        "* Referencing a dataset in an external storage system (e.g. HDFS, Hbase, shared file system).\n",
        "* Creating RDD from already existing RDDs."
      ]
    },
    {
      "cell_type": "code",
      "metadata": {
        "id": "fDgcDZT07RJH"
      },
      "source": [
        "rdd1 = sc.parallelize([(\"maths\",92),(\"english\",75),(\"SCiences\",85),(\"Social\",90)])"
      ],
      "execution_count": 17,
      "outputs": []
    },
    {
      "cell_type": "code",
      "metadata": {
        "id": "muoxlAWO8AAe",
        "outputId": "eea950de-374d-4b13-af25-63a596a94392",
        "colab": {
          "base_uri": "https://localhost:8080/"
        }
      },
      "source": [
        "rdd1"
      ],
      "execution_count": 18,
      "outputs": [
        {
          "output_type": "execute_result",
          "data": {
            "text/plain": [
              "ParallelCollectionRDD[0] at parallelize at PythonRDD.scala:195"
            ]
          },
          "metadata": {
            "tags": []
          },
          "execution_count": 18
        }
      ]
    },
    {
      "cell_type": "code",
      "metadata": {
        "id": "9khHrI3w8C7-",
        "outputId": "3c56522c-7072-40ba-9564-b0fc699f54ff",
        "colab": {
          "base_uri": "https://localhost:8080/"
        }
      },
      "source": [
        "rdd1.collect()"
      ],
      "execution_count": 19,
      "outputs": [
        {
          "output_type": "execute_result",
          "data": {
            "text/plain": [
              "[('maths', 92), ('english', 75), ('SCiences', 85), ('Social', 90)]"
            ]
          },
          "metadata": {
            "tags": []
          },
          "execution_count": 19
        }
      ]
    },
    {
      "cell_type": "code",
      "metadata": {
        "id": "SkGTyhTO8QKl",
        "outputId": "d725fe35-1233-4807-8124-77febf4c3e2f",
        "colab": {
          "base_uri": "https://localhost:8080/"
        }
      },
      "source": [
        "from google.colab import drive\n",
        "drive.mount('/content/drive')"
      ],
      "execution_count": 20,
      "outputs": [
        {
          "output_type": "stream",
          "text": [
            "Mounted at /content/drive\n"
          ],
          "name": "stdout"
        }
      ]
    },
    {
      "cell_type": "code",
      "metadata": {
        "id": "Zjse9vm68pUr",
        "outputId": "1c033881-fdac-4455-87f7-ac14ce687a42",
        "colab": {
          "base_uri": "https://localhost:8080/"
        }
      },
      "source": [
        "!ls \"/content/drive/My Drive\""
      ],
      "execution_count": 21,
      "outputs": [
        {
          "output_type": "stream",
          "text": [
            " 05_06_cpee_hyd\n",
            " 05_class_injestion_other_tools.odp\n",
            " 20170212_Batch21_CSE7219c_GNQ_Set2.pdf\n",
            " 20170306_Batch34_CSE7322c_CuTe.xls.gsheet\n",
            " 20171126_Batch31_CSE7322c_Day01_ClassNotes.odp\n",
            " 20171203_Batch31_CSE7322c_Day02_ClassNotes.odp\n",
            " 2017_12_03_big_data-20171203T053932Z-001.zip\n",
            " 20171210_Batch31_CSE7322c_Day03_ClassNotes.odp\n",
            " 20171217_Batch31_CSE7322c_Day04_ClassNotes.odp\n",
            " 20180519_Batch38_CSE7323c_BIOnHadoop_Application1.zip\n",
            " 2018_12_08_big_data_48\n",
            " 2018_12_08_big_data_48.zip\n",
            " 20190120_Batch48_CSE7322c_CUTe_BigData_PartA.docx\n",
            " 20190120_Batch48_CSE7322c_CUTe_BigData_PartB.docx\n",
            " 20190525_Batch57_CSE7322c_Spark_Recap_Revised.pptx\n",
            " 20190929_Batch67_MiTH_VIVA_PanelAllocations_1_Panel4.gsheet\n",
            " 2019-Nov-10_DrSriramMurthys_TextMining_Class2_Batch74.gdoc\n",
            " 2019-Oct_Research-Status.docx\n",
            " 2019-Oct_Research-Status_Jayant_Kumar_Mulmoodi_NLP.gdoc\n",
            " 2019-Oct_Research-Status_Jayant_Kumar_Mulmoodi_YARN.gdoc\n",
            " 20200102_Version1_CloudComputing_ver2.3_Final_withSAS.pdf\n",
            " 20200102_Version1_CloudComputing_ver2.3_Final_withSAS.pptx\n",
            " 20200316_ReinforcementLearning_Blogs_Part1.docx\n",
            " 20200316_ReinforcementLearning_Blogs_Part1.gdoc\n",
            "'20200710_R&D_AI_in_education.gslides'\n",
            " 20200719_Batch84_CSE7143o_CUTE.gdoc\n",
            "'20200801_Batch84_HUM102o_Design Thinking_Day05_TranslatorBluePrint.docx'\n",
            "'20200801_Batch84_HUM102o_Design Thinking_Day05_TranslatorBluePrint.gdoc'\n",
            " AmazonMasterDataDictionary.gsheet\n",
            " AmazonMasterDataDictionary.xls\n",
            " Angular.js.gdoc\n",
            " ApplicationDescription.gslides\n",
            " Attendance.gsheet\n",
            " AZURE_Material_ToRead.gdoc\n",
            " b57_CUTEMarks.gsheet\n",
            " backup_ml_class.odp\n",
            " Batch45_46_CSE7322c_CuTe_Consolidated.gsheet\n",
            " Batch59_Marks_CUTE.gsheet\n",
            "'Batch74_CSE7124c_CSE7218c_CUTe04_Evaluators_List (1).gsheet'\n",
            " Batch74_CSE7124c_CSE7218c_CUTe04_Evaluators_List.gsheet\n",
            " Batch74_CSE7124c_CSE7218c_CUTe04_Evaluators_List.xlsx\n",
            " Batch77_Covid_Sheet.gsheet\n",
            " Batch77_MITH_CUTE_Evaluations.gsheet\n",
            " Batch77_MITH_Review_Session_Poll.gsheet\n",
            " Batch77_MLAssignment_PreMITH_01.gdoc\n",
            " Batch77_MLAssignment_PreMITH_02.gdoc\n",
            " Batch77_PartA_Questions.gdoc\n",
            " Batch77_PartA_Questions_Solutions.gdoc\n",
            " Batch77_PartA_Questions_Solutions_Published.gdoc\n",
            " Batches\n",
            " Batches_Mapping_ROTE.gsheet\n",
            " BigData\n",
            " BigDataLabs_Sep192016.zip\n",
            " BigData_YARN_07Aug2019.gslides\n",
            " BigData.zip\n",
            " BIonHadoop.zip\n",
            " BITS_RND_KST_SANS.gdoc\n",
            " book.pdf\n",
            "'Category Theory for Scala Programmers.gslides'\n",
            " ChoiceSolutions\n",
            "'ChoiceSolutions (1)'\n",
            " Cirriculum_2019Sep24.gsheet\n",
            " cleveland.data\n",
            " Cloud_Computing_20200319_.gsheet\n",
            "'Colab Notebooks'\n",
            "'Copy of b57_CUTEMarks.gsheet'\n",
            "'Copy of Cirriculum_2019Sep24.gsheet'\n",
            " Curriculum_One_Day_Training_SAS.pdf\n",
            " CUTe_dataset.csv\n",
            "'CWRU Alumni Course mapping.xlsx'\n",
            " Cyient_Quizzes.gdoc\n",
            " DainikBhaskar\n",
            " data_combined_20170727.csv\n",
            " DataInterpretation_Consolidated_JaganTeam_21Apr2020.gdoc\n",
            " Data_Interpretation_Questions.gdoc\n",
            " DataScience\n",
            " Day04.zip\n",
            " DB_UnderstandingDoc.gdoc\n",
            " Docker\n",
            " DockerImage\n",
            " DSVsBigData.gslides\n",
            "'ELK Stack.gslides'\n",
            "'EMPLOYEE REIMBURSEMENT.gsheet'\n",
            " EMPLOYEE_REIMBURSEMENT_INTL.gsheet\n",
            "'EMPLOYEE REIMBURSEMENT.xls'\n",
            " Exercise01.java\n",
            " Exercise02.java\n",
            "'Explaining Type Classes in Scala.gslides'\n",
            " extra_security_class.odp\n",
            " Fractal\n",
            " FractalAnalytics_material_UkraineUK.zip\n",
            " Fractal_Kyiv_Assessment_Names_Ids.gsheet\n",
            " GEM_BITSPHD_Master_Project.gsheet\n",
            "'Getting started.pdf'\n",
            " Hive_Presentation.gslides\n",
            " hungarian.data\n",
            " IFIM\n",
            " INFER_examples.gdoc\n",
            " ITS_COnferncePapers_2019.pdf\n",
            " ITS_Material.zip\n",
            " JandJImagClassification_1.gdraw\n",
            " Jayant_mulmoodi_front.pdf\n",
            " Jayant_mulmoodi_last.pdf\n",
            " kla_csvFiles_dataset_with_classes.zip\n",
            "'KLA Machine Learning Training with INSOFE - Final Report.docx'\n",
            "'KLA Machine Learning Training with INSOFE - Final Report.gdoc'\n",
            " KLA_May_jun2020\n",
            " LabReports\n",
            " Lab_Tool_Mapping.xlsx\n",
            " Leave_format.gsheet\n",
            " long-beach-va.data\n",
            " Marks.gsheet\n",
            " Microsoft_AzureHDInsight_Documentation.pdf\n",
            "'Monoids for Regular Programmers.gslides'\n",
            " new.data\n",
            " NLP_NLU\n",
            "'Participant list (1).gsheet'\n",
            "'Participant list (2).gsheet'\n",
            "'Participant list.gsheet'\n",
            "'Participant list.xlsx'\n",
            " Phd_59.gsheet\n",
            " PHD_Marks_B59.gsheet\n",
            " Pivot_Spark.py\n",
            " Project_report.gdoc\n",
            " PySpark_Course_Contents_INSOFE.xlsx\n",
            " PySpark_Course_Contents_INSOFE.xlsx.gsheet\n",
            " Questions_20160919.gdoc\n",
            " ReinforcementLearning_Blogs_Part1.gdoc\n",
            "'Report (1).gdoc'\n",
            " Report.gdoc\n",
            " RL_Notes.gdoc\n",
            " sales_data.csv\n",
            " Scala_1.gdraw\n",
            " Scala_Akka_Play.docx\n",
            " Scala_Akka_Play.docx.gdoc\n",
            " Scala_Big_Data_Engineering_Introduction.gdoc\n",
            " Scala_Big_Data_Engineering_Part2.gdoc\n",
            "'Scala Training Contents.gsheet'\n",
            " SCT_Quest_Randomization.gslides\n",
            "'Spark&Scala_TrainingContents_27Jan18.zip'\n",
            " Spark_Scala_Training_contents.gsheet\n",
            " spotfreight_aug12.zip\n",
            " store_ft_data.csv\n",
            " stores_ty_data.csv\n",
            " Summary.pptx\n",
            " switzerland.data\n",
            " TaskTracker.gsheet\n",
            " TimeSheetEntries.gsheet\n",
            " UberAppllication.zip\n",
            " UberBatch26Application2.zip\n",
            " Uber_JanScripts.zip\n",
            " Uber.zip\n",
            "'Untitled drawing.gdraw'\n",
            "'Untitled presentation.gslides'\n",
            "'Untitled spreadsheet (1).gsheet'\n",
            "'Untitled spreadsheet (2).gsheet'\n",
            "'Untitled spreadsheet (3).gsheet'\n",
            "'Untitled spreadsheet (4).gsheet'\n",
            "'Untitled spreadsheet (5).gsheet'\n",
            "'Untitled spreadsheet (6).gsheet'\n",
            "'Untitled spreadsheet.gsheet'\n",
            " YARN_UnderstandingDocument.gdoc\n"
          ],
          "name": "stdout"
        }
      ]
    },
    {
      "cell_type": "markdown",
      "metadata": {
        "id": "A6MHkIi0YF5g"
      },
      "source": [
        "#### Creating an rdd by reading a file "
      ]
    },
    {
      "cell_type": "code",
      "metadata": {
        "id": "5AyKEpti852j"
      },
      "source": [
        "rdd2 = sc.textFile('/content/drive/My Drive/BigData/spark2020/temp_data.txt')"
      ],
      "execution_count": 22,
      "outputs": []
    },
    {
      "cell_type": "code",
      "metadata": {
        "id": "ukEz82E3-Y_L",
        "outputId": "499af685-f3db-4b0e-b827-818910113154",
        "colab": {
          "base_uri": "https://localhost:8080/"
        }
      },
      "source": [
        "rdd2.collect()"
      ],
      "execution_count": 23,
      "outputs": [
        {
          "output_type": "execute_result",
          "data": {
            "text/plain": [
              "['1901\\t-78\\t1',\n",
              " '1901\\t-72\\t1',\n",
              " '1901\\t-94\\t1',\n",
              " '1901\\t-61\\t1',\n",
              " '1901\\t-56\\t1',\n",
              " '1901\\t-28\\t1',\n",
              " '1901\\t-67\\t1',\n",
              " '1901\\t-33\\t1',\n",
              " '1901\\t-28\\t1',\n",
              " '1901\\t-33\\t1',\n",
              " '1901\\t-44\\t1',\n",
              " '1901\\t-39\\t1',\n",
              " '1901\\t0\\t1',\n",
              " '1901\\t6\\t1',\n",
              " '1901\\t0\\t1',\n",
              " '1901\\t6\\t1',\n",
              " '1901\\t6\\t1',\n",
              " '1901\\t-11\\t1',\n",
              " '1901\\t-33\\t1',\n",
              " '1901\\t-50\\t1',\n",
              " '1901\\t-44\\t1',\n",
              " '1901\\t-28\\t1',\n",
              " '1901\\t-33\\t1',\n",
              " '1901\\t-33\\t1',\n",
              " '1901\\t-50\\t1',\n",
              " '1901\\t-33\\t1',\n",
              " '1901\\t-28\\t1',\n",
              " '1901\\t-44\\t1',\n",
              " '1901\\t-44\\t1',\n",
              " '1901\\t-44\\t1',\n",
              " '1901\\t-39\\t1',\n",
              " '1901\\t-50\\t1',\n",
              " '1901\\t-44\\t1',\n",
              " '1901\\t-39\\t1',\n",
              " '1901\\t-33\\t1',\n",
              " '1901\\t-22\\t1',\n",
              " '1901\\t0\\t1',\n",
              " '1901\\t-6\\t1',\n",
              " '1901\\t-17\\t1',\n",
              " '1901\\t-44\\t1',\n",
              " '1901\\t-39\\t1',\n",
              " '1901\\t-33\\t1',\n",
              " '1901\\t-6\\t1',\n",
              " '1901\\t17\\t1',\n",
              " '1901\\t22\\t1',\n",
              " '1901\\t28\\t1',\n",
              " '1901\\t28\\t1',\n",
              " '1901\\t11\\t1',\n",
              " '1901\\t-17\\t1',\n",
              " '1901\\t-28\\t1',\n",
              " '1901\\t-56\\t1',\n",
              " '1901\\t-44\\t1',\n",
              " '1901\\t-44\\t1',\n",
              " '1901\\t-67\\t1',\n",
              " '1901\\t-44\\t1',\n",
              " '1901\\t-39\\t1',\n",
              " '1901\\t-22\\t1',\n",
              " '1901\\t-22\\t1',\n",
              " '1901\\t-22\\t1',\n",
              " '1901\\t-39\\t1',\n",
              " '1901\\t-17\\t1',\n",
              " '1901\\t-17\\t1',\n",
              " '1901\\t-22\\t1',\n",
              " '1901\\t-17\\t1',\n",
              " '1901\\t-6\\t1',\n",
              " '1901\\t-6\\t1',\n",
              " '1901\\t0\\t1',\n",
              " '1901\\t11\\t1',\n",
              " '1901\\t0\\t1',\n",
              " '1901\\t-6\\t1',\n",
              " '1901\\t17\\t1',\n",
              " '1901\\t6\\t1',\n",
              " '1901\\t6\\t1',\n",
              " '1901\\t6\\t1',\n",
              " '1901\\t0\\t1',\n",
              " '1901\\t-6\\t1',\n",
              " '1901\\t-11\\t1',\n",
              " '1901\\t-22\\t1',\n",
              " '1901\\t-56\\t1',\n",
              " '1901\\t-28\\t1',\n",
              " '1901\\t-28\\t1',\n",
              " '1901\\t-28\\t1',\n",
              " '1901\\t-28\\t1',\n",
              " '1901\\t-39\\t1',\n",
              " '1901\\t-28\\t1',\n",
              " '1901\\t-17\\t1',\n",
              " '1901\\t-11\\t1',\n",
              " '1901\\t-33\\t1',\n",
              " '1901\\t-33\\t1',\n",
              " '1901\\t-44\\t1',\n",
              " '1901\\t-78\\t1',\n",
              " '1901\\t-61\\t1',\n",
              " '1901\\t-67\\t1',\n",
              " '1901\\t-78\\t1',\n",
              " '1901\\t-67\\t1',\n",
              " '1901\\t-83\\t1',\n",
              " '1901\\t-56\\t1',\n",
              " '1901\\t-22\\t1',\n",
              " '1901\\t-33\\t1',\n",
              " '1901\\t-44\\t1',\n",
              " '1901\\t-33\\t1',\n",
              " '1901\\t-78\\t1',\n",
              " '1901\\t-61\\t1',\n",
              " '1901\\t-61\\t1',\n",
              " '1901\\t-83\\t1',\n",
              " '1901\\t-28\\t1',\n",
              " '1901\\t-33\\t1',\n",
              " '1901\\t-44\\t1',\n",
              " '1901\\t-161\\t1',\n",
              " '1901\\t-128\\t1',\n",
              " '1901\\t-122\\t1',\n",
              " '1901\\t-111\\t1',\n",
              " '1901\\t-122\\t1',\n",
              " '1901\\t-122\\t1',\n",
              " '1901\\t-122\\t1',\n",
              " '1901\\t-117\\t1',\n",
              " '1901\\t-117\\t1',\n",
              " '1901\\t-111\\t1',\n",
              " '1901\\t-106\\t1',\n",
              " '1901\\t-133\\t1',\n",
              " '1901\\t-106\\t1',\n",
              " '1901\\t-117\\t1',\n",
              " '1901\\t-183\\t1',\n",
              " '1901\\t-150\\t1',\n",
              " '1901\\t-128\\t1',\n",
              " '1901\\t-122\\t1',\n",
              " '1901\\t-128\\t1',\n",
              " '1901\\t-128\\t1',\n",
              " '1901\\t-128\\t1',\n",
              " '1901\\t-122\\t1',\n",
              " '1901\\t-117\\t1',\n",
              " '1901\\t-100\\t1',\n",
              " '1901\\t-183\\t1',\n",
              " '1901\\t-178\\t1',\n",
              " '1901\\t-211\\t1',\n",
              " '1901\\t-250\\t1',\n",
              " '1901\\t-200\\t1',\n",
              " '1901\\t-178\\t1',\n",
              " '1901\\t-106\\t1',\n",
              " '1901\\t-117\\t1',\n",
              " '1901\\t-133\\t1',\n",
              " '1901\\t-156\\t1',\n",
              " '1901\\t-122\\t1',\n",
              " '1901\\t-122\\t1',\n",
              " '1901\\t-94\\t1',\n",
              " '1901\\t-94\\t1',\n",
              " '1901\\t-89\\t1',\n",
              " '1901\\t-144\\t1',\n",
              " '1901\\t-78\\t1',\n",
              " '1901\\t-83\\t1',\n",
              " '1901\\t-89\\t1',\n",
              " '1901\\t-61\\t1',\n",
              " '1901\\t-72\\t1',\n",
              " '1901\\t-67\\t1',\n",
              " '1901\\t-44\\t1',\n",
              " '1901\\t-89\\t1',\n",
              " '1901\\t-156\\t1',\n",
              " '1901\\t-139\\t1',\n",
              " '1901\\t-172\\t1',\n",
              " '1901\\t-156\\t1',\n",
              " '1901\\t-144\\t1',\n",
              " '1901\\t-156\\t1',\n",
              " '1901\\t-172\\t1',\n",
              " '1901\\t-156\\t1',\n",
              " '1901\\t-167\\t1',\n",
              " '1901\\t-183\\t1',\n",
              " '1901\\t-122\\t1',\n",
              " '1901\\t-106\\t1',\n",
              " '1901\\t-150\\t1',\n",
              " '1901\\t-111\\t1',\n",
              " '1901\\t-111\\t1',\n",
              " '1901\\t-106\\t1',\n",
              " '1901\\t-72\\t1',\n",
              " '1901\\t-78\\t1',\n",
              " '1901\\t-178\\t1',\n",
              " '1901\\t-156\\t1',\n",
              " '1901\\t-167\\t1',\n",
              " '1901\\t-194\\t1',\n",
              " '1901\\t-150\\t1',\n",
              " '1901\\t-172\\t1',\n",
              " '1901\\t-200\\t1',\n",
              " '1901\\t-133\\t1',\n",
              " '1901\\t-167\\t1',\n",
              " '1901\\t-189\\t1',\n",
              " '1901\\t-106\\t1',\n",
              " '1901\\t-67\\t1',\n",
              " '1901\\t-56\\t1',\n",
              " '1901\\t-28\\t1',\n",
              " '1901\\t-22\\t1',\n",
              " '1901\\t-50\\t1',\n",
              " '1901\\t-28\\t1',\n",
              " '1901\\t-17\\t1',\n",
              " '1901\\t-6\\t1',\n",
              " '1901\\t22\\t1',\n",
              " '1901\\t11\\t1',\n",
              " '1901\\t-17\\t1',\n",
              " '1901\\t0\\t1',\n",
              " '1901\\t-6\\t1',\n",
              " '1901\\t-11\\t1',\n",
              " '1901\\t-6\\t1',\n",
              " '1901\\t-6\\t1',\n",
              " '1901\\t-33\\t1',\n",
              " '1901\\t-11\\t1',\n",
              " '1901\\t-11\\t1',\n",
              " '1901\\t-6\\t1',\n",
              " '1901\\t0\\t1',\n",
              " '1901\\t-28\\t1',\n",
              " '1901\\t-17\\t1',\n",
              " '1901\\t22\\t1',\n",
              " '1901\\t17\\t1',\n",
              " '1901\\t-33\\t1',\n",
              " '1901\\t-6\\t1',\n",
              " '1901\\t-44\\t1',\n",
              " '1901\\t-44\\t1',\n",
              " '1901\\t17\\t1',\n",
              " '1901\\t-44\\t1',\n",
              " '1901\\t-67\\t1',\n",
              " '1901\\t-17\\t1',\n",
              " '1901\\t-11\\t1',\n",
              " '1901\\t0\\t1',\n",
              " '1901\\t6\\t1',\n",
              " '1901\\t-28\\t1',\n",
              " '1901\\t-50\\t1',\n",
              " '1901\\t-6\\t1',\n",
              " '1901\\t-11\\t1',\n",
              " '1901\\t-28\\t1',\n",
              " '1901\\t-44\\t1',\n",
              " '1901\\t-100\\t1',\n",
              " '1901\\t-100\\t1',\n",
              " '1901\\t-50\\t1',\n",
              " '1901\\t-50\\t1',\n",
              " '1901\\t-139\\t1',\n",
              " '1901\\t-44\\t1',\n",
              " '1901\\t-39\\t1',\n",
              " '1901\\t-56\\t1',\n",
              " '1901\\t-33\\t1',\n",
              " '1901\\t-67\\t1',\n",
              " '1901\\t-122\\t1',\n",
              " '1901\\t-61\\t1',\n",
              " '1901\\t-83\\t1',\n",
              " '1901\\t-78\\t1',\n",
              " '1901\\t-28\\t1',\n",
              " '1901\\t-28\\t1',\n",
              " '1901\\t-17\\t1',\n",
              " '1901\\t17\\t1',\n",
              " '1901\\t0\\t1',\n",
              " '1901\\t-11\\t1',\n",
              " '1901\\t-61\\t1',\n",
              " '1901\\t-117\\t1',\n",
              " '1901\\t-156\\t1',\n",
              " '1901\\t-111\\t1',\n",
              " '1901\\t-133\\t1',\n",
              " '1901\\t-178\\t1',\n",
              " '1901\\t-94\\t1',\n",
              " '1901\\t-117\\t1',\n",
              " '1901\\t-200\\t1',\n",
              " '1901\\t-100\\t1',\n",
              " '1901\\t-156\\t1',\n",
              " '1901\\t-183\\t1',\n",
              " '1901\\t-89\\t1',\n",
              " '1901\\t-172\\t1',\n",
              " '1901\\t-172\\t1',\n",
              " '1901\\t-72\\t1',\n",
              " '1901\\t-89\\t1',\n",
              " '1901\\t-117\\t1',\n",
              " '1901\\t-56\\t1',\n",
              " '1901\\t-111\\t1',\n",
              " '1901\\t-156\\t1',\n",
              " '1901\\t-39\\t1',\n",
              " '1901\\t-56\\t1',\n",
              " '1901\\t-33\\t1',\n",
              " '1901\\t11\\t1',\n",
              " '1901\\t6\\t1',\n",
              " '1901\\t17\\t1',\n",
              " '1901\\t17\\t1',\n",
              " '1901\\t0\\t1',\n",
              " '1901\\t-39\\t1',\n",
              " '1901\\t0\\t1',\n",
              " '1901\\t-6\\t1',\n",
              " '1901\\t11\\t1',\n",
              " '1901\\t28\\t1',\n",
              " '1901\\t17\\t1',\n",
              " '1901\\t6\\t1',\n",
              " '1901\\t17\\t1',\n",
              " '1901\\t6\\t1',\n",
              " '1901\\t-11\\t1',\n",
              " '1901\\t0\\t1',\n",
              " '1901\\t-22\\t1',\n",
              " '1901\\t-44\\t1',\n",
              " '1901\\t-6\\t1',\n",
              " '1901\\t-39\\t1',\n",
              " '1901\\t-50\\t1',\n",
              " '1901\\t22\\t1',\n",
              " '1901\\t6\\t1',\n",
              " '1901\\t0\\t1',\n",
              " '1901\\t22\\t1',\n",
              " '1901\\t17\\t1',\n",
              " '1901\\t11\\t1',\n",
              " '1901\\t33\\t1',\n",
              " '1901\\t22\\t1',\n",
              " '1901\\t0\\t1',\n",
              " '1901\\t28\\t1',\n",
              " '1901\\t-6\\t1',\n",
              " '1901\\t-6\\t1',\n",
              " '1901\\t-11\\t1',\n",
              " '1901\\t-17\\t1',\n",
              " '1901\\t-11\\t1',\n",
              " '1901\\t0\\t1',\n",
              " '1901\\t-28\\t1',\n",
              " '1901\\t-28\\t1',\n",
              " '1901\\t-28\\t1',\n",
              " '1901\\t-28\\t1',\n",
              " '1901\\t-56\\t1',\n",
              " '1901\\t-50\\t1',\n",
              " '1901\\t-50\\t1',\n",
              " '1901\\t-61\\t1',\n",
              " '1901\\t-44\\t1',\n",
              " '1901\\t-61\\t1',\n",
              " '1901\\t-39\\t1',\n",
              " '1901\\t0\\t1',\n",
              " '1901\\t0\\t1',\n",
              " '1901\\t6\\t1',\n",
              " '1901\\t6\\t1',\n",
              " '1901\\t-6\\t1',\n",
              " '1901\\t-6\\t1',\n",
              " '1901\\t0\\t1',\n",
              " '1901\\t-28\\t1',\n",
              " '1901\\t-11\\t1',\n",
              " '1901\\t-6\\t1',\n",
              " '1901\\t-17\\t1',\n",
              " '1901\\t-11\\t1',\n",
              " '1901\\t-6\\t1',\n",
              " '1901\\t-17\\t1',\n",
              " '1901\\t0\\t1',\n",
              " '1901\\t17\\t1',\n",
              " '1901\\t0\\t1',\n",
              " '1901\\t17\\t1',\n",
              " '1901\\t11\\t1',\n",
              " '1901\\t-11\\t1',\n",
              " '1901\\t-17\\t1',\n",
              " '1901\\t17\\t1',\n",
              " '1901\\t-11\\t1',\n",
              " '1901\\t11\\t1',\n",
              " '1901\\t28\\t1',\n",
              " '1901\\t-11\\t1',\n",
              " '1901\\t0\\t1',\n",
              " '1901\\t22\\t1',\n",
              " '1901\\t22\\t1',\n",
              " '1901\\t6\\t1',\n",
              " '1901\\t28\\t1',\n",
              " '1901\\t0\\t1',\n",
              " '1901\\t11\\t1',\n",
              " '1901\\t33\\t1',\n",
              " '1901\\t0\\t1',\n",
              " '1901\\t11\\t1',\n",
              " '1901\\t22\\t1',\n",
              " '1901\\t17\\t1',\n",
              " '1901\\t11\\t1',\n",
              " '1901\\t28\\t1',\n",
              " '1901\\t17\\t1',\n",
              " '1901\\t11\\t1',\n",
              " '1901\\t44\\t1',\n",
              " '1901\\t17\\t1',\n",
              " '1901\\t6\\t1',\n",
              " '1901\\t50\\t1',\n",
              " '1901\\t6\\t1',\n",
              " '1901\\t22\\t1',\n",
              " '1901\\t39\\t1',\n",
              " '1901\\t17\\t1',\n",
              " '1901\\t-11\\t1',\n",
              " '1901\\t0\\t1',\n",
              " '1901\\t-22\\t1',\n",
              " '1901\\t-28\\t1',\n",
              " '1901\\t0\\t1',\n",
              " '1901\\t-17\\t1',\n",
              " '1901\\t-22\\t1',\n",
              " '1901\\t-11\\t1',\n",
              " '1901\\t-11\\t1',\n",
              " '1901\\t-22\\t1',\n",
              " '1901\\t0\\t1',\n",
              " '1901\\t-6\\t1',\n",
              " '1901\\t-6\\t1',\n",
              " '1901\\t33\\t1',\n",
              " '1901\\t-17\\t1',\n",
              " '1901\\t17\\t1',\n",
              " '1901\\t44\\t1',\n",
              " '1901\\t6\\t1',\n",
              " '1901\\t17\\t1',\n",
              " '1901\\t33\\t1',\n",
              " '1901\\t33\\t1',\n",
              " '1901\\t33\\t1',\n",
              " '1901\\t72\\t1',\n",
              " '1901\\t33\\t1',\n",
              " '1901\\t72\\t1',\n",
              " '1901\\t72\\t1',\n",
              " '1901\\t56\\t1',\n",
              " '1901\\t72\\t1',\n",
              " '1901\\t89\\t1',\n",
              " '1901\\t83\\t1',\n",
              " '1901\\t67\\t1',\n",
              " '1901\\t50\\t1',\n",
              " '1901\\t67\\t1',\n",
              " '1901\\t67\\t1',\n",
              " '1901\\t83\\t1',\n",
              " '1901\\t39\\t1',\n",
              " '1901\\t22\\t1',\n",
              " '1901\\t33\\t1',\n",
              " '1901\\t17\\t1',\n",
              " '1901\\t11\\t1',\n",
              " '1901\\t17\\t1',\n",
              " '1901\\t17\\t1',\n",
              " '1901\\t17\\t1',\n",
              " '1901\\t28\\t1',\n",
              " '1901\\t6\\t1',\n",
              " '1901\\t17\\t1',\n",
              " '1901\\t33\\t1',\n",
              " '1901\\t17\\t1',\n",
              " '1901\\t11\\t1',\n",
              " '1901\\t50\\t1',\n",
              " '1901\\t17\\t1',\n",
              " '1901\\t22\\t1',\n",
              " '1901\\t44\\t1',\n",
              " '1901\\t39\\t1',\n",
              " '1901\\t33\\t1',\n",
              " '1901\\t50\\t1',\n",
              " '1901\\t33\\t1',\n",
              " '1901\\t33\\t1',\n",
              " '1901\\t50\\t1',\n",
              " '1901\\t33\\t1',\n",
              " '1901\\t33\\t1',\n",
              " '1901\\t50\\t1',\n",
              " '1901\\t33\\t1',\n",
              " '1901\\t33\\t1',\n",
              " '1901\\t56\\t1',\n",
              " '1901\\t33\\t1',\n",
              " '1901\\t50\\t1',\n",
              " '1901\\t61\\t1',\n",
              " '1901\\t39\\t1',\n",
              " '1901\\t33\\t1',\n",
              " '1901\\t39\\t1',\n",
              " '1901\\t28\\t1',\n",
              " '1901\\t33\\t1',\n",
              " '1901\\t44\\t1',\n",
              " '1901\\t28\\t1',\n",
              " '1901\\t22\\t1',\n",
              " '1901\\t33\\t1',\n",
              " '1901\\t28\\t1',\n",
              " '1901\\t44\\t1',\n",
              " '1901\\t50\\t1',\n",
              " '1901\\t33\\t1',\n",
              " '1901\\t44\\t1',\n",
              " '1901\\t67\\t1',\n",
              " '1901\\t44\\t1',\n",
              " '1901\\t56\\t1',\n",
              " '1901\\t50\\t1',\n",
              " '1901\\t44\\t1',\n",
              " '1901\\t61\\t1',\n",
              " '1901\\t94\\t1',\n",
              " '1901\\t67\\t1',\n",
              " '1901\\t44\\t1',\n",
              " '1901\\t61\\t1',\n",
              " '1901\\t44\\t1',\n",
              " '1901\\t50\\t1',\n",
              " '1901\\t67\\t1',\n",
              " '1901\\t61\\t1',\n",
              " '1901\\t94\\t1',\n",
              " '1901\\t128\\t1',\n",
              " '1901\\t122\\t1',\n",
              " '1901\\t94\\t1',\n",
              " '1901\\t89\\t1',\n",
              " '1901\\t78\\t1',\n",
              " '1901\\t72\\t1',\n",
              " '1901\\t100\\t1',\n",
              " '1901\\t72\\t1',\n",
              " '1901\\t72\\t1',\n",
              " '1901\\t100\\t1',\n",
              " '1901\\t89\\t1',\n",
              " '1901\\t100\\t1',\n",
              " '1901\\t117\\t1',\n",
              " '1901\\t128\\t1',\n",
              " '1901\\t156\\t1',\n",
              " '1901\\t117\\t1',\n",
              " '1901\\t117\\t1',\n",
              " '1901\\t94\\t1',\n",
              " '1901\\t94\\t1',\n",
              " '1901\\t106\\t1',\n",
              " '1901\\t100\\t1',\n",
              " '1901\\t89\\t1',\n",
              " '1901\\t72\\t1',\n",
              " '1901\\t72\\t1',\n",
              " '1901\\t94\\t1',\n",
              " '1901\\t50\\t1',\n",
              " '1901\\t67\\t1',\n",
              " '1901\\t78\\t1',\n",
              " '1901\\t56\\t1',\n",
              " '1901\\t61\\t1',\n",
              " '1901\\t78\\t1',\n",
              " '1901\\t67\\t1',\n",
              " '1901\\t67\\t1',\n",
              " '1901\\t78\\t1',\n",
              " '1901\\t67\\t1',\n",
              " '1901\\t78\\t1',\n",
              " '1901\\t111\\t1',\n",
              " '1901\\t83\\t1',\n",
              " '1901\\t100\\t1',\n",
              " '1901\\t111\\t1',\n",
              " '1901\\t100\\t1',\n",
              " '1901\\t100\\t1',\n",
              " '1901\\t111\\t1',\n",
              " '1901\\t94\\t1',\n",
              " '1901\\t100\\t1',\n",
              " '1901\\t122\\t1',\n",
              " '1901\\t100\\t1',\n",
              " '1901\\t83\\t1',\n",
              " '1901\\t106\\t1',\n",
              " '1901\\t83\\t1',\n",
              " '1901\\t100\\t1',\n",
              " '1901\\t133\\t1',\n",
              " '1901\\t117\\t1',\n",
              " '1901\\t128\\t1',\n",
              " '1901\\t161\\t1',\n",
              " '1901\\t156\\t1',\n",
              " '1901\\t172\\t1',\n",
              " '1901\\t200\\t1',\n",
              " '1901\\t183\\t1',\n",
              " '1901\\t172\\t1',\n",
              " '1901\\t194\\t1',\n",
              " '1901\\t144\\t1',\n",
              " '1901\\t150\\t1',\n",
              " '1901\\t178\\t1',\n",
              " '1901\\t144\\t1',\n",
              " '1901\\t133\\t1',\n",
              " '1901\\t128\\t1',\n",
              " '1901\\t111\\t1',\n",
              " '1901\\t111\\t1',\n",
              " '1901\\t128\\t1',\n",
              " '1901\\t100\\t1',\n",
              " '1901\\t100\\t1',\n",
              " '1901\\t111\\t1',\n",
              " '1901\\t94\\t1',\n",
              " '1901\\t106\\t1',\n",
              " '1901\\t128\\t1',\n",
              " '1901\\t117\\t1',\n",
              " '1901\\t111\\t1',\n",
              " '1901\\t128\\t1',\n",
              " '1901\\t111\\t1',\n",
              " '1901\\t111\\t1',\n",
              " '1901\\t111\\t1',\n",
              " '1901\\t117\\t1',\n",
              " '1901\\t111\\t1',\n",
              " '1901\\t117\\t1',\n",
              " '1901\\t122\\t1',\n",
              " '1901\\t111\\t1',\n",
              " '1901\\t122\\t1',\n",
              " '1901\\t133\\t1',\n",
              " '1901\\t122\\t1',\n",
              " '1901\\t128\\t1',\n",
              " '1901\\t128\\t1',\n",
              " '1901\\t150\\t1',\n",
              " '1901\\t161\\t1',\n",
              " '1901\\t133\\t1',\n",
              " '1901\\t139\\t1',\n",
              " '1901\\t172\\t1',\n",
              " '1901\\t156\\t1',\n",
              " '1901\\t133\\t1',\n",
              " '1901\\t144\\t1',\n",
              " '1901\\t139\\t1',\n",
              " '1901\\t133\\t1',\n",
              " '1901\\t167\\t1',\n",
              " '1901\\t150\\t1',\n",
              " '1901\\t133\\t1',\n",
              " '1901\\t178\\t1',\n",
              " '1901\\t161\\t1',\n",
              " '1901\\t172\\t1',\n",
              " '1901\\t167\\t1',\n",
              " '1901\\t161\\t1',\n",
              " '1901\\t150\\t1',\n",
              " '1901\\t144\\t1',\n",
              " '1901\\t150\\t1',\n",
              " '1901\\t156\\t1',\n",
              " '1901\\t178\\t1',\n",
              " '1901\\t161\\t1',\n",
              " '1901\\t178\\t1',\n",
              " '1901\\t167\\t1',\n",
              " '1901\\t172\\t1',\n",
              " '1901\\t156\\t1',\n",
              " '1901\\t161\\t1',\n",
              " '1901\\t150\\t1',\n",
              " '1901\\t167\\t1',\n",
              " '1901\\t161\\t1',\n",
              " '1901\\t156\\t1',\n",
              " '1901\\t161\\t1',\n",
              " '1901\\t189\\t1',\n",
              " '1901\\t144\\t1',\n",
              " '1901\\t156\\t1',\n",
              " '1901\\t178\\t1',\n",
              " '1901\\t167\\t1',\n",
              " '1901\\t172\\t1',\n",
              " '1901\\t200\\t1',\n",
              " '1901\\t194\\t1',\n",
              " '1901\\t183\\t1',\n",
              " '1901\\t211\\t1',\n",
              " '1901\\t178\\t1',\n",
              " '1901\\t178\\t1',\n",
              " '1901\\t200\\t1',\n",
              " '1901\\t183\\t1',\n",
              " '1901\\t178\\t1',\n",
              " '1901\\t206\\t1',\n",
              " '1901\\t194\\t1',\n",
              " '1901\\t183\\t1',\n",
              " '1901\\t239\\t1',\n",
              " '1901\\t222\\t1',\n",
              " '1901\\t200\\t1',\n",
              " '1901\\t222\\t1',\n",
              " '1901\\t194\\t1',\n",
              " '1901\\t200\\t1',\n",
              " '1901\\t222\\t1',\n",
              " '1901\\t206\\t1',\n",
              " '1901\\t200\\t1',\n",
              " '1901\\t211\\t1',\n",
              " '1901\\t194\\t1',\n",
              " '1901\\t194\\t1',\n",
              " '1901\\t206\\t1',\n",
              " '1901\\t194\\t1',\n",
              " '1901\\t194\\t1',\n",
              " '1901\\t228\\t1',\n",
              " '1901\\t206\\t1',\n",
              " '1901\\t200\\t1',\n",
              " '1901\\t217\\t1',\n",
              " '1901\\t206\\t1',\n",
              " '1901\\t189\\t1',\n",
              " '1901\\t194\\t1',\n",
              " '1901\\t194\\t1',\n",
              " '1901\\t172\\t1',\n",
              " '1901\\t194\\t1',\n",
              " '1901\\t172\\t1',\n",
              " '1901\\t150\\t1',\n",
              " '1901\\t183\\t1',\n",
              " '1901\\t172\\t1',\n",
              " '1901\\t183\\t1',\n",
              " '1901\\t211\\t1',\n",
              " '1901\\t189\\t1',\n",
              " '1901\\t133\\t1',\n",
              " '1901\\t167\\t1',\n",
              " '1901\\t156\\t1',\n",
              " '1901\\t150\\t1',\n",
              " '1901\\t189\\t1',\n",
              " '1901\\t172\\t1',\n",
              " '1901\\t161\\t1',\n",
              " '1901\\t156\\t1',\n",
              " '1901\\t156\\t1',\n",
              " '1901\\t144\\t1',\n",
              " '1901\\t167\\t1',\n",
              " '1901\\t156\\t1',\n",
              " '1901\\t144\\t1',\n",
              " '1901\\t156\\t1',\n",
              " '1901\\t150\\t1',\n",
              " '1901\\t156\\t1',\n",
              " '1901\\t172\\t1',\n",
              " '1901\\t167\\t1',\n",
              " '1901\\t144\\t1',\n",
              " '1901\\t156\\t1',\n",
              " '1901\\t144\\t1',\n",
              " '1901\\t150\\t1',\n",
              " '1901\\t200\\t1',\n",
              " '1901\\t178\\t1',\n",
              " '1901\\t183\\t1',\n",
              " '1901\\t194\\t1',\n",
              " '1901\\t167\\t1',\n",
              " '1901\\t150\\t1',\n",
              " '1901\\t161\\t1',\n",
              " '1901\\t150\\t1',\n",
              " '1901\\t156\\t1',\n",
              " '1901\\t172\\t1',\n",
              " '1901\\t178\\t1',\n",
              " '1901\\t156\\t1',\n",
              " '1901\\t167\\t1',\n",
              " '1901\\t167\\t1',\n",
              " '1901\\t178\\t1',\n",
              " '1901\\t200\\t1',\n",
              " '1901\\t178\\t1',\n",
              " '1901\\t183\\t1',\n",
              " '1901\\t217\\t1',\n",
              " '1901\\t194\\t1',\n",
              " '1901\\t183\\t1',\n",
              " '1901\\t217\\t1',\n",
              " '1901\\t183\\t1',\n",
              " '1901\\t183\\t1',\n",
              " '1901\\t183\\t1',\n",
              " '1901\\t178\\t1',\n",
              " '1901\\t172\\t1',\n",
              " '1901\\t189\\t1',\n",
              " '1901\\t161\\t1',\n",
              " '1901\\t144\\t1',\n",
              " '1901\\t156\\t1',\n",
              " '1901\\t139\\t1',\n",
              " '1901\\t139\\t1',\n",
              " '1901\\t139\\t1',\n",
              " '1901\\t133\\t1',\n",
              " '1901\\t150\\t1',\n",
              " '1901\\t161\\t1',\n",
              " '1901\\t161\\t1',\n",
              " '1901\\t161\\t1',\n",
              " '1901\\t172\\t1',\n",
              " '1901\\t161\\t1',\n",
              " '1901\\t144\\t1',\n",
              " '1901\\t150\\t1',\n",
              " '1901\\t150\\t1',\n",
              " '1901\\t139\\t1',\n",
              " '1901\\t144\\t1',\n",
              " '1901\\t128\\t1',\n",
              " '1901\\t122\\t1',\n",
              " '1901\\t150\\t1',\n",
              " '1901\\t144\\t1',\n",
              " '1901\\t133\\t1',\n",
              " '1901\\t161\\t1',\n",
              " '1901\\t156\\t1',\n",
              " '1901\\t167\\t1',\n",
              " '1901\\t183\\t1',\n",
              " '1901\\t156\\t1',\n",
              " '1901\\t133\\t1',\n",
              " '1901\\t161\\t1',\n",
              " '1901\\t133\\t1',\n",
              " '1901\\t100\\t1',\n",
              " '1901\\t133\\t1',\n",
              " '1901\\t122\\t1',\n",
              " '1901\\t117\\t1',\n",
              " '1901\\t106\\t1',\n",
              " '1901\\t106\\t1',\n",
              " '1901\\t78\\t1',\n",
              " '1901\\t100\\t1',\n",
              " '1901\\t83\\t1',\n",
              " '1901\\t56\\t1',\n",
              " '1901\\t72\\t1',\n",
              " '1901\\t89\\t1',\n",
              " '1901\\t72\\t1',\n",
              " '1901\\t89\\t1',\n",
              " '1901\\t100\\t1',\n",
              " '1901\\t94\\t1',\n",
              " '1901\\t106\\t1',\n",
              " '1901\\t106\\t1',\n",
              " '1901\\t83\\t1',\n",
              " '1901\\t106\\t1',\n",
              " '1901\\t94\\t1',\n",
              " '1901\\t83\\t1',\n",
              " '1901\\t106\\t1',\n",
              " '1901\\t100\\t1',\n",
              " '1901\\t72\\t1',\n",
              " '1901\\t111\\t1',\n",
              " '1901\\t94\\t1',\n",
              " '1901\\t78\\t1',\n",
              " '1901\\t111\\t1',\n",
              " '1901\\t94\\t1',\n",
              " '1901\\t106\\t1',\n",
              " '1901\\t117\\t1',\n",
              " '1901\\t106\\t1',\n",
              " '1901\\t94\\t1',\n",
              " '1901\\t117\\t1',\n",
              " '1901\\t100\\t1',\n",
              " '1901\\t106\\t1',\n",
              " '1901\\t106\\t1',\n",
              " '1901\\t83\\t1',\n",
              " '1901\\t94\\t1',\n",
              " '1901\\t100\\t1',\n",
              " '1901\\t89\\t1',\n",
              " '1901\\t89\\t1',\n",
              " '1901\\t106\\t1',\n",
              " '1901\\t100\\t1',\n",
              " '1901\\t100\\t1',\n",
              " '1901\\t111\\t1',\n",
              " '1901\\t111\\t1',\n",
              " '1901\\t100\\t1',\n",
              " '1901\\t111\\t1',\n",
              " '1901\\t100\\t1',\n",
              " '1901\\t100\\t1',\n",
              " '1901\\t117\\t1',\n",
              " '1901\\t106\\t1',\n",
              " '1901\\t106\\t1',\n",
              " '1901\\t122\\t1',\n",
              " '1901\\t106\\t1',\n",
              " '1901\\t106\\t1',\n",
              " '1901\\t117\\t1',\n",
              " '1901\\t106\\t1',\n",
              " '1901\\t106\\t1',\n",
              " '1901\\t117\\t1',\n",
              " '1901\\t106\\t1',\n",
              " '1901\\t111\\t1',\n",
              " '1901\\t122\\t1',\n",
              " '1901\\t106\\t1',\n",
              " '1901\\t100\\t1',\n",
              " '1901\\t94\\t1',\n",
              " '1901\\t94\\t1',\n",
              " '1901\\t83\\t1',\n",
              " '1901\\t111\\t1',\n",
              " '1901\\t106\\t1',\n",
              " '1901\\t111\\t1',\n",
              " '1901\\t111\\t1',\n",
              " '1901\\t106\\t1',\n",
              " '1901\\t111\\t1',\n",
              " '1901\\t117\\t1',\n",
              " '1901\\t111\\t1',\n",
              " '1901\\t111\\t1',\n",
              " '1901\\t106\\t1',\n",
              " '1901\\t106\\t1',\n",
              " '1901\\t111\\t1',\n",
              " '1901\\t111\\t1',\n",
              " '1901\\t100\\t1',\n",
              " '1901\\t100\\t1',\n",
              " '1901\\t117\\t1',\n",
              " '1901\\t117\\t1',\n",
              " '1901\\t100\\t1',\n",
              " '1901\\t117\\t1',\n",
              " '1901\\t117\\t1',\n",
              " '1901\\t117\\t1',\n",
              " '1901\\t117\\t1',\n",
              " '1901\\t100\\t1',\n",
              " '1901\\t106\\t1',\n",
              " '1901\\t122\\t1',\n",
              " '1901\\t117\\t1',\n",
              " '1901\\t100\\t1',\n",
              " '1901\\t94\\t1',\n",
              " '1901\\t78\\t1',\n",
              " '1901\\t67\\t1',\n",
              " '1901\\t89\\t1',\n",
              " '1901\\t94\\t1',\n",
              " '1901\\t89\\t1',\n",
              " '1901\\t111\\t1',\n",
              " '1901\\t106\\t1',\n",
              " '1901\\t111\\t1',\n",
              " '1901\\t117\\t1',\n",
              " '1901\\t111\\t1',\n",
              " '1901\\t117\\t1',\n",
              " '1901\\t117\\t1',\n",
              " '1901\\t106\\t1',\n",
              " '1901\\t117\\t1',\n",
              " '1901\\t128\\t1',\n",
              " '1901\\t111\\t1',\n",
              " '1901\\t94\\t1',\n",
              " '1901\\t106\\t1',\n",
              " '1901\\t111\\t1',\n",
              " '1901\\t94\\t1',\n",
              " '1901\\t100\\t1',\n",
              " '1901\\t78\\t1',\n",
              " '1901\\t89\\t1',\n",
              " '1901\\t89\\t1',\n",
              " '1901\\t94\\t1',\n",
              " '1901\\t83\\t1',\n",
              " '1901\\t89\\t1',\n",
              " '1901\\t89\\t1',\n",
              " '1901\\t83\\t1',\n",
              " '1901\\t111\\t1',\n",
              " '1901\\t94\\t1',\n",
              " '1901\\t78\\t1',\n",
              " '1901\\t83\\t1',\n",
              " '1901\\t72\\t1',\n",
              " '1901\\t67\\t1',\n",
              " '1901\\t89\\t1',\n",
              " '1901\\t78\\t1',\n",
              " '1901\\t50\\t1',\n",
              " '1901\\t61\\t1',\n",
              " '1901\\t61\\t1',\n",
              " '1901\\t33\\t1',\n",
              " '1901\\t67\\t1',\n",
              " '1901\\t50\\t1',\n",
              " '1901\\t67\\t1',\n",
              " '1901\\t83\\t1',\n",
              " '1901\\t78\\t1',\n",
              " '1901\\t83\\t1',\n",
              " '1901\\t89\\t1',\n",
              " '1901\\t83\\t1',\n",
              " '1901\\t78\\t1',\n",
              " '1901\\t100\\t1',\n",
              " '1901\\t94\\t1',\n",
              " '1901\\t72\\t1',\n",
              " '1901\\t78\\t1',\n",
              " '1901\\t78\\t1',\n",
              " '1901\\t78\\t1',\n",
              " '1901\\t78\\t1',\n",
              " '1901\\t78\\t1',\n",
              " '1901\\t72\\t1',\n",
              " '1901\\t94\\t1',\n",
              " '1901\\t89\\t1',\n",
              " '1901\\t83\\t1',\n",
              " '1901\\t94\\t1',\n",
              " '1901\\t89\\t1',\n",
              " '1901\\t56\\t1',\n",
              " '1901\\t50\\t1',\n",
              " '1901\\t44\\t1',\n",
              " '1901\\t61\\t1',\n",
              " '1901\\t72\\t1',\n",
              " '1901\\t72\\t1',\n",
              " '1901\\t83\\t1',\n",
              " '1901\\t78\\t1',\n",
              " '1901\\t78\\t1',\n",
              " '1901\\t72\\t1',\n",
              " '1901\\t78\\t1',\n",
              " '1901\\t72\\t1',\n",
              " '1901\\t78\\t1',\n",
              " '1901\\t78\\t1',\n",
              " '1901\\t78\\t1',\n",
              " '1901\\t83\\t1',\n",
              " '1901\\t89\\t1',\n",
              " '1901\\t83\\t1',\n",
              " '1901\\t67\\t1',\n",
              " '1901\\t67\\t1',\n",
              " '1901\\t72\\t1',\n",
              " '1901\\t61\\t1',\n",
              " '1901\\t56\\t1',\n",
              " '1901\\t39\\t1',\n",
              " '1901\\t33\\t1',\n",
              " '1901\\t61\\t1',\n",
              " '1901\\t78\\t1',\n",
              " '1901\\t67\\t1',\n",
              " '1901\\t61\\t1',\n",
              " '1901\\t78\\t1',\n",
              " '1901\\t72\\t1',\n",
              " '1901\\t78\\t1',\n",
              " '1901\\t78\\t1',\n",
              " '1901\\t33\\t1',\n",
              " '1901\\t28\\t1',\n",
              " '1901\\t33\\t1',\n",
              " '1901\\t17\\t1',\n",
              " '1901\\t28\\t1',\n",
              " '1901\\t39\\t1',\n",
              " '1901\\t67\\t1',\n",
              " '1901\\t56\\t1',\n",
              " '1901\\t39\\t1',\n",
              " '1901\\t61\\t1',\n",
              " '1901\\t56\\t1',\n",
              " '1901\\t56\\t1',\n",
              " '1901\\t50\\t1',\n",
              " '1901\\t33\\t1',\n",
              " '1901\\t22\\t1',\n",
              " '1901\\t-17\\t1',\n",
              " '1901\\t-6\\t1',\n",
              " '1901\\t-11\\t1',\n",
              " '1901\\t17\\t1',\n",
              " '1901\\t-6\\t1',\n",
              " '1901\\t0\\t1',\n",
              " '1901\\t-6\\t1',\n",
              " '1901\\t17\\t1',\n",
              " '1901\\t-22\\t1',\n",
              " '1901\\t-33\\t1',\n",
              " '1901\\t-22\\t1',\n",
              " '1901\\t-17\\t1',\n",
              " '1901\\t-6\\t1',\n",
              " '1901\\t-11\\t1',\n",
              " '1901\\t-11\\t1',\n",
              " '1901\\t-22\\t1',\n",
              " '1901\\t-33\\t1',\n",
              " '1901\\t-67\\t1',\n",
              " '1901\\t-78\\t1',\n",
              " '1901\\t-72\\t1',\n",
              " '1901\\t-50\\t1',\n",
              " '1901\\t-39\\t1',\n",
              " '1901\\t-39\\t1',\n",
              " '1901\\t-28\\t1',\n",
              " '1901\\t-28\\t1',\n",
              " '1901\\t-61\\t1',\n",
              " '1901\\t6\\t1',\n",
              " '1901\\t-6\\t1',\n",
              " '1901\\t-17\\t1',\n",
              " '1901\\t-22\\t1',\n",
              " '1901\\t-11\\t1',\n",
              " '1901\\t-17\\t1',\n",
              " '1901\\t-17\\t1',\n",
              " '1901\\t-22\\t1',\n",
              " '1901\\t-33\\t1',\n",
              " '1901\\t-33\\t1',\n",
              " '1901\\t-44\\t1',\n",
              " '1901\\t-39\\t1',\n",
              " '1901\\t-33\\t1',\n",
              " '1901\\t-22\\t1',\n",
              " '1901\\t-22\\t1',\n",
              " '1901\\t-22\\t1',\n",
              " '1901\\t-50\\t1',\n",
              " '1901\\t-61\\t1',\n",
              " '1901\\t-56\\t1',\n",
              " '1901\\t-33\\t1',\n",
              " '1901\\t0\\t1',\n",
              " '1901\\t-6\\t1',\n",
              " '1901\\t-17\\t1',\n",
              " '1901\\t-17\\t1',\n",
              " '1901\\t-17\\t1',\n",
              " '1901\\t22\\t1',\n",
              " '1901\\t22\\t1',\n",
              " '1901\\t22\\t1',\n",
              " '1901\\t-33\\t1',\n",
              " '1901\\t-28\\t1',\n",
              " '1901\\t-22\\t1',\n",
              " '1901\\t28\\t1',\n",
              " '1901\\t33\\t1',\n",
              " '1901\\t22\\t1',\n",
              " '1901\\t-11\\t1',\n",
              " '1901\\t-22\\t1',\n",
              " '1901\\t-28\\t1',\n",
              " '1901\\t-33\\t1',\n",
              " '1901\\t-44\\t1',\n",
              " '1901\\t-44\\t1',\n",
              " '1901\\t-89\\t1',\n",
              " ...]"
            ]
          },
          "metadata": {
            "tags": []
          },
          "execution_count": 23
        }
      ]
    },
    {
      "cell_type": "code",
      "metadata": {
        "id": "Iid8zfbd-c4Y"
      },
      "source": [
        "rdd3 = rdd2.map(lambda s: s.split('\\t'))"
      ],
      "execution_count": 24,
      "outputs": []
    },
    {
      "cell_type": "code",
      "metadata": {
        "id": "D9vwiPFRAmyf",
        "outputId": "dd35a9d7-8e85-4f7b-d89f-c06dd18a0169",
        "colab": {
          "base_uri": "https://localhost:8080/"
        }
      },
      "source": [
        "type(rdd3)"
      ],
      "execution_count": 25,
      "outputs": [
        {
          "output_type": "execute_result",
          "data": {
            "text/plain": [
              "pyspark.rdd.PipelinedRDD"
            ]
          },
          "metadata": {
            "tags": []
          },
          "execution_count": 25
        }
      ]
    },
    {
      "cell_type": "code",
      "metadata": {
        "id": "z9A2eJ9UAoBL",
        "outputId": "6ee42373-84c8-4408-9faa-d362d5823ee5",
        "colab": {
          "base_uri": "https://localhost:8080/"
        }
      },
      "source": [
        "rdd3.collect()"
      ],
      "execution_count": 26,
      "outputs": [
        {
          "output_type": "execute_result",
          "data": {
            "text/plain": [
              "[['1901', '-78', '1'],\n",
              " ['1901', '-72', '1'],\n",
              " ['1901', '-94', '1'],\n",
              " ['1901', '-61', '1'],\n",
              " ['1901', '-56', '1'],\n",
              " ['1901', '-28', '1'],\n",
              " ['1901', '-67', '1'],\n",
              " ['1901', '-33', '1'],\n",
              " ['1901', '-28', '1'],\n",
              " ['1901', '-33', '1'],\n",
              " ['1901', '-44', '1'],\n",
              " ['1901', '-39', '1'],\n",
              " ['1901', '0', '1'],\n",
              " ['1901', '6', '1'],\n",
              " ['1901', '0', '1'],\n",
              " ['1901', '6', '1'],\n",
              " ['1901', '6', '1'],\n",
              " ['1901', '-11', '1'],\n",
              " ['1901', '-33', '1'],\n",
              " ['1901', '-50', '1'],\n",
              " ['1901', '-44', '1'],\n",
              " ['1901', '-28', '1'],\n",
              " ['1901', '-33', '1'],\n",
              " ['1901', '-33', '1'],\n",
              " ['1901', '-50', '1'],\n",
              " ['1901', '-33', '1'],\n",
              " ['1901', '-28', '1'],\n",
              " ['1901', '-44', '1'],\n",
              " ['1901', '-44', '1'],\n",
              " ['1901', '-44', '1'],\n",
              " ['1901', '-39', '1'],\n",
              " ['1901', '-50', '1'],\n",
              " ['1901', '-44', '1'],\n",
              " ['1901', '-39', '1'],\n",
              " ['1901', '-33', '1'],\n",
              " ['1901', '-22', '1'],\n",
              " ['1901', '0', '1'],\n",
              " ['1901', '-6', '1'],\n",
              " ['1901', '-17', '1'],\n",
              " ['1901', '-44', '1'],\n",
              " ['1901', '-39', '1'],\n",
              " ['1901', '-33', '1'],\n",
              " ['1901', '-6', '1'],\n",
              " ['1901', '17', '1'],\n",
              " ['1901', '22', '1'],\n",
              " ['1901', '28', '1'],\n",
              " ['1901', '28', '1'],\n",
              " ['1901', '11', '1'],\n",
              " ['1901', '-17', '1'],\n",
              " ['1901', '-28', '1'],\n",
              " ['1901', '-56', '1'],\n",
              " ['1901', '-44', '1'],\n",
              " ['1901', '-44', '1'],\n",
              " ['1901', '-67', '1'],\n",
              " ['1901', '-44', '1'],\n",
              " ['1901', '-39', '1'],\n",
              " ['1901', '-22', '1'],\n",
              " ['1901', '-22', '1'],\n",
              " ['1901', '-22', '1'],\n",
              " ['1901', '-39', '1'],\n",
              " ['1901', '-17', '1'],\n",
              " ['1901', '-17', '1'],\n",
              " ['1901', '-22', '1'],\n",
              " ['1901', '-17', '1'],\n",
              " ['1901', '-6', '1'],\n",
              " ['1901', '-6', '1'],\n",
              " ['1901', '0', '1'],\n",
              " ['1901', '11', '1'],\n",
              " ['1901', '0', '1'],\n",
              " ['1901', '-6', '1'],\n",
              " ['1901', '17', '1'],\n",
              " ['1901', '6', '1'],\n",
              " ['1901', '6', '1'],\n",
              " ['1901', '6', '1'],\n",
              " ['1901', '0', '1'],\n",
              " ['1901', '-6', '1'],\n",
              " ['1901', '-11', '1'],\n",
              " ['1901', '-22', '1'],\n",
              " ['1901', '-56', '1'],\n",
              " ['1901', '-28', '1'],\n",
              " ['1901', '-28', '1'],\n",
              " ['1901', '-28', '1'],\n",
              " ['1901', '-28', '1'],\n",
              " ['1901', '-39', '1'],\n",
              " ['1901', '-28', '1'],\n",
              " ['1901', '-17', '1'],\n",
              " ['1901', '-11', '1'],\n",
              " ['1901', '-33', '1'],\n",
              " ['1901', '-33', '1'],\n",
              " ['1901', '-44', '1'],\n",
              " ['1901', '-78', '1'],\n",
              " ['1901', '-61', '1'],\n",
              " ['1901', '-67', '1'],\n",
              " ['1901', '-78', '1'],\n",
              " ['1901', '-67', '1'],\n",
              " ['1901', '-83', '1'],\n",
              " ['1901', '-56', '1'],\n",
              " ['1901', '-22', '1'],\n",
              " ['1901', '-33', '1'],\n",
              " ['1901', '-44', '1'],\n",
              " ['1901', '-33', '1'],\n",
              " ['1901', '-78', '1'],\n",
              " ['1901', '-61', '1'],\n",
              " ['1901', '-61', '1'],\n",
              " ['1901', '-83', '1'],\n",
              " ['1901', '-28', '1'],\n",
              " ['1901', '-33', '1'],\n",
              " ['1901', '-44', '1'],\n",
              " ['1901', '-161', '1'],\n",
              " ['1901', '-128', '1'],\n",
              " ['1901', '-122', '1'],\n",
              " ['1901', '-111', '1'],\n",
              " ['1901', '-122', '1'],\n",
              " ['1901', '-122', '1'],\n",
              " ['1901', '-122', '1'],\n",
              " ['1901', '-117', '1'],\n",
              " ['1901', '-117', '1'],\n",
              " ['1901', '-111', '1'],\n",
              " ['1901', '-106', '1'],\n",
              " ['1901', '-133', '1'],\n",
              " ['1901', '-106', '1'],\n",
              " ['1901', '-117', '1'],\n",
              " ['1901', '-183', '1'],\n",
              " ['1901', '-150', '1'],\n",
              " ['1901', '-128', '1'],\n",
              " ['1901', '-122', '1'],\n",
              " ['1901', '-128', '1'],\n",
              " ['1901', '-128', '1'],\n",
              " ['1901', '-128', '1'],\n",
              " ['1901', '-122', '1'],\n",
              " ['1901', '-117', '1'],\n",
              " ['1901', '-100', '1'],\n",
              " ['1901', '-183', '1'],\n",
              " ['1901', '-178', '1'],\n",
              " ['1901', '-211', '1'],\n",
              " ['1901', '-250', '1'],\n",
              " ['1901', '-200', '1'],\n",
              " ['1901', '-178', '1'],\n",
              " ['1901', '-106', '1'],\n",
              " ['1901', '-117', '1'],\n",
              " ['1901', '-133', '1'],\n",
              " ['1901', '-156', '1'],\n",
              " ['1901', '-122', '1'],\n",
              " ['1901', '-122', '1'],\n",
              " ['1901', '-94', '1'],\n",
              " ['1901', '-94', '1'],\n",
              " ['1901', '-89', '1'],\n",
              " ['1901', '-144', '1'],\n",
              " ['1901', '-78', '1'],\n",
              " ['1901', '-83', '1'],\n",
              " ['1901', '-89', '1'],\n",
              " ['1901', '-61', '1'],\n",
              " ['1901', '-72', '1'],\n",
              " ['1901', '-67', '1'],\n",
              " ['1901', '-44', '1'],\n",
              " ['1901', '-89', '1'],\n",
              " ['1901', '-156', '1'],\n",
              " ['1901', '-139', '1'],\n",
              " ['1901', '-172', '1'],\n",
              " ['1901', '-156', '1'],\n",
              " ['1901', '-144', '1'],\n",
              " ['1901', '-156', '1'],\n",
              " ['1901', '-172', '1'],\n",
              " ['1901', '-156', '1'],\n",
              " ['1901', '-167', '1'],\n",
              " ['1901', '-183', '1'],\n",
              " ['1901', '-122', '1'],\n",
              " ['1901', '-106', '1'],\n",
              " ['1901', '-150', '1'],\n",
              " ['1901', '-111', '1'],\n",
              " ['1901', '-111', '1'],\n",
              " ['1901', '-106', '1'],\n",
              " ['1901', '-72', '1'],\n",
              " ['1901', '-78', '1'],\n",
              " ['1901', '-178', '1'],\n",
              " ['1901', '-156', '1'],\n",
              " ['1901', '-167', '1'],\n",
              " ['1901', '-194', '1'],\n",
              " ['1901', '-150', '1'],\n",
              " ['1901', '-172', '1'],\n",
              " ['1901', '-200', '1'],\n",
              " ['1901', '-133', '1'],\n",
              " ['1901', '-167', '1'],\n",
              " ['1901', '-189', '1'],\n",
              " ['1901', '-106', '1'],\n",
              " ['1901', '-67', '1'],\n",
              " ['1901', '-56', '1'],\n",
              " ['1901', '-28', '1'],\n",
              " ['1901', '-22', '1'],\n",
              " ['1901', '-50', '1'],\n",
              " ['1901', '-28', '1'],\n",
              " ['1901', '-17', '1'],\n",
              " ['1901', '-6', '1'],\n",
              " ['1901', '22', '1'],\n",
              " ['1901', '11', '1'],\n",
              " ['1901', '-17', '1'],\n",
              " ['1901', '0', '1'],\n",
              " ['1901', '-6', '1'],\n",
              " ['1901', '-11', '1'],\n",
              " ['1901', '-6', '1'],\n",
              " ['1901', '-6', '1'],\n",
              " ['1901', '-33', '1'],\n",
              " ['1901', '-11', '1'],\n",
              " ['1901', '-11', '1'],\n",
              " ['1901', '-6', '1'],\n",
              " ['1901', '0', '1'],\n",
              " ['1901', '-28', '1'],\n",
              " ['1901', '-17', '1'],\n",
              " ['1901', '22', '1'],\n",
              " ['1901', '17', '1'],\n",
              " ['1901', '-33', '1'],\n",
              " ['1901', '-6', '1'],\n",
              " ['1901', '-44', '1'],\n",
              " ['1901', '-44', '1'],\n",
              " ['1901', '17', '1'],\n",
              " ['1901', '-44', '1'],\n",
              " ['1901', '-67', '1'],\n",
              " ['1901', '-17', '1'],\n",
              " ['1901', '-11', '1'],\n",
              " ['1901', '0', '1'],\n",
              " ['1901', '6', '1'],\n",
              " ['1901', '-28', '1'],\n",
              " ['1901', '-50', '1'],\n",
              " ['1901', '-6', '1'],\n",
              " ['1901', '-11', '1'],\n",
              " ['1901', '-28', '1'],\n",
              " ['1901', '-44', '1'],\n",
              " ['1901', '-100', '1'],\n",
              " ['1901', '-100', '1'],\n",
              " ['1901', '-50', '1'],\n",
              " ['1901', '-50', '1'],\n",
              " ['1901', '-139', '1'],\n",
              " ['1901', '-44', '1'],\n",
              " ['1901', '-39', '1'],\n",
              " ['1901', '-56', '1'],\n",
              " ['1901', '-33', '1'],\n",
              " ['1901', '-67', '1'],\n",
              " ['1901', '-122', '1'],\n",
              " ['1901', '-61', '1'],\n",
              " ['1901', '-83', '1'],\n",
              " ['1901', '-78', '1'],\n",
              " ['1901', '-28', '1'],\n",
              " ['1901', '-28', '1'],\n",
              " ['1901', '-17', '1'],\n",
              " ['1901', '17', '1'],\n",
              " ['1901', '0', '1'],\n",
              " ['1901', '-11', '1'],\n",
              " ['1901', '-61', '1'],\n",
              " ['1901', '-117', '1'],\n",
              " ['1901', '-156', '1'],\n",
              " ['1901', '-111', '1'],\n",
              " ['1901', '-133', '1'],\n",
              " ['1901', '-178', '1'],\n",
              " ['1901', '-94', '1'],\n",
              " ['1901', '-117', '1'],\n",
              " ['1901', '-200', '1'],\n",
              " ['1901', '-100', '1'],\n",
              " ['1901', '-156', '1'],\n",
              " ['1901', '-183', '1'],\n",
              " ['1901', '-89', '1'],\n",
              " ['1901', '-172', '1'],\n",
              " ['1901', '-172', '1'],\n",
              " ['1901', '-72', '1'],\n",
              " ['1901', '-89', '1'],\n",
              " ['1901', '-117', '1'],\n",
              " ['1901', '-56', '1'],\n",
              " ['1901', '-111', '1'],\n",
              " ['1901', '-156', '1'],\n",
              " ['1901', '-39', '1'],\n",
              " ['1901', '-56', '1'],\n",
              " ['1901', '-33', '1'],\n",
              " ['1901', '11', '1'],\n",
              " ['1901', '6', '1'],\n",
              " ['1901', '17', '1'],\n",
              " ['1901', '17', '1'],\n",
              " ['1901', '0', '1'],\n",
              " ['1901', '-39', '1'],\n",
              " ['1901', '0', '1'],\n",
              " ['1901', '-6', '1'],\n",
              " ['1901', '11', '1'],\n",
              " ['1901', '28', '1'],\n",
              " ['1901', '17', '1'],\n",
              " ['1901', '6', '1'],\n",
              " ['1901', '17', '1'],\n",
              " ['1901', '6', '1'],\n",
              " ['1901', '-11', '1'],\n",
              " ['1901', '0', '1'],\n",
              " ['1901', '-22', '1'],\n",
              " ['1901', '-44', '1'],\n",
              " ['1901', '-6', '1'],\n",
              " ['1901', '-39', '1'],\n",
              " ['1901', '-50', '1'],\n",
              " ['1901', '22', '1'],\n",
              " ['1901', '6', '1'],\n",
              " ['1901', '0', '1'],\n",
              " ['1901', '22', '1'],\n",
              " ['1901', '17', '1'],\n",
              " ['1901', '11', '1'],\n",
              " ['1901', '33', '1'],\n",
              " ['1901', '22', '1'],\n",
              " ['1901', '0', '1'],\n",
              " ['1901', '28', '1'],\n",
              " ['1901', '-6', '1'],\n",
              " ['1901', '-6', '1'],\n",
              " ['1901', '-11', '1'],\n",
              " ['1901', '-17', '1'],\n",
              " ['1901', '-11', '1'],\n",
              " ['1901', '0', '1'],\n",
              " ['1901', '-28', '1'],\n",
              " ['1901', '-28', '1'],\n",
              " ['1901', '-28', '1'],\n",
              " ['1901', '-28', '1'],\n",
              " ['1901', '-56', '1'],\n",
              " ['1901', '-50', '1'],\n",
              " ['1901', '-50', '1'],\n",
              " ['1901', '-61', '1'],\n",
              " ['1901', '-44', '1'],\n",
              " ['1901', '-61', '1'],\n",
              " ['1901', '-39', '1'],\n",
              " ['1901', '0', '1'],\n",
              " ['1901', '0', '1'],\n",
              " ['1901', '6', '1'],\n",
              " ['1901', '6', '1'],\n",
              " ['1901', '-6', '1'],\n",
              " ['1901', '-6', '1'],\n",
              " ['1901', '0', '1'],\n",
              " ['1901', '-28', '1'],\n",
              " ['1901', '-11', '1'],\n",
              " ['1901', '-6', '1'],\n",
              " ['1901', '-17', '1'],\n",
              " ['1901', '-11', '1'],\n",
              " ['1901', '-6', '1'],\n",
              " ['1901', '-17', '1'],\n",
              " ['1901', '0', '1'],\n",
              " ['1901', '17', '1'],\n",
              " ['1901', '0', '1'],\n",
              " ['1901', '17', '1'],\n",
              " ['1901', '11', '1'],\n",
              " ['1901', '-11', '1'],\n",
              " ['1901', '-17', '1'],\n",
              " ['1901', '17', '1'],\n",
              " ['1901', '-11', '1'],\n",
              " ['1901', '11', '1'],\n",
              " ['1901', '28', '1'],\n",
              " ['1901', '-11', '1'],\n",
              " ['1901', '0', '1'],\n",
              " ['1901', '22', '1'],\n",
              " ['1901', '22', '1'],\n",
              " ['1901', '6', '1'],\n",
              " ['1901', '28', '1'],\n",
              " ['1901', '0', '1'],\n",
              " ['1901', '11', '1'],\n",
              " ['1901', '33', '1'],\n",
              " ['1901', '0', '1'],\n",
              " ['1901', '11', '1'],\n",
              " ['1901', '22', '1'],\n",
              " ['1901', '17', '1'],\n",
              " ['1901', '11', '1'],\n",
              " ['1901', '28', '1'],\n",
              " ['1901', '17', '1'],\n",
              " ['1901', '11', '1'],\n",
              " ['1901', '44', '1'],\n",
              " ['1901', '17', '1'],\n",
              " ['1901', '6', '1'],\n",
              " ['1901', '50', '1'],\n",
              " ['1901', '6', '1'],\n",
              " ['1901', '22', '1'],\n",
              " ['1901', '39', '1'],\n",
              " ['1901', '17', '1'],\n",
              " ['1901', '-11', '1'],\n",
              " ['1901', '0', '1'],\n",
              " ['1901', '-22', '1'],\n",
              " ['1901', '-28', '1'],\n",
              " ['1901', '0', '1'],\n",
              " ['1901', '-17', '1'],\n",
              " ['1901', '-22', '1'],\n",
              " ['1901', '-11', '1'],\n",
              " ['1901', '-11', '1'],\n",
              " ['1901', '-22', '1'],\n",
              " ['1901', '0', '1'],\n",
              " ['1901', '-6', '1'],\n",
              " ['1901', '-6', '1'],\n",
              " ['1901', '33', '1'],\n",
              " ['1901', '-17', '1'],\n",
              " ['1901', '17', '1'],\n",
              " ['1901', '44', '1'],\n",
              " ['1901', '6', '1'],\n",
              " ['1901', '17', '1'],\n",
              " ['1901', '33', '1'],\n",
              " ['1901', '33', '1'],\n",
              " ['1901', '33', '1'],\n",
              " ['1901', '72', '1'],\n",
              " ['1901', '33', '1'],\n",
              " ['1901', '72', '1'],\n",
              " ['1901', '72', '1'],\n",
              " ['1901', '56', '1'],\n",
              " ['1901', '72', '1'],\n",
              " ['1901', '89', '1'],\n",
              " ['1901', '83', '1'],\n",
              " ['1901', '67', '1'],\n",
              " ['1901', '50', '1'],\n",
              " ['1901', '67', '1'],\n",
              " ['1901', '67', '1'],\n",
              " ['1901', '83', '1'],\n",
              " ['1901', '39', '1'],\n",
              " ['1901', '22', '1'],\n",
              " ['1901', '33', '1'],\n",
              " ['1901', '17', '1'],\n",
              " ['1901', '11', '1'],\n",
              " ['1901', '17', '1'],\n",
              " ['1901', '17', '1'],\n",
              " ['1901', '17', '1'],\n",
              " ['1901', '28', '1'],\n",
              " ['1901', '6', '1'],\n",
              " ['1901', '17', '1'],\n",
              " ['1901', '33', '1'],\n",
              " ['1901', '17', '1'],\n",
              " ['1901', '11', '1'],\n",
              " ['1901', '50', '1'],\n",
              " ['1901', '17', '1'],\n",
              " ['1901', '22', '1'],\n",
              " ['1901', '44', '1'],\n",
              " ['1901', '39', '1'],\n",
              " ['1901', '33', '1'],\n",
              " ['1901', '50', '1'],\n",
              " ['1901', '33', '1'],\n",
              " ['1901', '33', '1'],\n",
              " ['1901', '50', '1'],\n",
              " ['1901', '33', '1'],\n",
              " ['1901', '33', '1'],\n",
              " ['1901', '50', '1'],\n",
              " ['1901', '33', '1'],\n",
              " ['1901', '33', '1'],\n",
              " ['1901', '56', '1'],\n",
              " ['1901', '33', '1'],\n",
              " ['1901', '50', '1'],\n",
              " ['1901', '61', '1'],\n",
              " ['1901', '39', '1'],\n",
              " ['1901', '33', '1'],\n",
              " ['1901', '39', '1'],\n",
              " ['1901', '28', '1'],\n",
              " ['1901', '33', '1'],\n",
              " ['1901', '44', '1'],\n",
              " ['1901', '28', '1'],\n",
              " ['1901', '22', '1'],\n",
              " ['1901', '33', '1'],\n",
              " ['1901', '28', '1'],\n",
              " ['1901', '44', '1'],\n",
              " ['1901', '50', '1'],\n",
              " ['1901', '33', '1'],\n",
              " ['1901', '44', '1'],\n",
              " ['1901', '67', '1'],\n",
              " ['1901', '44', '1'],\n",
              " ['1901', '56', '1'],\n",
              " ['1901', '50', '1'],\n",
              " ['1901', '44', '1'],\n",
              " ['1901', '61', '1'],\n",
              " ['1901', '94', '1'],\n",
              " ['1901', '67', '1'],\n",
              " ['1901', '44', '1'],\n",
              " ['1901', '61', '1'],\n",
              " ['1901', '44', '1'],\n",
              " ['1901', '50', '1'],\n",
              " ['1901', '67', '1'],\n",
              " ['1901', '61', '1'],\n",
              " ['1901', '94', '1'],\n",
              " ['1901', '128', '1'],\n",
              " ['1901', '122', '1'],\n",
              " ['1901', '94', '1'],\n",
              " ['1901', '89', '1'],\n",
              " ['1901', '78', '1'],\n",
              " ['1901', '72', '1'],\n",
              " ['1901', '100', '1'],\n",
              " ['1901', '72', '1'],\n",
              " ['1901', '72', '1'],\n",
              " ['1901', '100', '1'],\n",
              " ['1901', '89', '1'],\n",
              " ['1901', '100', '1'],\n",
              " ['1901', '117', '1'],\n",
              " ['1901', '128', '1'],\n",
              " ['1901', '156', '1'],\n",
              " ['1901', '117', '1'],\n",
              " ['1901', '117', '1'],\n",
              " ['1901', '94', '1'],\n",
              " ['1901', '94', '1'],\n",
              " ['1901', '106', '1'],\n",
              " ['1901', '100', '1'],\n",
              " ['1901', '89', '1'],\n",
              " ['1901', '72', '1'],\n",
              " ['1901', '72', '1'],\n",
              " ['1901', '94', '1'],\n",
              " ['1901', '50', '1'],\n",
              " ['1901', '67', '1'],\n",
              " ['1901', '78', '1'],\n",
              " ['1901', '56', '1'],\n",
              " ['1901', '61', '1'],\n",
              " ['1901', '78', '1'],\n",
              " ['1901', '67', '1'],\n",
              " ['1901', '67', '1'],\n",
              " ['1901', '78', '1'],\n",
              " ['1901', '67', '1'],\n",
              " ['1901', '78', '1'],\n",
              " ['1901', '111', '1'],\n",
              " ['1901', '83', '1'],\n",
              " ['1901', '100', '1'],\n",
              " ['1901', '111', '1'],\n",
              " ['1901', '100', '1'],\n",
              " ['1901', '100', '1'],\n",
              " ['1901', '111', '1'],\n",
              " ['1901', '94', '1'],\n",
              " ['1901', '100', '1'],\n",
              " ['1901', '122', '1'],\n",
              " ['1901', '100', '1'],\n",
              " ['1901', '83', '1'],\n",
              " ['1901', '106', '1'],\n",
              " ['1901', '83', '1'],\n",
              " ['1901', '100', '1'],\n",
              " ['1901', '133', '1'],\n",
              " ['1901', '117', '1'],\n",
              " ['1901', '128', '1'],\n",
              " ['1901', '161', '1'],\n",
              " ['1901', '156', '1'],\n",
              " ['1901', '172', '1'],\n",
              " ['1901', '200', '1'],\n",
              " ['1901', '183', '1'],\n",
              " ['1901', '172', '1'],\n",
              " ['1901', '194', '1'],\n",
              " ['1901', '144', '1'],\n",
              " ['1901', '150', '1'],\n",
              " ['1901', '178', '1'],\n",
              " ['1901', '144', '1'],\n",
              " ['1901', '133', '1'],\n",
              " ['1901', '128', '1'],\n",
              " ['1901', '111', '1'],\n",
              " ['1901', '111', '1'],\n",
              " ['1901', '128', '1'],\n",
              " ['1901', '100', '1'],\n",
              " ['1901', '100', '1'],\n",
              " ['1901', '111', '1'],\n",
              " ['1901', '94', '1'],\n",
              " ['1901', '106', '1'],\n",
              " ['1901', '128', '1'],\n",
              " ['1901', '117', '1'],\n",
              " ['1901', '111', '1'],\n",
              " ['1901', '128', '1'],\n",
              " ['1901', '111', '1'],\n",
              " ['1901', '111', '1'],\n",
              " ['1901', '111', '1'],\n",
              " ['1901', '117', '1'],\n",
              " ['1901', '111', '1'],\n",
              " ['1901', '117', '1'],\n",
              " ['1901', '122', '1'],\n",
              " ['1901', '111', '1'],\n",
              " ['1901', '122', '1'],\n",
              " ['1901', '133', '1'],\n",
              " ['1901', '122', '1'],\n",
              " ['1901', '128', '1'],\n",
              " ['1901', '128', '1'],\n",
              " ['1901', '150', '1'],\n",
              " ['1901', '161', '1'],\n",
              " ['1901', '133', '1'],\n",
              " ['1901', '139', '1'],\n",
              " ['1901', '172', '1'],\n",
              " ['1901', '156', '1'],\n",
              " ['1901', '133', '1'],\n",
              " ['1901', '144', '1'],\n",
              " ['1901', '139', '1'],\n",
              " ['1901', '133', '1'],\n",
              " ['1901', '167', '1'],\n",
              " ['1901', '150', '1'],\n",
              " ['1901', '133', '1'],\n",
              " ['1901', '178', '1'],\n",
              " ['1901', '161', '1'],\n",
              " ['1901', '172', '1'],\n",
              " ['1901', '167', '1'],\n",
              " ['1901', '161', '1'],\n",
              " ['1901', '150', '1'],\n",
              " ['1901', '144', '1'],\n",
              " ['1901', '150', '1'],\n",
              " ['1901', '156', '1'],\n",
              " ['1901', '178', '1'],\n",
              " ['1901', '161', '1'],\n",
              " ['1901', '178', '1'],\n",
              " ['1901', '167', '1'],\n",
              " ['1901', '172', '1'],\n",
              " ['1901', '156', '1'],\n",
              " ['1901', '161', '1'],\n",
              " ['1901', '150', '1'],\n",
              " ['1901', '167', '1'],\n",
              " ['1901', '161', '1'],\n",
              " ['1901', '156', '1'],\n",
              " ['1901', '161', '1'],\n",
              " ['1901', '189', '1'],\n",
              " ['1901', '144', '1'],\n",
              " ['1901', '156', '1'],\n",
              " ['1901', '178', '1'],\n",
              " ['1901', '167', '1'],\n",
              " ['1901', '172', '1'],\n",
              " ['1901', '200', '1'],\n",
              " ['1901', '194', '1'],\n",
              " ['1901', '183', '1'],\n",
              " ['1901', '211', '1'],\n",
              " ['1901', '178', '1'],\n",
              " ['1901', '178', '1'],\n",
              " ['1901', '200', '1'],\n",
              " ['1901', '183', '1'],\n",
              " ['1901', '178', '1'],\n",
              " ['1901', '206', '1'],\n",
              " ['1901', '194', '1'],\n",
              " ['1901', '183', '1'],\n",
              " ['1901', '239', '1'],\n",
              " ['1901', '222', '1'],\n",
              " ['1901', '200', '1'],\n",
              " ['1901', '222', '1'],\n",
              " ['1901', '194', '1'],\n",
              " ['1901', '200', '1'],\n",
              " ['1901', '222', '1'],\n",
              " ['1901', '206', '1'],\n",
              " ['1901', '200', '1'],\n",
              " ['1901', '211', '1'],\n",
              " ['1901', '194', '1'],\n",
              " ['1901', '194', '1'],\n",
              " ['1901', '206', '1'],\n",
              " ['1901', '194', '1'],\n",
              " ['1901', '194', '1'],\n",
              " ['1901', '228', '1'],\n",
              " ['1901', '206', '1'],\n",
              " ['1901', '200', '1'],\n",
              " ['1901', '217', '1'],\n",
              " ['1901', '206', '1'],\n",
              " ['1901', '189', '1'],\n",
              " ['1901', '194', '1'],\n",
              " ['1901', '194', '1'],\n",
              " ['1901', '172', '1'],\n",
              " ['1901', '194', '1'],\n",
              " ['1901', '172', '1'],\n",
              " ['1901', '150', '1'],\n",
              " ['1901', '183', '1'],\n",
              " ['1901', '172', '1'],\n",
              " ['1901', '183', '1'],\n",
              " ['1901', '211', '1'],\n",
              " ['1901', '189', '1'],\n",
              " ['1901', '133', '1'],\n",
              " ['1901', '167', '1'],\n",
              " ['1901', '156', '1'],\n",
              " ['1901', '150', '1'],\n",
              " ['1901', '189', '1'],\n",
              " ['1901', '172', '1'],\n",
              " ['1901', '161', '1'],\n",
              " ['1901', '156', '1'],\n",
              " ['1901', '156', '1'],\n",
              " ['1901', '144', '1'],\n",
              " ['1901', '167', '1'],\n",
              " ['1901', '156', '1'],\n",
              " ['1901', '144', '1'],\n",
              " ['1901', '156', '1'],\n",
              " ['1901', '150', '1'],\n",
              " ['1901', '156', '1'],\n",
              " ['1901', '172', '1'],\n",
              " ['1901', '167', '1'],\n",
              " ['1901', '144', '1'],\n",
              " ['1901', '156', '1'],\n",
              " ['1901', '144', '1'],\n",
              " ['1901', '150', '1'],\n",
              " ['1901', '200', '1'],\n",
              " ['1901', '178', '1'],\n",
              " ['1901', '183', '1'],\n",
              " ['1901', '194', '1'],\n",
              " ['1901', '167', '1'],\n",
              " ['1901', '150', '1'],\n",
              " ['1901', '161', '1'],\n",
              " ['1901', '150', '1'],\n",
              " ['1901', '156', '1'],\n",
              " ['1901', '172', '1'],\n",
              " ['1901', '178', '1'],\n",
              " ['1901', '156', '1'],\n",
              " ['1901', '167', '1'],\n",
              " ['1901', '167', '1'],\n",
              " ['1901', '178', '1'],\n",
              " ['1901', '200', '1'],\n",
              " ['1901', '178', '1'],\n",
              " ['1901', '183', '1'],\n",
              " ['1901', '217', '1'],\n",
              " ['1901', '194', '1'],\n",
              " ['1901', '183', '1'],\n",
              " ['1901', '217', '1'],\n",
              " ['1901', '183', '1'],\n",
              " ['1901', '183', '1'],\n",
              " ['1901', '183', '1'],\n",
              " ['1901', '178', '1'],\n",
              " ['1901', '172', '1'],\n",
              " ['1901', '189', '1'],\n",
              " ['1901', '161', '1'],\n",
              " ['1901', '144', '1'],\n",
              " ['1901', '156', '1'],\n",
              " ['1901', '139', '1'],\n",
              " ['1901', '139', '1'],\n",
              " ['1901', '139', '1'],\n",
              " ['1901', '133', '1'],\n",
              " ['1901', '150', '1'],\n",
              " ['1901', '161', '1'],\n",
              " ['1901', '161', '1'],\n",
              " ['1901', '161', '1'],\n",
              " ['1901', '172', '1'],\n",
              " ['1901', '161', '1'],\n",
              " ['1901', '144', '1'],\n",
              " ['1901', '150', '1'],\n",
              " ['1901', '150', '1'],\n",
              " ['1901', '139', '1'],\n",
              " ['1901', '144', '1'],\n",
              " ['1901', '128', '1'],\n",
              " ['1901', '122', '1'],\n",
              " ['1901', '150', '1'],\n",
              " ['1901', '144', '1'],\n",
              " ['1901', '133', '1'],\n",
              " ['1901', '161', '1'],\n",
              " ['1901', '156', '1'],\n",
              " ['1901', '167', '1'],\n",
              " ['1901', '183', '1'],\n",
              " ['1901', '156', '1'],\n",
              " ['1901', '133', '1'],\n",
              " ['1901', '161', '1'],\n",
              " ['1901', '133', '1'],\n",
              " ['1901', '100', '1'],\n",
              " ['1901', '133', '1'],\n",
              " ['1901', '122', '1'],\n",
              " ['1901', '117', '1'],\n",
              " ['1901', '106', '1'],\n",
              " ['1901', '106', '1'],\n",
              " ['1901', '78', '1'],\n",
              " ['1901', '100', '1'],\n",
              " ['1901', '83', '1'],\n",
              " ['1901', '56', '1'],\n",
              " ['1901', '72', '1'],\n",
              " ['1901', '89', '1'],\n",
              " ['1901', '72', '1'],\n",
              " ['1901', '89', '1'],\n",
              " ['1901', '100', '1'],\n",
              " ['1901', '94', '1'],\n",
              " ['1901', '106', '1'],\n",
              " ['1901', '106', '1'],\n",
              " ['1901', '83', '1'],\n",
              " ['1901', '106', '1'],\n",
              " ['1901', '94', '1'],\n",
              " ['1901', '83', '1'],\n",
              " ['1901', '106', '1'],\n",
              " ['1901', '100', '1'],\n",
              " ['1901', '72', '1'],\n",
              " ['1901', '111', '1'],\n",
              " ['1901', '94', '1'],\n",
              " ['1901', '78', '1'],\n",
              " ['1901', '111', '1'],\n",
              " ['1901', '94', '1'],\n",
              " ['1901', '106', '1'],\n",
              " ['1901', '117', '1'],\n",
              " ['1901', '106', '1'],\n",
              " ['1901', '94', '1'],\n",
              " ['1901', '117', '1'],\n",
              " ['1901', '100', '1'],\n",
              " ['1901', '106', '1'],\n",
              " ['1901', '106', '1'],\n",
              " ['1901', '83', '1'],\n",
              " ['1901', '94', '1'],\n",
              " ['1901', '100', '1'],\n",
              " ['1901', '89', '1'],\n",
              " ['1901', '89', '1'],\n",
              " ['1901', '106', '1'],\n",
              " ['1901', '100', '1'],\n",
              " ['1901', '100', '1'],\n",
              " ['1901', '111', '1'],\n",
              " ['1901', '111', '1'],\n",
              " ['1901', '100', '1'],\n",
              " ['1901', '111', '1'],\n",
              " ['1901', '100', '1'],\n",
              " ['1901', '100', '1'],\n",
              " ['1901', '117', '1'],\n",
              " ['1901', '106', '1'],\n",
              " ['1901', '106', '1'],\n",
              " ['1901', '122', '1'],\n",
              " ['1901', '106', '1'],\n",
              " ['1901', '106', '1'],\n",
              " ['1901', '117', '1'],\n",
              " ['1901', '106', '1'],\n",
              " ['1901', '106', '1'],\n",
              " ['1901', '117', '1'],\n",
              " ['1901', '106', '1'],\n",
              " ['1901', '111', '1'],\n",
              " ['1901', '122', '1'],\n",
              " ['1901', '106', '1'],\n",
              " ['1901', '100', '1'],\n",
              " ['1901', '94', '1'],\n",
              " ['1901', '94', '1'],\n",
              " ['1901', '83', '1'],\n",
              " ['1901', '111', '1'],\n",
              " ['1901', '106', '1'],\n",
              " ['1901', '111', '1'],\n",
              " ['1901', '111', '1'],\n",
              " ['1901', '106', '1'],\n",
              " ['1901', '111', '1'],\n",
              " ['1901', '117', '1'],\n",
              " ['1901', '111', '1'],\n",
              " ['1901', '111', '1'],\n",
              " ['1901', '106', '1'],\n",
              " ['1901', '106', '1'],\n",
              " ['1901', '111', '1'],\n",
              " ['1901', '111', '1'],\n",
              " ['1901', '100', '1'],\n",
              " ['1901', '100', '1'],\n",
              " ['1901', '117', '1'],\n",
              " ['1901', '117', '1'],\n",
              " ['1901', '100', '1'],\n",
              " ['1901', '117', '1'],\n",
              " ['1901', '117', '1'],\n",
              " ['1901', '117', '1'],\n",
              " ['1901', '117', '1'],\n",
              " ['1901', '100', '1'],\n",
              " ['1901', '106', '1'],\n",
              " ['1901', '122', '1'],\n",
              " ['1901', '117', '1'],\n",
              " ['1901', '100', '1'],\n",
              " ['1901', '94', '1'],\n",
              " ['1901', '78', '1'],\n",
              " ['1901', '67', '1'],\n",
              " ['1901', '89', '1'],\n",
              " ['1901', '94', '1'],\n",
              " ['1901', '89', '1'],\n",
              " ['1901', '111', '1'],\n",
              " ['1901', '106', '1'],\n",
              " ['1901', '111', '1'],\n",
              " ['1901', '117', '1'],\n",
              " ['1901', '111', '1'],\n",
              " ['1901', '117', '1'],\n",
              " ['1901', '117', '1'],\n",
              " ['1901', '106', '1'],\n",
              " ['1901', '117', '1'],\n",
              " ['1901', '128', '1'],\n",
              " ['1901', '111', '1'],\n",
              " ['1901', '94', '1'],\n",
              " ['1901', '106', '1'],\n",
              " ['1901', '111', '1'],\n",
              " ['1901', '94', '1'],\n",
              " ['1901', '100', '1'],\n",
              " ['1901', '78', '1'],\n",
              " ['1901', '89', '1'],\n",
              " ['1901', '89', '1'],\n",
              " ['1901', '94', '1'],\n",
              " ['1901', '83', '1'],\n",
              " ['1901', '89', '1'],\n",
              " ['1901', '89', '1'],\n",
              " ['1901', '83', '1'],\n",
              " ['1901', '111', '1'],\n",
              " ['1901', '94', '1'],\n",
              " ['1901', '78', '1'],\n",
              " ['1901', '83', '1'],\n",
              " ['1901', '72', '1'],\n",
              " ['1901', '67', '1'],\n",
              " ['1901', '89', '1'],\n",
              " ['1901', '78', '1'],\n",
              " ['1901', '50', '1'],\n",
              " ['1901', '61', '1'],\n",
              " ['1901', '61', '1'],\n",
              " ['1901', '33', '1'],\n",
              " ['1901', '67', '1'],\n",
              " ['1901', '50', '1'],\n",
              " ['1901', '67', '1'],\n",
              " ['1901', '83', '1'],\n",
              " ['1901', '78', '1'],\n",
              " ['1901', '83', '1'],\n",
              " ['1901', '89', '1'],\n",
              " ['1901', '83', '1'],\n",
              " ['1901', '78', '1'],\n",
              " ['1901', '100', '1'],\n",
              " ['1901', '94', '1'],\n",
              " ['1901', '72', '1'],\n",
              " ['1901', '78', '1'],\n",
              " ['1901', '78', '1'],\n",
              " ['1901', '78', '1'],\n",
              " ['1901', '78', '1'],\n",
              " ['1901', '78', '1'],\n",
              " ['1901', '72', '1'],\n",
              " ['1901', '94', '1'],\n",
              " ['1901', '89', '1'],\n",
              " ['1901', '83', '1'],\n",
              " ['1901', '94', '1'],\n",
              " ['1901', '89', '1'],\n",
              " ['1901', '56', '1'],\n",
              " ['1901', '50', '1'],\n",
              " ['1901', '44', '1'],\n",
              " ['1901', '61', '1'],\n",
              " ['1901', '72', '1'],\n",
              " ['1901', '72', '1'],\n",
              " ['1901', '83', '1'],\n",
              " ['1901', '78', '1'],\n",
              " ['1901', '78', '1'],\n",
              " ['1901', '72', '1'],\n",
              " ['1901', '78', '1'],\n",
              " ['1901', '72', '1'],\n",
              " ['1901', '78', '1'],\n",
              " ['1901', '78', '1'],\n",
              " ['1901', '78', '1'],\n",
              " ['1901', '83', '1'],\n",
              " ['1901', '89', '1'],\n",
              " ['1901', '83', '1'],\n",
              " ['1901', '67', '1'],\n",
              " ['1901', '67', '1'],\n",
              " ['1901', '72', '1'],\n",
              " ['1901', '61', '1'],\n",
              " ['1901', '56', '1'],\n",
              " ['1901', '39', '1'],\n",
              " ['1901', '33', '1'],\n",
              " ['1901', '61', '1'],\n",
              " ['1901', '78', '1'],\n",
              " ['1901', '67', '1'],\n",
              " ['1901', '61', '1'],\n",
              " ['1901', '78', '1'],\n",
              " ['1901', '72', '1'],\n",
              " ['1901', '78', '1'],\n",
              " ['1901', '78', '1'],\n",
              " ['1901', '33', '1'],\n",
              " ['1901', '28', '1'],\n",
              " ['1901', '33', '1'],\n",
              " ['1901', '17', '1'],\n",
              " ['1901', '28', '1'],\n",
              " ['1901', '39', '1'],\n",
              " ['1901', '67', '1'],\n",
              " ['1901', '56', '1'],\n",
              " ['1901', '39', '1'],\n",
              " ['1901', '61', '1'],\n",
              " ['1901', '56', '1'],\n",
              " ['1901', '56', '1'],\n",
              " ['1901', '50', '1'],\n",
              " ['1901', '33', '1'],\n",
              " ['1901', '22', '1'],\n",
              " ['1901', '-17', '1'],\n",
              " ['1901', '-6', '1'],\n",
              " ['1901', '-11', '1'],\n",
              " ['1901', '17', '1'],\n",
              " ['1901', '-6', '1'],\n",
              " ['1901', '0', '1'],\n",
              " ['1901', '-6', '1'],\n",
              " ['1901', '17', '1'],\n",
              " ['1901', '-22', '1'],\n",
              " ['1901', '-33', '1'],\n",
              " ['1901', '-22', '1'],\n",
              " ['1901', '-17', '1'],\n",
              " ['1901', '-6', '1'],\n",
              " ['1901', '-11', '1'],\n",
              " ['1901', '-11', '1'],\n",
              " ['1901', '-22', '1'],\n",
              " ['1901', '-33', '1'],\n",
              " ['1901', '-67', '1'],\n",
              " ['1901', '-78', '1'],\n",
              " ['1901', '-72', '1'],\n",
              " ['1901', '-50', '1'],\n",
              " ['1901', '-39', '1'],\n",
              " ['1901', '-39', '1'],\n",
              " ['1901', '-28', '1'],\n",
              " ['1901', '-28', '1'],\n",
              " ['1901', '-61', '1'],\n",
              " ['1901', '6', '1'],\n",
              " ['1901', '-6', '1'],\n",
              " ['1901', '-17', '1'],\n",
              " ['1901', '-22', '1'],\n",
              " ['1901', '-11', '1'],\n",
              " ['1901', '-17', '1'],\n",
              " ['1901', '-17', '1'],\n",
              " ['1901', '-22', '1'],\n",
              " ['1901', '-33', '1'],\n",
              " ['1901', '-33', '1'],\n",
              " ['1901', '-44', '1'],\n",
              " ['1901', '-39', '1'],\n",
              " ['1901', '-33', '1'],\n",
              " ['1901', '-22', '1'],\n",
              " ['1901', '-22', '1'],\n",
              " ['1901', '-22', '1'],\n",
              " ['1901', '-50', '1'],\n",
              " ['1901', '-61', '1'],\n",
              " ['1901', '-56', '1'],\n",
              " ['1901', '-33', '1'],\n",
              " ['1901', '0', '1'],\n",
              " ['1901', '-6', '1'],\n",
              " ['1901', '-17', '1'],\n",
              " ['1901', '-17', '1'],\n",
              " ['1901', '-17', '1'],\n",
              " ['1901', '22', '1'],\n",
              " ['1901', '22', '1'],\n",
              " ['1901', '22', '1'],\n",
              " ['1901', '-33', '1'],\n",
              " ['1901', '-28', '1'],\n",
              " ['1901', '-22', '1'],\n",
              " ['1901', '28', '1'],\n",
              " ['1901', '33', '1'],\n",
              " ['1901', '22', '1'],\n",
              " ['1901', '-11', '1'],\n",
              " ['1901', '-22', '1'],\n",
              " ['1901', '-28', '1'],\n",
              " ['1901', '-33', '1'],\n",
              " ['1901', '-44', '1'],\n",
              " ['1901', '-44', '1'],\n",
              " ['1901', '-89', '1'],\n",
              " ...]"
            ]
          },
          "metadata": {
            "tags": []
          },
          "execution_count": 26
        }
      ]
    },
    {
      "cell_type": "markdown",
      "metadata": {
        "id": "G4mr-RalYPPS"
      },
      "source": [
        "### RDDs support two types of operations:\n",
        "* Transformations are operations (such as map, filter, join, union, and so on) that are performed on an RDD and which yield a new RDD containing the result."
      ]
    },
    {
      "cell_type": "markdown",
      "metadata": {
        "id": "1YV8FYGcYS3s"
      },
      "source": [
        "* Transformations in Spark are “lazy”, meaning that they do not compute their results right away. \n",
        "* They just “remember” the operation to be performed and the dataset (e.g., file) to which the operation is to be    performed. \n",
        "* The transformations are only actually computed when an action is called and the result is returned to the driver program. \n",
        "* This design enables Spark to run more efficiently. For example, if a big file was transformed in various ways and passed to first action, Spark would only process and return the result for the first line, rather than do the work for the entire file."
      ]
    },
    {
      "cell_type": "code",
      "metadata": {
        "id": "1Ea7w30cAxwo"
      },
      "source": [
        "intRdd = sc.parallelize([10,20,30,40,50])\n",
        "mapRdd = intRdd.map(lambda x : x**2)"
      ],
      "execution_count": 27,
      "outputs": []
    },
    {
      "cell_type": "code",
      "metadata": {
        "id": "9S2Y1-nRBokq",
        "outputId": "319541bc-a7fe-416f-8bc9-1532816dacee",
        "colab": {
          "base_uri": "https://localhost:8080/"
        }
      },
      "source": [
        "mapRdd.collect()"
      ],
      "execution_count": 28,
      "outputs": [
        {
          "output_type": "execute_result",
          "data": {
            "text/plain": [
              "[100, 400, 900, 1600, 2500]"
            ]
          },
          "metadata": {
            "tags": []
          },
          "execution_count": 28
        }
      ]
    },
    {
      "cell_type": "code",
      "metadata": {
        "id": "Ww1eUQoZBqD5",
        "outputId": "73e65191-09cf-41cf-989a-d3d719f6d20a",
        "colab": {
          "base_uri": "https://localhost:8080/"
        }
      },
      "source": [
        "numRdd = sc.parallelize([9,10,11,12,13,14,15,16,17,18,19,20])\n",
        "oddRdd = numRdd.filter(lambda num : num%2 == 1)\n",
        "oddRdd.collect()"
      ],
      "execution_count": 29,
      "outputs": [
        {
          "output_type": "execute_result",
          "data": {
            "text/plain": [
              "[9, 11, 13, 15, 17, 19]"
            ]
          },
          "metadata": {
            "tags": []
          },
          "execution_count": 29
        }
      ]
    },
    {
      "cell_type": "code",
      "metadata": {
        "id": "IdV8VJ2dCRPr",
        "outputId": "2c600cc6-f8f0-4eaa-b75c-0edf4d67b6cc",
        "colab": {
          "base_uri": "https://localhost:8080/"
        }
      },
      "source": [
        "evenRdd = numRdd.filter(lambda num : num%2 == 0)\n",
        "evenRdd.collect()"
      ],
      "execution_count": 30,
      "outputs": [
        {
          "output_type": "execute_result",
          "data": {
            "text/plain": [
              "[10, 12, 14, 16, 18, 20]"
            ]
          },
          "metadata": {
            "tags": []
          },
          "execution_count": 30
        }
      ]
    },
    {
      "cell_type": "code",
      "metadata": {
        "id": "j0bQ_-JwCYRn"
      },
      "source": [
        "x = sc.parallelize([('comp',1),('tab',1),('comp',1),('comp',1),('comp',1),\n",
        "                     ('tab',1),('tab',1),('tab',1),('tab',1),('tab',1),('tab',1)])"
      ],
      "execution_count": 31,
      "outputs": []
    },
    {
      "cell_type": "code",
      "metadata": {
        "id": "uJ8mgrYWC8SZ",
        "outputId": "7befb621-6c05-40a7-d66d-62cdb2e6b9ac",
        "colab": {
          "base_uri": "https://localhost:8080/"
        }
      },
      "source": [
        "x.collect()"
      ],
      "execution_count": 32,
      "outputs": [
        {
          "output_type": "execute_result",
          "data": {
            "text/plain": [
              "[('comp', 1),\n",
              " ('tab', 1),\n",
              " ('comp', 1),\n",
              " ('comp', 1),\n",
              " ('comp', 1),\n",
              " ('tab', 1),\n",
              " ('tab', 1),\n",
              " ('tab', 1),\n",
              " ('tab', 1),\n",
              " ('tab', 1),\n",
              " ('tab', 1)]"
            ]
          },
          "metadata": {
            "tags": []
          },
          "execution_count": 32
        }
      ]
    },
    {
      "cell_type": "code",
      "metadata": {
        "id": "qlED6I4uC-cS",
        "outputId": "248f22f9-5850-4e24-91ae-926af1009524",
        "colab": {
          "base_uri": "https://localhost:8080/"
        }
      },
      "source": [
        "y = x.reduceByKey(lambda a,b:a+b)\n",
        "y.collect()"
      ],
      "execution_count": 33,
      "outputs": [
        {
          "output_type": "execute_result",
          "data": {
            "text/plain": [
              "[('comp', 4), ('tab', 7)]"
            ]
          },
          "metadata": {
            "tags": []
          },
          "execution_count": 33
        }
      ]
    },
    {
      "cell_type": "code",
      "metadata": {
        "id": "5y2ihphND6rj"
      },
      "source": [
        "mapRddint = sc.parallelize([3,4,5]).map(lambda x : range(1,x)).collect()"
      ],
      "execution_count": 34,
      "outputs": []
    },
    {
      "cell_type": "code",
      "metadata": {
        "id": "GlXiqDrsE212",
        "outputId": "018451b7-8fe3-40a5-ab7b-14de87f1d9e7",
        "colab": {
          "base_uri": "https://localhost:8080/"
        }
      },
      "source": [
        "mapRddint"
      ],
      "execution_count": 35,
      "outputs": [
        {
          "output_type": "execute_result",
          "data": {
            "text/plain": [
              "[range(1, 3), range(1, 4), range(1, 5)]"
            ]
          },
          "metadata": {
            "tags": []
          },
          "execution_count": 35
        }
      ]
    },
    {
      "cell_type": "code",
      "metadata": {
        "id": "ruDJbsTsE4JT"
      },
      "source": [
        "flatMapRddInt = sc.parallelize([3,4,5]).flatMap(lambda x : range(1,x)).collect()"
      ],
      "execution_count": 36,
      "outputs": []
    },
    {
      "cell_type": "code",
      "metadata": {
        "id": "svbd5-UpFKYc",
        "outputId": "bb9cc0f8-c861-4f2c-cef6-fbfed1161971",
        "colab": {
          "base_uri": "https://localhost:8080/"
        }
      },
      "source": [
        "flatMapRddInt"
      ],
      "execution_count": 37,
      "outputs": [
        {
          "output_type": "execute_result",
          "data": {
            "text/plain": [
              "[1, 2, 1, 2, 3, 1, 2, 3, 4]"
            ]
          },
          "metadata": {
            "tags": []
          },
          "execution_count": 37
        }
      ]
    },
    {
      "cell_type": "code",
      "metadata": {
        "id": "DnuZRQa5FMC7"
      },
      "source": [
        "sentence = ['Welecome to Big Data.','The batch is 88','Module is 7246o','Rdd are constructed']\n",
        "sentRdd = sc.parallelize(sentence)\n"
      ],
      "execution_count": 38,
      "outputs": []
    },
    {
      "cell_type": "code",
      "metadata": {
        "id": "z4hyzNcdFzxV",
        "outputId": "eec1c4ca-a530-4101-ec89-97887dd2217c",
        "colab": {
          "base_uri": "https://localhost:8080/"
        }
      },
      "source": [
        "sentRdd"
      ],
      "execution_count": 39,
      "outputs": [
        {
          "output_type": "execute_result",
          "data": {
            "text/plain": [
              "ParallelCollectionRDD[19] at parallelize at PythonRDD.scala:195"
            ]
          },
          "metadata": {
            "tags": []
          },
          "execution_count": 39
        }
      ]
    },
    {
      "cell_type": "code",
      "metadata": {
        "id": "f1GQqX0NF0vZ",
        "outputId": "3b5e749b-5100-4bab-fc42-91f115168ed7",
        "colab": {
          "base_uri": "https://localhost:8080/"
        }
      },
      "source": [
        "sentRdd.map(lambda sent : sent.split(' ')).collect()"
      ],
      "execution_count": 40,
      "outputs": [
        {
          "output_type": "execute_result",
          "data": {
            "text/plain": [
              "[['Welecome', 'to', 'Big', 'Data.'],\n",
              " ['The', 'batch', 'is', '88'],\n",
              " ['Module', 'is', '7246o'],\n",
              " ['Rdd', 'are', 'constructed']]"
            ]
          },
          "metadata": {
            "tags": []
          },
          "execution_count": 40
        }
      ]
    },
    {
      "cell_type": "code",
      "metadata": {
        "id": "RTDARUbMGAok",
        "outputId": "d70cd05d-05ef-44c4-f9b6-794217519d15",
        "colab": {
          "base_uri": "https://localhost:8080/"
        }
      },
      "source": [
        "wordsRdd = sentRdd.flatMap(lambda sent : sent.split(' '))\n",
        "wordsRdd.collect()"
      ],
      "execution_count": 41,
      "outputs": [
        {
          "output_type": "execute_result",
          "data": {
            "text/plain": [
              "['Welecome',\n",
              " 'to',\n",
              " 'Big',\n",
              " 'Data.',\n",
              " 'The',\n",
              " 'batch',\n",
              " 'is',\n",
              " '88',\n",
              " 'Module',\n",
              " 'is',\n",
              " '7246o',\n",
              " 'Rdd',\n",
              " 'are',\n",
              " 'constructed']"
            ]
          },
          "metadata": {
            "tags": []
          },
          "execution_count": 41
        }
      ]
    },
    {
      "cell_type": "code",
      "metadata": {
        "id": "wejhEX89GUdl"
      },
      "source": [
        "profRdd = sc.parallelize([('proff1',1),('proff2',1),('proff1',1),('proff1',1),('proff2',1),('proff3',1)])"
      ],
      "execution_count": 43,
      "outputs": []
    },
    {
      "cell_type": "code",
      "metadata": {
        "id": "-GJkUQoxHPrT",
        "outputId": "05917384-0132-48c6-8bca-ac3a61b1ab64",
        "colab": {
          "base_uri": "https://localhost:8080/"
        }
      },
      "source": [
        "profRdd.groupByKey().collect()"
      ],
      "execution_count": 45,
      "outputs": [
        {
          "output_type": "execute_result",
          "data": {
            "text/plain": [
              "[('proff1', <pyspark.resultiterable.ResultIterable at 0x7fef5803e518>),\n",
              " ('proff3', <pyspark.resultiterable.ResultIterable at 0x7fef5803e550>),\n",
              " ('proff2', <pyspark.resultiterable.ResultIterable at 0x7fef5803e5c0>)]"
            ]
          },
          "metadata": {
            "tags": []
          },
          "execution_count": 45
        }
      ]
    },
    {
      "cell_type": "code",
      "metadata": {
        "id": "d4oaF0Y0HaVf",
        "outputId": "8b979ef4-7bcb-4d77-90af-751897474711",
        "colab": {
          "base_uri": "https://localhost:8080/"
        }
      },
      "source": [
        "profRdd.groupByKey().map(lambda x : (x[0],list(x[1]))).collect()"
      ],
      "execution_count": 46,
      "outputs": [
        {
          "output_type": "execute_result",
          "data": {
            "text/plain": [
              "[('proff1', [1, 1, 1]), ('proff3', [1]), ('proff2', [1, 1])]"
            ]
          },
          "metadata": {
            "tags": []
          },
          "execution_count": 46
        }
      ]
    },
    {
      "cell_type": "code",
      "metadata": {
        "id": "1LlxPAnnH33w"
      },
      "source": [
        "proffRdd1 = sc.parallelize(['proff1','proff2','proff1'\n",
        ",'proff1','proff2','proff3','proff1','proff2','proff3','student1','student2','student3'])"
      ],
      "execution_count": 48,
      "outputs": []
    },
    {
      "cell_type": "code",
      "metadata": {
        "id": "G7MMNIiyIlbm"
      },
      "source": [
        "result = proffRdd1.groupBy(lambda word : word[0]).collect()"
      ],
      "execution_count": 50,
      "outputs": []
    },
    {
      "cell_type": "code",
      "metadata": {
        "id": "xODlk9VOJDhC",
        "outputId": "83fe4905-adbb-4d44-b8d8-04e3a6a69cc0",
        "colab": {
          "base_uri": "https://localhost:8080/"
        }
      },
      "source": [
        "result"
      ],
      "execution_count": 51,
      "outputs": [
        {
          "output_type": "execute_result",
          "data": {
            "text/plain": [
              "[('p', <pyspark.resultiterable.ResultIterable at 0x7fef58060cf8>),\n",
              " ('s', <pyspark.resultiterable.ResultIterable at 0x7fef58060048>)]"
            ]
          },
          "metadata": {
            "tags": []
          },
          "execution_count": 51
        }
      ]
    },
    {
      "cell_type": "code",
      "metadata": {
        "id": "66_8h6GaJLkq",
        "outputId": "988a9e50-5082-4a4f-9444-94cec8aa23f2",
        "colab": {
          "base_uri": "https://localhost:8080/"
        }
      },
      "source": [
        "[(x,list(y)) for (x,y) in result]"
      ],
      "execution_count": 52,
      "outputs": [
        {
          "output_type": "execute_result",
          "data": {
            "text/plain": [
              "[('p',\n",
              "  ['proff1',\n",
              "   'proff2',\n",
              "   'proff1',\n",
              "   'proff1',\n",
              "   'proff2',\n",
              "   'proff3',\n",
              "   'proff1',\n",
              "   'proff2',\n",
              "   'proff3']),\n",
              " ('s', ['student1', 'student2', 'student3'])]"
            ]
          },
          "metadata": {
            "tags": []
          },
          "execution_count": 52
        }
      ]
    },
    {
      "cell_type": "code",
      "metadata": {
        "id": "uUbpWAMFJV8f"
      },
      "source": [
        "deviceRdd = sc.parallelize(['tab','computer','mobile','router','mouseclick'])\n",
        "pairRdd = deviceRdd.map(lambda x : (len(x),x))"
      ],
      "execution_count": 53,
      "outputs": []
    },
    {
      "cell_type": "code",
      "metadata": {
        "id": "O8muGR-8MuZ4",
        "outputId": "6d8a5a61-4f3c-4039-9a04-c75c720749f3",
        "colab": {
          "base_uri": "https://localhost:8080/"
        }
      },
      "source": [
        "pairRdd.collect()"
      ],
      "execution_count": 54,
      "outputs": [
        {
          "output_type": "execute_result",
          "data": {
            "text/plain": [
              "[(3, 'tab'), (8, 'computer'), (6, 'mobile'), (6, 'router'), (10, 'mouseclick')]"
            ]
          },
          "metadata": {
            "tags": []
          },
          "execution_count": 54
        }
      ]
    },
    {
      "cell_type": "code",
      "metadata": {
        "id": "DKqeDm1uMwom"
      },
      "source": [
        "result = pairRdd.mapValues(lambda y : \"Device Name is \" + y)"
      ],
      "execution_count": 55,
      "outputs": []
    },
    {
      "cell_type": "code",
      "metadata": {
        "id": "BMQh0u1TNGx7",
        "outputId": "e13c19a7-a968-40c7-e785-40eb73943935",
        "colab": {
          "base_uri": "https://localhost:8080/"
        }
      },
      "source": [
        "result.collect()"
      ],
      "execution_count": 56,
      "outputs": [
        {
          "output_type": "execute_result",
          "data": {
            "text/plain": [
              "[(3, 'Device Name is tab'),\n",
              " (8, 'Device Name is computer'),\n",
              " (6, 'Device Name is mobile'),\n",
              " (6, 'Device Name is router'),\n",
              " (10, 'Device Name is mouseclick')]"
            ]
          },
          "metadata": {
            "tags": []
          },
          "execution_count": 56
        }
      ]
    },
    {
      "cell_type": "code",
      "metadata": {
        "id": "o8SzllhiNIFZ"
      },
      "source": [
        "rdd1 = sc.parallelize([(\"Mercedes\",\"E-Class\"),(\"Toyota\",\"Corolla\"),(\"Renault\",\"Duster\")])\n",
        "rdd2 = sc.parallelize([(\"Mercedes\",\"S-Class\"),(\"Toyota\",\"Fortuner\"),(\"Suzuki\",\"Mayona\")])\n",
        "innerJoinRdd = rdd1.join(rdd2)"
      ],
      "execution_count": 57,
      "outputs": []
    },
    {
      "cell_type": "code",
      "metadata": {
        "id": "b7QvHjPhOX4R",
        "outputId": "c1b418b4-67c9-4e7b-86a6-d6e1f897cb23",
        "colab": {
          "base_uri": "https://localhost:8080/"
        }
      },
      "source": [
        "innerJoinRdd.collect()"
      ],
      "execution_count": 58,
      "outputs": [
        {
          "output_type": "execute_result",
          "data": {
            "text/plain": [
              "[('Mercedes', ('E-Class', 'S-Class')), ('Toyota', ('Corolla', 'Fortuner'))]"
            ]
          },
          "metadata": {
            "tags": []
          },
          "execution_count": 58
        }
      ]
    },
    {
      "cell_type": "code",
      "metadata": {
        "id": "1GudxMuwOZk1",
        "outputId": "1bbcf13d-dadf-49a6-8dc4-e6eff1f4455f",
        "colab": {
          "base_uri": "https://localhost:8080/"
        }
      },
      "source": [
        "leftOuterJoinRdd = rdd1.leftOuterJoin(rdd2)\n",
        "leftOuterJoinRdd.collect()"
      ],
      "execution_count": 59,
      "outputs": [
        {
          "output_type": "execute_result",
          "data": {
            "text/plain": [
              "[('Mercedes', ('E-Class', 'S-Class')),\n",
              " ('Renault', ('Duster', None)),\n",
              " ('Toyota', ('Corolla', 'Fortuner'))]"
            ]
          },
          "metadata": {
            "tags": []
          },
          "execution_count": 59
        }
      ]
    },
    {
      "cell_type": "code",
      "metadata": {
        "id": "uuZOwAFcOroe",
        "outputId": "1ab5471a-601e-4ec0-ad25-f8434c5afa2f",
        "colab": {
          "base_uri": "https://localhost:8080/"
        }
      },
      "source": [
        "unionRdd = rdd1.union(rdd2)\n",
        "unionRdd.collect()"
      ],
      "execution_count": 60,
      "outputs": [
        {
          "output_type": "execute_result",
          "data": {
            "text/plain": [
              "[('Mercedes', 'E-Class'),\n",
              " ('Toyota', 'Corolla'),\n",
              " ('Renault', 'Duster'),\n",
              " ('Mercedes', 'S-Class'),\n",
              " ('Toyota', 'Fortuner'),\n",
              " ('Suzuki', 'Mayona')]"
            ]
          },
          "metadata": {
            "tags": []
          },
          "execution_count": 60
        }
      ]
    },
    {
      "cell_type": "code",
      "metadata": {
        "id": "U5t93SRHO_G6",
        "outputId": "689ab390-ca4d-42ca-8dec-3927550a4afd",
        "colab": {
          "base_uri": "https://localhost:8080/"
        }
      },
      "source": [
        "unionRdd.first()"
      ],
      "execution_count": 61,
      "outputs": [
        {
          "output_type": "execute_result",
          "data": {
            "text/plain": [
              "('Mercedes', 'E-Class')"
            ]
          },
          "metadata": {
            "tags": []
          },
          "execution_count": 61
        }
      ]
    },
    {
      "cell_type": "code",
      "metadata": {
        "id": "ehtDoPf7PK-G",
        "outputId": "fcd9ffb7-b7a0-4e98-f0e9-ccf4eae29d7c",
        "colab": {
          "base_uri": "https://localhost:8080/"
        }
      },
      "source": [
        "unionRdd.take(2)"
      ],
      "execution_count": 62,
      "outputs": [
        {
          "output_type": "execute_result",
          "data": {
            "text/plain": [
              "[('Mercedes', 'E-Class'), ('Toyota', 'Corolla')]"
            ]
          },
          "metadata": {
            "tags": []
          },
          "execution_count": 62
        }
      ]
    },
    {
      "cell_type": "code",
      "metadata": {
        "id": "kWYiW5q0PM9m",
        "outputId": "8e6ebc24-9eab-4259-90f3-704a1e5b0ae4",
        "colab": {
          "base_uri": "https://localhost:8080/"
        }
      },
      "source": [
        "unionRdd.takeOrdered(4)"
      ],
      "execution_count": 63,
      "outputs": [
        {
          "output_type": "execute_result",
          "data": {
            "text/plain": [
              "[('Mercedes', 'E-Class'),\n",
              " ('Mercedes', 'S-Class'),\n",
              " ('Renault', 'Duster'),\n",
              " ('Suzuki', 'Mayona')]"
            ]
          },
          "metadata": {
            "tags": []
          },
          "execution_count": 63
        }
      ]
    },
    {
      "cell_type": "markdown",
      "metadata": {
        "id": "nZRCIoBdYbs3"
      },
      "source": [
        "### Word Count Example"
      ]
    },
    {
      "cell_type": "code",
      "metadata": {
        "id": "cV4YiEicPYA-"
      },
      "source": [
        "inputRdd = sc.textFile('/content/drive/My Drive/BigData/spark2020/input.txt')"
      ],
      "execution_count": 64,
      "outputs": []
    },
    {
      "cell_type": "code",
      "metadata": {
        "id": "R4sqqo-WWNvL",
        "outputId": "d2a20c2a-8a46-498c-a74d-ad208d6f1184",
        "colab": {
          "base_uri": "https://localhost:8080/"
        }
      },
      "source": [
        "inputRdd.take(2)"
      ],
      "execution_count": 65,
      "outputs": [
        {
          "output_type": "execute_result",
          "data": {
            "text/plain": [
              "['Hello All', 'Test practice']"
            ]
          },
          "metadata": {
            "tags": []
          },
          "execution_count": 65
        }
      ]
    },
    {
      "cell_type": "code",
      "metadata": {
        "id": "Es-ZION-WQGG",
        "outputId": "9ce8dc5d-a072-482a-90d5-7c57189b0665",
        "colab": {
          "base_uri": "https://localhost:8080/"
        }
      },
      "source": [
        "inputRdd.count()"
      ],
      "execution_count": 66,
      "outputs": [
        {
          "output_type": "execute_result",
          "data": {
            "text/plain": [
              "2"
            ]
          },
          "metadata": {
            "tags": []
          },
          "execution_count": 66
        }
      ]
    },
    {
      "cell_type": "code",
      "metadata": {
        "id": "l-H2EMt0WTDB"
      },
      "source": [
        "wordRdd = inputRdd.flatMap(lambda x : x.split(' ')).map(lambda word : (word,1)).reduceByKey(lambda a,b:a+b)"
      ],
      "execution_count": 67,
      "outputs": []
    },
    {
      "cell_type": "code",
      "metadata": {
        "id": "BZ3VbSruWncw",
        "outputId": "401191c7-e964-4b4d-c483-d0bb366145e8",
        "colab": {
          "base_uri": "https://localhost:8080/"
        }
      },
      "source": [
        "wordRdd.collect()"
      ],
      "execution_count": 68,
      "outputs": [
        {
          "output_type": "execute_result",
          "data": {
            "text/plain": [
              "[('Hello', 1), ('Test', 1), ('All', 1), ('practice', 1)]"
            ]
          },
          "metadata": {
            "tags": []
          },
          "execution_count": 68
        }
      ]
    },
    {
      "cell_type": "code",
      "metadata": {
        "id": "djr9BHgGWo0P"
      },
      "source": [
        "sortedWords = wordRdd.sortByKey()"
      ],
      "execution_count": 69,
      "outputs": []
    },
    {
      "cell_type": "code",
      "metadata": {
        "id": "vBD14aevW7cB",
        "outputId": "3d93adb2-9755-4424-a5fb-8d0dd33bc2f3",
        "colab": {
          "base_uri": "https://localhost:8080/"
        }
      },
      "source": [
        "sortedWords.collect()"
      ],
      "execution_count": 70,
      "outputs": [
        {
          "output_type": "execute_result",
          "data": {
            "text/plain": [
              "[('All', 1), ('Hello', 1), ('Test', 1), ('practice', 1)]"
            ]
          },
          "metadata": {
            "tags": []
          },
          "execution_count": 70
        }
      ]
    },
    {
      "cell_type": "code",
      "metadata": {
        "id": "bgraWlExW815"
      },
      "source": [
        ""
      ],
      "execution_count": null,
      "outputs": []
    }
  ]
}