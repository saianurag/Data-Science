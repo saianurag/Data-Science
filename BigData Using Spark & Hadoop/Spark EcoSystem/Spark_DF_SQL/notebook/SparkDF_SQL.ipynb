{
  "nbformat": 4,
  "nbformat_minor": 0,
  "metadata": {
    "kernelspec": {
      "name": "python3",
      "display_name": "Python 3"
    },
    "colab": {
      "name": "Batch91_SparkDF_SQL.ipynb",
      "provenance": [],
      "collapsed_sections": [
        "o-0p_5Sb7yED",
        "tKzs7VLv7yFd",
        "WPoSZo4J7yKH",
        "xTui5K5m7yKQ",
        "xDsHIxfs7yKS",
        "JBsryHmU7yLb",
        "MY8esL6x7yME",
        "542UIFil7yMr"
      ],
      "toc_visible": true
    }
  },
  "cells": [
    {
      "cell_type": "markdown",
      "metadata": {
        "id": "sB1Xoxss7yBv"
      },
      "source": [
        "# Spark Operations using Spark DataFrames and Spark SQL"
      ]
    },
    {
      "cell_type": "markdown",
      "metadata": {
        "id": "SSw7vuNq7yBz"
      },
      "source": [
        "### In this activity we will understand\n",
        "-  What are DataFrames in Spark ?\n",
        "-  Different ways to create a DataFrames\n",
        "-  What are Spark Transformations & Actions\n",
        "-  Verify Summary Statistics\n",
        "-  Spark SQL\n",
        "-  Column References\n",
        "-  Converting to Spark Types - Literals\n",
        "-  Add/Rename/Remove Columns\n",
        "-  TypeCasting\n",
        "-  Column differences\n",
        "-  Pair-wise frequencies\n",
        "-  Remove duplicates\n",
        "-  Working with Nulls\n",
        "-  Filtering the rows\n",
        "-  Aggregations\n",
        "-  Joins\n",
        "-  Random Samples\n",
        "-  Random Splits\n",
        "-  Map Transformations\n",
        "-  Sorting\n",
        "-  Union\n",
        "-  String Manipulations\n",
        "-  Regular Expressions\n",
        "-  Working with Dates and Time Stamp\n",
        "-  User Defined Functions \n",
        "-  Broadcase variables and Accumulators\n",
        "-  Handling Different Data Sources\n"
      ]
    },
    {
      "cell_type": "markdown",
      "metadata": {
        "id": "EpGjTAuW7yCS"
      },
      "source": [
        "## Data Representation\n",
        "- **Pandas** - DataFrames represented on a single machine as Python data structures\n",
        "- **RDDs** - Spark’s foundational structure Resilient Distributed Dataset is represented as a reference to partitioned data without types\n",
        "- **DataFrames** - Spark’s optimized distributed collection of rows"
      ]
    },
    {
      "cell_type": "markdown",
      "metadata": {
        "id": "4b9gskO27yCT"
      },
      "source": [
        "##  Spark DataFrame \n",
        "\n",
        "#### A DataFrame is the most common Structured API and simply represents a table of data with rows and columns. \n",
        "<br> The list that defines the columns and the types within those columns is called the schema. \n",
        "<br> One can think of a DataFrame as a spreadsheet with named columns.\n",
        "<br> A spreadsheet sits on one computer in one specific location, whereas a Spark DataFrame can span thousands of computers.\n",
        "<br> The reason for putting the data on more than one computer should be intuitive: \n",
        "<br>     either the data is too large to fit on one machine or \n",
        "<br>     it would simply take too long to perform that computation on one machine.\n",
        "\n",
        "#### NOTE\n",
        "Spark has several core abstractions: Datasets, DataFrames, SQL Tables, and Resilient Distributed Datasets (RDDs). \n",
        "<br> These different abstractions all represent distributed collections of data. \n",
        "<br> The easiest and most efficient are DataFrames, which are available in all languages.\n",
        "\n",
        "![Spark DataFrame](../Images/SparkDataFrame.png)"
      ]
    },
    {
      "cell_type": "code",
      "metadata": {
        "id": "20gtNma1UkOu"
      },
      "source": [
        "!apt-get install openjdk-8-jdk-headless -qq > /dev/null\n",
        "!wget -q http://apache.osuosl.org/spark/spark-2.4.8/spark-2.4.8-bin-hadoop2.7.tgz\n",
        "!tar xf /content/spark-2.4.8-bin-hadoop2.7.tgz\n",
        "!pip install -q findspark"
      ],
      "execution_count": 2,
      "outputs": []
    },
    {
      "cell_type": "code",
      "metadata": {
        "id": "i5sJwB2h8FTG"
      },
      "source": [
        "import os\n",
        "import sys\n",
        "os.environ[\"JAVA_HOME\"] = \"/usr/lib/jvm/java-8-openjdk-amd64\"\n",
        "os.environ[\"SPARK_HOME\"] = \"/content/spark-2.4.8-bin-hadoop2.7\""
      ],
      "execution_count": 3,
      "outputs": []
    },
    {
      "cell_type": "code",
      "metadata": {
        "id": "c6yp_5Ny8h7y"
      },
      "source": [
        "import findspark\n",
        "findspark.init()\n",
        "\n",
        "from pyspark.sql import SparkSession\n",
        "spark = SparkSession.builder.master(\"local[*]\").getOrCreate()"
      ],
      "execution_count": 4,
      "outputs": []
    },
    {
      "cell_type": "markdown",
      "metadata": {
        "id": "pcrtLQG57yCU"
      },
      "source": [
        "#### Create a dataframe with one column containing 100 rows with values from 0 to 99.\n",
        "This range of numbers represents a distributed collection. \n",
        "<br> When run on a cluster, each part of this range of numbers exists on a different executor. \n",
        "<br> This is a Spark DataFrame."
      ]
    },
    {
      "cell_type": "code",
      "metadata": {
        "id": "ird4hwpA7yCV"
      },
      "source": [
        "myRange = spark.range(100)#.toDF('number')"
      ],
      "execution_count": null,
      "outputs": []
    },
    {
      "cell_type": "code",
      "metadata": {
        "id": "7q_buWTy7yCY",
        "colab": {
          "base_uri": "https://localhost:8080/",
          "height": 34
        },
        "outputId": "5b2647b5-cdfd-4a41-8cb8-4b5518fd5cb6"
      },
      "source": [
        "myRange.rdd.getNumPartitions()"
      ],
      "execution_count": null,
      "outputs": [
        {
          "output_type": "execute_result",
          "data": {
            "text/plain": [
              "2"
            ]
          },
          "metadata": {
            "tags": []
          },
          "execution_count": 5
        }
      ]
    },
    {
      "cell_type": "code",
      "metadata": {
        "id": "76yGrAOB7yCb",
        "colab": {
          "base_uri": "https://localhost:8080/",
          "height": 170
        },
        "outputId": "6ab20e70-057a-4e75-df65-e077e9b6bf16"
      },
      "source": [
        "myRange.show(3)"
      ],
      "execution_count": null,
      "outputs": [
        {
          "output_type": "stream",
          "text": [
            "+---+\n",
            "| id|\n",
            "+---+\n",
            "|  0|\n",
            "|  1|\n",
            "|  2|\n",
            "+---+\n",
            "only showing top 3 rows\n",
            "\n"
          ],
          "name": "stdout"
        }
      ]
    },
    {
      "cell_type": "code",
      "metadata": {
        "id": "YUvcIaOZ7yCf",
        "colab": {
          "base_uri": "https://localhost:8080/",
          "height": 34
        },
        "outputId": "0f3a9340-6834-4782-efd6-084dc34cf61d"
      },
      "source": [
        "type(myRange)"
      ],
      "execution_count": null,
      "outputs": [
        {
          "output_type": "execute_result",
          "data": {
            "text/plain": [
              "pyspark.sql.dataframe.DataFrame"
            ]
          },
          "metadata": {
            "tags": []
          },
          "execution_count": 9
        }
      ]
    },
    {
      "cell_type": "code",
      "metadata": {
        "id": "f4LhUiU47yCi",
        "colab": {
          "base_uri": "https://localhost:8080/"
        },
        "outputId": "166b4d99-2b73-4bfa-9e3d-2fc69722a634"
      },
      "source": [
        "myDF = spark.createDataFrame([[1, 'Alice', 30],\n",
        "                              [2, 'Bob', 28],\n",
        "                              [3, 'Cathy', 31], \n",
        "                              [4, 'Dave', 56]], ['Id', 'Name', 'Age'])\n",
        "\n",
        "myDF.show()"
      ],
      "execution_count": 5,
      "outputs": [
        {
          "output_type": "stream",
          "text": [
            "+---+-----+---+\n",
            "| Id| Name|Age|\n",
            "+---+-----+---+\n",
            "|  1|Alice| 30|\n",
            "|  2|  Bob| 28|\n",
            "|  3|Cathy| 31|\n",
            "|  4| Dave| 56|\n",
            "+---+-----+---+\n",
            "\n"
          ],
          "name": "stdout"
        }
      ]
    },
    {
      "cell_type": "code",
      "metadata": {
        "id": "YvuvjLyx7yCm",
        "colab": {
          "base_uri": "https://localhost:8080/",
          "height": 34
        },
        "outputId": "ec981306-4708-4f7a-d25e-cb99fa4de12d"
      },
      "source": [
        "myDF.dtypes"
      ],
      "execution_count": null,
      "outputs": [
        {
          "output_type": "execute_result",
          "data": {
            "text/plain": [
              "[('Id', 'bigint'), ('Name', 'string'), ('Age', 'bigint')]"
            ]
          },
          "metadata": {
            "tags": []
          },
          "execution_count": 9
        }
      ]
    },
    {
      "cell_type": "markdown",
      "metadata": {
        "id": "nmBFLQsO7yCp"
      },
      "source": [
        "## DataFrame Transformations & Actions\n",
        "\n",
        "### Transformations\n",
        "In Spark, the core data structures are immutable, meaning they cannot be changed after they’re created.\n",
        "<br> To “change” a DataFrame, you need to instruct Spark how you would like to modify it to do what you want.\n",
        "<br> These instructions are called transformations.\n",
        "<br> Transformations are the core of how you express your business logic using Spark.\n",
        "<br> Transformations are simply ways of specifying different series of data manipulation.\n",
        "\n",
        "![Spark Transformations](../Images/Spark_Transformations.png)"
      ]
    },
    {
      "cell_type": "code",
      "metadata": {
        "id": "yuhUUFF27yCq",
        "outputId": "59ad69b7-395d-46df-ba1c-46fc85339fe2"
      },
      "source": [
        "myRange.show()"
      ],
      "execution_count": null,
      "outputs": [
        {
          "output_type": "stream",
          "text": [
            "+---+\n",
            "| id|\n",
            "+---+\n",
            "|  0|\n",
            "|  1|\n",
            "|  2|\n",
            "|  3|\n",
            "|  4|\n",
            "|  5|\n",
            "|  6|\n",
            "|  7|\n",
            "|  8|\n",
            "|  9|\n",
            "| 10|\n",
            "| 11|\n",
            "| 12|\n",
            "| 13|\n",
            "| 14|\n",
            "| 15|\n",
            "| 16|\n",
            "| 17|\n",
            "| 18|\n",
            "| 19|\n",
            "+---+\n",
            "only showing top 20 rows\n",
            "\n"
          ],
          "name": "stdout"
        }
      ]
    },
    {
      "cell_type": "code",
      "metadata": {
        "id": "HridY7-D7yCt",
        "colab": {
          "base_uri": "https://localhost:8080/",
          "height": 34
        },
        "outputId": "5bef06d6-7934-469f-a759-6dd3d53af4c4"
      },
      "source": [
        "divisBy2 = myRange.where(\"id % 2 = 0\")\n",
        "divisBy2"
      ],
      "execution_count": null,
      "outputs": [
        {
          "output_type": "execute_result",
          "data": {
            "text/plain": [
              "DataFrame[id: bigint]"
            ]
          },
          "metadata": {
            "tags": []
          },
          "execution_count": 11
        }
      ]
    },
    {
      "cell_type": "markdown",
      "metadata": {
        "id": "IazheZsN7yCx"
      },
      "source": [
        "Notice that these return no output. <br>This is because we specified only an abstract transformation, and Spark will not act on transformations until we call an action."
      ]
    },
    {
      "cell_type": "markdown",
      "metadata": {
        "id": "p44qdTlT7yCy"
      },
      "source": [
        "### Actions\n",
        "Transformations allow us to build up our logical transformation plan. \n",
        "<br> To trigger the computation, we run an action.\n",
        "<br> An action instructs Spark to compute a result from a series of transformations. \n",
        "<br> The simplest action is count, which gives us the total number of records in the DataFrame:\n",
        "\n",
        "#### There are 3 types of actions\n",
        "Actions to view data in the console\n",
        "<br>Actions to collect data to native objects in the respective language\n",
        "<br>Actions to write to output data sources"
      ]
    },
    {
      "cell_type": "code",
      "metadata": {
        "scrolled": true,
        "id": "OMEQR_on7yCz",
        "colab": {
          "base_uri": "https://localhost:8080/",
          "height": 34
        },
        "outputId": "7e4def31-30eb-4bf8-db01-9b5885414e21"
      },
      "source": [
        "divisBy2.count()"
      ],
      "execution_count": null,
      "outputs": [
        {
          "output_type": "execute_result",
          "data": {
            "text/plain": [
              "50"
            ]
          },
          "metadata": {
            "tags": []
          },
          "execution_count": 12
        }
      ]
    },
    {
      "cell_type": "code",
      "metadata": {
        "id": "cdZ9U4zt7yC3",
        "colab": {
          "base_uri": "https://localhost:8080/",
          "height": 170
        },
        "outputId": "666c9a2f-7789-487d-c4a5-8545b3a5128c"
      },
      "source": [
        "divisBy2.show(3)"
      ],
      "execution_count": null,
      "outputs": [
        {
          "output_type": "stream",
          "text": [
            "+---+\n",
            "| id|\n",
            "+---+\n",
            "|  0|\n",
            "|  2|\n",
            "|  4|\n",
            "+---+\n",
            "only showing top 3 rows\n",
            "\n"
          ],
          "name": "stdout"
        }
      ]
    },
    {
      "cell_type": "markdown",
      "metadata": {
        "id": "9LoOVUU47yC6"
      },
      "source": [
        "### Interoperating with RDDs\n",
        "\n",
        "<br> Spark SQL supports two different methods for converting existing RDDs into DataFrames. \n",
        "<br> The first method uses reflection to infer the schema of an RDD that contains specific types of objects. \n",
        "<br> This reflection based approach leads to more concise code and works well when you already know the schema while writing your Spark application.\n",
        "\n",
        "<br> The second method for creating DataFrames is through a programmatic interface that allows you to construct a schema and then apply it to an existing RDD. \n",
        "<br> While this method is more verbose, it allows you to construct Datasets when the columns and their types are not known until runtime."
      ]
    },
    {
      "cell_type": "code",
      "metadata": {
        "id": "H9tv0s8z7yC7"
      },
      "source": [
        "sc = spark.sparkContext"
      ],
      "execution_count": null,
      "outputs": []
    },
    {
      "cell_type": "markdown",
      "metadata": {
        "id": "19SzG-nj7yDG"
      },
      "source": [
        "#### Inferring the Schema Using Reflection"
      ]
    },
    {
      "cell_type": "code",
      "metadata": {
        "id": "OSokKu1s7yDJ"
      },
      "source": [
        "# Create an RDD from a source\n",
        "tempRDD = sc.textFile(\"/temp_data.txt\") "
      ],
      "execution_count": null,
      "outputs": []
    },
    {
      "cell_type": "code",
      "metadata": {
        "id": "htY6NEWz7yDP",
        "colab": {
          "base_uri": "https://localhost:8080/",
          "height": 34
        },
        "outputId": "fc719b05-5ed8-4473-d94f-3b262fb552f1"
      },
      "source": [
        "tempRDD.getNumPartitions()"
      ],
      "execution_count": null,
      "outputs": [
        {
          "output_type": "execute_result",
          "data": {
            "text/plain": [
              "2"
            ]
          },
          "metadata": {
            "tags": []
          },
          "execution_count": 13
        }
      ]
    },
    {
      "cell_type": "code",
      "metadata": {
        "id": "2rJQLdTq7yDT",
        "colab": {
          "base_uri": "https://localhost:8080/",
          "height": 34
        },
        "outputId": "4756eb68-48aa-4bd1-f850-ec5c5df3ce19"
      },
      "source": [
        "splitRDD = tempRDD.map(lambda line: line.split(\"\\t\"))\n",
        "splitRDD.take(3)"
      ],
      "execution_count": null,
      "outputs": [
        {
          "output_type": "execute_result",
          "data": {
            "text/plain": [
              "[['1901', '-78', '1'], ['1901', '-72', '1'], ['1901', '-94', '1']]"
            ]
          },
          "metadata": {
            "tags": []
          },
          "execution_count": 14
        }
      ]
    },
    {
      "cell_type": "code",
      "metadata": {
        "id": "g89byG4f7yDX"
      },
      "source": [
        "from pyspark.sql import Row"
      ],
      "execution_count": null,
      "outputs": []
    },
    {
      "cell_type": "code",
      "metadata": {
        "id": "Z_8uIQvk7yDc"
      },
      "source": [
        "schemafiedRDD = splitRDD.map(lambda line: Row(year=line[0], temp=line[1], \n",
        "                                              status=line[2]))"
      ],
      "execution_count": null,
      "outputs": []
    },
    {
      "cell_type": "code",
      "metadata": {
        "id": "BF6DPKRY7yDg",
        "colab": {
          "base_uri": "https://localhost:8080/",
          "height": 459
        },
        "outputId": "5b247e89-645e-46b5-f9ba-8ca5f61dbd8a"
      },
      "source": [
        "schemafiedRDD.toDF().show()"
      ],
      "execution_count": null,
      "outputs": [
        {
          "output_type": "stream",
          "text": [
            "+------+----+----+\n",
            "|status|temp|year|\n",
            "+------+----+----+\n",
            "|     1| -78|1901|\n",
            "|     1| -72|1901|\n",
            "|     1| -94|1901|\n",
            "|     1| -61|1901|\n",
            "|     1| -56|1901|\n",
            "|     1| -28|1901|\n",
            "|     1| -67|1901|\n",
            "|     1| -33|1901|\n",
            "|     1| -28|1901|\n",
            "|     1| -33|1901|\n",
            "|     1| -44|1901|\n",
            "|     1| -39|1901|\n",
            "|     1|   0|1901|\n",
            "|     1|   6|1901|\n",
            "|     1|   0|1901|\n",
            "|     1|   6|1901|\n",
            "|     1|   6|1901|\n",
            "|     1| -11|1901|\n",
            "|     1| -33|1901|\n",
            "|     1| -50|1901|\n",
            "+------+----+----+\n",
            "only showing top 20 rows\n",
            "\n"
          ],
          "name": "stdout"
        }
      ]
    },
    {
      "cell_type": "code",
      "metadata": {
        "id": "pODyh14B7yDk",
        "colab": {
          "base_uri": "https://localhost:8080/",
          "height": 170
        },
        "outputId": "4c611344-3dca-4f47-d493-2da217934a12"
      },
      "source": [
        "# Infer the schema, and register the DataFrame as a table.\n",
        "tempDF = spark.createDataFrame(schemafiedRDD)\n",
        "tempDF.show(3)"
      ],
      "execution_count": null,
      "outputs": [
        {
          "output_type": "stream",
          "text": [
            "+------+----+----+\n",
            "|status|temp|year|\n",
            "+------+----+----+\n",
            "|     1| -78|1901|\n",
            "|     1| -72|1901|\n",
            "|     1| -94|1901|\n",
            "+------+----+----+\n",
            "only showing top 3 rows\n",
            "\n"
          ],
          "name": "stdout"
        }
      ]
    },
    {
      "cell_type": "code",
      "metadata": {
        "id": "m5m-Qluv7yDo",
        "colab": {
          "base_uri": "https://localhost:8080/",
          "height": 102
        },
        "outputId": "9e9899b0-414c-4e41-d0bd-83cd885445b1"
      },
      "source": [
        "tempDF.printSchema()"
      ],
      "execution_count": null,
      "outputs": [
        {
          "output_type": "stream",
          "text": [
            "root\n",
            " |-- status: string (nullable = true)\n",
            " |-- temp: string (nullable = true)\n",
            " |-- year: string (nullable = true)\n",
            "\n"
          ],
          "name": "stdout"
        }
      ]
    },
    {
      "cell_type": "markdown",
      "metadata": {
        "id": "l0OMQ-Lx7yDr"
      },
      "source": [
        "#### Programmatically Specifying the Schema\n",
        "- Create an RDD of tuples or lists from the original RDD;\n",
        "- Create the schema represented by a StructType matching the structure of tuples or lists in the RDD created in the step 1.\n",
        "- Apply the schema to the RDD via createDataFrame method provided by SparkSession."
      ]
    },
    {
      "cell_type": "code",
      "metadata": {
        "scrolled": false,
        "id": "5OnvIYsZ7yDy",
        "colab": {
          "base_uri": "https://localhost:8080/",
          "height": 122
        },
        "outputId": "bd4cc566-3e06-4eee-c75d-dd7ce4525424"
      },
      "source": [
        "testRDD = sc.textFile(\"/test.csv\")\n",
        "print(\"Total Records with header: \", testRDD.count())\n",
        "print(\"\\nFirst Two Records Before Removing Header\\n\")\n",
        "print(testRDD.take(2))"
      ],
      "execution_count": null,
      "outputs": [
        {
          "output_type": "stream",
          "text": [
            "Total Records with header:  20\n",
            "\n",
            "First Two Records Before Removing Header\n",
            "\n",
            "['User_ID,Product_ID,Gender,Age,Occupation,City_Category,Stay_In_Current_City_Years,Marital_Status,Product_Category_1,Product_Category_2,Product_Category_3', '1000004,P00128942,M,46-50,7,B,2,1,1,11,']\n"
          ],
          "name": "stdout"
        }
      ]
    },
    {
      "cell_type": "code",
      "metadata": {
        "id": "0qOF04d47yD3",
        "colab": {
          "base_uri": "https://localhost:8080/",
          "height": 102
        },
        "outputId": "5ebb3255-f01a-42b2-f728-daf5611f12ec"
      },
      "source": [
        "header = testRDD.first()\n",
        "testRDD = testRDD.filter(lambda line: line != header)\n",
        "print(\"Total Records without header: \", testRDD.count())\n",
        "print(\"\\nFirst Two Records After Removing Header\\n\")\n",
        "print(testRDD.take(2))"
      ],
      "execution_count": null,
      "outputs": [
        {
          "output_type": "stream",
          "text": [
            "Total Records without header:  19\n",
            "\n",
            "First Two Records After Removing Header\n",
            "\n",
            "['1000004,P00128942,M,46-50,7,B,2,1,1,11,', '1000009,P00113442,M,26-35,17,C,0,0,3,5,']\n"
          ],
          "name": "stdout"
        }
      ]
    },
    {
      "cell_type": "code",
      "metadata": {
        "id": "GzGhs8eV7yD8",
        "colab": {
          "base_uri": "https://localhost:8080/",
          "height": 105
        },
        "outputId": "c179c771-ed59-4d1c-a723-cd9172946717"
      },
      "source": [
        "# Split the data into individual columns\n",
        "splitRDD = testRDD.map(lambda line: line.split(\",\"))\n",
        "print(\"\\nFirst Two Records After Split/Parsing\\n\")\n",
        "print(splitRDD.take(2))"
      ],
      "execution_count": null,
      "outputs": [
        {
          "output_type": "stream",
          "text": [
            "\n",
            "First Two Records After Split/Parsing\n",
            "\n",
            "[['1000004', 'P00128942', 'M', '46-50', '7', 'B', '2', '1', '1', '11', ''], ['1000009', 'P00113442', 'M', '26-35', '17', 'C', '0', '0', '3', '5', '']]\n"
          ],
          "name": "stdout"
        }
      ]
    },
    {
      "cell_type": "markdown",
      "metadata": {
        "id": "o-0p_5Sb7yED"
      },
      "source": [
        "#### Create a dataframe for the above Data\n",
        "1. Define Schema\n",
        "2. Create dataframe using the above schema"
      ]
    },
    {
      "cell_type": "markdown",
      "metadata": {
        "id": "100jxP1i7yEE"
      },
      "source": [
        "#### Create Schema"
      ]
    },
    {
      "cell_type": "code",
      "metadata": {
        "id": "teEItkrC7yEG"
      },
      "source": [
        "from pyspark.sql.types import *\n",
        "\n",
        "testSchema = StructType([\n",
        "    StructField(\"User_ID\", StringType(), True),\n",
        "    StructField(\"Product_ID\", StringType(), True),\n",
        "    StructField(\"Gender\", StringType(), True),\n",
        "    StructField(\"Age\", StringType(), True),\n",
        "    StructField(\"Occupation\", StringType(), True),\n",
        "    StructField(\"City_Category\", StringType(), True),\n",
        "    StructField(\"Stay_In_Current_City_Years\", StringType(), True),\n",
        "    StructField(\"Marital_Status\", StringType(), True),\n",
        "    StructField(\"Product_Category_1\", StringType(), True),\n",
        "    StructField(\"Product_Category_2\", StringType(), True),\n",
        "    StructField(\"Product_Category_3\", StringType(), True)\n",
        "])"
      ],
      "execution_count": null,
      "outputs": []
    },
    {
      "cell_type": "markdown",
      "metadata": {
        "id": "F7bO05zR7yEJ"
      },
      "source": [
        "#### Create DataFrame using the above schema"
      ]
    },
    {
      "cell_type": "code",
      "metadata": {
        "id": "lebnHfxZ7yEK"
      },
      "source": [
        "testDF = spark.createDataFrame(data = splitRDD, schema=testSchema)"
      ],
      "execution_count": null,
      "outputs": []
    },
    {
      "cell_type": "code",
      "metadata": {
        "scrolled": true,
        "id": "iWFBml1O7yES",
        "colab": {
          "base_uri": "https://localhost:8080/",
          "height": 71
        },
        "outputId": "d206d591-216c-42a8-cf98-01702cdf5c2a"
      },
      "source": [
        "testDF.take(2)"
      ],
      "execution_count": null,
      "outputs": [
        {
          "output_type": "execute_result",
          "data": {
            "text/plain": [
              "[Row(User_ID='1000004', Product_ID='P00128942', Gender='M', Age='46-50', Occupation='7', City_Category='B', Stay_In_Current_City_Years='2', Marital_Status='1', Product_Category_1='1', Product_Category_2='11', Product_Category_3=''),\n",
              " Row(User_ID='1000009', Product_ID='P00113442', Gender='M', Age='26-35', Occupation='17', City_Category='C', Stay_In_Current_City_Years='0', Marital_Status='0', Product_Category_1='3', Product_Category_2='5', Product_Category_3='')]"
            ]
          },
          "metadata": {
            "tags": []
          },
          "execution_count": 43
        }
      ]
    },
    {
      "cell_type": "code",
      "metadata": {
        "scrolled": true,
        "id": "WDYlLFPk7yEX",
        "colab": {
          "base_uri": "https://localhost:8080/",
          "height": 207
        },
        "outputId": "0c27f228-1d77-49ca-ff28-efe1b864d507"
      },
      "source": [
        "testDF.show(4)"
      ],
      "execution_count": null,
      "outputs": [
        {
          "output_type": "stream",
          "text": [
            "+-------+----------+------+-----+----------+-------------+--------------------------+--------------+------------------+------------------+------------------+\n",
            "|User_ID|Product_ID|Gender|  Age|Occupation|City_Category|Stay_In_Current_City_Years|Marital_Status|Product_Category_1|Product_Category_2|Product_Category_3|\n",
            "+-------+----------+------+-----+----------+-------------+--------------------------+--------------+------------------+------------------+------------------+\n",
            "|1000004| P00128942|     M|46-50|         7|            B|                         2|             1|                 1|                11|                  |\n",
            "|1000009| P00113442|     M|26-35|        17|            C|                         0|             0|                 3|                 5|                  |\n",
            "|1000010| P00288442|     F|36-45|         1|            B|                        4+|             1|                 5|                14|                  |\n",
            "|1000010| P00145342|     F|36-45|         1|            B|                        4+|             1|                 4|                 9|                  |\n",
            "+-------+----------+------+-----+----------+-------------+--------------------------+--------------+------------------+------------------+------------------+\n",
            "only showing top 4 rows\n",
            "\n"
          ],
          "name": "stdout"
        }
      ]
    },
    {
      "cell_type": "code",
      "metadata": {
        "id": "R6K4jbGA7yEb",
        "colab": {
          "base_uri": "https://localhost:8080/",
          "height": 34
        },
        "outputId": "14f6d425-2aaa-438f-c5b4-a1404c158fe3"
      },
      "source": [
        "testRDD.count()"
      ],
      "execution_count": null,
      "outputs": [
        {
          "output_type": "execute_result",
          "data": {
            "text/plain": [
              "19"
            ]
          },
          "metadata": {
            "tags": []
          },
          "execution_count": 45
        }
      ]
    },
    {
      "cell_type": "code",
      "metadata": {
        "id": "WwgatESZ7yEf",
        "colab": {
          "base_uri": "https://localhost:8080/",
          "height": 51
        },
        "outputId": "d51ef4f0-a400-4464-d55e-072a50dd1224"
      },
      "source": [
        "testRDD.take(2)"
      ],
      "execution_count": null,
      "outputs": [
        {
          "output_type": "execute_result",
          "data": {
            "text/plain": [
              "['1000004,P00128942,M,46-50,7,B,2,1,1,11,',\n",
              " '1000009,P00113442,M,26-35,17,C,0,0,3,5,']"
            ]
          },
          "metadata": {
            "tags": []
          },
          "execution_count": 46
        }
      ]
    },
    {
      "cell_type": "code",
      "metadata": {
        "id": "dvFYGKiT7yEi",
        "colab": {
          "base_uri": "https://localhost:8080/",
          "height": 34
        },
        "outputId": "a9d56dcf-9db4-493d-b312-33c33845c0d7"
      },
      "source": [
        "# Take 10% Sample\n",
        "testSample = testDF.sample(False, 0.1, 1234)\n",
        "testSample.count()"
      ],
      "execution_count": null,
      "outputs": [
        {
          "output_type": "execute_result",
          "data": {
            "text/plain": [
              "0"
            ]
          },
          "metadata": {
            "tags": []
          },
          "execution_count": 47
        }
      ]
    },
    {
      "cell_type": "code",
      "metadata": {
        "id": "meJ_aQWB7yEo"
      },
      "source": [
        "testSamplePD = testSample.toPandas()"
      ],
      "execution_count": null,
      "outputs": []
    },
    {
      "cell_type": "code",
      "metadata": {
        "id": "eawE2Za_7yEq",
        "colab": {
          "base_uri": "https://localhost:8080/",
          "height": 34
        },
        "outputId": "ce3762fa-7a05-431d-dd04-d3f4fb265adf"
      },
      "source": [
        "type(testSamplePD)"
      ],
      "execution_count": null,
      "outputs": [
        {
          "output_type": "execute_result",
          "data": {
            "text/plain": [
              "pandas.core.frame.DataFrame"
            ]
          },
          "metadata": {
            "tags": []
          },
          "execution_count": 49
        }
      ]
    },
    {
      "cell_type": "markdown",
      "metadata": {
        "id": "C2rHvaqq7yEw"
      },
      "source": [
        "Reading a CSV file into a DataFrame and converting it to a local array or list of rows.\n",
        "\n",
        "\n",
        "![Reading CSV](../Images/csvDataFrame.png)"
      ]
    },
    {
      "cell_type": "code",
      "metadata": {
        "id": "J51eyi4t7yEx"
      },
      "source": [
        "trainDF = spark.read.format(\"csv\")\\\n",
        "        .option(\"header\", \"true\")\\\n",
        "        .option(\"inferSchema\", \"true\")\\\n",
        "        .load(\"/train.csv\")"
      ],
      "execution_count": null,
      "outputs": []
    },
    {
      "cell_type": "markdown",
      "metadata": {
        "id": "hfA-IfFv7yE0"
      },
      "source": [
        "#### Verify Schema"
      ]
    },
    {
      "cell_type": "code",
      "metadata": {
        "id": "yIP5W6FH7yE0",
        "colab": {
          "base_uri": "https://localhost:8080/",
          "height": 255
        },
        "outputId": "72007d52-3dea-4121-e851-c7f404071e55"
      },
      "source": [
        "## Print Schema\n",
        "trainDF.printSchema()"
      ],
      "execution_count": null,
      "outputs": [
        {
          "output_type": "stream",
          "text": [
            "root\n",
            " |-- User_ID: integer (nullable = true)\n",
            " |-- Product_ID: string (nullable = true)\n",
            " |-- Gender: string (nullable = true)\n",
            " |-- Age: string (nullable = true)\n",
            " |-- Occupation: integer (nullable = true)\n",
            " |-- City_Category: string (nullable = true)\n",
            " |-- Stay_In_Current_City_Years: string (nullable = true)\n",
            " |-- Marital_Status: integer (nullable = true)\n",
            " |-- Product_Category_1: integer (nullable = true)\n",
            " |-- Product_Category_2: integer (nullable = true)\n",
            " |-- Product_Category_3: integer (nullable = true)\n",
            " |-- Purchase: integer (nullable = true)\n",
            "\n"
          ],
          "name": "stdout"
        }
      ]
    },
    {
      "cell_type": "code",
      "metadata": {
        "id": "6pmWQGfi7yE3",
        "colab": {
          "base_uri": "https://localhost:8080/",
          "height": 173
        },
        "outputId": "994164e9-9512-42cb-be8b-046797f62ab2"
      },
      "source": [
        "## Above results are comprised of row like format. \n",
        "## To see the result in more interactive manner (rows under the columns), Use the show operation. \n",
        "## Show operation on train and take first 5 rows of it. \n",
        "trainDF.show(2)"
      ],
      "execution_count": null,
      "outputs": [
        {
          "output_type": "stream",
          "text": [
            "+-------+----------+------+----+----------+-------------+--------------------------+--------------+------------------+------------------+------------------+--------+\n",
            "|User_ID|Product_ID|Gender| Age|Occupation|City_Category|Stay_In_Current_City_Years|Marital_Status|Product_Category_1|Product_Category_2|Product_Category_3|Purchase|\n",
            "+-------+----------+------+----+----------+-------------+--------------------------+--------------+------------------+------------------+------------------+--------+\n",
            "|1000001| P00069042|     F|0-17|        10|            A|                         2|             0|                 3|              null|              null|    8370|\n",
            "|1000001| P00248942|     F|0-17|        10|            A|                         2|             0|                 1|                 6|                14|   15200|\n",
            "+-------+----------+------+----+----------+-------------+--------------------------+--------------+------------------+------------------+------------------+--------+\n",
            "only showing top 2 rows\n",
            "\n"
          ],
          "name": "stdout"
        }
      ]
    },
    {
      "cell_type": "code",
      "metadata": {
        "scrolled": true,
        "id": "QrE9JHSI7yE9",
        "colab": {
          "base_uri": "https://localhost:8080/",
          "height": 51
        },
        "outputId": "59fe63a3-b7d9-4fdc-a5c5-6c650fc4bb6d"
      },
      "source": [
        "## To Count the number of rows in DataFrame\n",
        "print('Total records count in train dataset is {}'.format(trainDF.count()))\n",
        "print('Total records count in test dataset is {}'.format(testDF.count()))"
      ],
      "execution_count": null,
      "outputs": [
        {
          "output_type": "stream",
          "text": [
            "Total records count in train dataset is 12\n",
            "Total records count in test dataset is 19\n"
          ],
          "name": "stdout"
        }
      ]
    },
    {
      "cell_type": "code",
      "metadata": {
        "scrolled": false,
        "id": "JLAMjyWo7yFB",
        "colab": {
          "base_uri": "https://localhost:8080/",
          "height": 207
        },
        "outputId": "9e7f6799-cef9-494a-cb77-276f30daad0e"
      },
      "source": [
        "## Columns count and column names\n",
        "print(\"Total Columns count in train dataset is {}\".format(len(trainDF.columns)))\n",
        "print(\"\\n\\nColumns in train dataset are: {} \\n\".format(trainDF.columns))\n",
        "\n",
        "print(\"Total Columns count in test dataset is {}\".format(len(testDF.columns)))\n",
        "print(\"\\n\\nColumns in test dataset are: {} \\n\".format(testDF.columns))"
      ],
      "execution_count": null,
      "outputs": [
        {
          "output_type": "stream",
          "text": [
            "Total Columns count in train dataset is 12\n",
            "\n",
            "\n",
            "Columns in train dataset are: ['User_ID', 'Product_ID', 'Gender', 'Age', 'Occupation', 'City_Category', 'Stay_In_Current_City_Years', 'Marital_Status', 'Product_Category_1', 'Product_Category_2', 'Product_Category_3', 'Purchase'] \n",
            "\n",
            "Total Columns count in test dataset is 11\n",
            "\n",
            "\n",
            "Columns in test dataset are: ['User_ID', 'Product_ID', 'Gender', 'Age', 'Occupation', 'City_Category', 'Stay_In_Current_City_Years', 'Marital_Status', 'Product_Category_1', 'Product_Category_2', 'Product_Category_3'] \n",
            "\n"
          ],
          "name": "stdout"
        }
      ]
    },
    {
      "cell_type": "markdown",
      "metadata": {
        "id": "orycIn517yFE"
      },
      "source": [
        "#### Summary statistics"
      ]
    },
    {
      "cell_type": "code",
      "metadata": {
        "scrolled": true,
        "id": "XVwHxrDI7yFF",
        "colab": {
          "base_uri": "https://localhost:8080/",
          "height": 207
        },
        "outputId": "4eaab44d-caad-49e5-9441-9b9dd504db54"
      },
      "source": [
        "## To get the summary statistics (mean, standard deviance, min ,max , count) of numerical columns in a DataFrame\n",
        "trainDF.describe().show()"
      ],
      "execution_count": null,
      "outputs": [
        {
          "output_type": "stream",
          "text": [
            "+-------+------------------+----------+------+------+-----------------+-------------+--------------------------+-------------------+------------------+------------------+------------------+-----------------+\n",
            "|summary|           User_ID|Product_ID|Gender|   Age|       Occupation|City_Category|Stay_In_Current_City_Years|     Marital_Status|Product_Category_1|Product_Category_2|Product_Category_3|         Purchase|\n",
            "+-------+------------------+----------+------+------+-----------------+-------------+--------------------------+-------------------+------------------+------------------+------------------+-----------------+\n",
            "|  count|            550068|    550068|550068|550068|           550068|       550068|                    550068|             550068|            550068|            376430|            166821|           550068|\n",
            "|   mean|1003028.8424013031|      null|  null|  null|8.076706879876669|         null|         1.468494139793958|0.40965298835780306| 5.404270017525106| 9.842329251122386|12.668243206790512|9263.968712959126|\n",
            "| stddev|1727.5915855313747|      null|  null|  null|6.522660487341741|         null|        0.9890866807573103| 0.4917701263173315| 3.936211369201365| 5.086589648693497| 4.125337631575274|5023.065393820575|\n",
            "|    min|           1000001| P00000142|     F|  0-17|                0|            A|                         0|                  0|                 1|                 2|                 3|               12|\n",
            "|    max|           1006040|  P0099942|     M|   55+|               20|            C|                        4+|                  1|                20|                18|                18|            23961|\n",
            "+-------+------------------+----------+------+------+-----------------+-------------+--------------------------+-------------------+------------------+------------------+------------------+-----------------+\n",
            "\n"
          ],
          "name": "stdout"
        }
      ]
    },
    {
      "cell_type": "code",
      "metadata": {
        "scrolled": false,
        "id": "1FS8JIJO7yFI",
        "colab": {
          "base_uri": "https://localhost:8080/",
          "height": 187
        },
        "outputId": "a920b660-b2a6-40bb-e5b5-ba494b9784b4"
      },
      "source": [
        "## Check what happens when we specify the name of a categorical / String columns in describe operation.\n",
        "## describe operation is working for String type column but the output for mean, stddev are null and \n",
        "## min & max values are calculated based on ASCII value of categories.\n",
        "trainDF.describe('Purchase').show()"
      ],
      "execution_count": null,
      "outputs": [
        {
          "output_type": "stream",
          "text": [
            "+-------+-----------------+\n",
            "|summary|         Purchase|\n",
            "+-------+-----------------+\n",
            "|  count|           550068|\n",
            "|   mean|9263.968712959126|\n",
            "| stddev|5023.065393820575|\n",
            "|    min|               12|\n",
            "|    max|            23961|\n",
            "+-------+-----------------+\n",
            "\n"
          ],
          "name": "stdout"
        }
      ]
    },
    {
      "cell_type": "markdown",
      "metadata": {
        "id": "vv0i6dme7yFR"
      },
      "source": [
        "### Spark SQL\n",
        "With Spark SQL, you can register any DataFrame as a table or view (a temporary table) and query it using pure SQL. \n",
        "<br>There is no performance difference between writing SQL queries or writing DataFrame code, <br>they both “compile” to the same underlying plan that we specify in DataFrame code."
      ]
    },
    {
      "cell_type": "code",
      "metadata": {
        "id": "D8S6k65O7yFS"
      },
      "source": [
        "## Create view/table\n",
        "trainDF.createOrReplaceTempView(\"trainDFTable\")"
      ],
      "execution_count": null,
      "outputs": []
    },
    {
      "cell_type": "code",
      "metadata": {
        "id": "nto7KffE7yFU",
        "colab": {
          "base_uri": "https://localhost:8080/",
          "height": 173
        },
        "outputId": "e0786f9a-8267-496b-bcb3-090a63d1a2fa"
      },
      "source": [
        "## Verify Dataframe\n",
        "trainDF.show(2)"
      ],
      "execution_count": null,
      "outputs": [
        {
          "output_type": "stream",
          "text": [
            "+-------+----------+------+----+----------+-------------+--------------------------+--------------+------------------+------------------+------------------+--------+\n",
            "|User_ID|Product_ID|Gender| Age|Occupation|City_Category|Stay_In_Current_City_Years|Marital_Status|Product_Category_1|Product_Category_2|Product_Category_3|Purchase|\n",
            "+-------+----------+------+----+----------+-------------+--------------------------+--------------+------------------+------------------+------------------+--------+\n",
            "|1000001| P00069042|     F|0-17|        10|            A|                         2|             0|                 3|              null|              null|    8370|\n",
            "|1000001| P00248942|     F|0-17|        10|            A|                         2|             0|                 1|                 6|                14|   15200|\n",
            "+-------+----------+------+----+----------+-------------+--------------------------+--------------+------------------+------------------+------------------+--------+\n",
            "only showing top 2 rows\n",
            "\n"
          ],
          "name": "stdout"
        }
      ]
    },
    {
      "cell_type": "code",
      "metadata": {
        "scrolled": true,
        "id": "fQ1jF9327yFW",
        "colab": {
          "base_uri": "https://localhost:8080/",
          "height": 156
        },
        "outputId": "7639b31d-6f2f-4041-82b5-54ef835ef693"
      },
      "source": [
        "## Verify Table\n",
        "spark.sql(\"SELECT * FROM trainDFTable LIMIT 2\").show()"
      ],
      "execution_count": null,
      "outputs": [
        {
          "output_type": "stream",
          "text": [
            "+-------+----------+------+----+----------+-------------+--------------------------+--------------+------------------+------------------+------------------+--------+\n",
            "|User_ID|Product_ID|Gender| Age|Occupation|City_Category|Stay_In_Current_City_Years|Marital_Status|Product_Category_1|Product_Category_2|Product_Category_3|Purchase|\n",
            "+-------+----------+------+----+----------+-------------+--------------------------+--------------+------------------+------------------+------------------+--------+\n",
            "|1000001| P00069042|     F|0-17|        10|            A|                         2|             0|                 3|              null|              null|    8370|\n",
            "|1000001| P00248942|     F|0-17|        10|            A|                         2|             0|                 1|                 6|                14|   15200|\n",
            "+-------+----------+------+----+----------+-------------+--------------------------+--------------+------------------+------------------+------------------+--------+\n",
            "\n"
          ],
          "name": "stdout"
        }
      ]
    },
    {
      "cell_type": "code",
      "metadata": {
        "id": "qvLVPwtG7yFZ",
        "colab": {
          "base_uri": "https://localhost:8080/",
          "height": 204
        },
        "outputId": "265a5f31-469d-4cf3-fa95-3ed8e2d2514e"
      },
      "source": [
        "from pyspark.sql.functions import expr, col, column\n",
        "dfWay = trainDF.filter(col('Age') != '0-17').groupBy('Age').count()\n",
        "dfWay.show()"
      ],
      "execution_count": null,
      "outputs": [
        {
          "output_type": "stream",
          "text": [
            "+-----+------+\n",
            "|  Age| count|\n",
            "+-----+------+\n",
            "|18-25| 99660|\n",
            "|26-35|219587|\n",
            "|46-50| 45701|\n",
            "|51-55| 38501|\n",
            "|36-45|110013|\n",
            "|  55+| 21504|\n",
            "+-----+------+\n",
            "\n"
          ],
          "name": "stdout"
        }
      ]
    },
    {
      "cell_type": "code",
      "metadata": {
        "id": "uJSXjdtc7yFb",
        "colab": {
          "base_uri": "https://localhost:8080/",
          "height": 204
        },
        "outputId": "8a7452c1-ba5b-4ad3-a739-662579297851"
      },
      "source": [
        "spark.sql(\"Select Age,count(*) from trainDFTable where Age!='0-17' group by Age \").show()"
      ],
      "execution_count": null,
      "outputs": [
        {
          "output_type": "stream",
          "text": [
            "+-----+--------+\n",
            "|  Age|count(1)|\n",
            "+-----+--------+\n",
            "|18-25|   99660|\n",
            "|26-35|  219587|\n",
            "|46-50|   45701|\n",
            "|51-55|   38501|\n",
            "|36-45|  110013|\n",
            "|  55+|   21504|\n",
            "+-----+--------+\n",
            "\n"
          ],
          "name": "stdout"
        }
      ]
    },
    {
      "cell_type": "markdown",
      "metadata": {
        "id": "tKzs7VLv7yFd"
      },
      "source": [
        "#### Column References"
      ]
    },
    {
      "cell_type": "markdown",
      "metadata": {
        "id": "iVapGsVd7yFe"
      },
      "source": [
        "#### Select & SelectExpr"
      ]
    },
    {
      "cell_type": "code",
      "metadata": {
        "scrolled": false,
        "id": "oNQrh0-g7yFf",
        "colab": {
          "base_uri": "https://localhost:8080/",
          "height": 153
        },
        "outputId": "aa471a38-8876-4cbd-f8e0-9834b952cb3d"
      },
      "source": [
        "## Multiple ways of referring a column in a dataframe\n",
        "from pyspark.sql.functions import expr, col, column\n",
        "\n",
        "trainDF.select(expr(\"User_ID AS userID\") , \n",
        "               col(\"User_ID\"), \n",
        "               column(\"User_ID\"), \"User_ID\").show(2)"
      ],
      "execution_count": null,
      "outputs": [
        {
          "output_type": "stream",
          "text": [
            "+-------+-------+-------+-------+\n",
            "| userID|User_ID|User_ID|User_ID|\n",
            "+-------+-------+-------+-------+\n",
            "|1000001|1000001|1000001|1000001|\n",
            "|1000001|1000001|1000001|1000001|\n",
            "+-------+-------+-------+-------+\n",
            "only showing top 2 rows\n",
            "\n"
          ],
          "name": "stdout"
        }
      ]
    },
    {
      "cell_type": "code",
      "metadata": {
        "scrolled": true,
        "id": "okbGIYWh7yFq",
        "colab": {
          "base_uri": "https://localhost:8080/",
          "height": 34
        },
        "outputId": "edd3493e-20b9-4a43-d00b-873e43df0b99"
      },
      "source": [
        "trainDF.select(col(\"User_ID\"), \"User_ID\")"
      ],
      "execution_count": null,
      "outputs": [
        {
          "output_type": "execute_result",
          "data": {
            "text/plain": [
              "DataFrame[User_ID: int, User_ID: int]"
            ]
          },
          "metadata": {
            "tags": []
          },
          "execution_count": 52
        }
      ]
    },
    {
      "cell_type": "markdown",
      "metadata": {
        "id": "vivYe-zQ7yFu"
      },
      "source": [
        "#### Pandas dot notation doesn't work here "
      ]
    },
    {
      "cell_type": "code",
      "metadata": {
        "id": "70d4jQkU7yFv"
      },
      "source": [
        "result = trainDF.User_ID"
      ],
      "execution_count": null,
      "outputs": []
    },
    {
      "cell_type": "code",
      "metadata": {
        "id": "hPrYFHFe7yGB",
        "colab": {
          "base_uri": "https://localhost:8080/",
          "height": 163
        },
        "outputId": "05d324c3-c6ee-4cb4-efee-7e6c6813f3c7"
      },
      "source": [
        "result.show(3)"
      ],
      "execution_count": null,
      "outputs": [
        {
          "output_type": "error",
          "ename": "TypeError",
          "evalue": "ignored",
          "traceback": [
            "\u001b[0;31m---------------------------------------------------------------------------\u001b[0m",
            "\u001b[0;31mTypeError\u001b[0m                                 Traceback (most recent call last)",
            "\u001b[0;32m<ipython-input-54-651766c33397>\u001b[0m in \u001b[0;36m<module>\u001b[0;34m()\u001b[0m\n\u001b[0;32m----> 1\u001b[0;31m \u001b[0mresult\u001b[0m\u001b[0;34m.\u001b[0m\u001b[0mshow\u001b[0m\u001b[0;34m(\u001b[0m\u001b[0;36m3\u001b[0m\u001b[0;34m)\u001b[0m\u001b[0;34m\u001b[0m\u001b[0;34m\u001b[0m\u001b[0m\n\u001b[0m",
            "\u001b[0;31mTypeError\u001b[0m: 'Column' object is not callable"
          ]
        }
      ]
    },
    {
      "cell_type": "markdown",
      "metadata": {
        "id": "4agL7-TC7yGD"
      },
      "source": [
        "This will save/assign a column name to the newly created variable"
      ]
    },
    {
      "cell_type": "code",
      "metadata": {
        "id": "JzvTkxTv7yGE",
        "colab": {
          "base_uri": "https://localhost:8080/",
          "height": 153
        },
        "outputId": "a1cbb54a-12e6-4da2-df4a-89bf7a8529fc"
      },
      "source": [
        "# select content from the above column\n",
        "trainDF.select(result).show(2)"
      ],
      "execution_count": null,
      "outputs": [
        {
          "output_type": "stream",
          "text": [
            "+-------+\n",
            "|User_ID|\n",
            "+-------+\n",
            "|1000001|\n",
            "|1000001|\n",
            "+-------+\n",
            "only showing top 2 rows\n",
            "\n"
          ],
          "name": "stdout"
        }
      ]
    },
    {
      "cell_type": "code",
      "metadata": {
        "id": "bYSiGkyy7yGH",
        "colab": {
          "base_uri": "https://localhost:8080/",
          "height": 153
        },
        "outputId": "30a4aea3-73ec-4a55-8896-aa3e83702700"
      },
      "source": [
        "trainDF.select(expr(\"User_ID AS userID\")).show(2)"
      ],
      "execution_count": null,
      "outputs": [
        {
          "output_type": "stream",
          "text": [
            "+-------+\n",
            "| userID|\n",
            "+-------+\n",
            "|1000001|\n",
            "|1000001|\n",
            "+-------+\n",
            "only showing top 2 rows\n",
            "\n"
          ],
          "name": "stdout"
        }
      ]
    },
    {
      "cell_type": "code",
      "metadata": {
        "id": "cBsGKujE7yGL",
        "colab": {
          "base_uri": "https://localhost:8080/",
          "height": 153
        },
        "outputId": "ae2535c1-6612-4938-b065-c4105c8ff0a2"
      },
      "source": [
        "spark.sql(\"SELECT User_ID AS userID FROM trainDFTable\").show(2)"
      ],
      "execution_count": null,
      "outputs": [
        {
          "output_type": "stream",
          "text": [
            "+-------+\n",
            "| userID|\n",
            "+-------+\n",
            "|1000001|\n",
            "|1000001|\n",
            "+-------+\n",
            "only showing top 2 rows\n",
            "\n"
          ],
          "name": "stdout"
        }
      ]
    },
    {
      "cell_type": "code",
      "metadata": {
        "id": "DZqLtUfV7yGP",
        "colab": {
          "base_uri": "https://localhost:8080/",
          "height": 153
        },
        "outputId": "1fd94f56-f4a7-4c78-9892-b1d7972dabbc"
      },
      "source": [
        "trainDF.selectExpr(\"User_ID AS userID\", \"Product_ID AS productID\").show(2)"
      ],
      "execution_count": null,
      "outputs": [
        {
          "output_type": "stream",
          "text": [
            "+-------+---------+\n",
            "| userID|productID|\n",
            "+-------+---------+\n",
            "|1000001|P00069042|\n",
            "|1000001|P00248942|\n",
            "+-------+---------+\n",
            "only showing top 2 rows\n",
            "\n"
          ],
          "name": "stdout"
        }
      ]
    },
    {
      "cell_type": "code",
      "metadata": {
        "scrolled": true,
        "id": "wWY2W_GY7yGW",
        "colab": {
          "base_uri": "https://localhost:8080/",
          "height": 153
        },
        "outputId": "cceefe6c-1ecf-4c21-aee4-af6296af5c15"
      },
      "source": [
        "trainDF.select(\"User_ID\", \"Product_ID\", \"Age\").show(2)"
      ],
      "execution_count": null,
      "outputs": [
        {
          "output_type": "stream",
          "text": [
            "+-------+----------+----+\n",
            "|User_ID|Product_ID| Age|\n",
            "+-------+----------+----+\n",
            "|1000001| P00069042|0-17|\n",
            "|1000001| P00248942|0-17|\n",
            "+-------+----------+----+\n",
            "only showing top 2 rows\n",
            "\n"
          ],
          "name": "stdout"
        }
      ]
    },
    {
      "cell_type": "markdown",
      "metadata": {
        "id": "LBDC_vnI7yGY"
      },
      "source": [
        "#### Converting to Spark Types (Literals)\n",
        "Sometimes we need to pass explicit values into Spark that aren’t a new column but are just a value in all the rows. This might be a constant value or something we’ll need to compare to later on. The way we do this is through literals. \n",
        "This is basically a translation from a given programming language’s literal value to one that Spark understands. \n",
        "Literals are expressions and can be used in the same way."
      ]
    },
    {
      "cell_type": "code",
      "metadata": {
        "id": "jvER_prA7yGZ",
        "colab": {
          "base_uri": "https://localhost:8080/",
          "height": 156
        },
        "outputId": "5e6f7b1c-3906-4951-a520-5a8ecceb2d0f"
      },
      "source": [
        "trainDF.show(1)"
      ],
      "execution_count": null,
      "outputs": [
        {
          "output_type": "stream",
          "text": [
            "+-------+----------+------+----+----------+-------------+--------------------------+--------------+------------------+------------------+------------------+--------+\n",
            "|User_ID|Product_ID|Gender| Age|Occupation|City_Category|Stay_In_Current_City_Years|Marital_Status|Product_Category_1|Product_Category_2|Product_Category_3|Purchase|\n",
            "+-------+----------+------+----+----------+-------------+--------------------------+--------------+------------------+------------------+------------------+--------+\n",
            "|1000001| P00069042|     F|0-17|        10|            A|                         2|             0|                 3|              null|              null|    8370|\n",
            "+-------+----------+------+----+----------+-------------+--------------------------+--------------+------------------+------------------+------------------+--------+\n",
            "only showing top 1 row\n",
            "\n"
          ],
          "name": "stdout"
        }
      ]
    },
    {
      "cell_type": "code",
      "metadata": {
        "id": "9MHvDKdu7yGb"
      },
      "source": [
        "from pyspark.sql.functions import lit\n",
        "trainDF=trainDF.select(\"*\", lit(1).alias('One'))"
      ],
      "execution_count": null,
      "outputs": []
    },
    {
      "cell_type": "code",
      "metadata": {
        "id": "1Kvf4r5x7yGd",
        "colab": {
          "base_uri": "https://localhost:8080/",
          "height": 272
        },
        "outputId": "a8e7421c-f6b4-4118-e817-5a3cb1355990"
      },
      "source": [
        "trainDF.printSchema()"
      ],
      "execution_count": null,
      "outputs": [
        {
          "output_type": "stream",
          "text": [
            "root\n",
            " |-- User_ID: integer (nullable = true)\n",
            " |-- Product_ID: string (nullable = true)\n",
            " |-- Gender: string (nullable = true)\n",
            " |-- Age: string (nullable = true)\n",
            " |-- Occupation: integer (nullable = true)\n",
            " |-- City_Category: string (nullable = true)\n",
            " |-- Stay_In_Current_City_Years: string (nullable = true)\n",
            " |-- Marital_Status: integer (nullable = true)\n",
            " |-- Product_Category_1: integer (nullable = true)\n",
            " |-- Product_Category_2: integer (nullable = true)\n",
            " |-- Product_Category_3: integer (nullable = true)\n",
            " |-- Purchase: integer (nullable = true)\n",
            " |-- One: integer (nullable = false)\n",
            "\n"
          ],
          "name": "stdout"
        }
      ]
    },
    {
      "cell_type": "code",
      "metadata": {
        "scrolled": true,
        "id": "z52kImAO7yGi",
        "colab": {
          "base_uri": "https://localhost:8080/",
          "height": 156
        },
        "outputId": "c6612b32-031d-436e-ea78-e4b5f4806a4f"
      },
      "source": [
        "## In SQL, literals are just the specific value.\n",
        "spark.sql(\"SELECT *, 10 as Two FROM trainDFTable LIMIT 2\").show()"
      ],
      "execution_count": null,
      "outputs": [
        {
          "output_type": "stream",
          "text": [
            "+-------+----------+------+----+----------+-------------+--------------------------+--------------+------------------+------------------+------------------+--------+---+\n",
            "|User_ID|Product_ID|Gender| Age|Occupation|City_Category|Stay_In_Current_City_Years|Marital_Status|Product_Category_1|Product_Category_2|Product_Category_3|Purchase|Two|\n",
            "+-------+----------+------+----+----------+-------------+--------------------------+--------------+------------------+------------------+------------------+--------+---+\n",
            "|1000001| P00069042|     F|0-17|        10|            A|                         2|             0|                 3|              null|              null|    8370| 10|\n",
            "|1000001| P00248942|     F|0-17|        10|            A|                         2|             0|                 1|                 6|                14|   15200| 10|\n",
            "+-------+----------+------+----+----------+-------------+--------------------------+--------------+------------------+------------------+------------------+--------+---+\n",
            "\n"
          ],
          "name": "stdout"
        }
      ]
    },
    {
      "cell_type": "code",
      "metadata": {
        "id": "51sijLg37yGk",
        "colab": {
          "base_uri": "https://localhost:8080/",
          "height": 238
        },
        "outputId": "2d1f4136-0bd2-48a1-c93e-2a4abb717ab4"
      },
      "source": [
        "trainDF.dtypes"
      ],
      "execution_count": null,
      "outputs": [
        {
          "output_type": "execute_result",
          "data": {
            "text/plain": [
              "[('User_ID', 'int'),\n",
              " ('Product_ID', 'string'),\n",
              " ('Gender', 'string'),\n",
              " ('Age', 'string'),\n",
              " ('Occupation', 'int'),\n",
              " ('City_Category', 'string'),\n",
              " ('Stay_In_Current_City_Years', 'string'),\n",
              " ('Marital_Status', 'int'),\n",
              " ('Product_Category_1', 'int'),\n",
              " ('Product_Category_2', 'int'),\n",
              " ('Product_Category_3', 'int'),\n",
              " ('Purchase', 'int'),\n",
              " ('One', 'int')]"
            ]
          },
          "metadata": {
            "tags": []
          },
          "execution_count": 64
        }
      ]
    },
    {
      "cell_type": "markdown",
      "metadata": {
        "id": "LCxYZx9s7yGn"
      },
      "source": [
        "#### Adding Columns"
      ]
    },
    {
      "cell_type": "code",
      "metadata": {
        "scrolled": true,
        "id": "qsUtfJgM7yGn",
        "colab": {
          "base_uri": "https://localhost:8080/",
          "height": 173
        },
        "outputId": "660925aa-c606-4e59-8bd9-180ac9781f88"
      },
      "source": [
        "## More Formal way\n",
        "from pyspark.sql.functions import lit\n",
        "trainDF.withColumn(\"One\", lit(1)).show(2)"
      ],
      "execution_count": null,
      "outputs": [
        {
          "output_type": "stream",
          "text": [
            "+-------+----------+------+----+----------+-------------+--------------------------+--------------+------------------+------------------+------------------+--------+---+\n",
            "|User_ID|Product_ID|Gender| Age|Occupation|City_Category|Stay_In_Current_City_Years|Marital_Status|Product_Category_1|Product_Category_2|Product_Category_3|Purchase|One|\n",
            "+-------+----------+------+----+----------+-------------+--------------------------+--------------+------------------+------------------+------------------+--------+---+\n",
            "|1000001| P00069042|     F|0-17|        10|            A|                         2|             0|                 3|              null|              null|    8370|  1|\n",
            "|1000001| P00248942|     F|0-17|        10|            A|                         2|             0|                 1|                 6|                14|   15200|  1|\n",
            "+-------+----------+------+----+----------+-------------+--------------------------+--------------+------------------+------------------+------------------+--------+---+\n",
            "only showing top 2 rows\n",
            "\n"
          ],
          "name": "stdout"
        }
      ]
    },
    {
      "cell_type": "code",
      "metadata": {
        "id": "U0kt_5hF7yGp",
        "colab": {
          "base_uri": "https://localhost:8080/",
          "height": 54
        },
        "outputId": "d23382d6-bd4c-4e73-b27c-80eb4946ebb8"
      },
      "source": [
        "trainDF.withColumn(\"Str\", lit(\"hi\"))"
      ],
      "execution_count": null,
      "outputs": [
        {
          "output_type": "execute_result",
          "data": {
            "text/plain": [
              "DataFrame[User_ID: int, Product_ID: string, Gender: string, Age: string, Occupation: int, City_Category: string, Stay_In_Current_City_Years: string, Marital_Status: int, Product_Category_1: int, Product_Category_2: int, Product_Category_3: int, Purchase: int, One: int, Str: string]"
            ]
          },
          "metadata": {
            "tags": []
          },
          "execution_count": 66
        }
      ]
    },
    {
      "cell_type": "code",
      "metadata": {
        "id": "9nv95NBx7yGr",
        "colab": {
          "base_uri": "https://localhost:8080/",
          "height": 272
        },
        "outputId": "bf772afa-c013-4916-91cc-8b420ad3dcde"
      },
      "source": [
        "trainDF.printSchema()"
      ],
      "execution_count": null,
      "outputs": [
        {
          "output_type": "stream",
          "text": [
            "root\n",
            " |-- User_ID: integer (nullable = true)\n",
            " |-- Product_ID: string (nullable = true)\n",
            " |-- Gender: string (nullable = true)\n",
            " |-- Age: string (nullable = true)\n",
            " |-- Occupation: integer (nullable = true)\n",
            " |-- City_Category: string (nullable = true)\n",
            " |-- Stay_In_Current_City_Years: string (nullable = true)\n",
            " |-- Marital_Status: integer (nullable = true)\n",
            " |-- Product_Category_1: integer (nullable = true)\n",
            " |-- Product_Category_2: integer (nullable = true)\n",
            " |-- Product_Category_3: integer (nullable = true)\n",
            " |-- Purchase: integer (nullable = true)\n",
            " |-- One: integer (nullable = false)\n",
            "\n"
          ],
          "name": "stdout"
        }
      ]
    },
    {
      "cell_type": "code",
      "metadata": {
        "id": "hXjiv8UV7yGt"
      },
      "source": [
        "trainDF  = trainDF.withColumn(\"One\", lit(1))"
      ],
      "execution_count": null,
      "outputs": []
    },
    {
      "cell_type": "code",
      "metadata": {
        "id": "CeAt8OXQ7yGu",
        "colab": {
          "base_uri": "https://localhost:8080/",
          "height": 238
        },
        "outputId": "3112f39c-1a32-4f3b-ad53-7b22c1cab50f"
      },
      "source": [
        "trainDF.dtypes"
      ],
      "execution_count": null,
      "outputs": [
        {
          "output_type": "execute_result",
          "data": {
            "text/plain": [
              "[('User_ID', 'int'),\n",
              " ('Product_ID', 'string'),\n",
              " ('Gender', 'string'),\n",
              " ('Age', 'string'),\n",
              " ('Occupation', 'int'),\n",
              " ('City_Category', 'string'),\n",
              " ('Stay_In_Current_City_Years', 'string'),\n",
              " ('Marital_Status', 'int'),\n",
              " ('Product_Category_1', 'int'),\n",
              " ('Product_Category_2', 'int'),\n",
              " ('Product_Category_3', 'int'),\n",
              " ('Purchase', 'int'),\n",
              " ('One', 'int')]"
            ]
          },
          "metadata": {
            "tags": []
          },
          "execution_count": 69
        }
      ]
    },
    {
      "cell_type": "code",
      "metadata": {
        "scrolled": true,
        "id": "6Qkv5jcj7yGw",
        "colab": {
          "base_uri": "https://localhost:8080/",
          "height": 156
        },
        "outputId": "5429c445-9ea7-432b-83e2-2ab245639f64"
      },
      "source": [
        "spark.sql(\"SELECT *, 1 AS One FROM trainDFTable LIMIT 2\").show(2)"
      ],
      "execution_count": null,
      "outputs": [
        {
          "output_type": "stream",
          "text": [
            "+-------+----------+------+----+----------+-------------+--------------------------+--------------+------------------+------------------+------------------+--------+---+\n",
            "|User_ID|Product_ID|Gender| Age|Occupation|City_Category|Stay_In_Current_City_Years|Marital_Status|Product_Category_1|Product_Category_2|Product_Category_3|Purchase|One|\n",
            "+-------+----------+------+----+----------+-------------+--------------------------+--------------+------------------+------------------+------------------+--------+---+\n",
            "|1000001| P00069042|     F|0-17|        10|            A|                         2|             0|                 3|              null|              null|    8370|  1|\n",
            "|1000001| P00248942|     F|0-17|        10|            A|                         2|             0|                 1|                 6|                14|   15200|  1|\n",
            "+-------+----------+------+----+----------+-------------+--------------------------+--------------+------------------+------------------+------------------+--------+---+\n",
            "\n"
          ],
          "name": "stdout"
        }
      ]
    },
    {
      "cell_type": "code",
      "metadata": {
        "scrolled": false,
        "id": "zKRNFQMN7yGy",
        "colab": {
          "base_uri": "https://localhost:8080/",
          "height": 479
        },
        "outputId": "02039610-d2c8-4867-efda-523cbadd9b83"
      },
      "source": [
        "tempDF = trainDF.withColumn(\"SameCategoryCode\", \n",
        "trainDF[\"Product_Category_1\"] == trainDF[\"Product_Category_2\"])\n",
        "tempDF.show(20)"
      ],
      "execution_count": null,
      "outputs": [
        {
          "output_type": "stream",
          "text": [
            "+-------+----------+------+-----+----------+-------------+--------------------------+--------------+------------------+------------------+------------------+--------+---+----------------+\n",
            "|User_ID|Product_ID|Gender|  Age|Occupation|City_Category|Stay_In_Current_City_Years|Marital_Status|Product_Category_1|Product_Category_2|Product_Category_3|Purchase|One|SameCategoryCode|\n",
            "+-------+----------+------+-----+----------+-------------+--------------------------+--------------+------------------+------------------+------------------+--------+---+----------------+\n",
            "|1000001| P00069042|     F| 0-17|        10|            A|                         2|             0|                 3|              null|              null|    8370|  1|            null|\n",
            "|1000001| P00248942|     F| 0-17|        10|            A|                         2|             0|                 1|                 6|                14|   15200|  1|           false|\n",
            "|1000001| P00087842|     F| 0-17|        10|            A|                         2|             0|                12|              null|              null|    1422|  1|            null|\n",
            "|1000001| P00085442|     F| 0-17|        10|            A|                         2|             0|                12|                14|              null|    1057|  1|           false|\n",
            "|1000002| P00285442|     M|  55+|        16|            C|                        4+|             0|                 8|              null|              null|    7969|  1|            null|\n",
            "|1000003| P00193542|     M|26-35|        15|            A|                         3|             0|                 1|                 2|              null|   15227|  1|           false|\n",
            "|1000004| P00184942|     M|46-50|         7|            B|                         2|             1|                 1|                 8|                17|   19215|  1|           false|\n",
            "|1000004| P00346142|     M|46-50|         7|            B|                         2|             1|                 1|                15|              null|   15854|  1|           false|\n",
            "|1000004|  P0097242|     M|46-50|         7|            B|                         2|             1|                 1|                16|              null|   15686|  1|           false|\n",
            "|1000005| P00274942|     M|26-35|        20|            A|                         1|             1|                 8|              null|              null|    7871|  1|            null|\n",
            "|1000005| P00251242|     M|26-35|        20|            A|                         1|             1|                 5|                11|              null|    5254|  1|           false|\n",
            "|1000005| P00014542|     M|26-35|        20|            A|                         1|             1|                 8|              null|              null|    3957|  1|            null|\n",
            "|1000005| P00031342|     M|26-35|        20|            A|                         1|             1|                 8|              null|              null|    6073|  1|            null|\n",
            "|1000005| P00145042|     M|26-35|        20|            A|                         1|             1|                 1|                 2|                 5|   15665|  1|           false|\n",
            "|1000006| P00231342|     F|51-55|         9|            A|                         1|             0|                 5|                 8|                14|    5378|  1|           false|\n",
            "|1000006| P00190242|     F|51-55|         9|            A|                         1|             0|                 4|                 5|              null|    2079|  1|           false|\n",
            "|1000006|  P0096642|     F|51-55|         9|            A|                         1|             0|                 2|                 3|                 4|   13055|  1|           false|\n",
            "|1000006| P00058442|     F|51-55|         9|            A|                         1|             0|                 5|                14|              null|    8851|  1|           false|\n",
            "|1000007| P00036842|     M|36-45|         1|            B|                         1|             1|                 1|                14|                16|   11788|  1|           false|\n",
            "|1000008| P00249542|     M|26-35|        12|            C|                        4+|             1|                 1|                 5|                15|   19614|  1|           false|\n",
            "+-------+----------+------+-----+----------+-------------+--------------------------+--------------+------------------+------------------+------------------+--------+---+----------------+\n",
            "only showing top 20 rows\n",
            "\n"
          ],
          "name": "stdout"
        }
      ]
    },
    {
      "cell_type": "markdown",
      "metadata": {
        "id": "Rf9Fufwn7yG0"
      },
      "source": [
        "#### Renaming Columns"
      ]
    },
    {
      "cell_type": "code",
      "metadata": {
        "scrolled": false,
        "id": "s985rDiI7yG4",
        "colab": {
          "base_uri": "https://localhost:8080/",
          "height": 190
        },
        "outputId": "9214d797-e89d-46fb-86b4-4294fdc6e58a"
      },
      "source": [
        "tempDF.withColumnRenamed(\"SameCategoryCode\", \"SimilarCategory\").show(3)"
      ],
      "execution_count": null,
      "outputs": [
        {
          "output_type": "stream",
          "text": [
            "+-------+----------+------+----+----------+-------------+--------------------------+--------------+------------------+------------------+------------------+--------+---+---------------+\n",
            "|User_ID|Product_ID|Gender| Age|Occupation|City_Category|Stay_In_Current_City_Years|Marital_Status|Product_Category_1|Product_Category_2|Product_Category_3|Purchase|One|SimilarCategory|\n",
            "+-------+----------+------+----+----------+-------------+--------------------------+--------------+------------------+------------------+------------------+--------+---+---------------+\n",
            "|1000001| P00069042|     F|0-17|        10|            A|                         2|             0|                 3|              null|              null|    8370|  1|           null|\n",
            "|1000001| P00248942|     F|0-17|        10|            A|                         2|             0|                 1|                 6|                14|   15200|  1|          false|\n",
            "|1000001| P00087842|     F|0-17|        10|            A|                         2|             0|                12|              null|              null|    1422|  1|           null|\n",
            "+-------+----------+------+----+----------+-------------+--------------------------+--------------+------------------+------------------+------------------+--------+---+---------------+\n",
            "only showing top 3 rows\n",
            "\n"
          ],
          "name": "stdout"
        }
      ]
    },
    {
      "cell_type": "code",
      "metadata": {
        "id": "ZtKbiLI97yG5",
        "colab": {
          "base_uri": "https://localhost:8080/",
          "height": 255
        },
        "outputId": "15d5327d-494b-43f4-aabf-71fade1f73eb"
      },
      "source": [
        "tempDF.dtypes"
      ],
      "execution_count": null,
      "outputs": [
        {
          "output_type": "execute_result",
          "data": {
            "text/plain": [
              "[('User_ID', 'int'),\n",
              " ('Product_ID', 'string'),\n",
              " ('Gender', 'string'),\n",
              " ('Age', 'string'),\n",
              " ('Occupation', 'int'),\n",
              " ('City_Category', 'string'),\n",
              " ('Stay_In_Current_City_Years', 'string'),\n",
              " ('Marital_Status', 'int'),\n",
              " ('Product_Category_1', 'int'),\n",
              " ('Product_Category_2', 'int'),\n",
              " ('Product_Category_3', 'int'),\n",
              " ('Purchase', 'int'),\n",
              " ('One', 'int'),\n",
              " ('SameCategoryCode', 'boolean')]"
            ]
          },
          "metadata": {
            "tags": []
          },
          "execution_count": 73
        }
      ]
    },
    {
      "cell_type": "code",
      "metadata": {
        "id": "vk8f2wKs7yG7"
      },
      "source": [
        "uq_val=tempDF.select('SameCategoryCode').distinct()"
      ],
      "execution_count": null,
      "outputs": []
    },
    {
      "cell_type": "code",
      "metadata": {
        "id": "poKfcfSL7yG8",
        "colab": {
          "base_uri": "https://localhost:8080/",
          "height": 136
        },
        "outputId": "ef72222f-cc67-4820-9c54-681d2e9ea78e"
      },
      "source": [
        "uq_val.show()"
      ],
      "execution_count": null,
      "outputs": [
        {
          "output_type": "stream",
          "text": [
            "+----------------+\n",
            "|SameCategoryCode|\n",
            "+----------------+\n",
            "|            null|\n",
            "|           false|\n",
            "+----------------+\n",
            "\n"
          ],
          "name": "stdout"
        }
      ]
    },
    {
      "cell_type": "markdown",
      "metadata": {
        "id": "rOaiKylm7yG-"
      },
      "source": [
        "#### Removing Columns"
      ]
    },
    {
      "cell_type": "code",
      "metadata": {
        "scrolled": false,
        "id": "wooAzHGp7yG_",
        "colab": {
          "base_uri": "https://localhost:8080/",
          "height": 173
        },
        "outputId": "785a06f8-5c45-4c85-820f-1995b54de1c5"
      },
      "source": [
        "tempDF.drop(\"SameCategoryCode\").show(2)"
      ],
      "execution_count": null,
      "outputs": [
        {
          "output_type": "stream",
          "text": [
            "+-------+----------+------+----+----------+-------------+--------------------------+--------------+------------------+------------------+------------------+--------+---+\n",
            "|User_ID|Product_ID|Gender| Age|Occupation|City_Category|Stay_In_Current_City_Years|Marital_Status|Product_Category_1|Product_Category_2|Product_Category_3|Purchase|One|\n",
            "+-------+----------+------+----+----------+-------------+--------------------------+--------------+------------------+------------------+------------------+--------+---+\n",
            "|1000001| P00069042|     F|0-17|        10|            A|                         2|             0|                 3|              null|              null|    8370|  1|\n",
            "|1000001| P00248942|     F|0-17|        10|            A|                         2|             0|                 1|                 6|                14|   15200|  1|\n",
            "+-------+----------+------+----+----------+-------------+--------------------------+--------------+------------------+------------------+------------------+--------+---+\n",
            "only showing top 2 rows\n",
            "\n"
          ],
          "name": "stdout"
        }
      ]
    },
    {
      "cell_type": "markdown",
      "metadata": {
        "id": "s5vrRAyc7yHD"
      },
      "source": [
        "#### Changing a Column’s Type (cast)"
      ]
    },
    {
      "cell_type": "code",
      "metadata": {
        "scrolled": true,
        "id": "ZJc6cC_t7yHE",
        "colab": {
          "base_uri": "https://localhost:8080/",
          "height": 289
        },
        "outputId": "86f1208b-6583-43f2-9f1c-71630d61dccf"
      },
      "source": [
        "tempDF.printSchema()"
      ],
      "execution_count": null,
      "outputs": [
        {
          "output_type": "stream",
          "text": [
            "root\n",
            " |-- User_ID: integer (nullable = true)\n",
            " |-- Product_ID: string (nullable = true)\n",
            " |-- Gender: string (nullable = true)\n",
            " |-- Age: string (nullable = true)\n",
            " |-- Occupation: integer (nullable = true)\n",
            " |-- City_Category: string (nullable = true)\n",
            " |-- Stay_In_Current_City_Years: string (nullable = true)\n",
            " |-- Marital_Status: integer (nullable = true)\n",
            " |-- Product_Category_1: integer (nullable = true)\n",
            " |-- Product_Category_2: integer (nullable = true)\n",
            " |-- Product_Category_3: integer (nullable = true)\n",
            " |-- Purchase: integer (nullable = true)\n",
            " |-- One: integer (nullable = false)\n",
            " |-- SameCategoryCode: boolean (nullable = true)\n",
            "\n"
          ],
          "name": "stdout"
        }
      ]
    },
    {
      "cell_type": "code",
      "metadata": {
        "id": "a1XeT7BV7yHH"
      },
      "source": [
        "tempDF=tempDF.drop(\"SameCategoryCode\")"
      ],
      "execution_count": null,
      "outputs": []
    },
    {
      "cell_type": "code",
      "metadata": {
        "scrolled": false,
        "id": "7g7PYKjf7yHN",
        "colab": {
          "base_uri": "https://localhost:8080/",
          "height": 272
        },
        "outputId": "c16c7c15-b4d0-44e7-aad4-99a7814e816e"
      },
      "source": [
        "from pyspark.sql.functions import expr, col, column\n",
        "tempDF.withColumn(\"Purchase\", col(\"Purchase\").cast(\"string\")).printSchema()"
      ],
      "execution_count": null,
      "outputs": [
        {
          "output_type": "stream",
          "text": [
            "root\n",
            " |-- User_ID: integer (nullable = true)\n",
            " |-- Product_ID: string (nullable = true)\n",
            " |-- Gender: string (nullable = true)\n",
            " |-- Age: string (nullable = true)\n",
            " |-- Occupation: integer (nullable = true)\n",
            " |-- City_Category: string (nullable = true)\n",
            " |-- Stay_In_Current_City_Years: string (nullable = true)\n",
            " |-- Marital_Status: integer (nullable = true)\n",
            " |-- Product_Category_1: integer (nullable = true)\n",
            " |-- Product_Category_2: integer (nullable = true)\n",
            " |-- Product_Category_3: integer (nullable = true)\n",
            " |-- Purchase: string (nullable = true)\n",
            " |-- One: integer (nullable = false)\n",
            "\n"
          ],
          "name": "stdout"
        }
      ]
    },
    {
      "cell_type": "code",
      "metadata": {
        "id": "XzwINTl27yHP"
      },
      "source": [
        "tempDF = tempDF.withColumn(\"Purchase\", col(\"Purchase\").cast(\"string\"))"
      ],
      "execution_count": null,
      "outputs": []
    },
    {
      "cell_type": "code",
      "metadata": {
        "id": "3Ny9fhi07yHS",
        "colab": {
          "base_uri": "https://localhost:8080/",
          "height": 238
        },
        "outputId": "dc37322f-ef9a-4603-9434-afc9bef61f7d"
      },
      "source": [
        "tempDF.dtypes"
      ],
      "execution_count": null,
      "outputs": [
        {
          "output_type": "execute_result",
          "data": {
            "text/plain": [
              "[('User_ID', 'int'),\n",
              " ('Product_ID', 'string'),\n",
              " ('Gender', 'string'),\n",
              " ('Age', 'string'),\n",
              " ('Occupation', 'int'),\n",
              " ('City_Category', 'string'),\n",
              " ('Stay_In_Current_City_Years', 'string'),\n",
              " ('Marital_Status', 'int'),\n",
              " ('Product_Category_1', 'int'),\n",
              " ('Product_Category_2', 'int'),\n",
              " ('Product_Category_3', 'int'),\n",
              " ('Purchase', 'string'),\n",
              " ('One', 'int')]"
            ]
          },
          "metadata": {
            "tags": []
          },
          "execution_count": 81
        }
      ]
    },
    {
      "cell_type": "markdown",
      "metadata": {
        "id": "3h2gzMrt7yHX"
      },
      "source": [
        "#### Distinct Values"
      ]
    },
    {
      "cell_type": "code",
      "metadata": {
        "id": "bbFkAZzo7yHX",
        "colab": {
          "base_uri": "https://localhost:8080/",
          "height": 51
        },
        "outputId": "4b248b4d-2184-420e-f003-bb7d0f4260a5"
      },
      "source": [
        "## To find the number of distinct product in train and test datasets\n",
        "## To calculate the number of distinct products in train and test datasets apply distinct operation.\n",
        "print(\"Distinct values in Product_ID's in train dataset are {}\".format(trainDF.select('Product_ID').distinct().count()))\n",
        "print(\"Distinct values in Product_ID's in test dataset are {}\".format(testDF.select('Product_ID').distinct().count()))"
      ],
      "execution_count": null,
      "outputs": [
        {
          "output_type": "stream",
          "text": [
            "Distinct values in Product_ID's in train dataset are 3631\n",
            "Distinct values in Product_ID's in test dataset are 3491\n"
          ],
          "name": "stdout"
        }
      ]
    },
    {
      "cell_type": "markdown",
      "metadata": {
        "id": "oF2wkUdk7yHc"
      },
      "source": [
        "#### Differences in two columns"
      ]
    },
    {
      "cell_type": "code",
      "metadata": {
        "id": "400t4w_X7yHd",
        "colab": {
          "base_uri": "https://localhost:8080/",
          "height": 51
        },
        "outputId": "ad1d7b1a-becf-475c-f4b8-32adb06d4192"
      },
      "source": [
        "## From the above we can see the train file has more categories than test file. \n",
        "## Let us check what are the categories for Product_ID, which are in test file but not in train file by \n",
        "## applying subtract operation.\n",
        "## We can do the same for all categorical features.\n",
        "diff_cat_in_test_train=testDF.select('Product_ID').subtract(trainDF.select('Product_ID'))\n",
        "print(\"Count of Product_ID's there in test dataset but not train dataset are {}\".\n",
        "      format(diff_cat_in_test_train.count()))\n",
        "\n",
        "diff_cat_in_train_test=trainDF.select('Product_ID').subtract(testDF.select('Product_ID'))\n",
        "print(\"Count of Product_ID's there in train dataset but not test dataset are {}\".format(diff_cat_in_train_test.count()))"
      ],
      "execution_count": null,
      "outputs": [
        {
          "output_type": "stream",
          "text": [
            "Count of Product_ID's there in test dataset but not train dataset are 46\n",
            "Count of Product_ID's there in train dataset but not test dataset are 186\n"
          ],
          "name": "stdout"
        }
      ]
    },
    {
      "cell_type": "code",
      "metadata": {
        "id": "rwXl1yVn7yHg",
        "colab": {
          "base_uri": "https://localhost:8080/",
          "height": 170
        },
        "outputId": "274c3f77-dff3-431d-868a-ba1b2fc2618c"
      },
      "source": [
        "diff_cat_in_test_train.show(3)"
      ],
      "execution_count": null,
      "outputs": [
        {
          "output_type": "stream",
          "text": [
            "+----------+\n",
            "|Product_ID|\n",
            "+----------+\n",
            "| P00322642|\n",
            "| P00300142|\n",
            "| P00077642|\n",
            "+----------+\n",
            "only showing top 3 rows\n",
            "\n"
          ],
          "name": "stdout"
        }
      ]
    },
    {
      "cell_type": "markdown",
      "metadata": {
        "id": "jKAsXT0q7yHl"
      },
      "source": [
        "#### Pair wise Frequencies - Crosstab"
      ]
    },
    {
      "cell_type": "code",
      "metadata": {
        "scrolled": false,
        "id": "Yfu_SBC87yHl",
        "colab": {
          "base_uri": "https://localhost:8080/",
          "height": 221
        },
        "outputId": "67044485-59b7-4140-bfa4-9fef6a3ed624"
      },
      "source": [
        "## To calculate pair wise frequency of categorical columns\n",
        "## Use crosstab operation on DataFrame to calculate the pair wise frequency of columns. \n",
        "## Apply crosstab operation on ‘Age’ and ‘Gender’ columns of train DataFrame.\n",
        "trainDF.crosstab('Age', 'Gender').show()"
      ],
      "execution_count": null,
      "outputs": [
        {
          "output_type": "stream",
          "text": [
            "+----------+-----+------+\n",
            "|Age_Gender|    F|     M|\n",
            "+----------+-----+------+\n",
            "|      0-17| 5083| 10019|\n",
            "|     46-50|13199| 32502|\n",
            "|     18-25|24628| 75032|\n",
            "|     36-45|27170| 82843|\n",
            "|       55+| 5083| 16421|\n",
            "|     51-55| 9894| 28607|\n",
            "|     26-35|50752|168835|\n",
            "+----------+-----+------+\n",
            "\n"
          ],
          "name": "stdout"
        }
      ]
    },
    {
      "cell_type": "code",
      "metadata": {
        "id": "8gUrqZa77yHo",
        "colab": {
          "base_uri": "https://localhost:8080/",
          "height": 340
        },
        "outputId": "0ddadbbf-7842-4e9f-aa6c-3f694fdbaf59"
      },
      "source": [
        "trainDF.groupBy('Age', 'Gender').count().show()"
      ],
      "execution_count": null,
      "outputs": [
        {
          "output_type": "stream",
          "text": [
            "+-----+------+------+\n",
            "|  Age|Gender| count|\n",
            "+-----+------+------+\n",
            "|51-55|     F|  9894|\n",
            "|18-25|     M| 75032|\n",
            "| 0-17|     F|  5083|\n",
            "|46-50|     M| 32502|\n",
            "|18-25|     F| 24628|\n",
            "|  55+|     M| 16421|\n",
            "|  55+|     F|  5083|\n",
            "|36-45|     M| 82843|\n",
            "|26-35|     F| 50752|\n",
            "| 0-17|     M| 10019|\n",
            "|36-45|     F| 27170|\n",
            "|51-55|     M| 28607|\n",
            "|26-35|     M|168835|\n",
            "|46-50|     F| 13199|\n",
            "+-----+------+------+\n",
            "\n"
          ],
          "name": "stdout"
        }
      ]
    },
    {
      "cell_type": "code",
      "metadata": {
        "scrolled": true,
        "id": "eDg__Tma7yHu",
        "colab": {
          "base_uri": "https://localhost:8080/",
          "height": 221
        },
        "outputId": "a1b80464-b96c-48dc-df06-d2b433b12d59"
      },
      "source": [
        "spark.sql(\"\"\"select Age,\n",
        "    sum(case when Gender = 'F' then 1 else 0 end) F,\n",
        "    sum(case when Gender = 'M' then 1 else 0 end) M\n",
        "from trainDFTable\n",
        "group by Age\"\"\").show()\n",
        "\n",
        "# spark.sql(\"\"\"select Age,\n",
        "#     count(*) total,\n",
        "#     sum(case when Gender = 'F' then 1 else 0 end) F,\n",
        "#     sum(case when Gender = 'M' then 1 else 0 end) M\n",
        "# from trainDFTable\n",
        "# group by Age\"\"\").show()"
      ],
      "execution_count": null,
      "outputs": [
        {
          "output_type": "stream",
          "text": [
            "+-----+-----+------+\n",
            "|  Age|    F|     M|\n",
            "+-----+-----+------+\n",
            "|18-25|24628| 75032|\n",
            "|26-35|50752|168835|\n",
            "| 0-17| 5083| 10019|\n",
            "|46-50|13199| 32502|\n",
            "|51-55| 9894| 28607|\n",
            "|36-45|27170| 82843|\n",
            "|  55+| 5083| 16421|\n",
            "+-----+-----+------+\n",
            "\n"
          ],
          "name": "stdout"
        }
      ]
    },
    {
      "cell_type": "markdown",
      "metadata": {
        "id": "ZxL8Xfq37yHy"
      },
      "source": [
        "#### Removing Duplicates"
      ]
    },
    {
      "cell_type": "code",
      "metadata": {
        "scrolled": true,
        "id": "xA9SumVM7yHz",
        "colab": {
          "base_uri": "https://localhost:8080/",
          "height": 340
        },
        "outputId": "53f57194-632a-40aa-dacf-45c163d5d0b1"
      },
      "source": [
        "##To get the DataFrame without any duplicate rows of given a DataFrame\n",
        "##Use dropDuplicates operation to drop the duplicate rows of a DataFrame. \n",
        "## In this command, performing this on two columns Age and Gender of train dataset and \n",
        "## Get the all unique rows for these two columns.\n",
        "trainDF.select('Age','Gender').dropDuplicates().show()"
      ],
      "execution_count": null,
      "outputs": [
        {
          "output_type": "stream",
          "text": [
            "+-----+------+\n",
            "|  Age|Gender|\n",
            "+-----+------+\n",
            "|51-55|     F|\n",
            "|18-25|     M|\n",
            "| 0-17|     F|\n",
            "|46-50|     M|\n",
            "|18-25|     F|\n",
            "|  55+|     M|\n",
            "|  55+|     F|\n",
            "|36-45|     M|\n",
            "|26-35|     F|\n",
            "| 0-17|     M|\n",
            "|36-45|     F|\n",
            "|51-55|     M|\n",
            "|26-35|     M|\n",
            "|46-50|     F|\n",
            "+-----+------+\n",
            "\n"
          ],
          "name": "stdout"
        }
      ]
    },
    {
      "cell_type": "markdown",
      "metadata": {
        "id": "dzD8IO6D7yH0"
      },
      "source": [
        "#### Working with Nulls in Data"
      ]
    },
    {
      "cell_type": "code",
      "metadata": {
        "id": "EfL93H7w7yH1",
        "colab": {
          "base_uri": "https://localhost:8080/",
          "height": 68
        },
        "outputId": "6b3cd1b9-54e5-41a5-801e-5377a923f22a"
      },
      "source": [
        "## To drop the all rows with null value?\n",
        "## Use dropna operation. \n",
        "## To drop row from the DataFrame it consider three options.\n",
        "## how – ‘any’ or ‘all’. If ‘any’, drop a row if it \n",
        "## contains any nulls. If ‘all’, drop a row only if \n",
        "## all its values are null.\n",
        "\n",
        "## thresh – int, default None If specified, drop rows that \n",
        "## have less than thresh non-null values. \n",
        "## This overwrites the how parameter.\n",
        "\n",
        "## subset – optional list of column names to consider.\n",
        "\n",
        "##Drop null rows in train with default parameters and count the rows in output DataFrame. \n",
        "## Default options are any, None, None for how, thresh, subset respectively.\n",
        "print(trainDF.dropna().count())\n",
        "print(trainDF.na.drop().count())\n",
        "print(trainDF.na.drop(\"any\").count())"
      ],
      "execution_count": null,
      "outputs": [
        {
          "output_type": "stream",
          "text": [
            "166821\n",
            "166821\n",
            "166821\n"
          ],
          "name": "stdout"
        }
      ]
    },
    {
      "cell_type": "code",
      "metadata": {
        "scrolled": true,
        "id": "qBEfG0F47yH2",
        "colab": {
          "base_uri": "https://localhost:8080/",
          "height": 224
        },
        "outputId": "79d9c04e-1119-4661-e65c-0576677aa901"
      },
      "source": [
        "## To replace the null values in DataFrame with constant number\n",
        "## Use fillna operation. \n",
        "\n",
        "##The fillna will take two parameters to fill the null values.\n",
        "## value:\n",
        "##     It will take a dictionary to specify which column will replace with which value.\n",
        "##     A value (int , float, string) for all columns.\n",
        "##subset: Specify some selected columns.\n",
        "\n",
        "##Fill ‘-1’ inplace of null values in train DataFrame.\n",
        "trainDF.fillna(-1).show(5)"
      ],
      "execution_count": null,
      "outputs": [
        {
          "output_type": "stream",
          "text": [
            "+-------+----------+------+----+----------+-------------+--------------------------+--------------+------------------+------------------+------------------+--------+---+\n",
            "|User_ID|Product_ID|Gender| Age|Occupation|City_Category|Stay_In_Current_City_Years|Marital_Status|Product_Category_1|Product_Category_2|Product_Category_3|Purchase|One|\n",
            "+-------+----------+------+----+----------+-------------+--------------------------+--------------+------------------+------------------+------------------+--------+---+\n",
            "|1000001| P00069042|     F|0-17|        10|            A|                         2|             0|                 3|                -1|                -1|    8370|  1|\n",
            "|1000001| P00248942|     F|0-17|        10|            A|                         2|             0|                 1|                 6|                14|   15200|  1|\n",
            "|1000001| P00087842|     F|0-17|        10|            A|                         2|             0|                12|                -1|                -1|    1422|  1|\n",
            "|1000001| P00085442|     F|0-17|        10|            A|                         2|             0|                12|                14|                -1|    1057|  1|\n",
            "|1000002| P00285442|     M| 55+|        16|            C|                        4+|             0|                 8|                -1|                -1|    7969|  1|\n",
            "+-------+----------+------+----+----------+-------------+--------------------------+--------------+------------------+------------------+------------------+--------+---+\n",
            "only showing top 5 rows\n",
            "\n"
          ],
          "name": "stdout"
        }
      ]
    },
    {
      "cell_type": "code",
      "metadata": {
        "id": "loA5tJdB7yH4",
        "colab": {
          "base_uri": "https://localhost:8080/",
          "height": 34
        },
        "outputId": "f5e06c09-4680-461d-d8f9-e470995f7164"
      },
      "source": [
        "## Filling with different values for different columns\n",
        "fill_cols_vals = {\n",
        "\"Gender\": 'M',\n",
        "\"Purchase\" : 999999\n",
        "}\n",
        "trainDF.na.fill(fill_cols_vals).count()"
      ],
      "execution_count": null,
      "outputs": [
        {
          "output_type": "execute_result",
          "data": {
            "text/plain": [
              "550068"
            ]
          },
          "metadata": {
            "tags": []
          },
          "execution_count": 91
        }
      ]
    },
    {
      "cell_type": "markdown",
      "metadata": {
        "id": "TA4SjdRZ7yH8"
      },
      "source": [
        "#### Filtering the rows"
      ]
    },
    {
      "cell_type": "code",
      "metadata": {
        "scrolled": true,
        "id": "V2R7wEdW7yH9",
        "colab": {
          "base_uri": "https://localhost:8080/",
          "height": 102
        },
        "outputId": "3eec99d9-6281-4f4f-e534-abd847c25c18"
      },
      "source": [
        "## To filter the rows in train dataset which has Purchases more than 15000\n",
        "## apply the filter operation on Purchase column in train DataFrame \n",
        "## to filter out the rows with values more than 15000. \n",
        "print(\"Count of rows where Purchase Amount more than 15000 are {}\"\n",
        "      .format(trainDF.filter(trainDF.Purchase > 15000).count()))\n",
        "print(\"Count of rows where Purchase Amount more than 15000 are {}\"\n",
        "      .format(trainDF.filter(col(\"Purchase\") > 15000).count()))\n",
        "print(\"Count of rows where Purchase Amount more than 15000 are {}\".format(trainDF.filter(column(\"Purchase\") > 15000).count()))\n",
        "print(\"Count of rows where Purchase Amount more than 15000 are {}\".format(trainDF.filter(expr(\"Purchase\") > 15000).count()))\n",
        "print(\"Count of rows where Purchase Amount more than 15000 are {}\".format(trainDF.filter(trainDF[\"Purchase\"] > 15000).count()))"
      ],
      "execution_count": null,
      "outputs": [
        {
          "output_type": "stream",
          "text": [
            "Count of rows where Purchase Amount more than 15000 are 110523\n",
            "Count of rows where Purchase Amount more than 15000 are 110523\n",
            "Count of rows where Purchase Amount more than 15000 are 110523\n",
            "Count of rows where Purchase Amount more than 15000 are 110523\n",
            "Count of rows where Purchase Amount more than 15000 are 110523\n"
          ],
          "name": "stdout"
        }
      ]
    },
    {
      "cell_type": "code",
      "metadata": {
        "id": "QFv4UWSY7yH-",
        "colab": {
          "base_uri": "https://localhost:8080/",
          "height": 119
        },
        "outputId": "f63c91f9-c216-445c-8c1e-bf88ccc770fe"
      },
      "source": [
        "spark.sql(\"\"\"\n",
        "SELECT \n",
        "COUNT(*) AS Count\n",
        "FROM trainDFTable\n",
        "WHERE Purchase > 15000\"\"\").show()"
      ],
      "execution_count": null,
      "outputs": [
        {
          "output_type": "stream",
          "text": [
            "+------+\n",
            "| Count|\n",
            "+------+\n",
            "|110523|\n",
            "+------+\n",
            "\n"
          ],
          "name": "stdout"
        }
      ]
    },
    {
      "cell_type": "code",
      "metadata": {
        "scrolled": true,
        "id": "Bys2bPcr7yIA",
        "colab": {
          "base_uri": "https://localhost:8080/",
          "height": 34
        },
        "outputId": "a6486b10-8dc9-4ec8-ede3-13c72600bd2b"
      },
      "source": [
        "trainDF.where(\"Purchase > 15000\").where(\"Gender = 'F'\").count()"
      ],
      "execution_count": null,
      "outputs": [
        {
          "output_type": "execute_result",
          "data": {
            "text/plain": [
              "21429"
            ]
          },
          "metadata": {
            "tags": []
          },
          "execution_count": 94
        }
      ]
    },
    {
      "cell_type": "code",
      "metadata": {
        "id": "KBxkLmm77yIF",
        "colab": {
          "base_uri": "https://localhost:8080/",
          "height": 34
        },
        "outputId": "c88ff457-84ec-4f37-eb6b-b10fa6a461d0"
      },
      "source": [
        "trainDF.filter(\"Purchase > 15000\").where(\"Gender = 'F'\").count()"
      ],
      "execution_count": null,
      "outputs": [
        {
          "output_type": "execute_result",
          "data": {
            "text/plain": [
              "21429"
            ]
          },
          "metadata": {
            "tags": []
          },
          "execution_count": 95
        }
      ]
    },
    {
      "cell_type": "code",
      "metadata": {
        "id": "oY4902gP7yII",
        "colab": {
          "base_uri": "https://localhost:8080/",
          "height": 34
        },
        "outputId": "f7fd1908-e015-4e48-da68-f3072e778459"
      },
      "source": [
        "trainDF.where((col(\"Purchase\") > 15000) & (col(\"Gender\") == 'M')).count()"
      ],
      "execution_count": null,
      "outputs": [
        {
          "output_type": "execute_result",
          "data": {
            "text/plain": [
              "89094"
            ]
          },
          "metadata": {
            "tags": []
          },
          "execution_count": 98
        }
      ]
    },
    {
      "cell_type": "code",
      "metadata": {
        "id": "m9ft9xz77yIM",
        "colab": {
          "base_uri": "https://localhost:8080/",
          "height": 34
        },
        "outputId": "c7f2e14b-e960-4430-f268-cdc5fedd87b6"
      },
      "source": [
        "trainDF.filter((col(\"Purchase\") > 15000) & (col(\"Gender\") == 'M')).count()"
      ],
      "execution_count": null,
      "outputs": [
        {
          "output_type": "execute_result",
          "data": {
            "text/plain": [
              "89094"
            ]
          },
          "metadata": {
            "tags": []
          },
          "execution_count": 99
        }
      ]
    },
    {
      "cell_type": "code",
      "metadata": {
        "id": "rYzKYIDM7yIT",
        "colab": {
          "base_uri": "https://localhost:8080/",
          "height": 34
        },
        "outputId": "d1444982-f20e-43a8-ac50-c7652d7f8e28"
      },
      "source": [
        "spark.sql(\"SELECT * FROM trainDFTable WHERE Purchase > 15000 AND Gender = 'F'\").count()"
      ],
      "execution_count": null,
      "outputs": [
        {
          "output_type": "execute_result",
          "data": {
            "text/plain": [
              "21429"
            ]
          },
          "metadata": {
            "tags": []
          },
          "execution_count": 100
        }
      ]
    },
    {
      "cell_type": "markdown",
      "metadata": {
        "id": "KsF6P8Bd7yIW"
      },
      "source": [
        "## Aggregations"
      ]
    },
    {
      "cell_type": "markdown",
      "metadata": {
        "id": "IUjNvpBu7yId"
      },
      "source": [
        "#### Count Distinct"
      ]
    },
    {
      "cell_type": "code",
      "metadata": {
        "scrolled": true,
        "id": "0VNi_hh97yIe",
        "colab": {
          "base_uri": "https://localhost:8080/",
          "height": 119
        },
        "outputId": "975e55f2-1f33-4425-de17-021e6a343f14"
      },
      "source": [
        "from pyspark.sql.functions import countDistinct\n",
        "trainDF.select(countDistinct(\"Product_ID\")).show()"
      ],
      "execution_count": null,
      "outputs": [
        {
          "output_type": "stream",
          "text": [
            "+--------------------------+\n",
            "|count(DISTINCT Product_ID)|\n",
            "+--------------------------+\n",
            "|                      3631|\n",
            "+--------------------------+\n",
            "\n"
          ],
          "name": "stdout"
        }
      ]
    },
    {
      "cell_type": "markdown",
      "metadata": {
        "id": "Cp-nvApz7yIg"
      },
      "source": [
        "#### Approximate Count Distinct"
      ]
    },
    {
      "cell_type": "code",
      "metadata": {
        "id": "blVMUKJ87yIh",
        "colab": {
          "base_uri": "https://localhost:8080/",
          "height": 119
        },
        "outputId": "6004a28b-d66c-4a4a-949e-6c9800995501"
      },
      "source": [
        "from pyspark.sql.functions import approx_count_distinct\n",
        "trainDF.select(approx_count_distinct(\"Product_ID\", 0.1)).show()"
      ],
      "execution_count": null,
      "outputs": [
        {
          "output_type": "stream",
          "text": [
            "+---------------------------------+\n",
            "|approx_count_distinct(Product_ID)|\n",
            "+---------------------------------+\n",
            "|                             3277|\n",
            "+---------------------------------+\n",
            "\n"
          ],
          "name": "stdout"
        }
      ]
    },
    {
      "cell_type": "markdown",
      "metadata": {
        "id": "iYt-8S5k7yIj"
      },
      "source": [
        "#### First and Last"
      ]
    },
    {
      "cell_type": "code",
      "metadata": {
        "scrolled": true,
        "id": "C7pduEXq7yIk",
        "colab": {
          "base_uri": "https://localhost:8080/",
          "height": 119
        },
        "outputId": "eda34829-82cb-414c-d729-68cba93acc47"
      },
      "source": [
        "from pyspark.sql.functions import first, last\n",
        "trainDF.select(first(\"Product_ID\"), last(\"Product_ID\")).show()"
      ],
      "execution_count": null,
      "outputs": [
        {
          "output_type": "stream",
          "text": [
            "+------------------------+-----------------------+\n",
            "|first(Product_ID, false)|last(Product_ID, false)|\n",
            "+------------------------+-----------------------+\n",
            "|               P00069042|              P00371644|\n",
            "+------------------------+-----------------------+\n",
            "\n"
          ],
          "name": "stdout"
        }
      ]
    },
    {
      "cell_type": "markdown",
      "metadata": {
        "id": "MqmBPvPV7yIl"
      },
      "source": [
        "#### Min and Max"
      ]
    },
    {
      "cell_type": "code",
      "metadata": {
        "scrolled": true,
        "id": "xxYHoUdm7yIm",
        "colab": {
          "base_uri": "https://localhost:8080/",
          "height": 119
        },
        "outputId": "8e67e1e4-de89-4b19-abf3-a244e28018fa"
      },
      "source": [
        "from pyspark.sql.functions import min, max\n",
        "trainDF.select(min(\"Purchase\"), max(\"Purchase\")).show()"
      ],
      "execution_count": null,
      "outputs": [
        {
          "output_type": "stream",
          "text": [
            "+-------------+-------------+\n",
            "|min(Purchase)|max(Purchase)|\n",
            "+-------------+-------------+\n",
            "|           12|        23961|\n",
            "+-------------+-------------+\n",
            "\n"
          ],
          "name": "stdout"
        }
      ]
    },
    {
      "cell_type": "markdown",
      "metadata": {
        "id": "BseJlc0m7yIo"
      },
      "source": [
        "#### Sum"
      ]
    },
    {
      "cell_type": "code",
      "metadata": {
        "id": "4lZzvdqr7yIo",
        "colab": {
          "base_uri": "https://localhost:8080/",
          "height": 119
        },
        "outputId": "b46d915d-233b-4482-b389-1d56e3614c13"
      },
      "source": [
        "from pyspark.sql.functions import sum\n",
        "trainDF.select(sum(\"Purchase\")).show()"
      ],
      "execution_count": null,
      "outputs": [
        {
          "output_type": "stream",
          "text": [
            "+-------------+\n",
            "|sum(Purchase)|\n",
            "+-------------+\n",
            "|   5095812742|\n",
            "+-------------+\n",
            "\n"
          ],
          "name": "stdout"
        }
      ]
    },
    {
      "cell_type": "markdown",
      "metadata": {
        "id": "B0Zo5FXB7yIr"
      },
      "source": [
        "#### Avg"
      ]
    },
    {
      "cell_type": "code",
      "metadata": {
        "id": "eH8XO-f77yIs",
        "colab": {
          "base_uri": "https://localhost:8080/",
          "height": 119
        },
        "outputId": "ac5c9e55-1174-43c8-b660-26f96d66085a"
      },
      "source": [
        "from pyspark.sql.functions import sum, count, avg, expr\n",
        "\n",
        "trainDF.select(\n",
        "    count(\"Purchase\").alias(\"total_transactions\"),\n",
        "    sum(\"Purchase\").alias(\"total_purchases\"),\n",
        "    avg(\"Purchase\").alias(\"avg_purchases\"),\n",
        "    expr(\"mean(Purchase)\").alias(\"mean_purchases\"))\\\n",
        "  .selectExpr(\n",
        "    \"total_purchases/total_transactions\",\n",
        "    \"avg_purchases\",\n",
        "    \"mean_purchases\").show()"
      ],
      "execution_count": null,
      "outputs": [
        {
          "output_type": "stream",
          "text": [
            "+--------------------------------------+-----------------+-----------------+\n",
            "|(total_purchases / total_transactions)|    avg_purchases|   mean_purchases|\n",
            "+--------------------------------------+-----------------+-----------------+\n",
            "|                     9263.968712959126|9263.968712959126|9263.968712959126|\n",
            "+--------------------------------------+-----------------+-----------------+\n",
            "\n"
          ],
          "name": "stdout"
        }
      ]
    },
    {
      "cell_type": "markdown",
      "metadata": {
        "id": "DsyZHzAi7yJE"
      },
      "source": [
        "#### Grouping"
      ]
    },
    {
      "cell_type": "code",
      "metadata": {
        "id": "cwNYbxhR7yJF",
        "colab": {
          "base_uri": "https://localhost:8080/",
          "height": 340
        },
        "outputId": "e176cddb-617e-41d1-c874-9e7b1d11a3c2"
      },
      "source": [
        "trainDF.groupBy(\"Age\", \"Gender\").count().show()"
      ],
      "execution_count": null,
      "outputs": [
        {
          "output_type": "stream",
          "text": [
            "+-----+------+------+\n",
            "|  Age|Gender| count|\n",
            "+-----+------+------+\n",
            "|51-55|     F|  9894|\n",
            "|18-25|     M| 75032|\n",
            "| 0-17|     F|  5083|\n",
            "|46-50|     M| 32502|\n",
            "|18-25|     F| 24628|\n",
            "|  55+|     M| 16421|\n",
            "|  55+|     F|  5083|\n",
            "|36-45|     M| 82843|\n",
            "|26-35|     F| 50752|\n",
            "| 0-17|     M| 10019|\n",
            "|36-45|     F| 27170|\n",
            "|51-55|     M| 28607|\n",
            "|26-35|     M|168835|\n",
            "|46-50|     F| 13199|\n",
            "+-----+------+------+\n",
            "\n"
          ],
          "name": "stdout"
        }
      ]
    },
    {
      "cell_type": "markdown",
      "metadata": {
        "id": "FaoubSzY7yJH"
      },
      "source": [
        "#### Grouping with Expressions"
      ]
    },
    {
      "cell_type": "code",
      "metadata": {
        "scrolled": true,
        "id": "-i_7cDoy7yJH",
        "colab": {
          "base_uri": "https://localhost:8080/",
          "height": 221
        },
        "outputId": "fa0e02df-f487-49df-cb20-dd3731720fdf"
      },
      "source": [
        "trainDF.groupBy(\"Age\").agg(\n",
        "  count(\"Purchase\").alias(\"quan\"),\n",
        "  expr(\"count(Purchase)\")).show()"
      ],
      "execution_count": null,
      "outputs": [
        {
          "output_type": "stream",
          "text": [
            "+-----+------+---------------+\n",
            "|  Age|  quan|count(Purchase)|\n",
            "+-----+------+---------------+\n",
            "|18-25| 99660|          99660|\n",
            "|26-35|219587|         219587|\n",
            "| 0-17| 15102|          15102|\n",
            "|46-50| 45701|          45701|\n",
            "|51-55| 38501|          38501|\n",
            "|36-45|110013|         110013|\n",
            "|  55+| 21504|          21504|\n",
            "+-----+------+---------------+\n",
            "\n"
          ],
          "name": "stdout"
        }
      ]
    },
    {
      "cell_type": "code",
      "metadata": {
        "id": "QUo96S_c7yJJ",
        "colab": {
          "base_uri": "https://localhost:8080/",
          "height": 221
        },
        "outputId": "1ed76c3b-6a15-4b94-e619-a2b7a8e7611b"
      },
      "source": [
        "trainDF.groupBy(\"Age\").agg(expr(\"avg(Purchase)\"),expr(\"stddev_pop(Purchase)\")).show()"
      ],
      "execution_count": null,
      "outputs": [
        {
          "output_type": "stream",
          "text": [
            "+-----+-----------------+--------------------+\n",
            "|  Age|    avg(Purchase)|stddev_pop(Purchase)|\n",
            "+-----+-----------------+--------------------+\n",
            "|18-25|9169.663606261289|  5034.2967396277945|\n",
            "|26-35|9252.690632869888|   5010.515894010154|\n",
            "| 0-17|8933.464640444974|   5110.944823427661|\n",
            "|46-50|9208.625697468327|   4967.162022122706|\n",
            "|51-55|9534.808030960236|   5087.302011173869|\n",
            "|36-45|9331.350694917874|   5022.901050378538|\n",
            "|  55+|9336.280459449405|    5011.37746955577|\n",
            "+-----+-----------------+--------------------+\n",
            "\n"
          ],
          "name": "stdout"
        }
      ]
    },
    {
      "cell_type": "code",
      "metadata": {
        "scrolled": false,
        "id": "0QC2M0vy7yJM",
        "colab": {
          "base_uri": "https://localhost:8080/",
          "height": 221
        },
        "outputId": "b8587556-0dee-4057-dc3b-ec79bba42a42"
      },
      "source": [
        "## To find the mean of each age group in train dataset - Average purchases in each age group\n",
        "trainDF.groupby('Age').agg({'Purchase': 'mean'}).show()"
      ],
      "execution_count": null,
      "outputs": [
        {
          "output_type": "stream",
          "text": [
            "+-----+-----------------+\n",
            "|  Age|    avg(Purchase)|\n",
            "+-----+-----------------+\n",
            "|18-25|9169.663606261289|\n",
            "|26-35|9252.690632869888|\n",
            "| 0-17|8933.464640444974|\n",
            "|46-50|9208.625697468327|\n",
            "|51-55|9534.808030960236|\n",
            "|36-45|9331.350694917874|\n",
            "|  55+|9336.280459449405|\n",
            "+-----+-----------------+\n",
            "\n"
          ],
          "name": "stdout"
        }
      ]
    },
    {
      "cell_type": "code",
      "metadata": {
        "id": "3O7rRQrp7yJN",
        "colab": {
          "base_uri": "https://localhost:8080/",
          "height": 221
        },
        "outputId": "bfa1233e-0270-48f6-9d6f-91e078fbf29a"
      },
      "source": [
        "trainDF.groupby('Age').agg({'Purchase': 'sum'}).show()"
      ],
      "execution_count": null,
      "outputs": [
        {
          "output_type": "stream",
          "text": [
            "+-----+-------------+\n",
            "|  Age|sum(Purchase)|\n",
            "+-----+-------------+\n",
            "|18-25|    913848675|\n",
            "|26-35|   2031770578|\n",
            "| 0-17|    134913183|\n",
            "|46-50|    420843403|\n",
            "|51-55|    367099644|\n",
            "|36-45|   1026569884|\n",
            "|  55+|    200767375|\n",
            "+-----+-------------+\n",
            "\n"
          ],
          "name": "stdout"
        }
      ]
    },
    {
      "cell_type": "code",
      "metadata": {
        "scrolled": false,
        "id": "b7lJRhRR7yJQ",
        "colab": {
          "base_uri": "https://localhost:8080/",
          "height": 241
        },
        "outputId": "2966b251-5a42-4258-c873-45ca04cf1399"
      },
      "source": [
        "## Apply sum, min, max, count with groupby to get different summary insight for each group. \n",
        "exprs = {x: \"count\" for x in trainDF.columns}\n",
        "trainDF.groupBy(\"Age\").agg(exprs).show()"
      ],
      "execution_count": null,
      "outputs": [
        {
          "output_type": "stream",
          "text": [
            "+-----+--------------------+----------+-------------------------+---------------------+---------------+--------------+-----------------+---------------------------------+-------------------------+----------+-------------+-------------------------+-----------------+\n",
            "|  Age|count(City_Category)|count(One)|count(Product_Category_3)|count(Marital_Status)|count(Purchase)|count(User_ID)|count(Occupation)|count(Stay_In_Current_City_Years)|count(Product_Category_1)|count(Age)|count(Gender)|count(Product_Category_2)|count(Product_ID)|\n",
            "+-----+--------------------+----------+-------------------------+---------------------+---------------+--------------+-----------------+---------------------------------+-------------------------+----------+-------------+-------------------------+-----------------+\n",
            "|18-25|               99660|     99660|                    31316|                99660|          99660|         99660|            99660|                            99660|                    99660|     99660|        99660|                    69157|            99660|\n",
            "|26-35|              219587|    219587|                    66942|               219587|         219587|        219587|           219587|                           219587|                   219587|    219587|       219587|                   150160|           219587|\n",
            "| 0-17|               15102|     15102|                     4873|                15102|          15102|         15102|            15102|                            15102|                    15102|     15102|        15102|                    10648|            15102|\n",
            "|46-50|               45701|     45701|                    13374|                45701|          45701|         45701|            45701|                            45701|                    45701|     45701|        45701|                    31010|            45701|\n",
            "|51-55|               38501|     38501|                    11166|                38501|          38501|         38501|            38501|                            38501|                    38501|     38501|        38501|                    26024|            38501|\n",
            "|36-45|              110013|    110013|                    33285|               110013|         110013|        110013|           110013|                           110013|                   110013|    110013|       110013|                    75350|           110013|\n",
            "|  55+|               21504|     21504|                     5865|                21504|          21504|         21504|            21504|                            21504|                    21504|     21504|        21504|                    14081|            21504|\n",
            "+-----+--------------------+----------+-------------------------+---------------------+---------------+--------------+-----------------+---------------------------------+-------------------------+----------+-------------+-------------------------+-----------------+\n",
            "\n"
          ],
          "name": "stdout"
        }
      ]
    },
    {
      "cell_type": "markdown",
      "metadata": {
        "id": "8vA2hsSY7yJW"
      },
      "source": [
        "## Joins"
      ]
    },
    {
      "cell_type": "code",
      "metadata": {
        "id": "aJsXCiP77yJX"
      },
      "source": [
        "# in Python\n",
        "person = spark.createDataFrame([\n",
        "    (0, \"Dr. Murthy\", 0, [250, 100]),\n",
        "    (1, \"Dr. Sridhar Pappu\", 1, [500, 250, 100]),\n",
        "    (2, \"Dr. Manoj\", 2, [100])])\\\n",
        "  .toDF(\"id\", \"name\", \"graduate_program\", \"role_status\")\n",
        "graduateProgram = spark.createDataFrame([\n",
        "    (0, \"Ph.D\", \"School of Information\", \"Carnegie Mellon University\"),\n",
        "    (1, \"Ph.D\", \"The University of Texas\", \"El Paso\"),\n",
        "    (2, \"Ph.D.\", \"School of Information\", \"Oklahoma State University\")])\\\n",
        "  .toDF(\"id\", \"degree\", \"department\", \"school\")\n",
        "roleStatus = spark.createDataFrame([\n",
        "    (500, \"President\"),\n",
        "    (250, \"Founder\"),\n",
        "    (100, \"Mentor\")])\\\n",
        "  .toDF(\"id\", \"status\")"
      ],
      "execution_count": null,
      "outputs": []
    },
    {
      "cell_type": "code",
      "metadata": {
        "scrolled": true,
        "id": "zAsv8SwY7yJY",
        "colab": {
          "base_uri": "https://localhost:8080/",
          "height": 153
        },
        "outputId": "48d91b5f-e6f3-40de-faad-2a2f448dd313"
      },
      "source": [
        "person.show()"
      ],
      "execution_count": null,
      "outputs": [
        {
          "output_type": "stream",
          "text": [
            "+---+-----------------+----------------+---------------+\n",
            "| id|             name|graduate_program|    role_status|\n",
            "+---+-----------------+----------------+---------------+\n",
            "|  0|       Dr. Murthy|               0|     [250, 100]|\n",
            "|  1|Dr. Sridhar Pappu|               1|[500, 250, 100]|\n",
            "|  2|        Dr. Manoj|               2|          [100]|\n",
            "+---+-----------------+----------------+---------------+\n",
            "\n"
          ],
          "name": "stdout"
        }
      ]
    },
    {
      "cell_type": "code",
      "metadata": {
        "id": "4x29IqPU7yJZ",
        "colab": {
          "base_uri": "https://localhost:8080/",
          "height": 153
        },
        "outputId": "d4de383c-022c-4c05-e5b3-8b51425f6d58"
      },
      "source": [
        "graduateProgram.show(truncate=False)"
      ],
      "execution_count": null,
      "outputs": [
        {
          "output_type": "stream",
          "text": [
            "+---+------+-----------------------+--------------------------+\n",
            "|id |degree|department             |school                    |\n",
            "+---+------+-----------------------+--------------------------+\n",
            "|0  |Ph.D  |School of Information  |Carnegie Mellon University|\n",
            "|1  |Ph.D  |The University of Texas|El Paso                   |\n",
            "|2  |Ph.D. |School of Information  |Oklahoma State University |\n",
            "+---+------+-----------------------+--------------------------+\n",
            "\n"
          ],
          "name": "stdout"
        }
      ]
    },
    {
      "cell_type": "code",
      "metadata": {
        "id": "JCovxCMO7yJi",
        "colab": {
          "base_uri": "https://localhost:8080/",
          "height": 153
        },
        "outputId": "cf656232-f9f8-4745-fb7c-9f2a260f38be"
      },
      "source": [
        "roleStatus.show()"
      ],
      "execution_count": null,
      "outputs": [
        {
          "output_type": "stream",
          "text": [
            "+---+---------+\n",
            "| id|   status|\n",
            "+---+---------+\n",
            "|500|President|\n",
            "|250|  Founder|\n",
            "|100|   Mentor|\n",
            "+---+---------+\n",
            "\n"
          ],
          "name": "stdout"
        }
      ]
    },
    {
      "cell_type": "code",
      "metadata": {
        "id": "6xXxGAVG7yJl"
      },
      "source": [
        "person.createOrReplaceTempView(\"personTbl\")\n",
        "graduateProgram.createOrReplaceTempView(\"graduateProgramTbl\")\n",
        "roleStatus.createOrReplaceTempView(\"roleStatusTbl\")"
      ],
      "execution_count": null,
      "outputs": []
    },
    {
      "cell_type": "markdown",
      "metadata": {
        "id": "vnXOtkhB7yJq"
      },
      "source": [
        "#### Inner Joins"
      ]
    },
    {
      "cell_type": "code",
      "metadata": {
        "scrolled": true,
        "id": "-AkaHJ0g7yJr",
        "colab": {
          "base_uri": "https://localhost:8080/",
          "height": 153
        },
        "outputId": "86ce957c-2d16-4275-da88-2f1ffa9f8072"
      },
      "source": [
        "joinExpression = person[\"graduate_program\"] == graduateProgram['id']\n",
        "person.join(graduateProgram, joinExpression).show()"
      ],
      "execution_count": null,
      "outputs": [
        {
          "output_type": "stream",
          "text": [
            "+---+-----------------+----------------+---------------+---+------+--------------------+--------------------+\n",
            "| id|             name|graduate_program|    role_status| id|degree|          department|              school|\n",
            "+---+-----------------+----------------+---------------+---+------+--------------------+--------------------+\n",
            "|  0|       Dr. Murthy|               0|     [250, 100]|  0|  Ph.D|School of Informa...|Carnegie Mellon U...|\n",
            "|  1|Dr. Sridhar Pappu|               1|[500, 250, 100]|  1|  Ph.D|The University of...|             El Paso|\n",
            "|  2|        Dr. Manoj|               2|          [100]|  2| Ph.D.|School of Informa...|Oklahoma State Un...|\n",
            "+---+-----------------+----------------+---------------+---+------+--------------------+--------------------+\n",
            "\n"
          ],
          "name": "stdout"
        }
      ]
    },
    {
      "cell_type": "code",
      "metadata": {
        "scrolled": true,
        "id": "GWkV7FFK7yJs",
        "colab": {
          "base_uri": "https://localhost:8080/",
          "height": 153
        },
        "outputId": "fb3f8db6-9cdc-4244-eb37-c6505ea70275"
      },
      "source": [
        "spark.sql(\"\"\"SELECT * FROM personTbl JOIN graduateProgramTbl\n",
        "  ON personTbl.graduate_program = graduateProgramTbl.id\"\"\").show()"
      ],
      "execution_count": null,
      "outputs": [
        {
          "output_type": "stream",
          "text": [
            "+---+-----------------+----------------+---------------+---+------+--------------------+--------------------+\n",
            "| id|             name|graduate_program|    role_status| id|degree|          department|              school|\n",
            "+---+-----------------+----------------+---------------+---+------+--------------------+--------------------+\n",
            "|  0|       Dr. Murthy|               0|     [250, 100]|  0|  Ph.D|School of Informa...|Carnegie Mellon U...|\n",
            "|  1|Dr. Sridhar Pappu|               1|[500, 250, 100]|  1|  Ph.D|The University of...|             El Paso|\n",
            "|  2|        Dr. Manoj|               2|          [100]|  2| Ph.D.|School of Informa...|Oklahoma State Un...|\n",
            "+---+-----------------+----------------+---------------+---+------+--------------------+--------------------+\n",
            "\n"
          ],
          "name": "stdout"
        }
      ]
    },
    {
      "cell_type": "code",
      "metadata": {
        "scrolled": true,
        "id": "dXxFg6NE7yJz",
        "colab": {
          "base_uri": "https://localhost:8080/",
          "height": 153
        },
        "outputId": "2a0c4e7d-4f0a-44a5-c642-3325b83aa0de"
      },
      "source": [
        "joinType = \"inner\"\n",
        "person.join(graduateProgram, joinExpression, joinType).show()"
      ],
      "execution_count": null,
      "outputs": [
        {
          "output_type": "stream",
          "text": [
            "+---+-----------------+----------------+---------------+---+------+--------------------+--------------------+\n",
            "| id|             name|graduate_program|    role_status| id|degree|          department|              school|\n",
            "+---+-----------------+----------------+---------------+---+------+--------------------+--------------------+\n",
            "|  0|       Dr. Murthy|               0|     [250, 100]|  0|  Ph.D|School of Informa...|Carnegie Mellon U...|\n",
            "|  1|Dr. Sridhar Pappu|               1|[500, 250, 100]|  1|  Ph.D|The University of...|             El Paso|\n",
            "|  2|        Dr. Manoj|               2|          [100]|  2| Ph.D.|School of Informa...|Oklahoma State Un...|\n",
            "+---+-----------------+----------------+---------------+---+------+--------------------+--------------------+\n",
            "\n"
          ],
          "name": "stdout"
        }
      ]
    },
    {
      "cell_type": "code",
      "metadata": {
        "id": "Yq2n3L8L7yJ1",
        "colab": {
          "base_uri": "https://localhost:8080/",
          "height": 153
        },
        "outputId": "ddaf56c1-cb0d-4897-928d-0b683eed0b69"
      },
      "source": [
        "spark.sql(\"\"\"SELECT * FROM personTbl INNER JOIN graduateProgramTbl\n",
        "  ON personTbl.graduate_program = graduateProgramTbl.id\"\"\").show()"
      ],
      "execution_count": null,
      "outputs": [
        {
          "output_type": "stream",
          "text": [
            "+---+-----------------+----------------+---------------+---+------+--------------------+--------------------+\n",
            "| id|             name|graduate_program|    role_status| id|degree|          department|              school|\n",
            "+---+-----------------+----------------+---------------+---+------+--------------------+--------------------+\n",
            "|  0|       Dr. Murthy|               0|     [250, 100]|  0|  Ph.D|School of Informa...|Carnegie Mellon U...|\n",
            "|  1|Dr. Sridhar Pappu|               1|[500, 250, 100]|  1|  Ph.D|The University of...|             El Paso|\n",
            "|  2|        Dr. Manoj|               2|          [100]|  2| Ph.D.|School of Informa...|Oklahoma State Un...|\n",
            "+---+-----------------+----------------+---------------+---+------+--------------------+--------------------+\n",
            "\n"
          ],
          "name": "stdout"
        }
      ]
    },
    {
      "cell_type": "code",
      "metadata": {
        "id": "4K8UWN777yJ2"
      },
      "source": [
        "test = person.join(graduateProgram, on=(person.graduate_program == graduateProgram.id))"
      ],
      "execution_count": null,
      "outputs": []
    },
    {
      "cell_type": "code",
      "metadata": {
        "id": "q3hFx9yk7yJ3",
        "colab": {
          "base_uri": "https://localhost:8080/",
          "height": 153
        },
        "outputId": "08afdb46-8fa2-4d79-a9ad-75e7d10384a0"
      },
      "source": [
        "test.show()"
      ],
      "execution_count": null,
      "outputs": [
        {
          "output_type": "stream",
          "text": [
            "+---+-----------------+----------------+---------------+---+------+--------------------+--------------------+\n",
            "| id|             name|graduate_program|    role_status| id|degree|          department|              school|\n",
            "+---+-----------------+----------------+---------------+---+------+--------------------+--------------------+\n",
            "|  0|       Dr. Murthy|               0|     [250, 100]|  0|  Ph.D|School of Informa...|Carnegie Mellon U...|\n",
            "|  1|Dr. Sridhar Pappu|               1|[500, 250, 100]|  1|  Ph.D|The University of...|             El Paso|\n",
            "|  2|        Dr. Manoj|               2|          [100]|  2| Ph.D.|School of Informa...|Oklahoma State Un...|\n",
            "+---+-----------------+----------------+---------------+---+------+--------------------+--------------------+\n",
            "\n"
          ],
          "name": "stdout"
        }
      ]
    },
    {
      "cell_type": "markdown",
      "metadata": {
        "id": "LbuzxFBC7yJ5"
      },
      "source": [
        "#### Outer Joins"
      ]
    },
    {
      "cell_type": "code",
      "metadata": {
        "scrolled": true,
        "id": "xrcWrR-d7yJ5",
        "colab": {
          "base_uri": "https://localhost:8080/",
          "height": 173
        },
        "outputId": "d70b0fd1-7a6c-4122-8a94-1c294e6dac3a"
      },
      "source": [
        "joinType = \"outer\"\n",
        "person.join(graduateProgram, joinExpression, joinType).show(truncate=False)"
      ],
      "execution_count": null,
      "outputs": [
        {
          "output_type": "stream",
          "text": [
            "+---+-----------------+----------------+---------------+---+------+-----------------------+--------------------------+\n",
            "|id |name             |graduate_program|role_status    |id |degree|department             |school                    |\n",
            "+---+-----------------+----------------+---------------+---+------+-----------------------+--------------------------+\n",
            "|0  |Dr. Murthy       |0               |[250, 100]     |0  |Ph.D  |School of Information  |Carnegie Mellon University|\n",
            "|1  |Dr. Sridhar Pappu|1               |[500, 250, 100]|1  |Ph.D  |The University of Texas|El Paso                   |\n",
            "|2  |Dr. Manoj        |2               |[100]          |2  |Ph.D. |School of Information  |Oklahoma State University |\n",
            "+---+-----------------+----------------+---------------+---+------+-----------------------+--------------------------+\n",
            "\n"
          ],
          "name": "stdout"
        }
      ]
    },
    {
      "cell_type": "code",
      "metadata": {
        "scrolled": true,
        "id": "3_o6IRWI7yJ6",
        "colab": {
          "base_uri": "https://localhost:8080/",
          "height": 153
        },
        "outputId": "bb2c9869-f1d0-427c-a5a6-502b9b6352c0"
      },
      "source": [
        "spark.sql(\"\"\"SELECT * FROM personTbl FULL OUTER JOIN graduateProgramTbl\n",
        "  ON personTbl.graduate_program = graduateProgramTbl.id\"\"\").show()"
      ],
      "execution_count": null,
      "outputs": [
        {
          "output_type": "stream",
          "text": [
            "+---+-----------------+----------------+---------------+---+------+--------------------+--------------------+\n",
            "| id|             name|graduate_program|    role_status| id|degree|          department|              school|\n",
            "+---+-----------------+----------------+---------------+---+------+--------------------+--------------------+\n",
            "|  0|       Dr. Murthy|               0|     [250, 100]|  0|  Ph.D|School of Informa...|Carnegie Mellon U...|\n",
            "|  1|Dr. Sridhar Pappu|               1|[500, 250, 100]|  1|  Ph.D|The University of...|             El Paso|\n",
            "|  2|        Dr. Manoj|               2|          [100]|  2| Ph.D.|School of Informa...|Oklahoma State Un...|\n",
            "+---+-----------------+----------------+---------------+---+------+--------------------+--------------------+\n",
            "\n"
          ],
          "name": "stdout"
        }
      ]
    },
    {
      "cell_type": "markdown",
      "metadata": {
        "id": "Barc8Z8G7yJ9"
      },
      "source": [
        "#### Left Outer Joins"
      ]
    },
    {
      "cell_type": "code",
      "metadata": {
        "scrolled": true,
        "id": "gomsnGTL7yKA",
        "colab": {
          "base_uri": "https://localhost:8080/",
          "height": 153
        },
        "outputId": "4dd3dba5-cf3f-4d35-dd68-5abf56937140"
      },
      "source": [
        "joinType = \"left_outer\"\n",
        "graduateProgram.join(person, joinExpression, joinType).show()"
      ],
      "execution_count": null,
      "outputs": [
        {
          "output_type": "stream",
          "text": [
            "+---+------+--------------------+--------------------+---+-----------------+----------------+---------------+\n",
            "| id|degree|          department|              school| id|             name|graduate_program|    role_status|\n",
            "+---+------+--------------------+--------------------+---+-----------------+----------------+---------------+\n",
            "|  0|  Ph.D|School of Informa...|Carnegie Mellon U...|  0|       Dr. Murthy|               0|     [250, 100]|\n",
            "|  1|  Ph.D|The University of...|             El Paso|  1|Dr. Sridhar Pappu|               1|[500, 250, 100]|\n",
            "|  2| Ph.D.|School of Informa...|Oklahoma State Un...|  2|        Dr. Manoj|               2|          [100]|\n",
            "+---+------+--------------------+--------------------+---+-----------------+----------------+---------------+\n",
            "\n"
          ],
          "name": "stdout"
        }
      ]
    },
    {
      "cell_type": "code",
      "metadata": {
        "scrolled": true,
        "id": "7MkaON8w7yKF",
        "colab": {
          "base_uri": "https://localhost:8080/",
          "height": 153
        },
        "outputId": "a6375cea-a97d-4386-c38b-f89fc9903814"
      },
      "source": [
        "spark.sql(\"\"\"SELECT * FROM personTbl LEFT OUTER JOIN graduateProgramTbl\n",
        "  ON personTbl.graduate_program = graduateProgramTbl.id\"\"\").show()"
      ],
      "execution_count": null,
      "outputs": [
        {
          "output_type": "stream",
          "text": [
            "+---+-----------------+----------------+---------------+---+------+--------------------+--------------------+\n",
            "| id|             name|graduate_program|    role_status| id|degree|          department|              school|\n",
            "+---+-----------------+----------------+---------------+---+------+--------------------+--------------------+\n",
            "|  0|       Dr. Murthy|               0|     [250, 100]|  0|  Ph.D|School of Informa...|Carnegie Mellon U...|\n",
            "|  1|Dr. Sridhar Pappu|               1|[500, 250, 100]|  1|  Ph.D|The University of...|             El Paso|\n",
            "|  2|        Dr. Manoj|               2|          [100]|  2| Ph.D.|School of Informa...|Oklahoma State Un...|\n",
            "+---+-----------------+----------------+---------------+---+------+--------------------+--------------------+\n",
            "\n"
          ],
          "name": "stdout"
        }
      ]
    },
    {
      "cell_type": "markdown",
      "metadata": {
        "id": "WPoSZo4J7yKH"
      },
      "source": [
        "#### Right Outer Joins"
      ]
    },
    {
      "cell_type": "code",
      "metadata": {
        "id": "86tfqfYW7yKI",
        "colab": {
          "base_uri": "https://localhost:8080/",
          "height": 153
        },
        "outputId": "7dd0bd5b-e5c5-44bc-fa2f-761d7f71b4b7"
      },
      "source": [
        "joinType = \"right_outer\"\n",
        "person.join(graduateProgram, joinExpression, joinType).show()"
      ],
      "execution_count": null,
      "outputs": [
        {
          "output_type": "stream",
          "text": [
            "+---+-----------------+----------------+---------------+---+------+--------------------+--------------------+\n",
            "| id|             name|graduate_program|    role_status| id|degree|          department|              school|\n",
            "+---+-----------------+----------------+---------------+---+------+--------------------+--------------------+\n",
            "|  0|       Dr. Murthy|               0|     [250, 100]|  0|  Ph.D|School of Informa...|Carnegie Mellon U...|\n",
            "|  1|Dr. Sridhar Pappu|               1|[500, 250, 100]|  1|  Ph.D|The University of...|             El Paso|\n",
            "|  2|        Dr. Manoj|               2|          [100]|  2| Ph.D.|School of Informa...|Oklahoma State Un...|\n",
            "+---+-----------------+----------------+---------------+---+------+--------------------+--------------------+\n",
            "\n"
          ],
          "name": "stdout"
        }
      ]
    },
    {
      "cell_type": "code",
      "metadata": {
        "scrolled": true,
        "id": "5qK1sE9A7yKL",
        "colab": {
          "base_uri": "https://localhost:8080/",
          "height": 153
        },
        "outputId": "c88c24da-5385-4aac-ef72-e2d4a5976db0"
      },
      "source": [
        "spark.sql(\"\"\"SELECT * FROM personTbl RIGHT OUTER JOIN graduateProgramTbl\n",
        "  ON personTbl.graduate_program = graduateProgramTbl.id\"\"\").show()"
      ],
      "execution_count": null,
      "outputs": [
        {
          "output_type": "stream",
          "text": [
            "+---+-----------------+----------------+---------------+---+------+--------------------+--------------------+\n",
            "| id|             name|graduate_program|    role_status| id|degree|          department|              school|\n",
            "+---+-----------------+----------------+---------------+---+------+--------------------+--------------------+\n",
            "|  0|       Dr. Murthy|               0|     [250, 100]|  0|  Ph.D|School of Informa...|Carnegie Mellon U...|\n",
            "|  1|Dr. Sridhar Pappu|               1|[500, 250, 100]|  1|  Ph.D|The University of...|             El Paso|\n",
            "|  2|        Dr. Manoj|               2|          [100]|  2| Ph.D.|School of Informa...|Oklahoma State Un...|\n",
            "+---+-----------------+----------------+---------------+---+------+--------------------+--------------------+\n",
            "\n"
          ],
          "name": "stdout"
        }
      ]
    },
    {
      "cell_type": "markdown",
      "metadata": {
        "id": "xTui5K5m7yKQ"
      },
      "source": [
        "#### Natural Joins\n",
        "Natural joins make implicit guesses at the columns on which you would like to join. \n",
        "It finds matching columns and returns the results. \n",
        "Left, right, and outer natural joins are all supported.\n",
        "\n",
        "WARNING:\n",
        "Implicit is always dangerous! \n",
        "The following query will give us incorrect results because \n",
        "the two DataFrames/tables share a column name (id), but it means different things in the datasets. \n",
        "You should always use this join with caution."
      ]
    },
    {
      "cell_type": "code",
      "metadata": {
        "scrolled": true,
        "id": "O7dvwJSt7yKR",
        "colab": {
          "base_uri": "https://localhost:8080/",
          "height": 165
        },
        "outputId": "a1752673-d09a-4641-e06f-2b706365627c"
      },
      "source": [
        "spark.sql(\"\"\"SELECT * FROM graduateProgramTbl NATURAL JOIN personTbl\"\"\").show()"
      ],
      "execution_count": 1,
      "outputs": [
        {
          "output_type": "error",
          "ename": "NameError",
          "evalue": "ignored",
          "traceback": [
            "\u001b[0;31m---------------------------------------------------------------------------\u001b[0m",
            "\u001b[0;31mNameError\u001b[0m                                 Traceback (most recent call last)",
            "\u001b[0;32m<ipython-input-1-1a2d735e749c>\u001b[0m in \u001b[0;36m<module>\u001b[0;34m()\u001b[0m\n\u001b[0;32m----> 1\u001b[0;31m \u001b[0mspark\u001b[0m\u001b[0;34m.\u001b[0m\u001b[0msql\u001b[0m\u001b[0;34m(\u001b[0m\u001b[0;34m\"\"\"SELECT * FROM graduateProgramTbl NATURAL JOIN personTbl\"\"\"\u001b[0m\u001b[0;34m)\u001b[0m\u001b[0;34m.\u001b[0m\u001b[0mshow\u001b[0m\u001b[0;34m(\u001b[0m\u001b[0;34m)\u001b[0m\u001b[0;34m\u001b[0m\u001b[0;34m\u001b[0m\u001b[0m\n\u001b[0m",
            "\u001b[0;31mNameError\u001b[0m: name 'spark' is not defined"
          ]
        }
      ]
    },
    {
      "cell_type": "markdown",
      "metadata": {
        "id": "xDsHIxfs7yKS"
      },
      "source": [
        "#### Cross (Cartesian) Joins\n",
        "Cross-joins in simplest terms are inner joins that do not specify a predicate. \n",
        "Cross joins will join every single row in the left DataFrame to ever single row in the right DataFrame. \n",
        "This will cause an absolute explosion in the number of rows contained in the resulting DataFrame. \n",
        "If you have 1,000 rows in each DataFrame, the cross-join of these will result in 1,000,000 (1,000 x 1,000) rows. \n",
        "For this reason, you must very explicitly state that you want a cross-join by using the cross join keyword:"
      ]
    },
    {
      "cell_type": "code",
      "metadata": {
        "scrolled": true,
        "id": "dbTfnHNZ7yKT",
        "colab": {
          "base_uri": "https://localhost:8080/",
          "height": 153
        },
        "outputId": "5539ce92-e6c0-41dd-de86-1ff057101e56"
      },
      "source": [
        "joinType = \"cross\"\n",
        "graduateProgram.join(person, joinExpression, joinType).show()"
      ],
      "execution_count": null,
      "outputs": [
        {
          "output_type": "stream",
          "text": [
            "+---+------+--------------------+--------------------+---+-----------------+----------------+---------------+\n",
            "| id|degree|          department|              school| id|             name|graduate_program|    role_status|\n",
            "+---+------+--------------------+--------------------+---+-----------------+----------------+---------------+\n",
            "|  0|  Ph.D|School of Informa...|Carnegie Mellon U...|  0|       Dr. Murthy|               0|     [250, 100]|\n",
            "|  1|  Ph.D|The University of...|             El Paso|  1|Dr. Sridhar Pappu|               1|[500, 250, 100]|\n",
            "|  2| Ph.D.|School of Informa...|Oklahoma State Un...|  2|        Dr. Manoj|               2|          [100]|\n",
            "+---+------+--------------------+--------------------+---+-----------------+----------------+---------------+\n",
            "\n"
          ],
          "name": "stdout"
        }
      ]
    },
    {
      "cell_type": "code",
      "metadata": {
        "scrolled": true,
        "id": "i89sjyCR7yKU",
        "colab": {
          "base_uri": "https://localhost:8080/",
          "height": 153
        },
        "outputId": "f69390b5-a2d2-495e-d4e7-cc7fe2b290f3"
      },
      "source": [
        "spark.sql(\"\"\"SELECT * FROM graduateProgramTbl CROSS JOIN personTbl\n",
        "  ON graduateProgramTbl.id = personTbl.graduate_program\"\"\").show()"
      ],
      "execution_count": null,
      "outputs": [
        {
          "output_type": "stream",
          "text": [
            "+---+------+--------------------+--------------------+---+-----------------+----------------+---------------+\n",
            "| id|degree|          department|              school| id|             name|graduate_program|    role_status|\n",
            "+---+------+--------------------+--------------------+---+-----------------+----------------+---------------+\n",
            "|  0|  Ph.D|School of Informa...|Carnegie Mellon U...|  0|       Dr. Murthy|               0|     [250, 100]|\n",
            "|  1|  Ph.D|The University of...|             El Paso|  1|Dr. Sridhar Pappu|               1|[500, 250, 100]|\n",
            "|  2| Ph.D.|School of Informa...|Oklahoma State Un...|  2|        Dr. Manoj|               2|          [100]|\n",
            "+---+------+--------------------+--------------------+---+-----------------+----------------+---------------+\n",
            "\n"
          ],
          "name": "stdout"
        }
      ]
    },
    {
      "cell_type": "code",
      "metadata": {
        "id": "MFIV5iEz7yKW",
        "colab": {
          "base_uri": "https://localhost:8080/",
          "height": 255
        },
        "outputId": "dc38423d-8d5f-40ff-ce94-f4b3298a6efb"
      },
      "source": [
        "person.crossJoin(graduateProgram).show()"
      ],
      "execution_count": null,
      "outputs": [
        {
          "output_type": "stream",
          "text": [
            "+---+-----------------+----------------+---------------+---+------+--------------------+--------------------+\n",
            "| id|             name|graduate_program|    role_status| id|degree|          department|              school|\n",
            "+---+-----------------+----------------+---------------+---+------+--------------------+--------------------+\n",
            "|  0|       Dr. Murthy|               0|     [250, 100]|  0|  Ph.D|School of Informa...|Carnegie Mellon U...|\n",
            "|  0|       Dr. Murthy|               0|     [250, 100]|  1|  Ph.D|The University of...|             El Paso|\n",
            "|  0|       Dr. Murthy|               0|     [250, 100]|  2| Ph.D.|School of Informa...|Oklahoma State Un...|\n",
            "|  1|Dr. Sridhar Pappu|               1|[500, 250, 100]|  0|  Ph.D|School of Informa...|Carnegie Mellon U...|\n",
            "|  2|        Dr. Manoj|               2|          [100]|  0|  Ph.D|School of Informa...|Carnegie Mellon U...|\n",
            "|  1|Dr. Sridhar Pappu|               1|[500, 250, 100]|  1|  Ph.D|The University of...|             El Paso|\n",
            "|  1|Dr. Sridhar Pappu|               1|[500, 250, 100]|  2| Ph.D.|School of Informa...|Oklahoma State Un...|\n",
            "|  2|        Dr. Manoj|               2|          [100]|  1|  Ph.D|The University of...|             El Paso|\n",
            "|  2|        Dr. Manoj|               2|          [100]|  2| Ph.D.|School of Informa...|Oklahoma State Un...|\n",
            "+---+-----------------+----------------+---------------+---+------+--------------------+--------------------+\n",
            "\n"
          ],
          "name": "stdout"
        }
      ]
    },
    {
      "cell_type": "code",
      "metadata": {
        "scrolled": true,
        "id": "6pq7GFXN7yKX",
        "colab": {
          "base_uri": "https://localhost:8080/",
          "height": 255
        },
        "outputId": "ee079a12-6c27-4ad9-a053-b5937dbaa694"
      },
      "source": [
        "spark.sql(\"\"\"SELECT * FROM graduateProgramTbl CROSS JOIN personTbl\"\"\").show()"
      ],
      "execution_count": null,
      "outputs": [
        {
          "output_type": "stream",
          "text": [
            "+---+------+--------------------+--------------------+---+-----------------+----------------+---------------+\n",
            "| id|degree|          department|              school| id|             name|graduate_program|    role_status|\n",
            "+---+------+--------------------+--------------------+---+-----------------+----------------+---------------+\n",
            "|  0|  Ph.D|School of Informa...|Carnegie Mellon U...|  0|       Dr. Murthy|               0|     [250, 100]|\n",
            "|  0|  Ph.D|School of Informa...|Carnegie Mellon U...|  1|Dr. Sridhar Pappu|               1|[500, 250, 100]|\n",
            "|  0|  Ph.D|School of Informa...|Carnegie Mellon U...|  2|        Dr. Manoj|               2|          [100]|\n",
            "|  1|  Ph.D|The University of...|             El Paso|  0|       Dr. Murthy|               0|     [250, 100]|\n",
            "|  2| Ph.D.|School of Informa...|Oklahoma State Un...|  0|       Dr. Murthy|               0|     [250, 100]|\n",
            "|  1|  Ph.D|The University of...|             El Paso|  1|Dr. Sridhar Pappu|               1|[500, 250, 100]|\n",
            "|  1|  Ph.D|The University of...|             El Paso|  2|        Dr. Manoj|               2|          [100]|\n",
            "|  2| Ph.D.|School of Informa...|Oklahoma State Un...|  1|Dr. Sridhar Pappu|               1|[500, 250, 100]|\n",
            "|  2| Ph.D.|School of Informa...|Oklahoma State Un...|  2|        Dr. Manoj|               2|          [100]|\n",
            "+---+------+--------------------+--------------------+---+-----------------+----------------+---------------+\n",
            "\n"
          ],
          "name": "stdout"
        }
      ]
    },
    {
      "cell_type": "markdown",
      "metadata": {
        "id": "E8CnwjVb7yKY"
      },
      "source": [
        "#### Joins on Complex Types"
      ]
    },
    {
      "cell_type": "code",
      "metadata": {
        "id": "8oPQOHq47yKZ",
        "colab": {
          "base_uri": "https://localhost:8080/",
          "height": 153
        },
        "outputId": "cf5ef5b6-20ed-494b-fecf-fc652d570a9b"
      },
      "source": [
        "person.show()"
      ],
      "execution_count": null,
      "outputs": [
        {
          "output_type": "stream",
          "text": [
            "+---+-----------------+----------------+---------------+\n",
            "| id|             name|graduate_program|    role_status|\n",
            "+---+-----------------+----------------+---------------+\n",
            "|  0|       Dr. Murthy|               0|     [250, 100]|\n",
            "|  1|Dr. Sridhar Pappu|               1|[500, 250, 100]|\n",
            "|  2|        Dr. Manoj|               2|          [100]|\n",
            "+---+-----------------+----------------+---------------+\n",
            "\n"
          ],
          "name": "stdout"
        }
      ]
    },
    {
      "cell_type": "code",
      "metadata": {
        "id": "mIwcb-sJ7yKb",
        "colab": {
          "base_uri": "https://localhost:8080/",
          "height": 153
        },
        "outputId": "cfeaefc6-79e6-4556-9f32-da31f07f8dc9"
      },
      "source": [
        "roleStatus.show()"
      ],
      "execution_count": null,
      "outputs": [
        {
          "output_type": "stream",
          "text": [
            "+---+---------+\n",
            "| id|   status|\n",
            "+---+---------+\n",
            "|500|President|\n",
            "|250|  Founder|\n",
            "|100|   Mentor|\n",
            "+---+---------+\n",
            "\n"
          ],
          "name": "stdout"
        }
      ]
    },
    {
      "cell_type": "code",
      "metadata": {
        "scrolled": true,
        "id": "Lhqr3SBU7yKd",
        "colab": {
          "base_uri": "https://localhost:8080/",
          "height": 204
        },
        "outputId": "322e6385-71bf-4045-b7e7-d1ffeea85af6"
      },
      "source": [
        "from pyspark.sql.functions import expr\n",
        "\n",
        "person.withColumnRenamed(\"id\", \"personId\")\\\n",
        "  .join(roleStatus, expr(\"array_contains(role_status, id)\")).show()"
      ],
      "execution_count": null,
      "outputs": [
        {
          "output_type": "stream",
          "text": [
            "+--------+-----------------+----------------+---------------+---+---------+\n",
            "|personId|             name|graduate_program|    role_status| id|   status|\n",
            "+--------+-----------------+----------------+---------------+---+---------+\n",
            "|       0|       Dr. Murthy|               0|     [250, 100]|250|  Founder|\n",
            "|       0|       Dr. Murthy|               0|     [250, 100]|100|   Mentor|\n",
            "|       1|Dr. Sridhar Pappu|               1|[500, 250, 100]|500|President|\n",
            "|       1|Dr. Sridhar Pappu|               1|[500, 250, 100]|250|  Founder|\n",
            "|       1|Dr. Sridhar Pappu|               1|[500, 250, 100]|100|   Mentor|\n",
            "|       2|        Dr. Manoj|               2|          [100]|100|   Mentor|\n",
            "+--------+-----------------+----------------+---------------+---+---------+\n",
            "\n"
          ],
          "name": "stdout"
        }
      ]
    },
    {
      "cell_type": "code",
      "metadata": {
        "id": "lK-xBvvP7yKe",
        "colab": {
          "base_uri": "https://localhost:8080/",
          "height": 204
        },
        "outputId": "3c2c5300-c2f1-4324-d967-ad7ee8a451d8"
      },
      "source": [
        "spark.sql(\"\"\"SELECT * FROM\n",
        "  (select id as personId, name, graduate_program, role_status FROM personTbl)\n",
        "  INNER JOIN roleStatusTbl ON array_contains(role_status, id)\n",
        "\"\"\").show()"
      ],
      "execution_count": null,
      "outputs": [
        {
          "output_type": "stream",
          "text": [
            "+--------+-----------------+----------------+---------------+---+---------+\n",
            "|personId|             name|graduate_program|    role_status| id|   status|\n",
            "+--------+-----------------+----------------+---------------+---+---------+\n",
            "|       0|       Dr. Murthy|               0|     [250, 100]|250|  Founder|\n",
            "|       0|       Dr. Murthy|               0|     [250, 100]|100|   Mentor|\n",
            "|       1|Dr. Sridhar Pappu|               1|[500, 250, 100]|500|President|\n",
            "|       1|Dr. Sridhar Pappu|               1|[500, 250, 100]|250|  Founder|\n",
            "|       1|Dr. Sridhar Pappu|               1|[500, 250, 100]|100|   Mentor|\n",
            "|       2|        Dr. Manoj|               2|          [100]|100|   Mentor|\n",
            "+--------+-----------------+----------------+---------------+---+---------+\n",
            "\n"
          ],
          "name": "stdout"
        }
      ]
    },
    {
      "cell_type": "code",
      "metadata": {
        "id": "Vv_7l4GX7yKg"
      },
      "source": [
        "person = spark.createDataFrame([\n",
        "    (0, \"Dr. Murthy\", 0, [250, 100]),\n",
        "    (1, \"Dr. Sridhar Pappu\", 1, [500, 250, 100]),\n",
        "    (2, \"Dr. Manoj\", 2, [100])])\\\n",
        "  .toDF(\"id\", \"name\", \"graduate_program_id\", \"role_status_code\")\n",
        "graduateProgram = spark.createDataFrame([\n",
        "    (0, \"Ph.D\", \"School of Information\", \"Carnegie Mellon University\"),\n",
        "    (1, \"Ph.D\", \"The University of Texas\", \"El Paso\"),\n",
        "    (2, \"Ph.D.\", \"School of Information\", \"Oklahoma State University\")])\\\n",
        "  .toDF(\"graduate_program_id\", \"degree\", \"department\", \"school\")\n",
        "roleStatus = spark.createDataFrame([\n",
        "    (500, \"President\"),\n",
        "    (250, \"Founder\"),\n",
        "    (100, \"Mentor\")])\\\n",
        "  .toDF(\"role_status_code\", \"status\")"
      ],
      "execution_count": null,
      "outputs": []
    },
    {
      "cell_type": "code",
      "metadata": {
        "id": "mUaCeSp87yKh",
        "colab": {
          "base_uri": "https://localhost:8080/",
          "height": 153
        },
        "outputId": "89184fdf-b8eb-4a35-d670-8ca524bb1882"
      },
      "source": [
        "person.show()"
      ],
      "execution_count": null,
      "outputs": [
        {
          "output_type": "stream",
          "text": [
            "+---+-----------------+-------------------+----------------+\n",
            "| id|             name|graduate_program_id|role_status_code|\n",
            "+---+-----------------+-------------------+----------------+\n",
            "|  0|       Dr. Murthy|                  0|      [250, 100]|\n",
            "|  1|Dr. Sridhar Pappu|                  1| [500, 250, 100]|\n",
            "|  2|        Dr. Manoj|                  2|           [100]|\n",
            "+---+-----------------+-------------------+----------------+\n",
            "\n"
          ],
          "name": "stdout"
        }
      ]
    },
    {
      "cell_type": "code",
      "metadata": {
        "id": "3Z9xvl8s7yKi",
        "colab": {
          "base_uri": "https://localhost:8080/",
          "height": 153
        },
        "outputId": "1c7ec025-041b-4831-d9bb-4ad6ebdf79b3"
      },
      "source": [
        "graduateProgram.show()"
      ],
      "execution_count": null,
      "outputs": [
        {
          "output_type": "stream",
          "text": [
            "+-------------------+------+--------------------+--------------------+\n",
            "|graduate_program_id|degree|          department|              school|\n",
            "+-------------------+------+--------------------+--------------------+\n",
            "|                  0|  Ph.D|School of Informa...|Carnegie Mellon U...|\n",
            "|                  1|  Ph.D|The University of...|             El Paso|\n",
            "|                  2| Ph.D.|School of Informa...|Oklahoma State Un...|\n",
            "+-------------------+------+--------------------+--------------------+\n",
            "\n"
          ],
          "name": "stdout"
        }
      ]
    },
    {
      "cell_type": "code",
      "metadata": {
        "id": "4KpR7S087yKj",
        "colab": {
          "base_uri": "https://localhost:8080/",
          "height": 153
        },
        "outputId": "3647c736-c72f-435a-f75c-379f85588512"
      },
      "source": [
        "roleStatus.show()"
      ],
      "execution_count": null,
      "outputs": [
        {
          "output_type": "stream",
          "text": [
            "+----------------+---------+\n",
            "|role_status_code|   status|\n",
            "+----------------+---------+\n",
            "|             500|President|\n",
            "|             250|  Founder|\n",
            "|             100|   Mentor|\n",
            "+----------------+---------+\n",
            "\n"
          ],
          "name": "stdout"
        }
      ]
    },
    {
      "cell_type": "code",
      "metadata": {
        "id": "jCf0G_sA7yKk",
        "colab": {
          "base_uri": "https://localhost:8080/",
          "height": 153
        },
        "outputId": "5218c857-115a-4d5f-f5a2-fd93b39db685"
      },
      "source": [
        "df = person.join(graduateProgram, \"graduate_program_id\")\n",
        "df.show()"
      ],
      "execution_count": null,
      "outputs": [
        {
          "output_type": "stream",
          "text": [
            "+-------------------+---+-----------------+----------------+------+--------------------+--------------------+\n",
            "|graduate_program_id| id|             name|role_status_code|degree|          department|              school|\n",
            "+-------------------+---+-----------------+----------------+------+--------------------+--------------------+\n",
            "|                  0|  0|       Dr. Murthy|      [250, 100]|  Ph.D|School of Informa...|Carnegie Mellon U...|\n",
            "|                  1|  1|Dr. Sridhar Pappu| [500, 250, 100]|  Ph.D|The University of...|             El Paso|\n",
            "|                  2|  2|        Dr. Manoj|           [100]| Ph.D.|School of Informa...|Oklahoma State Un...|\n",
            "+-------------------+---+-----------------+----------------+------+--------------------+--------------------+\n",
            "\n"
          ],
          "name": "stdout"
        }
      ]
    },
    {
      "cell_type": "code",
      "metadata": {
        "id": "GiCdY3es7yKl",
        "colab": {
          "base_uri": "https://localhost:8080/",
          "height": 153
        },
        "outputId": "da05ccd5-1964-4ac9-80a4-661e4773a546"
      },
      "source": [
        "df = person.join(graduateProgram, [\"graduate_program_id\"])\n",
        "df.show()"
      ],
      "execution_count": null,
      "outputs": [
        {
          "output_type": "stream",
          "text": [
            "+-------------------+---+-----------------+----------------+------+--------------------+--------------------+\n",
            "|graduate_program_id| id|             name|role_status_code|degree|          department|              school|\n",
            "+-------------------+---+-----------------+----------------+------+--------------------+--------------------+\n",
            "|                  0|  0|       Dr. Murthy|      [250, 100]|  Ph.D|School of Informa...|Carnegie Mellon U...|\n",
            "|                  1|  1|Dr. Sridhar Pappu| [500, 250, 100]|  Ph.D|The University of...|             El Paso|\n",
            "|                  2|  2|        Dr. Manoj|           [100]| Ph.D.|School of Informa...|Oklahoma State Un...|\n",
            "+-------------------+---+-----------------+----------------+------+--------------------+--------------------+\n",
            "\n"
          ],
          "name": "stdout"
        }
      ]
    },
    {
      "cell_type": "markdown",
      "metadata": {
        "id": "lIBMOPpQ7yKn"
      },
      "source": [
        "#### Random Samples"
      ]
    },
    {
      "cell_type": "code",
      "metadata": {
        "id": "Bl3e_2j47yKn",
        "colab": {
          "base_uri": "https://localhost:8080/",
          "height": 34
        },
        "outputId": "e5729b6c-a7d1-42e8-ad2e-baa1e8d2f110"
      },
      "source": [
        "trainDF.count()"
      ],
      "execution_count": null,
      "outputs": [
        {
          "output_type": "execute_result",
          "data": {
            "text/plain": [
              "550068"
            ]
          },
          "metadata": {
            "tags": []
          },
          "execution_count": 146
        }
      ]
    },
    {
      "cell_type": "code",
      "metadata": {
        "id": "nJ9IwWSe7yKp",
        "colab": {
          "base_uri": "https://localhost:8080/",
          "height": 34
        },
        "outputId": "f671cb4d-904b-49f3-f055-d71f6f71c95e"
      },
      "source": [
        "## To create a sample DataFrame from the base DataFrame\n",
        "## Use sample operation to take sample of a DataFrame. \n",
        "## The sample method on DataFrame will return a DataFrame containing the sample of base DataFrame. \n",
        "## The sample method takes 3 parameters.\n",
        "## withReplacement = True or False to select a observation with or without replacement.\n",
        "## fraction = x, where x = .5 shows that we want to have 50% data in sample DataFrame.\n",
        "## seed to reproduce the result\n",
        "sampleDF1 = trainDF.sample(False, 0.2, 1234)\n",
        "sampleDF2 = trainDF.sample(False, 0.2, 4321)\n",
        "print(sampleDF1.count(), sampleDF2.count())"
      ],
      "execution_count": null,
      "outputs": [
        {
          "output_type": "stream",
          "text": [
            "110354 109752\n"
          ],
          "name": "stdout"
        }
      ]
    },
    {
      "cell_type": "markdown",
      "metadata": {
        "id": "vifBHqVU7yKq"
      },
      "source": [
        "#### Random Splits"
      ]
    },
    {
      "cell_type": "code",
      "metadata": {
        "id": "m1XLro137yKq",
        "colab": {
          "base_uri": "https://localhost:8080/",
          "height": 51
        },
        "outputId": "fd40bacd-3095-4462-c25d-5ba7b74ce329"
      },
      "source": [
        "splitDF = trainDF.randomSplit([0.7, 0.3], seed=1234)\n",
        "print(splitDF[0].count())\n",
        "print(splitDF[1].count())"
      ],
      "execution_count": null,
      "outputs": [
        {
          "output_type": "stream",
          "text": [
            "385465\n",
            "164603\n"
          ],
          "name": "stdout"
        }
      ]
    },
    {
      "cell_type": "code",
      "metadata": {
        "id": "4bIqCDIP7yKr",
        "colab": {
          "base_uri": "https://localhost:8080/",
          "height": 190
        },
        "outputId": "d3b8d1ec-b9ac-4000-d128-049379285a65"
      },
      "source": [
        "splitDF[0].show(3)"
      ],
      "execution_count": null,
      "outputs": [
        {
          "output_type": "stream",
          "text": [
            "+-------+----------+------+----+----------+-------------+--------------------------+--------------+------------------+------------------+------------------+--------+\n",
            "|User_ID|Product_ID|Gender| Age|Occupation|City_Category|Stay_In_Current_City_Years|Marital_Status|Product_Category_1|Product_Category_2|Product_Category_3|Purchase|\n",
            "+-------+----------+------+----+----------+-------------+--------------------------+--------------+------------------+------------------+------------------+--------+\n",
            "|1000001| P00051842|     F|0-17|        10|            A|                         2|             0|                 4|                 8|              null|    2849|\n",
            "|1000001| P00059442|     F|0-17|        10|            A|                         2|             0|                 6|                 8|                16|   16622|\n",
            "|1000001| P00069042|     F|0-17|        10|            A|                         2|             0|                 3|              null|              null|    8370|\n",
            "+-------+----------+------+----+----------+-------------+--------------------------+--------------+------------------+------------------+------------------+--------+\n",
            "only showing top 3 rows\n",
            "\n"
          ],
          "name": "stdout"
        }
      ]
    },
    {
      "cell_type": "markdown",
      "metadata": {
        "id": "WdLdKgUJ7yKs"
      },
      "source": [
        "#### Map Transformation"
      ]
    },
    {
      "cell_type": "code",
      "metadata": {
        "scrolled": true,
        "id": "jidEXo5w7yKt",
        "colab": {
          "base_uri": "https://localhost:8080/",
          "height": 102
        },
        "outputId": "0822893a-890b-41ba-a1c7-e0a2df12a025"
      },
      "source": [
        "## To apply map operation on DataFrame columns\n",
        "## Apply a function on each row of DataFrame using map operation. \n",
        "## After applying this function, we get the result in the form of RDD. \n",
        "## Apply a map operation on User_ID column of train and print the first 5 elements of mapped RDD(x,1) \n",
        "## ----- Applying lambda function.\n",
        "\n",
        "trainDF.select('User_ID').rdd.map(lambda x:(x,1)).take(5)"
      ],
      "execution_count": null,
      "outputs": [
        {
          "output_type": "execute_result",
          "data": {
            "text/plain": [
              "[(Row(User_ID=1000001), 1),\n",
              " (Row(User_ID=1000001), 1),\n",
              " (Row(User_ID=1000001), 1),\n",
              " (Row(User_ID=1000001), 1),\n",
              " (Row(User_ID=1000002), 1)]"
            ]
          },
          "metadata": {
            "tags": []
          },
          "execution_count": 15
        }
      ]
    },
    {
      "cell_type": "markdown",
      "metadata": {
        "id": "lSlsmVvH7yKu"
      },
      "source": [
        "*__Prior to Spark 2.0, spark_df.map would alias to spark_df.rdd.map(). \n",
        "With Spark 2.0, you must explicitly call .rdd first.__*"
      ]
    },
    {
      "cell_type": "markdown",
      "metadata": {
        "id": "8wMITlcy7yKu"
      },
      "source": [
        "#### Sorting Rows"
      ]
    },
    {
      "cell_type": "code",
      "metadata": {
        "scrolled": true,
        "id": "uX-gXiCs7yKu",
        "colab": {
          "base_uri": "https://localhost:8080/",
          "height": 224
        },
        "outputId": "91085a88-c152-45a3-ca84-ec4f57c3117c"
      },
      "source": [
        "## To sort the DataFrame based on column(s)\n",
        "## Use orderBy operation on DataFrame to get sorted output based on some column. \n",
        "## The orderBy operation take two arguments.\n",
        "## List of columns.\n",
        "## ascending = True or False for getting the results in ascending or descending order(list in case of more than two columns )\n",
        "## Sort the train DataFrame based on ‘Purchase’.\n",
        "trainDF.orderBy(trainDF.Purchase.desc()).show(5)"
      ],
      "execution_count": null,
      "outputs": [
        {
          "output_type": "stream",
          "text": [
            "+-------+----------+------+-----+----------+-------------+--------------------------+--------------+------------------+------------------+------------------+--------+\n",
            "|User_ID|Product_ID|Gender|  Age|Occupation|City_Category|Stay_In_Current_City_Years|Marital_Status|Product_Category_1|Product_Category_2|Product_Category_3|Purchase|\n",
            "+-------+----------+------+-----+----------+-------------+--------------------------+--------------+------------------+------------------+------------------+--------+\n",
            "|1003160| P00052842|     M|26-35|        17|            C|                         3|             0|                10|                15|              null|   23961|\n",
            "|1002272| P00052842|     M|26-35|         0|            C|                         1|             0|                10|                15|              null|   23961|\n",
            "|1001474| P00052842|     M|26-35|         4|            A|                         2|             1|                10|                15|              null|   23961|\n",
            "|1003045| P00052842|     M|46-50|         1|            B|                         2|             1|                10|                15|              null|   23960|\n",
            "|1005596| P00117642|     M|36-45|        12|            B|                         1|             0|                10|                16|              null|   23960|\n",
            "+-------+----------+------+-----+----------+-------------+--------------------------+--------------+------------------+------------------+------------------+--------+\n",
            "only showing top 5 rows\n",
            "\n"
          ],
          "name": "stdout"
        }
      ]
    },
    {
      "cell_type": "markdown",
      "metadata": {
        "id": "YqZdyzCb7yKw"
      },
      "source": [
        "#### Repartition and Coalesce\n",
        "Another important optimization opportunity is to partition the data according to some frequently filtered columns\n",
        "which controls the physical layout of data across the cluster including the partitioning scheme and the number of\n",
        "partitions.\n",
        "\n",
        "Repartition will incur a full shuffle of the data, regardless of whether or not one is necessary. This means that you should typically only repartition when the future number of partitions is greater than your current number of\n",
        "partitions or when you are looking to partition by a set of columns."
      ]
    },
    {
      "cell_type": "code",
      "metadata": {
        "id": "MbboAvG87yKw",
        "colab": {
          "base_uri": "https://localhost:8080/",
          "height": 34
        },
        "outputId": "d2aeb010-c439-40d5-85e0-dcbdd9e01d19"
      },
      "source": [
        "## Find existing partitions count\n",
        "trainDF.rdd.getNumPartitions()\n",
        "## Do the repartition\n",
        "## trainDF.repartition(5)\n",
        "\n",
        "## Repartition based on a column\n",
        "## If we know we are going to be filtering by a certain column often, \n",
        "## it can be worth repartitioning based on that column.\n",
        "## trainDF.repartition(col(“Purchase”))\n",
        "\n",
        "## We can optionally specify the number of partitions we would like too.\n",
        "## trainDF.repartition(5, col(“Purchase”))\n",
        "\n",
        "## Coalesce on the other hand will not incur a full shuffle and will try to combine partitions. \n",
        "## This operation will shuffle our data into 5 partitions based on the Purchase, \n",
        "## then coalesce them (without a full shuffle).\n",
        "## trainDF.repartition(5, col(\"Purchase\")).coalesce(2)"
      ],
      "execution_count": null,
      "outputs": [
        {
          "output_type": "execute_result",
          "data": {
            "text/plain": [
              "2"
            ]
          },
          "metadata": {
            "tags": []
          },
          "execution_count": 17
        }
      ]
    },
    {
      "cell_type": "markdown",
      "metadata": {
        "id": "Cvj649qn7yKx"
      },
      "source": [
        "## Miscellaneous"
      ]
    },
    {
      "cell_type": "markdown",
      "metadata": {
        "id": "bYcH0I8a7yKx"
      },
      "source": [
        "#### Unions"
      ]
    },
    {
      "cell_type": "code",
      "metadata": {
        "id": "SQp5dIuE7yKy",
        "colab": {
          "base_uri": "https://localhost:8080/",
          "height": 816
        },
        "outputId": "1532de96-52c8-46db-d0e8-fd01e79054c4"
      },
      "source": [
        "df1 = spark.createDataFrame([[1, 'Alex', 25],[3, 'Carol', 53],[5, 'Emily', 25],[7, 'Gabriel', 32],[9, 'Ilma', 35],[11, 'Kim', 45]], ['id', 'name', 'age'])\n",
        "df2 = spark.createDataFrame([[2, 'Ben', 66],[4, 'Daniel', 28],[6, 'Frank', 64],[8, 'Harley', 29],[10, 'Jack', 35],[12, 'Litmya', 45]], ['id', 'name', 'age'])\n",
        "print(\"Before\")\n",
        "print(\"DataFrame-1\")\n",
        "print(df1.show())\n",
        "print(\"DataFrame-2\")\n",
        "print(df2.show())\n",
        "print(\"After\")\n",
        "df1 = df1.union(df2)\n",
        "print(\"DataFrame-1\")\n",
        "print(df1.show())"
      ],
      "execution_count": null,
      "outputs": [
        {
          "output_type": "stream",
          "text": [
            "Before\n",
            "DataFrame-1\n",
            "+---+-------+---+\n",
            "| id|   name|age|\n",
            "+---+-------+---+\n",
            "|  1|   Alex| 25|\n",
            "|  3|  Carol| 53|\n",
            "|  5|  Emily| 25|\n",
            "|  7|Gabriel| 32|\n",
            "|  9|   Ilma| 35|\n",
            "| 11|    Kim| 45|\n",
            "+---+-------+---+\n",
            "\n",
            "None\n",
            "DataFrame-2\n",
            "+---+------+---+\n",
            "| id|  name|age|\n",
            "+---+------+---+\n",
            "|  2|   Ben| 66|\n",
            "|  4|Daniel| 28|\n",
            "|  6| Frank| 64|\n",
            "|  8|Harley| 29|\n",
            "| 10|  Jack| 35|\n",
            "| 12|Litmya| 45|\n",
            "+---+------+---+\n",
            "\n",
            "None\n",
            "After\n",
            "DataFrame-1\n",
            "+---+-------+---+\n",
            "| id|   name|age|\n",
            "+---+-------+---+\n",
            "|  1|   Alex| 25|\n",
            "|  3|  Carol| 53|\n",
            "|  5|  Emily| 25|\n",
            "|  7|Gabriel| 32|\n",
            "|  9|   Ilma| 35|\n",
            "| 11|    Kim| 45|\n",
            "|  2|    Ben| 66|\n",
            "|  4| Daniel| 28|\n",
            "|  6|  Frank| 64|\n",
            "|  8| Harley| 29|\n",
            "| 10|   Jack| 35|\n",
            "| 12| Litmya| 45|\n",
            "+---+-------+---+\n",
            "\n",
            "None\n"
          ],
          "name": "stdout"
        }
      ]
    },
    {
      "cell_type": "markdown",
      "metadata": {
        "id": "F_BmauZC7yKz"
      },
      "source": [
        "#### Unions and condtional append"
      ]
    },
    {
      "cell_type": "code",
      "metadata": {
        "id": "pDMwaDuv7yKz",
        "colab": {
          "base_uri": "https://localhost:8080/",
          "height": 340
        },
        "outputId": "0130c841-15e7-4bfc-a9ea-eb342441bf00"
      },
      "source": [
        "df1.union(df2).where(\"age < 60\").show()"
      ],
      "execution_count": null,
      "outputs": [
        {
          "output_type": "stream",
          "text": [
            "+---+-------+---+\n",
            "| id|   name|age|\n",
            "+---+-------+---+\n",
            "|  1|   Alex| 25|\n",
            "|  3|  Carol| 53|\n",
            "|  5|  Emily| 25|\n",
            "|  7|Gabriel| 32|\n",
            "|  9|   Ilma| 35|\n",
            "| 11|    Kim| 45|\n",
            "|  4| Daniel| 28|\n",
            "|  8| Harley| 29|\n",
            "| 10|   Jack| 35|\n",
            "| 12| Litmya| 45|\n",
            "|  4| Daniel| 28|\n",
            "|  8| Harley| 29|\n",
            "| 10|   Jack| 35|\n",
            "| 12| Litmya| 45|\n",
            "+---+-------+---+\n",
            "\n"
          ],
          "name": "stdout"
        }
      ]
    },
    {
      "cell_type": "code",
      "metadata": {
        "id": "qFXlzPK-WwuG",
        "colab": {
          "base_uri": "https://localhost:8080/",
          "height": 54
        },
        "outputId": "957cb2bc-28bc-49d8-c330-23e9553dda81"
      },
      "source": [
        "trainDF.withColumn('Purchase_new1', trainDF.Purchase /2.0)"
      ],
      "execution_count": null,
      "outputs": [
        {
          "output_type": "execute_result",
          "data": {
            "text/plain": [
              "DataFrame[User_ID: int, Product_ID: string, Gender: string, Age: string, Occupation: int, City_Category: string, Stay_In_Current_City_Years: string, Marital_Status: int, Product_Category_1: int, Product_Category_2: int, Product_Category_3: int, Purchase: int, Purchase_new1: double]"
            ]
          },
          "metadata": {
            "tags": []
          },
          "execution_count": 21
        }
      ]
    },
    {
      "cell_type": "code",
      "metadata": {
        "id": "J2ioV4rUW0ZF",
        "colab": {
          "base_uri": "https://localhost:8080/",
          "height": 190
        },
        "outputId": "f5444f09-3de9-4544-8c36-2c478b828e54"
      },
      "source": [
        "trainDF.show(3)"
      ],
      "execution_count": null,
      "outputs": [
        {
          "output_type": "stream",
          "text": [
            "+-------+----------+------+----+----------+-------------+--------------------------+--------------+------------------+------------------+------------------+--------+\n",
            "|User_ID|Product_ID|Gender| Age|Occupation|City_Category|Stay_In_Current_City_Years|Marital_Status|Product_Category_1|Product_Category_2|Product_Category_3|Purchase|\n",
            "+-------+----------+------+----+----------+-------------+--------------------------+--------------+------------------+------------------+------------------+--------+\n",
            "|1000001| P00069042|     F|0-17|        10|            A|                         2|             0|                 3|              null|              null|    8370|\n",
            "|1000001| P00248942|     F|0-17|        10|            A|                         2|             0|                 1|                 6|                14|   15200|\n",
            "|1000001| P00087842|     F|0-17|        10|            A|                         2|             0|                12|              null|              null|    1422|\n",
            "+-------+----------+------+----+----------+-------------+--------------------------+--------------+------------------+------------------+------------------+--------+\n",
            "only showing top 3 rows\n",
            "\n"
          ],
          "name": "stdout"
        }
      ]
    },
    {
      "cell_type": "code",
      "metadata": {
        "id": "0WWwkiAm7yK0",
        "colab": {
          "base_uri": "https://localhost:8080/",
          "height": 204
        },
        "outputId": "236200cb-c750-484c-f3c2-0392659f199c"
      },
      "source": [
        "## To add the new column in DataFrame\n",
        "## Use withColumn operation to add new column (we can also replace) in base DataFrame and return a new DataFrame. \n",
        "## The withColumn operation will take 2 parameters.\n",
        "## Column name to be added /replaced.\n",
        "## Expression on column.\n",
        "\n",
        "## Derive new column, ‘Purchase_new’ in train which is calculated by dviding Purchase column by 2.\n",
        "\n",
        "trainDF.withColumn('Purchase_new', trainDF.Purchase /2.0).select('Purchase','Purchase_new').show(5)"
      ],
      "execution_count": null,
      "outputs": [
        {
          "output_type": "stream",
          "text": [
            "+--------+------------+\n",
            "|Purchase|Purchase_new|\n",
            "+--------+------------+\n",
            "|    8370|      4185.0|\n",
            "|   15200|      7600.0|\n",
            "|    1422|       711.0|\n",
            "|    1057|       528.5|\n",
            "|    7969|      3984.5|\n",
            "+--------+------------+\n",
            "only showing top 5 rows\n",
            "\n"
          ],
          "name": "stdout"
        }
      ]
    },
    {
      "cell_type": "code",
      "metadata": {
        "id": "O0EMRYoR7yK7",
        "colab": {
          "base_uri": "https://localhost:8080/",
          "height": 204
        },
        "outputId": "7c8c7ad4-0076-462f-cf2f-f2c77b25a4f3"
      },
      "source": [
        "## To drop a column in DataFrame\n",
        "## To drop a column from the DataFrame use drop operation. \n",
        "## Drop the column called ‘Comb’ from the test and get the remaining columns in test dataframe\n",
        "testDF.drop('Comb').columns"
      ],
      "execution_count": null,
      "outputs": [
        {
          "output_type": "execute_result",
          "data": {
            "text/plain": [
              "['User_ID',\n",
              " 'Product_ID',\n",
              " 'Gender',\n",
              " 'Age',\n",
              " 'Occupation',\n",
              " 'City_Category',\n",
              " 'Stay_In_Current_City_Years',\n",
              " 'Marital_Status',\n",
              " 'Product_Category_1',\n",
              " 'Product_Category_2',\n",
              " 'Product_Category_3']"
            ]
          },
          "metadata": {
            "tags": []
          },
          "execution_count": 24
        }
      ]
    },
    {
      "cell_type": "code",
      "metadata": {
        "id": "5KUEKqE77yK_",
        "colab": {
          "base_uri": "https://localhost:8080/",
          "height": 34
        },
        "outputId": "ae341025-2e37-41a9-9bff-0b753b6e8538"
      },
      "source": [
        "## To remove some categories of Product_ID column in test that are not present in Product_ID column in train\n",
        "## Use an user defined function ( udf ) to remove the categories of a column which are in test but not in train.\n",
        "## Calculate the categories in Product_ID column which are in test but not in train.\n",
        "diff_cat_in_train_test=testDF.select('Product_ID').subtract(trainDF.select('Product_ID'))\n",
        "diff_cat_in_train_test.count() # For distict count"
      ],
      "execution_count": null,
      "outputs": [
        {
          "output_type": "execute_result",
          "data": {
            "text/plain": [
              "46"
            ]
          },
          "metadata": {
            "tags": []
          },
          "execution_count": 25
        }
      ]
    },
    {
      "cell_type": "code",
      "metadata": {
        "id": "lnHxSAfa7yLA",
        "colab": {
          "base_uri": "https://localhost:8080/",
          "height": 153
        },
        "outputId": "ede86fa1-bd54-4fd0-9460-4d7c90723e28"
      },
      "source": [
        "diff_cat_in_train_test.show(2)"
      ],
      "execution_count": null,
      "outputs": [
        {
          "output_type": "stream",
          "text": [
            "+----------+\n",
            "|Product_ID|\n",
            "+----------+\n",
            "| P00322642|\n",
            "| P00300142|\n",
            "+----------+\n",
            "only showing top 2 rows\n",
            "\n"
          ],
          "name": "stdout"
        }
      ]
    },
    {
      "cell_type": "code",
      "metadata": {
        "scrolled": true,
        "id": "fZXG-POp7yLB",
        "colab": {
          "base_uri": "https://localhost:8080/",
          "height": 88
        },
        "outputId": "79231bce-6d0b-4c10-f2c9-092e011f6af3"
      },
      "source": [
        "## There are 46 different categories in test. \n",
        "## To remove these categories from the test ‘Product_ID’ column.\n",
        "\n",
        "## Create the distinct list of categories called ‘not_found_cat’ from the diff_cat_in_train_test using map operation.\n",
        "## Register a udf(user define function).\n",
        "## User defined function will take each element of test column and search this in not_found_cat list and \n",
        "## it will put -1 ifit finds in this list otherwise it will do nothing.\n",
        "not_found_cat = diff_cat_in_train_test.rdd.map(lambda x: x[0]).collect()\n",
        "print(len(not_found_cat))\n",
        "print(type(not_found_cat))\n",
        "print(not_found_cat)"
      ],
      "execution_count": null,
      "outputs": [
        {
          "output_type": "stream",
          "text": [
            "46\n",
            "<class 'list'>\n",
            "['P00322642', 'P00300142', 'P00077642', 'P00249942', 'P00294942', 'P00106242', 'P00239542', 'P00074942', 'P00092742', 'P00082142', 'P00030342', 'P00062542', 'P00063942', 'P00013042', 'P00279042', 'P00227242', 'P00359842', 'P00061642', 'P00042642', 'P0099542', 'P00306842', 'P00140842', 'P00165542', 'P00322842', 'P00268942', 'P00236842', 'P00038942', 'P00172942', 'P00012642', 'P00270342', 'P00312642', 'P00336842', 'P00105742', 'P00309842', 'P00166542', 'P00082642', 'P00253842', 'P00062242', 'P00100242', 'P00315342', 'P00058842', 'P00168242', 'P00156942', 'P00039042', 'P00056942', 'P00204642']\n"
          ],
          "name": "stdout"
        }
      ]
    },
    {
      "cell_type": "markdown",
      "metadata": {
        "id": "kwFiAZ0P7yLD"
      },
      "source": [
        "#### User Defined Functions - UDF"
      ]
    },
    {
      "cell_type": "code",
      "metadata": {
        "id": "C4jUmecK7yLD",
        "outputId": "7e89b64b-b6a7-4f9b-b791-a6d1ec504abf"
      },
      "source": [
        "trainDF.show(1)"
      ],
      "execution_count": null,
      "outputs": [
        {
          "output_type": "stream",
          "text": [
            "+-------+----------+------+----+----------+-------------+--------------------------+--------------+------------------+------------------+------------------+--------+\n",
            "|User_ID|Product_ID|Gender| Age|Occupation|City_Category|Stay_In_Current_City_Years|Marital_Status|Product_Category_1|Product_Category_2|Product_Category_3|Purchase|\n",
            "+-------+----------+------+----+----------+-------------+--------------------------+--------------+------------------+------------------+------------------+--------+\n",
            "|1000001| P00069042|     F|0-17|        10|            A|                         2|             0|                 3|              null|              null|    8370|\n",
            "+-------+----------+------+----+----------+-------------+--------------------------+--------------+------------------+------------------+------------------+--------+\n",
            "only showing top 1 row\n",
            "\n"
          ],
          "name": "stdout"
        }
      ]
    },
    {
      "cell_type": "code",
      "metadata": {
        "id": "_Gg9bIDT7yLE"
      },
      "source": [
        "## Register the udf, we need to import StringType from the pyspark.sql and udf from the pyspark.sql.functions. \n",
        "## The udf function takes 2 parameters as arguments:\n",
        "## Return type (in my case StringType())\n",
        "from pyspark.sql.types import StringType\n",
        "from pyspark.sql.functions import udf\n",
        "\n",
        "Function1 = udf(lambda x: '-1' if x in not_found_cat else x, StringType())"
      ],
      "execution_count": null,
      "outputs": []
    },
    {
      "cell_type": "code",
      "metadata": {
        "id": "0929ieHU7yLF",
        "colab": {
          "base_uri": "https://localhost:8080/",
          "height": 153
        },
        "outputId": "d21b22ba-16ac-425c-dc70-e818937d8ec6"
      },
      "source": [
        "## In the above code function name is ‘Function1’ and we are putting ‘-1’  for not found catagories in test ‘Product_ID’. \n",
        "## Finally apply above ‘Function1’ function on test ‘Product_ID’ and take result in k for new column calles “NEW_Product_ID”.\n",
        "\n",
        "k = testDF.withColumn(\"NEW_Product_ID\",Function1(testDF[\"Product_ID\"])).select('NEW_Product_ID')\n",
        "k.where(k['NEW_Product_ID'] == -1).show(2)"
      ],
      "execution_count": null,
      "outputs": [
        {
          "output_type": "stream",
          "text": [
            "+--------------+\n",
            "|NEW_Product_ID|\n",
            "+--------------+\n",
            "|            -1|\n",
            "|            -1|\n",
            "+--------------+\n",
            "only showing top 2 rows\n",
            "\n"
          ],
          "name": "stdout"
        }
      ]
    },
    {
      "cell_type": "code",
      "metadata": {
        "id": "h4pop5TzX-46",
        "colab": {
          "base_uri": "https://localhost:8080/",
          "height": 459
        },
        "outputId": "d5ba5929-4c0f-4604-8432-51408bb65d43"
      },
      "source": [
        "k.select('New_Product_ID').distinct().show()"
      ],
      "execution_count": null,
      "outputs": [
        {
          "output_type": "stream",
          "text": [
            "+--------------+\n",
            "|New_Product_ID|\n",
            "+--------------+\n",
            "|     P00281742|\n",
            "|      P0096342|\n",
            "|     P00026042|\n",
            "|      P0098242|\n",
            "|     P00313242|\n",
            "|     P00048442|\n",
            "|     P00323242|\n",
            "|     P00159842|\n",
            "|     P00015342|\n",
            "|     P00146342|\n",
            "|     P00180642|\n",
            "|     P00078842|\n",
            "|     P00162642|\n",
            "|     P00318342|\n",
            "|     P00256142|\n",
            "|     P00162742|\n",
            "|     P00014542|\n",
            "|     P00165442|\n",
            "|     P00119442|\n",
            "|     P00212242|\n",
            "+--------------+\n",
            "only showing top 20 rows\n",
            "\n"
          ],
          "name": "stdout"
        }
      ]
    },
    {
      "cell_type": "code",
      "metadata": {
        "id": "MUOcCGOo7yLG",
        "colab": {
          "base_uri": "https://localhost:8080/",
          "height": 51
        },
        "outputId": "f6e83563-3da5-443a-d155-aaa7aeb0dcab"
      },
      "source": [
        "## See the results by again calculating the different categories in k and train subtract operation.\n",
        "diff_cat_in_train_test=k.select('NEW_Product_ID').subtract(trainDF.select('Product_ID'))\n",
        "print(diff_cat_in_train_test.count())# For distinct count\n",
        "print(diff_cat_in_train_test.distinct().count())# For distinct count"
      ],
      "execution_count": null,
      "outputs": [
        {
          "output_type": "stream",
          "text": [
            "1\n",
            "1\n"
          ],
          "name": "stdout"
        }
      ]
    },
    {
      "cell_type": "code",
      "metadata": {
        "id": "i8CekHs77yLJ",
        "colab": {
          "base_uri": "https://localhost:8080/",
          "height": 34
        },
        "outputId": "86853a6c-a930-423a-c6a7-d59061e7262c"
      },
      "source": [
        "## The output 1 means we have now only 1 different category k and train.\n",
        "diff_cat_in_train_test.distinct().collect()"
      ],
      "execution_count": null,
      "outputs": [
        {
          "output_type": "execute_result",
          "data": {
            "text/plain": [
              "[Row(NEW_Product_ID='-1')]"
            ]
          },
          "metadata": {
            "tags": []
          },
          "execution_count": 36
        }
      ]
    },
    {
      "cell_type": "code",
      "metadata": {
        "id": "jNrWan8u7yLM",
        "colab": {
          "base_uri": "https://localhost:8080/",
          "height": 153
        },
        "outputId": "4b6160b7-f377-455f-a7dd-fe8bde42acbe"
      },
      "source": [
        "from pyspark.sql.functions import lit, round, bround\n",
        "trainDF.select(round(lit(\"2.5\")), bround(lit(2.5))).show(2)"
      ],
      "execution_count": null,
      "outputs": [
        {
          "output_type": "stream",
          "text": [
            "+-------------+--------------+\n",
            "|round(2.5, 0)|bround(2.5, 0)|\n",
            "+-------------+--------------+\n",
            "|          3.0|           2.0|\n",
            "|          3.0|           2.0|\n",
            "+-------------+--------------+\n",
            "only showing top 2 rows\n",
            "\n"
          ],
          "name": "stdout"
        }
      ]
    },
    {
      "cell_type": "code",
      "metadata": {
        "id": "2WG0uujw7yLO",
        "colab": {
          "base_uri": "https://localhost:8080/",
          "height": 119
        },
        "outputId": "dd455219-05b6-436f-dcae-c3519f8a7979"
      },
      "source": [
        "spark.sql(\"SELECT bround(2.5), round(2.9), round(2.4), bround(2.9)\").show(2)"
      ],
      "execution_count": null,
      "outputs": [
        {
          "output_type": "stream",
          "text": [
            "+--------------+-------------+-------------+--------------+\n",
            "|bround(2.5, 0)|round(2.9, 0)|round(2.4, 0)|bround(2.9, 0)|\n",
            "+--------------+-------------+-------------+--------------+\n",
            "|             2|            3|            2|             3|\n",
            "+--------------+-------------+-------------+--------------+\n",
            "\n"
          ],
          "name": "stdout"
        }
      ]
    },
    {
      "cell_type": "code",
      "metadata": {
        "id": "nW9PAYj07yLQ",
        "colab": {
          "base_uri": "https://localhost:8080/",
          "height": 119
        },
        "outputId": "e0b5074c-2347-4852-d7e1-7deb8ad63816"
      },
      "source": [
        "spark.sql(\"SELECT round(2.5), bround(2.5)\").show(2)"
      ],
      "execution_count": null,
      "outputs": [
        {
          "output_type": "stream",
          "text": [
            "+-------------+--------------+\n",
            "|round(2.5, 0)|bround(2.5, 0)|\n",
            "+-------------+--------------+\n",
            "|            3|             2|\n",
            "+-------------+--------------+\n",
            "\n"
          ],
          "name": "stdout"
        }
      ]
    },
    {
      "cell_type": "code",
      "metadata": {
        "id": "w_lebOIW7yLR",
        "colab": {
          "base_uri": "https://localhost:8080/",
          "height": 136
        },
        "outputId": "5fa7972b-57be-4ff8-9193-470b7b762bea"
      },
      "source": [
        "from pyspark.sql.functions import corr\n",
        "print(trainDF.stat.corr(\"Purchase\", \"Product_Category_1\"))\n",
        "trainDF.select(corr(\"Purchase\", \"Product_Category_1\")).show()"
      ],
      "execution_count": null,
      "outputs": [
        {
          "output_type": "stream",
          "text": [
            "-0.3437033459199084\n",
            "+----------------------------------+\n",
            "|corr(Purchase, Product_Category_1)|\n",
            "+----------------------------------+\n",
            "|               -0.3437033459199084|\n",
            "+----------------------------------+\n",
            "\n"
          ],
          "name": "stdout"
        }
      ]
    },
    {
      "cell_type": "code",
      "metadata": {
        "scrolled": true,
        "id": "-Daq2Qab7yLU",
        "colab": {
          "base_uri": "https://localhost:8080/",
          "height": 119
        },
        "outputId": "08047e86-7667-4da7-d178-2a8ab62d54e4"
      },
      "source": [
        "trainDF.stat.freqItems([\"Age\"],.6).show(truncate = False)"
      ],
      "execution_count": null,
      "outputs": [
        {
          "output_type": "stream",
          "text": [
            "+-------------+\n",
            "|Age_freqItems|\n",
            "+-------------+\n",
            "|[26-35]      |\n",
            "+-------------+\n",
            "\n"
          ],
          "name": "stdout"
        }
      ]
    },
    {
      "cell_type": "markdown",
      "metadata": {
        "id": "tJKaV-lj7yLV"
      },
      "source": [
        "#### String Manipulations"
      ]
    },
    {
      "cell_type": "code",
      "metadata": {
        "id": "8AAkmzJi7yLV",
        "colab": {
          "base_uri": "https://localhost:8080/",
          "height": 153
        },
        "outputId": "5f3f893d-d5cf-49df-f911-173933975083"
      },
      "source": [
        "from pyspark.sql.functions import lit, ltrim, rtrim, rpad, lpad, trim\n",
        "\n",
        "trainDF.select(\n",
        "ltrim(lit(\" HELLO \")).alias(\"ltrim\"),\n",
        "rtrim(lit(\" HELLO \")).alias(\"rtrim\"),\n",
        "trim(lit(\" HELLO \")).alias(\"trim\"),\n",
        "lpad(lit(\"HELLO\"), 7, \"?\").alias(\"lp\"),\n",
        "rpad(lit(\"HELLO\"), 10, \"?\").alias(\"rp\"))\\\n",
        ".show(2)"
      ],
      "execution_count": null,
      "outputs": [
        {
          "output_type": "stream",
          "text": [
            "+------+------+-----+-------+----------+\n",
            "| ltrim| rtrim| trim|     lp|        rp|\n",
            "+------+------+-----+-------+----------+\n",
            "|HELLO | HELLO|HELLO|??HELLO|HELLO?????|\n",
            "|HELLO | HELLO|HELLO|??HELLO|HELLO?????|\n",
            "+------+------+-----+-------+----------+\n",
            "only showing top 2 rows\n",
            "\n"
          ],
          "name": "stdout"
        }
      ]
    },
    {
      "cell_type": "code",
      "metadata": {
        "id": "0iyuEfTzcQrC"
      },
      "source": [
        "trainDF.registerTempTable(\"trainDFTable\")"
      ],
      "execution_count": null,
      "outputs": []
    },
    {
      "cell_type": "code",
      "metadata": {
        "id": "Q8qoGp9J7yLZ",
        "colab": {
          "base_uri": "https://localhost:8080/",
          "height": 153
        },
        "outputId": "5049848e-1fe0-4010-b020-af661dcd0846"
      },
      "source": [
        "spark.sql(\"\"\"SELECT\n",
        "ltrim(' HELLLOOOO '),\n",
        "rtrim(' HELLLOOOO '),\n",
        "trim(' HELLLOOOO '),\n",
        "lpad('HELLOOOO ', 3, ' '),\n",
        "rpad('HELLOOOO ', 10, ' ')\n",
        "FROM\n",
        "trainDFTable\"\"\").show(2)"
      ],
      "execution_count": null,
      "outputs": [
        {
          "output_type": "stream",
          "text": [
            "+------------------+------------------+-----------------+---------------------+----------------------+\n",
            "|ltrim( HELLLOOOO )|rtrim( HELLLOOOO )|trim( HELLLOOOO )|lpad(HELLOOOO , 3,  )|rpad(HELLOOOO , 10,  )|\n",
            "+------------------+------------------+-----------------+---------------------+----------------------+\n",
            "|        HELLLOOOO |         HELLLOOOO|        HELLLOOOO|                  HEL|            HELLOOOO  |\n",
            "|        HELLLOOOO |         HELLLOOOO|        HELLLOOOO|                  HEL|            HELLOOOO  |\n",
            "+------------------+------------------+-----------------+---------------------+----------------------+\n",
            "only showing top 2 rows\n",
            "\n"
          ],
          "name": "stdout"
        }
      ]
    },
    {
      "cell_type": "markdown",
      "metadata": {
        "id": "JBsryHmU7yLb"
      },
      "source": [
        "#### Regular Expressions"
      ]
    },
    {
      "cell_type": "code",
      "metadata": {
        "id": "DJy6D7Xu7yLb",
        "outputId": "37a4eec0-c1bf-4fd2-deb4-a5f2cfd641bb"
      },
      "source": [
        "from pyspark.sql.functions import expr, col, column\n",
        "from pyspark.sql.functions import regexp_replace\n",
        "regex_string = \"F\"\n",
        "\n",
        "trainDF.select(\n",
        "regexp_replace(col(\"Gender\"), regex_string, \"MALE_OR_FEMALE\")\n",
        ".alias(\"Gender_DECODE\"),\n",
        "col(\"Gender\"))\\\n",
        ".show(10)"
      ],
      "execution_count": null,
      "outputs": [
        {
          "output_type": "stream",
          "text": [
            "+--------------+------+\n",
            "| Gender_DECODE|Gender|\n",
            "+--------------+------+\n",
            "|MALE_OR_FEMALE|     F|\n",
            "|MALE_OR_FEMALE|     F|\n",
            "|MALE_OR_FEMALE|     F|\n",
            "|MALE_OR_FEMALE|     F|\n",
            "|             M|     M|\n",
            "|             M|     M|\n",
            "|             M|     M|\n",
            "|             M|     M|\n",
            "|             M|     M|\n",
            "|             M|     M|\n",
            "+--------------+------+\n",
            "only showing top 10 rows\n",
            "\n"
          ],
          "name": "stdout"
        }
      ]
    },
    {
      "cell_type": "code",
      "metadata": {
        "id": "QzUmAV1U7yLc",
        "outputId": "3d674cf8-d549-43c8-8a3d-9f8acfdf4387"
      },
      "source": [
        "spark.sql(\"\"\"\n",
        "SELECT\n",
        "regexp_replace(Gender, 'F|M', 'MALE_OR_FEMALE') as\n",
        "Gender_DECODE,\n",
        "Gender\n",
        "FROM\n",
        "trainDFTable\n",
        "\"\"\").show(2)"
      ],
      "execution_count": null,
      "outputs": [
        {
          "output_type": "stream",
          "text": [
            "+--------------+------+\n",
            "| Gender_DECODE|Gender|\n",
            "+--------------+------+\n",
            "|MALE_OR_FEMALE|     F|\n",
            "|MALE_OR_FEMALE|     F|\n",
            "+--------------+------+\n",
            "only showing top 2 rows\n",
            "\n"
          ],
          "name": "stdout"
        }
      ]
    },
    {
      "cell_type": "code",
      "metadata": {
        "id": "Vc4pcrew7yLe",
        "outputId": "71be293c-f6d4-44a1-dc40-3b9dea6d2d25"
      },
      "source": [
        "from pyspark.sql.functions import translate\n",
        "trainDF.select(\n",
        "translate(col(\"Gender\"), \"FM\", \"01\"),\n",
        "col(\"Gender\"))\\\n",
        ".show(10)"
      ],
      "execution_count": null,
      "outputs": [
        {
          "output_type": "stream",
          "text": [
            "+-------------------------+------+\n",
            "|translate(Gender, FM, 01)|Gender|\n",
            "+-------------------------+------+\n",
            "|                        0|     F|\n",
            "|                        0|     F|\n",
            "|                        0|     F|\n",
            "|                        0|     F|\n",
            "|                        1|     M|\n",
            "|                        1|     M|\n",
            "|                        1|     M|\n",
            "|                        1|     M|\n",
            "|                        1|     M|\n",
            "|                        1|     M|\n",
            "+-------------------------+------+\n",
            "only showing top 10 rows\n",
            "\n"
          ],
          "name": "stdout"
        }
      ]
    },
    {
      "cell_type": "code",
      "metadata": {
        "id": "poTHat5f7yLg",
        "outputId": "6038e43e-5d83-4b97-b8d7-521860278096"
      },
      "source": [
        "spark.sql(\"\"\"\n",
        "SELECT\n",
        "translate(Gender, 'FM', '01'),\n",
        "Gender\n",
        "FROM\n",
        "trainDFTable\n",
        "\"\"\").show(10)"
      ],
      "execution_count": null,
      "outputs": [
        {
          "output_type": "stream",
          "text": [
            "+-------------------------+------+\n",
            "|translate(Gender, FM, 01)|Gender|\n",
            "+-------------------------+------+\n",
            "|                        0|     F|\n",
            "|                        0|     F|\n",
            "|                        0|     F|\n",
            "|                        0|     F|\n",
            "|                        1|     M|\n",
            "|                        1|     M|\n",
            "|                        1|     M|\n",
            "|                        1|     M|\n",
            "|                        1|     M|\n",
            "|                        1|     M|\n",
            "+-------------------------+------+\n",
            "only showing top 10 rows\n",
            "\n"
          ],
          "name": "stdout"
        }
      ]
    },
    {
      "cell_type": "markdown",
      "metadata": {
        "id": "uD7FY7ED7yLh"
      },
      "source": [
        "## Working with Date and Time"
      ]
    },
    {
      "cell_type": "code",
      "metadata": {
        "id": "iRF96l7R7yLi",
        "colab": {
          "base_uri": "https://localhost:8080/",
          "height": 272
        },
        "outputId": "80f326bd-28ed-4d94-e99b-bc6993d842f0"
      },
      "source": [
        "from pyspark.sql.functions import current_date, current_timestamp\n",
        "dateDF = spark.range(10)\\\n",
        ".withColumn(\"today\", current_date())\\\n",
        ".withColumn(\"now\", current_timestamp())\n",
        "dateDF.show(truncate = False)"
      ],
      "execution_count": null,
      "outputs": [
        {
          "output_type": "stream",
          "text": [
            "+---+----------+-----------------------+\n",
            "|id |today     |now                    |\n",
            "+---+----------+-----------------------+\n",
            "|0  |2019-12-06|2019-12-06 04:26:10.668|\n",
            "|1  |2019-12-06|2019-12-06 04:26:10.668|\n",
            "|2  |2019-12-06|2019-12-06 04:26:10.668|\n",
            "|3  |2019-12-06|2019-12-06 04:26:10.668|\n",
            "|4  |2019-12-06|2019-12-06 04:26:10.668|\n",
            "|5  |2019-12-06|2019-12-06 04:26:10.668|\n",
            "|6  |2019-12-06|2019-12-06 04:26:10.668|\n",
            "|7  |2019-12-06|2019-12-06 04:26:10.668|\n",
            "|8  |2019-12-06|2019-12-06 04:26:10.668|\n",
            "|9  |2019-12-06|2019-12-06 04:26:10.668|\n",
            "+---+----------+-----------------------+\n",
            "\n"
          ],
          "name": "stdout"
        }
      ]
    },
    {
      "cell_type": "code",
      "metadata": {
        "id": "AktjhAES7yLk",
        "colab": {
          "base_uri": "https://localhost:8080/",
          "height": 102
        },
        "outputId": "aa798b99-3d2c-4d17-9f95-1ec9d45b4b89"
      },
      "source": [
        "dateDF.createOrReplaceTempView(\"dateDFTable\")\n",
        "dateDF.printSchema()"
      ],
      "execution_count": null,
      "outputs": [
        {
          "output_type": "stream",
          "text": [
            "root\n",
            " |-- id: long (nullable = false)\n",
            " |-- today: date (nullable = false)\n",
            " |-- now: timestamp (nullable = false)\n",
            "\n"
          ],
          "name": "stdout"
        }
      ]
    },
    {
      "cell_type": "code",
      "metadata": {
        "id": "w5ctpaeT7yLn"
      },
      "source": [
        "from pyspark.sql.functions import expr, col, column\n",
        "from pyspark.sql.functions import regexp_replace"
      ],
      "execution_count": null,
      "outputs": []
    },
    {
      "cell_type": "code",
      "metadata": {
        "id": "zAWIEzBj7yLq",
        "colab": {
          "base_uri": "https://localhost:8080/",
          "height": 136
        },
        "outputId": "0b433ce4-7e63-4051-907a-e08a9544f775"
      },
      "source": [
        "from pyspark.sql.functions import date_add, date_sub\n",
        "dateDF.select(date_sub(col(\"today\"), 5),date_add(col(\"today\"), 5)).show(1)"
      ],
      "execution_count": null,
      "outputs": [
        {
          "output_type": "stream",
          "text": [
            "+------------------+------------------+\n",
            "|date_sub(today, 5)|date_add(today, 5)|\n",
            "+------------------+------------------+\n",
            "|        2019-12-01|        2019-12-11|\n",
            "+------------------+------------------+\n",
            "only showing top 1 row\n",
            "\n"
          ],
          "name": "stdout"
        }
      ]
    },
    {
      "cell_type": "code",
      "metadata": {
        "id": "a-yQFhEZ7yLr",
        "colab": {
          "base_uri": "https://localhost:8080/",
          "height": 136
        },
        "outputId": "659dd2be-b6b4-4420-e4d4-d51a8ae75ecb"
      },
      "source": [
        "spark.sql(\"\"\"\n",
        "SELECT\n",
        "date_sub(today, 5),\n",
        "date_add(today, 5)\n",
        "FROM\n",
        "dateDFTable\n",
        "\"\"\").show(1)"
      ],
      "execution_count": null,
      "outputs": [
        {
          "output_type": "stream",
          "text": [
            "+------------------+------------------+\n",
            "|date_sub(today, 5)|date_add(today, 5)|\n",
            "+------------------+------------------+\n",
            "|        2019-12-01|        2019-12-11|\n",
            "+------------------+------------------+\n",
            "only showing top 1 row\n",
            "\n"
          ],
          "name": "stdout"
        }
      ]
    },
    {
      "cell_type": "code",
      "metadata": {
        "id": "KTgG1XbH7yLt",
        "colab": {
          "base_uri": "https://localhost:8080/",
          "height": 272
        },
        "outputId": "61fd2793-3153-48b1-ed8f-9369d22c006f"
      },
      "source": [
        "from pyspark.sql.functions import datediff, months_between, to_date\n",
        "dateDF\\\n",
        ".withColumn(\"week_ago\", date_sub(col(\"today\"), 7))\\\n",
        ".select(datediff(col(\"week_ago\"), col(\"today\")),\"week_ago\")\\\n",
        ".show()"
      ],
      "execution_count": null,
      "outputs": [
        {
          "output_type": "stream",
          "text": [
            "+-------------------------+----------+\n",
            "|datediff(week_ago, today)|  week_ago|\n",
            "+-------------------------+----------+\n",
            "|                       -7|2019-11-29|\n",
            "|                       -7|2019-11-29|\n",
            "|                       -7|2019-11-29|\n",
            "|                       -7|2019-11-29|\n",
            "|                       -7|2019-11-29|\n",
            "|                       -7|2019-11-29|\n",
            "|                       -7|2019-11-29|\n",
            "|                       -7|2019-11-29|\n",
            "|                       -7|2019-11-29|\n",
            "|                       -7|2019-11-29|\n",
            "+-------------------------+----------+\n",
            "\n"
          ],
          "name": "stdout"
        }
      ]
    },
    {
      "cell_type": "code",
      "metadata": {
        "id": "-YgOBNTe7yLv",
        "colab": {
          "base_uri": "https://localhost:8080/",
          "height": 136
        },
        "outputId": "29283ebd-bbef-45de-bb1c-2088b362c309"
      },
      "source": [
        "from pyspark.sql.functions import lit\n",
        "dateDF\\\n",
        ".select(\n",
        "to_date(lit(\"2017-01-01\")).alias(\"start\"),\n",
        "to_date(lit(\"2018-02-18\")).alias(\"end\"))\\\n",
        ".select(months_between(col(\"start\"), col(\"end\")))\\\n",
        ".show(1)"
      ],
      "execution_count": null,
      "outputs": [
        {
          "output_type": "stream",
          "text": [
            "+--------------------------------+\n",
            "|months_between(start, end, true)|\n",
            "+--------------------------------+\n",
            "|                     -13.5483871|\n",
            "+--------------------------------+\n",
            "only showing top 1 row\n",
            "\n"
          ],
          "name": "stdout"
        }
      ]
    },
    {
      "cell_type": "code",
      "metadata": {
        "id": "HxhHT31x7yLw",
        "colab": {
          "base_uri": "https://localhost:8080/",
          "height": 153
        },
        "outputId": "db9bb7ce-42fa-4be6-aed5-f8873561679e"
      },
      "source": [
        "spark.sql(\"\"\"\n",
        "SELECT\n",
        "to_date('2016-01-01') as To_Date,\n",
        "months_between('2016-01-01', '2017-01-01') as Months_Between,\n",
        "datediff('2016-01-01', '2017-01-01') as Diff,\n",
        "now\n",
        "FROM\n",
        "dateDFTable\n",
        "\"\"\").show(2)"
      ],
      "execution_count": null,
      "outputs": [
        {
          "output_type": "stream",
          "text": [
            "+----------+--------------+----+--------------------+\n",
            "|   To_Date|Months_Between|Diff|                 now|\n",
            "+----------+--------------+----+--------------------+\n",
            "|2016-01-01|         -12.0|-366|2019-12-06 04:29:...|\n",
            "|2016-01-01|         -12.0|-366|2019-12-06 04:29:...|\n",
            "+----------+--------------+----+--------------------+\n",
            "only showing top 2 rows\n",
            "\n"
          ],
          "name": "stdout"
        }
      ]
    },
    {
      "cell_type": "code",
      "metadata": {
        "id": "nDRQ5SQY7yLx",
        "colab": {
          "base_uri": "https://localhost:8080/",
          "height": 187
        },
        "outputId": "b6cb4a8a-3f6d-4f1f-c853-8d2e908c911f"
      },
      "source": [
        "from pyspark.sql.functions import to_date, lit\n",
        "spark.range(5).withColumn(\"date\", lit(\"2017-01-01\"))\\\n",
        ".select(to_date(col(\"date\")))\\\n",
        ".show()"
      ],
      "execution_count": null,
      "outputs": [
        {
          "output_type": "stream",
          "text": [
            "+---------------+\n",
            "|to_date(`date`)|\n",
            "+---------------+\n",
            "|     2017-01-01|\n",
            "|     2017-01-01|\n",
            "|     2017-01-01|\n",
            "|     2017-01-01|\n",
            "|     2017-01-01|\n",
            "+---------------+\n",
            "\n"
          ],
          "name": "stdout"
        }
      ]
    },
    {
      "cell_type": "markdown",
      "metadata": {
        "id": "wAC6z6-A7yLy"
      },
      "source": [
        "__WARNING__\n",
        "<br>Spark will not throw an error if it cannot parse the date, it’ll just return null. This can be a bit tricky in larger pipelines because you may be expecting your data in one format and getting it in another. To illustrate, let’s take a look at the date format that has switched from year-month-day to year-day-month. Spark will fail to parse this date and silently return null instead."
      ]
    },
    {
      "cell_type": "code",
      "metadata": {
        "id": "qYRyLJ4V7yLy",
        "colab": {
          "base_uri": "https://localhost:8080/",
          "height": 136
        },
        "outputId": "927bc245-6941-4d43-bfe0-b04ea42b24cb"
      },
      "source": [
        "### 2016-20-12 - year-day-month\n",
        "### 2017-12-11 - year-month-day\n",
        "dateDF.select(to_date(lit(\"2016-20-12\")),to_date(lit(\"2017-12-11\"))).show(1)"
      ],
      "execution_count": null,
      "outputs": [
        {
          "output_type": "stream",
          "text": [
            "+---------------------+---------------------+\n",
            "|to_date('2016-20-12')|to_date('2017-12-11')|\n",
            "+---------------------+---------------------+\n",
            "|                 null|           2017-12-11|\n",
            "+---------------------+---------------------+\n",
            "only showing top 1 row\n",
            "\n"
          ],
          "name": "stdout"
        }
      ]
    },
    {
      "cell_type": "code",
      "metadata": {
        "id": "x1uyWz8p7yLz",
        "colab": {
          "base_uri": "https://localhost:8080/",
          "height": 119
        },
        "outputId": "95fa3892-50aa-4e2c-98e0-615afc55b2ce"
      },
      "source": [
        "from pyspark.sql.functions import unix_timestamp, from_unixtime\n",
        "from pyspark.sql.functions import to_date, lit\n",
        "dateFormat = \"yyyy-dd-MM\"\n",
        "\n",
        "cleanDateDF = spark.range(1)\\\n",
        ".select(to_date(unix_timestamp(lit(\"2017-12-11\"), dateFormat)\n",
        ".cast(\"timestamp\"))\\\n",
        ".alias(\"date\"),\n",
        "to_date(unix_timestamp(lit(\"2017-20-12\"), dateFormat)\n",
        ".cast(\"timestamp\"))\\\n",
        ".alias(\"date2\"))\n",
        "\n",
        "cleanDateDF.show()"
      ],
      "execution_count": null,
      "outputs": [
        {
          "output_type": "stream",
          "text": [
            "+----------+----------+\n",
            "|      date|     date2|\n",
            "+----------+----------+\n",
            "|2017-11-12|2017-12-20|\n",
            "+----------+----------+\n",
            "\n"
          ],
          "name": "stdout"
        }
      ]
    },
    {
      "cell_type": "code",
      "metadata": {
        "id": "21z-nF7z7yL4",
        "colab": {
          "base_uri": "https://localhost:8080/",
          "height": 272
        },
        "outputId": "a41063a6-ba92-4b67-f976-b01f3961a887"
      },
      "source": [
        "textDF = spark.range(10).withColumn(\"Description\", lit(\"This is long string\"))\n",
        "textDF.show()"
      ],
      "execution_count": null,
      "outputs": [
        {
          "output_type": "stream",
          "text": [
            "+---+-------------------+\n",
            "| id|        Description|\n",
            "+---+-------------------+\n",
            "|  0|This is long string|\n",
            "|  1|This is long string|\n",
            "|  2|This is long string|\n",
            "|  3|This is long string|\n",
            "|  4|This is long string|\n",
            "|  5|This is long string|\n",
            "|  6|This is long string|\n",
            "|  7|This is long string|\n",
            "|  8|This is long string|\n",
            "|  9|This is long string|\n",
            "+---+-------------------+\n",
            "\n"
          ],
          "name": "stdout"
        }
      ]
    },
    {
      "cell_type": "code",
      "metadata": {
        "id": "R-C2Chrd7yL5",
        "colab": {
          "base_uri": "https://localhost:8080/",
          "height": 153
        },
        "outputId": "9a4ffc82-76d9-47d3-dda5-1a045c087bed"
      },
      "source": [
        "from pyspark.sql.functions import split\n",
        "textDF.select(split(col(\"Description\"), \" \")).show(2)"
      ],
      "execution_count": null,
      "outputs": [
        {
          "output_type": "stream",
          "text": [
            "+---------------------+\n",
            "|split(Description,  )|\n",
            "+---------------------+\n",
            "| [This, is, long, ...|\n",
            "| [This, is, long, ...|\n",
            "+---------------------+\n",
            "only showing top 2 rows\n",
            "\n"
          ],
          "name": "stdout"
        }
      ]
    },
    {
      "cell_type": "code",
      "metadata": {
        "id": "7eaNAmLX7yL_",
        "colab": {
          "base_uri": "https://localhost:8080/",
          "height": 153
        },
        "outputId": "4d9e69af-b366-4450-e46b-9474df7e3c6c"
      },
      "source": [
        "textDF.createOrReplaceTempView('textDFTable')\n",
        "\n",
        "spark.sql(\"\"\"\n",
        "SELECT\n",
        "split(Description, ' ')\n",
        "FROM\n",
        "textDFTable\n",
        "\"\"\").show(2)"
      ],
      "execution_count": null,
      "outputs": [
        {
          "output_type": "stream",
          "text": [
            "+---------------------+\n",
            "|split(Description,  )|\n",
            "+---------------------+\n",
            "| [This, is, long, ...|\n",
            "| [This, is, long, ...|\n",
            "+---------------------+\n",
            "only showing top 2 rows\n",
            "\n"
          ],
          "name": "stdout"
        }
      ]
    },
    {
      "cell_type": "markdown",
      "metadata": {
        "id": "cwGyJW8O7yL_"
      },
      "source": [
        "## User-Defined Functions"
      ]
    },
    {
      "cell_type": "code",
      "metadata": {
        "id": "N2UrNOAq7yMA",
        "colab": {
          "base_uri": "https://localhost:8080/",
          "height": 34
        },
        "outputId": "b07bba14-7e37-4da8-d8ab-e7a64cd5de58"
      },
      "source": [
        "udfExampleDF = spark.range(5).toDF(\"num\")\n",
        "\n",
        "def power3(double_value):\n",
        "    return double_value ** 3\n",
        "\n",
        "power3(3.0)"
      ],
      "execution_count": null,
      "outputs": [
        {
          "output_type": "execute_result",
          "data": {
            "text/plain": [
              "27.0"
            ]
          },
          "metadata": {
            "tags": []
          },
          "execution_count": 79
        }
      ]
    },
    {
      "cell_type": "markdown",
      "metadata": {
        "id": "FG3sIOTd7yMB"
      },
      "source": [
        "Once the function is created, we need to register them with Spark so that we can used\n",
        "them on all of our worker machines. Spark will serialize the function on the driver, and transfer it over the network to all executor processes. This happens regardless of language.\n",
        "\n",
        "<br>Once we go to use the function, there are essentially two different things that occur. If the function is written in Scala or Java then we can use that function within the JVM. This means there will be little performance penalty aside from the fact that we can’t take advantage of code generation capabilities that Spark has for built-in functions.\n",
        "\n",
        "<br>If the function is written in Python, something quite different happens. \n",
        "Spark will start up a python process on the worker, serialize all of the data to a format that python can understand (remember it was in the JVM before), execute the function row by row on that data in the python process, before finally returning the results of the row operations to the JVM and Spark.\n",
        "\n",
        "![UDF_Spark_Python](../Images/UDF_Spark_Python.png)"
      ]
    },
    {
      "cell_type": "code",
      "metadata": {
        "id": "aJNcTKlA7yMB",
        "colab": {
          "base_uri": "https://localhost:8080/",
          "height": 187
        },
        "outputId": "624890b0-659f-4eb5-ae90-0c2b8d87157b"
      },
      "source": [
        "udfExampleDF.show()"
      ],
      "execution_count": null,
      "outputs": [
        {
          "output_type": "stream",
          "text": [
            "+---+\n",
            "|num|\n",
            "+---+\n",
            "|  0|\n",
            "|  1|\n",
            "|  2|\n",
            "|  3|\n",
            "|  4|\n",
            "+---+\n",
            "\n"
          ],
          "name": "stdout"
        }
      ]
    },
    {
      "cell_type": "code",
      "metadata": {
        "id": "ECUDHs_I7yMC"
      },
      "source": [
        "from pyspark.sql.functions import udf\n",
        "power3udf = udf(power3)"
      ],
      "execution_count": null,
      "outputs": []
    },
    {
      "cell_type": "code",
      "metadata": {
        "id": "ebtmkwk47yMD",
        "colab": {
          "base_uri": "https://localhost:8080/",
          "height": 187
        },
        "outputId": "68013479-b127-4904-bc34-af97b720402e"
      },
      "source": [
        "from pyspark.sql.functions import col\n",
        "udfExampleDF.select(power3udf(col(\"num\"))).show()"
      ],
      "execution_count": null,
      "outputs": [
        {
          "output_type": "stream",
          "text": [
            "+-----------+\n",
            "|power3(num)|\n",
            "+-----------+\n",
            "|          0|\n",
            "|          1|\n",
            "|          8|\n",
            "|         27|\n",
            "|         64|\n",
            "+-----------+\n",
            "\n"
          ],
          "name": "stdout"
        }
      ]
    },
    {
      "cell_type": "markdown",
      "metadata": {
        "id": "MY8esL6x7yME"
      },
      "source": [
        "#### UDF Written in Scala\n",
        "#### Try in spark-shell\n",
        "val udfExampleDF = spark.range(5).toDF(\"num\")\n",
        "\n",
        "def power3(number:Double):Double = {\n",
        "<br>          number X number X number\n",
        "<br>}\n",
        "\n",
        "power3(2.0)\n",
        "\n",
        "![UDF_Scala_PySpark](../Images/Scala_UDF.png)"
      ]
    },
    {
      "cell_type": "markdown",
      "metadata": {
        "id": "SKUmJYwD7yME"
      },
      "source": [
        "### Distributed Shared Variables"
      ]
    },
    {
      "cell_type": "markdown",
      "metadata": {
        "id": "3Q-CNVAU7yME"
      },
      "source": [
        "#### Broadcast Variables"
      ]
    },
    {
      "cell_type": "code",
      "metadata": {
        "id": "Bul6hjBr7yME"
      },
      "source": [
        "my_collection = \"Postgraduate Program in Big Data Analytics and Optimization\"\\\n",
        "  .split(\" \")\n",
        "    \n",
        "words = sc.parallelize(my_collection, 2)"
      ],
      "execution_count": null,
      "outputs": []
    },
    {
      "cell_type": "code",
      "metadata": {
        "id": "_jqrxOTI7yMF",
        "colab": {
          "base_uri": "https://localhost:8080/",
          "height": 153
        },
        "outputId": "804c608b-2b1f-467f-b91a-c9adcd6a6c8c"
      },
      "source": [
        "words.take(10)"
      ],
      "execution_count": null,
      "outputs": [
        {
          "output_type": "execute_result",
          "data": {
            "text/plain": [
              "['Postgraduate',\n",
              " 'Program',\n",
              " 'in',\n",
              " 'Big',\n",
              " 'Data',\n",
              " 'Analytics',\n",
              " 'and',\n",
              " 'Optimization']"
            ]
          },
          "metadata": {
            "tags": []
          },
          "execution_count": 87
        }
      ]
    },
    {
      "cell_type": "code",
      "metadata": {
        "id": "zmPgDr4M7yMG"
      },
      "source": [
        "supplementalData = {\"Postgraduate\":1000, \"Analytics\":200, \"Optimization\": 400,\n",
        "                    \"Big\":-300, \"Data\": 100, \"Program\":100}"
      ],
      "execution_count": null,
      "outputs": []
    },
    {
      "cell_type": "code",
      "metadata": {
        "id": "VlNVbuwn7yMH"
      },
      "source": [
        "suppBroadcast = sc.broadcast(supplementalData)"
      ],
      "execution_count": null,
      "outputs": []
    },
    {
      "cell_type": "code",
      "metadata": {
        "scrolled": true,
        "id": "77sgswLK7yMI",
        "colab": {
          "base_uri": "https://localhost:8080/",
          "height": 119
        },
        "outputId": "e6c771f1-9076-4cd3-c3f1-c9cc7e24f09d"
      },
      "source": [
        "suppBroadcast.value"
      ],
      "execution_count": null,
      "outputs": [
        {
          "output_type": "execute_result",
          "data": {
            "text/plain": [
              "{'Analytics': 200,\n",
              " 'Big': -300,\n",
              " 'Data': 100,\n",
              " 'Optimization': 400,\n",
              " 'Postgraduate': 1000,\n",
              " 'Program': 100}"
            ]
          },
          "metadata": {
            "tags": []
          },
          "execution_count": 90
        }
      ]
    },
    {
      "cell_type": "code",
      "metadata": {
        "id": "p3HFja1v7yMJ",
        "colab": {
          "base_uri": "https://localhost:8080/",
          "height": 153
        },
        "outputId": "6d76b1c6-0c9b-4ae1-a93b-32e811448a2c"
      },
      "source": [
        "words.map(lambda word: (word, suppBroadcast.value.get(word, 0)))\\\n",
        "  .sortBy(lambda wordPair: wordPair[1])\\\n",
        "  .collect()"
      ],
      "execution_count": null,
      "outputs": [
        {
          "output_type": "execute_result",
          "data": {
            "text/plain": [
              "[('Big', -300),\n",
              " ('in', 0),\n",
              " ('and', 0),\n",
              " ('Program', 100),\n",
              " ('Data', 100),\n",
              " ('Analytics', 200),\n",
              " ('Optimization', 400),\n",
              " ('Postgraduate', 1000)]"
            ]
          },
          "metadata": {
            "tags": []
          },
          "execution_count": 91
        }
      ]
    },
    {
      "cell_type": "markdown",
      "metadata": {
        "id": "965qY0jx7yMJ"
      },
      "source": [
        "#### Accumulators"
      ]
    },
    {
      "cell_type": "code",
      "metadata": {
        "scrolled": true,
        "id": "EMMJqVNJ7yMK"
      },
      "source": [
        "cwgDF = spark.read.format(\"csv\")\\\n",
        "        .option(\"header\", \"true\")\\\n",
        "        .option(\"inferSchema\", \"true\")\\\n",
        "        .load(\"XXI_Commonwealth_Games.csv\")"
      ],
      "execution_count": null,
      "outputs": []
    },
    {
      "cell_type": "code",
      "metadata": {
        "scrolled": true,
        "id": "1qmgz0-H7yML",
        "colab": {
          "base_uri": "https://localhost:8080/",
          "height": 204
        },
        "outputId": "d64ed0c4-b17c-4967-cc35-1e1f4f1e56d0"
      },
      "source": [
        "cwgDF.show(5)"
      ],
      "execution_count": null,
      "outputs": [
        {
          "output_type": "stream",
          "text": [
            "+---+----------+------------+----+------+------+-----+\n",
            "|Seq|NationCode|  NationName|Gold|Silver|Bronze|Total|\n",
            "+---+----------+------------+----+------+------+-----+\n",
            "|  1|       AUS|   Australia|  60|    45|    46|  151|\n",
            "|  2|       ENG|     England|  28|    31|    24|   83|\n",
            "|  3|       IND|       India|  14|     6|     9|   29|\n",
            "|  4|       CAN|      Canada|  11|    26|    19|   56|\n",
            "|  5|       RSA|South Africa|  11|     9|    12|   32|\n",
            "+---+----------+------------+----+------+------+-----+\n",
            "only showing top 5 rows\n",
            "\n"
          ],
          "name": "stdout"
        }
      ]
    },
    {
      "cell_type": "code",
      "metadata": {
        "id": "87xKDFQ-7yML",
        "colab": {
          "base_uri": "https://localhost:8080/",
          "height": 54
        },
        "outputId": "910dd6d2-a6d1-433b-e896-59e450142875"
      },
      "source": [
        "cwgDF.schema"
      ],
      "execution_count": null,
      "outputs": [
        {
          "output_type": "execute_result",
          "data": {
            "text/plain": [
              "StructType(List(StructField(Seq,IntegerType,true),StructField(NationCode,StringType,true),StructField(NationName,StringType,true),StructField(Gold,IntegerType,true),StructField(Silver,IntegerType,true),StructField(Bronze,IntegerType,true),StructField(Total,IntegerType,true)))"
            ]
          },
          "metadata": {
            "tags": []
          },
          "execution_count": 94
        }
      ]
    },
    {
      "cell_type": "markdown",
      "metadata": {
        "id": "UMdz-UtN7yMM"
      },
      "source": [
        "#### Define Accumulator"
      ]
    },
    {
      "cell_type": "code",
      "metadata": {
        "id": "mBsnJFrr7yMN"
      },
      "source": [
        "accIND = sc.accumulator(0)"
      ],
      "execution_count": null,
      "outputs": []
    },
    {
      "cell_type": "code",
      "metadata": {
        "id": "iZpyL4l07yMN"
      },
      "source": [
        "def accINDFunc(each_row):\n",
        "  countryCD = each_row[\"NationCode\"]\n",
        "  list_ctrys = [\"IND\", \"SRI\", \"PAK\", \"BAN\"]\n",
        "  if countryCD in list_ctrys:\n",
        "    accIND.add(each_row[\"Total\"])"
      ],
      "execution_count": null,
      "outputs": []
    },
    {
      "cell_type": "code",
      "metadata": {
        "id": "6DdiJnSH7yMO"
      },
      "source": [
        "cwgDF.foreach(lambda each_row: accINDFunc(each_row))"
      ],
      "execution_count": null,
      "outputs": []
    },
    {
      "cell_type": "code",
      "metadata": {
        "id": "16SC1J2M7yMP",
        "colab": {
          "base_uri": "https://localhost:8080/",
          "height": 34
        },
        "outputId": "43c0ec47-0c7b-4993-f5db-f3758e5c8fa4"
      },
      "source": [
        "accIND.value"
      ],
      "execution_count": null,
      "outputs": [
        {
          "output_type": "execute_result",
          "data": {
            "text/plain": [
              "38"
            ]
          },
          "metadata": {
            "tags": []
          },
          "execution_count": 99
        }
      ]
    },
    {
      "cell_type": "markdown",
      "metadata": {
        "id": "Ekd_frae7yMQ"
      },
      "source": [
        "### Handling Different Data Sources"
      ]
    },
    {
      "cell_type": "markdown",
      "metadata": {
        "id": "LuM1-RJc7yMQ"
      },
      "source": [
        "There are variety of data sources that one can use out of the box aswell as the countless other sources built by the greater community.\n",
        "\n",
        "<br> **Spark** has six “core” data sources and hundreds of external data sources written by the community.\n",
        "\n",
        "-  CSV\n",
        "-  JSON\n",
        "-  Parquet\n",
        "-  ORC\n",
        "-  JDBC/ODBC Connections\n",
        "-  Plain-text files\n",
        "\n",
        "<br> As mentioned, Spark has numerous community-created data sources. Here’s just a small sample:\n",
        "-  Cassandra\n",
        "-  HBase\n",
        "-  MongoDB\n",
        "-  AWS Redshift\n",
        "-  XML\n",
        "-  And many many others."
      ]
    },
    {
      "cell_type": "markdown",
      "metadata": {
        "id": "CIqqbsTG7yMR"
      },
      "source": [
        "**Read API Structure**\n",
        "<br>DataFrameReader.format(...).option(\"key\", \"value\").schema(...).load(...)\n",
        "<br>After we have a DataFrame reader, we specify several values:\n",
        "-  The format\n",
        "-  The schema\n",
        "-  The read mode\n",
        "-  A series of options\n",
        "\n",
        "*Ex. spark.read.format(\"csv\")\n",
        "<br>  .option(\"mode\", \"FAILFAST\")\n",
        "<br>  .option(\"inferSchema\", \"true\")\n",
        "<br>  .option(\"path\", \"path/to/file(s)\")\n",
        "<br>  .schema(someSchema)\n",
        "<br>  .load()\n",
        "*\n",
        "\n",
        "** READ MODES **\n",
        "-  permissive - Sets all fields to null when it encounters a corrupted record and places all corrupted records in a string column called _corrupt_record.\n",
        "-  dropMalformed - Drops the row that contains malformed records\n",
        "-  failFast - Fails immediately upon encountering malformed records\n",
        "<br><br>The default is permissive."
      ]
    },
    {
      "cell_type": "markdown",
      "metadata": {
        "id": "vYehiVwE7yMR"
      },
      "source": [
        "** Write API Structure **\n",
        "<br>We will use this format to write to all of our data sources. \n",
        "<br>format is optional because by default, Spark will use the **Parquet** format. \n",
        "<br>option, again, allows us to configure how to write out our given data. \n",
        "<br>PartitionBy, bucketBy, and sortBy work only for file-based data sources; \n",
        "<br>you can use them to control the specific layout of files at the destination.\n",
        "\n",
        "<br> DataFrameWriter.format(...).option(...).partitionBy(...).bucketBy(...).sortBy(...).save()\n",
        "<br> The foundation for writing data is quite similar to that of reading data. \n",
        "<br>Instead of the DataFrameReader, we have the DataFrameWriter. \n",
        "<br>Because we always need to write out some given data source, \n",
        "<br>we access the DataFrameWriter on a per-DataFrame basis via the write attribute:\n",
        "\n",
        "<br>After we have a DataFrameWriter, we specify three values: the format, a series of options, and the save mode. \n",
        "\n",
        "<br>Example: \n",
        "<br>dataframe.write.format(\"csv\")\n",
        "<br>  .option(\"mode\", \"OVERWRITE\")\n",
        "<br>  .option(\"dateFormat\", \"yyyy-MM-dd\")\n",
        "<br>  .option(\"path\", \"path/to/file(s)\")\n",
        "<br>  .save()\n",
        "\n",
        "** SAVE MODES **\n",
        "-  append - Appends the output files to the list of files that already exist at that location\n",
        "-  overwrite - Will completely overwrite any data that already exists there\n",
        "-  errorIfExists - Throws an error and fails the write if data or files already exist at the specified location\n",
        "-  ignore - If data or files exist at the location, do nothing with the current DataFrame"
      ]
    },
    {
      "cell_type": "markdown",
      "metadata": {
        "id": "hlMAbrma7yMR"
      },
      "source": [
        "#### CSV"
      ]
    },
    {
      "cell_type": "code",
      "metadata": {
        "id": "oY6lvRnH7yMR"
      },
      "source": [
        "tcs_CSV_DF = spark.read.format(\"csv\")\\\n",
        ".option(\"inferSchema\", \"true\")\\\n",
        ".option(\"header\", \"true\")\\\n",
        ".load(\"TCS_BO.csv\")"
      ],
      "execution_count": null,
      "outputs": []
    },
    {
      "cell_type": "code",
      "metadata": {
        "id": "FP2-xRiT7yMU",
        "colab": {
          "base_uri": "https://localhost:8080/",
          "height": 187
        },
        "outputId": "388325d6-e4a9-41a6-aebb-33ac27c22c5d"
      },
      "source": [
        "tcs_CSV_DF.show(4)"
      ],
      "execution_count": null,
      "outputs": [
        {
          "output_type": "stream",
          "text": [
            "+-------------------+---------+---------+---------+---------+---------+------+\n",
            "|               Date|     Open|     High|      Low|    Close|Adj Close|Volume|\n",
            "+-------------------+---------+---------+---------+---------+---------+------+\n",
            "|2002-01-14 00:00:00|38.500000|39.500000|38.062500|38.400002|20.859608| 83688|\n",
            "|2002-01-15 00:00:00|38.112499|38.724998|37.150002|37.412498|20.323185| 47496|\n",
            "|2002-01-16 00:00:00|38.049999|38.500000|37.125000|37.700001|20.479355| 51624|\n",
            "|2002-01-17 00:00:00|36.250000|38.750000|36.250000|38.337502|20.825661| 85840|\n",
            "+-------------------+---------+---------+---------+---------+---------+------+\n",
            "only showing top 4 rows\n",
            "\n"
          ],
          "name": "stdout"
        }
      ]
    },
    {
      "cell_type": "code",
      "metadata": {
        "scrolled": true,
        "id": "wdylzA9v7yMV",
        "colab": {
          "base_uri": "https://localhost:8080/",
          "height": 170
        },
        "outputId": "6e24f3d7-0ffb-4724-af4f-6d222652ede7"
      },
      "source": [
        "tcs_CSV_DF.printSchema()"
      ],
      "execution_count": null,
      "outputs": [
        {
          "output_type": "stream",
          "text": [
            "root\n",
            " |-- Date: timestamp (nullable = true)\n",
            " |-- Open: string (nullable = true)\n",
            " |-- High: string (nullable = true)\n",
            " |-- Low: string (nullable = true)\n",
            " |-- Close: string (nullable = true)\n",
            " |-- Adj Close: string (nullable = true)\n",
            " |-- Volume: string (nullable = true)\n",
            "\n"
          ],
          "name": "stdout"
        }
      ]
    },
    {
      "cell_type": "code",
      "metadata": {
        "id": "6tsnrPse7yMW"
      },
      "source": [
        "from pyspark.sql.types import DoubleType\n",
        "from pyspark.sql.functions import expr, col, column\n",
        "\n",
        "tcs_CSV_DF = tcs_CSV_DF.select(col(\"Date\").cast(\"date\"), \n",
        "                     col(\"Open\").cast(\"double\"),\n",
        "                     col(\"High\").cast(\"double\"),\n",
        "                     col(\"Low\").cast(\"double\"),\n",
        "                     col(\"Close\").cast(\"double\"),\n",
        "                     col(\"Adj Close\").cast(\"double\"), \n",
        "                     col(\"Volume\").cast(\"int\"))"
      ],
      "execution_count": null,
      "outputs": []
    },
    {
      "cell_type": "code",
      "metadata": {
        "id": "ZPS31Xvl7yMY",
        "colab": {
          "base_uri": "https://localhost:8080/",
          "height": 170
        },
        "outputId": "08119bd4-dbfe-4a0b-bbe1-368e7ffe1a94"
      },
      "source": [
        "tcs_CSV_DF.printSchema()"
      ],
      "execution_count": null,
      "outputs": [
        {
          "output_type": "stream",
          "text": [
            "root\n",
            " |-- Date: date (nullable = true)\n",
            " |-- Open: double (nullable = true)\n",
            " |-- High: double (nullable = true)\n",
            " |-- Low: double (nullable = true)\n",
            " |-- Close: double (nullable = true)\n",
            " |-- Adj Close: double (nullable = true)\n",
            " |-- Volume: integer (nullable = true)\n",
            "\n"
          ],
          "name": "stdout"
        }
      ]
    },
    {
      "cell_type": "code",
      "metadata": {
        "id": "uXdRTxi-7yMZ"
      },
      "source": [
        "tcs_CSV_DF = tcs_CSV_DF.withColumnRenamed(\"Adj Close\", \"Adj_Close\")\n",
        "tcs_CSV_DF = tcs_CSV_DF.withColumnRenamed(\"Date\", \"Stock_Date\")"
      ],
      "execution_count": null,
      "outputs": []
    },
    {
      "cell_type": "code",
      "metadata": {
        "id": "iDkXHT_L7yMb"
      },
      "source": [
        "tcs_CSV_DF.write.format(\"json\").mode(\"overwrite\").save(\"TCS_JSON/\")"
      ],
      "execution_count": null,
      "outputs": []
    },
    {
      "cell_type": "code",
      "metadata": {
        "id": "ZP9raQyp7yMc"
      },
      "source": [
        "tcs_CSV_DF.write.format(\"parquet\").mode(\"overwrite\").save(\"TCS_PARQUET/\")"
      ],
      "execution_count": null,
      "outputs": []
    },
    {
      "cell_type": "code",
      "metadata": {
        "id": "Ux9o53jg7yMd"
      },
      "source": [
        "tcs_CSV_DF.write.format(\"orc\").mode(\"overwrite\").save(\"TCS_ORC/\")"
      ],
      "execution_count": null,
      "outputs": []
    },
    {
      "cell_type": "markdown",
      "metadata": {
        "id": "NNUiB5LT7yMg"
      },
      "source": [
        "#### JSON Files\n",
        "Those coming from the world of JavaScript are likely familiar with JavaScript Object Notation, or JSON, as it’s commonly called."
      ]
    },
    {
      "cell_type": "code",
      "metadata": {
        "id": "vUR8O3W87yMg"
      },
      "source": [
        "tcs_JSON_DF = spark.read.format(\"json\")\\\n",
        ".option(\"inferSchema\", \"True\")\\\n",
        ".load(\"TCS_JSON/\")"
      ],
      "execution_count": null,
      "outputs": []
    },
    {
      "cell_type": "code",
      "metadata": {
        "id": "pFT6QaGk7yMi",
        "colab": {
          "base_uri": "https://localhost:8080/",
          "height": 187
        },
        "outputId": "7122d4b7-c8d7-4501-fa56-fa94073c2c1d"
      },
      "source": [
        "tcs_JSON_DF.show(4)"
      ],
      "execution_count": null,
      "outputs": [
        {
          "output_type": "stream",
          "text": [
            "+---------+---------+---------+---------+---------+----------+------+\n",
            "|Adj_Close|    Close|     High|      Low|     Open|Stock_Date|Volume|\n",
            "+---------+---------+---------+---------+---------+----------+------+\n",
            "|20.859608|38.400002|     39.5|  38.0625|     38.5|2002-01-14| 83688|\n",
            "|20.323185|37.412498|38.724998|37.150002|38.112499|2002-01-15| 47496|\n",
            "|20.479355|37.700001|     38.5|   37.125|38.049999|2002-01-16| 51624|\n",
            "|20.825661|38.337502|    38.75|    36.25|    36.25|2002-01-17| 85840|\n",
            "+---------+---------+---------+---------+---------+----------+------+\n",
            "only showing top 4 rows\n",
            "\n"
          ],
          "name": "stdout"
        }
      ]
    },
    {
      "cell_type": "markdown",
      "metadata": {
        "id": "RbKaKsTL7yMj"
      },
      "source": [
        "#### Parquet Files\n",
        "Parquet is an open source column-oriented data store that provides a variety of storage optimizations, especially for analytics workloads. \n",
        "<br>It provides columnar compression, which saves storage space and allows for reading individual columns instead of entire files. \n",
        "<br>It is a file format that works exceptionally well with Apache Spark and is in fact the default file format.\n",
        "<br>It is recommended writing data out to Parquet for long-term storage because reading from a Parquet file will always be more efficient than JSON or CSV. \n",
        "<br>Another advantage of Parquet is that it supports complex types. \n",
        "<br>This means that if your column is an array (which would fail with a CSV file, for example), map, or struct, you’ll still be able to read and write that file without issue. "
      ]
    },
    {
      "cell_type": "markdown",
      "metadata": {
        "id": "LJRkLWha7yMj"
      },
      "source": [
        "** Reading Parquet Files **\n",
        "<br>Parquet has very few options because it enforces its own schema when storing data. \n",
        "<br>Thus, all we need to set is the format and you are good to go. \n",
        "<br>We can set the schema if we have strict requirements for what our DataFrame should look like. \n",
        "<br>Oftentimes this is not necessary because we can use schema on read, which is similar to the inferSchema with CSV files. \n",
        "<br>However, with Parquet files, this method is more powerful because the schema is built into the file itself (so no inference needed)."
      ]
    },
    {
      "cell_type": "code",
      "metadata": {
        "id": "ZudDYMs77yMk",
        "colab": {
          "base_uri": "https://localhost:8080/",
          "height": 187
        },
        "outputId": "6fc7c737-d8c7-4b2a-f959-39253d460f0c"
      },
      "source": [
        "tcs_PARQUET_DF = spark.read.format(\"parquet\").load(\"TCS_PARQUET/\")\n",
        "tcs_PARQUET_DF.show(4)"
      ],
      "execution_count": null,
      "outputs": [
        {
          "output_type": "stream",
          "text": [
            "+----------+---------+---------+---------+---------+---------+------+\n",
            "|Stock_Date|     Open|     High|      Low|    Close|Adj_Close|Volume|\n",
            "+----------+---------+---------+---------+---------+---------+------+\n",
            "|2002-01-14|     38.5|     39.5|  38.0625|38.400002|20.859608| 83688|\n",
            "|2002-01-15|38.112499|38.724998|37.150002|37.412498|20.323185| 47496|\n",
            "|2002-01-16|38.049999|     38.5|   37.125|37.700001|20.479355| 51624|\n",
            "|2002-01-17|    36.25|    38.75|    36.25|38.337502|20.825661| 85840|\n",
            "+----------+---------+---------+---------+---------+---------+------+\n",
            "only showing top 4 rows\n",
            "\n"
          ],
          "name": "stdout"
        }
      ]
    },
    {
      "cell_type": "code",
      "metadata": {
        "id": "6Qcv7i_27yMl",
        "colab": {
          "base_uri": "https://localhost:8080/",
          "height": 136
        },
        "outputId": "7e9dd604-501b-4582-aa80-e33432359b3f"
      },
      "source": [
        "tcs_PARQUET_DF.dtypes"
      ],
      "execution_count": null,
      "outputs": [
        {
          "output_type": "execute_result",
          "data": {
            "text/plain": [
              "[('Stock_Date', 'date'),\n",
              " ('Open', 'double'),\n",
              " ('High', 'double'),\n",
              " ('Low', 'double'),\n",
              " ('Close', 'double'),\n",
              " ('Adj_Close', 'double'),\n",
              " ('Volume', 'int')]"
            ]
          },
          "metadata": {
            "tags": []
          },
          "execution_count": 114
        }
      ]
    },
    {
      "cell_type": "markdown",
      "metadata": {
        "id": "pLNfvJim7yMm"
      },
      "source": [
        "#### ORC Files\n",
        "ORC (Optimized Row Columnar file format) is a self-describing, type-aware columnar file format designed for Hadoop workloads. \n",
        "<br>It is optimized for large streaming reads, but with integrated support for finding required rows quickly. \n",
        "<br>ORC actually has no options for reading in data because Spark understands the file format quite well. \n",
        "<br>What is the difference between ORC and Parquet? \n",
        "<br>For the most part, they’re quite similar; \n",
        "<br>The fundamental difference is that Parquet is further optimized for use with Spark, \n",
        "<br>whereas ORC is further optimized for Hive."
      ]
    },
    {
      "cell_type": "code",
      "metadata": {
        "id": "BLQ67_-z7yMm",
        "colab": {
          "base_uri": "https://localhost:8080/",
          "height": 187
        },
        "outputId": "8ff5b163-0918-489d-fe6f-cad54d15dcb5"
      },
      "source": [
        "tcs_ORC_DF = spark.read.format(\"orc\").load(\"TCS_ORC/\")\n",
        "tcs_ORC_DF.show(4)"
      ],
      "execution_count": null,
      "outputs": [
        {
          "output_type": "stream",
          "text": [
            "+----------+---------+---------+---------+---------+---------+------+\n",
            "|Stock_Date|     Open|     High|      Low|    Close|Adj_Close|Volume|\n",
            "+----------+---------+---------+---------+---------+---------+------+\n",
            "|2002-01-14|     38.5|     39.5|  38.0625|38.400002|20.859608| 83688|\n",
            "|2002-01-15|38.112499|38.724998|37.150002|37.412498|20.323185| 47496|\n",
            "|2002-01-16|38.049999|     38.5|   37.125|37.700001|20.479355| 51624|\n",
            "|2002-01-17|    36.25|    38.75|    36.25|38.337502|20.825661| 85840|\n",
            "+----------+---------+---------+---------+---------+---------+------+\n",
            "only showing top 4 rows\n",
            "\n"
          ],
          "name": "stdout"
        }
      ]
    },
    {
      "cell_type": "code",
      "metadata": {
        "id": "JC_WvjAQ7yMo",
        "colab": {
          "base_uri": "https://localhost:8080/",
          "height": 136
        },
        "outputId": "4ae7a499-2095-4f00-be82-be65bc1a7a56"
      },
      "source": [
        "tcs_ORC_DF.dtypes"
      ],
      "execution_count": null,
      "outputs": [
        {
          "output_type": "execute_result",
          "data": {
            "text/plain": [
              "[('Stock_Date', 'date'),\n",
              " ('Open', 'double'),\n",
              " ('High', 'double'),\n",
              " ('Low', 'double'),\n",
              " ('Close', 'double'),\n",
              " ('Adj_Close', 'double'),\n",
              " ('Volume', 'int')]"
            ]
          },
          "metadata": {
            "tags": []
          },
          "execution_count": 116
        }
      ]
    },
    {
      "cell_type": "markdown",
      "metadata": {
        "id": "KZ0f18AT7yMo"
      },
      "source": [
        "#### Text Files\n",
        "Spark also allows you to read in plain-text files. \n",
        "<br>Each line in the file becomes a record in the DataFrame. \n",
        "<br>It is then up to you to transform it accordingly. \n",
        "<br>As an example of how you would do this, \n",
        "<br>suppose that you need to parse some Apache log files to some more structured format, \n",
        "<br>or perhaps you want to parse some plain text for natural-language processing. "
      ]
    },
    {
      "cell_type": "code",
      "metadata": {
        "id": "IEkMjhYJ7yMp"
      },
      "source": [
        "tcs_TEXT_DF = spark.read.text(\"TCS_BO.csv\")\\\n",
        "  .selectExpr(\"split(value, ',') as rows\")"
      ],
      "execution_count": null,
      "outputs": []
    },
    {
      "cell_type": "code",
      "metadata": {
        "id": "LBbIhaym7yMp",
        "colab": {
          "base_uri": "https://localhost:8080/",
          "height": 153
        },
        "outputId": "9ef73df8-a2da-4b04-930a-d9cf43bd10a6"
      },
      "source": [
        "tcs_TEXT_DF.show(2,truncate=False)"
      ],
      "execution_count": null,
      "outputs": [
        {
          "output_type": "stream",
          "text": [
            "+--------------------------------------------------------------------------+\n",
            "|rows                                                                      |\n",
            "+--------------------------------------------------------------------------+\n",
            "|[Date, Open, High, Low, Close, Adj Close, Volume]                         |\n",
            "|[2002-01-14, 38.500000, 39.500000, 38.062500, 38.400002, 20.859608, 83688]|\n",
            "+--------------------------------------------------------------------------+\n",
            "only showing top 2 rows\n",
            "\n"
          ],
          "name": "stdout"
        }
      ]
    },
    {
      "cell_type": "code",
      "metadata": {
        "id": "uTcJyTGi7yM_"
      },
      "source": [
        ""
      ],
      "execution_count": null,
      "outputs": []
    }
  ]
}