{
  "nbformat": 4,
  "nbformat_minor": 0,
  "metadata": {
    "anaconda-cloud": {},
    "kernelspec": {
      "display_name": "Python 3",
      "language": "python",
      "name": "python3"
    },
    "language_info": {
      "codemirror_mode": {
        "name": "ipython",
        "version": 3
      },
      "file_extension": ".py",
      "mimetype": "text/x-python",
      "name": "python",
      "nbconvert_exporter": "python",
      "pygments_lexer": "ipython3",
      "version": "3.6.6"
    },
    "colab": {
      "name": "SparkML_Regression_Activity.ipynb",
      "provenance": []
    }
  },
  "cells": [
    {
      "cell_type": "markdown",
      "metadata": {
        "id": "YJwJj_7SfntI"
      },
      "source": [
        "# Multiple Linear Regression on Customer Data"
      ]
    },
    {
      "cell_type": "markdown",
      "metadata": {
        "id": "xhFdWCkBfntJ"
      },
      "source": [
        "## Agenda\n",
        "\n",
        "* Business Understanding\n",
        "* Data Understanding\n",
        "* Data Preparation\n",
        "* Exploratory Data Analysis\n",
        "* Building a Linear Model\n",
        "* Evaluation"
      ]
    },
    {
      "cell_type": "markdown",
      "metadata": {
        "id": "d8B8Uy_kfntK"
      },
      "source": [
        "### Business Understanding"
      ]
    },
    {
      "cell_type": "markdown",
      "metadata": {
        "collapsed": true,
        "id": "CkowAWSPfntL"
      },
      "source": [
        "#### Problem Statement\n",
        "\n",
        "A large child education toy company which sells edutainment tablets and gaming systems\n",
        "both online and in retail stores wanted to analyze the customer data. They are operating\n",
        "from last few years and maintaining all transactional information data. The given data\n",
        "‘CustomerData.csv’ is a sample of customer level data extracted and processed for the\n",
        "analysis from various set of transactional files.\n",
        "\n",
        "The objectives of today’s activity are :\n",
        "* Building a regression model to predict the customer revenue based on other factors and understand the influence of other attributes on revenue"
      ]
    },
    {
      "cell_type": "markdown",
      "metadata": {
        "id": "3vNltK2gfntL"
      },
      "source": [
        "### Identify right Error Metrics"
      ]
    },
    {
      "cell_type": "markdown",
      "metadata": {
        "id": "VLXic45cfntM"
      },
      "source": [
        "##### Error Metrics for Regression\n",
        "\n",
        "* Mean Absolute Error (MAE):\n",
        "\n",
        "$$MAE = \\dfrac{1}{n}\\times|\\sum_{i = 1}^{n}y_{i} - \\hat{y_{i}}|$$\n",
        "\n",
        "\n",
        "* Mean Squared Error (MSE):\n",
        "\n",
        "$$MSE = \\dfrac{1}{n}\\times(\\sum_{i = 1}^{n}y_{i} - \\hat{y_{i}})^2$$\n",
        "\n",
        "\n",
        "* Root Mean Squared Error (RMSE):\n",
        "\n",
        "$$RMSE = \\sqrt{\\dfrac{1}{n}\\times(\\sum_{i = 1}^{n}y_{i} - \\hat{y_{i}})^2}$$\n",
        "\n",
        "\n",
        "* Mean Absolute Percentage Error (MAPE):\n",
        "\n",
        "$$MAPE = \\dfrac{100}{n}\\times\\mid\\dfrac{\\sum_{i = 1}^{n}y_{i} - \\hat{y_{i}}}{y_{i}}\\mid$$\n"
      ]
    },
    {
      "cell_type": "markdown",
      "metadata": {
        "id": "UJQt35PAfntM"
      },
      "source": [
        "### Create SPARK_HOME and PYLIB env var and update PATH env var¶"
      ]
    },
    {
      "cell_type": "code",
      "metadata": {
        "id": "iI9qAtLRfntN"
      },
      "source": [
        "!apt-get install openjdk-8-jdk-headless -qq > /dev/null\n",
        "!wget -q https://archive.apache.org/dist/spark/spark-3.0.1/spark-3.0.1-bin-hadoop2.7.tgz"
      ],
      "execution_count": 1,
      "outputs": []
    },
    {
      "cell_type": "code",
      "metadata": {
        "id": "X849Ggohfs4R"
      },
      "source": [
        "!tar xf spark-3.0.1-bin-hadoop2.7.tgz\n",
        "!pip install -q findspark"
      ],
      "execution_count": 2,
      "outputs": []
    },
    {
      "cell_type": "code",
      "metadata": {
        "id": "W2oYa6npf2Z8"
      },
      "source": [
        "import os \n",
        "os.environ[\"JAVA_HOME\"] = \"/usr/lib/jvm/java-8-openjdk-amd64\"\n",
        "os.environ[\"SPARK_HOME\"] = \"/content//spark-3.0.1-bin-hadoop2.7\""
      ],
      "execution_count": 3,
      "outputs": []
    },
    {
      "cell_type": "code",
      "metadata": {
        "id": "vBOwJ1Dxf46w"
      },
      "source": [
        "import findspark\n",
        "findspark.init()"
      ],
      "execution_count": 4,
      "outputs": []
    },
    {
      "cell_type": "code",
      "metadata": {
        "id": "P_MIDMm6f70J"
      },
      "source": [
        "from pyspark.sql.types import *\n",
        "from pyspark.sql.functions import * \n",
        "import numpy as np\n",
        "import pandas as pd\n",
        "from io import StringIO"
      ],
      "execution_count": 5,
      "outputs": []
    },
    {
      "cell_type": "code",
      "metadata": {
        "colab": {
          "base_uri": "https://localhost:8080/"
        },
        "id": "u4MpasVcgAr_",
        "outputId": "b28f209e-a6e4-437c-b9ce-d54671765c06"
      },
      "source": [
        "from google.colab import drive\n",
        "drive.mount('/content/drive')"
      ],
      "execution_count": 6,
      "outputs": [
        {
          "output_type": "stream",
          "text": [
            "Mounted at /content/drive\n"
          ],
          "name": "stdout"
        }
      ]
    },
    {
      "cell_type": "markdown",
      "metadata": {
        "id": "pyhEmt45fntN"
      },
      "source": [
        "### ### Initializing Spark"
      ]
    },
    {
      "cell_type": "markdown",
      "metadata": {
        "id": "qT-i8RNEfntO"
      },
      "source": [
        "Build __SparkConf__ object \n",
        "\n",
        "    Contains information about your application.  \n",
        "\n",
        "\n",
        "Create __SparkContext__ object \n",
        "    \n",
        "    Tells Spark how to access a cluster. \n",
        "    \n",
        "\n",
        "Create __SparkSession__ object\n",
        "\n",
        "    The entry point to programming Spark with the Dataset and DataFrame API.\n",
        "\n",
        "    Used to create DataFrame, register DataFrame as tables and execute SQL over tables etc."
      ]
    },
    {
      "cell_type": "code",
      "metadata": {
        "id": "uokCOSwMfntO"
      },
      "source": [
        "from pyspark.conf import SparkConf\n",
        "from pyspark import SparkContext\n",
        "from pyspark.sql import SparkSession\n",
        "\n",
        "conf = SparkConf().setAppName(\"Customer Use Case\")\n",
        "sc = SparkContext(conf=conf)\n",
        "spark = SparkSession(sc)"
      ],
      "execution_count": 7,
      "outputs": []
    },
    {
      "cell_type": "code",
      "metadata": {
        "colab": {
          "base_uri": "https://localhost:8080/",
          "height": 216
        },
        "id": "F-v-DjtdgUqq",
        "outputId": "a678134b-be72-4bed-b31b-63276309cbac"
      },
      "source": [
        "spark"
      ],
      "execution_count": 8,
      "outputs": [
        {
          "output_type": "execute_result",
          "data": {
            "text/html": [
              "\n",
              "            <div>\n",
              "                <p><b>SparkSession - in-memory</b></p>\n",
              "                \n",
              "        <div>\n",
              "            <p><b>SparkContext</b></p>\n",
              "\n",
              "            <p><a href=\"http://306a1ac4ca5e:4040\">Spark UI</a></p>\n",
              "\n",
              "            <dl>\n",
              "              <dt>Version</dt>\n",
              "                <dd><code>v3.0.1</code></dd>\n",
              "              <dt>Master</dt>\n",
              "                <dd><code>local[*]</code></dd>\n",
              "              <dt>AppName</dt>\n",
              "                <dd><code>Customer Use Case</code></dd>\n",
              "            </dl>\n",
              "        </div>\n",
              "        \n",
              "            </div>\n",
              "        "
            ],
            "text/plain": [
              "<pyspark.sql.session.SparkSession at 0x7ff2894b4390>"
            ]
          },
          "metadata": {
            "tags": []
          },
          "execution_count": 8
        }
      ]
    },
    {
      "cell_type": "markdown",
      "metadata": {
        "id": "QzGyJ0O_fntP"
      },
      "source": [
        "#### Loading the required libraries"
      ]
    },
    {
      "cell_type": "code",
      "metadata": {
        "id": "66qRkZsEfntP"
      },
      "source": [
        "from pyspark.sql.types import *\n",
        "from pyspark.sql.functions import *\n",
        "# from pyspark.sql.functions import isnan, when, count, col, countDistinct"
      ],
      "execution_count": 9,
      "outputs": []
    },
    {
      "cell_type": "markdown",
      "metadata": {
        "id": "KQKqGr3qfntQ"
      },
      "source": [
        "#### Loading the data"
      ]
    },
    {
      "cell_type": "code",
      "metadata": {
        "id": "wpIh2_ZifntQ"
      },
      "source": [
        "## Read data and create a dataframe\n",
        "data = spark.read.format(\"csv\")\\\n",
        "       .option(\"header\", \"true\")\\\n",
        "       .option(\"inferSchema\", \"true\")\\\n",
        "       .load(\"/content/drive/MyDrive/BigData/CustomerData.csv\")"
      ],
      "execution_count": 10,
      "outputs": []
    },
    {
      "cell_type": "markdown",
      "metadata": {
        "id": "DmEHf7fafntR"
      },
      "source": [
        "### Data Understanding"
      ]
    },
    {
      "cell_type": "code",
      "metadata": {
        "colab": {
          "base_uri": "https://localhost:8080/"
        },
        "id": "_Gi2qNAcfntR",
        "outputId": "f5cfb54d-0877-49b5-deec-a2b6b124caa4"
      },
      "source": [
        "# Print Schema\n",
        "data.printSchema()"
      ],
      "execution_count": 11,
      "outputs": [
        {
          "output_type": "stream",
          "text": [
            "root\n",
            " |-- CustomerID: integer (nullable = true)\n",
            " |-- City: integer (nullable = true)\n",
            " |-- NoOfChildren: integer (nullable = true)\n",
            " |-- MinAgeOfChild: integer (nullable = true)\n",
            " |-- MaxAgeOfChild: integer (nullable = true)\n",
            " |-- Tenure: integer (nullable = true)\n",
            " |-- FrquncyOfPurchase: integer (nullable = true)\n",
            " |-- NoOfUnitsPurchased: integer (nullable = true)\n",
            " |-- FrequencyOFPlay: integer (nullable = true)\n",
            " |-- NoOfGamesPlayed: integer (nullable = true)\n",
            " |-- NoOfGamesBought: integer (nullable = true)\n",
            " |-- FavoriteChannelOfTransaction: string (nullable = true)\n",
            " |-- FavoriteGame: string (nullable = true)\n",
            " |-- TotalRevenueGenerated: double (nullable = true)\n",
            "\n"
          ],
          "name": "stdout"
        }
      ]
    },
    {
      "cell_type": "markdown",
      "metadata": {
        "id": "NQcZISzifntS"
      },
      "source": [
        "Total number of Columns and Records"
      ]
    },
    {
      "cell_type": "code",
      "metadata": {
        "colab": {
          "base_uri": "https://localhost:8080/"
        },
        "id": "HRnKUPOWfntT",
        "outputId": "6ca806f1-a835-4cb4-d549-2de726a6dd27"
      },
      "source": [
        "print(\"No. of Columns = {}\".format(len(data.columns)))\n",
        "\n",
        "print('No. of Records = {}'.format(data.count()))"
      ],
      "execution_count": 12,
      "outputs": [
        {
          "output_type": "stream",
          "text": [
            "No. of Columns = 14\n",
            "No. of Records = 3209\n"
          ],
          "name": "stdout"
        }
      ]
    },
    {
      "cell_type": "markdown",
      "metadata": {
        "id": "4y9_WFpufntU"
      },
      "source": [
        "See the top rows of the data"
      ]
    },
    {
      "cell_type": "code",
      "metadata": {
        "colab": {
          "base_uri": "https://localhost:8080/"
        },
        "id": "MDRwMPrgfntU",
        "outputId": "fa8064b1-00d1-4048-f508-20b9e70bb61b"
      },
      "source": [
        "data.show(3)"
      ],
      "execution_count": 13,
      "outputs": [
        {
          "output_type": "stream",
          "text": [
            "+----------+----+------------+-------------+-------------+------+-----------------+------------------+---------------+---------------+---------------+----------------------------+------------+---------------------+\n",
            "|CustomerID|City|NoOfChildren|MinAgeOfChild|MaxAgeOfChild|Tenure|FrquncyOfPurchase|NoOfUnitsPurchased|FrequencyOFPlay|NoOfGamesPlayed|NoOfGamesBought|FavoriteChannelOfTransaction|FavoriteGame|TotalRevenueGenerated|\n",
            "+----------+----+------------+-------------+-------------+------+-----------------+------------------+---------------+---------------+---------------+----------------------------+------------+---------------------+\n",
            "|      1001|   1|           2|            3|            8|   210|               11|                11|           2344|            108|             10|                     Uniform|     Uniform|               107.51|\n",
            "|      1002|   1|           2|            3|            6|   442|               20|                20|            245|             22|              7|                    Favorite|     Uniform|                382.4|\n",
            "|      1003|   1|           4|            3|            5|   424|               18|                18|           1059|            130|             18|                    Favorite|     Uniform|               135.01|\n",
            "+----------+----+------------+-------------+-------------+------+-----------------+------------------+---------------+---------------+---------------+----------------------------+------------+---------------------+\n",
            "only showing top 3 rows\n",
            "\n"
          ],
          "name": "stdout"
        }
      ]
    },
    {
      "cell_type": "markdown",
      "metadata": {
        "id": "wYJZXmeyfntV"
      },
      "source": [
        "Shows a quick statistic summary of your data using Describe"
      ]
    },
    {
      "cell_type": "code",
      "metadata": {
        "scrolled": true,
        "colab": {
          "base_uri": "https://localhost:8080/"
        },
        "id": "UsDtjQtAfntV",
        "outputId": "21780efa-f7e0-4ee8-d9a9-1b92b0d8b408"
      },
      "source": [
        "data.describe().show()"
      ],
      "execution_count": 14,
      "outputs": [
        {
          "output_type": "stream",
          "text": [
            "+-------+----------------+------------------+------------------+------------------+-----------------+-----------------+-----------------+------------------+------------------+-----------------+------------------+----------------------------+------------+---------------------+\n",
            "|summary|      CustomerID|              City|      NoOfChildren|     MinAgeOfChild|    MaxAgeOfChild|           Tenure|FrquncyOfPurchase|NoOfUnitsPurchased|   FrequencyOFPlay|  NoOfGamesPlayed|   NoOfGamesBought|FavoriteChannelOfTransaction|FavoriteGame|TotalRevenueGenerated|\n",
            "+-------+----------------+------------------+------------------+------------------+-----------------+-----------------+-----------------+------------------+------------------+-----------------+------------------+----------------------------+------------+---------------------+\n",
            "|  count|            3209|              3209|              3209|              3209|             3209|             3209|             3209|              3209|              3209|             3209|              3209|                        3209|        3209|                 3209|\n",
            "|   mean|          2605.0| 1.114054222499221| 2.128388906201309|4.9607354315986285|7.990651293237769|347.5204113430975|  16.269554378311|14.684013711436585|1568.2078529136802| 93.6279214708632|14.761607977563104|                        null|        null|    168.4771829230288|\n",
            "| stddev|926.502833239057|0.3179266502109658|1.0350924535316555|3.7141911525693776|8.784084301356664|90.52011823796829|8.441670101163071| 7.182029169207206| 1810.630463829322|88.93637176454973| 8.773909799752934|                        null|        null|    81.79852819468827|\n",
            "|    min|            1001|                 1|                 1|                 0|                3|              100|                1|                 1|                 0|                0|                 0|                    Favorite|    Favorite|                100.0|\n",
            "|    max|            4209|                 2|                11|               113|              113|              472|              119|               112|             27829|             1166|               115|                     Uniform|     Uniform|               990.56|\n",
            "+-------+----------------+------------------+------------------+------------------+-----------------+-----------------+-----------------+------------------+------------------+-----------------+------------------+----------------------------+------------+---------------------+\n",
            "\n"
          ],
          "name": "stdout"
        }
      ]
    },
    {
      "cell_type": "markdown",
      "metadata": {
        "id": "xRJrxDvnfntW"
      },
      "source": [
        "Display the data type of each of the variable"
      ]
    },
    {
      "cell_type": "code",
      "metadata": {
        "colab": {
          "base_uri": "https://localhost:8080/"
        },
        "id": "GTVXSzxNfntW",
        "outputId": "22e091ba-eb94-47a4-e45d-00354205703e"
      },
      "source": [
        "data.dtypes "
      ],
      "execution_count": 15,
      "outputs": [
        {
          "output_type": "execute_result",
          "data": {
            "text/plain": [
              "[('CustomerID', 'int'),\n",
              " ('City', 'int'),\n",
              " ('NoOfChildren', 'int'),\n",
              " ('MinAgeOfChild', 'int'),\n",
              " ('MaxAgeOfChild', 'int'),\n",
              " ('Tenure', 'int'),\n",
              " ('FrquncyOfPurchase', 'int'),\n",
              " ('NoOfUnitsPurchased', 'int'),\n",
              " ('FrequencyOFPlay', 'int'),\n",
              " ('NoOfGamesPlayed', 'int'),\n",
              " ('NoOfGamesBought', 'int'),\n",
              " ('FavoriteChannelOfTransaction', 'string'),\n",
              " ('FavoriteGame', 'string'),\n",
              " ('TotalRevenueGenerated', 'double')]"
            ]
          },
          "metadata": {
            "tags": []
          },
          "execution_count": 15
        }
      ]
    },
    {
      "cell_type": "markdown",
      "metadata": {
        "id": "3-JCT8yrfntX"
      },
      "source": [
        "### Data Preparation"
      ]
    },
    {
      "cell_type": "markdown",
      "metadata": {
        "collapsed": true,
        "id": "hLh3x9uKfntY"
      },
      "source": [
        "#### Observations:\n",
        "    1. City is interpreted as numeric (which is actually categorical) and FavouriteGame, FavouriteChannelOfTransaction are interpreted as objects.\n",
        "    2. max age of children is 113 which must be a wrong entry\n",
        "    3. Summary statistics for CustomerID is not meaningful\n",
        "\n",
        "So we now change these appropriately i.e, convert city, favourite game and favourite channel to category, exclude customer id from the data for analysis and treat wrong entry records"
      ]
    },
    {
      "cell_type": "markdown",
      "metadata": {
        "id": "wUAFshiDfntZ"
      },
      "source": [
        "##### Check and delete CustomerID attribute"
      ]
    },
    {
      "cell_type": "code",
      "metadata": {
        "colab": {
          "base_uri": "https://localhost:8080/"
        },
        "id": "JKQf_J0zfntZ",
        "outputId": "3a0e5e45-bc4b-4d63-f3c5-3e59ae6a29e7"
      },
      "source": [
        "print(data.select(\"CustomerID\").distinct().count())"
      ],
      "execution_count": 16,
      "outputs": [
        {
          "output_type": "stream",
          "text": [
            "3209\n"
          ],
          "name": "stdout"
        }
      ]
    },
    {
      "cell_type": "code",
      "metadata": {
        "id": "XSdGXLs5fnta"
      },
      "source": [
        "# Delete CustomerID attribute\n",
        "data = data.drop(\"CustomerID\")"
      ],
      "execution_count": 17,
      "outputs": []
    },
    {
      "cell_type": "markdown",
      "metadata": {
        "id": "ldWS-yrIfntb"
      },
      "source": [
        "#### Data type conversion \n",
        "    Using astype('category') convert 'City', 'FavoriteChannelOfTransaction', 'FavoriteGame' attributes to a categorical data type ."
      ]
    },
    {
      "cell_type": "code",
      "metadata": {
        "id": "Lbw26dZKfntb"
      },
      "source": [
        "# Creating a list of categorical and numerical features\n",
        "cols = data.columns\n",
        "\n",
        "cat_Var_Names = ['City', 'FavoriteChannelOfTransaction', 'FavoriteGame']\n",
        "\n",
        "num_Var_Names =  list(set(cols) - set(cat_Var_Names))\n",
        "\n",
        "for colTmp1 in cat_Var_Names:\n",
        "    data = data.withColumn(colTmp1, data[colTmp1].cast(\"string\"))\n",
        "\n",
        "for colTmp2 in num_Var_Names:\n",
        "    data = data.withColumn(colTmp2, data[colTmp2].cast(\"double\"))"
      ],
      "execution_count": 18,
      "outputs": []
    },
    {
      "cell_type": "code",
      "metadata": {
        "colab": {
          "base_uri": "https://localhost:8080/"
        },
        "id": "omvio3sgfntc",
        "outputId": "60cc4ee9-7c20-45fc-8234-d56d6c8056df"
      },
      "source": [
        "data.dtypes"
      ],
      "execution_count": 19,
      "outputs": [
        {
          "output_type": "execute_result",
          "data": {
            "text/plain": [
              "[('City', 'string'),\n",
              " ('NoOfChildren', 'double'),\n",
              " ('MinAgeOfChild', 'double'),\n",
              " ('MaxAgeOfChild', 'double'),\n",
              " ('Tenure', 'double'),\n",
              " ('FrquncyOfPurchase', 'double'),\n",
              " ('NoOfUnitsPurchased', 'double'),\n",
              " ('FrequencyOFPlay', 'double'),\n",
              " ('NoOfGamesPlayed', 'double'),\n",
              " ('NoOfGamesBought', 'double'),\n",
              " ('FavoriteChannelOfTransaction', 'string'),\n",
              " ('FavoriteGame', 'string'),\n",
              " ('TotalRevenueGenerated', 'double')]"
            ]
          },
          "metadata": {
            "tags": []
          },
          "execution_count": 19
        }
      ]
    },
    {
      "cell_type": "code",
      "metadata": {
        "colab": {
          "base_uri": "https://localhost:8080/"
        },
        "id": "EIH18CHyfntc",
        "outputId": "26c5d993-7220-4447-a21a-f6d7ee598e6c"
      },
      "source": [
        "data.describe().show()"
      ],
      "execution_count": 20,
      "outputs": [
        {
          "output_type": "stream",
          "text": [
            "+-------+------------------+------------------+------------------+-----------------+-----------------+-----------------+------------------+------------------+-----------------+------------------+----------------------------+------------+---------------------+\n",
            "|summary|              City|      NoOfChildren|     MinAgeOfChild|    MaxAgeOfChild|           Tenure|FrquncyOfPurchase|NoOfUnitsPurchased|   FrequencyOFPlay|  NoOfGamesPlayed|   NoOfGamesBought|FavoriteChannelOfTransaction|FavoriteGame|TotalRevenueGenerated|\n",
            "+-------+------------------+------------------+------------------+-----------------+-----------------+-----------------+------------------+------------------+-----------------+------------------+----------------------------+------------+---------------------+\n",
            "|  count|              3209|              3209|              3209|             3209|             3209|             3209|              3209|              3209|             3209|              3209|                        3209|        3209|                 3209|\n",
            "|   mean| 1.114054222499221| 2.128388906201309|4.9607354315986285|7.990651293237769|347.5204113430975|  16.269554378311|14.684013711436585|1568.2078529136802| 93.6279214708632|14.761607977563104|                        null|        null|    168.4771829230288|\n",
            "| stddev|0.3179266502109658|1.0350924535316555|3.7141911525693776|8.784084301356664|90.52011823796829|8.441670101163071| 7.182029169207206| 1810.630463829322|88.93637176454973| 8.773909799752934|                        null|        null|    81.79852819468827|\n",
            "|    min|                 1|               1.0|               0.0|              3.0|            100.0|              1.0|               1.0|               0.0|              0.0|               0.0|                    Favorite|    Favorite|                100.0|\n",
            "|    max|                 2|              11.0|             113.0|            113.0|            472.0|            119.0|             112.0|           27829.0|           1166.0|             115.0|                     Uniform|     Uniform|               990.56|\n",
            "+-------+------------------+------------------+------------------+-----------------+-----------------+-----------------+------------------+------------------+-----------------+------------------+----------------------------+------------+---------------------+\n",
            "\n"
          ],
          "name": "stdout"
        }
      ]
    },
    {
      "cell_type": "markdown",
      "metadata": {
        "id": "D3MfCcdyfntd"
      },
      "source": [
        "#### Observe how many records have values 113 for age of children"
      ]
    },
    {
      "cell_type": "code",
      "metadata": {
        "colab": {
          "base_uri": "https://localhost:8080/"
        },
        "id": "ZqMxQvWbfnte",
        "outputId": "088ecbc0-de46-4494-f66a-4c29160baf93"
      },
      "source": [
        "data.where((data['MinAgeOfChild']==113) | (data['MaxAgeOfChild']==113)).show()"
      ],
      "execution_count": 21,
      "outputs": [
        {
          "output_type": "stream",
          "text": [
            "+----+------------+-------------+-------------+------+-----------------+------------------+---------------+---------------+---------------+----------------------------+------------+---------------------+\n",
            "|City|NoOfChildren|MinAgeOfChild|MaxAgeOfChild|Tenure|FrquncyOfPurchase|NoOfUnitsPurchased|FrequencyOFPlay|NoOfGamesPlayed|NoOfGamesBought|FavoriteChannelOfTransaction|FavoriteGame|TotalRevenueGenerated|\n",
            "+----+------------+-------------+-------------+------+-----------------+------------------+---------------+---------------+---------------+----------------------------+------------+---------------------+\n",
            "|   1|         2.0|          4.0|        113.0| 205.0|             17.0|              17.0|          158.0|           51.0|            8.0|                    Favorite|     Uniform|               218.85|\n",
            "|   1|         2.0|          3.0|        113.0| 379.0|              6.0|               6.0|          242.0|           32.0|            0.0|                    Favorite|     Uniform|               100.44|\n",
            "|   1|         2.0|        113.0|        113.0| 436.0|             26.0|              26.0|        10502.0|          562.0|           26.0|                    Favorite|     Uniform|                300.0|\n",
            "|   1|         3.0|          6.0|        113.0| 286.0|              6.0|               6.0|         2137.0|           72.0|            6.0|                    Favorite|     Uniform|                102.5|\n",
            "|   1|         2.0|          5.0|        113.0| 202.0|              9.0|               8.0|          483.0|           68.0|            9.0|                    Favorite|     Uniform|                105.0|\n",
            "|   1|         2.0|          5.0|        113.0| 355.0|             16.0|              16.0|         1700.0|          142.0|           10.0|                    Favorite|     Uniform|                270.0|\n",
            "|   1|         3.0|          6.0|        113.0| 432.0|             12.0|              12.0|         2261.0|          194.0|           12.0|                    Favorite|     Uniform|                160.0|\n",
            "|   1|         3.0|          5.0|        113.0| 405.0|             16.0|              14.0|         4438.0|          130.0|           16.0|                     Uniform|     Uniform|                117.5|\n",
            "|   1|         3.0|          4.0|        113.0| 171.0|             15.0|              11.0|         1728.0|           41.0|           15.0|                    Favorite|     Uniform|                107.5|\n",
            "|   1|         2.0|          6.0|        113.0| 187.0|             10.0|               9.0|          731.0|           39.0|           10.0|                     Uniform|     Uniform|                115.0|\n",
            "|   1|         2.0|          4.0|        113.0| 262.0|             10.0|               9.0|          465.0|           36.0|            8.0|                    Favorite|    Favorite|               120.48|\n",
            "|   1|         2.0|          5.0|        113.0| 207.0|             11.0|              11.0|          376.0|           40.0|           11.0|                    Favorite|     Uniform|                120.0|\n",
            "|   1|         2.0|          5.0|        113.0| 332.0|             13.0|              13.0|          266.0|           37.0|           13.0|                    Favorite|     Uniform|               127.51|\n",
            "|   1|         3.0|          3.0|        113.0| 407.0|             26.0|              25.0|         4457.0|          313.0|           24.0|                    Favorite|     Uniform|               212.51|\n",
            "|   1|         5.0|          5.0|        113.0| 326.0|             10.0|              10.0|         1433.0|           37.0|           10.0|                    Favorite|     Uniform|                120.0|\n",
            "|   1|         1.0|        113.0|        113.0| 366.0|             32.0|              29.0|         3067.0|          188.0|           32.0|                    Favorite|     Uniform|               378.76|\n",
            "|   1|         4.0|          5.0|        113.0| 184.0|             27.0|              25.0|          355.0|           74.0|           27.0|                     Uniform|     Uniform|               235.04|\n",
            "|   1|         6.0|          9.0|        113.0| 436.0|             25.0|              21.0|         1898.0|          260.0|           23.0|                    Favorite|     Uniform|               240.98|\n",
            "|   1|         1.0|        113.0|        113.0| 419.0|             17.0|              17.0|          610.0|           48.0|           16.0|                    Favorite|     Uniform|               159.99|\n",
            "|   1|         4.0|          5.0|        113.0| 321.0|             11.0|               9.0|          267.0|           38.0|           11.0|                    Favorite|     Uniform|                172.5|\n",
            "+----+------------+-------------+-------------+------+-----------------+------------------+---------------+---------------+---------------+----------------------------+------------+---------------------+\n",
            "\n"
          ],
          "name": "stdout"
        }
      ]
    },
    {
      "cell_type": "markdown",
      "metadata": {
        "id": "VURz7Jzyfnte"
      },
      "source": [
        "Observe how many records have values 113 for age of children"
      ]
    },
    {
      "cell_type": "markdown",
      "metadata": {
        "id": "IV2v1SWufntf"
      },
      "source": [
        "#### Removing outliers"
      ]
    },
    {
      "cell_type": "code",
      "metadata": {
        "id": "dyAaamFLfntg"
      },
      "source": [
        "#Lets ignore these 20 records for the analysis\n",
        "data = data.where((data['MinAgeOfChild'] != 113) & (data['MaxAgeOfChild'] != 113))"
      ],
      "execution_count": 22,
      "outputs": []
    },
    {
      "cell_type": "code",
      "metadata": {
        "colab": {
          "base_uri": "https://localhost:8080/"
        },
        "id": "h1_2q2vWfntg",
        "outputId": "1e00cbec-7b60-4ba7-f747-57291fabf655"
      },
      "source": [
        "data.count()"
      ],
      "execution_count": 23,
      "outputs": [
        {
          "output_type": "execute_result",
          "data": {
            "text/plain": [
              "3189"
            ]
          },
          "metadata": {
            "tags": []
          },
          "execution_count": 23
        }
      ]
    },
    {
      "cell_type": "markdown",
      "metadata": {
        "id": "FTIGyLx3fnth"
      },
      "source": [
        "#### Missing Data\n",
        "\n",
        "pandas primarily uses the value np.nan to represent missing data. "
      ]
    },
    {
      "cell_type": "markdown",
      "metadata": {
        "id": "NmdmCdJ6fnth"
      },
      "source": [
        "Check for missing value\n",
        "\n",
        "    is.null() output boolean i.e. if missing value then true else false. \n",
        "\n",
        "    sum function counts 'true' thus gives total number of missing values"
      ]
    },
    {
      "cell_type": "code",
      "metadata": {
        "colab": {
          "base_uri": "https://localhost:8080/"
        },
        "id": "pMsDNtHEfnti",
        "outputId": "c27c0050-8780-44ec-8f03-0b5a09ca8ba9"
      },
      "source": [
        "# Checking for null values at each column\n",
        "data.select([count(when(isnan(c) | col(c).isNull(), c)).alias(c) for c in data.columns]).show()"
      ],
      "execution_count": 24,
      "outputs": [
        {
          "output_type": "stream",
          "text": [
            "+----+------------+-------------+-------------+------+-----------------+------------------+---------------+---------------+---------------+----------------------------+------------+---------------------+\n",
            "|City|NoOfChildren|MinAgeOfChild|MaxAgeOfChild|Tenure|FrquncyOfPurchase|NoOfUnitsPurchased|FrequencyOFPlay|NoOfGamesPlayed|NoOfGamesBought|FavoriteChannelOfTransaction|FavoriteGame|TotalRevenueGenerated|\n",
            "+----+------------+-------------+-------------+------+-----------------+------------------+---------------+---------------+---------------+----------------------------+------------+---------------------+\n",
            "|   0|           0|            0|            0|     0|                0|                 0|              0|              0|              0|                           0|           0|                    0|\n",
            "+----+------------+-------------+-------------+------+-----------------+------------------+---------------+---------------+---------------+----------------------------+------------+---------------------+\n",
            "\n"
          ],
          "name": "stdout"
        }
      ]
    },
    {
      "cell_type": "markdown",
      "metadata": {
        "id": "R_BlVE4tfnti"
      },
      "source": [
        "In this case there are no missing values. However if we find any missing values in the data, as a rule of thumb\n",
        "\n",
        "\n",
        "    If the perticular row/column has more number of missing values then drop that perticular rows/column \n",
        "    \n",
        "        e.g. To drop any rows that have missing data use data.dropna(axis=0, inplace=True) \n",
        "        \n",
        "    Otherwise, impute/fill missing data based on domain knowledge or using imputation techniques\n",
        "        \n",
        "        e.g. To fill missing values with mean use data.fillna(data.mean(), inplace=True)      "
      ]
    },
    {
      "cell_type": "code",
      "metadata": {
        "id": "am74UWMGfntj"
      },
      "source": [
        "# The NA values are considered as string values in order to make them null we are comverting the NA values to null values\n",
        "\n",
        "from pyspark.sql.functions import when \n",
        "\n",
        "for col in cols:\n",
        "    data = data.withColumn(col, when(data[col]== \"NA\", None).otherwise(data[col]))"
      ],
      "execution_count": 25,
      "outputs": []
    },
    {
      "cell_type": "code",
      "metadata": {
        "colab": {
          "base_uri": "https://localhost:8080/"
        },
        "id": "HcZ9aHDifntk",
        "outputId": "bde8998c-17a0-41bd-c50f-3fb73996178b"
      },
      "source": [
        "data.columns"
      ],
      "execution_count": 26,
      "outputs": [
        {
          "output_type": "execute_result",
          "data": {
            "text/plain": [
              "['City',\n",
              " 'NoOfChildren',\n",
              " 'MinAgeOfChild',\n",
              " 'MaxAgeOfChild',\n",
              " 'Tenure',\n",
              " 'FrquncyOfPurchase',\n",
              " 'NoOfUnitsPurchased',\n",
              " 'FrequencyOFPlay',\n",
              " 'NoOfGamesPlayed',\n",
              " 'NoOfGamesBought',\n",
              " 'FavoriteChannelOfTransaction',\n",
              " 'FavoriteGame',\n",
              " 'TotalRevenueGenerated']"
            ]
          },
          "metadata": {
            "tags": []
          },
          "execution_count": 26
        }
      ]
    },
    {
      "cell_type": "code",
      "metadata": {
        "colab": {
          "base_uri": "https://localhost:8080/"
        },
        "id": "Pkk4xTbGfntk",
        "outputId": "824272a0-842a-4af5-bc26-1bba5806394c"
      },
      "source": [
        "data.dtypes"
      ],
      "execution_count": 27,
      "outputs": [
        {
          "output_type": "execute_result",
          "data": {
            "text/plain": [
              "[('City', 'string'),\n",
              " ('NoOfChildren', 'double'),\n",
              " ('MinAgeOfChild', 'double'),\n",
              " ('MaxAgeOfChild', 'double'),\n",
              " ('Tenure', 'double'),\n",
              " ('FrquncyOfPurchase', 'double'),\n",
              " ('NoOfUnitsPurchased', 'double'),\n",
              " ('FrequencyOFPlay', 'double'),\n",
              " ('NoOfGamesPlayed', 'double'),\n",
              " ('NoOfGamesBought', 'double'),\n",
              " ('FavoriteChannelOfTransaction', 'string'),\n",
              " ('FavoriteGame', 'string'),\n",
              " ('TotalRevenueGenerated', 'double')]"
            ]
          },
          "metadata": {
            "tags": []
          },
          "execution_count": 27
        }
      ]
    },
    {
      "cell_type": "markdown",
      "metadata": {
        "id": "rMc-vxodfntl"
      },
      "source": [
        "### Train-Test Split"
      ]
    },
    {
      "cell_type": "code",
      "metadata": {
        "id": "qVeoCG4sfntm"
      },
      "source": [
        "# Split the data into training and test sets (30% held out for testing)\n",
        "(trainingData, testData) = data.randomSplit([0.7, 0.3])"
      ],
      "execution_count": 28,
      "outputs": []
    },
    {
      "cell_type": "code",
      "metadata": {
        "id": "TFddprRlfntm"
      },
      "source": [
        "num_Var_Names = list(set(num_Var_Names) - set([\"TotalRevenueGenerated\"]))"
      ],
      "execution_count": 29,
      "outputs": []
    },
    {
      "cell_type": "markdown",
      "metadata": {
        "id": "F7v3mANCfntn"
      },
      "source": [
        "### Use VectorAssembler to combine a given list of numcolumns into a single vector column."
      ]
    },
    {
      "cell_type": "code",
      "metadata": {
        "id": "6TUYncZDfntn"
      },
      "source": [
        "from pyspark.ml.feature import VectorAssembler\n",
        "\n",
        "assembler_Num = VectorAssembler(inputCols=num_Var_Names, outputCol=\"num_features\")"
      ],
      "execution_count": 30,
      "outputs": []
    },
    {
      "cell_type": "markdown",
      "metadata": {
        "id": "CmZb2Pupfnto"
      },
      "source": [
        "### Scaling numeric attributes using MinMaxScaler method\n",
        "\n",
        "1. Scale all the numeric attributes using MinMaxScaler\n",
        "2. MinMaxScaler transforms a dataset of Vector rows, rescaling each feature to a specific range (often [0, 1]). \n",
        "3. MinMaxScaler computes summary statistics on a data set and produces a MinMaxScalerModel.\n",
        "4. The model can then transform each feature individually such that it is in the given range."
      ]
    },
    {
      "cell_type": "code",
      "metadata": {
        "id": "Oc1u41rbfntp"
      },
      "source": [
        "from pyspark.ml.feature import MinMaxScaler\n",
        "\n",
        "min_Max_Scalar = MinMaxScaler(inputCol=\"num_features\", outputCol=\"scaled_num_features\")"
      ],
      "execution_count": 31,
      "outputs": []
    },
    {
      "cell_type": "markdown",
      "metadata": {
        "id": "a7TeSvOefntp"
      },
      "source": [
        "### Covert categorical to numeric: OneHotEncoder, StringIndexer, VectorAssembler,  VectorIndexer"
      ]
    },
    {
      "cell_type": "code",
      "metadata": {
        "id": "Tx-DwglIfntq"
      },
      "source": [
        "from pyspark.ml.feature import OneHotEncoder, StringIndexer, VectorAssembler\n",
        "\n",
        "indexers_Cat = [StringIndexer(inputCol=cat_Var_Name, outputCol=\"{0}_index\".format(cat_Var_Name)) for cat_Var_Name in cat_Var_Names ]\n",
        "encoders_Cat = [OneHotEncoder(inputCol=indexer.getOutputCol(), outputCol=\"{0}_vec\".format(indexer.getInputCol())) for indexer in indexers_Cat]\n",
        "assembler_Cat = VectorAssembler(inputCols=[encoder.getOutputCol() for encoder in encoders_Cat], outputCol=\"cat_features\")\n",
        "\n",
        "assembler = VectorAssembler(inputCols=[\"scaled_num_features\",\"cat_features\"], outputCol=\"features\")\n"
      ],
      "execution_count": 32,
      "outputs": []
    },
    {
      "cell_type": "markdown",
      "metadata": {
        "id": "GP4llw9Kfntr"
      },
      "source": [
        "### Defining the pipeline"
      ]
    },
    {
      "cell_type": "code",
      "metadata": {
        "id": "p4uQrxBYfnts"
      },
      "source": [
        "preprocessiong_Stages = [assembler_Num]+[min_Max_Scalar]+indexers_Cat+encoders_Cat+[assembler_Cat]+[assembler]"
      ],
      "execution_count": 33,
      "outputs": []
    },
    {
      "cell_type": "markdown",
      "metadata": {
        "id": "1WRaJ4bofntt"
      },
      "source": [
        "### Model Building, Tuning and Evaluation"
      ]
    },
    {
      "cell_type": "markdown",
      "metadata": {
        "id": "BgGBczBJfntt"
      },
      "source": [
        "### Linear Regression"
      ]
    },
    {
      "cell_type": "code",
      "metadata": {
        "id": "7ydv6IHNfntu"
      },
      "source": [
        "from pyspark.ml.regression import LinearRegression\n",
        "\n",
        "lr = LinearRegression(maxIter=100,labelCol=\"TotalRevenueGenerated\", featuresCol=\"features\")"
      ],
      "execution_count": 34,
      "outputs": []
    },
    {
      "cell_type": "code",
      "metadata": {
        "id": "pBGV371Ofntv"
      },
      "source": [
        "# Adding Linear regression model to pipeline\n",
        "from pyspark.ml import Pipeline\n",
        "\n",
        "lr_Pipeline = Pipeline(stages=preprocessiong_Stages+[lr]) \n",
        "\n",
        "lr_Pipeline_model = lr_Pipeline.fit(trainingData)"
      ],
      "execution_count": 35,
      "outputs": []
    },
    {
      "cell_type": "code",
      "metadata": {
        "colab": {
          "base_uri": "https://localhost:8080/"
        },
        "id": "U4kskNvUfntw",
        "outputId": "fa3d5524-69ac-4f0a-9646-c16b4f1fa36b"
      },
      "source": [
        "print(\"Coefficients: \" + str(lr_Pipeline_model.stages[-1].coefficients))\n",
        "print(\"Intercept: \" + str(lr_Pipeline_model.stages[-1].intercept))"
      ],
      "execution_count": 36,
      "outputs": [
        {
          "output_type": "stream",
          "text": [
            "Coefficients: [55.953569718254734,-6.029955988043001,-41.61223621456934,-23.985654297988145,59.45697359777263,964.3345084741106,-1300.8254809820721,1278.8358169729913,37.996431225008514,-10.125054231427477,15.238157740623286,-5.6066638488726035]\n",
            "Intercept: 40.71976018574679\n"
          ],
          "name": "stdout"
        }
      ]
    },
    {
      "cell_type": "markdown",
      "metadata": {
        "id": "I7Kftmexfntx"
      },
      "source": [
        "#### Predicting on train and test data"
      ]
    },
    {
      "cell_type": "code",
      "metadata": {
        "id": "4DWiK83Ufntx"
      },
      "source": [
        "\n",
        "train_predictions_lr = lr_Pipeline_model.transform(trainingData)\n",
        "\n",
        "test_predictions_lr = lr_Pipeline_model.transform(testData)"
      ],
      "execution_count": 37,
      "outputs": []
    },
    {
      "cell_type": "code",
      "metadata": {
        "colab": {
          "base_uri": "https://localhost:8080/"
        },
        "id": "m3jKbwkSfnty",
        "outputId": "a060e57b-501d-4bbf-a285-aa3bf83af034"
      },
      "source": [
        "test_predictions_lr.show(2)"
      ],
      "execution_count": 38,
      "outputs": [
        {
          "output_type": "stream",
          "text": [
            "+----+------------+-------------+-------------+------+-----------------+------------------+---------------+---------------+---------------+----------------------------+------------+---------------------+--------------------+--------------------+----------+----------------------------------+------------------+-------------+--------------------------------+----------------+-------------+--------------------+------------------+\n",
            "|City|NoOfChildren|MinAgeOfChild|MaxAgeOfChild|Tenure|FrquncyOfPurchase|NoOfUnitsPurchased|FrequencyOFPlay|NoOfGamesPlayed|NoOfGamesBought|FavoriteChannelOfTransaction|FavoriteGame|TotalRevenueGenerated|        num_features| scaled_num_features|City_index|FavoriteChannelOfTransaction_index|FavoriteGame_index|     City_vec|FavoriteChannelOfTransaction_vec|FavoriteGame_vec| cat_features|            features|        prediction|\n",
            "+----+------------+-------------+-------------+------+-----------------+------------------+---------------+---------------+---------------+----------------------------+------------+---------------------+--------------------+--------------------+----------+----------------------------------+------------------+-------------+--------------------------------+----------------+-------------+--------------------+------------------+\n",
            "|   1|         1.0|          3.0|          3.0| 313.0|             11.0|              11.0|           86.0|           13.0|           11.0|                    Favorite|    Favorite|                120.0|[3.0,313.0,13.0,3...|[0.17647058823529...|       0.0|                               0.0|               1.0|(1,[0],[1.0])|                   (1,[0],[1.0])|       (1,[],[])|[1.0,1.0,0.0]|[0.17647058823529...|122.88958662683413|\n",
            "|   1|         1.0|          3.0|          3.0| 392.0|             11.0|              11.0|          443.0|           16.0|            9.0|                    Favorite|     Uniform|               140.98|[3.0,392.0,16.0,3...|[0.17647058823529...|       0.0|                               0.0|               0.0|(1,[0],[1.0])|                   (1,[0],[1.0])|   (1,[0],[1.0])|[1.0,1.0,1.0]|[0.17647058823529...| 139.6517460013294|\n",
            "+----+------------+-------------+-------------+------+-----------------+------------------+---------------+---------------+---------------+----------------------------+------------+---------------------+--------------------+--------------------+----------+----------------------------------+------------------+-------------+--------------------------------+----------------+-------------+--------------------+------------------+\n",
            "only showing top 2 rows\n",
            "\n"
          ],
          "name": "stdout"
        }
      ]
    },
    {
      "cell_type": "code",
      "metadata": {
        "id": "AjiuAo5Wfntz"
      },
      "source": [
        "# Find the error metric - RMSE\n",
        "from pyspark.ml.evaluation import RegressionEvaluator\n",
        "\n",
        "evaluator = RegressionEvaluator(labelCol=\"TotalRevenueGenerated\",\n",
        "                            predictionCol=\"prediction\",\n",
        "                            metricName=\"rmse\" )"
      ],
      "execution_count": 39,
      "outputs": []
    },
    {
      "cell_type": "code",
      "metadata": {
        "colab": {
          "base_uri": "https://localhost:8080/"
        },
        "id": "QXuRU5Wtfnt1",
        "outputId": "4436061d-8ba4-4d52-b5fc-3c97ae7e6a17"
      },
      "source": [
        "lmRegTrain_rmse = evaluator.evaluate(train_predictions_lr)\n",
        "print('RMSE value on Train data is', lmRegTrain_rmse)\n",
        "\n",
        "lmRegTest_rmse = evaluator.evaluate(test_predictions_lr)\n",
        "print('RMSE value on Test data is', lmRegTest_rmse)"
      ],
      "execution_count": 40,
      "outputs": [
        {
          "output_type": "stream",
          "text": [
            "RMSE value on Train data is 43.135444226238576\n",
            "RMSE value on Test data is 43.489969777101905\n"
          ],
          "name": "stdout"
        }
      ]
    },
    {
      "cell_type": "markdown",
      "metadata": {
        "id": "5z1l-t0Sfnt2"
      },
      "source": [
        "### Tuning LR Model"
      ]
    },
    {
      "cell_type": "code",
      "metadata": {
        "id": "KjPY2O0Jfnt2"
      },
      "source": [
        "from pyspark.ml.tuning import ParamGridBuilder, CrossValidator"
      ],
      "execution_count": 41,
      "outputs": []
    },
    {
      "cell_type": "code",
      "metadata": {
        "id": "nEVVGo8Qfnt3"
      },
      "source": [
        "# Defining the grid parameters and Cross validator\n",
        "\n",
        "paramGridLR = ParamGridBuilder()\\\n",
        "    .addGrid(lr.regParam, [0.1]) \\\n",
        "    .addGrid(lr.elasticNetParam, [0.5])\\\n",
        "    .addGrid(lr.maxIter, [100])\\\n",
        "    .build()\n",
        "    \n",
        "lr_crossval = CrossValidator(estimator=lr_Pipeline,\n",
        "                             estimatorParamMaps=paramGridLR,\n",
        "                             evaluator=RegressionEvaluator(labelCol=\"TotalRevenueGenerated\"),\n",
        "                             numFolds=2)          "
      ],
      "execution_count": 42,
      "outputs": []
    },
    {
      "cell_type": "code",
      "metadata": {
        "id": "saUs7xn2fnt3"
      },
      "source": [
        "# Run cross-validation, and choose the best set of parameters.\n",
        "lr_crossval_Model = lr_crossval.fit(trainingData)"
      ],
      "execution_count": 43,
      "outputs": []
    },
    {
      "cell_type": "code",
      "metadata": {
        "id": "hVWLN90Tfnt4"
      },
      "source": [
        "# Predicting on train and test data using cross validation model\n",
        "train_predictions_lrcv = lr_crossval_Model.transform(trainingData)\n",
        "test_predictions_lrcv = lr_crossval_Model.transform(testData)"
      ],
      "execution_count": 44,
      "outputs": []
    },
    {
      "cell_type": "code",
      "metadata": {
        "colab": {
          "base_uri": "https://localhost:8080/"
        },
        "id": "_Y2kJh9Sfnt5",
        "outputId": "4075c8f0-e22d-48a0-d31d-9722400a73ac"
      },
      "source": [
        "# Evaluating the model\n",
        "lmRegTrain_rmsecv = evaluator.evaluate(train_predictions_lrcv)\n",
        "print('RMSE value on Train data is', lmRegTrain_rmsecv)\n",
        "\n",
        "lmRegTest_rmsecv = evaluator.evaluate(test_predictions_lrcv)\n",
        "print('RMSE value on Test data is', lmRegTest_rmsecv)"
      ],
      "execution_count": 45,
      "outputs": [
        {
          "output_type": "stream",
          "text": [
            "RMSE value on Train data is 43.14253963828042\n",
            "RMSE value on Test data is 43.49978078230788\n"
          ],
          "name": "stdout"
        }
      ]
    },
    {
      "cell_type": "markdown",
      "metadata": {
        "id": "6kLzsA8lfnt5"
      },
      "source": [
        "##### Correlation between numeric attributes "
      ]
    },
    {
      "cell_type": "code",
      "metadata": {
        "id": "VmSRekrCfnt6"
      },
      "source": [
        "num_Var_Names = num_Var_Names + [\"TotalRevenueGenerated\"]"
      ],
      "execution_count": 46,
      "outputs": []
    },
    {
      "cell_type": "code",
      "metadata": {
        "colab": {
          "base_uri": "https://localhost:8080/"
        },
        "id": "CVMiWKTvfnt6",
        "outputId": "87e07139-06d4-40ed-9616-46e7a70a0a89"
      },
      "source": [
        "num_attr = data.select(num_Var_Names)\n",
        "num_attr"
      ],
      "execution_count": 47,
      "outputs": [
        {
          "output_type": "execute_result",
          "data": {
            "text/plain": [
              "DataFrame[MinAgeOfChild: double, Tenure: double, NoOfGamesPlayed: double, MaxAgeOfChild: double, FrequencyOFPlay: double, NoOfUnitsPurchased: double, NoOfGamesBought: double, FrquncyOfPurchase: double, NoOfChildren: double, TotalRevenueGenerated: double]"
            ]
          },
          "metadata": {
            "tags": []
          },
          "execution_count": 47
        }
      ]
    },
    {
      "cell_type": "code",
      "metadata": {
        "colab": {
          "base_uri": "https://localhost:8080/"
        },
        "id": "P3845iXjfnt7",
        "outputId": "8f9ed842-a0dc-4d29-eb99-9f4d535a0835"
      },
      "source": [
        "from pyspark.ml.linalg import Vectors\n",
        "from pyspark.ml.stat import Correlation\n",
        "\n",
        "num_attr = assembler_Num.transform(num_attr)\n",
        "\n",
        "r1 = Correlation.corr(num_attr, \"num_features\").head()\n",
        "print(\"Pearson correlation matrix:\\n\" + str(r1[0]))"
      ],
      "execution_count": 48,
      "outputs": [
        {
          "output_type": "stream",
          "text": [
            "Pearson correlation matrix:\n",
            "DenseMatrix([[ 1.        , -0.16315477, -0.11758011,  0.26784645, -0.09015244,\n",
            "              -0.09163769, -0.08549426, -0.10104056, -0.35249942],\n",
            "             [-0.16315477,  1.        ,  0.27172387, -0.04409811,  0.24003489,\n",
            "               0.19155512,  0.18771993,  0.19267247,  0.08658319],\n",
            "             [-0.11758011,  0.27172387,  1.        ,  0.01760575,  0.73815438,\n",
            "               0.43456408,  0.39794182,  0.39633292,  0.21422604],\n",
            "             [ 0.26784645, -0.04409811,  0.01760575,  1.        , -0.00239256,\n",
            "              -0.01276066, -0.01104729, -0.00497733,  0.46133215],\n",
            "             [-0.09015244,  0.24003489,  0.73815438, -0.00239256,  1.        ,\n",
            "               0.31043645,  0.28539018,  0.27869029,  0.1665357 ],\n",
            "             [-0.09163769,  0.19155512,  0.43456408, -0.01276066,  0.31043645,\n",
            "               1.        ,  0.86811298,  0.93389444,  0.13824432],\n",
            "             [-0.08549426,  0.18771993,  0.39794182, -0.01104729,  0.28539018,\n",
            "               0.86811298,  1.        ,  0.94778752,  0.13184346],\n",
            "             [-0.10104056,  0.19267247,  0.39633292, -0.00497733,  0.27869029,\n",
            "               0.93389444,  0.94778752,  1.        ,  0.13850722],\n",
            "             [-0.35249942,  0.08658319,  0.21422604,  0.46133215,  0.1665357 ,\n",
            "               0.13824432,  0.13184346,  0.13850722,  1.        ]])\n"
          ],
          "name": "stdout"
        }
      ]
    },
    {
      "cell_type": "code",
      "metadata": {
        "id": "rHC266cxfnt8"
      },
      "source": [
        ""
      ],
      "execution_count": null,
      "outputs": []
    }
  ]
}