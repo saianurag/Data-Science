{
  "nbformat": 4,
  "nbformat_minor": 0,
  "metadata": {
    "colab": {
      "name": "20210625_Batch91_CSE7246o_SparkML_Lab_01.ipynb",
      "provenance": []
    },
    "kernelspec": {
      "name": "python3",
      "display_name": "Python 3"
    },
    "language_info": {
      "name": "python"
    }
  },
  "cells": [
    {
      "cell_type": "code",
      "metadata": {
        "id": "AX3imD6cWzg1"
      },
      "source": [
        "!apt-get install openjdk-8-jdk-headless -qq > /dev/null\n",
        "!wget -q https://archive.apache.org/dist/spark/spark-3.0.1/spark-3.0.1-bin-hadoop2.7.tgz"
      ],
      "execution_count": 5,
      "outputs": []
    },
    {
      "cell_type": "code",
      "metadata": {
        "id": "2RYCdRaUW-oW"
      },
      "source": [
        "!tar xf spark-3.0.1-bin-hadoop2.7.tgz\n",
        "!pip install -q findspark"
      ],
      "execution_count": 6,
      "outputs": []
    },
    {
      "cell_type": "code",
      "metadata": {
        "id": "X3_mzSlsXBhi"
      },
      "source": [
        "import os \n",
        "os.environ[\"JAVA_HOME\"] = \"/usr/lib/jvm/java-8-openjdk-amd64\"\n",
        "os.environ[\"SPARK_HOME\"] = \"/content//spark-3.0.1-bin-hadoop2.7\""
      ],
      "execution_count": 9,
      "outputs": []
    },
    {
      "cell_type": "code",
      "metadata": {
        "id": "VSZkoJnuXDct"
      },
      "source": [
        "import findspark\n",
        "findspark.init()"
      ],
      "execution_count": 10,
      "outputs": []
    },
    {
      "cell_type": "code",
      "metadata": {
        "colab": {
          "base_uri": "https://localhost:8080/"
        },
        "id": "-MOQUBTzXFGQ",
        "outputId": "7aa3bd94-103c-4cdc-a168-df1c1f449ced"
      },
      "source": [
        "! pip install chart_studio"
      ],
      "execution_count": 11,
      "outputs": [
        {
          "output_type": "stream",
          "text": [
            "Collecting chart_studio\n",
            "\u001b[?25l  Downloading https://files.pythonhosted.org/packages/ca/ce/330794a6b6ca4b9182c38fc69dd2a9cbff60fd49421cb8648ee5fee352dc/chart_studio-1.1.0-py3-none-any.whl (64kB)\n",
            "\r\u001b[K     |█████                           | 10kB 17.9MB/s eta 0:00:01\r\u001b[K     |██████████▏                     | 20kB 23.4MB/s eta 0:00:01\r\u001b[K     |███████████████▎                | 30kB 28.9MB/s eta 0:00:01\r\u001b[K     |████████████████████▍           | 40kB 19.5MB/s eta 0:00:01\r\u001b[K     |█████████████████████████▍      | 51kB 17.7MB/s eta 0:00:01\r\u001b[K     |██████████████████████████████▌ | 61kB 19.9MB/s eta 0:00:01\r\u001b[K     |████████████████████████████████| 71kB 5.8MB/s \n",
            "\u001b[?25hRequirement already satisfied: retrying>=1.3.3 in /usr/local/lib/python3.7/dist-packages (from chart_studio) (1.3.3)\n",
            "Requirement already satisfied: requests in /usr/local/lib/python3.7/dist-packages (from chart_studio) (2.23.0)\n",
            "Requirement already satisfied: plotly in /usr/local/lib/python3.7/dist-packages (from chart_studio) (4.4.1)\n",
            "Requirement already satisfied: six in /usr/local/lib/python3.7/dist-packages (from chart_studio) (1.15.0)\n",
            "Requirement already satisfied: certifi>=2017.4.17 in /usr/local/lib/python3.7/dist-packages (from requests->chart_studio) (2021.5.30)\n",
            "Requirement already satisfied: urllib3!=1.25.0,!=1.25.1,<1.26,>=1.21.1 in /usr/local/lib/python3.7/dist-packages (from requests->chart_studio) (1.24.3)\n",
            "Requirement already satisfied: chardet<4,>=3.0.2 in /usr/local/lib/python3.7/dist-packages (from requests->chart_studio) (3.0.4)\n",
            "Requirement already satisfied: idna<3,>=2.5 in /usr/local/lib/python3.7/dist-packages (from requests->chart_studio) (2.10)\n",
            "Installing collected packages: chart-studio\n",
            "Successfully installed chart-studio-1.1.0\n"
          ],
          "name": "stdout"
        }
      ]
    },
    {
      "cell_type": "code",
      "metadata": {
        "id": "7V9NdzIyZYsG"
      },
      "source": [
        "from pyspark.sql.types import *\n",
        "from pyspark.sql.functions import * "
      ],
      "execution_count": 12,
      "outputs": []
    },
    {
      "cell_type": "code",
      "metadata": {
        "id": "ZuHyYdFVZcoe"
      },
      "source": [
        "import numpy as np\n",
        "import pandas as pd\n",
        "from io import StringIO"
      ],
      "execution_count": 13,
      "outputs": []
    },
    {
      "cell_type": "code",
      "metadata": {
        "colab": {
          "base_uri": "https://localhost:8080/"
        },
        "id": "lNWjr-oHZfLL",
        "outputId": "5ace074c-439f-46e9-8cbc-b2e47f059eae"
      },
      "source": [
        "from google.colab import drive\n",
        "drive.mount('/content/drive')"
      ],
      "execution_count": 14,
      "outputs": [
        {
          "output_type": "stream",
          "text": [
            "Drive already mounted at /content/drive; to attempt to forcibly remount, call drive.mount(\"/content/drive\", force_remount=True).\n"
          ],
          "name": "stdout"
        }
      ]
    },
    {
      "cell_type": "code",
      "metadata": {
        "id": "yC78CVIgZylr"
      },
      "source": [
        "import pyspark\n",
        "from pyspark.sql import SparkSession"
      ],
      "execution_count": 17,
      "outputs": []
    },
    {
      "cell_type": "code",
      "metadata": {
        "id": "O-1Ee-REZ030"
      },
      "source": [
        "spark = SparkSession.builder.appName('SparkML_1').getOrCreate()"
      ],
      "execution_count": 18,
      "outputs": []
    },
    {
      "cell_type": "code",
      "metadata": {
        "colab": {
          "base_uri": "https://localhost:8080/",
          "height": 216
        },
        "id": "j9cQw4bGZ39D",
        "outputId": "7617e98b-e934-4e83-a21c-f91e483afa1b"
      },
      "source": [
        "spark"
      ],
      "execution_count": 19,
      "outputs": [
        {
          "output_type": "execute_result",
          "data": {
            "text/html": [
              "\n",
              "            <div>\n",
              "                <p><b>SparkSession - in-memory</b></p>\n",
              "                \n",
              "        <div>\n",
              "            <p><b>SparkContext</b></p>\n",
              "\n",
              "            <p><a href=\"http://48764ec30795:4040\">Spark UI</a></p>\n",
              "\n",
              "            <dl>\n",
              "              <dt>Version</dt>\n",
              "                <dd><code>v3.0.1</code></dd>\n",
              "              <dt>Master</dt>\n",
              "                <dd><code>local[*]</code></dd>\n",
              "              <dt>AppName</dt>\n",
              "                <dd><code>SparkML_1</code></dd>\n",
              "            </dl>\n",
              "        </div>\n",
              "        \n",
              "            </div>\n",
              "        "
            ],
            "text/plain": [
              "<pyspark.sql.session.SparkSession at 0x7fc9977fdad0>"
            ]
          },
          "metadata": {
            "tags": []
          },
          "execution_count": 19
        }
      ]
    },
    {
      "cell_type": "code",
      "metadata": {
        "colab": {
          "base_uri": "https://localhost:8080/"
        },
        "id": "GMBF-J9NZ6ue",
        "outputId": "5e44506e-c089-4527-ceea-3cfb1ae45e52"
      },
      "source": [
        "! pip install chart_studio"
      ],
      "execution_count": 20,
      "outputs": [
        {
          "output_type": "stream",
          "text": [
            "Requirement already satisfied: chart_studio in /usr/local/lib/python3.7/dist-packages (1.1.0)\n",
            "Requirement already satisfied: retrying>=1.3.3 in /usr/local/lib/python3.7/dist-packages (from chart_studio) (1.3.3)\n",
            "Requirement already satisfied: six in /usr/local/lib/python3.7/dist-packages (from chart_studio) (1.15.0)\n",
            "Requirement already satisfied: requests in /usr/local/lib/python3.7/dist-packages (from chart_studio) (2.23.0)\n",
            "Requirement already satisfied: plotly in /usr/local/lib/python3.7/dist-packages (from chart_studio) (4.4.1)\n",
            "Requirement already satisfied: idna<3,>=2.5 in /usr/local/lib/python3.7/dist-packages (from requests->chart_studio) (2.10)\n",
            "Requirement already satisfied: certifi>=2017.4.17 in /usr/local/lib/python3.7/dist-packages (from requests->chart_studio) (2021.5.30)\n",
            "Requirement already satisfied: urllib3!=1.25.0,!=1.25.1,<1.26,>=1.21.1 in /usr/local/lib/python3.7/dist-packages (from requests->chart_studio) (1.24.3)\n",
            "Requirement already satisfied: chardet<4,>=3.0.2 in /usr/local/lib/python3.7/dist-packages (from requests->chart_studio) (3.0.4)\n"
          ],
          "name": "stdout"
        }
      ]
    },
    {
      "cell_type": "code",
      "metadata": {
        "id": "AD283PwAZhAz"
      },
      "source": [
        "bankDataSchema = StructType([\n",
        "                 StructField(\"seqId\",IntegerType(),True),\n",
        "                 StructField(\"age\",IntegerType(),True),\n",
        "                 StructField(\"job\",StringType(),True),\n",
        "                 StructField(\"maritalStatus\",StringType(),True),\n",
        "                 StructField(\"education\",StringType(),True),\n",
        "                 StructField(\"default\",StringType(),True),\n",
        "                 StructField(\"balance\",DoubleType(),True),\n",
        "                 StructField(\"housing\",StringType(),True),\n",
        "                 StructField(\"loan\",StringType(),True),\n",
        "                 StructField(\"contact\",StringType(),True),\n",
        "                 StructField(\"day\",IntegerType(),True),\n",
        "                 StructField(\"month\",StringType(),True),\n",
        "                 StructField(\"duration\",DoubleType(),True),\n",
        "                 StructField(\"campaign\",DoubleType(),True),\n",
        "                 StructField(\"pdays\",DoubleType(),True),\n",
        "                 StructField(\"previous\",DoubleType(),True),\n",
        "                 StructField(\"poutcome\",StringType(),True),\n",
        "                 StructField(\"opened_new_td_act_yes_no\",StringType(),True)\n",
        "                 ])"
      ],
      "execution_count": 21,
      "outputs": []
    },
    {
      "cell_type": "code",
      "metadata": {
        "id": "hksA2CDsZkbT"
      },
      "source": [
        "bankDF = spark.read.format('csv')\\\n",
        ".option('header','false')\\\n",
        ".option('inferSchema','true')\\\n",
        ".load(\"/content/drive/My Drive/BigData/spark2020/bank_data.csv\", schema=bankDataSchema)"
      ],
      "execution_count": 22,
      "outputs": []
    },
    {
      "cell_type": "code",
      "metadata": {
        "colab": {
          "base_uri": "https://localhost:8080/",
          "height": 238
        },
        "id": "mSH_Y3vxZpdQ",
        "outputId": "17fc9666-31bb-466a-abee-1f58e6feb9cb"
      },
      "source": [
        "% time\n",
        "spark.conf.set(\"spark.sql.execution.arrow.enabled\",\"false\")\n",
        "pdf = pd.DataFrame(np.random.rand(100,3))\n",
        "sparkdf = spark.createDataFrame(pdf)\n",
        "\n",
        "result_df = sparkdf.select(\"*\").toPandas()\n",
        "result_df.head()"
      ],
      "execution_count": 23,
      "outputs": [
        {
          "output_type": "stream",
          "text": [
            "CPU times: user 2 µs, sys: 0 ns, total: 2 µs\n",
            "Wall time: 10.7 µs\n"
          ],
          "name": "stdout"
        },
        {
          "output_type": "execute_result",
          "data": {
            "text/html": [
              "<div>\n",
              "<style scoped>\n",
              "    .dataframe tbody tr th:only-of-type {\n",
              "        vertical-align: middle;\n",
              "    }\n",
              "\n",
              "    .dataframe tbody tr th {\n",
              "        vertical-align: top;\n",
              "    }\n",
              "\n",
              "    .dataframe thead th {\n",
              "        text-align: right;\n",
              "    }\n",
              "</style>\n",
              "<table border=\"1\" class=\"dataframe\">\n",
              "  <thead>\n",
              "    <tr style=\"text-align: right;\">\n",
              "      <th></th>\n",
              "      <th>0</th>\n",
              "      <th>1</th>\n",
              "      <th>2</th>\n",
              "    </tr>\n",
              "  </thead>\n",
              "  <tbody>\n",
              "    <tr>\n",
              "      <th>0</th>\n",
              "      <td>0.120408</td>\n",
              "      <td>0.304737</td>\n",
              "      <td>0.849109</td>\n",
              "    </tr>\n",
              "    <tr>\n",
              "      <th>1</th>\n",
              "      <td>0.419317</td>\n",
              "      <td>0.669662</td>\n",
              "      <td>0.165568</td>\n",
              "    </tr>\n",
              "    <tr>\n",
              "      <th>2</th>\n",
              "      <td>0.900682</td>\n",
              "      <td>0.974140</td>\n",
              "      <td>0.083813</td>\n",
              "    </tr>\n",
              "    <tr>\n",
              "      <th>3</th>\n",
              "      <td>0.394541</td>\n",
              "      <td>0.613149</td>\n",
              "      <td>0.295657</td>\n",
              "    </tr>\n",
              "    <tr>\n",
              "      <th>4</th>\n",
              "      <td>0.126392</td>\n",
              "      <td>0.409064</td>\n",
              "      <td>0.606512</td>\n",
              "    </tr>\n",
              "  </tbody>\n",
              "</table>\n",
              "</div>"
            ],
            "text/plain": [
              "          0         1         2\n",
              "0  0.120408  0.304737  0.849109\n",
              "1  0.419317  0.669662  0.165568\n",
              "2  0.900682  0.974140  0.083813\n",
              "3  0.394541  0.613149  0.295657\n",
              "4  0.126392  0.409064  0.606512"
            ]
          },
          "metadata": {
            "tags": []
          },
          "execution_count": 23
        }
      ]
    },
    {
      "cell_type": "code",
      "metadata": {
        "colab": {
          "base_uri": "https://localhost:8080/"
        },
        "id": "WgpBu-2XaBXV",
        "outputId": "0fdafe23-211a-41c0-ea88-887a29e74b29"
      },
      "source": [
        "bankDF.printSchema()"
      ],
      "execution_count": 24,
      "outputs": [
        {
          "output_type": "stream",
          "text": [
            "root\n",
            " |-- seqId: integer (nullable = true)\n",
            " |-- age: integer (nullable = true)\n",
            " |-- job: string (nullable = true)\n",
            " |-- maritalStatus: string (nullable = true)\n",
            " |-- education: string (nullable = true)\n",
            " |-- default: string (nullable = true)\n",
            " |-- balance: double (nullable = true)\n",
            " |-- housing: string (nullable = true)\n",
            " |-- loan: string (nullable = true)\n",
            " |-- contact: string (nullable = true)\n",
            " |-- day: integer (nullable = true)\n",
            " |-- month: string (nullable = true)\n",
            " |-- duration: double (nullable = true)\n",
            " |-- campaign: double (nullable = true)\n",
            " |-- pdays: double (nullable = true)\n",
            " |-- previous: double (nullable = true)\n",
            " |-- poutcome: string (nullable = true)\n",
            " |-- opened_new_td_act_yes_no: string (nullable = true)\n",
            "\n"
          ],
          "name": "stdout"
        }
      ]
    },
    {
      "cell_type": "code",
      "metadata": {
        "colab": {
          "base_uri": "https://localhost:8080/"
        },
        "id": "KMubwv51aEf7",
        "outputId": "ec26d1b0-c058-49ec-877b-09928efe21b3"
      },
      "source": [
        "bankDF.dtypes"
      ],
      "execution_count": 25,
      "outputs": [
        {
          "output_type": "execute_result",
          "data": {
            "text/plain": [
              "[('seqId', 'int'),\n",
              " ('age', 'int'),\n",
              " ('job', 'string'),\n",
              " ('maritalStatus', 'string'),\n",
              " ('education', 'string'),\n",
              " ('default', 'string'),\n",
              " ('balance', 'double'),\n",
              " ('housing', 'string'),\n",
              " ('loan', 'string'),\n",
              " ('contact', 'string'),\n",
              " ('day', 'int'),\n",
              " ('month', 'string'),\n",
              " ('duration', 'double'),\n",
              " ('campaign', 'double'),\n",
              " ('pdays', 'double'),\n",
              " ('previous', 'double'),\n",
              " ('poutcome', 'string'),\n",
              " ('opened_new_td_act_yes_no', 'string')]"
            ]
          },
          "metadata": {
            "tags": []
          },
          "execution_count": 25
        }
      ]
    },
    {
      "cell_type": "code",
      "metadata": {
        "colab": {
          "base_uri": "https://localhost:8080/"
        },
        "id": "GDg5gIbHaGXi",
        "outputId": "30d56633-902a-4e24-b61f-bbfbc56d557d"
      },
      "source": [
        "bankDF.show(3)"
      ],
      "execution_count": 26,
      "outputs": [
        {
          "output_type": "stream",
          "text": [
            "+-----+---+----------+-------------+---------+-------+-------+-------+----+--------+---+-----+--------+--------+-----+--------+--------+------------------------+\n",
            "|seqId|age|       job|maritalStatus|education|default|balance|housing|loan| contact|day|month|duration|campaign|pdays|previous|poutcome|opened_new_td_act_yes_no|\n",
            "+-----+---+----------+-------------+---------+-------+-------+-------+----+--------+---+-----+--------+--------+-----+--------+--------+------------------------+\n",
            "| 1001| 30|unemployed|      married|  primary|     no| 1787.0|     no|  no|cellular| 19|  oct|    79.0|     1.0| -1.0|     0.0| unknown|                      no|\n",
            "| 1002| 33|  services|      married|secondary|     no| 4789.0|    yes| yes|cellular| 11|  may|   220.0|     1.0|339.0|     4.0| failure|                      no|\n",
            "| 1003| 35|management|       single| tertiary|     no| 1350.0|    yes|  no|cellular| 16|  apr|   185.0|     1.0|330.0|     1.0| failure|                      no|\n",
            "+-----+---+----------+-------------+---------+-------+-------+-------+----+--------+---+-----+--------+--------+-----+--------+--------+------------------------+\n",
            "only showing top 3 rows\n",
            "\n"
          ],
          "name": "stdout"
        }
      ]
    },
    {
      "cell_type": "code",
      "metadata": {
        "colab": {
          "base_uri": "https://localhost:8080/"
        },
        "id": "Yk0qd_cVaID6",
        "outputId": "a062b4d5-6c41-42de-ea29-ecb84a7808e6"
      },
      "source": [
        "bankDF.cache()"
      ],
      "execution_count": 27,
      "outputs": [
        {
          "output_type": "execute_result",
          "data": {
            "text/plain": [
              "DataFrame[seqId: int, age: int, job: string, maritalStatus: string, education: string, default: string, balance: double, housing: string, loan: string, contact: string, day: int, month: string, duration: double, campaign: double, pdays: double, previous: double, poutcome: string, opened_new_td_act_yes_no: string]"
            ]
          },
          "metadata": {
            "tags": []
          },
          "execution_count": 27
        }
      ]
    },
    {
      "cell_type": "code",
      "metadata": {
        "colab": {
          "base_uri": "https://localhost:8080/"
        },
        "id": "0RT8nsbiaLR5",
        "outputId": "2778c2b4-cb51-4a65-8096-35539182da7c"
      },
      "source": [
        "bankDF.take(2)"
      ],
      "execution_count": 28,
      "outputs": [
        {
          "output_type": "execute_result",
          "data": {
            "text/plain": [
              "[Row(seqId=1001, age=30, job='unemployed', maritalStatus='married', education='primary', default='no', balance=1787.0, housing='no', loan='no', contact='cellular', day=19, month='oct', duration=79.0, campaign=1.0, pdays=-1.0, previous=0.0, poutcome='unknown', opened_new_td_act_yes_no='no'),\n",
              " Row(seqId=1002, age=33, job='services', maritalStatus='married', education='secondary', default='no', balance=4789.0, housing='yes', loan='yes', contact='cellular', day=11, month='may', duration=220.0, campaign=1.0, pdays=339.0, previous=4.0, poutcome='failure', opened_new_td_act_yes_no='no')]"
            ]
          },
          "metadata": {
            "tags": []
          },
          "execution_count": 28
        }
      ]
    },
    {
      "cell_type": "code",
      "metadata": {
        "colab": {
          "base_uri": "https://localhost:8080/"
        },
        "id": "r58nbRzTaNOC",
        "outputId": "7dfaaa4e-1880-4694-8710-d23b32e07b4c"
      },
      "source": [
        "len(bankDF.columns)"
      ],
      "execution_count": 29,
      "outputs": [
        {
          "output_type": "execute_result",
          "data": {
            "text/plain": [
              "18"
            ]
          },
          "metadata": {
            "tags": []
          },
          "execution_count": 29
        }
      ]
    },
    {
      "cell_type": "code",
      "metadata": {
        "colab": {
          "base_uri": "https://localhost:8080/"
        },
        "id": "Emy3YoFzaQWP",
        "outputId": "b5233927-b3ed-4ccc-f2c7-0b47004390e0"
      },
      "source": [
        "bankDF.count()"
      ],
      "execution_count": 30,
      "outputs": [
        {
          "output_type": "execute_result",
          "data": {
            "text/plain": [
              "4521"
            ]
          },
          "metadata": {
            "tags": []
          },
          "execution_count": 30
        }
      ]
    },
    {
      "cell_type": "code",
      "metadata": {
        "id": "QWLk3o4QaSZW"
      },
      "source": [
        "bankDF = bankDF.drop('seqId')"
      ],
      "execution_count": 31,
      "outputs": []
    },
    {
      "cell_type": "code",
      "metadata": {
        "colab": {
          "base_uri": "https://localhost:8080/"
        },
        "id": "DaG9X98raUL6",
        "outputId": "8c9c6c85-dd82-4f9f-ed9f-e0edd5a8b1f0"
      },
      "source": [
        "len(bankDF.columns)"
      ],
      "execution_count": 32,
      "outputs": [
        {
          "output_type": "execute_result",
          "data": {
            "text/plain": [
              "17"
            ]
          },
          "metadata": {
            "tags": []
          },
          "execution_count": 32
        }
      ]
    },
    {
      "cell_type": "code",
      "metadata": {
        "colab": {
          "base_uri": "https://localhost:8080/"
        },
        "id": "YWzYt9dVaV9H",
        "outputId": "add3942d-5dd3-44cb-cd3b-62683468e418"
      },
      "source": [
        "bankDF.describe().show()"
      ],
      "execution_count": 33,
      "outputs": [
        {
          "output_type": "stream",
          "text": [
            "+-------+------------------+-------+-------------+---------+-------+------------------+-------+----+--------+------------------+-----+------------------+------------------+------------------+------------------+--------+------------------------+\n",
            "|summary|               age|    job|maritalStatus|education|default|           balance|housing|loan| contact|               day|month|          duration|          campaign|             pdays|          previous|poutcome|opened_new_td_act_yes_no|\n",
            "+-------+------------------+-------+-------------+---------+-------+------------------+-------+----+--------+------------------+-----+------------------+------------------+------------------+------------------+--------+------------------------+\n",
            "|  count|              4521|   4521|         4521|     4521|   4521|              4521|   4521|4521|    4521|              4521| 4521|              4521|              4521|              4521|              4521|    4521|                    4521|\n",
            "|   mean| 41.17009511170095|   null|         null|     null|   null|1422.6578190665782|   null|null|    null|15.915284229152842| null|263.96129174961294| 2.793629727936297|39.766644547666445|0.5425790754257908|    null|                    null|\n",
            "| stddev|10.576210958711263|   null|         null|     null|   null|3009.6381424673395|   null|null|    null| 8.247667327229934| null|259.85663262468216|3.1098066601885823|100.12112444301656|1.6935623506071211|    null|                    null|\n",
            "|    min|                19| admin.|     divorced|  primary|     no|           -3313.0|     no|  no|cellular|                 1|  apr|               4.0|               1.0|              -1.0|               0.0| failure|                      no|\n",
            "|    max|                87|unknown|       single|  unknown|    yes|           71188.0|    yes| yes| unknown|                31|  sep|            3025.0|              50.0|             871.0|              25.0| unknown|                     yes|\n",
            "+-------+------------------+-------+-------------+---------+-------+------------------+-------+----+--------+------------------+-----+------------------+------------------+------------------+------------------+--------+------------------------+\n",
            "\n"
          ],
          "name": "stdout"
        }
      ]
    },
    {
      "cell_type": "code",
      "metadata": {
        "colab": {
          "base_uri": "https://localhost:8080/"
        },
        "id": "k3V8LeZNaXl9",
        "outputId": "14fce62c-6a22-4354-ffab-36ecea62a817"
      },
      "source": [
        "bankDF.describe().select('summary','age','loan','balance','pdays').show()"
      ],
      "execution_count": 34,
      "outputs": [
        {
          "output_type": "stream",
          "text": [
            "+-------+------------------+----+------------------+------------------+\n",
            "|summary|               age|loan|           balance|             pdays|\n",
            "+-------+------------------+----+------------------+------------------+\n",
            "|  count|              4521|4521|              4521|              4521|\n",
            "|   mean| 41.17009511170095|null|1422.6578190665782|39.766644547666445|\n",
            "| stddev|10.576210958711263|null|3009.6381424673395|100.12112444301656|\n",
            "|    min|                19|  no|           -3313.0|              -1.0|\n",
            "|    max|                87| yes|           71188.0|             871.0|\n",
            "+-------+------------------+----+------------------+------------------+\n",
            "\n"
          ],
          "name": "stdout"
        }
      ]
    },
    {
      "cell_type": "code",
      "metadata": {
        "colab": {
          "base_uri": "https://localhost:8080/"
        },
        "id": "6D-98kGmaZ1Y",
        "outputId": "524746d8-7f40-4afb-ee71-5b5a4b24dba6"
      },
      "source": [
        "bankDF.agg(*(min(col(c)).alias(c) for c in bankDF.columns)).show()"
      ],
      "execution_count": 35,
      "outputs": [
        {
          "output_type": "stream",
          "text": [
            "+---+------+-------------+---------+-------+-------+-------+----+--------+---+-----+--------+--------+-----+--------+--------+------------------------+\n",
            "|age|   job|maritalStatus|education|default|balance|housing|loan| contact|day|month|duration|campaign|pdays|previous|poutcome|opened_new_td_act_yes_no|\n",
            "+---+------+-------------+---------+-------+-------+-------+----+--------+---+-----+--------+--------+-----+--------+--------+------------------------+\n",
            "| 19|admin.|     divorced|  primary|     no|-3313.0|     no|  no|cellular|  1|  apr|     4.0|     1.0| -1.0|     0.0| failure|                      no|\n",
            "+---+------+-------------+---------+-------+-------+-------+----+--------+---+-----+--------+--------+-----+--------+--------+------------------------+\n",
            "\n"
          ],
          "name": "stdout"
        }
      ]
    },
    {
      "cell_type": "code",
      "metadata": {
        "colab": {
          "base_uri": "https://localhost:8080/"
        },
        "id": "SKPsCxK-abxj",
        "outputId": "0444dc26-c6b4-43aa-96d9-58975b7706b9"
      },
      "source": [
        "bankDF.where(bankDF.balance < 0).count()"
      ],
      "execution_count": 36,
      "outputs": [
        {
          "output_type": "execute_result",
          "data": {
            "text/plain": [
              "366"
            ]
          },
          "metadata": {
            "tags": []
          },
          "execution_count": 36
        }
      ]
    },
    {
      "cell_type": "code",
      "metadata": {
        "colab": {
          "base_uri": "https://localhost:8080/"
        },
        "id": "TAIXow7haeRd",
        "outputId": "94cc04e6-6cf3-47c2-d171-c3611a01befd"
      },
      "source": [
        "from pyspark.sql.functions import when \n",
        "bankDF = bankDF.withColumn('balance',when(bankDF.balance>0,bankDF.balance).otherwise(0))\n",
        "zerobalanceDF = bankDF.where(bankDF.balance < 0)\n",
        "zerobalanceDF.count()"
      ],
      "execution_count": 37,
      "outputs": [
        {
          "output_type": "execute_result",
          "data": {
            "text/plain": [
              "0"
            ]
          },
          "metadata": {
            "tags": []
          },
          "execution_count": 37
        }
      ]
    },
    {
      "cell_type": "code",
      "metadata": {
        "id": "bBXOvBi7agxI"
      },
      "source": [
        "bankDF.createOrReplaceTempView('bankDFTable')"
      ],
      "execution_count": 38,
      "outputs": []
    },
    {
      "cell_type": "code",
      "metadata": {
        "id": "4_94LRs5aix1"
      },
      "source": [
        "resultDF = spark.sql(\"\"\"\n",
        " SELECT opened_new_td_act_yes_no, COUNT(*) AS count\n",
        " FROM bankDFTable\n",
        " GROUP BY opened_new_td_act_yes_no\n",
        "\"\"\")"
      ],
      "execution_count": 39,
      "outputs": []
    },
    {
      "cell_type": "code",
      "metadata": {
        "colab": {
          "base_uri": "https://localhost:8080/"
        },
        "id": "CLl0EIhaak-7",
        "outputId": "be9827dd-2d32-44ce-def0-ad21a30d7bf0"
      },
      "source": [
        "resultDF.show()"
      ],
      "execution_count": 40,
      "outputs": [
        {
          "output_type": "stream",
          "text": [
            "+------------------------+-----+\n",
            "|opened_new_td_act_yes_no|count|\n",
            "+------------------------+-----+\n",
            "|                      no| 4000|\n",
            "|                     yes|  521|\n",
            "+------------------------+-----+\n",
            "\n"
          ],
          "name": "stdout"
        }
      ]
    },
    {
      "cell_type": "code",
      "metadata": {
        "colab": {
          "base_uri": "https://localhost:8080/"
        },
        "id": "8-C6JNlwanJ3",
        "outputId": "4e249f8e-959c-475f-8e07-643c1763fced"
      },
      "source": [
        "bankDF.groupBy(\"opened_new_td_act_yes_no\").count().show()"
      ],
      "execution_count": 41,
      "outputs": [
        {
          "output_type": "stream",
          "text": [
            "+------------------------+-----+\n",
            "|opened_new_td_act_yes_no|count|\n",
            "+------------------------+-----+\n",
            "|                      no| 4000|\n",
            "|                     yes|  521|\n",
            "+------------------------+-----+\n",
            "\n"
          ],
          "name": "stdout"
        }
      ]
    },
    {
      "cell_type": "code",
      "metadata": {
        "colab": {
          "base_uri": "https://localhost:8080/",
          "height": 17
        },
        "id": "inHmlfzoapRt",
        "outputId": "f747b6cf-7b4b-4149-cfc2-3434eeedd316"
      },
      "source": [
        "import matplotlib.pyplot as plt\n",
        "import seaborn as sns\n",
        "import chart_studio\n",
        "import plotly\n",
        "chart_studio.tools.set_credentials_file(username='jmulmoodi',api_key='5LnjpAb3Fn4e8lybI6IU')\n",
        "import plotly.figure_factory as ff\n",
        "import chart_studio.plotly as py\n",
        "import plotly.offline as pyoff\n",
        "import plotly.graph_objects as go\n",
        "import warnings\n",
        "### Initialize settings \n",
        "sns.set_style('whitegrid')\n",
        "sns.set(color_codes=True)\n",
        "warnings.filterwarnings('ignore')\n",
        "pyoff.init_notebook_mode(connected=True)\n",
        "get_ipython().magic('matplotlib inline')"
      ],
      "execution_count": 42,
      "outputs": [
        {
          "output_type": "display_data",
          "data": {
            "text/html": [
              "        <script type=\"text/javascript\">\n",
              "        window.PlotlyConfig = {MathJaxConfig: 'local'};\n",
              "        if (window.MathJax) {MathJax.Hub.Config({SVG: {font: \"STIX-Web\"}});}\n",
              "        if (typeof require !== 'undefined') {\n",
              "        require.undef(\"plotly\");\n",
              "        requirejs.config({\n",
              "            paths: {\n",
              "                'plotly': ['https://cdn.plot.ly/plotly-latest.min']\n",
              "            }\n",
              "        });\n",
              "        require(['plotly'], function(Plotly) {\n",
              "            window._Plotly = Plotly;\n",
              "        });\n",
              "        }\n",
              "        </script>\n",
              "        "
            ]
          },
          "metadata": {
            "tags": []
          }
        }
      ]
    },
    {
      "cell_type": "code",
      "metadata": {
        "colab": {
          "base_uri": "https://localhost:8080/",
          "height": 546
        },
        "id": "13r8s0XNazLH",
        "outputId": "ece81cd4-4036-462a-d4c6-86be9a4dac80"
      },
      "source": [
        "pdDF = resultDF.toPandas()\n",
        "data = [\n",
        "        go.Bar(\n",
        "            x=pdDF['opened_new_td_act_yes_no'],\n",
        "            y=pdDF['count']\n",
        "        )\n",
        "\n",
        "]\n",
        "layout = go.Layout(title='Term Deposit Yes/No Counts')\n",
        "fig = go.Figure(data=data,layout=layout)\n",
        "py.iplot(fig,fileName='28Feb21_1')"
      ],
      "execution_count": 43,
      "outputs": [
        {
          "output_type": "execute_result",
          "data": {
            "text/html": [
              "\n",
              "        <iframe\n",
              "            width=\"100%\"\n",
              "            height=\"525px\"\n",
              "            src=\"https://plotly.com/~jmulmoodi/141.embed\"\n",
              "            frameborder=\"0\"\n",
              "            allowfullscreen\n",
              "        ></iframe>\n",
              "        "
            ],
            "text/plain": [
              "<IPython.lib.display.IFrame at 0x7fc9845d9c10>"
            ]
          },
          "metadata": {
            "tags": []
          },
          "execution_count": 43
        }
      ]
    },
    {
      "cell_type": "markdown",
      "metadata": {
        "id": "4LZ6Q0_Pa9iY"
      },
      "source": [
        "### Other variables that could be considered for exploratory data analysis"
      ]
    },
    {
      "cell_type": "markdown",
      "metadata": {
        "id": "GujXvPLfbFDV"
      },
      "source": [
        "loan vs opened_new_td_act_yes_no</br>\n",
        "marital_status vs opened_new_td_act_yes_no</br>\n",
        "job vs opened_new_td_act_yes_no</br>\n",
        "education </br>\n",
        "Divorced,married, single </br>"
      ]
    },
    {
      "cell_type": "code",
      "metadata": {
        "id": "9FdXKA2wbDfi"
      },
      "source": [
        "resultDF = bankDF.crosstab('opened_new_td_act_yes_no','loan')"
      ],
      "execution_count": 45,
      "outputs": []
    },
    {
      "cell_type": "code",
      "metadata": {
        "colab": {
          "base_uri": "https://localhost:8080/"
        },
        "id": "UvuW2ynTbOPY",
        "outputId": "10fa3805-dcc7-44f2-948a-5c7e58fa0bd0"
      },
      "source": [
        "resultDF.show()"
      ],
      "execution_count": 46,
      "outputs": [
        {
          "output_type": "stream",
          "text": [
            "+-----------------------------+----+---+\n",
            "|opened_new_td_act_yes_no_loan|  no|yes|\n",
            "+-----------------------------+----+---+\n",
            "|                          yes| 478| 43|\n",
            "|                           no|3352|648|\n",
            "+-----------------------------+----+---+\n",
            "\n"
          ],
          "name": "stdout"
        }
      ]
    },
    {
      "cell_type": "code",
      "metadata": {
        "id": "llrcOpM_bQ36"
      },
      "source": [
        "pdDF = resultDF.toPandas()"
      ],
      "execution_count": 47,
      "outputs": []
    },
    {
      "cell_type": "code",
      "metadata": {
        "id": "fGwjLeNCbViF"
      },
      "source": [
        "pdDF.columns = ['opened_new_td_act_yes_no_loan','No_Existing_loan','Existing_loan']"
      ],
      "execution_count": 48,
      "outputs": []
    },
    {
      "cell_type": "code",
      "metadata": {
        "colab": {
          "base_uri": "https://localhost:8080/",
          "height": 546
        },
        "id": "FNrDZdLubXG5",
        "outputId": "884a6501-367a-41fa-923c-aa5a2238ceb9"
      },
      "source": [
        "data = [\n",
        "     go.Bar(\n",
        "            x=['Opted_for_loan','No_opted_loan'],\n",
        "            y=pdDF['No_Existing_loan'],\n",
        "            name='No Existing Loans'\n",
        "        ),\n",
        "     go.Bar(\n",
        "         x = ['Opted_for_loan','No_opted_loan'],\n",
        "         y = pdDF['Existing_loan'],\n",
        "         name = 'Existing Loans'\n",
        "     ) \n",
        "]\n",
        "layout=go.Layout(\n",
        "    title='Exsiting/Non-existing loans - Counts',\n",
        "    barmode='group'\n",
        ")\n",
        "fig = go.Figure(data=data,layout=layout)\n",
        "py.iplot(fig)  "
      ],
      "execution_count": 49,
      "outputs": [
        {
          "output_type": "execute_result",
          "data": {
            "text/html": [
              "\n",
              "        <iframe\n",
              "            width=\"100%\"\n",
              "            height=\"525px\"\n",
              "            src=\"https://plotly.com/~jmulmoodi/143.embed\"\n",
              "            frameborder=\"0\"\n",
              "            allowfullscreen\n",
              "        ></iframe>\n",
              "        "
            ],
            "text/plain": [
              "<IPython.lib.display.IFrame at 0x7fc983b5afd0>"
            ]
          },
          "metadata": {
            "tags": []
          },
          "execution_count": 49
        }
      ]
    },
    {
      "cell_type": "code",
      "metadata": {
        "id": "BcFvFpFebZYQ"
      },
      "source": [
        "### For different job categories \n",
        "resultDF = spark.sql(\"\"\"\n",
        "SELECT \n",
        "   job,\n",
        "   COUNT(*) AS term_deposit_yes_cnt\n",
        "   FROM bankDFTable\n",
        "   WHERE opened_new_td_act_yes_no = \"yes\"\n",
        "   GROUP BY job\n",
        "\"\"\")"
      ],
      "execution_count": 50,
      "outputs": []
    },
    {
      "cell_type": "code",
      "metadata": {
        "colab": {
          "base_uri": "https://localhost:8080/",
          "height": 546
        },
        "id": "GlO3fByvbd9C",
        "outputId": "5fdaff46-7236-4da2-f9bc-37908db0a810"
      },
      "source": [
        "pdDF = resultDF.toPandas()\n",
        "data = [\n",
        "       go.Bar(\n",
        "           x = pdDF['job'],\n",
        "           y = pdDF['term_deposit_yes_cnt']\n",
        "       ) \n",
        "]\n",
        "layout = go.Layout(title=\"Term deposit counts in each job category\")\n",
        "fig = go.Figure(data=data,layout=layout)\n",
        "py.iplot(fig)"
      ],
      "execution_count": 51,
      "outputs": [
        {
          "output_type": "execute_result",
          "data": {
            "text/html": [
              "\n",
              "        <iframe\n",
              "            width=\"100%\"\n",
              "            height=\"525px\"\n",
              "            src=\"https://plotly.com/~jmulmoodi/145.embed\"\n",
              "            frameborder=\"0\"\n",
              "            allowfullscreen\n",
              "        ></iframe>\n",
              "        "
            ],
            "text/plain": [
              "<IPython.lib.display.IFrame at 0x7fc983828510>"
            ]
          },
          "metadata": {
            "tags": []
          },
          "execution_count": 51
        }
      ]
    },
    {
      "cell_type": "code",
      "metadata": {
        "id": "JA6KnN2xbgDs"
      },
      "source": [
        "### For different job categories \n",
        "resultDF = spark.sql(\"\"\"\n",
        "SELECT \n",
        "   job,\n",
        "   COUNT(*) AS term_deposit_no_cnt\n",
        "   FROM bankDFTable\n",
        "   WHERE opened_new_td_act_yes_no = \"no\"\n",
        "   GROUP BY job\n",
        "\"\"\")"
      ],
      "execution_count": 52,
      "outputs": []
    },
    {
      "cell_type": "code",
      "metadata": {
        "colab": {
          "base_uri": "https://localhost:8080/",
          "height": 546
        },
        "id": "uJvmJHxLbnk5",
        "outputId": "5386b5d4-9fee-4926-9161-3bf888b18be9"
      },
      "source": [
        "pdDF = resultDF.toPandas()\n",
        "data = [\n",
        "       go.Bar(\n",
        "           x = pdDF['job'],\n",
        "           y = pdDF['term_deposit_no_cnt']\n",
        "       ) \n",
        "]\n",
        "layout = go.Layout(title=\"Term deposit counts in each job category\")\n",
        "fig = go.Figure(data=data,layout=layout)\n",
        "py.iplot(fig)"
      ],
      "execution_count": 53,
      "outputs": [
        {
          "output_type": "execute_result",
          "data": {
            "text/html": [
              "\n",
              "        <iframe\n",
              "            width=\"100%\"\n",
              "            height=\"525px\"\n",
              "            src=\"https://plotly.com/~jmulmoodi/147.embed\"\n",
              "            frameborder=\"0\"\n",
              "            allowfullscreen\n",
              "        ></iframe>\n",
              "        "
            ],
            "text/plain": [
              "<IPython.lib.display.IFrame at 0x7fc9848fad50>"
            ]
          },
          "metadata": {
            "tags": []
          },
          "execution_count": 53
        }
      ]
    },
    {
      "cell_type": "code",
      "metadata": {
        "colab": {
          "base_uri": "https://localhost:8080/"
        },
        "id": "qOJ18CMVbpnR",
        "outputId": "b1ffaa7c-7378-4a4c-e7c8-6b9410c9295b"
      },
      "source": [
        "resultDF = bankDF.filter(expr(\"opened_new_td_act_yes_no='yes'\")).groupBy(\"education\").count()\n",
        "resultDF.show()"
      ],
      "execution_count": 54,
      "outputs": [
        {
          "output_type": "stream",
          "text": [
            "+---------+-----+\n",
            "|education|count|\n",
            "+---------+-----+\n",
            "|  unknown|   19|\n",
            "| tertiary|  193|\n",
            "|secondary|  245|\n",
            "|  primary|   64|\n",
            "+---------+-----+\n",
            "\n"
          ],
          "name": "stdout"
        }
      ]
    },
    {
      "cell_type": "code",
      "metadata": {
        "colab": {
          "base_uri": "https://localhost:8080/",
          "height": 546
        },
        "id": "rWpi5DD7btX5",
        "outputId": "392af777-c03a-4fc9-e5ae-dd93763e29b8"
      },
      "source": [
        "pdDF = resultDF.toPandas()\n",
        "data = [\n",
        "      go.Bar(\n",
        "          x = pdDF['education'],\n",
        "          y = pdDF['count']\n",
        "      )  \n",
        "]\n",
        "layout = go.Layout(title=\"Term deposit opted count in each education level\")\n",
        "fig = go.Figure(data=data,layout=layout)\n",
        "py.iplot(fig)"
      ],
      "execution_count": 55,
      "outputs": [
        {
          "output_type": "execute_result",
          "data": {
            "text/html": [
              "\n",
              "        <iframe\n",
              "            width=\"100%\"\n",
              "            height=\"525px\"\n",
              "            src=\"https://plotly.com/~jmulmoodi/149.embed\"\n",
              "            frameborder=\"0\"\n",
              "            allowfullscreen\n",
              "        ></iframe>\n",
              "        "
            ],
            "text/plain": [
              "<IPython.lib.display.IFrame at 0x7fc9839f8e50>"
            ]
          },
          "metadata": {
            "tags": []
          },
          "execution_count": 55
        }
      ]
    },
    {
      "cell_type": "code",
      "metadata": {
        "colab": {
          "base_uri": "https://localhost:8080/",
          "height": 224
        },
        "id": "PeR37_O9bvjS",
        "outputId": "fc6dc150-3ba8-4e78-db71-e36efc721e6a"
      },
      "source": [
        "bankDF_pd = bankDF.toPandas()\n",
        "bankDF_pd.head()"
      ],
      "execution_count": 56,
      "outputs": [
        {
          "output_type": "execute_result",
          "data": {
            "text/html": [
              "<div>\n",
              "<style scoped>\n",
              "    .dataframe tbody tr th:only-of-type {\n",
              "        vertical-align: middle;\n",
              "    }\n",
              "\n",
              "    .dataframe tbody tr th {\n",
              "        vertical-align: top;\n",
              "    }\n",
              "\n",
              "    .dataframe thead th {\n",
              "        text-align: right;\n",
              "    }\n",
              "</style>\n",
              "<table border=\"1\" class=\"dataframe\">\n",
              "  <thead>\n",
              "    <tr style=\"text-align: right;\">\n",
              "      <th></th>\n",
              "      <th>age</th>\n",
              "      <th>job</th>\n",
              "      <th>maritalStatus</th>\n",
              "      <th>education</th>\n",
              "      <th>default</th>\n",
              "      <th>balance</th>\n",
              "      <th>housing</th>\n",
              "      <th>loan</th>\n",
              "      <th>contact</th>\n",
              "      <th>day</th>\n",
              "      <th>month</th>\n",
              "      <th>duration</th>\n",
              "      <th>campaign</th>\n",
              "      <th>pdays</th>\n",
              "      <th>previous</th>\n",
              "      <th>poutcome</th>\n",
              "      <th>opened_new_td_act_yes_no</th>\n",
              "    </tr>\n",
              "  </thead>\n",
              "  <tbody>\n",
              "    <tr>\n",
              "      <th>0</th>\n",
              "      <td>30</td>\n",
              "      <td>unemployed</td>\n",
              "      <td>married</td>\n",
              "      <td>primary</td>\n",
              "      <td>no</td>\n",
              "      <td>1787.0</td>\n",
              "      <td>no</td>\n",
              "      <td>no</td>\n",
              "      <td>cellular</td>\n",
              "      <td>19</td>\n",
              "      <td>oct</td>\n",
              "      <td>79.0</td>\n",
              "      <td>1.0</td>\n",
              "      <td>-1.0</td>\n",
              "      <td>0.0</td>\n",
              "      <td>unknown</td>\n",
              "      <td>no</td>\n",
              "    </tr>\n",
              "    <tr>\n",
              "      <th>1</th>\n",
              "      <td>33</td>\n",
              "      <td>services</td>\n",
              "      <td>married</td>\n",
              "      <td>secondary</td>\n",
              "      <td>no</td>\n",
              "      <td>4789.0</td>\n",
              "      <td>yes</td>\n",
              "      <td>yes</td>\n",
              "      <td>cellular</td>\n",
              "      <td>11</td>\n",
              "      <td>may</td>\n",
              "      <td>220.0</td>\n",
              "      <td>1.0</td>\n",
              "      <td>339.0</td>\n",
              "      <td>4.0</td>\n",
              "      <td>failure</td>\n",
              "      <td>no</td>\n",
              "    </tr>\n",
              "    <tr>\n",
              "      <th>2</th>\n",
              "      <td>35</td>\n",
              "      <td>management</td>\n",
              "      <td>single</td>\n",
              "      <td>tertiary</td>\n",
              "      <td>no</td>\n",
              "      <td>1350.0</td>\n",
              "      <td>yes</td>\n",
              "      <td>no</td>\n",
              "      <td>cellular</td>\n",
              "      <td>16</td>\n",
              "      <td>apr</td>\n",
              "      <td>185.0</td>\n",
              "      <td>1.0</td>\n",
              "      <td>330.0</td>\n",
              "      <td>1.0</td>\n",
              "      <td>failure</td>\n",
              "      <td>no</td>\n",
              "    </tr>\n",
              "    <tr>\n",
              "      <th>3</th>\n",
              "      <td>30</td>\n",
              "      <td>management</td>\n",
              "      <td>married</td>\n",
              "      <td>tertiary</td>\n",
              "      <td>no</td>\n",
              "      <td>1476.0</td>\n",
              "      <td>yes</td>\n",
              "      <td>yes</td>\n",
              "      <td>unknown</td>\n",
              "      <td>3</td>\n",
              "      <td>jun</td>\n",
              "      <td>199.0</td>\n",
              "      <td>4.0</td>\n",
              "      <td>-1.0</td>\n",
              "      <td>0.0</td>\n",
              "      <td>unknown</td>\n",
              "      <td>no</td>\n",
              "    </tr>\n",
              "    <tr>\n",
              "      <th>4</th>\n",
              "      <td>59</td>\n",
              "      <td>blue-collar</td>\n",
              "      <td>married</td>\n",
              "      <td>secondary</td>\n",
              "      <td>no</td>\n",
              "      <td>0.0</td>\n",
              "      <td>yes</td>\n",
              "      <td>no</td>\n",
              "      <td>unknown</td>\n",
              "      <td>5</td>\n",
              "      <td>may</td>\n",
              "      <td>226.0</td>\n",
              "      <td>1.0</td>\n",
              "      <td>-1.0</td>\n",
              "      <td>0.0</td>\n",
              "      <td>unknown</td>\n",
              "      <td>no</td>\n",
              "    </tr>\n",
              "  </tbody>\n",
              "</table>\n",
              "</div>"
            ],
            "text/plain": [
              "   age          job maritalStatus  ... previous poutcome  opened_new_td_act_yes_no\n",
              "0   30   unemployed       married  ...      0.0  unknown                        no\n",
              "1   33     services       married  ...      4.0  failure                        no\n",
              "2   35   management        single  ...      1.0  failure                        no\n",
              "3   30   management       married  ...      0.0  unknown                        no\n",
              "4   59  blue-collar       married  ...      0.0  unknown                        no\n",
              "\n",
              "[5 rows x 17 columns]"
            ]
          },
          "metadata": {
            "tags": []
          },
          "execution_count": 56
        }
      ]
    },
    {
      "cell_type": "code",
      "metadata": {
        "colab": {
          "base_uri": "https://localhost:8080/",
          "height": 266
        },
        "id": "eLgVQwubbx4q",
        "outputId": "13d90116-0bfa-47fb-df75-2ad4f4ed8c8e"
      },
      "source": [
        "correlations = bankDF_pd.corr()\n",
        "correlations"
      ],
      "execution_count": 57,
      "outputs": [
        {
          "output_type": "execute_result",
          "data": {
            "text/html": [
              "<div>\n",
              "<style scoped>\n",
              "    .dataframe tbody tr th:only-of-type {\n",
              "        vertical-align: middle;\n",
              "    }\n",
              "\n",
              "    .dataframe tbody tr th {\n",
              "        vertical-align: top;\n",
              "    }\n",
              "\n",
              "    .dataframe thead th {\n",
              "        text-align: right;\n",
              "    }\n",
              "</style>\n",
              "<table border=\"1\" class=\"dataframe\">\n",
              "  <thead>\n",
              "    <tr style=\"text-align: right;\">\n",
              "      <th></th>\n",
              "      <th>age</th>\n",
              "      <th>balance</th>\n",
              "      <th>day</th>\n",
              "      <th>duration</th>\n",
              "      <th>campaign</th>\n",
              "      <th>pdays</th>\n",
              "      <th>previous</th>\n",
              "    </tr>\n",
              "  </thead>\n",
              "  <tbody>\n",
              "    <tr>\n",
              "      <th>age</th>\n",
              "      <td>1.000000</td>\n",
              "      <td>0.084202</td>\n",
              "      <td>-0.017853</td>\n",
              "      <td>-0.002367</td>\n",
              "      <td>-0.005148</td>\n",
              "      <td>-0.008894</td>\n",
              "      <td>-0.003511</td>\n",
              "    </tr>\n",
              "    <tr>\n",
              "      <th>balance</th>\n",
              "      <td>0.084202</td>\n",
              "      <td>1.000000</td>\n",
              "      <td>-0.007595</td>\n",
              "      <td>-0.015195</td>\n",
              "      <td>-0.010840</td>\n",
              "      <td>0.008616</td>\n",
              "      <td>0.026031</td>\n",
              "    </tr>\n",
              "    <tr>\n",
              "      <th>day</th>\n",
              "      <td>-0.017853</td>\n",
              "      <td>-0.007595</td>\n",
              "      <td>1.000000</td>\n",
              "      <td>-0.024629</td>\n",
              "      <td>0.160706</td>\n",
              "      <td>-0.094352</td>\n",
              "      <td>-0.059114</td>\n",
              "    </tr>\n",
              "    <tr>\n",
              "      <th>duration</th>\n",
              "      <td>-0.002367</td>\n",
              "      <td>-0.015195</td>\n",
              "      <td>-0.024629</td>\n",
              "      <td>1.000000</td>\n",
              "      <td>-0.068382</td>\n",
              "      <td>0.010380</td>\n",
              "      <td>0.018080</td>\n",
              "    </tr>\n",
              "    <tr>\n",
              "      <th>campaign</th>\n",
              "      <td>-0.005148</td>\n",
              "      <td>-0.010840</td>\n",
              "      <td>0.160706</td>\n",
              "      <td>-0.068382</td>\n",
              "      <td>1.000000</td>\n",
              "      <td>-0.093137</td>\n",
              "      <td>-0.067833</td>\n",
              "    </tr>\n",
              "    <tr>\n",
              "      <th>pdays</th>\n",
              "      <td>-0.008894</td>\n",
              "      <td>0.008616</td>\n",
              "      <td>-0.094352</td>\n",
              "      <td>0.010380</td>\n",
              "      <td>-0.093137</td>\n",
              "      <td>1.000000</td>\n",
              "      <td>0.577562</td>\n",
              "    </tr>\n",
              "    <tr>\n",
              "      <th>previous</th>\n",
              "      <td>-0.003511</td>\n",
              "      <td>0.026031</td>\n",
              "      <td>-0.059114</td>\n",
              "      <td>0.018080</td>\n",
              "      <td>-0.067833</td>\n",
              "      <td>0.577562</td>\n",
              "      <td>1.000000</td>\n",
              "    </tr>\n",
              "  </tbody>\n",
              "</table>\n",
              "</div>"
            ],
            "text/plain": [
              "               age   balance       day  duration  campaign     pdays  previous\n",
              "age       1.000000  0.084202 -0.017853 -0.002367 -0.005148 -0.008894 -0.003511\n",
              "balance   0.084202  1.000000 -0.007595 -0.015195 -0.010840  0.008616  0.026031\n",
              "day      -0.017853 -0.007595  1.000000 -0.024629  0.160706 -0.094352 -0.059114\n",
              "duration -0.002367 -0.015195 -0.024629  1.000000 -0.068382  0.010380  0.018080\n",
              "campaign -0.005148 -0.010840  0.160706 -0.068382  1.000000 -0.093137 -0.067833\n",
              "pdays    -0.008894  0.008616 -0.094352  0.010380 -0.093137  1.000000  0.577562\n",
              "previous -0.003511  0.026031 -0.059114  0.018080 -0.067833  0.577562  1.000000"
            ]
          },
          "metadata": {
            "tags": []
          },
          "execution_count": 57
        }
      ]
    },
    {
      "cell_type": "code",
      "metadata": {
        "colab": {
          "base_uri": "https://localhost:8080/",
          "height": 546
        },
        "id": "sNmAhtSyb1t6",
        "outputId": "c115ab9a-6e4e-4c2f-9db7-35674fa8020e"
      },
      "source": [
        "trace = go.Heatmap(z=[correlations['age'],correlations['balance'],\n",
        "                      correlations['day'],correlations['duration'],\n",
        "                      correlations['campaign'],\n",
        "                      correlations['pdays'],correlations['previous']],\n",
        "                   x = ['age','balance','day','duration','campaign','pdays','previous'],\n",
        "                   y = ['age','balance','day','duration','campaign','pdays','previous'])\n",
        "data = [trace]\n",
        "layout = go.Layout(title='HeatMap')\n",
        "fig = go.Figure(data=data,layout=layout)\n",
        "py.iplot(fig)"
      ],
      "execution_count": 58,
      "outputs": [
        {
          "output_type": "execute_result",
          "data": {
            "text/html": [
              "\n",
              "        <iframe\n",
              "            width=\"100%\"\n",
              "            height=\"525px\"\n",
              "            src=\"https://plotly.com/~jmulmoodi/151.embed\"\n",
              "            frameborder=\"0\"\n",
              "            allowfullscreen\n",
              "        ></iframe>\n",
              "        "
            ],
            "text/plain": [
              "<IPython.lib.display.IFrame at 0x7fc982ace090>"
            ]
          },
          "metadata": {
            "tags": []
          },
          "execution_count": 58
        }
      ]
    },
    {
      "cell_type": "code",
      "metadata": {
        "colab": {
          "base_uri": "https://localhost:8080/"
        },
        "id": "G1ERCc7Qb4Bd",
        "outputId": "68738aeb-c6c0-406a-8ca7-62616217aa86"
      },
      "source": [
        "bankDF.select([count(when(isnan(c) | col(c).isNull(),c).otherwise(None)).alias(c) for c in bankDF.columns]).show()"
      ],
      "execution_count": 59,
      "outputs": [
        {
          "output_type": "stream",
          "text": [
            "+---+---+-------------+---------+-------+-------+-------+----+-------+---+-----+--------+--------+-----+--------+--------+------------------------+\n",
            "|age|job|maritalStatus|education|default|balance|housing|loan|contact|day|month|duration|campaign|pdays|previous|poutcome|opened_new_td_act_yes_no|\n",
            "+---+---+-------------+---------+-------+-------+-------+----+-------+---+-----+--------+--------+-----+--------+--------+------------------------+\n",
            "|  0|  0|            0|        0|      0|      0|      0|   0|      0|  0|    0|       0|       0|    0|       0|       0|                       0|\n",
            "+---+---+-------------+---------+-------+-------+-------+----+-------+---+-----+--------+--------+-----+--------+--------+------------------------+\n",
            "\n"
          ],
          "name": "stdout"
        }
      ]
    },
    {
      "cell_type": "code",
      "metadata": {
        "colab": {
          "base_uri": "https://localhost:8080/"
        },
        "id": "B3HAK3Zxb67O",
        "outputId": "4da7c208-8b5d-4927-fc34-811b0f40d205"
      },
      "source": [
        "data_df = bankDF.na.drop(how=\"any\")\n",
        "print(\"Count of the  records in the datset before dropping null values \", bankDF.count())\n",
        "print(\"Count of the records in the dataset after dropping null values\", data_df.count())"
      ],
      "execution_count": 60,
      "outputs": [
        {
          "output_type": "stream",
          "text": [
            "Count of the  records in the datset before dropping null values  4521\n",
            "Count of the records in the dataset after dropping null values 4521\n"
          ],
          "name": "stdout"
        }
      ]
    },
    {
      "cell_type": "code",
      "metadata": {
        "id": "I3oNRMuGb84U"
      },
      "source": [
        "(trainingData,testingData) = bankDF.randomSplit([0.7,0.3])"
      ],
      "execution_count": 61,
      "outputs": []
    },
    {
      "cell_type": "code",
      "metadata": {
        "colab": {
          "base_uri": "https://localhost:8080/"
        },
        "id": "vbzYdp4Wb-1n",
        "outputId": "14da21ba-52e1-4100-e352-bbe137557588"
      },
      "source": [
        "data_df = bankDF.na.drop(how=\"any\")\n",
        "print(\"Count of the  records in the datset before dropping null values \", bankDF.count())\n",
        "print(\"Count of the records in the dataset after dropping null values\", data_df.count())"
      ],
      "execution_count": 62,
      "outputs": [
        {
          "output_type": "stream",
          "text": [
            "Count of the  records in the datset before dropping null values  4521\n",
            "Count of the records in the dataset after dropping null values 4521\n"
          ],
          "name": "stdout"
        }
      ]
    },
    {
      "cell_type": "code",
      "metadata": {
        "id": "VYLVWDzacA3J"
      },
      "source": [
        "(trainingData,testingData) = bankDF.randomSplit([0.7,0.3])"
      ],
      "execution_count": 63,
      "outputs": []
    },
    {
      "cell_type": "code",
      "metadata": {
        "colab": {
          "base_uri": "https://localhost:8080/"
        },
        "id": "HBlih5-ycCoG",
        "outputId": "9ef4fe75-604b-4839-a531-b5f25cae5106"
      },
      "source": [
        "trainingData.show(4)"
      ],
      "execution_count": 64,
      "outputs": [
        {
          "output_type": "stream",
          "text": [
            "+---+-------+-------------+---------+-------+-------+-------+----+--------+---+-----+--------+--------+-----+--------+--------+------------------------+\n",
            "|age|    job|maritalStatus|education|default|balance|housing|loan| contact|day|month|duration|campaign|pdays|previous|poutcome|opened_new_td_act_yes_no|\n",
            "+---+-------+-------------+---------+-------+-------+-------+----+--------+---+-----+--------+--------+-----+--------+--------+------------------------+\n",
            "| 19|student|       single|  primary|     no|  103.0|     no|  no|cellular| 10|  jul|   104.0|     2.0| -1.0|     0.0| unknown|                     yes|\n",
            "| 19|student|       single|secondary|     no|  302.0|     no|  no|cellular| 16|  jul|   205.0|     1.0| -1.0|     0.0| unknown|                     yes|\n",
            "| 19|student|       single|  unknown|     no|    0.0|     no|  no|cellular| 11|  feb|   123.0|     3.0| -1.0|     0.0| unknown|                      no|\n",
            "| 19|student|       single|  unknown|     no| 1169.0|     no|  no|cellular|  6|  feb|   463.0|    18.0| -1.0|     0.0| unknown|                      no|\n",
            "+---+-------+-------------+---------+-------+-------+-------+----+--------+---+-----+--------+--------+-----+--------+--------+------------------------+\n",
            "only showing top 4 rows\n",
            "\n"
          ],
          "name": "stdout"
        }
      ]
    },
    {
      "cell_type": "code",
      "metadata": {
        "colab": {
          "base_uri": "https://localhost:8080/"
        },
        "id": "_L1oit_jcEtC",
        "outputId": "69a741cd-ddd9-4bfd-fd63-2e99c1b85aa9"
      },
      "source": [
        "testingData.show(4)"
      ],
      "execution_count": 65,
      "outputs": [
        {
          "output_type": "stream",
          "text": [
            "+---+--------+-------------+---------+-------+-------+-------+----+---------+---+-----+--------+--------+-----+--------+--------+------------------------+\n",
            "|age|     job|maritalStatus|education|default|balance|housing|loan|  contact|day|month|duration|campaign|pdays|previous|poutcome|opened_new_td_act_yes_no|\n",
            "+---+--------+-------------+---------+-------+-------+-------+----+---------+---+-----+--------+--------+-----+--------+--------+------------------------+\n",
            "| 20| student|       single|secondary|     no|  291.0|     no|  no|telephone| 11|  may|   172.0|     5.0|371.0|     5.0| failure|                      no|\n",
            "| 21|services|       single|secondary|     no| 1903.0|    yes|  no|  unknown| 29|  may|   107.0|     2.0| -1.0|     0.0| unknown|                      no|\n",
            "| 21| student|       single|secondary|     no| 2488.0|     no|  no| cellular| 30|  jun|   258.0|     6.0|169.0|     3.0| success|                     yes|\n",
            "| 21| student|       single|secondary|     no| 6844.0|     no|  no| cellular| 14|  aug|   126.0|     3.0|127.0|     7.0|   other|                      no|\n",
            "+---+--------+-------------+---------+-------+-------+-------+----+---------+---+-----+--------+--------+-----+--------+--------+------------------------+\n",
            "only showing top 4 rows\n",
            "\n"
          ],
          "name": "stdout"
        }
      ]
    },
    {
      "cell_type": "code",
      "metadata": {
        "id": "qgEVU-DwcG22"
      },
      "source": [
        "cat_Var_names = ['job','maritalStatus','education','default','housing','day','contact','month','poutcome']\n",
        "num_var_names = ['age','balance','duration','previous','pdays','campaign']"
      ],
      "execution_count": 66,
      "outputs": []
    },
    {
      "cell_type": "code",
      "metadata": {
        "id": "4TqW7CbFcLn4"
      },
      "source": [
        "from pyspark.ml.feature import VectorAssembler\n",
        "vector_assembler_numVars = VectorAssembler(inputCols=num_var_names , outputCol=\"num_features_all\")"
      ],
      "execution_count": 67,
      "outputs": []
    },
    {
      "cell_type": "code",
      "metadata": {
        "id": "iZND1xjecNlZ"
      },
      "source": [
        "from pyspark.ml.feature import MinMaxScaler\n",
        "min_max_Scalar_NumVars = MinMaxScaler(inputCol=\"num_features_all\",outputCol=\"scaled_num_features\")"
      ],
      "execution_count": 68,
      "outputs": []
    },
    {
      "cell_type": "code",
      "metadata": {
        "id": "0liFW1sbcPny"
      },
      "source": [
        "from pyspark.ml.feature import StringIndexer, OneHotEncoder\n",
        "indexers_Cat = [StringIndexer(inputCol=cat_var_name,outputCol=\"{0}_index\".format(cat_var_name))\n",
        "                for cat_var_name in cat_Var_names]\n",
        "\n",
        "encoders_Cat = [OneHotEncoder(inputCol=indexer.getOutputCol(),outputCol=\"{0}_vec\".format(indexer.getInputCol())) for indexer in indexers_Cat]\n",
        "\n",
        "assembler_Cat = VectorAssembler(inputCols=[encoder.getOutputCol() for encoder in encoders_Cat],outputCol=\"cat_features\")\n",
        "assembler = VectorAssembler(inputCols=[\"scaled_num_features\",\"cat_features\"],outputCol=\"features\")"
      ],
      "execution_count": 69,
      "outputs": []
    },
    {
      "cell_type": "code",
      "metadata": {
        "id": "74PnMRpAcTBD"
      },
      "source": [
        "indexer_Label = StringIndexer(inputCol=\"opened_new_td_act_yes_no\",outputCol=\"label\")"
      ],
      "execution_count": 70,
      "outputs": []
    },
    {
      "cell_type": "code",
      "metadata": {
        "id": "Hrk2HW2VcWQk"
      },
      "source": [
        "preprocessingStages = [vector_assembler_numVars] + [min_max_Scalar_NumVars] + indexers_Cat + encoders_Cat + [assembler_Cat] + [assembler] + [indexer_Label]"
      ],
      "execution_count": 71,
      "outputs": []
    },
    {
      "cell_type": "code",
      "metadata": {
        "colab": {
          "base_uri": "https://localhost:8080/"
        },
        "id": "VQ0pzhVMcYPy",
        "outputId": "1e254955-0e29-450a-b358-a0376a3770ce"
      },
      "source": [
        "type(preprocessingStages)"
      ],
      "execution_count": 72,
      "outputs": [
        {
          "output_type": "execute_result",
          "data": {
            "text/plain": [
              "list"
            ]
          },
          "metadata": {
            "tags": []
          },
          "execution_count": 72
        }
      ]
    },
    {
      "cell_type": "code",
      "metadata": {
        "colab": {
          "base_uri": "https://localhost:8080/"
        },
        "id": "HQjc1uHKca4o",
        "outputId": "6f14625e-68e1-4de4-87f2-9bb27a264969"
      },
      "source": [
        "preprocessingStages"
      ],
      "execution_count": 73,
      "outputs": [
        {
          "output_type": "execute_result",
          "data": {
            "text/plain": [
              "[VectorAssembler_9227d2be350f,\n",
              " MinMaxScaler_83ffed39894e,\n",
              " StringIndexer_ef8c6eacd170,\n",
              " StringIndexer_3f3cadfc4ff9,\n",
              " StringIndexer_307f6d203154,\n",
              " StringIndexer_dca025a04e6a,\n",
              " StringIndexer_8c2af3350b06,\n",
              " StringIndexer_54976628325a,\n",
              " StringIndexer_c99de8d832a9,\n",
              " StringIndexer_cdb181462576,\n",
              " StringIndexer_fb9e71273abf,\n",
              " OneHotEncoder_1dc413cdff92,\n",
              " OneHotEncoder_ae80b323564d,\n",
              " OneHotEncoder_30bcfe2b7617,\n",
              " OneHotEncoder_ad6a40e0c1b4,\n",
              " OneHotEncoder_0f52c5911cc4,\n",
              " OneHotEncoder_8c2e427feda5,\n",
              " OneHotEncoder_de80d2b8edc5,\n",
              " OneHotEncoder_0c8e00231954,\n",
              " OneHotEncoder_ebd14d61497c,\n",
              " VectorAssembler_99277ee90f2f,\n",
              " VectorAssembler_5bee074e2852,\n",
              " StringIndexer_3a31f80f6db4]"
            ]
          },
          "metadata": {
            "tags": []
          },
          "execution_count": 73
        }
      ]
    },
    {
      "cell_type": "code",
      "metadata": {
        "id": "DuLOnKEpcdCx"
      },
      "source": [
        "from pyspark.ml.classification import LogisticRegression\n",
        "lr =  LogisticRegression(maxIter=10,labelCol=\"label\",featuresCol=\"features\")\n",
        "from pyspark.ml import Pipeline\n",
        "lr_pipeline = Pipeline(stages=preprocessingStages+[lr])\n",
        "lr_pipeline_model = lr_pipeline.fit(trainingData)"
      ],
      "execution_count": 74,
      "outputs": []
    },
    {
      "cell_type": "code",
      "metadata": {
        "colab": {
          "base_uri": "https://localhost:8080/"
        },
        "id": "sGXupqvCtr1l",
        "outputId": "086c406e-6bb1-4389-b92d-a0d4193b83b8"
      },
      "source": [
        "lr_pipeline_model.stages[-1].coefficients"
      ],
      "execution_count": 75,
      "outputs": [
        {
          "output_type": "execute_result",
          "data": {
            "text/plain": [
              "DenseVector([0.0157, -0.6743, 12.7224, 0.8482, 0.5633, -4.4762, 0.1393, -0.1669, -0.1356, 0.0099, 0.1118, 0.655, 0.1861, -0.4836, -0.6925, -0.4029, 0.5423, -0.5691, -0.5545, 0.1642, 0.1885, 0.1, 0.5938, -0.3799, -0.6797, 0.5366, -1.1891, -0.9809, 0.7858, -0.0191, 0.3811, -0.6795, -0.4977, -0.5006, 0.4166, 0.1039, 0.1999, -1.2036, 0.2429, -0.0357, -0.0554, 0.0658, 0.2146, -0.1155, 0.1167, -0.1126, -0.1117, 0.3605, 0.0919, 0.367, 0.8766, 0.0061, 0.3867, 0.4414, 0.4176, -0.9905, -0.2481, -0.7374, -0.1379, 0.8696, -0.3725, 0.5188, 0.4592, -0.5985, 1.9392, 1.1519, 1.6215, -1.7148, -1.9171, -1.5898])"
            ]
          },
          "metadata": {
            "tags": []
          },
          "execution_count": 75
        }
      ]
    },
    {
      "cell_type": "code",
      "metadata": {
        "colab": {
          "base_uri": "https://localhost:8080/"
        },
        "id": "ap4xAjS4uLrh",
        "outputId": "640acd85-9c65-4a30-8ea8-b236ade26cd7"
      },
      "source": [
        "lr_pipeline_model.stages[-1].intercept"
      ],
      "execution_count": 76,
      "outputs": [
        {
          "output_type": "execute_result",
          "data": {
            "text/plain": [
              "-1.9580120874059526"
            ]
          },
          "metadata": {
            "tags": []
          },
          "execution_count": 76
        }
      ]
    },
    {
      "cell_type": "code",
      "metadata": {
        "id": "2_IbcEBhuOaG"
      },
      "source": [
        "train_predictions_lr = lr_pipeline_model.transform(trainingData)"
      ],
      "execution_count": 77,
      "outputs": []
    },
    {
      "cell_type": "code",
      "metadata": {
        "colab": {
          "base_uri": "https://localhost:8080/"
        },
        "id": "uBjavKmZuRH8",
        "outputId": "21b18c45-5e88-415a-b435-ddae6b83c201"
      },
      "source": [
        "train_predictions_lr.select('features').show(truncate=False)"
      ],
      "execution_count": 78,
      "outputs": [
        {
          "output_type": "stream",
          "text": [
            "+------------------------------------------------------------------------------------------------------------------------------------------------------------------------------------+\n",
            "|features                                                                                                                                                                            |\n",
            "+------------------------------------------------------------------------------------------------------------------------------------------------------------------------------------+\n",
            "|(70,[1,2,5,16,18,21,22,52,54,57,67],[0.00144687306849469,0.03278145695364238,0.02040816326530612,1.0,1.0,1.0,1.0,1.0,1.0,1.0,1.0])                                                  |\n",
            "|(70,[1,2,16,18,19,22,38,54,57,67],[0.00424228802607181,0.06622516556291391,1.0,1.0,1.0,1.0,1.0,1.0,1.0,1.0])                                                                        |\n",
            "|(70,[2,5,16,18,22,39,54,62,67],[0.0390728476821192,0.04081632653061224,1.0,1.0,1.0,1.0,1.0,1.0,1.0])                                                                                |\n",
            "|(70,[1,2,5,16,18,22,33,54,62,67],[0.0164213069618475,0.15165562913907285,0.3469387755102041,1.0,1.0,1.0,1.0,1.0,1.0,1.0])                                                           |\n",
            "|(70,[0,1,2,16,18,19,22,34,54,61,67],[0.014705882352941176,0.007051750294993538,0.0847682119205298,1.0,1.0,1.0,1.0,1.0,1.0,1.0,1.0])                                                 |\n",
            "|(70,[0,1,2,16,18,19,22,42,54,62,67],[0.014705882352941176,0.016730347811428892,0.0890728476821192,1.0,1.0,1.0,1.0,1.0,1.0,1.0,1.0])                                                 |\n",
            "|(70,[0,1,2,3,4,10,18,19,22,35,59,69],[0.029411764705882353,0.005071079395403719,0.10728476821192053,0.04,0.11009174311926606,1.0,1.0,1.0,1.0,1.0,1.0,1.0])                          |\n",
            "|(70,[0,1,2,16,18,19,22,41,55,56,67],[0.029411764705882353,8.428386806765185E-5,0.20430463576158941,1.0,1.0,1.0,1.0,1.0,1.0,1.0,1.0])                                                |\n",
            "|(70,[0,1,2,16,18,19,22,24,55,58,67],[0.029411764705882353,0.009566219025678484,3.3112582781456954E-4,1.0,1.0,1.0,1.0,1.0,1.0,1.0,1.0])                                              |\n",
            "|(70,[0,1,2,5,16,18,22,23,42,55,56,67],[0.029411764705882353,0.0019244816542113839,0.06390728476821192,0.04081632653061224,1.0,1.0,1.0,1.0,1.0,1.0,1.0,1.0])                         |\n",
            "|(70,[0,1,2,9,18,19,22,27,54,58,67],[0.044117647058823525,0.057748496937686127,0.019867549668874173,1.0,1.0,1.0,1.0,1.0,1.0,1.0,1.0])                                                |\n",
            "|(70,[0,1,2,3,4,16,18,21,22,24,54,64,68],[0.044117647058823525,0.0487722649884812,0.10827814569536424,0.12,0.21100917431192662,1.0,1.0,1.0,1.0,1.0,1.0,1.0,1.0])                     |\n",
            "|(70,[0,1,2,3,4,5,16,18,19,22,31,54,60,69],[0.044117647058823525,0.0349497106253863,0.14701986754966886,0.4,0.04472477064220184,0.02040816326530612,1.0,1.0,1.0,1.0,1.0,1.0,1.0,1.0])|\n",
            "|(70,[0,1,2,16,18,20,22,27,54,58,67],[0.044117647058823525,0.00970669213912457,0.11026490066225166,1.0,1.0,1.0,1.0,1.0,1.0,1.0,1.0])                                                 |\n",
            "|(70,[0,1,2,16,18,20,22,38,54,59,67],[0.044117647058823525,0.016308928471090632,0.03774834437086093,1.0,1.0,1.0,1.0,1.0,1.0,1.0,1.0])                                                |\n",
            "|(70,[0,1,2,5,16,18,22,48,54,57,67],[0.044117647058823525,6.602236331966062E-4,0.02119205298013245,0.04081632653061224,1.0,1.0,1.0,1.0,1.0,1.0,1.0])                                 |\n",
            "|(70,[0,1,2,16,18,22,45,54,65,67],[0.044117647058823525,0.007711973928190144,0.04933774834437086,1.0,1.0,1.0,1.0,1.0,1.0,1.0])                                                       |\n",
            "|(70,[0,1,2,8,18,19,22,42,60,67],[0.044117647058823525,0.004677754677754677,0.04105960264900662,1.0,1.0,1.0,1.0,1.0,1.0,1.0])                                                        |\n",
            "|(70,[0,1,2,9,18,19,22,42,55,56,67],[0.058823529411764705,7.02365567230432E-5,0.13509933774834437,1.0,1.0,1.0,1.0,1.0,1.0,1.0,1.0])                                                  |\n",
            "|(70,[0,1,2,9,18,19,22,23,33,54,56,67],[0.058823529411764705,0.00827386638197449,0.018874172185430464,1.0,1.0,1.0,1.0,1.0,1.0,1.0,1.0,1.0])                                          |\n",
            "+------------------------------------------------------------------------------------------------------------------------------------------------------------------------------------+\n",
            "only showing top 20 rows\n",
            "\n"
          ],
          "name": "stdout"
        }
      ]
    },
    {
      "cell_type": "code",
      "metadata": {
        "colab": {
          "base_uri": "https://localhost:8080/"
        },
        "id": "mCtLSARjuT75",
        "outputId": "212c34ed-7288-4b24-8132-66cf22c0f0db"
      },
      "source": [
        "train_predictions_lr.show()"
      ],
      "execution_count": 79,
      "outputs": [
        {
          "output_type": "stream",
          "text": [
            "+---+----------+-------------+---------+-------+-------+-------+----+---------+---+-----+--------+--------+-----+--------+--------+------------------------+--------------------+--------------------+---------+-------------------+---------------+-------------+-------------+---------+-------------+-----------+--------------+---------------+-----------------+-------------+-------------+-------------+---------------+-------------+--------------+-------------+--------------------+--------------------+-----+--------------------+--------------------+----------+\n",
            "|age|       job|maritalStatus|education|default|balance|housing|loan|  contact|day|month|duration|campaign|pdays|previous|poutcome|opened_new_td_act_yes_no|    num_features_all| scaled_num_features|job_index|maritalStatus_index|education_index|default_index|housing_index|day_index|contact_index|month_index|poutcome_index|        job_vec|maritalStatus_vec|education_vec|  default_vec|  housing_vec|        day_vec|  contact_vec|     month_vec| poutcome_vec|        cat_features|            features|label|       rawPrediction|         probability|prediction|\n",
            "+---+----------+-------------+---------+-------+-------+-------+----+---------+---+-----+--------+--------+-----+--------+--------+------------------------+--------------------+--------------------+---------+-------------------+---------------+-------------+-------------+---------+-------------+-----------+--------------+---------------+-----------------+-------------+-------------+-------------+---------------+-------------+--------------+-------------+--------------------+--------------------+-----+--------------------+--------------------+----------+\n",
            "| 19|   student|       single|  primary|     no|  103.0|     no|  no| cellular| 10|  jul|   104.0|     2.0| -1.0|     0.0| unknown|                     yes|[19.0,103.0,104.0...|[0.0,0.0014468730...|     10.0|                1.0|            2.0|          0.0|          1.0|     28.0|          0.0|        1.0|           0.0|(11,[10],[1.0])|    (2,[1],[1.0])|(3,[2],[1.0])|(1,[0],[1.0])|    (1,[],[])|(30,[28],[1.0])|(2,[0],[1.0])|(11,[1],[1.0])|(3,[0],[1.0])|(64,[10,12,15,16,...|(70,[1,2,5,16,18,...|  1.0|[2.59951181088476...|[0.93083015402601...|       0.0|\n",
            "| 19|   student|       single|secondary|     no|  302.0|     no|  no| cellular| 16|  jul|   205.0|     1.0| -1.0|     0.0| unknown|                     yes|[19.0,302.0,205.0...|(6,[1,2],[0.00424...|     10.0|                1.0|            0.0|          0.0|          1.0|     14.0|          0.0|        1.0|           0.0|(11,[10],[1.0])|    (2,[1],[1.0])|(3,[0],[1.0])|(1,[0],[1.0])|    (1,[],[])|(30,[14],[1.0])|(2,[0],[1.0])|(11,[1],[1.0])|(3,[0],[1.0])|(64,[10,12,13,16,...|(70,[1,2,16,18,19...|  1.0|[2.16420754884642...|[0.89698897492325...|       0.0|\n",
            "| 19|   student|       single|  unknown|     no|    0.0|     no|  no| cellular| 11|  feb|   123.0|     3.0| -1.0|     0.0| unknown|                      no|[19.0,0.0,123.0,0...|(6,[2,5],[0.03907...|     10.0|                1.0|            3.0|          0.0|          1.0|     15.0|          0.0|        6.0|           0.0|(11,[10],[1.0])|    (2,[1],[1.0])|    (3,[],[])|(1,[0],[1.0])|    (1,[],[])|(30,[15],[1.0])|(2,[0],[1.0])|(11,[6],[1.0])|(3,[0],[1.0])|(64,[10,12,16,33,...|(70,[2,5,16,18,22...|  0.0|[1.93560397106961...|[0.87386839836616...|       0.0|\n",
            "| 19|   student|       single|  unknown|     no| 1169.0|     no|  no| cellular|  6|  feb|   463.0|    18.0| -1.0|     0.0| unknown|                      no|[19.0,1169.0,463....|[0.0,0.0164213069...|     10.0|                1.0|            3.0|          0.0|          1.0|      9.0|          0.0|        6.0|           0.0|(11,[10],[1.0])|    (2,[1],[1.0])|    (3,[],[])|(1,[0],[1.0])|    (1,[],[])| (30,[9],[1.0])|(2,[0],[1.0])|(11,[6],[1.0])|(3,[0],[1.0])|(64,[10,12,16,27,...|(70,[1,2,5,16,18,...|  0.0|[2.34955141138823...|[0.91289856474321...|       0.0|\n",
            "| 20|   student|       single|secondary|     no|  502.0|     no|  no| cellular| 30|  apr|   261.0|     1.0| -1.0|     0.0| unknown|                     yes|[20.0,502.0,261.0...|[0.01470588235294...|     10.0|                1.0|            0.0|          0.0|          1.0|     10.0|          0.0|        5.0|           0.0|(11,[10],[1.0])|    (2,[1],[1.0])|(3,[0],[1.0])|(1,[0],[1.0])|    (1,[],[])|(30,[10],[1.0])|(2,[0],[1.0])|(11,[5],[1.0])|(3,[0],[1.0])|(64,[10,12,13,16,...|(70,[0,1,2,16,18,...|  1.0|[0.49997706597474...|[0.62245394160564...|       0.0|\n",
            "| 20|   student|       single|secondary|     no| 1191.0|     no|  no| cellular| 12|  feb|   274.0|     1.0| -1.0|     0.0| unknown|                      no|[20.0,1191.0,274....|[0.01470588235294...|     10.0|                1.0|            0.0|          0.0|          1.0|     18.0|          0.0|        6.0|           0.0|(11,[10],[1.0])|    (2,[1],[1.0])|(3,[0],[1.0])|(1,[0],[1.0])|    (1,[],[])|(30,[18],[1.0])|(2,[0],[1.0])|(11,[6],[1.0])|(3,[0],[1.0])|(64,[10,12,13,16,...|(70,[0,1,2,16,18,...|  0.0|[0.71332759518133...|[0.67113601934022...|       0.0|\n",
            "| 21|  services|       single|secondary|     no|  361.0|     no|  no|telephone|  5|  jun|   329.0|     1.0| 95.0|     1.0|   other|                      no|[21.0,361.0,329.0...|[0.02941176470588...|      4.0|                1.0|            0.0|          0.0|          1.0|     11.0|          2.0|        3.0|           2.0| (11,[4],[1.0])|    (2,[1],[1.0])|(3,[0],[1.0])|(1,[0],[1.0])|    (1,[],[])|(30,[11],[1.0])|    (2,[],[])|(11,[3],[1.0])|(3,[2],[1.0])|(64,[4,12,13,16,2...|(70,[0,1,2,3,4,10...|  0.0|[0.80099902525997...|[0.69018814174951...|       0.0|\n",
            "| 21|   student|       single|secondary|     no|    6.0|     no|  no|  unknown|  9|  may|   622.0|     1.0| -1.0|     0.0| unknown|                      no|[21.0,6.0,622.0,0...|[0.02941176470588...|     10.0|                1.0|            0.0|          0.0|          1.0|     17.0|          1.0|        0.0|           0.0|(11,[10],[1.0])|    (2,[1],[1.0])|(3,[0],[1.0])|(1,[0],[1.0])|    (1,[],[])|(30,[17],[1.0])|(2,[1],[1.0])|(11,[0],[1.0])|(3,[0],[1.0])|(64,[10,12,13,16,...|(70,[0,1,2,16,18,...|  0.0|[1.50008915750312...|[0.81758777334240...|       0.0|\n",
            "| 21|   student|       single|secondary|     no|  681.0|     no|  no|  unknown| 20|  aug|     6.0|     1.0| -1.0|     0.0| unknown|                      no|[21.0,681.0,6.0,0...|[0.02941176470588...|     10.0|                1.0|            0.0|          0.0|          1.0|      0.0|          1.0|        2.0|           0.0|(11,[10],[1.0])|    (2,[1],[1.0])|(3,[0],[1.0])|(1,[0],[1.0])|    (1,[],[])| (30,[0],[1.0])|(2,[1],[1.0])|(11,[2],[1.0])|(3,[0],[1.0])|(64,[10,12,13,16,...|(70,[0,1,2,16,18,...|  0.0|[4.73679202639698...|[0.99130946299903...|       0.0|\n",
            "| 21|   student|       single|  unknown|     no|  137.0|    yes|  no|  unknown| 12|  may|   198.0|     3.0| -1.0|     0.0| unknown|                      no|[21.0,137.0,198.0...|[0.02941176470588...|     10.0|                1.0|            3.0|          0.0|          0.0|     18.0|          1.0|        0.0|           0.0|(11,[10],[1.0])|    (2,[1],[1.0])|    (3,[],[])|(1,[0],[1.0])|(1,[0],[1.0])|(30,[18],[1.0])|(2,[1],[1.0])|(11,[0],[1.0])|(3,[0],[1.0])|(64,[10,12,16,17,...|(70,[0,1,2,5,16,1...|  0.0|[3.86560630637634...|[0.97947968862675...|       0.0|\n",
            "| 22|    admin.|       single|secondary|     no| 4111.0|     no| yes| cellular| 19|  aug|    65.0|     1.0| -1.0|     0.0| unknown|                      no|[22.0,4111.0,65.0...|[0.04411764705882...|      3.0|                1.0|            0.0|          0.0|          1.0|      3.0|          0.0|        2.0|           0.0| (11,[3],[1.0])|    (2,[1],[1.0])|(3,[0],[1.0])|(1,[0],[1.0])|    (1,[],[])| (30,[3],[1.0])|(2,[0],[1.0])|(11,[2],[1.0])|(3,[0],[1.0])|(64,[3,12,13,16,2...|(70,[0,1,2,9,18,1...|  0.0|[3.94599013610569...|[0.98103457531825...|       0.0|\n",
            "| 22|   student|       single|  primary|     no| 3472.0|     no|  no| cellular| 20|  oct|   332.0|     1.0|183.0|     3.0| failure|                     yes|[22.0,3472.0,332....|[0.04411764705882...|     10.0|                1.0|            2.0|          0.0|          1.0|      0.0|          0.0|        8.0|           1.0|(11,[10],[1.0])|    (2,[1],[1.0])|(3,[2],[1.0])|(1,[0],[1.0])|    (1,[],[])| (30,[0],[1.0])|(2,[0],[1.0])|(11,[8],[1.0])|(3,[1],[1.0])|(64,[10,12,15,16,...|(70,[0,1,2,3,4,16...|  1.0|[-0.0496072284796...|[0.48760073553132...|       1.0|\n",
            "| 22|   student|       single|secondary|     no| 2488.0|     no|  no| cellular|  8|  nov|   449.0|     2.0| 38.0|    10.0|   other|                     yes|[22.0,2488.0,449....|[0.04411764705882...|     10.0|                1.0|            0.0|          0.0|          1.0|      7.0|          0.0|        4.0|           2.0|(11,[10],[1.0])|    (2,[1],[1.0])|(3,[0],[1.0])|(1,[0],[1.0])|    (1,[],[])| (30,[7],[1.0])|(2,[0],[1.0])|(11,[4],[1.0])|(3,[2],[1.0])|(64,[10,12,13,16,...|(70,[0,1,2,3,4,5,...|  1.0|[1.31566154820472...|[0.78845899562075...|       0.0|\n",
            "| 22|   student|       single| tertiary|     no|  691.0|     no|  no| cellular| 19|  aug|   338.0|     1.0| -1.0|     0.0| unknown|                     yes|[22.0,691.0,338.0...|[0.04411764705882...|     10.0|                1.0|            1.0|          0.0|          1.0|      3.0|          0.0|        2.0|           0.0|(11,[10],[1.0])|    (2,[1],[1.0])|(3,[1],[1.0])|(1,[0],[1.0])|    (1,[],[])| (30,[3],[1.0])|(2,[0],[1.0])|(11,[2],[1.0])|(3,[0],[1.0])|(64,[10,12,14,16,...|(70,[0,1,2,16,18,...|  1.0|[2.20686375975398...|[0.90086418770120...|       0.0|\n",
            "| 22|   student|       single| tertiary|     no| 1161.0|     no| yes| cellular| 16|  jun|   119.0|     1.0| -1.0|     0.0| unknown|                      no|[22.0,1161.0,119....|[0.04411764705882...|     10.0|                1.0|            1.0|          0.0|          1.0|     14.0|          0.0|        3.0|           0.0|(11,[10],[1.0])|    (2,[1],[1.0])|(3,[1],[1.0])|(1,[0],[1.0])|    (1,[],[])|(30,[14],[1.0])|(2,[0],[1.0])|(11,[3],[1.0])|(3,[0],[1.0])|(64,[10,12,14,16,...|(70,[0,1,2,16,18,...|  0.0|[0.90260367184018...|[0.71148426397220...|       0.0|\n",
            "| 22|   student|       single|  unknown|     no|   47.0|     no|  no| cellular|  3|  jul|    69.0|     3.0| -1.0|     0.0| unknown|                      no|[22.0,47.0,69.0,0...|[0.04411764705882...|     10.0|                1.0|            3.0|          0.0|          1.0|     24.0|          0.0|        1.0|           0.0|(11,[10],[1.0])|    (2,[1],[1.0])|    (3,[],[])|(1,[0],[1.0])|    (1,[],[])|(30,[24],[1.0])|(2,[0],[1.0])|(11,[1],[1.0])|(3,[0],[1.0])|(64,[10,12,16,42,...|(70,[0,1,2,5,16,1...|  0.0|[3.23191480653231...|[0.96201778106701...|       0.0|\n",
            "| 22|   student|       single|  unknown|     no|  549.0|     no|  no| cellular|  2|  sep|   154.0|     1.0| -1.0|     0.0| unknown|                      no|[22.0,549.0,154.0...|[0.04411764705882...|     10.0|                1.0|            3.0|          0.0|          1.0|     21.0|          0.0|        9.0|           0.0|(11,[10],[1.0])|    (2,[1],[1.0])|    (3,[],[])|(1,[0],[1.0])|    (1,[],[])|(30,[21],[1.0])|(2,[0],[1.0])|(11,[9],[1.0])|(3,[0],[1.0])|(64,[10,12,16,39,...|(70,[0,1,2,16,18,...|  0.0|[1.01112769115479...|[0.73324078221332...|       0.0|\n",
            "| 22|technician|       single|secondary|     no|  333.0|     no| yes|telephone| 12|  nov|   129.0|     1.0| -1.0|     0.0| unknown|                      no|[22.0,333.0,129.0...|[0.04411764705882...|      2.0|                1.0|            0.0|          0.0|          1.0|     18.0|          2.0|        4.0|           0.0| (11,[2],[1.0])|    (2,[1],[1.0])|(3,[0],[1.0])|(1,[0],[1.0])|    (1,[],[])|(30,[18],[1.0])|    (2,[],[])|(11,[4],[1.0])|(3,[0],[1.0])|(64,[2,12,13,16,3...|(70,[0,1,2,8,18,1...|  0.0|[3.24277634277782...|[0.96241267140082...|       0.0|\n",
            "| 23|    admin.|       single|secondary|     no|    5.0|     no|  no|  unknown| 12|  may|   413.0|     1.0| -1.0|     0.0| unknown|                      no|[23.0,5.0,413.0,0...|[0.05882352941176...|      3.0|                1.0|            0.0|          0.0|          1.0|     18.0|          1.0|        0.0|           0.0| (11,[3],[1.0])|    (2,[1],[1.0])|(3,[0],[1.0])|(1,[0],[1.0])|    (1,[],[])|(30,[18],[1.0])|(2,[1],[1.0])|(11,[0],[1.0])|(3,[0],[1.0])|(64,[3,12,13,16,3...|(70,[0,1,2,9,18,1...|  0.0|[2.76367939804771...|[0.94068127768410...|       0.0|\n",
            "| 23|    admin.|       single|secondary|     no|  589.0|    yes|  no| cellular|  6|  may|    62.0|     1.0| -1.0|     0.0| unknown|                      no|[23.0,589.0,62.0,...|[0.05882352941176...|      3.0|                1.0|            0.0|          0.0|          0.0|      9.0|          0.0|        0.0|           0.0| (11,[3],[1.0])|    (2,[1],[1.0])|(3,[0],[1.0])|(1,[0],[1.0])|(1,[0],[1.0])| (30,[9],[1.0])|(2,[0],[1.0])|(11,[0],[1.0])|(3,[0],[1.0])|(64,[3,12,13,16,1...|(70,[0,1,2,9,18,1...|  0.0|[3.93490455737636...|[0.98082721632407...|       0.0|\n",
            "+---+----------+-------------+---------+-------+-------+-------+----+---------+---+-----+--------+--------+-----+--------+--------+------------------------+--------------------+--------------------+---------+-------------------+---------------+-------------+-------------+---------+-------------+-----------+--------------+---------------+-----------------+-------------+-------------+-------------+---------------+-------------+--------------+-------------+--------------------+--------------------+-----+--------------------+--------------------+----------+\n",
            "only showing top 20 rows\n",
            "\n"
          ],
          "name": "stdout"
        }
      ]
    },
    {
      "cell_type": "code",
      "metadata": {
        "id": "BgdJ4Ik2uoAJ"
      },
      "source": [
        "test_predictions_lr = lr_pipeline_model.transform(testingData)"
      ],
      "execution_count": 80,
      "outputs": []
    },
    {
      "cell_type": "code",
      "metadata": {
        "colab": {
          "base_uri": "https://localhost:8080/"
        },
        "id": "huEnVVbhuqUI",
        "outputId": "e8da4bfe-5ec8-4639-c80e-b7e4ef0f5703"
      },
      "source": [
        "from pyspark.ml.evaluation import MulticlassClassificationEvaluator\n",
        "predictionAndLabels_train_lr = train_predictions_lr.select(\"prediction\",\"label\")\n",
        "evaluator = MulticlassClassificationEvaluator(metricName=\"accuracy\")\n",
        "train_accuracy_lr = evaluator.evaluate(predictionAndLabels_train_lr)\n",
        "print(\"Training Set Accuracy = \",train_accuracy_lr)\n",
        "print(\"Training error \", 1-train_accuracy_lr)"
      ],
      "execution_count": 81,
      "outputs": [
        {
          "output_type": "stream",
          "text": [
            "Training Set Accuracy =  0.8960100534087339\n",
            "Training error  0.10398994659126615\n"
          ],
          "name": "stdout"
        }
      ]
    },
    {
      "cell_type": "code",
      "metadata": {
        "colab": {
          "base_uri": "https://localhost:8080/"
        },
        "id": "zXMyB7EKuwPo",
        "outputId": "ed8fabea-dc5e-4cd8-a3d4-64dd8781affd"
      },
      "source": [
        "predictionAndLabels_test_lr = test_predictions_lr.select(\"prediction\",\"label\")\n",
        "evaluator = MulticlassClassificationEvaluator(metricName=\"accuracy\")\n",
        "test_accuracy_lr = evaluator.evaluate(predictionAndLabels_test_lr)\n",
        "print(\"Testing Set Accuracy = \",test_accuracy_lr)\n",
        "print(\"Testing error \", 1-test_accuracy_lr)"
      ],
      "execution_count": 82,
      "outputs": [
        {
          "output_type": "stream",
          "text": [
            "Testing Set Accuracy =  0.9125560538116592\n",
            "Testing error  0.08744394618834084\n"
          ],
          "name": "stdout"
        }
      ]
    },
    {
      "cell_type": "code",
      "metadata": {
        "id": "2u5A39aWuyRX"
      },
      "source": [
        "true_positive = predictionAndLabels_test_lr[(predictionAndLabels_test_lr.prediction == 1.0) & (predictionAndLabels_test_lr.label ==1.0 )].count()"
      ],
      "execution_count": 83,
      "outputs": []
    },
    {
      "cell_type": "code",
      "metadata": {
        "colab": {
          "base_uri": "https://localhost:8080/"
        },
        "id": "DhFJQLP5u0SW",
        "outputId": "4db7e994-20a5-4eec-c72b-54523c7a9b9c"
      },
      "source": [
        "true_positive"
      ],
      "execution_count": 84,
      "outputs": [
        {
          "output_type": "execute_result",
          "data": {
            "text/plain": [
              "55"
            ]
          },
          "metadata": {
            "tags": []
          },
          "execution_count": 84
        }
      ]
    },
    {
      "cell_type": "code",
      "metadata": {
        "id": "hEQnhuOXu2X7"
      },
      "source": [
        "true_negative = predictionAndLabels_test_lr[(predictionAndLabels_test_lr.prediction == 0.0) & (predictionAndLabels_test_lr.label ==0.0 )].count()"
      ],
      "execution_count": 85,
      "outputs": []
    },
    {
      "cell_type": "code",
      "metadata": {
        "colab": {
          "base_uri": "https://localhost:8080/"
        },
        "id": "IqGAMlicu5kk",
        "outputId": "1b7c5b52-4eb0-4318-b08d-ce615a5481e4"
      },
      "source": [
        "true_negative"
      ],
      "execution_count": 86,
      "outputs": [
        {
          "output_type": "execute_result",
          "data": {
            "text/plain": [
              "1166"
            ]
          },
          "metadata": {
            "tags": []
          },
          "execution_count": 86
        }
      ]
    },
    {
      "cell_type": "code",
      "metadata": {
        "id": "0TWbh5BUu8gF"
      },
      "source": [
        "false_positive = predictionAndLabels_test_lr[(predictionAndLabels_test_lr.prediction == 1.0) & (predictionAndLabels_test_lr.label ==0.0 )].count()"
      ],
      "execution_count": 87,
      "outputs": []
    },
    {
      "cell_type": "code",
      "metadata": {
        "colab": {
          "base_uri": "https://localhost:8080/"
        },
        "id": "L81NmMz4u-YK",
        "outputId": "22d8f0d5-7bcd-44aa-eb87-88a90072078c"
      },
      "source": [
        "false_positive"
      ],
      "execution_count": 88,
      "outputs": [
        {
          "output_type": "execute_result",
          "data": {
            "text/plain": [
              "36"
            ]
          },
          "metadata": {
            "tags": []
          },
          "execution_count": 88
        }
      ]
    },
    {
      "cell_type": "code",
      "metadata": {
        "id": "An9n21zHvBGp"
      },
      "source": [
        "false_negative = predictionAndLabels_test_lr[(predictionAndLabels_test_lr.prediction == 0.0) & (predictionAndLabels_test_lr.label ==1.0 )].count()"
      ],
      "execution_count": 89,
      "outputs": []
    },
    {
      "cell_type": "code",
      "metadata": {
        "colab": {
          "base_uri": "https://localhost:8080/"
        },
        "id": "aB3tRB-rvD1b",
        "outputId": "dffbe588-df72-4eab-e03e-1bbb668a7756"
      },
      "source": [
        "false_negative"
      ],
      "execution_count": 90,
      "outputs": [
        {
          "output_type": "execute_result",
          "data": {
            "text/plain": [
              "81"
            ]
          },
          "metadata": {
            "tags": []
          },
          "execution_count": 90
        }
      ]
    },
    {
      "cell_type": "code",
      "metadata": {
        "id": "6VURo1u7vGWv"
      },
      "source": [
        "precission = true_positive/float(true_positive + false_positive)"
      ],
      "execution_count": 91,
      "outputs": []
    },
    {
      "cell_type": "code",
      "metadata": {
        "colab": {
          "base_uri": "https://localhost:8080/"
        },
        "id": "i8ylvMPJwmD_",
        "outputId": "9ac46efa-50f4-43f5-9d74-860f0e43fbb5"
      },
      "source": [
        "precission"
      ],
      "execution_count": 92,
      "outputs": [
        {
          "output_type": "execute_result",
          "data": {
            "text/plain": [
              "0.6043956043956044"
            ]
          },
          "metadata": {
            "tags": []
          },
          "execution_count": 92
        }
      ]
    },
    {
      "cell_type": "code",
      "metadata": {
        "colab": {
          "base_uri": "https://localhost:8080/"
        },
        "id": "-yiqwUh5w0DM",
        "outputId": "b4fc4ddf-53f9-441c-eb86-af39445ebd95"
      },
      "source": [
        "true_positive = predictionAndLabels_train_lr[(predictionAndLabels_train_lr.label == 1) & (predictionAndLabels_train_lr.prediction == 1.0)].count()\n",
        "true_negative = predictionAndLabels_train_lr[(predictionAndLabels_train_lr.label == 0) & (predictionAndLabels_train_lr.prediction == 0.0)].count()\n",
        "false_positive = predictionAndLabels_train_lr[(predictionAndLabels_train_lr.label == 0) & (predictionAndLabels_train_lr.prediction == 1.0)].count()\n",
        "false_negative = predictionAndLabels_train_lr[(predictionAndLabels_train_lr.label == 1) & (predictionAndLabels_train_lr.prediction == 0.0)].count()\n",
        "print (\"TRAIN METRICS - LINEAR MODEL - BINOMIAL FAMILY\")\n",
        "print (\"True Positives:\", true_positive)\n",
        "print (\"True Negatives:\", true_negative)\n",
        "print (\"False Positives:\", false_positive)\n",
        "print (\"False Negatives:\", false_negative)\n",
        "print (\"Total\", predictionAndLabels_train_lr.count())\n",
        "precission = true_positive / float(true_positive + false_positive)\n",
        "print (\"Precission: \", precission)\n",
        "recall = true_positive / float(true_positive + false_negative)\n",
        "print (\"Recall: \", recall)\n",
        "print (\"F1 Score: \", (2*((precission * recall)/float(precission + recall))))\n",
        "print(\"*****************************************************************************\")\n",
        "true_positive = predictionAndLabels_test_lr[(predictionAndLabels_test_lr.label == 1) & (predictionAndLabels_test_lr.prediction == 1.0)].count()\n",
        "true_negative = predictionAndLabels_test_lr[(predictionAndLabels_test_lr.label == 0) & (predictionAndLabels_test_lr.prediction == 0.0)].count()\n",
        "false_positive = predictionAndLabels_test_lr[(predictionAndLabels_test_lr.label == 0) & (predictionAndLabels_test_lr.prediction == 1.0)].count()\n",
        "false_negative = predictionAndLabels_test_lr[(predictionAndLabels_test_lr.label == 1) & (predictionAndLabels_test_lr.prediction == 0.0)].count()\n",
        "print (\"TEST METRICS - LINEAR MODEL - BINOMIAL FAMILY\")\n",
        "print (\"True Positives:\", true_positive)\n",
        "print (\"True Negatives:\", true_negative)\n",
        "print (\"False Positives:\", false_positive)\n",
        "print (\"False Negatives:\", false_negative)\n",
        "print (\"Total\", predictionAndLabels_train_lr.count())\n",
        "precission = true_positive / float(true_positive + false_positive)\n",
        "print (\"Precission: \", precission)\n",
        "recall = true_positive / float(true_positive + false_negative)\n",
        "print (\"Recall: \", recall)\n",
        "print (\"F1 Score: \", (2*((precission * recall)/float(precission + recall))))"
      ],
      "execution_count": 93,
      "outputs": [
        {
          "output_type": "stream",
          "text": [
            "TRAIN METRICS - LINEAR MODEL - BINOMIAL FAMILY\n",
            "True Positives: 124\n",
            "True Negatives: 2728\n",
            "False Positives: 70\n",
            "False Negatives: 261\n",
            "Total 3183\n",
            "Precission:  0.6391752577319587\n",
            "Recall:  0.3220779220779221\n",
            "F1 Score:  0.4283246977547495\n",
            "*****************************************************************************\n",
            "TEST METRICS - LINEAR MODEL - BINOMIAL FAMILY\n",
            "True Positives: 55\n",
            "True Negatives: 1166\n",
            "False Positives: 36\n",
            "False Negatives: 81\n",
            "Total 3183\n",
            "Precission:  0.6043956043956044\n",
            "Recall:  0.40441176470588236\n",
            "F1 Score:  0.4845814977973568\n"
          ],
          "name": "stdout"
        }
      ]
    },
    {
      "cell_type": "code",
      "metadata": {
        "id": "oJ1yICzww5Zp"
      },
      "source": [
        "train_pred_pandas = predictionAndLabels_train_lr.toPandas()\n",
        "train_actuals = train_pred_pandas.label.tolist()\n",
        "train_predictions = train_pred_pandas.prediction.tolist()\n",
        "\n",
        "\n",
        "test_pred_pandas = predictionAndLabels_test_lr.toPandas()\n",
        "test_actuals = test_pred_pandas.label.tolist()\n",
        "test_predictions = test_pred_pandas.prediction.tolist()\n",
        "from sklearn import metrics as smetrics\n",
        "cm = smetrics.confusion_matrix(train_actuals, train_predictions)"
      ],
      "execution_count": 94,
      "outputs": []
    },
    {
      "cell_type": "code",
      "metadata": {
        "colab": {
          "base_uri": "https://localhost:8080/",
          "height": 504
        },
        "id": "TRPKd-21w-U4",
        "outputId": "d9db1149-7b48-4272-d568-b68e2a07fa33"
      },
      "source": [
        "df_cm = pd.DataFrame(cm)\n",
        "df_cm.index = ['Not Approved', 'Approved']\n",
        "df_cm.columns = ['Not Approved', 'Approved']\n",
        "names=['Not Approved', 'Approved']\n",
        "print(df_cm)\n",
        "fig = plt.figure(figsize = (10,7))\n",
        "sns.set(font_scale=1.4)#for label size\n",
        "sns.heatmap(df_cm, annot=True,fmt=\"d\",annot_kws={\"size\": 20})"
      ],
      "execution_count": 95,
      "outputs": [
        {
          "output_type": "stream",
          "text": [
            "              Not Approved  Approved\n",
            "Not Approved          2728        70\n",
            "Approved               261       124\n"
          ],
          "name": "stdout"
        },
        {
          "output_type": "execute_result",
          "data": {
            "text/plain": [
              "<matplotlib.axes._subplots.AxesSubplot at 0x7fc98472a350>"
            ]
          },
          "metadata": {
            "tags": []
          },
          "execution_count": 95
        },
        {
          "output_type": "display_data",
          "data": {
            "image/png": "[encoded data removed]",
            "text/plain": [
              "<Figure size 720x504 with 2 Axes>"
            ]
          },
          "metadata": {
            "tags": [],
            "needs_background": "light"
          }
        }
      ]
    },
    {
      "cell_type": "code",
      "metadata": {
        "id": "UcLuBHr-xBBt"
      },
      "source": [
        ""
      ],
      "execution_count": null,
      "outputs": []
    }
  ]
}