{
 "cells": [
  {
   "cell_type": "markdown",
   "metadata": {},
   "source": [
    "# Introduction to Python : Part 02"
   ]
  },
  {
   "cell_type": "markdown",
   "metadata": {},
   "source": [
    "### Agenda\n",
    "* Importance of indentation in python\n",
    "* input() method\n",
    "* Loops and Control Statements \n",
    "    * if Statements\n",
    "    * While loop\n",
    "    * For loop\n",
    "        * Python Iterators and enumerator\n",
    "        * Loop through the List\n",
    "        * Loop through a Dictionary\n",
    "        * Loop through a Set\n",
    "        * Loop through a Tuple\n",
    "    * break statement\n",
    "    * continue statement\n",
    "    * pass statement\n",
    "* Comprehensions in Python\n",
    "\t* List Comprehensions\n",
    "\t\t* List comprehensions with conditions\n",
    "\t\t* Nested list comprehensions\n",
    "\t\t* Nested List comprehensions with condition\n",
    "\t* Dictionary Comprehensions\n",
    "\t* Set Comprehensions\n",
    "* zip() Function"
   ]
  },
  {
   "cell_type": "markdown",
   "metadata": {},
   "source": [
    "### Indentation\n",
    "* __Indentation__ refers to the `spaces` at the __beginning__ of a code line. \n",
    "* In other programming languages the indentation in code is for `readability` \n",
    "* In `Python` indentation is __very important__ and python uses __indentation__ to indicate a `block of code`."
   ]
  },
  {
   "cell_type": "markdown",
   "metadata": {},
   "source": [
    "#### `input()` method \n",
    "\n",
    "Reads a line from input, converts the line into a string by removing the trailing newline, and returns it."
   ]
  },
  {
   "cell_type": "markdown",
   "metadata": {},
   "source": [
    "## Control Flow"
   ]
  },
  {
   "cell_type": "markdown",
   "metadata": {},
   "source": [
    "### `if` Statements"
   ]
  },
  {
   "cell_type": "code",
   "execution_count": null,
   "metadata": {
    "scrolled": true
   },
   "outputs": [],
   "source": [
    "x = int(input(\"Please enter an integer: \"))"
   ]
  },
  {
   "cell_type": "code",
   "execution_count": null,
   "metadata": {},
   "outputs": [],
   "source": [
    "if x < 0:\n",
    "    x = 0\n",
    "    print('Negative changed to zero')\n",
    "elif x == 0:\n",
    "    print('Zero')\n",
    "elif x == 1:\n",
    "    print('Single')\n",
    "else:\n",
    "    print('More')"
   ]
  },
  {
   "cell_type": "markdown",
   "metadata": {},
   "source": [
    "### While Loop"
   ]
  },
  {
   "cell_type": "code",
   "execution_count": null,
   "metadata": {},
   "outputs": [],
   "source": [
    "count = 0\n",
    "while (count < 5):\n",
    "   print ('Count:', count)\n",
    "   count = count + 1\n",
    "\n",
    "print (\"End of while loop!\")"
   ]
  },
  {
   "cell_type": "markdown",
   "metadata": {},
   "source": [
    "If the `else` statement is used with a __while__ loop, the `else` statement is __executed__ when the __condition__ becomes `false`."
   ]
  },
  {
   "cell_type": "code",
   "execution_count": null,
   "metadata": {},
   "outputs": [],
   "source": [
    "count = 0\n",
    "\n",
    "while count < 5:\n",
    "   print (count, \"is less than 5\")\n",
    "   count = count + 1\n",
    "\n",
    "##code here\n",
    "\n",
    "print (\"End of while loop!\")"
   ]
  },
  {
   "cell_type": "markdown",
   "metadata": {},
   "source": [
    "### For Loop\n",
    "\n",
    "__For__ loop in Python is used to `iterate` over a __sequence__ or other __iterable objects__. "
   ]
  },
  {
   "cell_type": "markdown",
   "metadata": {},
   "source": [
    "### Python Iterators\n",
    "\n",
    "* An __iterator__ is an object that contains a `countable` number of values and can be `iterated` upon, meaning that you can `traverse` through __all the values__.\n",
    "\n",
    "* `Lists`, `tuples`, `dictionaries`, and `sets` are all __iterable__ objects."
   ]
  },
  {
   "cell_type": "markdown",
   "metadata": {},
   "source": [
    "#### Loop through the List using for loop"
   ]
  },
  {
   "cell_type": "code",
   "execution_count": null,
   "metadata": {},
   "outputs": [],
   "source": [
    "animals = ['cat', 'dog', 'monkey']\n",
    "\n",
    "for animal in animals:\n",
    "    print (animal)"
   ]
  },
  {
   "cell_type": "markdown",
   "metadata": {},
   "source": [
    "If the `else` statement is used with a `for` loop, the `else` statement is executed when the __loop has exhausted iterating__ the list."
   ]
  },
  {
   "cell_type": "code",
   "execution_count": null,
   "metadata": {},
   "outputs": [],
   "source": [
    "animals = ['cat', 'dog', 'monkey']\n",
    "\n",
    "for animal in animals:\n",
    "    print (animal)\n",
    "else:\n",
    "    print (\"End of list\")"
   ]
  },
  {
   "cell_type": "markdown",
   "metadata": {},
   "source": [
    "#### Python `enumerate(iterable, start=0)`\n",
    "\n",
    "The `enumerate()` method adds __counter__ to an `iterable` and returns it (the enumerate object)."
   ]
  },
  {
   "cell_type": "code",
   "execution_count": null,
   "metadata": {},
   "outputs": [],
   "source": [
    "animals = ['cat', 'dog', 'monkey']\n",
    "\n",
    "for index, element in enumerate(animals):\n",
    "    print (index, element)\n",
    "else:\n",
    "    print (\"End of list\")"
   ]
  },
  {
   "cell_type": "markdown",
   "metadata": {},
   "source": [
    "#### Loop through a Dictionary using for loop"
   ]
  },
  {
   "cell_type": "code",
   "execution_count": null,
   "metadata": {},
   "outputs": [],
   "source": [
    "dic = {'person': 2, 'cat': 4, 'spider': 8}\n",
    "dic"
   ]
  },
  {
   "cell_type": "markdown",
   "metadata": {},
   "source": [
    "Loop over the `keys` in a dictionary using __for__ loop\n",
    "\n",
    "* When __looping__ through a `dictionary`, the __return__ value are the `keys` of the __dictionary__"
   ]
  },
  {
   "cell_type": "code",
   "execution_count": null,
   "metadata": {},
   "outputs": [],
   "source": [
    "for animal in dic:\n",
    "    legs = dic[animal]\n",
    "    print ('A %s has %i legs' % (animal, legs))"
   ]
  },
  {
   "cell_type": "code",
   "execution_count": null,
   "metadata": {},
   "outputs": [],
   "source": [
    "for animal in dic:\n",
    "    print(dic[animal])"
   ]
  },
  {
   "cell_type": "markdown",
   "metadata": {},
   "source": [
    "`values()` function to return __values__ of a dictionary"
   ]
  },
  {
   "cell_type": "code",
   "execution_count": null,
   "metadata": {},
   "outputs": [],
   "source": [
    "for legs in dic.values():\n",
    "    print (legs)"
   ]
  },
  {
   "cell_type": "markdown",
   "metadata": {},
   "source": [
    "Loop through both __keys__ and __values__, by using the `items()` function"
   ]
  },
  {
   "cell_type": "code",
   "execution_count": null,
   "metadata": {},
   "outputs": [],
   "source": [
    "for key, values in dic.items():\n",
    "    print(key, values)"
   ]
  },
  {
   "cell_type": "markdown",
   "metadata": {},
   "source": [
    "#### Loop through a Set using for loop"
   ]
  },
  {
   "cell_type": "code",
   "execution_count": null,
   "metadata": {},
   "outputs": [],
   "source": [
    "s = {2, 4, 8, 16}\n",
    "s"
   ]
  },
  {
   "cell_type": "code",
   "execution_count": null,
   "metadata": {},
   "outputs": [],
   "source": [
    "print(s)"
   ]
  },
  {
   "cell_type": "code",
   "execution_count": null,
   "metadata": {},
   "outputs": [],
   "source": [
    "for num in s:\n",
    "    print(num)     "
   ]
  },
  {
   "cell_type": "markdown",
   "metadata": {},
   "source": [
    "#### Loop through a Tuple using for loop"
   ]
  },
  {
   "cell_type": "code",
   "execution_count": null,
   "metadata": {},
   "outputs": [],
   "source": [
    "s = (2, 4, 8)\n",
    "for num in s:\n",
    "    print(num)"
   ]
  },
  {
   "cell_type": "markdown",
   "metadata": {},
   "source": [
    "### break statement\n",
    "\n",
    "`Terminates` the __loop__ statement and `transfers` execution to the statement __immediately__ following the loop."
   ]
  },
  {
   "cell_type": "code",
   "execution_count": null,
   "metadata": {},
   "outputs": [],
   "source": [
    "for letter in 'Python':\n",
    "   if letter == 'h':\n",
    "      break\n",
    "   print ('Letter :', letter)\n",
    "\n",
    "print(\"Statement immediate after the for loop\")"
   ]
  },
  {
   "cell_type": "markdown",
   "metadata": {},
   "source": [
    "### continue statement\n",
    "\n",
    "Causes the loop to `skip` the __remaining__ part of its body and `immediately` __retest__ its `condition` prior to reiterating."
   ]
  },
  {
   "cell_type": "code",
   "execution_count": null,
   "metadata": {},
   "outputs": [],
   "source": [
    "for letter in 'Python':\n",
    "   if letter == 'h':\n",
    "      continue\n",
    "   print ('Letter :', letter)\n",
    "\n",
    "print(\"Statement immediate after the for loop\")"
   ]
  },
  {
   "cell_type": "markdown",
   "metadata": {},
   "source": [
    "### pass statement\n",
    "\n",
    "The __pass__ statement `does nothing`. It can be used when a statement is required __syntactically__ but the program requires __no action__."
   ]
  },
  {
   "cell_type": "code",
   "execution_count": null,
   "metadata": {},
   "outputs": [],
   "source": [
    "for letter in 'Python': \n",
    "   if letter == 'h':\n",
    "      pass\n",
    "      print ('This is pass block')\n",
    "   print ('Letter :', letter)"
   ]
  },
  {
   "cell_type": "markdown",
   "metadata": {},
   "source": [
    "## Comprehensions in Python\n",
    "\n",
    "__Comprehensions__ in Python provide a `short` and `concise` way to `construct` __lists__, __set__, __dictionary__ etc using __sequences__ which have been already defined.\n",
    "\n",
    "* List Comprehensions\n",
    "* Dictionary Comprehensions\n",
    "* Set Comprehensions"
   ]
  },
  {
   "cell_type": "markdown",
   "metadata": {},
   "source": [
    "### List comprehensions"
   ]
  },
  {
   "cell_type": "code",
   "execution_count": null,
   "metadata": {},
   "outputs": [],
   "source": [
    "nums = [0, 1, 2, 3, 4]"
   ]
  },
  {
   "cell_type": "markdown",
   "metadata": {},
   "source": [
    "Create the new list by squaring each element in the __nums__ list"
   ]
  },
  {
   "cell_type": "code",
   "execution_count": null,
   "metadata": {},
   "outputs": [],
   "source": [
    "squares = []\n",
    "for x in nums:\n",
    "    squares.append(x ** 2)\n",
    "\n",
    "print(squares)"
   ]
  },
  {
   "cell_type": "markdown",
   "metadata": {},
   "source": [
    "You can make this code simpler using a list comprehension:"
   ]
  },
  {
   "cell_type": "code",
   "execution_count": null,
   "metadata": {},
   "outputs": [],
   "source": [
    "squares = [x**2  for x in nums]\n",
    "\n",
    "print (squares)"
   ]
  },
  {
   "cell_type": "markdown",
   "metadata": {},
   "source": [
    "#### List comprehensions can also contain conditions:"
   ]
  },
  {
   "cell_type": "markdown",
   "metadata": {},
   "source": [
    "Consider only even number to create the even_squares list"
   ]
  },
  {
   "cell_type": "code",
   "execution_count": null,
   "metadata": {},
   "outputs": [],
   "source": [
    "even_squares = [x ** 2 for x in nums if (x % 2) == 0]\n",
    "\n",
    "print (even_squares)"
   ]
  },
  {
   "cell_type": "code",
   "execution_count": null,
   "metadata": {},
   "outputs": [],
   "source": [
    "even_squares = [x ** 2  if (x % 2) == 0 else x ** 3 for x in nums ]\n",
    "\n",
    "print (even_squares)"
   ]
  }
 ],
 "metadata": {
  "anaconda-cloud": {},
  "kernelspec": {
   "display_name": "Python 3",
   "language": "python",
   "name": "python3"
  },
  "language_info": {
   "codemirror_mode": {
    "name": "ipython",
    "version": 3
   },
   "file_extension": ".py",
   "mimetype": "text/x-python",
   "name": "python",
   "nbconvert_exporter": "python",
   "pygments_lexer": "ipython3",
   "version": "3.6.9"
  }
 },
 "nbformat": 4,
 "nbformat_minor": 1
}
