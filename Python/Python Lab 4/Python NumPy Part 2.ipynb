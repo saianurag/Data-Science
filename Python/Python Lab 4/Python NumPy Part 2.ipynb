{
 "cells": [
  {
   "cell_type": "markdown",
   "metadata": {},
   "source": [
    "# Introduction NumPy"
   ]
  },
  {
   "cell_type": "markdown",
   "metadata": {},
   "source": [
    "## Agenda\n",
    "* Important attributes of an Numpy array object.\n",
    "* Indexing and slicing of  Numpy arrays.\n",
    "* Reshaping of arrays.\n",
    "* Arithmetic operations using Numpy array.\n",
    "* Broadcast\n"
   ]
  },
  {
   "cell_type": "markdown",
   "metadata": {},
   "source": [
    "### Indexing, Slicing and Iterating\n",
    "\n",
    "__One-dimensional__ arrays can be indexed, sliced and iterated over, much like lists and other Python sequences."
   ]
  },
  {
   "cell_type": "code",
   "execution_count": null,
   "metadata": {},
   "outputs": [],
   "source": [
    "import numpy as np\n",
    "a = np.arange(10)\n",
    "print (a)"
   ]
  },
  {
   "cell_type": "code",
   "execution_count": null,
   "metadata": {},
   "outputs": [],
   "source": [
    "print (a[2])"
   ]
  },
  {
   "cell_type": "code",
   "execution_count": null,
   "metadata": {},
   "outputs": [],
   "source": [
    "print (a[2:5])"
   ]
  },
  {
   "cell_type": "code",
   "execution_count": null,
   "metadata": {},
   "outputs": [],
   "source": [
    "print (a[:])\n",
    "print (a[0:10])\n",
    "print (a)"
   ]
  },
  {
   "cell_type": "code",
   "execution_count": null,
   "metadata": {},
   "outputs": [],
   "source": [
    "a = np.array([[0,1,2,3,4,5],\n",
    "              [10,11,12,13,14,15],\n",
    "              [20,21,22,23,24,25],\n",
    "              [30,31,32,33,34,35],\n",
    "              [40,41,42,43,44,45],\n",
    "              [50,51,52,53,54,55]])\n",
    "\n",
    "print (a)"
   ]
  },
  {
   "cell_type": "markdown",
   "metadata": {},
   "source": [
    "![](img/numpy_indexing.png)"
   ]
  },
  {
   "cell_type": "code",
   "execution_count": null,
   "metadata": {},
   "outputs": [],
   "source": [
    "print(a[1])                                  # the last row. Equivalent to b[1,:]\n",
    "\n",
    "\n",
    "print(a[-1])"
   ]
  },
  {
   "cell_type": "raw",
   "metadata": {},
   "source": [
    "##### ACTIVITY:\n",
    "Create a 3X4 array as follows:\n",
    "\n",
    "\n",
    "[[1   2   3   5  ]\n",
    " [10  20  30  50 ]  \n",
    " [100 200 300 500]]\n",
    "\n",
    "From this extract out the array [[20   30 ]\n",
    "                                 [200  300]]\n",
    "                                 "
   ]
  },
  {
   "cell_type": "code",
   "execution_count": null,
   "metadata": {},
   "outputs": [],
   "source": [
    "arr = np.array([[1,   2,   3,   5  ], \n",
    "                [10,  20,  30,  50 ],\n",
    "                [100, 200, 300, 500] ])\n",
    "\n",
    "print (arr)\n",
    "arr1 = arr[1:, 1:3]\n",
    "print (arr1)"
   ]
  },
  {
   "cell_type": "markdown",
   "metadata": {},
   "source": [
    "### Reshaping numpy arrays\n",
    "\n",
    "\n",
    "* Change the shape of a numpy array\n",
    "\n",
    "* The most basic unit in an Array is an element\n",
    "\n",
    "* Reshpaing is only possible if the shape of the n dimensional array allows you to hold all the elements\n",
    "\n",
    "* Convert [ [2, 3, 4], [22, 33, 44] ] (shape (2,3)) to [2, 3, 4, 22, 33, 44]  (shape (6,))"
   ]
  },
  {
   "cell_type": "code",
   "execution_count": null,
   "metadata": {},
   "outputs": [],
   "source": [
    "numpy_two_dim = np.array([\n",
    "                            [1, 2, 3, 4, 5, 6],\n",
    "                            [11, 22, 33, 44, 55, 66]\n",
    "                         ])\n",
    "numpy_two_dim"
   ]
  },
  {
   "cell_type": "code",
   "execution_count": null,
   "metadata": {},
   "outputs": [],
   "source": [
    "numpy_three_dim = np.array([\n",
    "                            [\n",
    "                                [1, 2, 3, 4, 5, 6],\n",
    "                                [11, 22, 33, 44, 55, 66],\n",
    "                                [111, 222, 333, 444, 555, 666]\n",
    "                            ],\n",
    "                            [\n",
    "                                [21, 22, 23, 24, 25, 26],\n",
    "                                [221, 222, 233, 244, 255, 266],\n",
    "                                [2211, 2222, 2333, 2444, 2555, 2666]\n",
    "                            ]\n",
    "                         ])\n"
   ]
  },
  {
   "cell_type": "markdown",
   "metadata": {},
   "source": [
    "#### Transpose"
   ]
  },
  {
   "cell_type": "code",
   "execution_count": null,
   "metadata": {},
   "outputs": [],
   "source": [
    "numpy_two_dim.T"
   ]
  },
  {
   "cell_type": "code",
   "execution_count": null,
   "metadata": {},
   "outputs": [],
   "source": [
    "numpy_three_dim"
   ]
  },
  {
   "cell_type": "code",
   "execution_count": null,
   "metadata": {},
   "outputs": [],
   "source": [
    "numpy_three_dim.shape"
   ]
  },
  {
   "cell_type": "markdown",
   "metadata": {},
   "source": [
    "Let's reshape numpy_three_dim to (9, 4) using __reshape__"
   ]
  },
  {
   "cell_type": "code",
   "execution_count": null,
   "metadata": {},
   "outputs": [],
   "source": [
    "numpy_three_dim.reshape(9, 4)"
   ]
  },
  {
   "cell_type": "markdown",
   "metadata": {},
   "source": [
    "If you dont know about the size of one dimesion, you can use __-1__ to tell numpy to figure it out"
   ]
  },
  {
   "cell_type": "code",
   "execution_count": null,
   "metadata": {},
   "outputs": [],
   "source": [
    "numpy_three_dim.reshape(9, -1)"
   ]
  },
  {
   "cell_type": "markdown",
   "metadata": {},
   "source": [
    "The __flatten__ method helps us get to a one dimensional numpy array"
   ]
  },
  {
   "cell_type": "code",
   "execution_count": null,
   "metadata": {},
   "outputs": [],
   "source": [
    "numpy_three_dim.flatten()"
   ]
  },
  {
   "cell_type": "markdown",
   "metadata": {},
   "source": [
    "### Row array vs Column array\n",
    "\n",
    "  \n",
    "A one dimensional numpy array has only one number in it's shape so therefore it is neither a row vector, nor a column vector"
   ]
  },
  {
   "cell_type": "code",
   "execution_count": null,
   "metadata": {},
   "outputs": [],
   "source": [
    "numpy_one_dim = np.array([1, 2, 3, 4, 5, 6])\n",
    "numpy_one_dim.shape"
   ]
  },
  {
   "cell_type": "markdown",
   "metadata": {},
   "source": [
    "To explicitly make it a row vector / array"
   ]
  },
  {
   "cell_type": "code",
   "execution_count": null,
   "metadata": {},
   "outputs": [],
   "source": [
    "numpy_one_dim.reshape(1, 6)"
   ]
  },
  {
   "cell_type": "markdown",
   "metadata": {},
   "source": [
    "To explicitly make it a column vector / array"
   ]
  },
  {
   "cell_type": "code",
   "execution_count": null,
   "metadata": {},
   "outputs": [],
   "source": [
    "numpy_one_dim.reshape(6, 1)"
   ]
  },
  {
   "cell_type": "markdown",
   "metadata": {},
   "source": [
    "We can also use -1 if we do not know the number of elements in the array to create a column vector`"
   ]
  },
  {
   "cell_type": "code",
   "execution_count": null,
   "metadata": {},
   "outputs": [],
   "source": [
    "numpy_one_dim.reshape(-1, 1)"
   ]
  },
  {
   "cell_type": "markdown",
   "metadata": {},
   "source": [
    "#### Stacking together different arrays"
   ]
  },
  {
   "cell_type": "code",
   "execution_count": null,
   "metadata": {},
   "outputs": [],
   "source": [
    "a = np.arange(4).reshape((2, 2))\n",
    "print(a)\n",
    "\n",
    "b = np.arange(4, 8).reshape((2, 2))\n",
    "print(b)\n",
    "\n",
    "np.vstack((a, b)) # adding rows\n",
    "\n",
    "np.hstack((a, b)) # adding columns"
   ]
  },
  {
   "cell_type": "markdown",
   "metadata": {},
   "source": [
    "### Broadcasting\n",
    "\n",
    "Basic operations on numpy arrays (addition, etc.) are __elementwise__\n",
    "\n",
    "This works on arrays of the __same size__.\n",
    "\n",
    "__Nevertheless__, It’s also possible to do operations on arrays of different sizes if Numpy can transform these arrays so that they all have the same size: this conversion is called __broadcasting__."
   ]
  },
  {
   "cell_type": "markdown",
   "metadata": {},
   "source": [
    "![](img/numpy_broadcasting.png)"
   ]
  },
  {
   "cell_type": "markdown",
   "metadata": {},
   "source": [
    "#### NumPy - Arithmetic Operations"
   ]
  },
  {
   "cell_type": "code",
   "execution_count": null,
   "metadata": {},
   "outputs": [],
   "source": [
    "print ('First array:') \n",
    "a = np.arange(4, dtype = np.float).reshape(2,2) \n",
    "print (a) \n",
    "\n",
    "print ('Second array:') \n",
    "b = np.array([10, 10]) \n",
    "print (b) \n",
    "\n",
    "print ('Add the two arrays:')\n",
    "print (np.add(a,b))\n",
    "print (a+b)\n",
    "\n",
    "print ('Subtract the two arrays:')\n",
    "print (np.subtract(a,b)) \n",
    "print (a-b)\n",
    "\n",
    "print ('Multiply the two arrays:')\n",
    "print (np.multiply(a,b)) \n",
    "print (a*b)\n",
    "\n",
    "print ('Divide the two arrays:')\n",
    "print (np.divide(a,b))\n",
    "print (a/b)\n",
    "\n",
    "print ('Matrix Multiplication:')\n",
    "print (np.matmul(a, b)) "
   ]
  },
  {
   "cell_type": "markdown",
   "metadata": {},
   "source": [
    "Ref: \n",
    "\n",
    "* http://cs231n.github.io/python-numpy-tutorial/\n",
    "* https://numpy.org/devdocs/user/quickstart.html"
   ]
  },
  {
   "cell_type": "markdown",
   "metadata": {},
   "source": [
    "## Learning Outcomes:\n",
    "    \n",
    "1. Be able to index and slice Numpy arrays.\n",
    "\n",
    "2. Be able to implement reshaping of arrays.\n",
    "\n",
    "3. Be able to implement arithmetic operations using Numpy array.\n",
    "\n",
    "4. Be able to implement concepts of broadcasting using numpy arrays."
   ]
  },
  {
   "cell_type": "code",
   "execution_count": null,
   "metadata": {},
   "outputs": [],
   "source": []
  }
 ],
 "metadata": {
  "anaconda-cloud": {},
  "kernelspec": {
   "display_name": "Python 3",
   "language": "python",
   "name": "python3"
  },
  "language_info": {
   "codemirror_mode": {
    "name": "ipython",
    "version": 3
   },
   "file_extension": ".py",
   "mimetype": "text/x-python",
   "name": "python",
   "nbconvert_exporter": "python",
   "pygments_lexer": "ipython3",
   "version": "3.7.6"
  }
 },
 "nbformat": 4,
 "nbformat_minor": 1
}
