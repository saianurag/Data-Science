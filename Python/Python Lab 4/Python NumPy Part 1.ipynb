{
 "cells": [
  {
   "cell_type": "markdown",
   "metadata": {},
   "source": [
    "# Introduction NumPy"
   ]
  },
  {
   "cell_type": "markdown",
   "metadata": {},
   "source": [
    "## Agenda\n",
    "* Introduction to Numpy\n",
    "* Different types of Numpy arrays based on the dimensions.\n",
    "* Different ways of creating Numpy arrays.\n",
    "    * Creating Numpy array by manually passing the values as a python list.\n",
    "    * Creating Numpy array using functions. \n",
    "* Basic data types available in Numpy arrays\n",
    "* Important attributes of an Numpy array object."
   ]
  },
  {
   "cell_type": "markdown",
   "metadata": {},
   "source": [
    "## Numpy\n",
    "\n",
    "`NumPy` is an __extension module__ for Python, mostly written in __C__. The name is an __acronym__ for `Numerical Python`. It is the __core__ library for __scientific computing__, which contains a powerful `n-dimensional array` object and a collection of routines for processing those arrays."
   ]
  },
  {
   "cell_type": "markdown",
   "metadata": {},
   "source": [
    "#### Import the numpy package:"
   ]
  },
  {
   "cell_type": "code",
   "execution_count": null,
   "metadata": {},
   "outputs": [],
   "source": [
    "import numpy as np"
   ]
  },
  {
   "cell_type": "markdown",
   "metadata": {},
   "source": [
    "#### NumPy arrays\n",
    "\n",
    "* A `numpy` array is a grid of values, all of the __same type__, and is __indexed__ by a __nonnegative integers__. \n",
    "* The number of dimensions is the __rank__ of the array\n",
    "* The __shape__ of an array is a tuple of integers giving the __size__ of the array along __each dimension__."
   ]
  },
  {
   "cell_type": "markdown",
   "metadata": {},
   "source": [
    "### Creating arrays\n",
    "\n",
    "    There are several ways to create arrays."
   ]
  },
  {
   "cell_type": "markdown",
   "metadata": {},
   "source": [
    "#### Create an array from a regular Python list or using the array function. \n",
    "    \n",
    "    The type of the resulting array is deduced from the type of the elements in the sequences."
   ]
  },
  {
   "cell_type": "markdown",
   "metadata": {},
   "source": [
    "#### 1-D"
   ]
  },
  {
   "cell_type": "code",
   "execution_count": null,
   "metadata": {},
   "outputs": [],
   "source": [
    "a = np.array([1, 2, 3,4])\n",
    "\n",
    "a"
   ]
  },
  {
   "cell_type": "code",
   "execution_count": null,
   "metadata": {},
   "outputs": [],
   "source": [
    "print (a)\n",
    "\n",
    "print (type(a))\n",
    "\n",
    "print (len(a))     # Returns the size of the first dimension"
   ]
  },
  {
   "cell_type": "code",
   "execution_count": null,
   "metadata": {},
   "outputs": [],
   "source": [
    "print(a.shape)"
   ]
  },
  {
   "cell_type": "raw",
   "metadata": {},
   "source": [
    "a = np.array(1,2,3,4)    # WRONG\n",
    "a = np.array([1,2,3,4])  # RIGHT"
   ]
  },
  {
   "cell_type": "markdown",
   "metadata": {},
   "source": [
    "#### 2-D, 3-D, ...:\n",
    "\n",
    "Array transforms \n",
    "\n",
    "`sequences` of `sequences` into __two-dimensional__ `arrays`, \n",
    "\n",
    "`sequences` of `sequences` of `sequences` into __three-dimensional__ `arrays`, and so on."
   ]
  },
  {
   "cell_type": "code",
   "execution_count": null,
   "metadata": {},
   "outputs": [],
   "source": [
    "a = np.array([[1.5, 2, 3], \n",
    "              [4, 5, 6]])\n",
    "\n",
    "a"
   ]
  },
  {
   "cell_type": "code",
   "execution_count": null,
   "metadata": {},
   "outputs": [],
   "source": [
    "print (a)\n",
    "\n",
    "print (type(a))\n",
    "\n",
    "print (len(a))     # Returns the size of the first dimension\n",
    "\n",
    "print(a.shape)"
   ]
  },
  {
   "cell_type": "markdown",
   "metadata": {},
   "source": [
    "#### In practice, we rarely enter items one by one..."
   ]
  },
  {
   "cell_type": "markdown",
   "metadata": {},
   "source": [
    "* __Evenly spaced__"
   ]
  },
  {
   "cell_type": "code",
   "execution_count": null,
   "metadata": {},
   "outputs": [],
   "source": [
    "a = np.arange(1, 9, 2)     # start, end (excluded), step\n",
    "\n",
    "a"
   ]
  },
  {
   "cell_type": "code",
   "execution_count": null,
   "metadata": {},
   "outputs": [],
   "source": [
    "a = np.arange(10)          # 0 .. n-1  (!)\n",
    "\n",
    "a"
   ]
  },
  {
   "cell_type": "markdown",
   "metadata": {},
   "source": [
    "* __Common arrays__"
   ]
  },
  {
   "cell_type": "code",
   "execution_count": null,
   "metadata": {},
   "outputs": [],
   "source": [
    "a = np.ones((3, 3))       # reminder: (3, 3) is a tuple\n",
    "\n",
    "print (a)"
   ]
  },
  {
   "cell_type": "code",
   "execution_count": null,
   "metadata": {},
   "outputs": [],
   "source": [
    "a = np.zeros((2, 2))\n",
    "\n",
    "print (a)"
   ]
  },
  {
   "cell_type": "markdown",
   "metadata": {},
   "source": [
    "* __np.random: random numbers__"
   ]
  },
  {
   "cell_type": "code",
   "execution_count": null,
   "metadata": {},
   "outputs": [],
   "source": [
    "a = np.random.rand(4)       # uniform in [0, 1]\n",
    "\n",
    "print(a)"
   ]
  },
  {
   "cell_type": "code",
   "execution_count": null,
   "metadata": {},
   "outputs": [],
   "source": [
    "a = np.random.randn(4)      # Gaussian\n",
    "\n",
    "print(a)"
   ]
  },
  {
   "cell_type": "markdown",
   "metadata": {},
   "source": [
    "### NumPy Basic Types"
   ]
  },
  {
   "cell_type": "markdown",
   "metadata": {},
   "source": [
    "![](img/numpy_dtypes.jpg)"
   ]
  },
  {
   "cell_type": "markdown",
   "metadata": {},
   "source": [
    "Numpy tries to guess a datatype when you create an array, but functions that construct arrays usually also include an optional argument to explicitly specify the datatype. Here is an example:\n"
   ]
  },
  {
   "cell_type": "code",
   "execution_count": null,
   "metadata": {},
   "outputs": [],
   "source": [
    "x = np.array([1, 2])                  # Let numpy choose the datatype\n",
    "y = np.array([1.0, 2.0])              # Let numpy choose the datatype\n",
    "z = np.array([1, 2], dtype=np.int64)  # Force a particular datatype\n",
    "\n",
    "print (x.dtype, y.dtype, z.dtype)"
   ]
  },
  {
   "cell_type": "markdown",
   "metadata": {},
   "source": [
    "### More important attributes of an ndarray object"
   ]
  },
  {
   "cell_type": "markdown",
   "metadata": {},
   "source": [
    "![](img/NumPy_Shape.png)"
   ]
  },
  {
   "cell_type": "markdown",
   "metadata": {},
   "source": [
    "![](img/NumPy_Size.png)"
   ]
  },
  {
   "cell_type": "markdown",
   "metadata": {},
   "source": [
    "#### ndarray.ndim\n",
    "\n",
    "    The number of axes (dimensions) of the array. \n",
    "\n",
    "#### ndarray.shape\n",
    "\n",
    "    The dimensions of the array. This is a tuple of integers indicating the size of the array in each dimension. \n",
    "    \n",
    "    For a matrix with n rows and m columns, shape will be (n,m). \n",
    "    \n",
    "#### ndarray.size\n",
    "\n",
    "    The total number of elements of the array. \n",
    "    \n",
    "#### ndarray.dtype\n",
    "    An object describing the type of the elements in the array. \n"
   ]
  },
  {
   "cell_type": "markdown",
   "metadata": {},
   "source": [
    "#### An example"
   ]
  },
  {
   "cell_type": "code",
   "execution_count": null,
   "metadata": {},
   "outputs": [],
   "source": [
    "a = np.arange(15).reshape(3, 5)\n",
    "\n",
    "print (a)\n",
    "\n",
    "print (type(a))\n",
    "\n",
    "print (a.shape)\n",
    "\n",
    "print (a.size)\n",
    "\n",
    "print (a.dtype)"
   ]
  },
  {
   "cell_type": "markdown",
   "metadata": {},
   "source": [
    "#### One Dimensional Array \n",
    "\n",
    "    Shape : (number_of_elements,)"
   ]
  },
  {
   "cell_type": "code",
   "execution_count": null,
   "metadata": {
    "scrolled": true
   },
   "outputs": [],
   "source": [
    "numpy_one_dim = np.array([1, 2, 3, 4, 5, 6])\n",
    "\n",
    "print (numpy_one_dim)\n",
    "\n",
    "print(numpy_one_dim.shape)"
   ]
  },
  {
   "cell_type": "markdown",
   "metadata": {},
   "source": [
    "#### Two Dimensional Array\n",
    "\n",
    "    Shape : (nrows, ncols)"
   ]
  },
  {
   "cell_type": "code",
   "execution_count": null,
   "metadata": {
    "scrolled": true
   },
   "outputs": [],
   "source": [
    "numpy_two_dim = np.array([\n",
    "                            [1, 2, 3, 4, 5, 6],\n",
    "                            [11, 22, 33, 44, 55, 66]\n",
    "                         ])\n",
    "\n",
    "print(numpy_two_dim)\n",
    "\n",
    "print(numpy_two_dim.shape)"
   ]
  },
  {
   "cell_type": "markdown",
   "metadata": {},
   "source": [
    "#### Let's go deeper and generalize it"
   ]
  },
  {
   "cell_type": "markdown",
   "metadata": {},
   "source": [
    "Even though it might not be an accurate informalisation of the idea, you can in general think about the shape of arrays as \n",
    "\n",
    "    Shape : (num_arrays_outermost, num_arrays_next, ......, num_elements_in_the_last_array)"
   ]
  },
  {
   "cell_type": "markdown",
   "metadata": {},
   "source": [
    "#### Let's break this down for a three dimensional array"
   ]
  },
  {
   "cell_type": "code",
   "execution_count": null,
   "metadata": {},
   "outputs": [],
   "source": [
    "numpy_three_dim = np.array([\n",
    "                            [\n",
    "                                [1, 2, 3, 4, 5, 6],\n",
    "                                [11, 22, 33, 44, 55, 66],\n",
    "                                [111, 222, 333, 444, 555, 666]\n",
    "                            ],\n",
    "                            [\n",
    "                                [21, 22, 23, 24, 25, 26],\n",
    "                                [221, 222, 233, 244, 255, 266],\n",
    "                                [2211, 2222, 2333, 2444, 2555, 2666]\n",
    "                            ]\n",
    "                         ])\n",
    "\n",
    "\n",
    "print(numpy_three_dim)\n",
    "\n",
    "print(numpy_three_dim.shape)"
   ]
  },
  {
   "cell_type": "markdown",
   "metadata": {},
   "source": [
    "#### Observation\n",
    "\n",
    "    Why is the shape of the array (2, 3, 6)?"
   ]
  },
  {
   "cell_type": "markdown",
   "metadata": {},
   "source": [
    "##### Activity\n",
    "\n",
    "    What is the shape of the following array?"
   ]
  },
  {
   "cell_type": "code",
   "execution_count": null,
   "metadata": {},
   "outputs": [],
   "source": [
    "x=np.array(\n",
    "       [\n",
    "           [\n",
    "               [\n",
    "                   25, 23, 23, 222, 441\n",
    "               ],\n",
    "               \n",
    "               [\n",
    "                   25, 23, 23, 222, 441\n",
    "               ],\n",
    "               \n",
    "               [\n",
    "                   25, 23, 23, 222, 441\n",
    "               ]\n",
    "           ],\n",
    "           \n",
    "           [\n",
    "               [\n",
    "                   25, 23, 23, 222, 441\n",
    "               ],\n",
    "               \n",
    "               [\n",
    "                   25, 23, 23, 222, 441\n",
    "               ],\n",
    "               \n",
    "               [\n",
    "                   25, 23, 23, 222, 441\n",
    "               ]\n",
    "           ]\n",
    "       ]\n",
    "   )\n",
    "\n",
    "x.shape"
   ]
  },
  {
   "cell_type": "markdown",
   "metadata": {},
   "source": [
    "_______________________________.     "
   ]
  },
  {
   "cell_type": "code",
   "execution_count": null,
   "metadata": {},
   "outputs": [],
   "source": [
    "x"
   ]
  },
  {
   "cell_type": "markdown",
   "metadata": {},
   "source": [
    "## Learning Outcomes:\n",
    "    \n",
    "1. Be able to import Numpy package and create Numpy arrays.\n",
    "\n",
    "2. Understand the basic data types available in Numpy arrays.\n",
    "\n",
    "3. Understand the important attributes of an Numpy array object."
   ]
  },
  {
   "cell_type": "markdown",
   "metadata": {},
   "source": [
    "Ref: \n",
    "\n",
    "* http://cs231n.github.io/python-numpy-tutorial/\n",
    "* https://numpy.org/devdocs/user/quickstart.html"
   ]
  }
 ],
 "metadata": {
  "anaconda-cloud": {},
  "kernelspec": {
   "display_name": "Python 3",
   "language": "python",
   "name": "python3"
  },
  "language_info": {
   "codemirror_mode": {
    "name": "ipython",
    "version": 3
   },
   "file_extension": ".py",
   "mimetype": "text/x-python",
   "name": "python",
   "nbconvert_exporter": "python",
   "pygments_lexer": "ipython3",
   "version": "3.7.6"
  }
 },
 "nbformat": 4,
 "nbformat_minor": 1
}
