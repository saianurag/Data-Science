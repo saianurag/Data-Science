{
 "cells": [
  {
   "cell_type": "markdown",
   "metadata": {},
   "source": [
    "# Introduction to Python : Part 01"
   ]
  },
  {
   "cell_type": "markdown",
   "metadata": {},
   "source": [
    "### Agenda\n",
    "\n",
    "* Introduction to Python\n",
    "* Comments in Python\n",
    "* Variables\n",
    "    * Create Variables\n",
    "    * Rules for Python Variable Names \n",
    "    * Assigning a single value to multiple variables.\n",
    "    * Assigning different values to multiple variables.\n",
    "* Data Types\n",
    "\t* type()\n",
    "    * Basic data types\n",
    "\t\t* NoneType\n",
    "\t\t* Numbers\n",
    "\t\t\t* int\n",
    "\t\t\t* float\n",
    "\t\t* Booleans        \n",
    "    * String\n",
    "        * String length - len()\n",
    "        * Raw String\n",
    "        * format() Method\n",
    "        * Indexing and Slicing\n",
    "    * Container types\n",
    "        * Lists\n",
    "            * Indexing and Slicing \n",
    "        * Tuples\n",
    "        * Dictionaries\n",
    "        * Sets\n",
    "* Sequence Types\n",
    "\t* Lists\n",
    "\t* Tuples\n",
    "\t* range() \n",
    "* Python Operations\n",
    "    * Arithmetic Operations\n",
    "    * Comparison Operators\n",
    "    * Logical Operators\n",
    "    * Membership Operator\n",
    "* Type Conversion\n",
    "\t* Implicit Type Conversion\n",
    "\t* Explicit Type Conversion\n",
    "\t\t* int(), float(), str()"
   ]
  },
  {
   "cell_type": "markdown",
   "metadata": {},
   "source": [
    "![](img/PythonArithmeticOperators.png)"
   ]
  },
  {
   "cell_type": "markdown",
   "metadata": {},
   "source": [
    "#### Addition"
   ]
  },
  {
   "cell_type": "code",
   "execution_count": null,
   "metadata": {},
   "outputs": [],
   "source": [
    "4 + 7"
   ]
  },
  {
   "cell_type": "markdown",
   "metadata": {},
   "source": [
    "#### Subtraction"
   ]
  },
  {
   "cell_type": "code",
   "execution_count": null,
   "metadata": {},
   "outputs": [],
   "source": [
    "12 - 5"
   ]
  },
  {
   "cell_type": "code",
   "execution_count": null,
   "metadata": {},
   "outputs": [],
   "source": [
    "5 - 12"
   ]
  },
  {
   "cell_type": "markdown",
   "metadata": {},
   "source": [
    "#### Multiplication"
   ]
  },
  {
   "cell_type": "code",
   "execution_count": null,
   "metadata": {},
   "outputs": [],
   "source": [
    "6 * 6"
   ]
  },
  {
   "cell_type": "markdown",
   "metadata": {},
   "source": [
    "#### Division"
   ]
  },
  {
   "cell_type": "code",
   "execution_count": null,
   "metadata": {},
   "outputs": [],
   "source": [
    "27 / 5 "
   ]
  },
  {
   "cell_type": "markdown",
   "metadata": {},
   "source": [
    "![](img/Remainder-and-Quotient.png)"
   ]
  },
  {
   "cell_type": "markdown",
   "metadata": {},
   "source": [
    "#### Modulus"
   ]
  },
  {
   "cell_type": "code",
   "execution_count": null,
   "metadata": {},
   "outputs": [],
   "source": [
    "27 % 5"
   ]
  },
  {
   "cell_type": "markdown",
   "metadata": {},
   "source": [
    "#### Quotient"
   ]
  },
  {
   "cell_type": "code",
   "execution_count": null,
   "metadata": {},
   "outputs": [],
   "source": [
    "27 // 5"
   ]
  },
  {
   "cell_type": "markdown",
   "metadata": {},
   "source": [
    "#### Exponent"
   ]
  },
  {
   "cell_type": "code",
   "execution_count": null,
   "metadata": {
    "scrolled": true
   },
   "outputs": [],
   "source": [
    "5 ** 2"
   ]
  },
  {
   "cell_type": "markdown",
   "metadata": {},
   "source": [
    "### Python Comments\n",
    "\n",
    "* Comments are descriptions that help programmers better understand the intent and functionality of the program.\n",
    "* Comments in Python start with the hash character `#` and extend to the end of the physical line. \n",
    "* A comment may appear at the start of a line or following whitespace or code, but not within a string literal. "
   ]
  },
  {
   "cell_type": "code",
   "execution_count": null,
   "metadata": {},
   "outputs": [],
   "source": [
    "# Print 'Hello world'\n",
    "print('Hello world')"
   ]
  },
  {
   "cell_type": "markdown",
   "metadata": {},
   "source": [
    "#### Exercise\n",
    "- What is the solution of 26 multiplied by 5 \n",
    "- What is solution of 10 - 2 * 4 \n",
    "- What is solution of (10-2)*4\n",
    "- What is solution of 10-2/3*4\n",
    "- What is solution of 10-2//3*4\n",
    "- What is solution of 10-4%3//4\n"
   ]
  },
  {
   "cell_type": "code",
   "execution_count": null,
   "metadata": {},
   "outputs": [],
   "source": []
  },
  {
   "cell_type": "markdown",
   "metadata": {},
   "source": [
    "## Python Variables\n",
    "\n",
    "    Variables are containers for storing data values."
   ]
  },
  {
   "cell_type": "markdown",
   "metadata": {},
   "source": [
    "#### Creating Variables\n",
    "\n",
    "    In python a variable is created the moment you first assign a value to it."
   ]
  },
  {
   "cell_type": "code",
   "execution_count": null,
   "metadata": {},
   "outputs": [],
   "source": [
    "x = 1\n",
    "\n",
    "print(x)"
   ]
  },
  {
   "cell_type": "markdown",
   "metadata": {},
   "source": [
    "#### Assigning a single value to multiple variables:"
   ]
  },
  {
   "cell_type": "code",
   "execution_count": null,
   "metadata": {},
   "outputs": [],
   "source": [
    "a = b = c = 10          \n",
    "  \n",
    "print(a) \n",
    "print(b) \n",
    "print(c)"
   ]
  },
  {
   "cell_type": "markdown",
   "metadata": {},
   "source": [
    "#### Assigning different values to multiple variables"
   ]
  },
  {
   "cell_type": "code",
   "execution_count": null,
   "metadata": {},
   "outputs": [],
   "source": [
    "a, b, c = 1, 2, 3       \n",
    "\n",
    "print(a)\n",
    "print(b) \n",
    "print(c)"
   ]
  },
  {
   "cell_type": "markdown",
   "metadata": {},
   "source": [
    "#### Exercise\n",
    "- What happens when number of elements on RHS is less than those on LHS during assignment\n",
    "- What happens when number of elements on RHS is more than those on LHS during assignment"
   ]
  },
  {
   "cell_type": "code",
   "execution_count": null,
   "metadata": {},
   "outputs": [],
   "source": []
  },
  {
   "cell_type": "code",
   "execution_count": null,
   "metadata": {},
   "outputs": [],
   "source": []
  },
  {
   "cell_type": "markdown",
   "metadata": {},
   "source": [
    "## Data Types"
   ]
  },
  {
   "cell_type": "markdown",
   "metadata": {},
   "source": [
    "![](img/PyDataTypes.jpg)"
   ]
  },
  {
   "cell_type": "markdown",
   "metadata": {},
   "source": [
    "### Basic data types"
   ]
  },
  {
   "cell_type": "markdown",
   "metadata": {},
   "source": [
    "#### NoneType"
   ]
  },
  {
   "cell_type": "code",
   "execution_count": null,
   "metadata": {},
   "outputs": [],
   "source": [
    "x = None\n",
    "\n",
    "print(x)"
   ]
  },
  {
   "cell_type": "markdown",
   "metadata": {},
   "source": [
    "#### Get the data type\n",
    "    \n",
    "Using the `type()` function:"
   ]
  },
  {
   "cell_type": "code",
   "execution_count": null,
   "metadata": {},
   "outputs": [],
   "source": [
    "print(type(x))"
   ]
  },
  {
   "cell_type": "markdown",
   "metadata": {},
   "source": [
    "#### Numbers\n",
    "\n",
    "* Numeric value can be __integer__, __floating__ or even __complex__ numbers. \n",
    "* These values are defined as `int`, `float` and `complex` class in Python."
   ]
  },
  {
   "cell_type": "markdown",
   "metadata": {},
   "source": [
    "#### int\n",
    "    \n",
    "* An integer is a number that is written without a fractional component. \n",
    "\n",
    "    E.g. 21, 4, 0, and −2048 are integers."
   ]
  },
  {
   "cell_type": "code",
   "execution_count": null,
   "metadata": {},
   "outputs": [],
   "source": [
    "x = 3\n",
    "\n",
    "# check the datatype of x\n",
    "\n"
   ]
  },
  {
   "cell_type": "markdown",
   "metadata": {},
   "source": [
    "#### float\n",
    "\n",
    "* Real number with floating point representation. It is specified by a decimal point. \n",
    "* Optionally, the character `e` or `E` followed by a positive or negative integer may be appended to specify __scientific notation__.\n",
    "\n",
    "    E.g. ``1.4e6`` is interpreted as $~1.4 \\times 10^6$.\n"
   ]
  },
  {
   "cell_type": "code",
   "execution_count": null,
   "metadata": {},
   "outputs": [],
   "source": [
    "y = 2.5\n",
    "print(y, type(y)) \n",
    "\n",
    "z = 1.4e6\n",
    "print(z)"
   ]
  },
  {
   "cell_type": "code",
   "execution_count": null,
   "metadata": {},
   "outputs": [],
   "source": [
    "print(y + 1, y * 2, y ** 2) # Prints \"3.5 5.0 6.25\""
   ]
  },
  {
   "cell_type": "markdown",
   "metadata": {},
   "source": [
    "#### Booleans"
   ]
  },
  {
   "cell_type": "code",
   "execution_count": null,
   "metadata": {},
   "outputs": [],
   "source": [
    "t = True\n",
    "\n",
    "print(t)\n",
    "\n",
    "print(type(t))"
   ]
  },
  {
   "cell_type": "code",
   "execution_count": null,
   "metadata": {},
   "outputs": [],
   "source": [
    "x = 5\n",
    "y = 6\n",
    "\n",
    "print(x == y)\n",
    "print(x != y)\n",
    "print(x > y)\n",
    "print(x < y)\n",
    "print(x >= y)\n",
    "print(x <= y)"
   ]
  },
  {
   "cell_type": "markdown",
   "metadata": {},
   "source": [
    "![](img/PythonComparisonOperators.png)"
   ]
  },
  {
   "cell_type": "markdown",
   "metadata": {},
   "source": [
    "![](img/PythonLogicalOperators.png)"
   ]
  },
  {
   "cell_type": "code",
   "execution_count": null,
   "metadata": {
    "scrolled": false
   },
   "outputs": [],
   "source": [
    "t, f = True, False\n",
    "\n",
    "print(t, f)"
   ]
  },
  {
   "cell_type": "code",
   "execution_count": null,
   "metadata": {},
   "outputs": [],
   "source": [
    "print(t and f) # Logical AND;\n",
    "print(t or f)  # Logical OR;\n",
    "print(not t)   # Logical NOT;"
   ]
  },
  {
   "cell_type": "code",
   "execution_count": null,
   "metadata": {},
   "outputs": [],
   "source": [
    "print(t & f)  # Logical AND;\n",
    "print(t | f)  # Logical OR;"
   ]
  },
  {
   "cell_type": "markdown",
   "metadata": {},
   "source": [
    "### Strings\n",
    "\n",
    "    They can be enclosed in single quotes ('...') or double quotes (\"...\") "
   ]
  },
  {
   "cell_type": "code",
   "execution_count": null,
   "metadata": {},
   "outputs": [],
   "source": [
    "hello = 'hello'"
   ]
  },
  {
   "cell_type": "code",
   "execution_count": null,
   "metadata": {},
   "outputs": [],
   "source": [
    "hello"
   ]
  },
  {
   "cell_type": "code",
   "execution_count": null,
   "metadata": {},
   "outputs": [],
   "source": [
    "print(hello)"
   ]
  },
  {
   "cell_type": "markdown",
   "metadata": {},
   "source": [
    "#### String length \n",
    "    \n",
    "The built-in function `len()` returns the length of a string"
   ]
  },
  {
   "cell_type": "code",
   "execution_count": null,
   "metadata": {},
   "outputs": [],
   "source": [
    "len(hello)"
   ]
  },
  {
   "cell_type": "code",
   "execution_count": null,
   "metadata": {},
   "outputs": [],
   "source": [
    "world = \"world\"\n",
    "\n",
    "world"
   ]
  },
  {
   "cell_type": "markdown",
   "metadata": {},
   "source": [
    "#### Raw String\n",
    "If you don’t want characters prefaced by `\\` to be interpreted as __special characters__, you can use __raw strings__ by adding an `r` before the first quote:"
   ]
  },
  {
   "cell_type": "code",
   "execution_count": null,
   "metadata": {},
   "outputs": [],
   "source": [
    "print('C:\\some\\name')  # Here \\n means newline!"
   ]
  },
  {
   "cell_type": "code",
   "execution_count": null,
   "metadata": {},
   "outputs": [],
   "source": [
    "print(r'C:\\some\\name')  # Note the r before the quote"
   ]
  },
  {
   "cell_type": "markdown",
   "metadata": {},
   "source": [
    "#### String concatenation\n",
    "\n",
    "Strings can be __concatenated__ with the `+` operator"
   ]
  },
  {
   "cell_type": "code",
   "execution_count": null,
   "metadata": {},
   "outputs": [],
   "source": [
    "hw = hello + ' ' + world\n",
    "print(hw)"
   ]
  },
  {
   "cell_type": "markdown",
   "metadata": {},
   "source": [
    "#### `string.format(value1, value2...)`\n",
    "\n",
    "The placeholders can be identified using named indexes `{name}`, numbered indexes `{0}`, or even empty placeholders `{}`."
   ]
  },
  {
   "cell_type": "code",
   "execution_count": null,
   "metadata": {},
   "outputs": [],
   "source": [
    "txt1 = \"Welcome to {name} {program}\".format(name = \"INSOFE\", program = \"PGP Live\")\n",
    "print(txt1)\n",
    "\n",
    "txt2 = \"Welcome to {0} {1}\".format(\"INSOFE\", \"PGP Live\")\n",
    "print(txt2)\n",
    "\n",
    "txt3 = \"Welcome to {} {}\".format(\"INSOFE\", \"PGP Live\")\n",
    "print(txt3)\n",
    "\n"
   ]
  },
  {
   "cell_type": "markdown",
   "metadata": {},
   "source": [
    "#### Exercise \n",
    "- Check if HELLO same as hello\n",
    "- Use the format function to do the following\n",
    "  Good Evening \"Your Name\" !! Welcome to the \"Python\" class in \"Batch91\" of \"PGP Live\" program and assign it to variable \"greet\". How many characters are there in the sentence"
   ]
  },
  {
   "cell_type": "code",
   "execution_count": null,
   "metadata": {},
   "outputs": [],
   "source": []
  },
  {
   "cell_type": "markdown",
   "metadata": {},
   "source": [
    "#### Indexing and Slicing\n",
    "\n",
    "`Indexing` is used to obtain __individual character__, where as `slicing` allows you to obtain __substring__"
   ]
  },
  {
   "cell_type": "code",
   "execution_count": null,
   "metadata": {},
   "outputs": [],
   "source": [
    "s = \"abcdef\"\n",
    "\n",
    "print(s)"
   ]
  },
  {
   "cell_type": "markdown",
   "metadata": {},
   "source": [
    "* Strings can be __indexed__ (subscripted), with the __first character__ having index `0`. \n",
    "\n",
    "* __Indices__ may also be `negative` numbers, to start counting from the __right__:\n",
    "\n",
    "* There is no separate character type; a character is simply a string of size one"
   ]
  },
  {
   "cell_type": "markdown",
   "metadata": {},
   "source": [
    "![](img/str.png)"
   ]
  },
  {
   "cell_type": "code",
   "execution_count": null,
   "metadata": {},
   "outputs": [],
   "source": [
    "print(s[0])  # character in position 0\n",
    "\n",
    "print(s[5])  # character in position 5\n",
    "\n",
    "print(s[-1]) # last character\n",
    "\n",
    "print(s[-2]) # second-last character"
   ]
  },
  {
   "cell_type": "markdown",
   "metadata": {},
   "source": [
    "#### Exercise:\n",
    "\n",
    "- 1.Characters from position 2 (included) to 4 (excluded)\n",
    "\n",
    "- 2.Characters from position  (included) to the end\n",
    "\n",
    "- 3.Character from the beginning to position 2 (excluded)\n",
    "\n",
    "- 4.Whole String\n",
    "\n",
    "- 5.characters from the second-last (included) to the end"
   ]
  },
  {
   "cell_type": "code",
   "execution_count": null,
   "metadata": {},
   "outputs": [],
   "source": []
  },
  {
   "cell_type": "markdown",
   "metadata": {},
   "source": [
    "### Type Conversion \n",
    "\n",
    "Type Conversion is the __process__ of __converting__ the value of __one data type__ (integer, string, float, etc.) to __another data type__. \n",
    "\n",
    "Python has two types of type conversions.\n",
    "1. Implicit Type Conversion.   \n",
    "2. Explicit Type Conversion."
   ]
  },
  {
   "cell_type": "markdown",
   "metadata": {},
   "source": [
    "#### Implicit Type Conversion:\n",
    "\n",
    "* Python automatically converts one data type to another data type. \n",
    "* Python promotes the conversion of the __lower data type__ (integer) to the __higher data type__ (float) to avoid data loss."
   ]
  },
  {
   "cell_type": "code",
   "execution_count": null,
   "metadata": {},
   "outputs": [],
   "source": [
    "1 + 2.0"
   ]
  },
  {
   "cell_type": "code",
   "execution_count": null,
   "metadata": {},
   "outputs": [],
   "source": [
    "x=1 + 2.0\n",
    "type(x)"
   ]
  },
  {
   "cell_type": "markdown",
   "metadata": {},
   "source": [
    "__Note__: 1 (integer) is converted into 1.0 (float) for addition and the result is a floating point number."
   ]
  },
  {
   "cell_type": "markdown",
   "metadata": {},
   "source": [
    "#### Explicit Type Conversion\n",
    "* Build-in functions like `int()`, `float()`, `str()` etc are used to perform explicit type conversion."
   ]
  },
  {
   "cell_type": "code",
   "execution_count": null,
   "metadata": {},
   "outputs": [],
   "source": [
    "print(float(5))\n",
    "print(type(float(5)))\n",
    "\n",
    "print(int(2.3))\n",
    "print(type(int(2.3)))\n",
    "\n",
    "print(float('2.3'))\n",
    "print(type(float('2.3')))\n",
    "\n",
    "print(str(2.3))\n",
    "print(type(str(2.3)))"
   ]
  },
  {
   "cell_type": "markdown",
   "metadata": {},
   "source": [
    "__Note__: When converting from float to integer, the number gets truncated (decimal parts are removed)."
   ]
  },
  {
   "cell_type": "markdown",
   "metadata": {},
   "source": [
    "## Containers\n",
    "\n",
    "Python includes several built-in container types: `lists`, `dictionaries`, `sets`, and `tuples`."
   ]
  },
  {
   "cell_type": "markdown",
   "metadata": {},
   "source": [
    "### Lists\n",
    "\n",
    "* A __list__ is a collection which is `ordered` and `changeable`. \n",
    "* __Lists__ are written with `square brackets`.\n",
    "* With analogy from R list is like a vector"
   ]
  },
  {
   "cell_type": "code",
   "execution_count": null,
   "metadata": {},
   "outputs": [],
   "source": [
    "xs = [3, 1, 2]   \n",
    "\n",
    "print (xs)"
   ]
  },
  {
   "cell_type": "markdown",
   "metadata": {},
   "source": [
    "List items can be access using the index. Python index starts with zero"
   ]
  },
  {
   "cell_type": "code",
   "execution_count": null,
   "metadata": {},
   "outputs": [],
   "source": [
    "print (xs[0])\n",
    "\n",
    "print (xs[2]) "
   ]
  },
  {
   "cell_type": "markdown",
   "metadata": {},
   "source": [
    "__Negative indices__ count from the __end__ of the list \n",
    "\n",
    "* e.g. `-1` refers to the __last item__, `-2` refers to the __second last item__."
   ]
  },
  {
   "cell_type": "code",
   "execution_count": null,
   "metadata": {},
   "outputs": [],
   "source": [
    "print (xs[-1], xs[-2], xs[-3])"
   ]
  },
  {
   "cell_type": "markdown",
   "metadata": {},
   "source": [
    "* Lists can contain elements of different types"
   ]
  },
  {
   "cell_type": "code",
   "execution_count": null,
   "metadata": {},
   "outputs": [],
   "source": [
    "xs[2] = 'foo' \n",
    "\n",
    "print (xs)"
   ]
  },
  {
   "cell_type": "markdown",
   "metadata": {},
   "source": [
    "#### Lists Methods\n",
    "\n",
    "![](img/PythonListMethos.png)"
   ]
  },
  {
   "cell_type": "code",
   "execution_count": null,
   "metadata": {},
   "outputs": [],
   "source": [
    "xs.append('bar')\n",
    "\n",
    "print(xs)  "
   ]
  },
  {
   "cell_type": "markdown",
   "metadata": {},
   "source": [
    "#### Exercise\n",
    "- Print what is type x\n",
    "- Print what is the type of each element of x and state your observation"
   ]
  },
  {
   "cell_type": "code",
   "execution_count": null,
   "metadata": {},
   "outputs": [],
   "source": [
    "print(type(xs))\n",
    "print(type(xs[0]))\n",
    "print(type(xs[1]))\n",
    "print(type(xs[2]))\n",
    "print(type(xs[3]))\n",
    "\n",
    "## A list can hold entities of different data types"
   ]
  },
  {
   "cell_type": "markdown",
   "metadata": {},
   "source": [
    "#### range() Function\n",
    "\n",
    "    range(stop)\n",
    "\n",
    "    range(start, stop[, step])\n",
    "\n",
    "* Rather than being a function, __range__ is actually an `immutable` sequence type\n",
    "* `range` object will always take the same (small) amount of memory, no matter the size of the range it represents (as it only stores the start, stop and step values, calculating individual items and subranges as needed)"
   ]
  },
  {
   "cell_type": "code",
   "execution_count": null,
   "metadata": {},
   "outputs": [],
   "source": [
    "nums = range(5)    # range is a built-in function \n",
    "print (nums)         "
   ]
  },
  {
   "cell_type": "code",
   "execution_count": null,
   "metadata": {},
   "outputs": [],
   "source": [
    "nums = list(range(5))    \n",
    "print (nums)  \n",
    "\n",
    "nums[2:4] = [8, 9]       # Assign a new sublist to a slice\n",
    "print (nums)  "
   ]
  },
  {
   "cell_type": "code",
   "execution_count": null,
   "metadata": {},
   "outputs": [],
   "source": [
    "list(range(10))"
   ]
  },
  {
   "cell_type": "code",
   "execution_count": null,
   "metadata": {},
   "outputs": [],
   "source": [
    "list(range(1, 11))"
   ]
  },
  {
   "cell_type": "code",
   "execution_count": null,
   "metadata": {},
   "outputs": [],
   "source": [
    "list(range(0, 30, 5))"
   ]
  },
  {
   "cell_type": "markdown",
   "metadata": {},
   "source": [
    "#### Exercise\n",
    "- Create the list of 10 elements which are multiple of 8 using range function"
   ]
  },
  {
   "cell_type": "code",
   "execution_count": null,
   "metadata": {},
   "outputs": [],
   "source": []
  },
  {
   "cell_type": "markdown",
   "metadata": {},
   "source": [
    "### Tuples\n",
    "\n",
    "* A __tuple__ is a collection which is `ordered` and `unchangeable`. \n",
    "* __Tuples__ are written with `round brackets`."
   ]
  },
  {
   "cell_type": "code",
   "execution_count": null,
   "metadata": {},
   "outputs": [],
   "source": [
    "t = (5, 6, 7)    \n",
    "\n",
    "print (t, type(t))"
   ]
  },
  {
   "cell_type": "code",
   "execution_count": null,
   "metadata": {},
   "outputs": [],
   "source": [
    "t[0] = 1"
   ]
  },
  {
   "cell_type": "code",
   "execution_count": null,
   "metadata": {},
   "outputs": [],
   "source": [
    "print(t[0], t[-1])"
   ]
  },
  {
   "cell_type": "markdown",
   "metadata": {},
   "source": [
    "__Note__: `Comma` should be used at the __end__ of the __single element tuple__."
   ]
  },
  {
   "cell_type": "code",
   "execution_count": null,
   "metadata": {},
   "outputs": [],
   "source": [
    "t = 1\n",
    "print(t, type(t))\n",
    "\n",
    "t = (1)\n",
    "print(t, type(t))\n",
    "\n",
    "t = (1,)\n",
    "print(t, type(t))"
   ]
  },
  {
   "cell_type": "markdown",
   "metadata": {},
   "source": [
    "### Dictionaries\n",
    "\n",
    "* Python __dictionary__ is an `unordered` collection of __items__. Each __item__ of a dictionary is a `(key:value)` pair.\n",
    "* __Dictionaries__ are written with `curly brackets`."
   ]
  },
  {
   "cell_type": "code",
   "execution_count": null,
   "metadata": {},
   "outputs": [],
   "source": [
    "d = {'cat': 'cute', 'dog': 'furry'}  # Create a new dictionary with some data\n",
    "print (d['cat'])                     # Get an entry from a dictionary; prints \"cute\"\n",
    "print ('cat' in d)                   # Check if a dictionary has a given key; prints \"True\""
   ]
  },
  {
   "cell_type": "code",
   "execution_count": null,
   "metadata": {},
   "outputs": [],
   "source": [
    "d['fish'] = 'wet'    # Set an entry in a dictionary\n",
    "print (d['fish'])      "
   ]
  },
  {
   "cell_type": "code",
   "execution_count": null,
   "metadata": {},
   "outputs": [],
   "source": [
    "d['monkey']"
   ]
  },
  {
   "cell_type": "code",
   "execution_count": null,
   "metadata": {},
   "outputs": [],
   "source": [
    "print (d.get('monkey'))"
   ]
  },
  {
   "cell_type": "code",
   "execution_count": null,
   "metadata": {},
   "outputs": [],
   "source": [
    "del (d['fish'])              # Remove an element from a dictionary\n",
    "print (d.get('fish', 'N/A')) # \"fish\" is no longer a key"
   ]
  },
  {
   "cell_type": "code",
   "execution_count": null,
   "metadata": {},
   "outputs": [],
   "source": [
    "print(d.get('fish'))"
   ]
  },
  {
   "cell_type": "markdown",
   "metadata": {},
   "source": [
    "### Sets\n",
    "\n",
    "* A __set__ is an `unordered` and `unindexed` collection with `no duplicate` elements. \n",
    "* __Sets__ are created using either `Curly braces` or the `set()` function. \n",
    "* Set objects support mathematical operations like __union__, __intersection__, __difference__ etc.\n",
    "\n",
    "__Note__: Empty set is created using `set()`, not `{}`; the latter creates an `empty dictionary`"
   ]
  },
  {
   "cell_type": "code",
   "execution_count": null,
   "metadata": {},
   "outputs": [],
   "source": [
    "basket = {'apple', 'orange', 'apple', 'pear', 'orange', 'banana'}\n",
    "\n",
    "print(basket)                      # show that duplicates have been removed"
   ]
  },
  {
   "cell_type": "markdown",
   "metadata": {},
   "source": [
    "Set operations on unique letters from two words"
   ]
  },
  {
   "cell_type": "code",
   "execution_count": null,
   "metadata": {},
   "outputs": [],
   "source": [
    "a = set('abracadabra')\n",
    "b = set('alacazam')"
   ]
  },
  {
   "cell_type": "code",
   "execution_count": null,
   "metadata": {},
   "outputs": [],
   "source": [
    "a # unique letters in a"
   ]
  },
  {
   "cell_type": "code",
   "execution_count": null,
   "metadata": {},
   "outputs": [],
   "source": [
    "b # unique letters in b"
   ]
  },
  {
   "cell_type": "code",
   "execution_count": null,
   "metadata": {},
   "outputs": [],
   "source": [
    "a - b  # letters in a that are not in b"
   ]
  },
  {
   "cell_type": "markdown",
   "metadata": {},
   "source": [
    "### Sequence Types\n",
    "\n",
    "There are three basic sequence types: `lists`, `tuples`, and `range objects`."
   ]
  },
  {
   "cell_type": "markdown",
   "metadata": {},
   "source": [
    "#### Membership Operator"
   ]
  },
  {
   "cell_type": "code",
   "execution_count": null,
   "metadata": {
    "scrolled": true
   },
   "outputs": [],
   "source": [
    "\"I\" in \"INSOFE\""
   ]
  },
  {
   "cell_type": "code",
   "execution_count": null,
   "metadata": {},
   "outputs": [],
   "source": [
    "\"I\" in (\"I\", \"N\", \"S\", \"O\", \"F\", \"E\")"
   ]
  },
  {
   "cell_type": "code",
   "execution_count": null,
   "metadata": {},
   "outputs": [],
   "source": [
    "\"I\" in [\"I\", \"N\" ,\"S\", \"O\", \"F\", \"E\"]"
   ]
  },
  {
   "cell_type": "markdown",
   "metadata": {},
   "source": [
    "### Learning Outcomes\n",
    "* Be able to understand the Python programming environment\n",
    "    * Be able to understand the ways to launch a Jupyter notebook/access jupyter notebook in JupyterHub, Jupyter front-end verus backend, , ipython, Kernel, Ipython file\n",
    "    \n",
    "* Be able to understand general syntax and use primary and secondary data types\n",
    "    * Be able to understand primary data types : Integer, Boolean, Float, Etc. and implement basic operations using their methods\n",
    "    * Be able to identify, write and use secondary data types such as lists and implement basic operations using their methods\n",
    "    * Be able to identify, write and use secondary data types such as dictionary and implement basic operations using their methods\n",
    "    * Be able to identify, write and use secondary data types such as tuple and implement basic operations using their methods\n",
    "    * Be able to format print outputs\n",
    "* Be able to understand and implement general operations.\n",
    "    * Be able to understand and implement type casting\n",
    "    * Be able to understand and implement the relational operators\n",
    "    * Be able to understand and implement the logical operators\n",
    "    * Be able to understand and implement membership operators\n"
   ]
  },
  {
   "cell_type": "markdown",
   "metadata": {},
   "source": [
    "Ref: \n",
    "* https://docs.python.org/3.7/tutorial\n",
    "* http://cs231n.github.io/python-numpy-tutorial/"
   ]
  },
  {
   "cell_type": "code",
   "execution_count": null,
   "metadata": {},
   "outputs": [],
   "source": []
  }
 ],
 "metadata": {
  "anaconda-cloud": {},
  "kernelspec": {
   "display_name": "Python 3",
   "language": "python",
   "name": "python3"
  },
  "language_info": {
   "codemirror_mode": {
    "name": "ipython",
    "version": 3
   },
   "file_extension": ".py",
   "mimetype": "text/x-python",
   "name": "python",
   "nbconvert_exporter": "python",
   "pygments_lexer": "ipython3",
   "version": "3.6.9"
  }
 },
 "nbformat": 4,
 "nbformat_minor": 1
}
