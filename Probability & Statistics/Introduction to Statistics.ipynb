{
 "cells": [
  {
   "cell_type": "markdown",
   "metadata": {},
   "source": [
    "### Agenda\n",
    "- In today's session, we will work on\n",
    "    - Measures of dispersion (range, variance, standard deviation, quantiles etc)\n",
    "    - Worked on the measures of central tendencies mean and median in R\n",
    "    - Basic probabilities"
   ]
  },
  {
   "cell_type": "markdown",
   "metadata": {},
   "source": [
    "### Activity-1\n",
    "\n",
    "- Following are Kohli’s scores in 4 matches played between India and Australia, match 5 being the latest one played in a six-match series.\n",
    "\n",
    "* Match | Score\n",
    "* 1     |  65\n",
    "* 2     |  72\n",
    "* 3     |  58\n",
    "* 4     |  77\n"
   ]
  },
  {
   "cell_type": "markdown",
   "metadata": {},
   "source": [
    "- What are his median and mean scores for the first four matches played?\n",
    "- If he scores 70 in his fifth match, does his series mean score increase or decrease w.r.t. scores\n",
    "  obtained for first four matches. Find his new mean score.\n",
    "- Which has increased more, his mean score or his median score after the fifth match?"
   ]
  },
  {
   "cell_type": "code",
   "execution_count": 1,
   "metadata": {},
   "outputs": [
    {
     "name": "stdout",
     "output_type": "stream",
     "text": [
      "[1] 68\n",
      "[1] 68.5\n"
     ]
    }
   ],
   "source": [
    "####Kohli scores Mean and median\n",
    "kohli_scores <- c(65, 72, 58, 77)\n",
    "print(mean(kohli_scores))\n",
    "print(median(kohli_scores))\n"
   ]
  },
  {
   "cell_type": "code",
   "execution_count": 2,
   "metadata": {},
   "outputs": [
    {
     "data": {
      "text/html": [
       "0.400000000000006"
      ],
      "text/latex": [
       "0.400000000000006"
      ],
      "text/markdown": [
       "0.400000000000006"
      ],
      "text/plain": [
       "[1] 0.4"
      ]
     },
     "metadata": {},
     "output_type": "display_data"
    }
   ],
   "source": [
    "## Fifth match score 70, then change in mean score\n",
    "mean(c(kohli_scores,70))-mean(kohli_scores) "
   ]
  },
  {
   "cell_type": "code",
   "execution_count": 3,
   "metadata": {},
   "outputs": [
    {
     "data": {
      "text/html": [
       "1.5"
      ],
      "text/latex": [
       "1.5"
      ],
      "text/markdown": [
       "1.5"
      ],
      "text/plain": [
       "[1] 1.5"
      ]
     },
     "metadata": {},
     "output_type": "display_data"
    }
   ],
   "source": [
    "## Change in median score\n",
    "median(c(kohli_scores,70))-median(kohli_scores) "
   ]
  },
  {
   "cell_type": "markdown",
   "metadata": {},
   "source": [
    "Find the mode for 8, 6, 2, 4, 6, 8, 10, 8"
   ]
  },
  {
   "cell_type": "code",
   "execution_count": 4,
   "metadata": {},
   "outputs": [
    {
     "data": {
      "text/html": [
       "'8'"
      ],
      "text/latex": [
       "'8'"
      ],
      "text/markdown": [
       "'8'"
      ],
      "text/plain": [
       "[1] \"8\""
      ]
     },
     "metadata": {},
     "output_type": "display_data"
    }
   ],
   "source": [
    "vec<-c(8,6,2,4,6,8,10,8)\n",
    "names(which.max(table(vec)))"
   ]
  },
  {
   "cell_type": "markdown",
   "metadata": {},
   "source": [
    "Create a vector with first 100 natural numbers. Compute its mean and median"
   ]
  },
  {
   "cell_type": "code",
   "execution_count": 5,
   "metadata": {},
   "outputs": [
    {
     "name": "stdout",
     "output_type": "stream",
     "text": [
      "[1] 50.5\n",
      "[1] 50.5\n"
     ]
    }
   ],
   "source": [
    "num<-1:100\n",
    "print(mean(num)) ; print(median(num))"
   ]
  },
  {
   "cell_type": "markdown",
   "metadata": {},
   "source": [
    "Create a vector with 12,13,15,32,24,53,45,78,91. Compute its mean and median"
   ]
  },
  {
   "cell_type": "code",
   "execution_count": 6,
   "metadata": {},
   "outputs": [
    {
     "name": "stdout",
     "output_type": "stream",
     "text": [
      "[1] 40.33333\n",
      "[1] 32\n"
     ]
    }
   ],
   "source": [
    "vec<-c( 12,13,15,32,24,53,45,78,91)\n",
    "print(mean(vec)) \n",
    "print(median(vec))"
   ]
  },
  {
   "attachments": {},
   "cell_type": "markdown",
   "metadata": {},
   "source": [
    "Create a vector with ten 1s, twenty 2s, thirty 3s. Compute its mean and median\n",
    "(Hint: Explore and use ‘rep’ command)"
   ]
  },
  {
   "cell_type": "code",
   "execution_count": 7,
   "metadata": {},
   "outputs": [
    {
     "name": "stdout",
     "output_type": "stream",
     "text": [
      " [1] 1 1 1 1 1 1 1 1 1 1 2 2 2 2 2 2 2 2 2 2 2 2 2 2 2 2 2 2 2 2 3 3 3 3 3 3 3 3\n",
      "[39] 3 3 3 3 3 3 3 3 3 3 3 3 3 3 3 3 3 3 3 3 3 3\n",
      "[1] 2.333333\n",
      "[1] 2.5\n"
     ]
    }
   ],
   "source": [
    "val=c(rep(1,10),rep(2,20),rep(3,30)) \n",
    "# print(c(rep(c(1,2,3),c(10,20,30))))\n",
    "print(val)\n",
    "print(mean(val))\n",
    "print(median(val))"
   ]
  },
  {
   "cell_type": "markdown",
   "metadata": {},
   "source": [
    "### Activity-2"
   ]
  },
  {
   "cell_type": "markdown",
   "metadata": {},
   "source": [
    "philip = c(15,21,20,20,20) \n",
    "mathew = c(30,25,12,35,0) \n",
    "a) Find the mean, median and range for Philip and Matthew.\n",
    "b) Who is more consistent\n",
    "c) Who makes the most toy cars in a week, on an average?\n"
   ]
  },
  {
   "cell_type": "code",
   "execution_count": 8,
   "metadata": {},
   "outputs": [
    {
     "name": "stdout",
     "output_type": "stream",
     "text": [
      "The mean of Philip is:  19.2\n",
      "The mean of Mathews is: 20.4\n",
      "The median of Philip is:  20\n",
      "The median of Mathews is: 25\n",
      "The range of Philip is:  6\n",
      "The range of Mathews is: 35\n",
      "The more consistant worker is:  Philip"
     ]
    }
   ],
   "source": [
    "## Your Solution\n",
    "philip = c(15,21,20,20,20) \n",
    "mathew = c(30,25,12,35,0)\n",
    "cat(\"The mean of Philip is: \", mean(philip))\n",
    "cat(\"\\n\")\n",
    "cat(\"The mean of Mathews is:\",mean(mathew))\n",
    "cat(\"\\n\")\n",
    "cat(\"The median of Philip is: \", median(philip))\n",
    "cat(\"\\n\")\n",
    "cat(\"The median of Mathews is:\",median(mathew))\n",
    "cat(\"\\n\")\n",
    "cat(\"The range of Philip is: \", range(philip)[2]-range(philip)[1])\n",
    "cat(\"\\n\")\n",
    "cat(\"The range of Mathews is:\",range(mathew)[2]-range(mathew)[1])\n",
    "cat(\"\\n\")\n",
    "##\n",
    "consistency<-c(Philip=sd(philip),Mathew=sd(mathew))\n",
    "cat(\"The more consistant worker is: \",names(which.min(consistency)))\n"
   ]
  },
  {
   "cell_type": "markdown",
   "metadata": {},
   "source": [
    "Analyse the performance of a class in the first test taken at INSOFE \n",
    "Scores: 11, 7.5, 8.5, 10, 10, 10.5, 5.5, 10, 9, 9.5, 2, 8, 6.5, 10.5, 8.75, 0, 6, 6, 6.75, 8.75, 0, 9.5, 7.5, 8.5, 7 \n",
    "a) How do you measure the spread/variability of the scores? \n",
    "b) Find the 25th percentile, 50th percentile and 75th percentile for this data.\n",
    "c) What is the inter-quartlie range for the data\n",
    "d) Construct a boxplot to identify if there are any outliers in the data\n"
   ]
  },
  {
   "cell_type": "code",
   "execution_count": 9,
   "metadata": {},
   "outputs": [
    {
     "name": "stdout",
     "output_type": "stream",
     "text": [
      "The score at 25th, 50th and 75th percentile respectively are : 6.5 8.5 9.5"
     ]
    }
   ],
   "source": [
    "## Your Solution\n",
    "## The variability can be observed using the methods of std. deviation, range,\n",
    "## inter-quartile range etc\n",
    "score<-c(11, 7.5, 8.5, 10, 10, 10.5, 5.5, 10, 9, 9.5, 2, 8, 6.5, 10.5, 8.75, 0, 6, 6, 6.75, 8.75, 0, 9.5, 7.5, 8.5, 7 )\n",
    "cat(\"The score at 25th, 50th and 75th percentile respectively are :\",quantile(score,probs = c(0.25,0.5,0.75)))\n"
   ]
  },
  {
   "cell_type": "code",
   "execution_count": 10,
   "metadata": {},
   "outputs": [
    {
     "data": {
      "image/png": "[encoded data removed]",
      "text/plain": [
       "plot without title"
      ]
     },
     "metadata": {
      "image/png": {
       "height": 420,
       "width": 420
      }
     },
     "output_type": "display_data"
    }
   ],
   "source": [
    "## Get the Boxplot\n",
    "boxplot(score)"
   ]
  },
  {
   "cell_type": "code",
   "execution_count": 11,
   "metadata": {},
   "outputs": [
    {
     "data": {
      "text/html": [
       "3"
      ],
      "text/latex": [
       "3"
      ],
      "text/markdown": [
       "3"
      ],
      "text/plain": [
       "[1] 3"
      ]
     },
     "metadata": {},
     "output_type": "display_data"
    }
   ],
   "source": [
    "## Get the inter-quartile range\n",
    "IQR(score)"
   ]
  },
  {
   "cell_type": "code",
   "execution_count": 12,
   "metadata": {
    "scrolled": true
   },
   "outputs": [
    {
     "data": {
      "text/html": [
       "<table>\n",
       "<caption>A matrix: 5 × 1 of type dbl</caption>\n",
       "<tbody>\n",
       "\t<tr><td> 2.0</td></tr>\n",
       "\t<tr><td> 6.5</td></tr>\n",
       "\t<tr><td> 8.5</td></tr>\n",
       "\t<tr><td> 9.5</td></tr>\n",
       "\t<tr><td>11.0</td></tr>\n",
       "</tbody>\n",
       "</table>\n"
      ],
      "text/latex": [
       "A matrix: 5 × 1 of type dbl\n",
       "\\begin{tabular}{l}\n",
       "\t  2.0\\\\\n",
       "\t  6.5\\\\\n",
       "\t  8.5\\\\\n",
       "\t  9.5\\\\\n",
       "\t 11.0\\\\\n",
       "\\end{tabular}\n"
      ],
      "text/markdown": [
       "\n",
       "A matrix: 5 × 1 of type dbl\n",
       "\n",
       "|  2.0 |\n",
       "|  6.5 |\n",
       "|  8.5 |\n",
       "|  9.5 |\n",
       "| 11.0 |\n",
       "\n"
      ],
      "text/plain": [
       "     [,1]\n",
       "[1,]  2.0\n",
       "[2,]  6.5\n",
       "[3,]  8.5\n",
       "[4,]  9.5\n",
       "[5,] 11.0"
      ]
     },
     "metadata": {},
     "output_type": "display_data"
    },
    {
     "data": {
      "text/html": [
       "<style>\n",
       ".list-inline {list-style: none; margin:0; padding: 0}\n",
       ".list-inline>li {display: inline-block}\n",
       ".list-inline>li:not(:last-child)::after {content: \"\\00b7\"; padding: 0 .5ex}\n",
       "</style>\n",
       "<ol class=list-inline><li>0</li><li>0</li></ol>\n"
      ],
      "text/latex": [
       "\\begin{enumerate*}\n",
       "\\item 0\n",
       "\\item 0\n",
       "\\end{enumerate*}\n"
      ],
      "text/markdown": [
       "1. 0\n",
       "2. 0\n",
       "\n",
       "\n"
      ],
      "text/plain": [
       "[1] 0 0"
      ]
     },
     "metadata": {},
     "output_type": "display_data"
    },
    {
     "data": {
      "image/png": "[encoded data removed]",
      "text/plain": [
       "plot without title"
      ]
     },
     "metadata": {
      "image/png": {
       "height": 420,
       "width": 420
      }
     },
     "output_type": "display_data"
    }
   ],
   "source": [
    "## Get the stats from the boxplot\n",
    "b<-boxplot(score)\n",
    "b$stats #a vector of length 5, containing the extreme of the lower whisker, the lower ‘hinge’, the median, the upper ‘hinge’ and the extreme of the upper whisker.\n",
    "b$out\n",
    "#extreme of the lower whisker, the lower ‘hinge’, the median, the upper ‘hinge’ and the extreme of the upper whisker.\n"
   ]
  },
  {
   "cell_type": "markdown",
   "metadata": {},
   "source": [
    "A large retailer store regularly orders cartons of blueberries. The average weight of the cartons is supposed to be 22 kgs. Random samples of cartons from two suppliers were weighed. \n",
    "The weights in kgs of the cartons were \n",
    "\n",
    "| Supplier I | 17 | 22 | 22 | 22 | 27 |\n",
    "| Supplier II | 17 | 19 | 20 | 27 | 27 |  \n",
    "- a) Compute the range of carton weights from each supplier.\n",
    "- b) Compute the mean weight of cartons from each supplier.\n",
    "- c) Which one is more consistent in torder to get good quality muffins"
   ]
  },
  {
   "cell_type": "code",
   "execution_count": 21,
   "metadata": {},
   "outputs": [
    {
     "name": "stdout",
     "output_type": "stream",
     "text": [
      "Range of S1 and S2 respectively are:  10  and  10\n",
      "Mean of S1 and S2 respectively are:  22  and  22\n",
      "The more consistant worker is:  S1_sd"
     ]
    }
   ],
   "source": [
    "## Your Solution\n",
    "S1<-c(17,22,22,22,27) ; S2<-c(17,19,20,27,27)\n",
    "\n",
    "#range of carton weighs\n",
    "\n",
    "cat('Range of S1 and S2 respectively are: ', range(S1)[2]-range(S1)[1],\" and \",range(S2)[2]-range(S2)[1])\n",
    "# Mean weight of cartons\n",
    "cat(\"\\nMean of S1 and S2 respectively are: \", mean(S1),\" and \", mean(S2))\n",
    "# To check the consistency we can look at the standard deviations\n",
    "consistency<-c(S1_sd=sd(S1),S2_sd=sd(S2))\n",
    "cat(\"\\nThe more consistant worker is: \",names(which.min(consistency)))"
   ]
  },
  {
   "cell_type": "markdown",
   "metadata": {},
   "source": [
    "Draw the box plot for the below numbers and identify Mean, Median, Quartiles, Whiskers and Outliers\n",
    "Values: 28 35 26 38 37 20 46 16 11 90\n"
   ]
  },
  {
   "cell_type": "code",
   "execution_count": 14,
   "metadata": {},
   "outputs": [
    {
     "data": {
      "text/html": [
       "<table>\n",
       "<caption>A matrix: 5 × 1 of type dbl</caption>\n",
       "<tbody>\n",
       "\t<tr><td>11.0</td></tr>\n",
       "\t<tr><td>20.0</td></tr>\n",
       "\t<tr><td>31.5</td></tr>\n",
       "\t<tr><td>38.0</td></tr>\n",
       "\t<tr><td>46.0</td></tr>\n",
       "</tbody>\n",
       "</table>\n"
      ],
      "text/latex": [
       "A matrix: 5 × 1 of type dbl\n",
       "\\begin{tabular}{l}\n",
       "\t 11.0\\\\\n",
       "\t 20.0\\\\\n",
       "\t 31.5\\\\\n",
       "\t 38.0\\\\\n",
       "\t 46.0\\\\\n",
       "\\end{tabular}\n"
      ],
      "text/markdown": [
       "\n",
       "A matrix: 5 × 1 of type dbl\n",
       "\n",
       "| 11.0 |\n",
       "| 20.0 |\n",
       "| 31.5 |\n",
       "| 38.0 |\n",
       "| 46.0 |\n",
       "\n"
      ],
      "text/plain": [
       "     [,1]\n",
       "[1,] 11.0\n",
       "[2,] 20.0\n",
       "[3,] 31.5\n",
       "[4,] 38.0\n",
       "[5,] 46.0"
      ]
     },
     "metadata": {},
     "output_type": "display_data"
    },
    {
     "data": {
      "image/png": "[encoded data removed]",
      "text/plain": [
       "plot without title"
      ]
     },
     "metadata": {
      "image/png": {
       "height": 420,
       "width": 420
      }
     },
     "output_type": "display_data"
    }
   ],
   "source": [
    "## Your Solution\n",
    "values=c(28,35, 26, 38, 37, 20, 46, 16, 11, 90)\n",
    "box<-boxplot(values)\n",
    "box$stats"
   ]
  },
  {
   "cell_type": "markdown",
   "metadata": {},
   "source": [
    "There are two cricket players A and B. The batting average of A is 47.3 with a standard deviation of 10.4 and for B it is 63.4 with a standard deviation of 12. On a particular match A scored 60 and B scored 71. Which player has performed better compared to their individual averages"
   ]
  },
  {
   "cell_type": "code",
   "execution_count": 15,
   "metadata": {},
   "outputs": [
    {
     "name": "stdout",
     "output_type": "stream",
     "text": [
      "[1] 1.221154\n",
      "[1] 0.6166667\n"
     ]
    }
   ],
   "source": [
    "## Your Solution\n",
    "zscore_A=(60-47.3)/10.4\n",
    "zscore_B=(71-63.6)/12\n",
    "print(zscore_A)\n",
    "print(zscore_B)"
   ]
  },
  {
   "cell_type": "markdown",
   "metadata": {},
   "source": [
    "Your Observation:\n",
    "- Since the score of A in the match is far away from his mean compared to that of B, A in that match performed better against his individual \n"
   ]
  },
  {
   "cell_type": "code",
   "execution_count": null,
   "metadata": {},
   "outputs": [],
   "source": []
  }
 ],
 "metadata": {
  "kernelspec": {
   "display_name": "R",
   "language": "R",
   "name": "ir"
  },
  "language_info": {
   "codemirror_mode": "r",
   "file_extension": ".r",
   "mimetype": "text/x-r-source",
   "name": "R",
   "pygments_lexer": "r",
   "version": "4.0.3"
  }
 },
 "nbformat": 4,
 "nbformat_minor": 4
}
