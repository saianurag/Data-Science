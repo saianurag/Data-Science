{
 "cells": [
  {
   "cell_type": "markdown",
   "metadata": {},
   "source": [
    "# Problem Statement\n",
    "\n",
    "To predict the Employment rate in Wisconsin.\n",
    "\n",
    "## Data\n",
    "\n",
    "- Monthly Milk Production in US (Pounds per cow) vs Employment rate in Wisconsin (In Thousands)"
   ]
  },
  {
   "cell_type": "markdown",
   "metadata": {},
   "source": [
    "#### Reading the Data"
   ]
  },
  {
   "cell_type": "code",
   "execution_count": 1,
   "metadata": {},
   "outputs": [],
   "source": [
    "data <- read.csv(file=\"data.csv\")"
   ]
  },
  {
   "cell_type": "markdown",
   "metadata": {},
   "source": [
    "#### Data Understanding"
   ]
  },
  {
   "cell_type": "code",
   "execution_count": 2,
   "metadata": {},
   "outputs": [
    {
     "data": {
      "text/html": [
       "<table>\n",
       "<caption>A data.frame: 6 × 3</caption>\n",
       "<thead>\n",
       "\t<tr><th></th><th scope=col>Year_Month</th><th scope=col>Milk_Production</th><th scope=col>Wisconsin_Employment_Rate</th></tr>\n",
       "\t<tr><th></th><th scope=col>&lt;chr&gt;</th><th scope=col>&lt;int&gt;</th><th scope=col>&lt;dbl&gt;</th></tr>\n",
       "</thead>\n",
       "<tbody>\n",
       "\t<tr><th scope=row>1</th><td>1962-01</td><td>589</td><td>237.6</td></tr>\n",
       "\t<tr><th scope=row>2</th><td>1962-02</td><td>561</td><td>235.7</td></tr>\n",
       "\t<tr><th scope=row>3</th><td>1962-03</td><td>640</td><td>236.1</td></tr>\n",
       "\t<tr><th scope=row>4</th><td>1962-04</td><td>656</td><td>242.6</td></tr>\n",
       "\t<tr><th scope=row>5</th><td>1962-05</td><td>727</td><td>244.5</td></tr>\n",
       "\t<tr><th scope=row>6</th><td>1962-06</td><td>697</td><td>246.6</td></tr>\n",
       "</tbody>\n",
       "</table>\n"
      ],
      "text/latex": [
       "A data.frame: 6 × 3\n",
       "\\begin{tabular}{r|lll}\n",
       "  & Year\\_Month & Milk\\_Production & Wisconsin\\_Employment\\_Rate\\\\\n",
       "  & <chr> & <int> & <dbl>\\\\\n",
       "\\hline\n",
       "\t1 & 1962-01 & 589 & 237.6\\\\\n",
       "\t2 & 1962-02 & 561 & 235.7\\\\\n",
       "\t3 & 1962-03 & 640 & 236.1\\\\\n",
       "\t4 & 1962-04 & 656 & 242.6\\\\\n",
       "\t5 & 1962-05 & 727 & 244.5\\\\\n",
       "\t6 & 1962-06 & 697 & 246.6\\\\\n",
       "\\end{tabular}\n"
      ],
      "text/markdown": [
       "\n",
       "A data.frame: 6 × 3\n",
       "\n",
       "| <!--/--> | Year_Month &lt;chr&gt; | Milk_Production &lt;int&gt; | Wisconsin_Employment_Rate &lt;dbl&gt; |\n",
       "|---|---|---|---|\n",
       "| 1 | 1962-01 | 589 | 237.6 |\n",
       "| 2 | 1962-02 | 561 | 235.7 |\n",
       "| 3 | 1962-03 | 640 | 236.1 |\n",
       "| 4 | 1962-04 | 656 | 242.6 |\n",
       "| 5 | 1962-05 | 727 | 244.5 |\n",
       "| 6 | 1962-06 | 697 | 246.6 |\n",
       "\n"
      ],
      "text/plain": [
       "  Year_Month Milk_Production Wisconsin_Employment_Rate\n",
       "1 1962-01    589             237.6                    \n",
       "2 1962-02    561             235.7                    \n",
       "3 1962-03    640             236.1                    \n",
       "4 1962-04    656             242.6                    \n",
       "5 1962-05    727             244.5                    \n",
       "6 1962-06    697             246.6                    "
      ]
     },
     "metadata": {},
     "output_type": "display_data"
    },
    {
     "data": {
      "text/html": [
       "<table>\n",
       "<caption>A data.frame: 6 × 3</caption>\n",
       "<thead>\n",
       "\t<tr><th></th><th scope=col>Year_Month</th><th scope=col>Milk_Production</th><th scope=col>Wisconsin_Employment_Rate</th></tr>\n",
       "\t<tr><th></th><th scope=col>&lt;chr&gt;</th><th scope=col>&lt;int&gt;</th><th scope=col>&lt;dbl&gt;</th></tr>\n",
       "</thead>\n",
       "<tbody>\n",
       "\t<tr><th scope=row>161</th><td>1975-05</td><td>966</td><td>389.9</td></tr>\n",
       "\t<tr><th scope=row>162</th><td>1975-06</td><td>937</td><td>394.6</td></tr>\n",
       "\t<tr><th scope=row>163</th><td>1975-07</td><td>896</td><td>394.0</td></tr>\n",
       "\t<tr><th scope=row>164</th><td>1975-08</td><td>858</td><td>397.0</td></tr>\n",
       "\t<tr><th scope=row>165</th><td>1975-09</td><td>817</td><td>397.2</td></tr>\n",
       "\t<tr><th scope=row>166</th><td>1975-10</td><td>827</td><td>399.4</td></tr>\n",
       "</tbody>\n",
       "</table>\n"
      ],
      "text/latex": [
       "A data.frame: 6 × 3\n",
       "\\begin{tabular}{r|lll}\n",
       "  & Year\\_Month & Milk\\_Production & Wisconsin\\_Employment\\_Rate\\\\\n",
       "  & <chr> & <int> & <dbl>\\\\\n",
       "\\hline\n",
       "\t161 & 1975-05 & 966 & 389.9\\\\\n",
       "\t162 & 1975-06 & 937 & 394.6\\\\\n",
       "\t163 & 1975-07 & 896 & 394.0\\\\\n",
       "\t164 & 1975-08 & 858 & 397.0\\\\\n",
       "\t165 & 1975-09 & 817 & 397.2\\\\\n",
       "\t166 & 1975-10 & 827 & 399.4\\\\\n",
       "\\end{tabular}\n"
      ],
      "text/markdown": [
       "\n",
       "A data.frame: 6 × 3\n",
       "\n",
       "| <!--/--> | Year_Month &lt;chr&gt; | Milk_Production &lt;int&gt; | Wisconsin_Employment_Rate &lt;dbl&gt; |\n",
       "|---|---|---|---|\n",
       "| 161 | 1975-05 | 966 | 389.9 |\n",
       "| 162 | 1975-06 | 937 | 394.6 |\n",
       "| 163 | 1975-07 | 896 | 394.0 |\n",
       "| 164 | 1975-08 | 858 | 397.0 |\n",
       "| 165 | 1975-09 | 817 | 397.2 |\n",
       "| 166 | 1975-10 | 827 | 399.4 |\n",
       "\n"
      ],
      "text/plain": [
       "    Year_Month Milk_Production Wisconsin_Employment_Rate\n",
       "161 1975-05    966             389.9                    \n",
       "162 1975-06    937             394.6                    \n",
       "163 1975-07    896             394.0                    \n",
       "164 1975-08    858             397.0                    \n",
       "165 1975-09    817             397.2                    \n",
       "166 1975-10    827             399.4                    "
      ]
     },
     "metadata": {},
     "output_type": "display_data"
    },
    {
     "data": {
      "text/plain": [
       "  Year_Month        Milk_Production Wisconsin_Employment_Rate\n",
       " Length:166         Min.   :553.0   Min.   :235.7            \n",
       " Class :character   1st Qu.:677.2   1st Qu.:273.9            \n",
       " Mode  :character   Median :758.0   Median :313.1            \n",
       "                    Mean   :753.9   Mean   :312.1            \n",
       "                    3rd Qu.:823.2   3rd Qu.:345.0            \n",
       "                    Max.   :969.0   Max.   :399.4            "
      ]
     },
     "metadata": {},
     "output_type": "display_data"
    }
   ],
   "source": [
    "head(data)\n",
    "tail(data)\n",
    "\n",
    "summary(data)"
   ]
  },
  {
   "cell_type": "markdown",
   "metadata": {},
   "source": [
    "### Building a Simple Linear Regression model with Employment Rate ( target ) and Milk Production"
   ]
  },
  {
   "cell_type": "code",
   "execution_count": 3,
   "metadata": {},
   "outputs": [
    {
     "data": {
      "text/plain": [
       "\n",
       "Call:\n",
       "lm(formula = Wisconsin_Employment_Rate ~ Milk_Production, data = data)\n",
       "\n",
       "Residuals:\n",
       "    Min      1Q  Median      3Q     Max \n",
       "-59.242 -20.343  -0.356  20.483  73.143 \n",
       "\n",
       "Coefficients:\n",
       "                Estimate Std. Error t value Pr(>|t|)    \n",
       "(Intercept)     57.10618   16.70672   3.418 0.000795 ***\n",
       "Milk_Production  0.33823    0.02196  15.403  < 2e-16 ***\n",
       "---\n",
       "Signif. codes:  0 ‘***’ 0.001 ‘**’ 0.01 ‘*’ 0.05 ‘.’ 0.1 ‘ ’ 1\n",
       "\n",
       "Residual standard error: 28.92 on 164 degrees of freedom\n",
       "Multiple R-squared:  0.5913,\tAdjusted R-squared:  0.5888 \n",
       "F-statistic: 237.2 on 1 and 164 DF,  p-value: < 2.2e-16\n"
      ]
     },
     "metadata": {},
     "output_type": "display_data"
    }
   ],
   "source": [
    "lr <- lm(Wisconsin_Employment_Rate ~ Milk_Production, data)\n",
    "\n",
    "summary(lr)"
   ]
  },
  {
   "cell_type": "markdown",
   "metadata": {},
   "source": [
    "### Understanding the model\n",
    "\n",
    "- We can observe a decent $R^2$\n",
    "- p-value is low for Milk_Production attribute.\n",
    "\n",
    "\n",
    "#### Something look fishy, because target and indepedent attribute(s) are not logically related, but model is showing otherwise."
   ]
  },
  {
   "cell_type": "code",
   "execution_count": 4,
   "metadata": {},
   "outputs": [
    {
     "data": {
      "image/png": "[encoded data removed]",
      "text/plain": [
       "plot without title"
      ]
     },
     "metadata": {
      "image/png": {
       "height": 420,
       "width": 420
      }
     },
     "output_type": "display_data"
    }
   ],
   "source": [
    "ts.plot(as.ts(data$Wisconsin_Employment_Rate), as.ts(data$Milk_Production),\n",
    "        ylab = \"Wisconsin Employent vs Milk production per cow\")"
   ]
  },
  {
   "cell_type": "code",
   "execution_count": 5,
   "metadata": {},
   "outputs": [
    {
     "data": {
      "text/html": [
       "0.76894456638881"
      ],
      "text/latex": [
       "0.76894456638881"
      ],
      "text/markdown": [
       "0.76894456638881"
      ],
      "text/plain": [
       "[1] 0.7689446"
      ]
     },
     "metadata": {},
     "output_type": "display_data"
    }
   ],
   "source": [
    "cor(data$Wisconsin_Employment_Rate, data$Milk_Production)"
   ]
  },
  {
   "cell_type": "markdown",
   "metadata": {},
   "source": [
    "# Spurious Regression\n",
    "\n",
    "- Certainly, there is correlation between the variables, but there is no causation.\n",
    "\n",
    "A good SLR result is because of <b>correlation</b> between variables and not because of <b>causation</b>.\n",
    "\n",
    "\n",
    "### Spurious Regression is a regression that provides misleading statistical evidence of a linear relationship between independent non-stationary variables\n",
    "\n",
    "- Milk_Data and Emp_Data has a strong trend \n",
    "- Any other variable with such a trend will also show larger R^2^\n",
    "- It shows apparent relationship between two variables but in reality it doesn't exist\n",
    "- We should stationarise the data and check the results again\n",
    "\n",
    "#### To check number of differences needed to make the data stationary"
   ]
  },
  {
   "cell_type": "code",
   "execution_count": 6,
   "metadata": {},
   "outputs": [
    {
     "name": "stderr",
     "output_type": "stream",
     "text": [
      "Registered S3 method overwritten by 'quantmod':\n",
      "  method            from\n",
      "  as.zoo.data.frame zoo \n",
      "\n"
     ]
    },
    {
     "data": {
      "text/html": [
       "1"
      ],
      "text/latex": [
       "1"
      ],
      "text/markdown": [
       "1"
      ],
      "text/plain": [
       "[1] 1"
      ]
     },
     "metadata": {},
     "output_type": "display_data"
    },
    {
     "data": {
      "text/html": [
       "1"
      ],
      "text/latex": [
       "1"
      ],
      "text/markdown": [
       "1"
      ],
      "text/plain": [
       "[1] 1"
      ]
     },
     "metadata": {},
     "output_type": "display_data"
    }
   ],
   "source": [
    "library(forecast)\n",
    "\n",
    "ndiffs(data$Wisconsin_Employment_Rate)\n",
    "\n",
    "ndiffs(data$Milk_Production)"
   ]
  },
  {
   "cell_type": "code",
   "execution_count": 7,
   "metadata": {
    "scrolled": true
   },
   "outputs": [
    {
     "data": {
      "text/plain": [
       "\n",
       "Call:\n",
       "lm(formula = diff(data$Wisconsin_Employment_Rate, lag = 1) ~ \n",
       "    diff(data$Milk_Production, lag = 1))\n",
       "\n",
       "Residuals:\n",
       "    Min      1Q  Median      3Q     Max \n",
       "-25.187  -0.509   1.433   3.693   9.595 \n",
       "\n",
       "Coefficients:\n",
       "                                    Estimate Std. Error t value Pr(>|t|)  \n",
       "(Intercept)                         0.968482   0.559706   1.730   0.0855 .\n",
       "diff(data$Milk_Production, lag = 1) 0.008405   0.012330   0.682   0.4964  \n",
       "---\n",
       "Signif. codes:  0 ‘***’ 0.001 ‘**’ 0.01 ‘*’ 0.05 ‘.’ 0.1 ‘ ’ 1\n",
       "\n",
       "Residual standard error: 7.186 on 163 degrees of freedom\n",
       "Multiple R-squared:  0.002843,\tAdjusted R-squared:  -0.003274 \n",
       "F-statistic: 0.4648 on 1 and 163 DF,  p-value: 0.4964\n"
      ]
     },
     "metadata": {},
     "output_type": "display_data"
    }
   ],
   "source": [
    "lr_diff <- lm( diff(data$Wisconsin_Employment_Rate, lag = 1) ~ diff(data$Milk_Production, lag = 1) )\n",
    "\n",
    "summary(lr_diff)"
   ]
  },
  {
   "cell_type": "code",
   "execution_count": null,
   "metadata": {},
   "outputs": [],
   "source": []
  },
  {
   "cell_type": "code",
   "execution_count": 25,
   "metadata": {},
   "outputs": [],
   "source": [
    "x = data$Wisconsin_Employment_Rate[1:165]"
   ]
  },
  {
   "cell_type": "code",
   "execution_count": 26,
   "metadata": {},
   "outputs": [
    {
     "data": {
      "text/html": [
       "166"
      ],
      "text/latex": [
       "166"
      ],
      "text/markdown": [
       "166"
      ],
      "text/plain": [
       "[1] 166"
      ]
     },
     "metadata": {},
     "output_type": "display_data"
    }
   ],
   "source": [
    "nrow(data)"
   ]
  },
  {
   "cell_type": "code",
   "execution_count": 27,
   "metadata": {},
   "outputs": [],
   "source": [
    "y = data$Wisconsin_Employment_Rate[2:166]"
   ]
  },
  {
   "cell_type": "code",
   "execution_count": 33,
   "metadata": {},
   "outputs": [
    {
     "data": {
      "image/png": "[encoded data removed]",
      "text/plain": [
       "plot without title"
      ]
     },
     "metadata": {
      "image/png": {
       "height": 420,
       "width": 420
      }
     },
     "output_type": "display_data"
    }
   ],
   "source": [
    "ts.plot(as.ts(data$Wisconsin_Employment_Rate), as.ts(y - x))"
   ]
  },
  {
   "cell_type": "code",
   "execution_count": null,
   "metadata": {},
   "outputs": [],
   "source": [
    "z = y - x\n",
    "\n",
    "\n",
    "z[1:164]\n",
    "a = z[2:165]\n",
    "\n",
    "a - z"
   ]
  },
  {
   "cell_type": "code",
   "execution_count": 30,
   "metadata": {},
   "outputs": [
    {
     "data": {
      "text/html": [
       "<style>\n",
       ".list-inline {list-style: none; margin:0; padding: 0}\n",
       ".list-inline>li {display: inline-block}\n",
       ".list-inline>li:not(:last-child)::after {content: \"\\00b7\"; padding: 0 .5ex}\n",
       "</style>\n",
       "<ol class=list-inline><li>-1.90000000000001</li><li>0.400000000000006</li><li>6.5</li><li>1.90000000000001</li><li>2.09999999999999</li><li>-0.900000000000006</li><li>2</li><li>1.20000000000002</li><li>2.5</li><li>4.5</li><li>7.79999999999998</li><li>-21.5</li><li>-2.89999999999998</li><li>0.399999999999977</li><li>7.5</li><li>2.10000000000002</li><li>3</li><li>0.5</li><li>0.799999999999983</li><li>0.599999999999994</li><li>1.90000000000003</li><li>4.19999999999999</li><li>8.5</li><li>-18.7</li><li>-2.19999999999999</li><li>1.09999999999999</li><li>4.80000000000001</li><li>4.5</li><li>3</li><li>0</li><li>0.599999999999966</li><li>1.40000000000003</li><li>4</li><li>3.30000000000001</li><li>10.9</li><li>-19.6</li><li>-3.29999999999995</li><li>1.09999999999997</li><li>6.30000000000001</li><li>5.10000000000002</li><li>3.29999999999995</li><li>-0.399999999999977</li><li>-0.199999999999989</li><li>1.09999999999997</li><li>5.10000000000002</li><li>5.39999999999998</li><li>10.5</li><li>-20.5</li><li>-1.79999999999995</li><li>2.29999999999995</li><li>5.20000000000005</li><li>4.09999999999997</li><li>3.90000000000003</li><li>0.0999999999999659</li><li>-0.300000000000011</li><li>2.20000000000005</li><li>4.19999999999999</li><li>4.89999999999998</li><li>10.7</li><li>-24</li><li>-3.89999999999998</li><li>3.19999999999999</li><li>5.30000000000001</li><li>3.89999999999998</li><li>4.30000000000001</li><li>-1.80000000000001</li><li>0.200000000000045</li><li>2.09999999999997</li><li>4.60000000000002</li><li>7.09999999999997</li><li>9</li><li>-22.6</li><li>-2.80000000000001</li><li>1.69999999999999</li><li>5.5</li><li>4</li><li>2.40000000000003</li><li>-0.400000000000034</li><li>1.19999999999999</li><li>0.900000000000034</li><li>3.89999999999998</li><li>6.5</li><li>7.80000000000001</li><li>-21.4</li><li>-2.10000000000002</li><li>2.5</li><li>6.39999999999998</li><li>6.10000000000002</li><li>2.89999999999998</li><li>-0.399999999999977</li><li>1.39999999999998</li><li>1.70000000000005</li><li>3.19999999999999</li><li>5.69999999999999</li><li>6.89999999999998</li><li>-20.1</li><li>-4.5</li><li>1.30000000000001</li><li>4.79999999999995</li><li>3.70000000000005</li><li>0.799999999999955</li><li>-2.59999999999997</li><li>0.399999999999977</li><li>4.30000000000001</li><li>3.5</li><li>3.60000000000002</li><li>4.19999999999999</li><li>-19.7</li><li>-3.40000000000003</li><li>1.40000000000003</li><li>6.59999999999997</li><li>6.10000000000002</li><li>1.89999999999998</li><li>0.300000000000011</li><li>1</li><li>-0.399999999999977</li><li>3.09999999999997</li><li>3.69999999999999</li><li>6</li><li>-18.4</li><li>-3.10000000000002</li><li>2.70000000000005</li><li>8.09999999999997</li><li>7.69999999999999</li><li>4.70000000000005</li><li>1.39999999999998</li><li>2.80000000000001</li><li>0.699999999999989</li><li>2.89999999999998</li><li>4.70000000000005</li><li>5.39999999999998</li><li>-19.6</li><li>-2.89999999999998</li><li>3.89999999999998</li><li>6.40000000000003</li><li>7.09999999999997</li><li>4.20000000000005</li><li>-0.600000000000023</li><li>4.19999999999999</li><li>0.699999999999989</li><li>3.60000000000002</li><li>5.69999999999999</li><li>4.40000000000003</li><li>-24</li><li>-6.20000000000005</li><li>3</li><li>9.60000000000002</li><li>8.69999999999999</li><li>5.30000000000001</li><li>0.199999999999989</li><li>1.80000000000001</li><li>1.30000000000001</li><li>2.69999999999999</li><li>4.69999999999999</li><li>4.30000000000001</li><li>-22</li><li>-3.60000000000002</li><li>2.80000000000001</li><li>7.90000000000003</li><li>8.79999999999995</li><li>4.70000000000005</li><li>-0.600000000000023</li><li>3</li><li>0.199999999999989</li><li>2.19999999999999</li></ol>\n"
      ],
      "text/latex": [
       "\\begin{enumerate*}\n",
       "\\item -1.90000000000001\n",
       "\\item 0.400000000000006\n",
       "\\item 6.5\n",
       "\\item 1.90000000000001\n",
       "\\item 2.09999999999999\n",
       "\\item -0.900000000000006\n",
       "\\item 2\n",
       "\\item 1.20000000000002\n",
       "\\item 2.5\n",
       "\\item 4.5\n",
       "\\item 7.79999999999998\n",
       "\\item -21.5\n",
       "\\item -2.89999999999998\n",
       "\\item 0.399999999999977\n",
       "\\item 7.5\n",
       "\\item 2.10000000000002\n",
       "\\item 3\n",
       "\\item 0.5\n",
       "\\item 0.799999999999983\n",
       "\\item 0.599999999999994\n",
       "\\item 1.90000000000003\n",
       "\\item 4.19999999999999\n",
       "\\item 8.5\n",
       "\\item -18.7\n",
       "\\item -2.19999999999999\n",
       "\\item 1.09999999999999\n",
       "\\item 4.80000000000001\n",
       "\\item 4.5\n",
       "\\item 3\n",
       "\\item 0\n",
       "\\item 0.599999999999966\n",
       "\\item 1.40000000000003\n",
       "\\item 4\n",
       "\\item 3.30000000000001\n",
       "\\item 10.9\n",
       "\\item -19.6\n",
       "\\item -3.29999999999995\n",
       "\\item 1.09999999999997\n",
       "\\item 6.30000000000001\n",
       "\\item 5.10000000000002\n",
       "\\item 3.29999999999995\n",
       "\\item -0.399999999999977\n",
       "\\item -0.199999999999989\n",
       "\\item 1.09999999999997\n",
       "\\item 5.10000000000002\n",
       "\\item 5.39999999999998\n",
       "\\item 10.5\n",
       "\\item -20.5\n",
       "\\item -1.79999999999995\n",
       "\\item 2.29999999999995\n",
       "\\item 5.20000000000005\n",
       "\\item 4.09999999999997\n",
       "\\item 3.90000000000003\n",
       "\\item 0.0999999999999659\n",
       "\\item -0.300000000000011\n",
       "\\item 2.20000000000005\n",
       "\\item 4.19999999999999\n",
       "\\item 4.89999999999998\n",
       "\\item 10.7\n",
       "\\item -24\n",
       "\\item -3.89999999999998\n",
       "\\item 3.19999999999999\n",
       "\\item 5.30000000000001\n",
       "\\item 3.89999999999998\n",
       "\\item 4.30000000000001\n",
       "\\item -1.80000000000001\n",
       "\\item 0.200000000000045\n",
       "\\item 2.09999999999997\n",
       "\\item 4.60000000000002\n",
       "\\item 7.09999999999997\n",
       "\\item 9\n",
       "\\item -22.6\n",
       "\\item -2.80000000000001\n",
       "\\item 1.69999999999999\n",
       "\\item 5.5\n",
       "\\item 4\n",
       "\\item 2.40000000000003\n",
       "\\item -0.400000000000034\n",
       "\\item 1.19999999999999\n",
       "\\item 0.900000000000034\n",
       "\\item 3.89999999999998\n",
       "\\item 6.5\n",
       "\\item 7.80000000000001\n",
       "\\item -21.4\n",
       "\\item -2.10000000000002\n",
       "\\item 2.5\n",
       "\\item 6.39999999999998\n",
       "\\item 6.10000000000002\n",
       "\\item 2.89999999999998\n",
       "\\item -0.399999999999977\n",
       "\\item 1.39999999999998\n",
       "\\item 1.70000000000005\n",
       "\\item 3.19999999999999\n",
       "\\item 5.69999999999999\n",
       "\\item 6.89999999999998\n",
       "\\item -20.1\n",
       "\\item -4.5\n",
       "\\item 1.30000000000001\n",
       "\\item 4.79999999999995\n",
       "\\item 3.70000000000005\n",
       "\\item 0.799999999999955\n",
       "\\item -2.59999999999997\n",
       "\\item 0.399999999999977\n",
       "\\item 4.30000000000001\n",
       "\\item 3.5\n",
       "\\item 3.60000000000002\n",
       "\\item 4.19999999999999\n",
       "\\item -19.7\n",
       "\\item -3.40000000000003\n",
       "\\item 1.40000000000003\n",
       "\\item 6.59999999999997\n",
       "\\item 6.10000000000002\n",
       "\\item 1.89999999999998\n",
       "\\item 0.300000000000011\n",
       "\\item 1\n",
       "\\item -0.399999999999977\n",
       "\\item 3.09999999999997\n",
       "\\item 3.69999999999999\n",
       "\\item 6\n",
       "\\item -18.4\n",
       "\\item -3.10000000000002\n",
       "\\item 2.70000000000005\n",
       "\\item 8.09999999999997\n",
       "\\item 7.69999999999999\n",
       "\\item 4.70000000000005\n",
       "\\item 1.39999999999998\n",
       "\\item 2.80000000000001\n",
       "\\item 0.699999999999989\n",
       "\\item 2.89999999999998\n",
       "\\item 4.70000000000005\n",
       "\\item 5.39999999999998\n",
       "\\item -19.6\n",
       "\\item -2.89999999999998\n",
       "\\item 3.89999999999998\n",
       "\\item 6.40000000000003\n",
       "\\item 7.09999999999997\n",
       "\\item 4.20000000000005\n",
       "\\item -0.600000000000023\n",
       "\\item 4.19999999999999\n",
       "\\item 0.699999999999989\n",
       "\\item 3.60000000000002\n",
       "\\item 5.69999999999999\n",
       "\\item 4.40000000000003\n",
       "\\item -24\n",
       "\\item -6.20000000000005\n",
       "\\item 3\n",
       "\\item 9.60000000000002\n",
       "\\item 8.69999999999999\n",
       "\\item 5.30000000000001\n",
       "\\item 0.199999999999989\n",
       "\\item 1.80000000000001\n",
       "\\item 1.30000000000001\n",
       "\\item 2.69999999999999\n",
       "\\item 4.69999999999999\n",
       "\\item 4.30000000000001\n",
       "\\item -22\n",
       "\\item -3.60000000000002\n",
       "\\item 2.80000000000001\n",
       "\\item 7.90000000000003\n",
       "\\item 8.79999999999995\n",
       "\\item 4.70000000000005\n",
       "\\item -0.600000000000023\n",
       "\\item 3\n",
       "\\item 0.199999999999989\n",
       "\\item 2.19999999999999\n",
       "\\end{enumerate*}\n"
      ],
      "text/markdown": [
       "1. -1.90000000000001\n",
       "2. 0.400000000000006\n",
       "3. 6.5\n",
       "4. 1.90000000000001\n",
       "5. 2.09999999999999\n",
       "6. -0.900000000000006\n",
       "7. 2\n",
       "8. 1.20000000000002\n",
       "9. 2.5\n",
       "10. 4.5\n",
       "11. 7.79999999999998\n",
       "12. -21.5\n",
       "13. -2.89999999999998\n",
       "14. 0.399999999999977\n",
       "15. 7.5\n",
       "16. 2.10000000000002\n",
       "17. 3\n",
       "18. 0.5\n",
       "19. 0.799999999999983\n",
       "20. 0.599999999999994\n",
       "21. 1.90000000000003\n",
       "22. 4.19999999999999\n",
       "23. 8.5\n",
       "24. -18.7\n",
       "25. -2.19999999999999\n",
       "26. 1.09999999999999\n",
       "27. 4.80000000000001\n",
       "28. 4.5\n",
       "29. 3\n",
       "30. 0\n",
       "31. 0.599999999999966\n",
       "32. 1.40000000000003\n",
       "33. 4\n",
       "34. 3.30000000000001\n",
       "35. 10.9\n",
       "36. -19.6\n",
       "37. -3.29999999999995\n",
       "38. 1.09999999999997\n",
       "39. 6.30000000000001\n",
       "40. 5.10000000000002\n",
       "41. 3.29999999999995\n",
       "42. -0.399999999999977\n",
       "43. -0.199999999999989\n",
       "44. 1.09999999999997\n",
       "45. 5.10000000000002\n",
       "46. 5.39999999999998\n",
       "47. 10.5\n",
       "48. -20.5\n",
       "49. -1.79999999999995\n",
       "50. 2.29999999999995\n",
       "51. 5.20000000000005\n",
       "52. 4.09999999999997\n",
       "53. 3.90000000000003\n",
       "54. 0.0999999999999659\n",
       "55. -0.300000000000011\n",
       "56. 2.20000000000005\n",
       "57. 4.19999999999999\n",
       "58. 4.89999999999998\n",
       "59. 10.7\n",
       "60. -24\n",
       "61. -3.89999999999998\n",
       "62. 3.19999999999999\n",
       "63. 5.30000000000001\n",
       "64. 3.89999999999998\n",
       "65. 4.30000000000001\n",
       "66. -1.80000000000001\n",
       "67. 0.200000000000045\n",
       "68. 2.09999999999997\n",
       "69. 4.60000000000002\n",
       "70. 7.09999999999997\n",
       "71. 9\n",
       "72. -22.6\n",
       "73. -2.80000000000001\n",
       "74. 1.69999999999999\n",
       "75. 5.5\n",
       "76. 4\n",
       "77. 2.40000000000003\n",
       "78. -0.400000000000034\n",
       "79. 1.19999999999999\n",
       "80. 0.900000000000034\n",
       "81. 3.89999999999998\n",
       "82. 6.5\n",
       "83. 7.80000000000001\n",
       "84. -21.4\n",
       "85. -2.10000000000002\n",
       "86. 2.5\n",
       "87. 6.39999999999998\n",
       "88. 6.10000000000002\n",
       "89. 2.89999999999998\n",
       "90. -0.399999999999977\n",
       "91. 1.39999999999998\n",
       "92. 1.70000000000005\n",
       "93. 3.19999999999999\n",
       "94. 5.69999999999999\n",
       "95. 6.89999999999998\n",
       "96. -20.1\n",
       "97. -4.5\n",
       "98. 1.30000000000001\n",
       "99. 4.79999999999995\n",
       "100. 3.70000000000005\n",
       "101. 0.799999999999955\n",
       "102. -2.59999999999997\n",
       "103. 0.399999999999977\n",
       "104. 4.30000000000001\n",
       "105. 3.5\n",
       "106. 3.60000000000002\n",
       "107. 4.19999999999999\n",
       "108. -19.7\n",
       "109. -3.40000000000003\n",
       "110. 1.40000000000003\n",
       "111. 6.59999999999997\n",
       "112. 6.10000000000002\n",
       "113. 1.89999999999998\n",
       "114. 0.300000000000011\n",
       "115. 1\n",
       "116. -0.399999999999977\n",
       "117. 3.09999999999997\n",
       "118. 3.69999999999999\n",
       "119. 6\n",
       "120. -18.4\n",
       "121. -3.10000000000002\n",
       "122. 2.70000000000005\n",
       "123. 8.09999999999997\n",
       "124. 7.69999999999999\n",
       "125. 4.70000000000005\n",
       "126. 1.39999999999998\n",
       "127. 2.80000000000001\n",
       "128. 0.699999999999989\n",
       "129. 2.89999999999998\n",
       "130. 4.70000000000005\n",
       "131. 5.39999999999998\n",
       "132. -19.6\n",
       "133. -2.89999999999998\n",
       "134. 3.89999999999998\n",
       "135. 6.40000000000003\n",
       "136. 7.09999999999997\n",
       "137. 4.20000000000005\n",
       "138. -0.600000000000023\n",
       "139. 4.19999999999999\n",
       "140. 0.699999999999989\n",
       "141. 3.60000000000002\n",
       "142. 5.69999999999999\n",
       "143. 4.40000000000003\n",
       "144. -24\n",
       "145. -6.20000000000005\n",
       "146. 3\n",
       "147. 9.60000000000002\n",
       "148. 8.69999999999999\n",
       "149. 5.30000000000001\n",
       "150. 0.199999999999989\n",
       "151. 1.80000000000001\n",
       "152. 1.30000000000001\n",
       "153. 2.69999999999999\n",
       "154. 4.69999999999999\n",
       "155. 4.30000000000001\n",
       "156. -22\n",
       "157. -3.60000000000002\n",
       "158. 2.80000000000001\n",
       "159. 7.90000000000003\n",
       "160. 8.79999999999995\n",
       "161. 4.70000000000005\n",
       "162. -0.600000000000023\n",
       "163. 3\n",
       "164. 0.199999999999989\n",
       "165. 2.19999999999999\n",
       "\n",
       "\n"
      ],
      "text/plain": [
       "  [1]  -1.9   0.4   6.5   1.9   2.1  -0.9   2.0   1.2   2.5   4.5   7.8 -21.5\n",
       " [13]  -2.9   0.4   7.5   2.1   3.0   0.5   0.8   0.6   1.9   4.2   8.5 -18.7\n",
       " [25]  -2.2   1.1   4.8   4.5   3.0   0.0   0.6   1.4   4.0   3.3  10.9 -19.6\n",
       " [37]  -3.3   1.1   6.3   5.1   3.3  -0.4  -0.2   1.1   5.1   5.4  10.5 -20.5\n",
       " [49]  -1.8   2.3   5.2   4.1   3.9   0.1  -0.3   2.2   4.2   4.9  10.7 -24.0\n",
       " [61]  -3.9   3.2   5.3   3.9   4.3  -1.8   0.2   2.1   4.6   7.1   9.0 -22.6\n",
       " [73]  -2.8   1.7   5.5   4.0   2.4  -0.4   1.2   0.9   3.9   6.5   7.8 -21.4\n",
       " [85]  -2.1   2.5   6.4   6.1   2.9  -0.4   1.4   1.7   3.2   5.7   6.9 -20.1\n",
       " [97]  -4.5   1.3   4.8   3.7   0.8  -2.6   0.4   4.3   3.5   3.6   4.2 -19.7\n",
       "[109]  -3.4   1.4   6.6   6.1   1.9   0.3   1.0  -0.4   3.1   3.7   6.0 -18.4\n",
       "[121]  -3.1   2.7   8.1   7.7   4.7   1.4   2.8   0.7   2.9   4.7   5.4 -19.6\n",
       "[133]  -2.9   3.9   6.4   7.1   4.2  -0.6   4.2   0.7   3.6   5.7   4.4 -24.0\n",
       "[145]  -6.2   3.0   9.6   8.7   5.3   0.2   1.8   1.3   2.7   4.7   4.3 -22.0\n",
       "[157]  -3.6   2.8   7.9   8.8   4.7  -0.6   3.0   0.2   2.2"
      ]
     },
     "metadata": {},
     "output_type": "display_data"
    }
   ],
   "source": [
    "diff(data$Wisconsin_Employment_Rate, lag = 1)"
   ]
  },
  {
   "cell_type": "code",
   "execution_count": null,
   "metadata": {},
   "outputs": [],
   "source": []
  }
 ],
 "metadata": {
  "kernelspec": {
   "display_name": "R",
   "language": "R",
   "name": "ir"
  },
  "language_info": {
   "codemirror_mode": "r",
   "file_extension": ".r",
   "mimetype": "text/x-r-source",
   "name": "R",
   "pygments_lexer": "r",
   "version": "4.0.3"
  }
 },
 "nbformat": 4,
 "nbformat_minor": 4
}
