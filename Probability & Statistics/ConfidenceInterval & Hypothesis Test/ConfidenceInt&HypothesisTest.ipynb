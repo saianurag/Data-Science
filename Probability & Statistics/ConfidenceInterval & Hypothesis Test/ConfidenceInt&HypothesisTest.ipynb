{
 "cells": [
  {
   "cell_type": "markdown",
   "metadata": {},
   "source": [
    "<center><h1>Confidence Interval</h1></center>\n",
    "\n",
    "___\n",
    "\n",
    "Interval around sample mean which signifies that it contains the true population mean for a specific confidence level.\n",
    "\n",
    "<center>C . I = (μ − zα * SE, μ + zα * SE )</center>\n",
    "\n",
    "<img src = \"img/ci.png\">"
   ]
  },
  {
   "cell_type": "markdown",
   "metadata": {},
   "source": [
    "### Ques 1\n",
    "\n",
    "A random sample of 100 items is taken, producing a sample mean of 49. The population SD is 4.49. Construct a 95% confidence interval to estimate the population mean. \n",
    "Interpret this interval."
   ]
  },
  {
   "cell_type": "code",
   "execution_count": 1,
   "metadata": {},
   "outputs": [
    {
     "data": {
      "text/html": [
       "<style>\n",
       ".list-inline {list-style: none; margin:0; padding: 0}\n",
       ".list-inline>li {display: inline-block}\n",
       ".list-inline>li:not(:last-child)::after {content: \"\\00b7\"; padding: 0 .5ex}\n",
       "</style>\n",
       "<ol class=list-inline><li>48.2614607214988</li><li>49.7385392785012</li></ol>\n"
      ],
      "text/latex": [
       "\\begin{enumerate*}\n",
       "\\item 48.2614607214988\n",
       "\\item 49.7385392785012\n",
       "\\end{enumerate*}\n"
      ],
      "text/markdown": [
       "1. 48.2614607214988\n",
       "2. 49.7385392785012\n",
       "\n",
       "\n"
      ],
      "text/plain": [
       "[1] 48.26146 49.73854"
      ]
     },
     "metadata": {},
     "output_type": "display_data"
    }
   ],
   "source": [
    "qnorm( c(0.05, 0.95), 49, 4.49 / sqrt(100) )"
   ]
  },
  {
   "cell_type": "markdown",
   "metadata": {},
   "source": [
    "### Ques 2\n",
    "\n",
    "A random sample of 35 items is taken, producing a sample mean of 2.364 with a sample variance of 0.81. Assume x is normally distributed and construct a 95% confidence interval for the population mean. Also, compute the 99% CI and compared both these intervals? \n",
    "What is your observation?"
   ]
  },
  {
   "cell_type": "code",
   "execution_count": 2,
   "metadata": {},
   "outputs": [
    {
     "data": {
      "text/html": [
       "0.9"
      ],
      "text/latex": [
       "0.9"
      ],
      "text/markdown": [
       "0.9"
      ],
      "text/plain": [
       "[1] 0.9"
      ]
     },
     "metadata": {},
     "output_type": "display_data"
    },
    {
     "data": {
      "text/html": [
       "<style>\n",
       ".list-inline {list-style: none; margin:0; padding: 0}\n",
       ".list-inline>li {display: inline-block}\n",
       ".list-inline>li:not(:last-child)::after {content: \"\\00b7\"; padding: 0 .5ex}\n",
       "</style>\n",
       "<ol class=list-inline><li>2.06683505788324</li><li>2.66316494211676</li></ol>\n"
      ],
      "text/latex": [
       "\\begin{enumerate*}\n",
       "\\item 2.06683505788324\n",
       "\\item 2.66316494211676\n",
       "\\end{enumerate*}\n"
      ],
      "text/markdown": [
       "1. 2.06683505788324\n",
       "2. 2.66316494211676\n",
       "\n",
       "\n"
      ],
      "text/plain": [
       "[1] 2.066835 2.663165"
      ]
     },
     "metadata": {},
     "output_type": "display_data"
    },
    {
     "data": {
      "text/html": [
       "<style>\n",
       ".list-inline {list-style: none; margin:0; padding: 0}\n",
       ".list-inline>li {display: inline-block}\n",
       ".list-inline>li:not(:last-child)::after {content: \"\\00b7\"; padding: 0 .5ex}\n",
       "</style>\n",
       "<ol class=list-inline><li>1.97314484283723</li><li>2.75685515716277</li></ol>\n"
      ],
      "text/latex": [
       "\\begin{enumerate*}\n",
       "\\item 1.97314484283723\n",
       "\\item 2.75685515716277\n",
       "\\end{enumerate*}\n"
      ],
      "text/markdown": [
       "1. 1.97314484283723\n",
       "2. 2.75685515716277\n",
       "\n",
       "\n"
      ],
      "text/plain": [
       "[1] 1.973145 2.756855"
      ]
     },
     "metadata": {},
     "output_type": "display_data"
    }
   ],
   "source": [
    "stddev = sqrt(0.81)\n",
    "stddev\n",
    "\n",
    "# 95% CI\n",
    "qnorm( c(0.025, 0.975), 2.365, stddev / sqrt(35) )\n",
    "\n",
    "# 99% CI\n",
    "qnorm( c(0.005, 0.995), 2.365, stddev / sqrt(35) )"
   ]
  },
  {
   "cell_type": "markdown",
   "metadata": {},
   "source": [
    "### Ques 3\n",
    "\n",
    "An airline transports over 10,000 passengers daily, and the airline is curious what proportion of their passengers use mobile boarding passes instead of paper passes. They take an Simple Random Sampling (SRS) of 80 passengers and find that 60 of them use mobile boarding passes. Based on this sample, construct 95% confidence interval for the proportion of passengers who use mobile boarding passes?"
   ]
  },
  {
   "cell_type": "code",
   "execution_count": 3,
   "metadata": {},
   "outputs": [
    {
     "data": {
      "text/html": [
       "0.433012701892219"
      ],
      "text/latex": [
       "0.433012701892219"
      ],
      "text/markdown": [
       "0.433012701892219"
      ],
      "text/plain": [
       "[1] 0.4330127"
      ]
     },
     "metadata": {},
     "output_type": "display_data"
    },
    {
     "data": {
      "text/html": [
       "<style>\n",
       ".list-inline {list-style: none; margin:0; padding: 0}\n",
       ".list-inline>li {display: inline-block}\n",
       ".list-inline>li:not(:last-child)::after {content: \"\\00b7\"; padding: 0 .5ex}\n",
       "</style>\n",
       "<ol class=list-inline><li>0.655113651608875</li><li>0.844886348391124</li></ol>\n"
      ],
      "text/latex": [
       "\\begin{enumerate*}\n",
       "\\item 0.655113651608875\n",
       "\\item 0.844886348391124\n",
       "\\end{enumerate*}\n"
      ],
      "text/markdown": [
       "1. 0.655113651608875\n",
       "2. 0.844886348391124\n",
       "\n",
       "\n"
      ],
      "text/plain": [
       "[1] 0.6551137 0.8448863"
      ]
     },
     "metadata": {},
     "output_type": "display_data"
    }
   ],
   "source": [
    "stddev = sqrt(0.75*0.25)\n",
    "stddev\n",
    "\n",
    "# 95% CI\n",
    "qnorm( c(0.025, 0.975), 0.75, stddev / sqrt(80) )"
   ]
  },
  {
   "cell_type": "markdown",
   "metadata": {},
   "source": [
    "<center><h1>Hypothesis Testing</h1></center>\n",
    "\n",
    "___\n",
    "\n",
    "Test a hypothesis, to make inference on the population based on the sample.\n",
    "\n",
    "- Null Hypothesis ( Ho ) : A claim about the population\n",
    "- Alternate Hypothesis ( Ha ): Evidence against the claim \n",
    "\n",
    "<center><h3>Types of hypothesis</h3></center>\n",
    "\n",
    "<img src = \"img/ht.png\">"
   ]
  },
  {
   "cell_type": "markdown",
   "metadata": {},
   "source": [
    "### Ques 4 \n",
    "\n",
    "State the null and alternative hypotheses to be used in testing the following claims and determine generally where the critical region is located:\n",
    "\n",
    "a) The mean snowfall at Lake George during the month of February is 21.8 centimetres"
   ]
  },
  {
   "cell_type": "markdown",
   "metadata": {},
   "source": [
    "Ho:μ=21.8 | Ha :μ≠21.8 >> Critical region in both tails."
   ]
  },
  {
   "cell_type": "markdown",
   "metadata": {},
   "source": [
    "b) No more than 20% of the faculty at the local university contributed to the annual giving fund."
   ]
  },
  {
   "cell_type": "markdown",
   "metadata": {},
   "source": [
    "Ho : μ ≤ 0.2 | Ha : μ > 0.2 >> Critical region in right tail."
   ]
  },
  {
   "cell_type": "markdown",
   "metadata": {},
   "source": [
    "### Ques 5\n",
    "\n",
    "\n",
    "A car manufacturer claims that a model gives as good a mileage as over 25 miles per gallon. A consumer group asks 40 owners of this model to calculate their mpg and the mean value was found to be 22 with a standard deviation of 1.8. \n",
    "Do you support the manufacturer’s claim?  "
   ]
  },
  {
   "cell_type": "code",
   "execution_count": 4,
   "metadata": {},
   "outputs": [
    {
     "data": {
      "text/html": [
       "-10.5409255338946"
      ],
      "text/latex": [
       "-10.5409255338946"
      ],
      "text/markdown": [
       "-10.5409255338946"
      ],
      "text/plain": [
       "[1] -10.54093"
      ]
     },
     "metadata": {},
     "output_type": "display_data"
    },
    {
     "data": {
      "text/html": [
       "2.79727861809572e-26"
      ],
      "text/latex": [
       "2.79727861809572e-26"
      ],
      "text/markdown": [
       "2.79727861809572e-26"
      ],
      "text/plain": [
       "[1] 2.797279e-26"
      ]
     },
     "metadata": {},
     "output_type": "display_data"
    },
    {
     "data": {
      "text/html": [
       "-1.64485362695147"
      ],
      "text/latex": [
       "-1.64485362695147"
      ],
      "text/markdown": [
       "-1.64485362695147"
      ],
      "text/plain": [
       "[1] -1.644854"
      ]
     },
     "metadata": {},
     "output_type": "display_data"
    }
   ],
   "source": [
    "z = ( 22 - 25 ) / ( 1.8 / sqrt( 40 ) )\n",
    "z\n",
    "\n",
    "pnorm(z)\n",
    "\n",
    "qnorm(0.05)"
   ]
  },
  {
   "cell_type": "markdown",
   "metadata": {},
   "source": [
    "### Ques 6\n",
    "\n",
    "Suppose the mean weight of King Penguins found in an Antarctic colony last year was 15.4 kg. From a sample of 35 penguins at about the same time of this year in the same colony, the mean penguin weight is 14.6 kg. Assume the population standard deviation is 2.5 kg. At .05 significance level, can we reject the null hypothesis that the mean penguin weight does not differ from last year?"
   ]
  },
  {
   "cell_type": "code",
   "execution_count": 5,
   "metadata": {},
   "outputs": [
    {
     "data": {
      "text/html": [
       "-1.89314553059188"
      ],
      "text/latex": [
       "-1.89314553059188"
      ],
      "text/markdown": [
       "-1.89314553059188"
      ],
      "text/plain": [
       "[1] -1.893146"
      ]
     },
     "metadata": {},
     "output_type": "display_data"
    },
    {
     "data": {
      "text/html": [
       "0.0291692593434482"
      ],
      "text/latex": [
       "0.0291692593434482"
      ],
      "text/markdown": [
       "0.0291692593434482"
      ],
      "text/plain": [
       "[1] 0.02916926"
      ]
     },
     "metadata": {},
     "output_type": "display_data"
    },
    {
     "data": {
      "text/html": [
       "-1.95996398454005"
      ],
      "text/latex": [
       "-1.95996398454005"
      ],
      "text/markdown": [
       "-1.95996398454005"
      ],
      "text/plain": [
       "[1] -1.959964"
      ]
     },
     "metadata": {},
     "output_type": "display_data"
    }
   ],
   "source": [
    "z = ( 14.6 - 15.4 ) / ( 2.5 / sqrt( 35 ) )\n",
    "z\n",
    "\n",
    "pnorm(z)\n",
    "\n",
    "qnorm(0.025)"
   ]
  }
 ],
 "metadata": {
  "kernelspec": {
   "display_name": "R",
   "language": "R",
   "name": "ir"
  },
  "language_info": {
   "codemirror_mode": "r",
   "file_extension": ".r",
   "mimetype": "text/x-r-source",
   "name": "R",
   "pygments_lexer": "r",
   "version": "4.0.3"
  }
 },
 "nbformat": 4,
 "nbformat_minor": 4
}
