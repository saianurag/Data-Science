{
 "cells": [
  {
   "cell_type": "markdown",
   "metadata": {},
   "source": [
    "<center><h1> Statistical Test</h1></center>\n",
    "\n",
    "___\n",
    "\n",
    "<h2> Chisq-test</h2>\n",
    "\n",
    "* chi-distribution is a continuous probability distribution to check independence of two categorical variables.\n",
    "\n",
    "\n",
    "\n",
    "<center><b>χ2 =∑(Observed−Expected)2/Expected</b></center>\n",
    "\n"
   ]
  },
  {
   "cell_type": "markdown",
   "metadata": {},
   "source": [
    "### Question-1"
   ]
  },
  {
   "cell_type": "markdown",
   "metadata": {},
   "source": [
    " A survey is conducted by a gaming company that makes three video games. It wants to know if the preference of game depends on the gender of the player. Total number of participants is 1000. Here is the survey result.Is men's preference is different from women's preference? Check with 0.05 level of significance.\n",
    " \n",
    "<img src = \"img/Q-1.png\" width=\"400\" height=\"400\" >"
   ]
  },
  {
   "cell_type": "markdown",
   "metadata": {},
   "source": [
    "- H0 : Preference of game is independent of Gender \n",
    "- H1 : Preference of game is dependent on Gender \n",
    "\n",
    "\n",
    "Chi is always a one-tailed test.\n"
   ]
  },
  {
   "cell_type": "code",
   "execution_count": 1,
   "metadata": {},
   "outputs": [
    {
     "data": {
      "text/html": [
       "<table>\n",
       "<caption>A matrix: 2 × 3 of type dbl</caption>\n",
       "<tbody>\n",
       "\t<tr><td>200</td><td>150</td><td>50</td></tr>\n",
       "\t<tr><td>250</td><td>300</td><td>50</td></tr>\n",
       "</tbody>\n",
       "</table>\n"
      ],
      "text/latex": [
       "A matrix: 2 × 3 of type dbl\n",
       "\\begin{tabular}{lll}\n",
       "\t 200 & 150 & 50\\\\\n",
       "\t 250 & 300 & 50\\\\\n",
       "\\end{tabular}\n"
      ],
      "text/markdown": [
       "\n",
       "A matrix: 2 × 3 of type dbl\n",
       "\n",
       "| 200 | 150 | 50 |\n",
       "| 250 | 300 | 50 |\n",
       "\n"
      ],
      "text/plain": [
       "     [,1] [,2] [,3]\n",
       "[1,] 200  150  50  \n",
       "[2,] 250  300  50  "
      ]
     },
     "metadata": {},
     "output_type": "display_data"
    }
   ],
   "source": [
    "observed<-matrix(data=c(200,150,50,250,300,50),nrow = 2,byrow=T)\n",
    "observed"
   ]
  },
  {
   "cell_type": "code",
   "execution_count": 2,
   "metadata": {},
   "outputs": [
    {
     "data": {
      "text/plain": [
       "\n",
       "\tPearson's Chi-squared test\n",
       "\n",
       "data:  observed\n",
       "X-squared = 16.204, df = 2, p-value = 0.000303\n"
      ]
     },
     "metadata": {},
     "output_type": "display_data"
    }
   ],
   "source": [
    "chisq.test(observed)"
   ]
  },
  {
   "cell_type": "markdown",
   "metadata": {},
   "source": [
    "- Observe the values obtained when we have manually calculated the values and those obtained by using chisq.test"
   ]
  },
  {
   "cell_type": "markdown",
   "metadata": {},
   "source": [
    "### Question-2"
   ]
  },
  {
   "cell_type": "markdown",
   "metadata": {},
   "source": [
    "A national survey agency conducts a nationwide survey on consumer satisfac- tion and finds out the response distribution as follows:\n",
    "\n",
    "<img src = \"img/Q_2.1.png\" width=\"250\" height=\"250\" >\n",
    "\n",
    "A store manager wants to find if these results of customer survey apply to the customers of supermarket in her city. So, she interviews 207 randomly select- ed customers and asked them to rate their responses. The results of this local survey are given below.\n",
    "\n",
    "<img src = \"img/Q_2.2.png\" width=\"250\" height=\"250\" >\n",
    "\n",
    "Determine if the local responses from this survey are the same as expected frequencies of the national survey, at 95% confidence level.\n",
    " "
   ]
  },
  {
   "cell_type": "code",
   "execution_count": 3,
   "metadata": {},
   "outputs": [
    {
     "data": {
      "text/plain": [
       "\n",
       "\tChi-squared test for given probabilities\n",
       "\n",
       "data:  observed\n",
       "X-squared = 6.2491, df = 3, p-value = 0.1001\n"
      ]
     },
     "metadata": {},
     "output_type": "display_data"
    }
   ],
   "source": [
    "### Goodness of fit\n",
    "observed<-c(21,109,62,15)\n",
    "expected_proportions<- c(0.08,0.47,.34,.11)\n",
    "chisq.test(observed,p =expected_proportions)"
   ]
  },
  {
   "cell_type": "markdown",
   "metadata": {},
   "source": [
    "- Based on the observed p-value, since the value is greater than the significance level, we fail to reject the null hypothesis"
   ]
  },
  {
   "cell_type": "code",
   "execution_count": 4,
   "metadata": {},
   "outputs": [
    {
     "data": {
      "text/html": [
       "6.24908358768619"
      ],
      "text/latex": [
       "6.24908358768619"
      ],
      "text/markdown": [
       "6.24908358768619"
      ],
      "text/plain": [
       "[1] 6.249084"
      ]
     },
     "metadata": {},
     "output_type": "display_data"
    }
   ],
   "source": [
    "## Manual computation\n",
    "expected<-207*expected_proportions\n",
    "chi<-sum((observed-expected)^2/expected)\n",
    "chi"
   ]
  },
  {
   "cell_type": "code",
   "execution_count": 5,
   "metadata": {},
   "outputs": [
    {
     "data": {
      "text/html": [
       "0.100100998724592"
      ],
      "text/latex": [
       "0.100100998724592"
      ],
      "text/markdown": [
       "0.100100998724592"
      ],
      "text/plain": [
       "[1] 0.100101"
      ]
     },
     "metadata": {},
     "output_type": "display_data"
    }
   ],
   "source": [
    "pchisq(chi,df = 3,lower.tail=F)"
   ]
  },
  {
   "cell_type": "code",
   "execution_count": 6,
   "metadata": {},
   "outputs": [
    {
     "data": {
      "text/html": [
       "7.81472790325118"
      ],
      "text/latex": [
       "7.81472790325118"
      ],
      "text/markdown": [
       "7.81472790325118"
      ],
      "text/plain": [
       "[1] 7.814728"
      ]
     },
     "metadata": {},
     "output_type": "display_data"
    }
   ],
   "source": [
    "qchisq(0.05,3,lower.tail=F)"
   ]
  },
  {
   "cell_type": "markdown",
   "metadata": {},
   "source": [
    "- Comparing the calculated chisq value with the chisq value corresponding to significance level, since the chisq calculated < chisq significant level, we fail to reject the null hypothesis"
   ]
  },
  {
   "cell_type": "markdown",
   "metadata": {},
   "source": [
    "\n",
    "<h2> F-test</h2>\n",
    "\n",
    "* f-distribution is a continuous probability distribution to check difference in variation in two populations.\n",
    "\n",
    "* The ratio of variances of the 2 samples should be close to 1 if they come from same population or 2 populations with same variances.\n",
    "\n",
    "\n",
    "\n",
    "<center><b>F = s12/ s2</b></center>\n"
   ]
  },
  {
   "cell_type": "markdown",
   "metadata": {},
   "source": [
    "### Question-3"
   ]
  },
  {
   "cell_type": "markdown",
   "metadata": {},
   "source": [
    "A laptop computer maker uses battery packs supplied by two companies, A and B. While both brands have the same average battery life between charges (LBC), the computer maker seems to receive more complaints about shorter LBC than expected for battery packs supplied by company B. The computer maker suspects that this could be caused by higher variance in LBC for Brand B. To check that, ten new battery packs from each brand are selected, installed on the same models of laptops, and the laptops are allowed to run until the battery packs are completely discharged. The following are the observed LBCs in hours.\n",
    "\n",
    "- Brand A = 3.2, 3.4, 2.8, 3, 3, 3, 2.8, 2.9, 3, 3\n",
    "- Brand B = 3, 3.5, 2.9, 3.1, 2.3, 2, 3, 2.9, 3, 4.1\n",
    "\n",
    "Test, at the 10% level of significance, whether the variance of both the brands are similar."
   ]
  },
  {
   "cell_type": "code",
   "execution_count": 7,
   "metadata": {},
   "outputs": [],
   "source": [
    "brandA=c(3.2,3.4,2.8,3,3,3,2.8,2.9,3,3)\n",
    "brandB=c(3,3.5,2.9,3.1,2.3,2,3,2.9,3,4.1)"
   ]
  },
  {
   "cell_type": "code",
   "execution_count": 8,
   "metadata": {},
   "outputs": [
    {
     "data": {
      "text/html": [
       "0.0321111111111111"
      ],
      "text/latex": [
       "0.0321111111111111"
      ],
      "text/markdown": [
       "0.0321111111111111"
      ],
      "text/plain": [
       "[1] 0.03211111"
      ]
     },
     "metadata": {},
     "output_type": "display_data"
    },
    {
     "data": {
      "text/html": [
       "0.330666666666667"
      ],
      "text/latex": [
       "0.330666666666667"
      ],
      "text/markdown": [
       "0.330666666666667"
      ],
      "text/plain": [
       "[1] 0.3306667"
      ]
     },
     "metadata": {},
     "output_type": "display_data"
    }
   ],
   "source": [
    "var(brandA)\n",
    "var(brandB)"
   ]
  },
  {
   "cell_type": "code",
   "execution_count": 9,
   "metadata": {},
   "outputs": [],
   "source": [
    "F=var(brandA)/var(brandB)"
   ]
  },
  {
   "cell_type": "code",
   "execution_count": 10,
   "metadata": {},
   "outputs": [
    {
     "data": {
      "text/html": [
       "0.0971102150537635"
      ],
      "text/latex": [
       "0.0971102150537635"
      ],
      "text/markdown": [
       "0.0971102150537635"
      ],
      "text/plain": [
       "[1] 0.09711022"
      ]
     },
     "metadata": {},
     "output_type": "display_data"
    }
   ],
   "source": [
    "F"
   ]
  },
  {
   "cell_type": "code",
   "execution_count": 11,
   "metadata": {},
   "outputs": [
    {
     "data": {
      "text/html": [
       "0.314574906151308"
      ],
      "text/latex": [
       "0.314574906151308"
      ],
      "text/markdown": [
       "0.314574906151308"
      ],
      "text/plain": [
       "[1] 0.3145749"
      ]
     },
     "metadata": {},
     "output_type": "display_data"
    }
   ],
   "source": [
    "qf(0.05,df1=9,df2=9)"
   ]
  },
  {
   "cell_type": "code",
   "execution_count": 12,
   "metadata": {},
   "outputs": [
    {
     "data": {
      "text/html": [
       "3.17889310445827"
      ],
      "text/latex": [
       "3.17889310445827"
      ],
      "text/markdown": [
       "3.17889310445827"
      ],
      "text/plain": [
       "[1] 3.178893"
      ]
     },
     "metadata": {},
     "output_type": "display_data"
    }
   ],
   "source": [
    "qf(0.05,df1=9,df2=9,lower.tail = F)"
   ]
  },
  {
   "cell_type": "markdown",
   "metadata": {},
   "source": [
    "- If the computed F-value lies in between the confidence interval we fail to reject null else reject null\n",
    "- CI= 0.314 and 3.17\n",
    "- since the f-calculated <0.314, we reject the null hypothesis"
   ]
  },
  {
   "cell_type": "code",
   "execution_count": null,
   "metadata": {},
   "outputs": [],
   "source": []
  }
 ],
 "metadata": {
  "kernelspec": {
   "display_name": "R",
   "language": "R",
   "name": "ir"
  },
  "language_info": {
   "codemirror_mode": "r",
   "file_extension": ".r",
   "mimetype": "text/x-r-source",
   "name": "R",
   "pygments_lexer": "r",
   "version": "4.0.3"
  }
 },
 "nbformat": 4,
 "nbformat_minor": 4
}
