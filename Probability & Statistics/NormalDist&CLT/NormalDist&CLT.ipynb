{
 "cells": [
  {
   "cell_type": "markdown",
   "metadata": {},
   "source": [
    "<center><h1>Normal Distribution</h1></center>\n",
    "\n",
    "The normal distribution models the probability of samples that are symmetrical about its mean.\n",
    "The empirical rule 68-95-99.7 represent the percentage of values that lie around one, two, three standard deviations from the mean respectively.\n",
    "\n",
    "<img src = \"img/normal.png\" width=\"400\" height=\"600\">\n",
    "\n",
    "The simplest case of normal distribution is standard normal distribution, when μ = 0 and σ = 1.\n",
    "\n",
    "___"
   ]
  },
  {
   "cell_type": "markdown",
   "metadata": {},
   "source": [
    "### Ques 1\n",
    "\n",
    "1. a)\tWhat is the area enclosed by the normal distribution curve between x = 1 and x = -1 ?"
   ]
  },
  {
   "cell_type": "code",
   "execution_count": 1,
   "metadata": {},
   "outputs": [
    {
     "data": {
      "text/html": [
       "0.682689492137086"
      ],
      "text/latex": [
       "0.682689492137086"
      ],
      "text/markdown": [
       "0.682689492137086"
      ],
      "text/plain": [
       "[1] 0.6826895"
      ]
     },
     "metadata": {},
     "output_type": "display_data"
    }
   ],
   "source": [
    "pnorm(1) - pnorm(-1)"
   ]
  },
  {
   "cell_type": "markdown",
   "metadata": {},
   "source": [
    "b) How probable is a 2-sigma process ?"
   ]
  },
  {
   "cell_type": "code",
   "execution_count": 2,
   "metadata": {},
   "outputs": [
    {
     "data": {
      "text/html": [
       "0.954499736103642"
      ],
      "text/latex": [
       "0.954499736103642"
      ],
      "text/markdown": [
       "0.954499736103642"
      ],
      "text/plain": [
       "[1] 0.9544997"
      ]
     },
     "metadata": {},
     "output_type": "display_data"
    }
   ],
   "source": [
    "pnorm(2) - pnorm(-2)"
   ]
  },
  {
   "cell_type": "markdown",
   "metadata": {},
   "source": [
    "c) What is the area enclosed by the normal distribution curve between x = 3 and x = -3 ?"
   ]
  },
  {
   "cell_type": "code",
   "execution_count": 3,
   "metadata": {},
   "outputs": [
    {
     "data": {
      "text/html": [
       "0.99730020393674"
      ],
      "text/latex": [
       "0.99730020393674"
      ],
      "text/markdown": [
       "0.99730020393674"
      ],
      "text/plain": [
       "[1] 0.9973002"
      ]
     },
     "metadata": {},
     "output_type": "display_data"
    }
   ],
   "source": [
    "pnorm(3) - pnorm(-3)"
   ]
  },
  {
   "cell_type": "markdown",
   "metadata": {},
   "source": [
    "d) What is the area enclosed by the normal distribution curve between the points x = -1.96 and x = +1.96 ?"
   ]
  },
  {
   "cell_type": "code",
   "execution_count": 4,
   "metadata": {},
   "outputs": [
    {
     "data": {
      "text/html": [
       "0.950004209703559"
      ],
      "text/latex": [
       "0.950004209703559"
      ],
      "text/markdown": [
       "0.950004209703559"
      ],
      "text/plain": [
       "[1] 0.9500042"
      ]
     },
     "metadata": {},
     "output_type": "display_data"
    }
   ],
   "source": [
    "pnorm(1.96) - pnorm(-1.96)"
   ]
  },
  {
   "cell_type": "markdown",
   "metadata": {},
   "source": [
    "### Ques 2\n",
    "\n",
    "2. a) At what point (x) is the area under the curve to the left of x equal to 0.5?"
   ]
  },
  {
   "cell_type": "code",
   "execution_count": 5,
   "metadata": {},
   "outputs": [
    {
     "data": {
      "text/html": [
       "0"
      ],
      "text/latex": [
       "0"
      ],
      "text/markdown": [
       "0"
      ],
      "text/plain": [
       "[1] 0"
      ]
     },
     "metadata": {},
     "output_type": "display_data"
    }
   ],
   "source": [
    "qnorm(0.5)"
   ]
  },
  {
   "cell_type": "markdown",
   "metadata": {},
   "source": [
    "b) At what point (x) is the area under the curve to the left of x equal to 0.95?"
   ]
  },
  {
   "cell_type": "code",
   "execution_count": 6,
   "metadata": {},
   "outputs": [
    {
     "data": {
      "text/html": [
       "1.64485362695147"
      ],
      "text/latex": [
       "1.64485362695147"
      ],
      "text/markdown": [
       "1.64485362695147"
      ],
      "text/plain": [
       "[1] 1.644854"
      ]
     },
     "metadata": {},
     "output_type": "display_data"
    }
   ],
   "source": [
    "qnorm(0.95)"
   ]
  },
  {
   "cell_type": "markdown",
   "metadata": {},
   "source": [
    "c) At what point (x) is the area under the curve to the left of x equal to 0.995?"
   ]
  },
  {
   "cell_type": "code",
   "execution_count": 7,
   "metadata": {},
   "outputs": [
    {
     "data": {
      "text/html": [
       "2.5758293035489"
      ],
      "text/latex": [
       "2.5758293035489"
      ],
      "text/markdown": [
       "2.5758293035489"
      ],
      "text/plain": [
       "[1] 2.575829"
      ]
     },
     "metadata": {},
     "output_type": "display_data"
    }
   ],
   "source": [
    "qnorm(0.995)"
   ]
  },
  {
   "cell_type": "markdown",
   "metadata": {},
   "source": [
    "### Ques 3\n",
    "\n",
    "3. Compute Z score for the elements in the vector below\n",
    "82, 72, 85, 14, 66, 15, 23, 78, 16, 38, 92, 17"
   ]
  },
  {
   "cell_type": "code",
   "execution_count": 8,
   "metadata": {},
   "outputs": [
    {
     "data": {
      "text/html": [
       "<style>\n",
       ".list-inline {list-style: none; margin:0; padding: 0}\n",
       ".list-inline>li {display: inline-block}\n",
       ".list-inline>li:not(:last-child)::after {content: \"\\00b7\"; padding: 0 .5ex}\n",
       "</style>\n",
       "<ol class=list-inline><li>1.00917313641618</li><li>0.695440555146903</li><li>1.10329291079697</li><li>-1.12420841621492</li><li>0.507201006385335</li><li>-1.09283515808799</li><li>-0.841849093072567</li><li>0.883680103908471</li><li>-1.06146189996106</li><li>-0.371250221168648</li><li>1.32290571768546</li><li>-1.03008864183414</li></ol>\n"
      ],
      "text/latex": [
       "\\begin{enumerate*}\n",
       "\\item 1.00917313641618\n",
       "\\item 0.695440555146903\n",
       "\\item 1.10329291079697\n",
       "\\item -1.12420841621492\n",
       "\\item 0.507201006385335\n",
       "\\item -1.09283515808799\n",
       "\\item -0.841849093072567\n",
       "\\item 0.883680103908471\n",
       "\\item -1.06146189996106\n",
       "\\item -0.371250221168648\n",
       "\\item 1.32290571768546\n",
       "\\item -1.03008864183414\n",
       "\\end{enumerate*}\n"
      ],
      "text/markdown": [
       "1. 1.00917313641618\n",
       "2. 0.695440555146903\n",
       "3. 1.10329291079697\n",
       "4. -1.12420841621492\n",
       "5. 0.507201006385335\n",
       "6. -1.09283515808799\n",
       "7. -0.841849093072567\n",
       "8. 0.883680103908471\n",
       "9. -1.06146189996106\n",
       "10. -0.371250221168648\n",
       "11. 1.32290571768546\n",
       "12. -1.03008864183414\n",
       "\n",
       "\n"
      ],
      "text/plain": [
       " [1]  1.0091731  0.6954406  1.1032929 -1.1242084  0.5072010 -1.0928352\n",
       " [7] -0.8418491  0.8836801 -1.0614619 -0.3712502  1.3229057 -1.0300886"
      ]
     },
     "metadata": {},
     "output_type": "display_data"
    },
    {
     "data": {
      "text/html": [
       "<table>\n",
       "<caption>A matrix: 12 × 1 of type dbl</caption>\n",
       "<tbody>\n",
       "\t<tr><td> 1.0091731</td></tr>\n",
       "\t<tr><td> 0.6954406</td></tr>\n",
       "\t<tr><td> 1.1032929</td></tr>\n",
       "\t<tr><td>-1.1242084</td></tr>\n",
       "\t<tr><td> 0.5072010</td></tr>\n",
       "\t<tr><td>-1.0928352</td></tr>\n",
       "\t<tr><td>-0.8418491</td></tr>\n",
       "\t<tr><td> 0.8836801</td></tr>\n",
       "\t<tr><td>-1.0614619</td></tr>\n",
       "\t<tr><td>-0.3712502</td></tr>\n",
       "\t<tr><td> 1.3229057</td></tr>\n",
       "\t<tr><td>-1.0300886</td></tr>\n",
       "</tbody>\n",
       "</table>\n"
      ],
      "text/latex": [
       "A matrix: 12 × 1 of type dbl\n",
       "\\begin{tabular}{l}\n",
       "\t  1.0091731\\\\\n",
       "\t  0.6954406\\\\\n",
       "\t  1.1032929\\\\\n",
       "\t -1.1242084\\\\\n",
       "\t  0.5072010\\\\\n",
       "\t -1.0928352\\\\\n",
       "\t -0.8418491\\\\\n",
       "\t  0.8836801\\\\\n",
       "\t -1.0614619\\\\\n",
       "\t -0.3712502\\\\\n",
       "\t  1.3229057\\\\\n",
       "\t -1.0300886\\\\\n",
       "\\end{tabular}\n"
      ],
      "text/markdown": [
       "\n",
       "A matrix: 12 × 1 of type dbl\n",
       "\n",
       "|  1.0091731 |\n",
       "|  0.6954406 |\n",
       "|  1.1032929 |\n",
       "| -1.1242084 |\n",
       "|  0.5072010 |\n",
       "| -1.0928352 |\n",
       "| -0.8418491 |\n",
       "|  0.8836801 |\n",
       "| -1.0614619 |\n",
       "| -0.3712502 |\n",
       "|  1.3229057 |\n",
       "| -1.0300886 |\n",
       "\n"
      ],
      "text/plain": [
       "      [,1]      \n",
       " [1,]  1.0091731\n",
       " [2,]  0.6954406\n",
       " [3,]  1.1032929\n",
       " [4,] -1.1242084\n",
       " [5,]  0.5072010\n",
       " [6,] -1.0928352\n",
       " [7,] -0.8418491\n",
       " [8,]  0.8836801\n",
       " [9,] -1.0614619\n",
       "[10,] -0.3712502\n",
       "[11,]  1.3229057\n",
       "[12,] -1.0300886"
      ]
     },
     "metadata": {},
     "output_type": "display_data"
    }
   ],
   "source": [
    "scores = c(82, 72, 85, 14, 66, 15, 23, 78, 16, 38, 92, 17)\n",
    "\n",
    "(scores - mean(scores))/sd(scores)\n",
    "# OR\n",
    "scale(scores)"
   ]
  },
  {
   "cell_type": "markdown",
   "metadata": {},
   "source": [
    "### Ques 4\n",
    "\n",
    "4.\tPlayer A scores an average of 70 runs with SD of 20 runs. \n",
    "Player B scores an average of 40 runs with SD of 10 runs. \n",
    "In a particular game, player A scored 75 runs and player B scored 55 runs. \n",
    "\n",
    "a) Which of these two players have done better when compared to their own personal track records? \n",
    "\n",
    "b) Which of these two players has performed more consistent when compared to their own personal track records?"
   ]
  },
  {
   "cell_type": "code",
   "execution_count": 9,
   "metadata": {},
   "outputs": [
    {
     "data": {
      "text/html": [
       "0.25"
      ],
      "text/latex": [
       "0.25"
      ],
      "text/markdown": [
       "0.25"
      ],
      "text/plain": [
       "[1] 0.25"
      ]
     },
     "metadata": {},
     "output_type": "display_data"
    },
    {
     "data": {
      "text/html": [
       "1.5"
      ],
      "text/latex": [
       "1.5"
      ],
      "text/markdown": [
       "1.5"
      ],
      "text/plain": [
       "[1] 1.5"
      ]
     },
     "metadata": {},
     "output_type": "display_data"
    }
   ],
   "source": [
    "a = (75 - 70) / 20\n",
    "a\n",
    "a = (55 - 40) / 10\n",
    "a"
   ]
  },
  {
   "cell_type": "markdown",
   "metadata": {},
   "source": [
    "### Ques 5\n",
    "\n",
    "5. A certain type of light bulb has an average life of 500 hours, with a standard deviation of 100 hours. \n",
    "The life of the bulb can be closely approximated by a normal curve. \n",
    "An amusement park buys and installs 10,000 such bulbs.\n",
    "\n",
    "Find the probability of a bulb to last for each period of time.\n",
    "\n",
    "a) At least 750 hours"
   ]
  },
  {
   "cell_type": "code",
   "execution_count": 10,
   "metadata": {},
   "outputs": [
    {
     "data": {
      "text/html": [
       "0.00620966532577616"
      ],
      "text/latex": [
       "0.00620966532577616"
      ],
      "text/markdown": [
       "0.00620966532577616"
      ],
      "text/plain": [
       "[1] 0.006209665"
      ]
     },
     "metadata": {},
     "output_type": "display_data"
    },
    {
     "data": {
      "text/html": [
       "0.00620966532577613"
      ],
      "text/latex": [
       "0.00620966532577613"
      ],
      "text/markdown": [
       "0.00620966532577613"
      ],
      "text/plain": [
       "[1] 0.006209665"
      ]
     },
     "metadata": {},
     "output_type": "display_data"
    }
   ],
   "source": [
    "# P( X >= 750 )\n",
    "\n",
    "1 - pnorm(750, 500, 100)\n",
    "# OR\n",
    "pnorm(750, 500, 100, lower.tail = F)"
   ]
  },
  {
   "cell_type": "markdown",
   "metadata": {},
   "source": [
    "b) Less than 500 hours"
   ]
  },
  {
   "cell_type": "code",
   "execution_count": 11,
   "metadata": {},
   "outputs": [
    {
     "data": {
      "text/html": [
       "0.5"
      ],
      "text/latex": [
       "0.5"
      ],
      "text/markdown": [
       "0.5"
      ],
      "text/plain": [
       "[1] 0.5"
      ]
     },
     "metadata": {},
     "output_type": "display_data"
    }
   ],
   "source": [
    "# P( X < 500 )\n",
    "\n",
    "pnorm(0)"
   ]
  },
  {
   "cell_type": "markdown",
   "metadata": {},
   "source": [
    "c) Between 350 and 550 hours"
   ]
  },
  {
   "cell_type": "code",
   "execution_count": 12,
   "metadata": {},
   "outputs": [
    {
     "data": {
      "text/html": [
       "0.624655260005155"
      ],
      "text/latex": [
       "0.624655260005155"
      ],
      "text/markdown": [
       "0.624655260005155"
      ],
      "text/plain": [
       "[1] 0.6246553"
      ]
     },
     "metadata": {},
     "output_type": "display_data"
    }
   ],
   "source": [
    "# P( 350 < x <= 550 ) = P( X <= 550 ) - P( X <= 350 )\n",
    "\n",
    "pnorm(550, 500, 100) - pnorm(350, 500, 100)"
   ]
  },
  {
   "cell_type": "markdown",
   "metadata": {},
   "source": [
    "<center><h1>Central Limit Theorem</h1></center>\n",
    "\n",
    "Central Limit Theorem states that as the sample size increases, the distribution of mean of samples of size (n) tend towards a normal distribution, even when the original variable is not normally distributed.\n",
    "The distribution of mean of samples of size (n) is called the sampling distribution of sample mean.\n",
    "\n",
    "<img src = \"img/clt.png\" width=\"400\" height=\"400\">\n",
    "\n",
    "CLT says that mean of sampling mean distribution of size (n) is μ and standard deviation is σ/sqrt(n).\n",
    "\n",
    "___"
   ]
  },
  {
   "cell_type": "markdown",
   "metadata": {},
   "source": [
    "### Ques 6\n",
    "\n",
    "6.\tMean height of a sample of 30 students in a college is 170cm. \n",
    "Standard Deviation of the sample is 7cm. \n",
    "What is the probability that the mean of height of all the students of that college is between 169cm and 171cm?"
   ]
  },
  {
   "cell_type": "code",
   "execution_count": 13,
   "metadata": {},
   "outputs": [
    {
     "data": {
      "text/html": [
       "0.566056183702133"
      ],
      "text/latex": [
       "0.566056183702133"
      ],
      "text/markdown": [
       "0.566056183702133"
      ],
      "text/plain": [
       "[1] 0.5660562"
      ]
     },
     "metadata": {},
     "output_type": "display_data"
    }
   ],
   "source": [
    "# P(169 < H < 171)\n",
    "# P(H < 171) - P(H < 169)\n",
    "\n",
    "pnorm(171, 170, 7 / sqrt(30) ) - pnorm(169, 170, 7 / sqrt(30) )"
   ]
  },
  {
   "cell_type": "markdown",
   "metadata": {},
   "source": [
    "### Ques 7\n",
    "\n",
    "7. A population of 25-28 year-old males has a mean salary of 29,321 with a standard deviation of 2,120. If a sample of 100 men is taken, what is the probability their mean salaries will be less than 29,000?"
   ]
  },
  {
   "cell_type": "code",
   "execution_count": 14,
   "metadata": {},
   "outputs": [
    {
     "data": {
      "text/html": [
       "0.0649937802480811"
      ],
      "text/latex": [
       "0.0649937802480811"
      ],
      "text/markdown": [
       "0.0649937802480811"
      ],
      "text/plain": [
       "[1] 0.06499378"
      ]
     },
     "metadata": {},
     "output_type": "display_data"
    }
   ],
   "source": [
    "pnorm(29000, 29321, 2120 / sqrt(100) )"
   ]
  },
  {
   "cell_type": "markdown",
   "metadata": {},
   "source": [
    "### Ques 8\n",
    "\n",
    "8. According to Health Science Institute , the distribution of blood sugar levels for 40-80 year old males ( normally distributed ) has a mean of 121mg/dl with a standard deviation of 25mg/dl.\n",
    "\n",
    "a) What is the probability that the blood sugar of a male is <130mg/dl?"
   ]
  },
  {
   "cell_type": "code",
   "execution_count": 15,
   "metadata": {},
   "outputs": [
    {
     "data": {
      "text/html": [
       "0.640576433217991"
      ],
      "text/latex": [
       "0.640576433217991"
      ],
      "text/markdown": [
       "0.640576433217991"
      ],
      "text/plain": [
       "[1] 0.6405764"
      ]
     },
     "metadata": {},
     "output_type": "display_data"
    }
   ],
   "source": [
    "pnorm(130, 121, 25)"
   ]
  },
  {
   "cell_type": "markdown",
   "metadata": {},
   "source": [
    "b) What is the probability that the average serum cholesterol level of a random sample of 20 males will be >120mg/dl?"
   ]
  },
  {
   "cell_type": "code",
   "execution_count": 16,
   "metadata": {},
   "outputs": [
    {
     "data": {
      "text/html": [
       "0.570986171506239"
      ],
      "text/latex": [
       "0.570986171506239"
      ],
      "text/markdown": [
       "0.570986171506239"
      ],
      "text/plain": [
       "[1] 0.5709862"
      ]
     },
     "metadata": {},
     "output_type": "display_data"
    },
    {
     "data": {
      "text/html": [
       "0.570986171506239"
      ],
      "text/latex": [
       "0.570986171506239"
      ],
      "text/markdown": [
       "0.570986171506239"
      ],
      "text/plain": [
       "[1] 0.5709862"
      ]
     },
     "metadata": {},
     "output_type": "display_data"
    }
   ],
   "source": [
    "1 - pnorm(120, 121, 25/sqrt(20))\n",
    "# OR\n",
    "pnorm(120, 121, 25/sqrt(20), lower.tail = F)"
   ]
  }
 ],
 "metadata": {
  "kernelspec": {
   "display_name": "R",
   "language": "R",
   "name": "ir"
  },
  "language_info": {
   "codemirror_mode": "r",
   "file_extension": ".r",
   "mimetype": "text/x-r-source",
   "name": "R",
   "pygments_lexer": "r",
   "version": "4.0.3"
  }
 },
 "nbformat": 4,
 "nbformat_minor": 4
}
