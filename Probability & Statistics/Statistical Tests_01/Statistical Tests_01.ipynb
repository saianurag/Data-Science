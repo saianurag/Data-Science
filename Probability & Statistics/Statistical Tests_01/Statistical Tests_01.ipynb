{
 "cells": [
  {
   "cell_type": "markdown",
   "metadata": {},
   "source": [
    "<center><h1> Statistical Test</h1></center>\n",
    "\n",
    "___\n",
    "\n",
    "<h2> t-test</h2>\n",
    "\n",
    "t-distribution is a continuous probability distribution, derived from normal distribution, used when sample is too small to capture the population distribution. \n",
    "\n",
    "t-test is used in place of z-test when: \n",
    "* Population variance is not known \n",
    "* Sample size is small (< 30) \n",
    "\n",
    "<center><b>t = (x̅ − μ)/(s/√ n)</b></center>\n",
    "\n",
    "\n",
    "<img src = \"img/t-test.png\">"
   ]
  },
  {
   "cell_type": "markdown",
   "metadata": {},
   "source": [
    "### Question-1"
   ]
  },
  {
   "cell_type": "markdown",
   "metadata": {},
   "source": [
    "A coffee shop relocates to Italy and wants to make sure that all lattes are consistent. They believe that each latte has an average of 4 oz of espresso. If this is not the case, they must increase or decrease the amount. A random sample of 25 lattes shows a mean of 4.6 oz of espresso and a standard deviation of .22 oz. Use alpha = .05 and run a one sample t-test and compare with the known population mean.\n"
   ]
  },
  {
   "cell_type": "markdown",
   "metadata": {},
   "source": [
    "- Frame the hypothesis\n",
    "    - Null Hypothesis: H0: mean= 40z\n",
    "    - Alternate Hypothesis: H1: mean != 4oz\n",
    "- Expected mean: 4 oz\n",
    "- Observed: 4.6\n",
    "- sd: 0.22\n",
    "- samples: 25\n"
   ]
  },
  {
   "cell_type": "code",
   "execution_count": 1,
   "metadata": {},
   "outputs": [
    {
     "data": {
      "text/html": [
       "13.6363636363636"
      ],
      "text/latex": [
       "13.6363636363636"
      ],
      "text/markdown": [
       "13.6363636363636"
      ],
      "text/plain": [
       "[1] 13.63636"
      ]
     },
     "metadata": {},
     "output_type": "display_data"
    }
   ],
   "source": [
    "mu = 4\n",
    "n = 25\n",
    "xbar = 4.6\n",
    "s = 0.22\n",
    "alpha = 0.05 # significance level\n",
    "\n",
    "#lets calulate the test statistic\n",
    "\n",
    "t_calc= (xbar-mu)/(s/sqrt(n))\n",
    "t_calc"
   ]
  },
  {
   "cell_type": "code",
   "execution_count": 2,
   "metadata": {},
   "outputs": [
    {
     "data": {
      "text/html": [
       "-2.06389856162803"
      ],
      "text/latex": [
       "-2.06389856162803"
      ],
      "text/markdown": [
       "-2.06389856162803"
      ],
      "text/plain": [
       "[1] -2.063899"
      ]
     },
     "metadata": {},
     "output_type": "display_data"
    },
    {
     "data": {
      "text/html": [
       "2.06389856162803"
      ],
      "text/latex": [
       "2.06389856162803"
      ],
      "text/markdown": [
       "2.06389856162803"
      ],
      "text/plain": [
       "[1] 2.063899"
      ]
     },
     "metadata": {},
     "output_type": "display_data"
    }
   ],
   "source": [
    "## To calculate the critical regions\n",
    "alpha=0.05\n",
    "\n",
    "## since this is a two tailed test, the critical region lies on both sides.\n",
    "left_critical<-qt(p = 0.025, df = n-1) ## critical region on left\n",
    "right_critical<-qt(p = 0.025, df = n-1,lower.tail=F) ## critical region on right\n",
    "\n",
    "left_critical\n",
    "right_critical"
   ]
  },
  {
   "cell_type": "markdown",
   "metadata": {},
   "source": [
    "Decision Making method 1: If the t_calculated lies between the two critical values then its ok\n",
    "Else the t lies in critical region\n",
    "Observe that 13.63> 2.06 i.e lies in critical region. If value lies in critical region then we reject the null hypothesis"
   ]
  },
  {
   "cell_type": "code",
   "execution_count": 20,
   "metadata": {},
   "outputs": [
    {
     "data": {
      "text/html": [
       "0.999999597543092"
      ],
      "text/latex": [
       "0.999999597543092"
      ],
      "text/markdown": [
       "0.999999597543092"
      ],
      "text/plain": [
       "[1] 0.9999996"
      ]
     },
     "metadata": {},
     "output_type": "display_data"
    }
   ],
   "source": [
    "## Method2:\n",
    "p_cal= pt(t_calc,df=n-1,lower.tail = T)\n",
    "significance_level=0.05/2\n",
    "p_cal"
   ]
  },
  {
   "cell_type": "code",
   "execution_count": 12,
   "metadata": {},
   "outputs": [
    {
     "data": {
      "text/html": [
       "99.975"
      ],
      "text/latex": [
       "99.975"
      ],
      "text/markdown": [
       "99.975"
      ],
      "text/plain": [
       "[1] 99.975"
      ]
     },
     "metadata": {},
     "output_type": "display_data"
    }
   ],
   "source": [
    "100-0.025"
   ]
  },
  {
   "cell_type": "markdown",
   "metadata": {},
   "source": [
    " Here pvalue<significance_level hence reject the null hypothesis"
   ]
  },
  {
   "cell_type": "markdown",
   "metadata": {},
   "source": [
    "### Question-2"
   ]
  },
  {
   "cell_type": "markdown",
   "metadata": {},
   "source": [
    "An outbreak of Salmonella-related illness was attributed to ice cream produced at a certain factory. Scientists measured the level of Salmonella in 9 randomly sampled batches of ice cream. The levels (in MPN/g) were: 0.593, 0.142, 0.329, 0.691, 0.231, 0.793, 0.519, 0.392, 0.418. Is there evidence that the mean level of Salmonella in the ice cream is greater than 0.3 MPN/g?\n",
    "\n"
   ]
  },
  {
   "cell_type": "markdown",
   "metadata": {},
   "source": [
    "- Frame the hypothesis\n",
    "    - Null Hypothesis: H0: mean <= 0.3 MPN/g\n",
    "    - Alternate Hypothesis: H1: mean > 0.3 MPN/g\n",
    "- Expected mean: <=0.3 MPN/g\n",
    "- Observed: To be calculated\n",
    "- sd: To be calculated\n",
    "- samples: 9"
   ]
  },
  {
   "cell_type": "code",
   "execution_count": 23,
   "metadata": {},
   "outputs": [
    {
     "data": {
      "text/html": [
       "2.20505883851316"
      ],
      "text/latex": [
       "2.20505883851316"
      ],
      "text/markdown": [
       "2.20505883851316"
      ],
      "text/plain": [
       "[1] 2.205059"
      ]
     },
     "metadata": {},
     "output_type": "display_data"
    },
    {
     "data": {
      "text/html": [
       "1.8595480375309"
      ],
      "text/latex": [
       "1.8595480375309"
      ],
      "text/markdown": [
       "1.8595480375309"
      ],
      "text/plain": [
       "[1] 1.859548"
      ]
     },
     "metadata": {},
     "output_type": "display_data"
    }
   ],
   "source": [
    "(mean(sal_level)-0.3)/(sd(sal_level)/sqrt(9))\n",
    "qt(p = 0.05, df = 8,lower.tail=F)"
   ]
  },
  {
   "cell_type": "code",
   "execution_count": 4,
   "metadata": {},
   "outputs": [
    {
     "data": {
      "text/plain": [
       "\n",
       "\tOne Sample t-test\n",
       "\n",
       "data:  sal_level\n",
       "t = 2.2051, df = 8, p-value = 0.02927\n",
       "alternative hypothesis: true mean is greater than 0.3\n",
       "95 percent confidence interval:\n",
       " 0.3245133       Inf\n",
       "sample estimates:\n",
       "mean of x \n",
       "0.4564444 \n"
      ]
     },
     "metadata": {},
     "output_type": "display_data"
    },
    {
     "data": {
      "text/html": [
       "<strong>t:</strong> 2.20505883851316"
      ],
      "text/latex": [
       "\\textbf{t:} 2.20505883851316"
      ],
      "text/markdown": [
       "**t:** 2.20505883851316"
      ],
      "text/plain": [
       "       t \n",
       "2.205059 "
      ]
     },
     "metadata": {},
     "output_type": "display_data"
    }
   ],
   "source": [
    "sal_level = c(0.593, 0.142, 0.329, 0.691, 0.231, 0.793, 0.519, 0.392, 0.418)\n",
    "mu=0.3\n",
    "n = 9\n",
    "## Performing t-test\n",
    "t_calculated=t.test(sal_level, mu=0.3, conf.level = 0.95, alternative = \"greater\")\n",
    "t_calculated\n",
    "\n",
    "t_calculated$statistic\n"
   ]
  },
  {
   "cell_type": "code",
   "execution_count": 5,
   "metadata": {},
   "outputs": [
    {
     "data": {
      "text/html": [
       "8"
      ],
      "text/latex": [
       "8"
      ],
      "text/markdown": [
       "8"
      ],
      "text/plain": [
       "[1] 8"
      ]
     },
     "metadata": {},
     "output_type": "display_data"
    },
    {
     "data": {
      "text/html": [
       "1.8595480375309"
      ],
      "text/latex": [
       "1.8595480375309"
      ],
      "text/markdown": [
       "1.8595480375309"
      ],
      "text/plain": [
       "[1] 1.859548"
      ]
     },
     "metadata": {},
     "output_type": "display_data"
    }
   ],
   "source": [
    "significance_level=0.05\n",
    "df=n-1\n",
    "df\n",
    "\n",
    "t_critical= qt(significance_level,df,lower.tail = FALSE)\n",
    "t_critical"
   ]
  },
  {
   "cell_type": "markdown",
   "metadata": {},
   "source": [
    "Observation: Since t_calculated is greater than t_critical (2.2051 > 1.859548), the t-score lies in the critical region, hence we reject the Null hypothesis."
   ]
  },
  {
   "cell_type": "markdown",
   "metadata": {},
   "source": [
    "### Question-3"
   ]
  },
  {
   "cell_type": "markdown",
   "metadata": {},
   "source": [
    "Do two types of music, type-I and type-II have different effects on student’s ability to perform a series of 40 tasks that requires concentration? Number of topics completed by each student under both environments is listed below. The two types of music are independent of each other and assume that the sampling distribution follows a normal distribution. Can you support the claim that type-I music improved the students’ performance over type-II music? "
   ]
  },
  {
   "cell_type": "markdown",
   "metadata": {},
   "source": [
    "- Frame the hypothesis\n",
    "    - H0: (scores_with_type1) - (scores_with_type2) = 0\n",
    "    - H1: (scores_with_type1) - (scores_with_type2) > 0\n"
   ]
  },
  {
   "cell_type": "code",
   "execution_count": 6,
   "metadata": {},
   "outputs": [],
   "source": [
    "type1 = c(21, 22, 18, 19, 26, 22, 25, 25, 24, 21, 23, 23, 26, 29, 22)\n",
    "type2 = c(21, 23, 21, 20, 21, 29, 20, 16, 20, 17, 21, 25, 26, 18, 19)"
   ]
  },
  {
   "cell_type": "code",
   "execution_count": 7,
   "metadata": {},
   "outputs": [
    {
     "data": {
      "text/plain": [
       "\n",
       "\tWelch Two Sample t-test\n",
       "\n",
       "data:  type1 and type2\n",
       "t = 1.6723, df = 27.112, p-value = 0.05298\n",
       "alternative hypothesis: true difference in means is greater than 0\n",
       "95 percent confidence interval:\n",
       " -0.03550643         Inf\n",
       "sample estimates:\n",
       "mean of x mean of y \n",
       " 23.06667  21.13333 \n"
      ]
     },
     "metadata": {},
     "output_type": "display_data"
    }
   ],
   "source": [
    "t_stat = t.test(type1, type2, mu=0, conf.level = 0.95, alternative='greater')\n",
    "t_stat"
   ]
  },
  {
   "cell_type": "code",
   "execution_count": 8,
   "metadata": {},
   "outputs": [
    {
     "data": {
      "text/html": [
       "27"
      ],
      "text/latex": [
       "27"
      ],
      "text/markdown": [
       "27"
      ],
      "text/plain": [
       "[1] 27"
      ]
     },
     "metadata": {},
     "output_type": "display_data"
    },
    {
     "data": {
      "text/html": [
       "1.70328844572213"
      ],
      "text/latex": [
       "1.70328844572213"
      ],
      "text/markdown": [
       "1.70328844572213"
      ],
      "text/plain": [
       "[1] 1.703288"
      ]
     },
     "metadata": {},
     "output_type": "display_data"
    }
   ],
   "source": [
    "df=as.integer(t_stat$parameter)\n",
    "df\n",
    "t_critical = qt(0.05, df=df, lower.tail = F)\n",
    "t_critical"
   ]
  },
  {
   "cell_type": "markdown",
   "metadata": {},
   "source": [
    "Observation: Since t statistic value is less than t critical, we fail to reject the null hypothesis. Staitistically, The two types of music do not have different effects upon the ability of college students to perform a series of mental tasks requiring concentration."
   ]
  },
  {
   "cell_type": "code",
   "execution_count": null,
   "metadata": {},
   "outputs": [],
   "source": []
  }
 ],
 "metadata": {
  "kernelspec": {
   "display_name": "R",
   "language": "R",
   "name": "ir"
  },
  "language_info": {
   "codemirror_mode": "r",
   "file_extension": ".r",
   "mimetype": "text/x-r-source",
   "name": "R",
   "pygments_lexer": "r",
   "version": "4.0.3"
  }
 },
 "nbformat": 4,
 "nbformat_minor": 4
}
