{
 "cells": [
  {
   "cell_type": "code",
   "execution_count": 1,
   "metadata": {},
   "outputs": [],
   "source": [
    "#Import required libraries\n",
    "import os\n",
    "import numpy as np\n",
    "import pandas as pd\n",
    "\n",
    "from sklearn import preprocessing\n",
    "from sklearn.impute import SimpleImputer\n",
    "\n",
    "from sklearn.compose import ColumnTransformer\n",
    "\n",
    "from sklearn.preprocessing import StandardScaler\n",
    "from sklearn.preprocessing import OneHotEncoder\n",
    "from sklearn.model_selection import train_test_split\n",
    "from sklearn.pipeline import Pipeline\n",
    "from sklearn.model_selection import GridSearchCV, cross_val_score, StratifiedKFold\n",
    "\n",
    "from sklearn.tree import DecisionTreeClassifier\n",
    "from sklearn.ensemble import RandomForestClassifier\n",
    "from sklearn.svm import SVC\n",
    "from sklearn.linear_model import LogisticRegression\n",
    "\n",
    "from sklearn.ensemble import GradientBoostingClassifier\n",
    "from sklearn.ensemble import AdaBoostClassifier\n",
    "from sklearn.metrics import confusion_matrix\n",
    "from sklearn.metrics import classification_report\n",
    "\n",
    "import matplotlib.pyplot as plt\n",
    "import seaborn as sns\n",
    "\n",
    "from imblearn.over_sampling import SMOTE\n",
    "from sklearn.metrics import accuracy_score, recall_score, precision_score\n"
   ]
  },
  {
   "cell_type": "markdown",
   "metadata": {},
   "source": [
    "## Read Data"
   ]
  },
  {
   "cell_type": "code",
   "execution_count": 2,
   "metadata": {},
   "outputs": [],
   "source": [
    "#Loading Dataset\n",
    "hspt_data = pd.read_csv(\"/home/datasets/exam/Train-1617360447408.csv\", na_values='unknown')\n",
    "test_data =  pd.read_csv(\"/home/datasets/exam/test-1617360461595.csv\", na_values='unknown')"
   ]
  },
  {
   "cell_type": "code",
   "execution_count": 3,
   "metadata": {},
   "outputs": [
    {
     "name": "stdout",
     "output_type": "stream",
     "text": [
      "(66587, 49)\n",
      "(16647, 48)\n"
     ]
    },
    {
     "data": {
      "text/html": [
       "<div>\n",
       "<style scoped>\n",
       "    .dataframe tbody tr th:only-of-type {\n",
       "        vertical-align: middle;\n",
       "    }\n",
       "\n",
       "    .dataframe tbody tr th {\n",
       "        vertical-align: top;\n",
       "    }\n",
       "\n",
       "    .dataframe thead th {\n",
       "        text-align: right;\n",
       "    }\n",
       "</style>\n",
       "<table border=\"1\" class=\"dataframe\">\n",
       "  <thead>\n",
       "    <tr style=\"text-align: right;\">\n",
       "      <th></th>\n",
       "      <th>index</th>\n",
       "      <th>encounter_id</th>\n",
       "      <th>patient_id</th>\n",
       "      <th>race</th>\n",
       "      <th>gender</th>\n",
       "      <th>age</th>\n",
       "      <th>weight</th>\n",
       "      <th>time_in_hospital</th>\n",
       "      <th>medical_specialty</th>\n",
       "      <th>num_lab_procedures</th>\n",
       "      <th>...</th>\n",
       "      <th>X19</th>\n",
       "      <th>X20</th>\n",
       "      <th>X21</th>\n",
       "      <th>X22</th>\n",
       "      <th>X23</th>\n",
       "      <th>X24</th>\n",
       "      <th>X25</th>\n",
       "      <th>change</th>\n",
       "      <th>diabetesMed</th>\n",
       "      <th>readmitted</th>\n",
       "    </tr>\n",
       "  </thead>\n",
       "  <tbody>\n",
       "    <tr>\n",
       "      <th>0</th>\n",
       "      <td>69375</td>\n",
       "      <td>197029140</td>\n",
       "      <td>51521940</td>\n",
       "      <td>Hispanic</td>\n",
       "      <td>Male</td>\n",
       "      <td>[80-90)</td>\n",
       "      <td>?</td>\n",
       "      <td>4</td>\n",
       "      <td>Emergency/Trauma</td>\n",
       "      <td>39</td>\n",
       "      <td>...</td>\n",
       "      <td>No</td>\n",
       "      <td>No</td>\n",
       "      <td>No</td>\n",
       "      <td>No</td>\n",
       "      <td>No</td>\n",
       "      <td>No</td>\n",
       "      <td>No</td>\n",
       "      <td>No</td>\n",
       "      <td>Yes</td>\n",
       "      <td>1</td>\n",
       "    </tr>\n",
       "    <tr>\n",
       "      <th>1</th>\n",
       "      <td>57272</td>\n",
       "      <td>163571946</td>\n",
       "      <td>92631357</td>\n",
       "      <td>Caucasian</td>\n",
       "      <td>Male</td>\n",
       "      <td>[60-70)</td>\n",
       "      <td>?</td>\n",
       "      <td>3</td>\n",
       "      <td>Emergency/Trauma</td>\n",
       "      <td>34</td>\n",
       "      <td>...</td>\n",
       "      <td>No</td>\n",
       "      <td>No</td>\n",
       "      <td>No</td>\n",
       "      <td>No</td>\n",
       "      <td>No</td>\n",
       "      <td>No</td>\n",
       "      <td>No</td>\n",
       "      <td>No</td>\n",
       "      <td>No</td>\n",
       "      <td>0</td>\n",
       "    </tr>\n",
       "    <tr>\n",
       "      <th>2</th>\n",
       "      <td>82347</td>\n",
       "      <td>256497366</td>\n",
       "      <td>30023982</td>\n",
       "      <td>Caucasian</td>\n",
       "      <td>Female</td>\n",
       "      <td>[50-60)</td>\n",
       "      <td>?</td>\n",
       "      <td>6</td>\n",
       "      <td>Nephrology</td>\n",
       "      <td>50</td>\n",
       "      <td>...</td>\n",
       "      <td>No</td>\n",
       "      <td>Down</td>\n",
       "      <td>No</td>\n",
       "      <td>No</td>\n",
       "      <td>No</td>\n",
       "      <td>No</td>\n",
       "      <td>No</td>\n",
       "      <td>Ch</td>\n",
       "      <td>Yes</td>\n",
       "      <td>1</td>\n",
       "    </tr>\n",
       "    <tr>\n",
       "      <th>3</th>\n",
       "      <td>89608</td>\n",
       "      <td>289891212</td>\n",
       "      <td>93606021</td>\n",
       "      <td>AfricanAmerican</td>\n",
       "      <td>Female</td>\n",
       "      <td>[70-80)</td>\n",
       "      <td>?</td>\n",
       "      <td>5</td>\n",
       "      <td>?</td>\n",
       "      <td>63</td>\n",
       "      <td>...</td>\n",
       "      <td>No</td>\n",
       "      <td>Down</td>\n",
       "      <td>No</td>\n",
       "      <td>No</td>\n",
       "      <td>No</td>\n",
       "      <td>No</td>\n",
       "      <td>No</td>\n",
       "      <td>Ch</td>\n",
       "      <td>Yes</td>\n",
       "      <td>1</td>\n",
       "    </tr>\n",
       "    <tr>\n",
       "      <th>4</th>\n",
       "      <td>24091</td>\n",
       "      <td>81873900</td>\n",
       "      <td>23464296</td>\n",
       "      <td>Caucasian</td>\n",
       "      <td>Male</td>\n",
       "      <td>[70-80)</td>\n",
       "      <td>?</td>\n",
       "      <td>9</td>\n",
       "      <td>Psychiatry</td>\n",
       "      <td>17</td>\n",
       "      <td>...</td>\n",
       "      <td>No</td>\n",
       "      <td>No</td>\n",
       "      <td>No</td>\n",
       "      <td>No</td>\n",
       "      <td>No</td>\n",
       "      <td>No</td>\n",
       "      <td>No</td>\n",
       "      <td>No</td>\n",
       "      <td>No</td>\n",
       "      <td>1</td>\n",
       "    </tr>\n",
       "  </tbody>\n",
       "</table>\n",
       "<p>5 rows × 49 columns</p>\n",
       "</div>"
      ],
      "text/plain": [
       "   index  encounter_id  patient_id             race  gender      age weight  \\\n",
       "0  69375     197029140    51521940         Hispanic    Male  [80-90)      ?   \n",
       "1  57272     163571946    92631357        Caucasian    Male  [60-70)      ?   \n",
       "2  82347     256497366    30023982        Caucasian  Female  [50-60)      ?   \n",
       "3  89608     289891212    93606021  AfricanAmerican  Female  [70-80)      ?   \n",
       "4  24091      81873900    23464296        Caucasian    Male  [70-80)      ?   \n",
       "\n",
       "   time_in_hospital medical_specialty  num_lab_procedures  ...  X19   X20  \\\n",
       "0                 4  Emergency/Trauma                  39  ...   No    No   \n",
       "1                 3  Emergency/Trauma                  34  ...   No    No   \n",
       "2                 6        Nephrology                  50  ...   No  Down   \n",
       "3                 5                 ?                  63  ...   No  Down   \n",
       "4                 9        Psychiatry                  17  ...   No    No   \n",
       "\n",
       "   X21  X22  X23 X24 X25 change diabetesMed  readmitted  \n",
       "0   No   No   No  No  No     No         Yes           1  \n",
       "1   No   No   No  No  No     No          No           0  \n",
       "2   No   No   No  No  No     Ch         Yes           1  \n",
       "3   No   No   No  No  No     Ch         Yes           1  \n",
       "4   No   No   No  No  No     No          No           1  \n",
       "\n",
       "[5 rows x 49 columns]"
      ]
     },
     "execution_count": 3,
     "metadata": {},
     "output_type": "execute_result"
    }
   ],
   "source": [
    "#Get the shape of train & test data\n",
    "print(hspt_data.shape)\n",
    "print(test_data.shape)\n",
    "#Display records of train data\n",
    "hspt_data.head()"
   ]
  },
  {
   "cell_type": "code",
   "execution_count": 4,
   "metadata": {},
   "outputs": [
    {
     "data": {
      "text/plain": [
       "index                   int64\n",
       "encounter_id            int64\n",
       "patient_id              int64\n",
       "race                   object\n",
       "gender                 object\n",
       "age                    object\n",
       "weight                 object\n",
       "time_in_hospital        int64\n",
       "medical_specialty      object\n",
       "num_lab_procedures      int64\n",
       "num_procedures          int64\n",
       "num_medications         int64\n",
       "number_outpatient       int64\n",
       "number_emergency        int64\n",
       "number_inpatient        int64\n",
       "diag_1                 object\n",
       "diag_2                 object\n",
       "diag_3                 object\n",
       "diag_4                 object\n",
       "diag_5                float64\n",
       "number_diagnoses        int64\n",
       "X1                     object\n",
       "X2                     object\n",
       "X3                     object\n",
       "X4                     object\n",
       "X5                     object\n",
       "X6                     object\n",
       "X7                     object\n",
       "X8                     object\n",
       "X9                     object\n",
       "X10                    object\n",
       "X11                    object\n",
       "X12                    object\n",
       "X13                    object\n",
       "X14                    object\n",
       "X15                    object\n",
       "X16                    object\n",
       "X17                    object\n",
       "X18                    object\n",
       "X19                    object\n",
       "X20                    object\n",
       "X21                    object\n",
       "X22                    object\n",
       "X23                    object\n",
       "X24                    object\n",
       "X25                    object\n",
       "change                 object\n",
       "diabetesMed            object\n",
       "readmitted              int64\n",
       "dtype: object"
      ]
     },
     "execution_count": 4,
     "metadata": {},
     "output_type": "execute_result"
    }
   ],
   "source": [
    "#Checking data types of each variable\n",
    "hspt_data.dtypes"
   ]
  },
  {
   "cell_type": "markdown",
   "metadata": {},
   "source": [
    "## Handle Missing Values"
   ]
  },
  {
   "cell_type": "code",
   "execution_count": 5,
   "metadata": {},
   "outputs": [
    {
     "name": "stdout",
     "output_type": "stream",
     "text": [
      "race 1504\n",
      "gender 0\n",
      "age 0\n",
      "weight 64454\n",
      "medical_specialty 32672\n",
      "diag_1 15\n",
      "diag_2 231\n",
      "diag_3 954\n",
      "diag_4 954\n",
      "X1 0\n",
      "X2 0\n",
      "X3 0\n",
      "X4 0\n",
      "X5 0\n",
      "X6 0\n",
      "X7 0\n",
      "X8 0\n",
      "X9 0\n",
      "X10 0\n",
      "X11 0\n",
      "X12 0\n",
      "X13 0\n",
      "X14 0\n",
      "X15 0\n",
      "X16 0\n",
      "X17 0\n",
      "X18 0\n",
      "X19 0\n",
      "X20 0\n",
      "X21 0\n",
      "X22 0\n",
      "X23 0\n",
      "X24 0\n",
      "X25 0\n",
      "change 0\n",
      "diabetesMed 0\n"
     ]
    }
   ],
   "source": [
    "#Handling Missing Values\n",
    "\n",
    "#Checking for missing values in dataset\n",
    "#In the dataset missing values are represented as '?' sign\n",
    "\n",
    "for col in hspt_data.columns:\n",
    "    if hspt_data[col].dtype == object:\n",
    "         print(col,hspt_data[col][hspt_data[col] == '?'].count())"
   ]
  },
  {
   "cell_type": "code",
   "execution_count": 6,
   "metadata": {},
   "outputs": [
    {
     "data": {
      "text/html": [
       "<div>\n",
       "<style scoped>\n",
       "    .dataframe tbody tr th:only-of-type {\n",
       "        vertical-align: middle;\n",
       "    }\n",
       "\n",
       "    .dataframe tbody tr th {\n",
       "        vertical-align: top;\n",
       "    }\n",
       "\n",
       "    .dataframe thead th {\n",
       "        text-align: right;\n",
       "    }\n",
       "</style>\n",
       "<table border=\"1\" class=\"dataframe\">\n",
       "  <thead>\n",
       "    <tr style=\"text-align: right;\">\n",
       "      <th></th>\n",
       "      <th>index</th>\n",
       "      <th>encounter_id</th>\n",
       "      <th>patient_id</th>\n",
       "      <th>time_in_hospital</th>\n",
       "      <th>num_lab_procedures</th>\n",
       "      <th>num_procedures</th>\n",
       "      <th>num_medications</th>\n",
       "      <th>number_outpatient</th>\n",
       "      <th>number_emergency</th>\n",
       "      <th>number_inpatient</th>\n",
       "      <th>diag_5</th>\n",
       "      <th>number_diagnoses</th>\n",
       "      <th>readmitted</th>\n",
       "    </tr>\n",
       "  </thead>\n",
       "  <tbody>\n",
       "    <tr>\n",
       "      <th>count</th>\n",
       "      <td>66587.000000</td>\n",
       "      <td>6.658700e+04</td>\n",
       "      <td>6.658700e+04</td>\n",
       "      <td>66587.000000</td>\n",
       "      <td>66587.000000</td>\n",
       "      <td>66587.000000</td>\n",
       "      <td>66587.000000</td>\n",
       "      <td>66587.000000</td>\n",
       "      <td>66587.000000</td>\n",
       "      <td>66587.000000</td>\n",
       "      <td>66587.000000</td>\n",
       "      <td>66587.000000</td>\n",
       "      <td>66587.000000</td>\n",
       "    </tr>\n",
       "    <tr>\n",
       "      <th>mean</th>\n",
       "      <td>50903.474282</td>\n",
       "      <td>1.653153e+08</td>\n",
       "      <td>5.422970e+07</td>\n",
       "      <td>4.397510</td>\n",
       "      <td>43.115533</td>\n",
       "      <td>1.331521</td>\n",
       "      <td>16.028744</td>\n",
       "      <td>0.365672</td>\n",
       "      <td>0.200460</td>\n",
       "      <td>0.637602</td>\n",
       "      <td>49.703387</td>\n",
       "      <td>7.424948</td>\n",
       "      <td>0.462012</td>\n",
       "    </tr>\n",
       "    <tr>\n",
       "      <th>std</th>\n",
       "      <td>29480.255515</td>\n",
       "      <td>1.030035e+08</td>\n",
       "      <td>3.878819e+07</td>\n",
       "      <td>2.980995</td>\n",
       "      <td>19.630417</td>\n",
       "      <td>1.705746</td>\n",
       "      <td>8.125304</td>\n",
       "      <td>1.221861</td>\n",
       "      <td>0.905503</td>\n",
       "      <td>1.255487</td>\n",
       "      <td>28.864879</td>\n",
       "      <td>1.933061</td>\n",
       "      <td>0.498559</td>\n",
       "    </tr>\n",
       "    <tr>\n",
       "      <th>min</th>\n",
       "      <td>0.000000</td>\n",
       "      <td>1.573800e+04</td>\n",
       "      <td>1.350000e+02</td>\n",
       "      <td>1.000000</td>\n",
       "      <td>1.000000</td>\n",
       "      <td>0.000000</td>\n",
       "      <td>1.000000</td>\n",
       "      <td>0.000000</td>\n",
       "      <td>0.000000</td>\n",
       "      <td>0.000000</td>\n",
       "      <td>0.000283</td>\n",
       "      <td>1.000000</td>\n",
       "      <td>0.000000</td>\n",
       "    </tr>\n",
       "    <tr>\n",
       "      <th>25%</th>\n",
       "      <td>25166.500000</td>\n",
       "      <td>8.440328e+07</td>\n",
       "      <td>2.338646e+07</td>\n",
       "      <td>2.000000</td>\n",
       "      <td>31.000000</td>\n",
       "      <td>0.000000</td>\n",
       "      <td>10.000000</td>\n",
       "      <td>0.000000</td>\n",
       "      <td>0.000000</td>\n",
       "      <td>0.000000</td>\n",
       "      <td>24.622056</td>\n",
       "      <td>6.000000</td>\n",
       "      <td>0.000000</td>\n",
       "    </tr>\n",
       "    <tr>\n",
       "      <th>50%</th>\n",
       "      <td>51129.000000</td>\n",
       "      <td>1.528504e+08</td>\n",
       "      <td>4.526103e+07</td>\n",
       "      <td>4.000000</td>\n",
       "      <td>44.000000</td>\n",
       "      <td>1.000000</td>\n",
       "      <td>15.000000</td>\n",
       "      <td>0.000000</td>\n",
       "      <td>0.000000</td>\n",
       "      <td>0.000000</td>\n",
       "      <td>49.508499</td>\n",
       "      <td>8.000000</td>\n",
       "      <td>0.000000</td>\n",
       "    </tr>\n",
       "    <tr>\n",
       "      <th>75%</th>\n",
       "      <td>76380.000000</td>\n",
       "      <td>2.305049e+08</td>\n",
       "      <td>8.727185e+07</td>\n",
       "      <td>6.000000</td>\n",
       "      <td>57.000000</td>\n",
       "      <td>2.000000</td>\n",
       "      <td>20.000000</td>\n",
       "      <td>0.000000</td>\n",
       "      <td>0.000000</td>\n",
       "      <td>1.000000</td>\n",
       "      <td>74.637294</td>\n",
       "      <td>9.000000</td>\n",
       "      <td>1.000000</td>\n",
       "    </tr>\n",
       "    <tr>\n",
       "      <th>max</th>\n",
       "      <td>101765.000000</td>\n",
       "      <td>4.438672e+08</td>\n",
       "      <td>1.893494e+08</td>\n",
       "      <td>14.000000</td>\n",
       "      <td>129.000000</td>\n",
       "      <td>6.000000</td>\n",
       "      <td>81.000000</td>\n",
       "      <td>39.000000</td>\n",
       "      <td>63.000000</td>\n",
       "      <td>19.000000</td>\n",
       "      <td>99.995810</td>\n",
       "      <td>16.000000</td>\n",
       "      <td>1.000000</td>\n",
       "    </tr>\n",
       "  </tbody>\n",
       "</table>\n",
       "</div>"
      ],
      "text/plain": [
       "               index  encounter_id    patient_id  time_in_hospital  \\\n",
       "count   66587.000000  6.658700e+04  6.658700e+04      66587.000000   \n",
       "mean    50903.474282  1.653153e+08  5.422970e+07          4.397510   \n",
       "std     29480.255515  1.030035e+08  3.878819e+07          2.980995   \n",
       "min         0.000000  1.573800e+04  1.350000e+02          1.000000   \n",
       "25%     25166.500000  8.440328e+07  2.338646e+07          2.000000   \n",
       "50%     51129.000000  1.528504e+08  4.526103e+07          4.000000   \n",
       "75%     76380.000000  2.305049e+08  8.727185e+07          6.000000   \n",
       "max    101765.000000  4.438672e+08  1.893494e+08         14.000000   \n",
       "\n",
       "       num_lab_procedures  num_procedures  num_medications  number_outpatient  \\\n",
       "count        66587.000000    66587.000000     66587.000000       66587.000000   \n",
       "mean            43.115533        1.331521        16.028744           0.365672   \n",
       "std             19.630417        1.705746         8.125304           1.221861   \n",
       "min              1.000000        0.000000         1.000000           0.000000   \n",
       "25%             31.000000        0.000000        10.000000           0.000000   \n",
       "50%             44.000000        1.000000        15.000000           0.000000   \n",
       "75%             57.000000        2.000000        20.000000           0.000000   \n",
       "max            129.000000        6.000000        81.000000          39.000000   \n",
       "\n",
       "       number_emergency  number_inpatient        diag_5  number_diagnoses  \\\n",
       "count      66587.000000      66587.000000  66587.000000      66587.000000   \n",
       "mean           0.200460          0.637602     49.703387          7.424948   \n",
       "std            0.905503          1.255487     28.864879          1.933061   \n",
       "min            0.000000          0.000000      0.000283          1.000000   \n",
       "25%            0.000000          0.000000     24.622056          6.000000   \n",
       "50%            0.000000          0.000000     49.508499          8.000000   \n",
       "75%            0.000000          1.000000     74.637294          9.000000   \n",
       "max           63.000000         19.000000     99.995810         16.000000   \n",
       "\n",
       "         readmitted  \n",
       "count  66587.000000  \n",
       "mean       0.462012  \n",
       "std        0.498559  \n",
       "min        0.000000  \n",
       "25%        0.000000  \n",
       "50%        0.000000  \n",
       "75%        1.000000  \n",
       "max        1.000000  "
      ]
     },
     "execution_count": 6,
     "metadata": {},
     "output_type": "execute_result"
    }
   ],
   "source": [
    "#Describing the train data\n",
    "hspt_data.describe()"
   ]
  },
  {
   "cell_type": "code",
   "execution_count": 7,
   "metadata": {},
   "outputs": [
    {
     "data": {
      "text/html": [
       "<div>\n",
       "<style scoped>\n",
       "    .dataframe tbody tr th:only-of-type {\n",
       "        vertical-align: middle;\n",
       "    }\n",
       "\n",
       "    .dataframe tbody tr th {\n",
       "        vertical-align: top;\n",
       "    }\n",
       "\n",
       "    .dataframe thead th {\n",
       "        text-align: right;\n",
       "    }\n",
       "</style>\n",
       "<table border=\"1\" class=\"dataframe\">\n",
       "  <thead>\n",
       "    <tr style=\"text-align: right;\">\n",
       "      <th></th>\n",
       "      <th>race</th>\n",
       "      <th>gender</th>\n",
       "      <th>age</th>\n",
       "      <th>weight</th>\n",
       "      <th>medical_specialty</th>\n",
       "      <th>diag_1</th>\n",
       "      <th>diag_2</th>\n",
       "      <th>diag_3</th>\n",
       "      <th>diag_4</th>\n",
       "      <th>X1</th>\n",
       "      <th>...</th>\n",
       "      <th>X18</th>\n",
       "      <th>X19</th>\n",
       "      <th>X20</th>\n",
       "      <th>X21</th>\n",
       "      <th>X22</th>\n",
       "      <th>X23</th>\n",
       "      <th>X24</th>\n",
       "      <th>X25</th>\n",
       "      <th>change</th>\n",
       "      <th>diabetesMed</th>\n",
       "    </tr>\n",
       "  </thead>\n",
       "  <tbody>\n",
       "    <tr>\n",
       "      <th>count</th>\n",
       "      <td>66587</td>\n",
       "      <td>66587</td>\n",
       "      <td>66587</td>\n",
       "      <td>66587</td>\n",
       "      <td>66587</td>\n",
       "      <td>66587</td>\n",
       "      <td>66587</td>\n",
       "      <td>66587</td>\n",
       "      <td>66587</td>\n",
       "      <td>66587</td>\n",
       "      <td>...</td>\n",
       "      <td>66587</td>\n",
       "      <td>66587</td>\n",
       "      <td>66587</td>\n",
       "      <td>66587</td>\n",
       "      <td>66587</td>\n",
       "      <td>66587</td>\n",
       "      <td>66587</td>\n",
       "      <td>66587</td>\n",
       "      <td>66587</td>\n",
       "      <td>66587</td>\n",
       "    </tr>\n",
       "    <tr>\n",
       "      <th>unique</th>\n",
       "      <td>6</td>\n",
       "      <td>3</td>\n",
       "      <td>10</td>\n",
       "      <td>10</td>\n",
       "      <td>65</td>\n",
       "      <td>652</td>\n",
       "      <td>656</td>\n",
       "      <td>707</td>\n",
       "      <td>707</td>\n",
       "      <td>4</td>\n",
       "      <td>...</td>\n",
       "      <td>1</td>\n",
       "      <td>1</td>\n",
       "      <td>4</td>\n",
       "      <td>4</td>\n",
       "      <td>2</td>\n",
       "      <td>2</td>\n",
       "      <td>2</td>\n",
       "      <td>1</td>\n",
       "      <td>2</td>\n",
       "      <td>2</td>\n",
       "    </tr>\n",
       "    <tr>\n",
       "      <th>top</th>\n",
       "      <td>Caucasian</td>\n",
       "      <td>Female</td>\n",
       "      <td>[70-80)</td>\n",
       "      <td>?</td>\n",
       "      <td>?</td>\n",
       "      <td>428</td>\n",
       "      <td>276</td>\n",
       "      <td>250</td>\n",
       "      <td>250</td>\n",
       "      <td>None</td>\n",
       "      <td>...</td>\n",
       "      <td>No</td>\n",
       "      <td>No</td>\n",
       "      <td>No</td>\n",
       "      <td>No</td>\n",
       "      <td>No</td>\n",
       "      <td>No</td>\n",
       "      <td>No</td>\n",
       "      <td>No</td>\n",
       "      <td>No</td>\n",
       "      <td>Yes</td>\n",
       "    </tr>\n",
       "    <tr>\n",
       "      <th>freq</th>\n",
       "      <td>49906</td>\n",
       "      <td>35973</td>\n",
       "      <td>17031</td>\n",
       "      <td>64454</td>\n",
       "      <td>32672</td>\n",
       "      <td>4564</td>\n",
       "      <td>4420</td>\n",
       "      <td>7499</td>\n",
       "      <td>7499</td>\n",
       "      <td>63104</td>\n",
       "      <td>...</td>\n",
       "      <td>66587</td>\n",
       "      <td>66587</td>\n",
       "      <td>31175</td>\n",
       "      <td>66110</td>\n",
       "      <td>66575</td>\n",
       "      <td>66586</td>\n",
       "      <td>66582</td>\n",
       "      <td>66587</td>\n",
       "      <td>35894</td>\n",
       "      <td>51205</td>\n",
       "    </tr>\n",
       "  </tbody>\n",
       "</table>\n",
       "<p>4 rows × 36 columns</p>\n",
       "</div>"
      ],
      "text/plain": [
       "             race  gender      age weight medical_specialty diag_1 diag_2  \\\n",
       "count       66587   66587    66587  66587             66587  66587  66587   \n",
       "unique          6       3       10     10                65    652    656   \n",
       "top     Caucasian  Female  [70-80)      ?                 ?    428    276   \n",
       "freq        49906   35973    17031  64454             32672   4564   4420   \n",
       "\n",
       "       diag_3 diag_4     X1  ...    X18    X19    X20    X21    X22    X23  \\\n",
       "count   66587  66587  66587  ...  66587  66587  66587  66587  66587  66587   \n",
       "unique    707    707      4  ...      1      1      4      4      2      2   \n",
       "top       250    250   None  ...     No     No     No     No     No     No   \n",
       "freq     7499   7499  63104  ...  66587  66587  31175  66110  66575  66586   \n",
       "\n",
       "          X24    X25 change diabetesMed  \n",
       "count   66587  66587  66587       66587  \n",
       "unique      2      1      2           2  \n",
       "top        No     No     No         Yes  \n",
       "freq    66582  66587  35894       51205  \n",
       "\n",
       "[4 rows x 36 columns]"
      ]
     },
     "execution_count": 7,
     "metadata": {},
     "output_type": "execute_result"
    }
   ],
   "source": [
    "#Describing train data for object type \n",
    "hspt_data.describe(include=['object'])"
   ]
  },
  {
   "cell_type": "code",
   "execution_count": 8,
   "metadata": {},
   "outputs": [
    {
     "name": "stdout",
     "output_type": "stream",
     "text": [
      "gender 2\n"
     ]
    }
   ],
   "source": [
    "#Getting the count of data which are of Unknown/invalid\n",
    "print('gender', hspt_data['gender'][hspt_data['gender'] == 'Unknown/Invalid'].count()) "
   ]
  },
  {
   "cell_type": "code",
   "execution_count": 9,
   "metadata": {},
   "outputs": [
    {
     "data": {
      "text/plain": [
       "66587"
      ]
     },
     "execution_count": 9,
     "metadata": {},
     "output_type": "execute_result"
    }
   ],
   "source": [
    "#checking the count of unique values for index column\n",
    "hspt_data.index.nunique()"
   ]
  },
  {
   "cell_type": "code",
   "execution_count": 10,
   "metadata": {},
   "outputs": [],
   "source": [
    "#dropping columns with large number of missing values & index column\n",
    "hspt_data = hspt_data.drop(['weight','index','medical_specialty'], axis = 1)"
   ]
  },
  {
   "cell_type": "code",
   "execution_count": 11,
   "metadata": {},
   "outputs": [
    {
     "data": {
      "text/plain": [
       "encounter_id            int64\n",
       "patient_id              int64\n",
       "race                   object\n",
       "gender                 object\n",
       "age                    object\n",
       "time_in_hospital        int64\n",
       "num_lab_procedures      int64\n",
       "num_procedures          int64\n",
       "num_medications         int64\n",
       "number_outpatient       int64\n",
       "number_emergency        int64\n",
       "number_inpatient        int64\n",
       "diag_1                 object\n",
       "diag_2                 object\n",
       "diag_3                 object\n",
       "diag_4                 object\n",
       "diag_5                float64\n",
       "number_diagnoses        int64\n",
       "X1                     object\n",
       "X2                     object\n",
       "X3                     object\n",
       "X4                     object\n",
       "X5                     object\n",
       "X6                     object\n",
       "X7                     object\n",
       "X8                     object\n",
       "X9                     object\n",
       "X10                    object\n",
       "X11                    object\n",
       "X12                    object\n",
       "X13                    object\n",
       "X14                    object\n",
       "X15                    object\n",
       "X16                    object\n",
       "X17                    object\n",
       "X18                    object\n",
       "X19                    object\n",
       "X20                    object\n",
       "X21                    object\n",
       "X22                    object\n",
       "X23                    object\n",
       "X24                    object\n",
       "X25                    object\n",
       "change                 object\n",
       "diabetesMed            object\n",
       "readmitted              int64\n",
       "dtype: object"
      ]
     },
     "execution_count": 11,
     "metadata": {},
     "output_type": "execute_result"
    }
   ],
   "source": [
    "#Checking data types of each variable\n",
    "hspt_data.dtypes"
   ]
  },
  {
   "cell_type": "code",
   "execution_count": 12,
   "metadata": {},
   "outputs": [],
   "source": [
    "# Dropping missing values for diag_1,diag_2,diag_3,diag_4,race,gender\n",
    "drop_data = set(hspt_data[(hspt_data['diag_1'] == '?') & (hspt_data['diag_2'] == '?') & (hspt_data['diag_3'] == '?') & (hspt_data['diag_4'] == '?')].index)\n",
    "\n",
    "drop_data = drop_data.union(set(hspt_data['diag_1'][hspt_data['diag_1'] == '?'].index))\n",
    "drop_data = drop_data.union(set(hspt_data['diag_2'][hspt_data['diag_2'] == '?'].index))\n",
    "drop_data = drop_data.union(set(hspt_data['diag_3'][hspt_data['diag_3'] == '?'].index))\n",
    "drop_data = drop_data.union(set(hspt_data['race'][hspt_data['race'] == '?'].index))\n",
    "drop_data = drop_data.union(set(hspt_data['diag_4'][hspt_data['diag_4'] == '?'].index))\n",
    "drop_data = drop_data.union(set(hspt_data['gender'][hspt_data['gender'] == 'Unknown/Invalid'].index))\n",
    "updated_data = list(set(hspt_data.index) - set(drop_data))\n",
    "hspt_data = hspt_data.iloc[updated_data]"
   ]
  },
  {
   "cell_type": "code",
   "execution_count": 13,
   "metadata": {},
   "outputs": [],
   "source": [
    "med=[  'X3', 'X4',\n",
    "       'X5', 'X6', 'X7', 'X8','X9', 'X10', 'X11', 'X12', 'X13', 'X14', 'X15',\n",
    "       'X16', 'X17','X18','X19', 'X20', 'X21', 'X22', 'X23', 'X24','X25']"
   ]
  },
  {
   "cell_type": "code",
   "execution_count": 14,
   "metadata": {},
   "outputs": [],
   "source": [
    "for col in med:\n",
    "    hspt_data[col] = hspt_data[col].replace('No', 0)\n",
    "    hspt_data[col] = hspt_data[col].replace('Steady', 1)\n",
    "    hspt_data[col] = hspt_data[col].replace('Up', 1)\n",
    "    hspt_data[col] = hspt_data[col].replace('Down', 1)"
   ]
  },
  {
   "cell_type": "code",
   "execution_count": 15,
   "metadata": {},
   "outputs": [],
   "source": [
    "for col in med:\n",
    "    test_data[col] = test_data[col].replace('No', 0)\n",
    "    test_data[col] = test_data[col].replace('Steady', 1)\n",
    "    test_data[col] = test_data[col].replace('Up', 1)\n",
    "    test_data[col] = test_data[col].replace('Down', 1)"
   ]
  },
  {
   "cell_type": "code",
   "execution_count": 16,
   "metadata": {},
   "outputs": [
    {
     "name": "stdout",
     "output_type": "stream",
     "text": [
      "race 0\n",
      "gender 0\n",
      "age 0\n",
      "diag_1 0\n",
      "diag_2 0\n",
      "diag_3 0\n",
      "diag_4 0\n",
      "X1 0\n",
      "X2 0\n",
      "change 0\n",
      "diabetesMed 0\n"
     ]
    }
   ],
   "source": [
    "#Checking the count of missing values\n",
    "for col in hspt_data.columns:\n",
    "    if hspt_data[col].dtype == object:\n",
    "         print(col,hspt_data[col][hspt_data[col] == '?'].count())"
   ]
  },
  {
   "cell_type": "code",
   "execution_count": 17,
   "metadata": {},
   "outputs": [
    {
     "data": {
      "text/plain": [
       "index                   int64\n",
       "encounter_id            int64\n",
       "patient_id              int64\n",
       "race                   object\n",
       "gender                 object\n",
       "age                    object\n",
       "weight                 object\n",
       "time_in_hospital        int64\n",
       "medical_specialty      object\n",
       "num_lab_procedures      int64\n",
       "num_procedures          int64\n",
       "num_medications         int64\n",
       "number_outpatient       int64\n",
       "number_emergency        int64\n",
       "number_inpatient        int64\n",
       "diag_1                 object\n",
       "diag_2                 object\n",
       "diag_3                 object\n",
       "diag_4                 object\n",
       "diag_5                float64\n",
       "number_diagnoses        int64\n",
       "X1                     object\n",
       "X2                     object\n",
       "X3                      int64\n",
       "X4                      int64\n",
       "X5                      int64\n",
       "X6                      int64\n",
       "X7                      int64\n",
       "X8                      int64\n",
       "X9                      int64\n",
       "X10                     int64\n",
       "X11                     int64\n",
       "X12                     int64\n",
       "X13                     int64\n",
       "X14                     int64\n",
       "X15                     int64\n",
       "X16                     int64\n",
       "X17                     int64\n",
       "X18                     int64\n",
       "X19                     int64\n",
       "X20                     int64\n",
       "X21                     int64\n",
       "X22                     int64\n",
       "X23                     int64\n",
       "X24                     int64\n",
       "X25                     int64\n",
       "change                 object\n",
       "diabetesMed            object\n",
       "dtype: object"
      ]
     },
     "execution_count": 17,
     "metadata": {},
     "output_type": "execute_result"
    }
   ],
   "source": [
    "test_data.dtypes"
   ]
  },
  {
   "cell_type": "code",
   "execution_count": 18,
   "metadata": {},
   "outputs": [
    {
     "name": "stdout",
     "output_type": "stream",
     "text": [
      "race 371\n",
      "gender 0\n",
      "age 0\n",
      "weight 16107\n",
      "medical_specialty 8081\n",
      "diag_1 3\n",
      "diag_2 63\n",
      "diag_3 247\n",
      "diag_4 247\n",
      "X1 0\n",
      "X2 0\n",
      "change 0\n",
      "diabetesMed 0\n"
     ]
    }
   ],
   "source": [
    "for col in test_data.columns:\n",
    "    if test_data[col].dtype == object:\n",
    "         print(col,test_data[col][test_data[col] == '?'].count())"
   ]
  },
  {
   "cell_type": "code",
   "execution_count": 19,
   "metadata": {},
   "outputs": [
    {
     "name": "stdout",
     "output_type": "stream",
     "text": [
      "gender 1\n"
     ]
    }
   ],
   "source": [
    "print('gender', test_data['gender'][test_data['gender'] == 'Unknown/Invalid'].count()) "
   ]
  },
  {
   "cell_type": "code",
   "execution_count": 20,
   "metadata": {},
   "outputs": [],
   "source": [
    "test_data = test_data.drop(['weight','index','medical_specialty'], axis = 1)"
   ]
  },
  {
   "cell_type": "code",
   "execution_count": 21,
   "metadata": {},
   "outputs": [],
   "source": [
    "drop_data = set(test_data[(test_data['diag_1'] == '?') & (test_data['diag_2'] == '?') & (test_data['diag_3'] == '?') & (test_data['diag_4'] == '?')].index)\n",
    "\n",
    "drop_data = drop_data.union(set(test_data['diag_1'][test_data['diag_1'] == '?'].index))\n",
    "drop_data = drop_data.union(set(test_data['diag_2'][test_data['diag_2'] == '?'].index))\n",
    "drop_data = drop_data.union(set(test_data['diag_3'][test_data['diag_3'] == '?'].index))\n",
    "drop_data = drop_data.union(set(test_data['race'][test_data['race'] == '?'].index))\n",
    "drop_data = drop_data.union(set(test_data['diag_4'][test_data['diag_4'] == '?'].index))\n",
    "drop_data = drop_data.union(set(test_data['gender'][test_data['gender'] == 'Unknown/Invalid'].index))\n",
    "updated_data = list(set(test_data.index) - set(drop_data))\n",
    "test_data = test_data.iloc[updated_data]"
   ]
  },
  {
   "cell_type": "markdown",
   "metadata": {},
   "source": [
    "## Distribution of Readmission"
   ]
  },
  {
   "cell_type": "code",
   "execution_count": 22,
   "metadata": {},
   "outputs": [
    {
     "data": {
      "text/plain": [
       "Text(0.5, 1.0, 'Distribution of Readmission')"
      ]
     },
     "execution_count": 22,
     "metadata": {},
     "output_type": "execute_result"
    },
    {
     "data": {
      "image/png": "[encoded data removed]",
      "text/plain": [
       "<Figure size 432x288 with 1 Axes>"
      ]
     },
     "metadata": {
      "needs_background": "light"
     },
     "output_type": "display_data"
    }
   ],
   "source": [
    "# Distribution of Readmission \n",
    "sns.countplot(hspt_data['readmitted']).set_title('Distribution of Readmission')"
   ]
  },
  {
   "cell_type": "markdown",
   "metadata": {},
   "source": [
    "## Time in Hospital and Readmission"
   ]
  },
  {
   "cell_type": "code",
   "execution_count": 23,
   "metadata": {},
   "outputs": [
    {
     "data": {
      "text/plain": [
       "Text(0.5, 1.0, 'Time in Hospital VS. Readmission')"
      ]
     },
     "execution_count": 23,
     "metadata": {},
     "output_type": "execute_result"
    },
    {
     "data": {
      "image/png": "[encoded data removed]",
      "text/plain": [
       "<Figure size 936x504 with 1 Axes>"
      ]
     },
     "metadata": {
      "needs_background": "light"
     },
     "output_type": "display_data"
    }
   ],
   "source": [
    "#Time in Hospital and Readmission\n",
    "fig = plt.figure(figsize=(13,7),)\n",
    "axis=sns.kdeplot(hspt_data.loc[(hspt_data['readmitted'] == 0),'time_in_hospital'] , color='b',shade=True,label='Not Readmitted')\n",
    "axis=sns.kdeplot(hspt_data.loc[(hspt_data['readmitted'] == 1),'time_in_hospital'] , color='r',shade=True, label='Readmitted')\n",
    "axis.set(xlabel='Time in Hospital', ylabel='Frequency')\n",
    "plt.title('Time in Hospital VS. Readmission')"
   ]
  },
  {
   "cell_type": "markdown",
   "metadata": {},
   "source": [
    "## Age and Readmission"
   ]
  },
  {
   "cell_type": "code",
   "execution_count": 24,
   "metadata": {},
   "outputs": [
    {
     "data": {
      "text/plain": [
       "Text(0.5, 1.0, 'Age of Patient VS. Readmission')"
      ]
     },
     "execution_count": 24,
     "metadata": {},
     "output_type": "execute_result"
    },
    {
     "data": {
      "image/png": "[encoded data removed]",
      "text/plain": [
       "<Figure size 1080x720 with 1 Axes>"
      ]
     },
     "metadata": {
      "needs_background": "light"
     },
     "output_type": "display_data"
    }
   ],
   "source": [
    "#Age and Readmission\n",
    "fig = plt.figure(figsize=(15,10))\n",
    "sns.countplot(y= hspt_data['age'], hue = hspt_data['readmitted']).set_title('Age of Patient VS. Readmission')"
   ]
  },
  {
   "cell_type": "markdown",
   "metadata": {},
   "source": [
    "## Patient Race and Readmission"
   ]
  },
  {
   "cell_type": "code",
   "execution_count": 25,
   "metadata": {},
   "outputs": [
    {
     "data": {
      "text/plain": [
       "<matplotlib.axes._subplots.AxesSubplot at 0x7f45611fdc10>"
      ]
     },
     "execution_count": 25,
     "metadata": {},
     "output_type": "execute_result"
    },
    {
     "data": {
      "image/png": "[encoded data removed]",
      "text/plain": [
       "<Figure size 576x576 with 1 Axes>"
      ]
     },
     "metadata": {
      "needs_background": "light"
     },
     "output_type": "display_data"
    }
   ],
   "source": [
    "#Patient Race and Readmission\n",
    "fig = plt.figure(figsize=(8,8))\n",
    "sns.countplot(y = hspt_data['race'], hue = hspt_data['readmitted'])"
   ]
  },
  {
   "cell_type": "markdown",
   "metadata": {},
   "source": [
    "## Number of medication used and Readmission"
   ]
  },
  {
   "cell_type": "code",
   "execution_count": 26,
   "metadata": {},
   "outputs": [
    {
     "data": {
      "text/plain": [
       "Text(0.5, 1.0, 'Number of medication used VS. Readmission')"
      ]
     },
     "execution_count": 26,
     "metadata": {},
     "output_type": "execute_result"
    },
    {
     "data": {
      "image/png": "[encoded data removed]",
      "text/plain": [
       "<Figure size 576x576 with 1 Axes>"
      ]
     },
     "metadata": {
      "needs_background": "light"
     },
     "output_type": "display_data"
    }
   ],
   "source": [
    "#Number of medication used and Readmission\n",
    "fig = plt.figure(figsize=(8,8))\n",
    "sns.barplot(x = hspt_data['readmitted'], y = hspt_data['num_medications']).set_title(\"Number of medication used VS. Readmission\")"
   ]
  },
  {
   "cell_type": "markdown",
   "metadata": {},
   "source": [
    "## Gender and Readmission"
   ]
  },
  {
   "cell_type": "code",
   "execution_count": 27,
   "metadata": {},
   "outputs": [
    {
     "data": {
      "text/plain": [
       "Text(0.5, 1.0, 'Gender of Patient VS. Readmission')"
      ]
     },
     "execution_count": 27,
     "metadata": {},
     "output_type": "execute_result"
    },
    {
     "data": {
      "image/png": "[encoded data removed]",
      "text/plain": [
       "<Figure size 576x576 with 1 Axes>"
      ]
     },
     "metadata": {
      "needs_background": "light"
     },
     "output_type": "display_data"
    }
   ],
   "source": [
    "#Gender and Readmission\n",
    "fig = plt.figure(figsize=(8,8))\n",
    "sns.countplot(hspt_data['gender'], hue = hspt_data['readmitted']).set_title(\"Gender of Patient VS. Readmission\")"
   ]
  },
  {
   "cell_type": "markdown",
   "metadata": {},
   "source": [
    "## Change of Medication and Readmission¶"
   ]
  },
  {
   "cell_type": "code",
   "execution_count": 28,
   "metadata": {},
   "outputs": [
    {
     "data": {
      "text/plain": [
       "Text(0.5, 1.0, 'Change of Medication VS. Readmission')"
      ]
     },
     "execution_count": 28,
     "metadata": {},
     "output_type": "execute_result"
    },
    {
     "data": {
      "image/png": "[encoded data removed]",
      "text/plain": [
       "<Figure size 576x576 with 1 Axes>"
      ]
     },
     "metadata": {
      "needs_background": "light"
     },
     "output_type": "display_data"
    }
   ],
   "source": [
    "#Change of Medication and Readmission\n",
    "fig = plt.figure(figsize=(8,8))\n",
    "sns.countplot(hspt_data['change'], hue = hspt_data['readmitted']).set_title('Change of Medication VS. Readmission')"
   ]
  },
  {
   "cell_type": "markdown",
   "metadata": {},
   "source": [
    "## Diabetes Medication prescribed and Readmission"
   ]
  },
  {
   "cell_type": "code",
   "execution_count": 29,
   "metadata": {},
   "outputs": [
    {
     "data": {
      "text/plain": [
       "Text(0.5, 1.0, 'Diabetes Medication prescribed VS Readmission')"
      ]
     },
     "execution_count": 29,
     "metadata": {},
     "output_type": "execute_result"
    },
    {
     "data": {
      "image/png": "[encoded data removed]",
      "text/plain": [
       "<Figure size 576x576 with 1 Axes>"
      ]
     },
     "metadata": {
      "needs_background": "light"
     },
     "output_type": "display_data"
    }
   ],
   "source": [
    "#Diabetes Medication prescribed and Readmission\n",
    "fig = plt.figure(figsize=(8,8))\n",
    "sns.countplot(hspt_data['diabetesMed'], hue = hspt_data['readmitted']).set_title('Diabetes Medication prescribed VS Readmission')"
   ]
  },
  {
   "cell_type": "code",
   "execution_count": 30,
   "metadata": {},
   "outputs": [],
   "source": [
    "#we encoded the “ medication change ” feature from “No” (no change) and “Ch” (changed) into 0 and 1.\n",
    "hspt_data['change'] = hspt_data['change'].replace('Ch', 1)\n",
    "hspt_data['change'] = hspt_data['change'].replace('No', 0)\n",
    "hspt_data['gender'] = hspt_data['gender'].replace('Male', 1)\n",
    "hspt_data['gender'] = hspt_data['gender'].replace('Female', 0)\n",
    "hspt_data['diabetesMed'] = hspt_data['diabetesMed'].replace('Yes', 1)\n",
    "hspt_data['diabetesMed'] = hspt_data['diabetesMed'].replace('No', 0)"
   ]
  },
  {
   "cell_type": "code",
   "execution_count": 31,
   "metadata": {},
   "outputs": [],
   "source": [
    "test_data['change'] = test_data['change'].replace('Ch', 1)\n",
    "test_data['change'] = test_data['change'].replace('No', 0)\n",
    "test_data['gender'] = test_data['gender'].replace('Male', 1)\n",
    "test_data['gender'] = test_data['gender'].replace('Female', 0)\n",
    "test_data['diabetesMed'] = test_data['diabetesMed'].replace('Yes', 1)\n",
    "test_data['diabetesMed'] = test_data['diabetesMed'].replace('No', 0)"
   ]
  },
  {
   "cell_type": "code",
   "execution_count": 32,
   "metadata": {},
   "outputs": [
    {
     "data": {
      "text/plain": [
       "75    16465\n",
       "65    14406\n",
       "55    11022\n",
       "85    10761\n",
       "45     6048\n",
       "35     2271\n",
       "95     1786\n",
       "25     1037\n",
       "15      292\n",
       "5        40\n",
       "Name: age, dtype: int64"
      ]
     },
     "execution_count": 32,
     "metadata": {},
     "output_type": "execute_result"
    }
   ],
   "source": [
    "age_dict = {'[0-10)':5, '[10-20)':15, '[20-30)':25, '[30-40)':35, '[40-50)':45, '[50-60)':55, '[60-70)':65, '[70-80)':75, '[80-90)':85, '[90-100)':95}\n",
    "hspt_data['age'] = hspt_data.age.map(age_dict)\n",
    "hspt_data['age'] = hspt_data['age'].astype('int64')\n",
    "hspt_data.age.value_counts()"
   ]
  },
  {
   "cell_type": "code",
   "execution_count": 33,
   "metadata": {},
   "outputs": [
    {
     "data": {
      "text/plain": [
       "75    4083\n",
       "65    3605\n",
       "55    2756\n",
       "85    2681\n",
       "45    1557\n",
       "35     582\n",
       "95     421\n",
       "25     254\n",
       "15      78\n",
       "5       11\n",
       "Name: age, dtype: int64"
      ]
     },
     "execution_count": 33,
     "metadata": {},
     "output_type": "execute_result"
    }
   ],
   "source": [
    "age_dict = {'[0-10)':5, '[10-20)':15, '[20-30)':25, '[30-40)':35, '[40-50)':45, '[50-60)':55, '[60-70)':65, '[70-80)':75, '[80-90)':85, '[90-100)':95}\n",
    "test_data['age'] = test_data.age.map(age_dict)\n",
    "test_data['age'] = test_data['age'].astype('int64')\n",
    "test_data.age.value_counts()"
   ]
  },
  {
   "cell_type": "code",
   "execution_count": 34,
   "metadata": {},
   "outputs": [],
   "source": [
    "hspt_data.diag_5=hspt_data.diag_5.astype('category')"
   ]
  },
  {
   "cell_type": "code",
   "execution_count": 35,
   "metadata": {},
   "outputs": [],
   "source": [
    "dummies = pd.get_dummies(hspt_data['race'])\n",
    "hspt_data = pd.concat([hspt_data, dummies], axis=1)      \n",
    "hspt_data.drop(['race'], inplace=True, axis=1)"
   ]
  },
  {
   "cell_type": "code",
   "execution_count": 36,
   "metadata": {},
   "outputs": [],
   "source": [
    "hspt_data['X1'] = hspt_data['X1'].replace('>200', 1)\n",
    "hspt_data['X1'] = hspt_data['X1'].replace('>300', 1)\n",
    "hspt_data['X1'] = hspt_data['X1'].replace('Norm', 0)\n",
    "hspt_data['X1'] = hspt_data['X1'].replace('None', -99)\n",
    "\n"
   ]
  },
  {
   "cell_type": "code",
   "execution_count": 37,
   "metadata": {},
   "outputs": [],
   "source": [
    "hspt_data['X2'] = hspt_data['X2'].replace('>8', 1)\n",
    "hspt_data['X2'] = hspt_data['X2'].replace('>7', 1)\n",
    "hspt_data['X2'] = hspt_data['X2'].replace('Norm', 0)\n",
    "hspt_data['X2'] = hspt_data['X2'].replace('None', -99)"
   ]
  },
  {
   "cell_type": "code",
   "execution_count": 38,
   "metadata": {},
   "outputs": [],
   "source": [
    "test_data['X1'] = test_data['X1'].replace('>200', 1)\n",
    "test_data['X1'] = test_data['X1'].replace('>300', 1)\n",
    "test_data['X1'] = test_data['X1'].replace('Norm', 0)\n",
    "test_data['X1'] = test_data['X1'].replace('None', -99)\n",
    "\n",
    "\n",
    "test_data['X2'] = test_data['X2'].replace('>8', 1)\n",
    "test_data['X2'] = test_data['X2'].replace('>7', 1)\n",
    "test_data['X2'] = test_data['X2'].replace('Norm', 0)\n",
    "test_data['X2'] = test_data['X2'].replace('None', -99)"
   ]
  },
  {
   "cell_type": "code",
   "execution_count": 39,
   "metadata": {},
   "outputs": [],
   "source": [
    "cols=['gender','age', 'diag_1', 'diag_2', 'diag_3', 'diag_4','diag_5', 'X1', 'X2', 'X3', 'X4',\n",
    "       'X5', 'X6', 'X7', 'X8', 'X9', 'X10', 'X11', 'X12', 'X13', 'X14', 'X15',\n",
    "       'X16', 'X17', 'X18', 'X19', 'X20', 'X21', 'X22', 'X23', 'X24', 'X25']\n",
    "hspt_data[cols]=hspt_data[cols].astype('category')"
   ]
  },
  {
   "cell_type": "code",
   "execution_count": 40,
   "metadata": {},
   "outputs": [],
   "source": [
    "cols1=['gender','age', 'diag_1', 'diag_2', 'diag_3', 'diag_4','diag_5', 'X1', 'X2', 'X3', 'X4',\n",
    "       'X5', 'X6', 'X7', 'X8', 'X9', 'X10', 'X11', 'X12', 'X13', 'X14', 'X15',\n",
    "       'X16', 'X17', 'X18', 'X19', 'X20', 'X21', 'X22', 'X23', 'X24', 'X25']\n",
    "test_data[cols1]=test_data[cols1].astype('category')"
   ]
  },
  {
   "cell_type": "code",
   "execution_count": 42,
   "metadata": {},
   "outputs": [],
   "source": [
    "test_data.diag_5=test_data.diag_5.astype('category')"
   ]
  },
  {
   "cell_type": "code",
   "execution_count": 43,
   "metadata": {},
   "outputs": [],
   "source": [
    "dummies = pd.get_dummies(test_data['race'])\n",
    "test_data = pd.concat([test_data, dummies], axis=1)      \n",
    "test_data.drop(['race'], inplace=True, axis=1)"
   ]
  },
  {
   "cell_type": "code",
   "execution_count": 55,
   "metadata": {},
   "outputs": [
    {
     "data": {
      "text/plain": [
       "'readmitted'"
      ]
     },
     "execution_count": 55,
     "metadata": {},
     "output_type": "execute_result"
    }
   ],
   "source": [
    "cat_attr=list(hspt_data.select_dtypes(\"category\").columns)\n",
    "num_attr=list(hspt_data.columns.difference(cat_attr))\n",
    "\n",
    "num_attr.pop(-2)"
   ]
  },
  {
   "cell_type": "code",
   "execution_count": 56,
   "metadata": {},
   "outputs": [],
   "source": [
    "numeric_transformer = Pipeline( steps = [('imputer', SimpleImputer(strategy='median')),\n",
    "                                         ('scaler', StandardScaler())] )\n",
    "\n",
    "categorical_transformer = Pipeline(steps=[ ('imputer', SimpleImputer(strategy = 'most_frequent')),\n",
    "                                           ('onehot', OneHotEncoder( handle_unknown = 'ignore'))])\n",
    "\n",
    "preprocessor = ColumnTransformer( transformers = [ ('num', numeric_transformer, num_attr),\n",
    "                                                  ('cat', categorical_transformer, cat_attr)])"
   ]
  },
  {
   "cell_type": "code",
   "execution_count": 57,
   "metadata": {},
   "outputs": [],
   "source": [
    "## Models\n",
    "from sklearn.ensemble import RandomForestClassifier, AdaBoostClassifier\n",
    "from sklearn.neighbors import KNeighborsClassifier\n",
    "from sklearn.tree import DecisionTreeClassifier\n",
    "from sklearn.ensemble import GradientBoostingClassifier"
   ]
  },
  {
   "cell_type": "markdown",
   "metadata": {},
   "source": [
    "## Train-Test Split"
   ]
  },
  {
   "cell_type": "code",
   "execution_count": 58,
   "metadata": {},
   "outputs": [],
   "source": [
    "X=hspt_data.drop('readmitted',axis=1)\n",
    "y=hspt_data.readmitted\n",
    "\n",
    "X_train, X_test, y_train, y_test = train_test_split(X, y, test_size=0.3, random_state=123)"
   ]
  },
  {
   "cell_type": "markdown",
   "metadata": {},
   "source": [
    "## Logistic Regression Model-1"
   ]
  },
  {
   "cell_type": "code",
   "execution_count": 59,
   "metadata": {},
   "outputs": [],
   "source": [
    "clf_logreg = Pipeline( steps = [('preprocessor', preprocessor),\n",
    "                                ('classifier', LogisticRegression())])"
   ]
  },
  {
   "cell_type": "code",
   "execution_count": 60,
   "metadata": {},
   "outputs": [
    {
     "name": "stdout",
     "output_type": "stream",
     "text": [
      "CPU times: user 12.3 s, sys: 2.26 s, total: 14.5 s\n",
      "Wall time: 7.87 s\n"
     ]
    },
    {
     "name": "stderr",
     "output_type": "stream",
     "text": [
      "/usr/share/anaconda3/lib/python3.7/site-packages/sklearn/linear_model/_logistic.py:765: ConvergenceWarning: lbfgs failed to converge (status=1):\n",
      "STOP: TOTAL NO. of ITERATIONS REACHED LIMIT.\n",
      "\n",
      "Increase the number of iterations (max_iter) or scale the data as shown in:\n",
      "    https://scikit-learn.org/stable/modules/preprocessing.html\n",
      "Please also refer to the documentation for alternative solver options:\n",
      "    https://scikit-learn.org/stable/modules/linear_model.html#logistic-regression\n",
      "  extra_warning_msg=_LOGISTIC_SOLVER_CONVERGENCE_MSG)\n"
     ]
    },
    {
     "data": {
      "text/plain": [
       "Pipeline(steps=[('preprocessor',\n",
       "                 ColumnTransformer(transformers=[('num',\n",
       "                                                  Pipeline(steps=[('imputer',\n",
       "                                                                   SimpleImputer(strategy='median')),\n",
       "                                                                  ('scaler',\n",
       "                                                                   StandardScaler())]),\n",
       "                                                  ['AfricanAmerican', 'Asian',\n",
       "                                                   'Caucasian', 'Hispanic',\n",
       "                                                   'Other', 'change',\n",
       "                                                   'diabetesMed',\n",
       "                                                   'encounter_id',\n",
       "                                                   'num_lab_procedures',\n",
       "                                                   'num_medications',\n",
       "                                                   'num_procedures',\n",
       "                                                   'number_diagnoses',\n",
       "                                                   'number_emergency...\n",
       "                                                  Pipeline(steps=[('imputer',\n",
       "                                                                   SimpleImputer(strategy='most_frequent')),\n",
       "                                                                  ('onehot',\n",
       "                                                                   OneHotEncoder(handle_unknown='ignore'))]),\n",
       "                                                  ['gender', 'age', 'diag_1',\n",
       "                                                   'diag_2', 'diag_3', 'diag_4',\n",
       "                                                   'diag_5', 'X1', 'X2', 'X3',\n",
       "                                                   'X4', 'X5', 'X6', 'X7', 'X8',\n",
       "                                                   'X9', 'X10', 'X11', 'X12',\n",
       "                                                   'X13', 'X14', 'X15', 'X16',\n",
       "                                                   'X17', 'X18', 'X19', 'X20',\n",
       "                                                   'X21', 'X22', 'X23', ...])])),\n",
       "                ('classifier', LogisticRegression())])"
      ]
     },
     "execution_count": 60,
     "metadata": {},
     "output_type": "execute_result"
    }
   ],
   "source": [
    "%%time\n",
    "clf_logreg.fit(X_train, y_train)"
   ]
  },
  {
   "cell_type": "code",
   "execution_count": 61,
   "metadata": {},
   "outputs": [
    {
     "name": "stdout",
     "output_type": "stream",
     "text": [
      "0.7876762681280491\n",
      "0.6691096210821769\n",
      "[[19846  4005]\n",
      " [ 5526 15512]]\n"
     ]
    },
    {
     "data": {
      "text/plain": [
       "array([[7499, 2778],\n",
       "       [3588, 5374]])"
      ]
     },
     "execution_count": 61,
     "metadata": {},
     "output_type": "execute_result"
    }
   ],
   "source": [
    "# Evaluate Model\n",
    "\n",
    "train_pred=clf_logreg.predict(X_train)\n",
    "test_pred=clf_logreg.predict(X_test)\n",
    "\n",
    "print(clf_logreg.score(X_train,y_train))\n",
    "print(clf_logreg.score(X_test,y_test))\n",
    "\n",
    "\n",
    "\n",
    "print(confusion_matrix(y_true=y_train, y_pred = train_pred))\n",
    "\n",
    "confusion_matrix_test = confusion_matrix(y_true=y_test, y_pred =  test_pred)\n",
    "confusion_matrix_test"
   ]
  },
  {
   "cell_type": "code",
   "execution_count": 62,
   "metadata": {},
   "outputs": [
    {
     "name": "stdout",
     "output_type": "stream",
     "text": [
      "              precision    recall  f1-score   support\n",
      "\n",
      "           0       0.68      0.73      0.70     10277\n",
      "           1       0.66      0.60      0.63      8962\n",
      "\n",
      "    accuracy                           0.67     19239\n",
      "   macro avg       0.67      0.66      0.67     19239\n",
      "weighted avg       0.67      0.67      0.67     19239\n",
      "\n"
     ]
    }
   ],
   "source": [
    "#Get the accuracy,F1 score report\n",
    "print(classification_report(y_true=y_test, y_pred =  test_pred))"
   ]
  },
  {
   "cell_type": "markdown",
   "metadata": {},
   "source": [
    "## Decision Tree Model"
   ]
  },
  {
   "cell_type": "code",
   "execution_count": 63,
   "metadata": {},
   "outputs": [],
   "source": [
    "#Build Decision Treee Model-2\n",
    "clf=Pipeline(steps=[('preprocessor',preprocessor),\n",
    "                          ('classifier',DecisionTreeClassifier())])"
   ]
  },
  {
   "cell_type": "code",
   "execution_count": 64,
   "metadata": {},
   "outputs": [
    {
     "name": "stdout",
     "output_type": "stream",
     "text": [
      "CPU times: user 20.3 s, sys: 0 ns, total: 20.3 s\n",
      "Wall time: 20.4 s\n"
     ]
    },
    {
     "data": {
      "text/plain": [
       "Pipeline(steps=[('preprocessor',\n",
       "                 ColumnTransformer(transformers=[('num',\n",
       "                                                  Pipeline(steps=[('imputer',\n",
       "                                                                   SimpleImputer(strategy='median')),\n",
       "                                                                  ('scaler',\n",
       "                                                                   StandardScaler())]),\n",
       "                                                  ['AfricanAmerican', 'Asian',\n",
       "                                                   'Caucasian', 'Hispanic',\n",
       "                                                   'Other', 'change',\n",
       "                                                   'diabetesMed',\n",
       "                                                   'encounter_id',\n",
       "                                                   'num_lab_procedures',\n",
       "                                                   'num_medications',\n",
       "                                                   'num_procedures',\n",
       "                                                   'number_diagnoses',\n",
       "                                                   'number_emergency...\n",
       "                                                  Pipeline(steps=[('imputer',\n",
       "                                                                   SimpleImputer(strategy='most_frequent')),\n",
       "                                                                  ('onehot',\n",
       "                                                                   OneHotEncoder(handle_unknown='ignore'))]),\n",
       "                                                  ['gender', 'age', 'diag_1',\n",
       "                                                   'diag_2', 'diag_3', 'diag_4',\n",
       "                                                   'diag_5', 'X1', 'X2', 'X3',\n",
       "                                                   'X4', 'X5', 'X6', 'X7', 'X8',\n",
       "                                                   'X9', 'X10', 'X11', 'X12',\n",
       "                                                   'X13', 'X14', 'X15', 'X16',\n",
       "                                                   'X17', 'X18', 'X19', 'X20',\n",
       "                                                   'X21', 'X22', 'X23', ...])])),\n",
       "                ('classifier', DecisionTreeClassifier())])"
      ]
     },
     "execution_count": 64,
     "metadata": {},
     "output_type": "execute_result"
    }
   ],
   "source": [
    "%%time\n",
    "clf.fit(X_train, y_train)"
   ]
  },
  {
   "cell_type": "code",
   "execution_count": 65,
   "metadata": {},
   "outputs": [],
   "source": [
    "train_pred=clf.predict(X_train)\n",
    "test_pred=clf.predict(X_test)"
   ]
  },
  {
   "cell_type": "code",
   "execution_count": 66,
   "metadata": {},
   "outputs": [
    {
     "name": "stdout",
     "output_type": "stream",
     "text": [
      "              precision    recall  f1-score   support\n",
      "\n",
      "           0       0.75      0.76      0.76     10277\n",
      "           1       0.72      0.71      0.72      8962\n",
      "\n",
      "    accuracy                           0.74     19239\n",
      "   macro avg       0.74      0.74      0.74     19239\n",
      "weighted avg       0.74      0.74      0.74     19239\n",
      "\n"
     ]
    }
   ],
   "source": [
    "print(classification_report(y_true=y_test, y_pred =  test_pred))"
   ]
  },
  {
   "cell_type": "code",
   "execution_count": 68,
   "metadata": {},
   "outputs": [
    {
     "name": "stdout",
     "output_type": "stream",
     "text": [
      "              precision    recall  f1-score   support\n",
      "\n",
      "           0       1.00      1.00      1.00     23851\n",
      "           1       1.00      1.00      1.00     21038\n",
      "\n",
      "    accuracy                           1.00     44889\n",
      "   macro avg       1.00      1.00      1.00     44889\n",
      "weighted avg       1.00      1.00      1.00     44889\n",
      "\n"
     ]
    }
   ],
   "source": [
    "print(classification_report(y_true=y_train, y_pred =  train_pred))"
   ]
  },
  {
   "cell_type": "markdown",
   "metadata": {},
   "source": [
    "## Descion Tree Model-2"
   ]
  },
  {
   "cell_type": "code",
   "execution_count": 67,
   "metadata": {},
   "outputs": [
    {
     "name": "stdout",
     "output_type": "stream",
     "text": [
      "Fitting 5 folds for each of 72 candidates, totalling 360 fits\n",
      "[CV 1/5] END classifier__criterion=entropy, classifier__max_depth=6, classifier__min_samples_leaf=1, classifier__min_samples_split=2; total time=   1.9s\n",
      "[CV 2/5] END classifier__criterion=entropy, classifier__max_depth=6, classifier__min_samples_leaf=1, classifier__min_samples_split=2; total time=   1.9s\n",
      "[CV 3/5] END classifier__criterion=entropy, classifier__max_depth=6, classifier__min_samples_leaf=1, classifier__min_samples_split=2; total time=   1.9s\n",
      "[CV 4/5] END classifier__criterion=entropy, classifier__max_depth=6, classifier__min_samples_leaf=1, classifier__min_samples_split=2; total time=   1.9s\n",
      "[CV 5/5] END classifier__criterion=entropy, classifier__max_depth=6, classifier__min_samples_leaf=1, classifier__min_samples_split=2; total time=   2.0s\n",
      "[CV 1/5] END classifier__criterion=entropy, classifier__max_depth=6, classifier__min_samples_leaf=1, classifier__min_samples_split=10; total time=   1.9s\n",
      "[CV 2/5] END classifier__criterion=entropy, classifier__max_depth=6, classifier__min_samples_leaf=1, classifier__min_samples_split=10; total time=   2.0s\n",
      "[CV 3/5] END classifier__criterion=entropy, classifier__max_depth=6, classifier__min_samples_leaf=1, classifier__min_samples_split=10; total time=   2.0s\n",
      "[CV 4/5] END classifier__criterion=entropy, classifier__max_depth=6, classifier__min_samples_leaf=1, classifier__min_samples_split=10; total time=   1.9s\n",
      "[CV 5/5] END classifier__criterion=entropy, classifier__max_depth=6, classifier__min_samples_leaf=1, classifier__min_samples_split=10; total time=   1.9s\n",
      "[CV 1/5] END classifier__criterion=entropy, classifier__max_depth=6, classifier__min_samples_leaf=1, classifier__min_samples_split=20; total time=   2.0s\n",
      "[CV 2/5] END classifier__criterion=entropy, classifier__max_depth=6, classifier__min_samples_leaf=1, classifier__min_samples_split=20; total time=   2.0s\n",
      "[CV 3/5] END classifier__criterion=entropy, classifier__max_depth=6, classifier__min_samples_leaf=1, classifier__min_samples_split=20; total time=   1.9s\n",
      "[CV 4/5] END classifier__criterion=entropy, classifier__max_depth=6, classifier__min_samples_leaf=1, classifier__min_samples_split=20; total time=   1.9s\n",
      "[CV 5/5] END classifier__criterion=entropy, classifier__max_depth=6, classifier__min_samples_leaf=1, classifier__min_samples_split=20; total time=   1.9s\n",
      "[CV 1/5] END classifier__criterion=entropy, classifier__max_depth=6, classifier__min_samples_leaf=5, classifier__min_samples_split=2; total time=   1.9s\n",
      "[CV 2/5] END classifier__criterion=entropy, classifier__max_depth=6, classifier__min_samples_leaf=5, classifier__min_samples_split=2; total time=   1.9s\n",
      "[CV 3/5] END classifier__criterion=entropy, classifier__max_depth=6, classifier__min_samples_leaf=5, classifier__min_samples_split=2; total time=   1.9s\n",
      "[CV 4/5] END classifier__criterion=entropy, classifier__max_depth=6, classifier__min_samples_leaf=5, classifier__min_samples_split=2; total time=   1.9s\n",
      "[CV 5/5] END classifier__criterion=entropy, classifier__max_depth=6, classifier__min_samples_leaf=5, classifier__min_samples_split=2; total time=   1.9s\n",
      "[CV 1/5] END classifier__criterion=entropy, classifier__max_depth=6, classifier__min_samples_leaf=5, classifier__min_samples_split=10; total time=   1.8s\n",
      "[CV 2/5] END classifier__criterion=entropy, classifier__max_depth=6, classifier__min_samples_leaf=5, classifier__min_samples_split=10; total time=   1.9s\n",
      "[CV 3/5] END classifier__criterion=entropy, classifier__max_depth=6, classifier__min_samples_leaf=5, classifier__min_samples_split=10; total time=   1.9s\n",
      "[CV 4/5] END classifier__criterion=entropy, classifier__max_depth=6, classifier__min_samples_leaf=5, classifier__min_samples_split=10; total time=   1.8s\n",
      "[CV 5/5] END classifier__criterion=entropy, classifier__max_depth=6, classifier__min_samples_leaf=5, classifier__min_samples_split=10; total time=   1.8s\n",
      "[CV 1/5] END classifier__criterion=entropy, classifier__max_depth=6, classifier__min_samples_leaf=5, classifier__min_samples_split=20; total time=   1.8s\n",
      "[CV 2/5] END classifier__criterion=entropy, classifier__max_depth=6, classifier__min_samples_leaf=5, classifier__min_samples_split=20; total time=   1.9s\n",
      "[CV 3/5] END classifier__criterion=entropy, classifier__max_depth=6, classifier__min_samples_leaf=5, classifier__min_samples_split=20; total time=   1.8s\n",
      "[CV 4/5] END classifier__criterion=entropy, classifier__max_depth=6, classifier__min_samples_leaf=5, classifier__min_samples_split=20; total time=   1.8s\n",
      "[CV 5/5] END classifier__criterion=entropy, classifier__max_depth=6, classifier__min_samples_leaf=5, classifier__min_samples_split=20; total time=   1.9s\n",
      "[CV 1/5] END classifier__criterion=entropy, classifier__max_depth=6, classifier__min_samples_leaf=10, classifier__min_samples_split=2; total time=   1.9s\n",
      "[CV 2/5] END classifier__criterion=entropy, classifier__max_depth=6, classifier__min_samples_leaf=10, classifier__min_samples_split=2; total time=   1.9s\n",
      "[CV 3/5] END classifier__criterion=entropy, classifier__max_depth=6, classifier__min_samples_leaf=10, classifier__min_samples_split=2; total time=   1.8s\n",
      "[CV 4/5] END classifier__criterion=entropy, classifier__max_depth=6, classifier__min_samples_leaf=10, classifier__min_samples_split=2; total time=   1.8s\n",
      "[CV 5/5] END classifier__criterion=entropy, classifier__max_depth=6, classifier__min_samples_leaf=10, classifier__min_samples_split=2; total time=   1.8s\n",
      "[CV 1/5] END classifier__criterion=entropy, classifier__max_depth=6, classifier__min_samples_leaf=10, classifier__min_samples_split=10; total time=   1.8s\n",
      "[CV 2/5] END classifier__criterion=entropy, classifier__max_depth=6, classifier__min_samples_leaf=10, classifier__min_samples_split=10; total time=   1.9s\n",
      "[CV 3/5] END classifier__criterion=entropy, classifier__max_depth=6, classifier__min_samples_leaf=10, classifier__min_samples_split=10; total time=   1.9s\n",
      "[CV 4/5] END classifier__criterion=entropy, classifier__max_depth=6, classifier__min_samples_leaf=10, classifier__min_samples_split=10; total time=   1.9s\n",
      "[CV 5/5] END classifier__criterion=entropy, classifier__max_depth=6, classifier__min_samples_leaf=10, classifier__min_samples_split=10; total time=   1.9s\n",
      "[CV 1/5] END classifier__criterion=entropy, classifier__max_depth=6, classifier__min_samples_leaf=10, classifier__min_samples_split=20; total time=   1.9s\n",
      "[CV 2/5] END classifier__criterion=entropy, classifier__max_depth=6, classifier__min_samples_leaf=10, classifier__min_samples_split=20; total time=   1.8s\n",
      "[CV 3/5] END classifier__criterion=entropy, classifier__max_depth=6, classifier__min_samples_leaf=10, classifier__min_samples_split=20; total time=   1.8s\n",
      "[CV 4/5] END classifier__criterion=entropy, classifier__max_depth=6, classifier__min_samples_leaf=10, classifier__min_samples_split=20; total time=   1.9s\n",
      "[CV 5/5] END classifier__criterion=entropy, classifier__max_depth=6, classifier__min_samples_leaf=10, classifier__min_samples_split=20; total time=   1.9s\n",
      "[CV 1/5] END classifier__criterion=entropy, classifier__max_depth=8, classifier__min_samples_leaf=1, classifier__min_samples_split=2; total time=   2.5s\n",
      "[CV 2/5] END classifier__criterion=entropy, classifier__max_depth=8, classifier__min_samples_leaf=1, classifier__min_samples_split=2; total time=   2.5s\n",
      "[CV 3/5] END classifier__criterion=entropy, classifier__max_depth=8, classifier__min_samples_leaf=1, classifier__min_samples_split=2; total time=   2.5s\n",
      "[CV 4/5] END classifier__criterion=entropy, classifier__max_depth=8, classifier__min_samples_leaf=1, classifier__min_samples_split=2; total time=   2.4s\n",
      "[CV 5/5] END classifier__criterion=entropy, classifier__max_depth=8, classifier__min_samples_leaf=1, classifier__min_samples_split=2; total time=   2.4s\n",
      "[CV 1/5] END classifier__criterion=entropy, classifier__max_depth=8, classifier__min_samples_leaf=1, classifier__min_samples_split=10; total time=   2.5s\n",
      "[CV 2/5] END classifier__criterion=entropy, classifier__max_depth=8, classifier__min_samples_leaf=1, classifier__min_samples_split=10; total time=   2.5s\n",
      "[CV 3/5] END classifier__criterion=entropy, classifier__max_depth=8, classifier__min_samples_leaf=1, classifier__min_samples_split=10; total time=   2.5s\n",
      "[CV 4/5] END classifier__criterion=entropy, classifier__max_depth=8, classifier__min_samples_leaf=1, classifier__min_samples_split=10; total time=   2.3s\n",
      "[CV 5/5] END classifier__criterion=entropy, classifier__max_depth=8, classifier__min_samples_leaf=1, classifier__min_samples_split=10; total time=   2.5s\n",
      "[CV 1/5] END classifier__criterion=entropy, classifier__max_depth=8, classifier__min_samples_leaf=1, classifier__min_samples_split=20; total time=   2.4s\n",
      "[CV 2/5] END classifier__criterion=entropy, classifier__max_depth=8, classifier__min_samples_leaf=1, classifier__min_samples_split=20; total time=   2.4s\n",
      "[CV 3/5] END classifier__criterion=entropy, classifier__max_depth=8, classifier__min_samples_leaf=1, classifier__min_samples_split=20; total time=   2.4s\n",
      "[CV 4/5] END classifier__criterion=entropy, classifier__max_depth=8, classifier__min_samples_leaf=1, classifier__min_samples_split=20; total time=   2.4s\n",
      "[CV 5/5] END classifier__criterion=entropy, classifier__max_depth=8, classifier__min_samples_leaf=1, classifier__min_samples_split=20; total time=   2.6s\n",
      "[CV 1/5] END classifier__criterion=entropy, classifier__max_depth=8, classifier__min_samples_leaf=5, classifier__min_samples_split=2; total time=   2.4s\n",
      "[CV 2/5] END classifier__criterion=entropy, classifier__max_depth=8, classifier__min_samples_leaf=5, classifier__min_samples_split=2; total time=   2.4s\n",
      "[CV 3/5] END classifier__criterion=entropy, classifier__max_depth=8, classifier__min_samples_leaf=5, classifier__min_samples_split=2; total time=   2.4s\n",
      "[CV 4/5] END classifier__criterion=entropy, classifier__max_depth=8, classifier__min_samples_leaf=5, classifier__min_samples_split=2; total time=   2.4s\n",
      "[CV 5/5] END classifier__criterion=entropy, classifier__max_depth=8, classifier__min_samples_leaf=5, classifier__min_samples_split=2; total time=   2.5s\n",
      "[CV 1/5] END classifier__criterion=entropy, classifier__max_depth=8, classifier__min_samples_leaf=5, classifier__min_samples_split=10; total time=   2.5s\n",
      "[CV 2/5] END classifier__criterion=entropy, classifier__max_depth=8, classifier__min_samples_leaf=5, classifier__min_samples_split=10; total time=   2.4s\n",
      "[CV 3/5] END classifier__criterion=entropy, classifier__max_depth=8, classifier__min_samples_leaf=5, classifier__min_samples_split=10; total time=   2.5s\n",
      "[CV 4/5] END classifier__criterion=entropy, classifier__max_depth=8, classifier__min_samples_leaf=5, classifier__min_samples_split=10; total time=   2.4s\n",
      "[CV 5/5] END classifier__criterion=entropy, classifier__max_depth=8, classifier__min_samples_leaf=5, classifier__min_samples_split=10; total time=   2.5s\n",
      "[CV 1/5] END classifier__criterion=entropy, classifier__max_depth=8, classifier__min_samples_leaf=5, classifier__min_samples_split=20; total time=   2.4s\n",
      "[CV 2/5] END classifier__criterion=entropy, classifier__max_depth=8, classifier__min_samples_leaf=5, classifier__min_samples_split=20; total time=   2.4s\n",
      "[CV 3/5] END classifier__criterion=entropy, classifier__max_depth=8, classifier__min_samples_leaf=5, classifier__min_samples_split=20; total time=   2.4s\n",
      "[CV 4/5] END classifier__criterion=entropy, classifier__max_depth=8, classifier__min_samples_leaf=5, classifier__min_samples_split=20; total time=   2.3s\n",
      "[CV 5/5] END classifier__criterion=entropy, classifier__max_depth=8, classifier__min_samples_leaf=5, classifier__min_samples_split=20; total time=   2.4s\n",
      "[CV 1/5] END classifier__criterion=entropy, classifier__max_depth=8, classifier__min_samples_leaf=10, classifier__min_samples_split=2; total time=   2.4s\n",
      "[CV 2/5] END classifier__criterion=entropy, classifier__max_depth=8, classifier__min_samples_leaf=10, classifier__min_samples_split=2; total time=   2.4s\n",
      "[CV 3/5] END classifier__criterion=entropy, classifier__max_depth=8, classifier__min_samples_leaf=10, classifier__min_samples_split=2; total time=   2.5s\n",
      "[CV 4/5] END classifier__criterion=entropy, classifier__max_depth=8, classifier__min_samples_leaf=10, classifier__min_samples_split=2; total time=   2.4s\n",
      "[CV 5/5] END classifier__criterion=entropy, classifier__max_depth=8, classifier__min_samples_leaf=10, classifier__min_samples_split=2; total time=   2.5s\n",
      "[CV 1/5] END classifier__criterion=entropy, classifier__max_depth=8, classifier__min_samples_leaf=10, classifier__min_samples_split=10; total time=   2.5s\n",
      "[CV 2/5] END classifier__criterion=entropy, classifier__max_depth=8, classifier__min_samples_leaf=10, classifier__min_samples_split=10; total time=   2.5s\n",
      "[CV 3/5] END classifier__criterion=entropy, classifier__max_depth=8, classifier__min_samples_leaf=10, classifier__min_samples_split=10; total time=   2.5s\n",
      "[CV 4/5] END classifier__criterion=entropy, classifier__max_depth=8, classifier__min_samples_leaf=10, classifier__min_samples_split=10; total time=   2.4s\n",
      "[CV 5/5] END classifier__criterion=entropy, classifier__max_depth=8, classifier__min_samples_leaf=10, classifier__min_samples_split=10; total time=   2.5s\n",
      "[CV 1/5] END classifier__criterion=entropy, classifier__max_depth=8, classifier__min_samples_leaf=10, classifier__min_samples_split=20; total time=   2.5s\n",
      "[CV 2/5] END classifier__criterion=entropy, classifier__max_depth=8, classifier__min_samples_leaf=10, classifier__min_samples_split=20; total time=   2.5s\n",
      "[CV 3/5] END classifier__criterion=entropy, classifier__max_depth=8, classifier__min_samples_leaf=10, classifier__min_samples_split=20; total time=   2.5s\n",
      "[CV 4/5] END classifier__criterion=entropy, classifier__max_depth=8, classifier__min_samples_leaf=10, classifier__min_samples_split=20; total time=   2.4s\n",
      "[CV 5/5] END classifier__criterion=entropy, classifier__max_depth=8, classifier__min_samples_leaf=10, classifier__min_samples_split=20; total time=   2.5s\n",
      "[CV 1/5] END classifier__criterion=entropy, classifier__max_depth=10, classifier__min_samples_leaf=1, classifier__min_samples_split=2; total time=   3.3s\n",
      "[CV 2/5] END classifier__criterion=entropy, classifier__max_depth=10, classifier__min_samples_leaf=1, classifier__min_samples_split=2; total time=   3.4s\n",
      "[CV 3/5] END classifier__criterion=entropy, classifier__max_depth=10, classifier__min_samples_leaf=1, classifier__min_samples_split=2; total time=   3.4s\n",
      "[CV 4/5] END classifier__criterion=entropy, classifier__max_depth=10, classifier__min_samples_leaf=1, classifier__min_samples_split=2; total time=   3.2s\n",
      "[CV 5/5] END classifier__criterion=entropy, classifier__max_depth=10, classifier__min_samples_leaf=1, classifier__min_samples_split=2; total time=   3.3s\n",
      "[CV 1/5] END classifier__criterion=entropy, classifier__max_depth=10, classifier__min_samples_leaf=1, classifier__min_samples_split=10; total time=   3.3s\n",
      "[CV 2/5] END classifier__criterion=entropy, classifier__max_depth=10, classifier__min_samples_leaf=1, classifier__min_samples_split=10; total time=   3.2s\n",
      "[CV 3/5] END classifier__criterion=entropy, classifier__max_depth=10, classifier__min_samples_leaf=1, classifier__min_samples_split=10; total time=   3.3s\n",
      "[CV 4/5] END classifier__criterion=entropy, classifier__max_depth=10, classifier__min_samples_leaf=1, classifier__min_samples_split=10; total time=   3.1s\n",
      "[CV 5/5] END classifier__criterion=entropy, classifier__max_depth=10, classifier__min_samples_leaf=1, classifier__min_samples_split=10; total time=   3.2s\n",
      "[CV 1/5] END classifier__criterion=entropy, classifier__max_depth=10, classifier__min_samples_leaf=1, classifier__min_samples_split=20; total time=   3.2s\n",
      "[CV 2/5] END classifier__criterion=entropy, classifier__max_depth=10, classifier__min_samples_leaf=1, classifier__min_samples_split=20; total time=   3.2s\n",
      "[CV 3/5] END classifier__criterion=entropy, classifier__max_depth=10, classifier__min_samples_leaf=1, classifier__min_samples_split=20; total time=   3.2s\n",
      "[CV 4/5] END classifier__criterion=entropy, classifier__max_depth=10, classifier__min_samples_leaf=1, classifier__min_samples_split=20; total time=   3.1s\n",
      "[CV 5/5] END classifier__criterion=entropy, classifier__max_depth=10, classifier__min_samples_leaf=1, classifier__min_samples_split=20; total time=   3.0s\n",
      "[CV 1/5] END classifier__criterion=entropy, classifier__max_depth=10, classifier__min_samples_leaf=5, classifier__min_samples_split=2; total time=   3.1s\n",
      "[CV 2/5] END classifier__criterion=entropy, classifier__max_depth=10, classifier__min_samples_leaf=5, classifier__min_samples_split=2; total time=   3.1s\n",
      "[CV 3/5] END classifier__criterion=entropy, classifier__max_depth=10, classifier__min_samples_leaf=5, classifier__min_samples_split=2; total time=   3.2s\n",
      "[CV 4/5] END classifier__criterion=entropy, classifier__max_depth=10, classifier__min_samples_leaf=5, classifier__min_samples_split=2; total time=   3.2s\n",
      "[CV 5/5] END classifier__criterion=entropy, classifier__max_depth=10, classifier__min_samples_leaf=5, classifier__min_samples_split=2; total time=   3.2s\n",
      "[CV 1/5] END classifier__criterion=entropy, classifier__max_depth=10, classifier__min_samples_leaf=5, classifier__min_samples_split=10; total time=   3.1s\n",
      "[CV 2/5] END classifier__criterion=entropy, classifier__max_depth=10, classifier__min_samples_leaf=5, classifier__min_samples_split=10; total time=   3.1s\n",
      "[CV 3/5] END classifier__criterion=entropy, classifier__max_depth=10, classifier__min_samples_leaf=5, classifier__min_samples_split=10; total time=   3.2s\n",
      "[CV 4/5] END classifier__criterion=entropy, classifier__max_depth=10, classifier__min_samples_leaf=5, classifier__min_samples_split=10; total time=   3.2s\n",
      "[CV 5/5] END classifier__criterion=entropy, classifier__max_depth=10, classifier__min_samples_leaf=5, classifier__min_samples_split=10; total time=   3.3s\n",
      "[CV 1/5] END classifier__criterion=entropy, classifier__max_depth=10, classifier__min_samples_leaf=5, classifier__min_samples_split=20; total time=   3.1s\n",
      "[CV 2/5] END classifier__criterion=entropy, classifier__max_depth=10, classifier__min_samples_leaf=5, classifier__min_samples_split=20; total time=   3.2s\n",
      "[CV 3/5] END classifier__criterion=entropy, classifier__max_depth=10, classifier__min_samples_leaf=5, classifier__min_samples_split=20; total time=   3.2s\n",
      "[CV 4/5] END classifier__criterion=entropy, classifier__max_depth=10, classifier__min_samples_leaf=5, classifier__min_samples_split=20; total time=   3.1s\n",
      "[CV 5/5] END classifier__criterion=entropy, classifier__max_depth=10, classifier__min_samples_leaf=5, classifier__min_samples_split=20; total time=   3.1s\n",
      "[CV 1/5] END classifier__criterion=entropy, classifier__max_depth=10, classifier__min_samples_leaf=10, classifier__min_samples_split=2; total time=   3.2s\n",
      "[CV 2/5] END classifier__criterion=entropy, classifier__max_depth=10, classifier__min_samples_leaf=10, classifier__min_samples_split=2; total time=   3.2s\n",
      "[CV 3/5] END classifier__criterion=entropy, classifier__max_depth=10, classifier__min_samples_leaf=10, classifier__min_samples_split=2; total time=   3.2s\n",
      "[CV 4/5] END classifier__criterion=entropy, classifier__max_depth=10, classifier__min_samples_leaf=10, classifier__min_samples_split=2; total time=   3.3s\n",
      "[CV 5/5] END classifier__criterion=entropy, classifier__max_depth=10, classifier__min_samples_leaf=10, classifier__min_samples_split=2; total time=   3.2s\n",
      "[CV 1/5] END classifier__criterion=entropy, classifier__max_depth=10, classifier__min_samples_leaf=10, classifier__min_samples_split=10; total time=   3.3s\n",
      "[CV 2/5] END classifier__criterion=entropy, classifier__max_depth=10, classifier__min_samples_leaf=10, classifier__min_samples_split=10; total time=   3.3s\n",
      "[CV 3/5] END classifier__criterion=entropy, classifier__max_depth=10, classifier__min_samples_leaf=10, classifier__min_samples_split=10; total time=   3.5s\n",
      "[CV 4/5] END classifier__criterion=entropy, classifier__max_depth=10, classifier__min_samples_leaf=10, classifier__min_samples_split=10; total time=   3.2s\n",
      "[CV 5/5] END classifier__criterion=entropy, classifier__max_depth=10, classifier__min_samples_leaf=10, classifier__min_samples_split=10; total time=   3.2s\n",
      "[CV 1/5] END classifier__criterion=entropy, classifier__max_depth=10, classifier__min_samples_leaf=10, classifier__min_samples_split=20; total time=   3.3s\n",
      "[CV 2/5] END classifier__criterion=entropy, classifier__max_depth=10, classifier__min_samples_leaf=10, classifier__min_samples_split=20; total time=   3.2s\n",
      "[CV 3/5] END classifier__criterion=entropy, classifier__max_depth=10, classifier__min_samples_leaf=10, classifier__min_samples_split=20; total time=   3.2s\n",
      "[CV 4/5] END classifier__criterion=entropy, classifier__max_depth=10, classifier__min_samples_leaf=10, classifier__min_samples_split=20; total time=   3.1s\n",
      "[CV 5/5] END classifier__criterion=entropy, classifier__max_depth=10, classifier__min_samples_leaf=10, classifier__min_samples_split=20; total time=   3.1s\n",
      "[CV 1/5] END classifier__criterion=entropy, classifier__max_depth=12, classifier__min_samples_leaf=1, classifier__min_samples_split=2; total time=   4.1s\n",
      "[CV 2/5] END classifier__criterion=entropy, classifier__max_depth=12, classifier__min_samples_leaf=1, classifier__min_samples_split=2; total time=   4.3s\n",
      "[CV 3/5] END classifier__criterion=entropy, classifier__max_depth=12, classifier__min_samples_leaf=1, classifier__min_samples_split=2; total time=   4.2s\n",
      "[CV 4/5] END classifier__criterion=entropy, classifier__max_depth=12, classifier__min_samples_leaf=1, classifier__min_samples_split=2; total time=   4.0s\n",
      "[CV 5/5] END classifier__criterion=entropy, classifier__max_depth=12, classifier__min_samples_leaf=1, classifier__min_samples_split=2; total time=   4.0s\n",
      "[CV 1/5] END classifier__criterion=entropy, classifier__max_depth=12, classifier__min_samples_leaf=1, classifier__min_samples_split=10; total time=   3.9s\n",
      "[CV 2/5] END classifier__criterion=entropy, classifier__max_depth=12, classifier__min_samples_leaf=1, classifier__min_samples_split=10; total time=   4.1s\n",
      "[CV 3/5] END classifier__criterion=entropy, classifier__max_depth=12, classifier__min_samples_leaf=1, classifier__min_samples_split=10; total time=   4.0s\n",
      "[CV 4/5] END classifier__criterion=entropy, classifier__max_depth=12, classifier__min_samples_leaf=1, classifier__min_samples_split=10; total time=   4.1s\n",
      "[CV 5/5] END classifier__criterion=entropy, classifier__max_depth=12, classifier__min_samples_leaf=1, classifier__min_samples_split=10; total time=   4.0s\n",
      "[CV 1/5] END classifier__criterion=entropy, classifier__max_depth=12, classifier__min_samples_leaf=1, classifier__min_samples_split=20; total time=   3.8s\n",
      "[CV 2/5] END classifier__criterion=entropy, classifier__max_depth=12, classifier__min_samples_leaf=1, classifier__min_samples_split=20; total time=   3.9s\n",
      "[CV 3/5] END classifier__criterion=entropy, classifier__max_depth=12, classifier__min_samples_leaf=1, classifier__min_samples_split=20; total time=   3.9s\n",
      "[CV 4/5] END classifier__criterion=entropy, classifier__max_depth=12, classifier__min_samples_leaf=1, classifier__min_samples_split=20; total time=   3.9s\n",
      "[CV 5/5] END classifier__criterion=entropy, classifier__max_depth=12, classifier__min_samples_leaf=1, classifier__min_samples_split=20; total time=   4.0s\n",
      "[CV 1/5] END classifier__criterion=entropy, classifier__max_depth=12, classifier__min_samples_leaf=5, classifier__min_samples_split=2; total time=   4.1s\n",
      "[CV 2/5] END classifier__criterion=entropy, classifier__max_depth=12, classifier__min_samples_leaf=5, classifier__min_samples_split=2; total time=   4.1s\n",
      "[CV 3/5] END classifier__criterion=entropy, classifier__max_depth=12, classifier__min_samples_leaf=5, classifier__min_samples_split=2; total time=   4.1s\n",
      "[CV 4/5] END classifier__criterion=entropy, classifier__max_depth=12, classifier__min_samples_leaf=5, classifier__min_samples_split=2; total time=   4.1s\n",
      "[CV 5/5] END classifier__criterion=entropy, classifier__max_depth=12, classifier__min_samples_leaf=5, classifier__min_samples_split=2; total time=   4.0s\n",
      "[CV 1/5] END classifier__criterion=entropy, classifier__max_depth=12, classifier__min_samples_leaf=5, classifier__min_samples_split=10; total time=   4.1s\n",
      "[CV 2/5] END classifier__criterion=entropy, classifier__max_depth=12, classifier__min_samples_leaf=5, classifier__min_samples_split=10; total time=   4.0s\n",
      "[CV 3/5] END classifier__criterion=entropy, classifier__max_depth=12, classifier__min_samples_leaf=5, classifier__min_samples_split=10; total time=   4.1s\n",
      "[CV 4/5] END classifier__criterion=entropy, classifier__max_depth=12, classifier__min_samples_leaf=5, classifier__min_samples_split=10; total time=   4.1s\n",
      "[CV 5/5] END classifier__criterion=entropy, classifier__max_depth=12, classifier__min_samples_leaf=5, classifier__min_samples_split=10; total time=   4.1s\n",
      "[CV 1/5] END classifier__criterion=entropy, classifier__max_depth=12, classifier__min_samples_leaf=5, classifier__min_samples_split=20; total time=   3.9s\n",
      "[CV 2/5] END classifier__criterion=entropy, classifier__max_depth=12, classifier__min_samples_leaf=5, classifier__min_samples_split=20; total time=   3.9s\n",
      "[CV 3/5] END classifier__criterion=entropy, classifier__max_depth=12, classifier__min_samples_leaf=5, classifier__min_samples_split=20; total time=   3.9s\n",
      "[CV 4/5] END classifier__criterion=entropy, classifier__max_depth=12, classifier__min_samples_leaf=5, classifier__min_samples_split=20; total time=   3.9s\n",
      "[CV 5/5] END classifier__criterion=entropy, classifier__max_depth=12, classifier__min_samples_leaf=5, classifier__min_samples_split=20; total time=   3.8s\n",
      "[CV 1/5] END classifier__criterion=entropy, classifier__max_depth=12, classifier__min_samples_leaf=10, classifier__min_samples_split=2; total time=   4.0s\n",
      "[CV 2/5] END classifier__criterion=entropy, classifier__max_depth=12, classifier__min_samples_leaf=10, classifier__min_samples_split=2; total time=   4.0s\n",
      "[CV 3/5] END classifier__criterion=entropy, classifier__max_depth=12, classifier__min_samples_leaf=10, classifier__min_samples_split=2; total time=   4.1s\n",
      "[CV 4/5] END classifier__criterion=entropy, classifier__max_depth=12, classifier__min_samples_leaf=10, classifier__min_samples_split=2; total time=   4.0s\n",
      "[CV 5/5] END classifier__criterion=entropy, classifier__max_depth=12, classifier__min_samples_leaf=10, classifier__min_samples_split=2; total time=   3.9s\n",
      "[CV 1/5] END classifier__criterion=entropy, classifier__max_depth=12, classifier__min_samples_leaf=10, classifier__min_samples_split=10; total time=   4.1s\n",
      "[CV 2/5] END classifier__criterion=entropy, classifier__max_depth=12, classifier__min_samples_leaf=10, classifier__min_samples_split=10; total time=   4.0s\n",
      "[CV 3/5] END classifier__criterion=entropy, classifier__max_depth=12, classifier__min_samples_leaf=10, classifier__min_samples_split=10; total time=   4.1s\n",
      "[CV 4/5] END classifier__criterion=entropy, classifier__max_depth=12, classifier__min_samples_leaf=10, classifier__min_samples_split=10; total time=   4.0s\n",
      "[CV 5/5] END classifier__criterion=entropy, classifier__max_depth=12, classifier__min_samples_leaf=10, classifier__min_samples_split=10; total time=   4.0s\n",
      "[CV 1/5] END classifier__criterion=entropy, classifier__max_depth=12, classifier__min_samples_leaf=10, classifier__min_samples_split=20; total time=   3.9s\n",
      "[CV 2/5] END classifier__criterion=entropy, classifier__max_depth=12, classifier__min_samples_leaf=10, classifier__min_samples_split=20; total time=   4.0s\n",
      "[CV 3/5] END classifier__criterion=entropy, classifier__max_depth=12, classifier__min_samples_leaf=10, classifier__min_samples_split=20; total time=   4.2s\n",
      "[CV 4/5] END classifier__criterion=entropy, classifier__max_depth=12, classifier__min_samples_leaf=10, classifier__min_samples_split=20; total time=   4.0s\n",
      "[CV 5/5] END classifier__criterion=entropy, classifier__max_depth=12, classifier__min_samples_leaf=10, classifier__min_samples_split=20; total time=   3.9s\n",
      "[CV 1/5] END classifier__criterion=gini, classifier__max_depth=6, classifier__min_samples_leaf=1, classifier__min_samples_split=2; total time=   1.8s\n",
      "[CV 2/5] END classifier__criterion=gini, classifier__max_depth=6, classifier__min_samples_leaf=1, classifier__min_samples_split=2; total time=   1.9s\n",
      "[CV 3/5] END classifier__criterion=gini, classifier__max_depth=6, classifier__min_samples_leaf=1, classifier__min_samples_split=2; total time=   1.9s\n",
      "[CV 4/5] END classifier__criterion=gini, classifier__max_depth=6, classifier__min_samples_leaf=1, classifier__min_samples_split=2; total time=   1.8s\n",
      "[CV 5/5] END classifier__criterion=gini, classifier__max_depth=6, classifier__min_samples_leaf=1, classifier__min_samples_split=2; total time=   1.9s\n",
      "[CV 1/5] END classifier__criterion=gini, classifier__max_depth=6, classifier__min_samples_leaf=1, classifier__min_samples_split=10; total time=   1.8s\n",
      "[CV 2/5] END classifier__criterion=gini, classifier__max_depth=6, classifier__min_samples_leaf=1, classifier__min_samples_split=10; total time=   1.9s\n",
      "[CV 3/5] END classifier__criterion=gini, classifier__max_depth=6, classifier__min_samples_leaf=1, classifier__min_samples_split=10; total time=   1.8s\n",
      "[CV 4/5] END classifier__criterion=gini, classifier__max_depth=6, classifier__min_samples_leaf=1, classifier__min_samples_split=10; total time=   1.8s\n",
      "[CV 5/5] END classifier__criterion=gini, classifier__max_depth=6, classifier__min_samples_leaf=1, classifier__min_samples_split=10; total time=   1.8s\n",
      "[CV 1/5] END classifier__criterion=gini, classifier__max_depth=6, classifier__min_samples_leaf=1, classifier__min_samples_split=20; total time=   1.9s\n",
      "[CV 2/5] END classifier__criterion=gini, classifier__max_depth=6, classifier__min_samples_leaf=1, classifier__min_samples_split=20; total time=   1.9s\n",
      "[CV 3/5] END classifier__criterion=gini, classifier__max_depth=6, classifier__min_samples_leaf=1, classifier__min_samples_split=20; total time=   1.9s\n",
      "[CV 4/5] END classifier__criterion=gini, classifier__max_depth=6, classifier__min_samples_leaf=1, classifier__min_samples_split=20; total time=   2.0s\n",
      "[CV 5/5] END classifier__criterion=gini, classifier__max_depth=6, classifier__min_samples_leaf=1, classifier__min_samples_split=20; total time=   1.9s\n",
      "[CV 1/5] END classifier__criterion=gini, classifier__max_depth=6, classifier__min_samples_leaf=5, classifier__min_samples_split=2; total time=   1.9s\n",
      "[CV 2/5] END classifier__criterion=gini, classifier__max_depth=6, classifier__min_samples_leaf=5, classifier__min_samples_split=2; total time=   1.9s\n",
      "[CV 3/5] END classifier__criterion=gini, classifier__max_depth=6, classifier__min_samples_leaf=5, classifier__min_samples_split=2; total time=   1.9s\n",
      "[CV 4/5] END classifier__criterion=gini, classifier__max_depth=6, classifier__min_samples_leaf=5, classifier__min_samples_split=2; total time=   1.9s\n",
      "[CV 5/5] END classifier__criterion=gini, classifier__max_depth=6, classifier__min_samples_leaf=5, classifier__min_samples_split=2; total time=   1.9s\n",
      "[CV 1/5] END classifier__criterion=gini, classifier__max_depth=6, classifier__min_samples_leaf=5, classifier__min_samples_split=10; total time=   1.9s\n",
      "[CV 2/5] END classifier__criterion=gini, classifier__max_depth=6, classifier__min_samples_leaf=5, classifier__min_samples_split=10; total time=   1.8s\n",
      "[CV 3/5] END classifier__criterion=gini, classifier__max_depth=6, classifier__min_samples_leaf=5, classifier__min_samples_split=10; total time=   1.9s\n",
      "[CV 4/5] END classifier__criterion=gini, classifier__max_depth=6, classifier__min_samples_leaf=5, classifier__min_samples_split=10; total time=   1.9s\n",
      "[CV 5/5] END classifier__criterion=gini, classifier__max_depth=6, classifier__min_samples_leaf=5, classifier__min_samples_split=10; total time=   1.8s\n",
      "[CV 1/5] END classifier__criterion=gini, classifier__max_depth=6, classifier__min_samples_leaf=5, classifier__min_samples_split=20; total time=   1.8s\n",
      "[CV 2/5] END classifier__criterion=gini, classifier__max_depth=6, classifier__min_samples_leaf=5, classifier__min_samples_split=20; total time=   1.9s\n",
      "[CV 3/5] END classifier__criterion=gini, classifier__max_depth=6, classifier__min_samples_leaf=5, classifier__min_samples_split=20; total time=   1.8s\n",
      "[CV 4/5] END classifier__criterion=gini, classifier__max_depth=6, classifier__min_samples_leaf=5, classifier__min_samples_split=20; total time=   1.8s\n",
      "[CV 5/5] END classifier__criterion=gini, classifier__max_depth=6, classifier__min_samples_leaf=5, classifier__min_samples_split=20; total time=   1.9s\n",
      "[CV 1/5] END classifier__criterion=gini, classifier__max_depth=6, classifier__min_samples_leaf=10, classifier__min_samples_split=2; total time=   1.9s\n",
      "[CV 2/5] END classifier__criterion=gini, classifier__max_depth=6, classifier__min_samples_leaf=10, classifier__min_samples_split=2; total time=   1.9s\n",
      "[CV 3/5] END classifier__criterion=gini, classifier__max_depth=6, classifier__min_samples_leaf=10, classifier__min_samples_split=2; total time=   1.9s\n",
      "[CV 4/5] END classifier__criterion=gini, classifier__max_depth=6, classifier__min_samples_leaf=10, classifier__min_samples_split=2; total time=   1.8s\n",
      "[CV 5/5] END classifier__criterion=gini, classifier__max_depth=6, classifier__min_samples_leaf=10, classifier__min_samples_split=2; total time=   1.8s\n",
      "[CV 1/5] END classifier__criterion=gini, classifier__max_depth=6, classifier__min_samples_leaf=10, classifier__min_samples_split=10; total time=   1.8s\n",
      "[CV 2/5] END classifier__criterion=gini, classifier__max_depth=6, classifier__min_samples_leaf=10, classifier__min_samples_split=10; total time=   1.8s\n",
      "[CV 3/5] END classifier__criterion=gini, classifier__max_depth=6, classifier__min_samples_leaf=10, classifier__min_samples_split=10; total time=   1.8s\n",
      "[CV 4/5] END classifier__criterion=gini, classifier__max_depth=6, classifier__min_samples_leaf=10, classifier__min_samples_split=10; total time=   1.8s\n",
      "[CV 5/5] END classifier__criterion=gini, classifier__max_depth=6, classifier__min_samples_leaf=10, classifier__min_samples_split=10; total time=   1.9s\n",
      "[CV 1/5] END classifier__criterion=gini, classifier__max_depth=6, classifier__min_samples_leaf=10, classifier__min_samples_split=20; total time=   1.8s\n",
      "[CV 2/5] END classifier__criterion=gini, classifier__max_depth=6, classifier__min_samples_leaf=10, classifier__min_samples_split=20; total time=   1.8s\n",
      "[CV 3/5] END classifier__criterion=gini, classifier__max_depth=6, classifier__min_samples_leaf=10, classifier__min_samples_split=20; total time=   1.8s\n",
      "[CV 4/5] END classifier__criterion=gini, classifier__max_depth=6, classifier__min_samples_leaf=10, classifier__min_samples_split=20; total time=   1.8s\n",
      "[CV 5/5] END classifier__criterion=gini, classifier__max_depth=6, classifier__min_samples_leaf=10, classifier__min_samples_split=20; total time=   1.8s\n",
      "[CV 1/5] END classifier__criterion=gini, classifier__max_depth=8, classifier__min_samples_leaf=1, classifier__min_samples_split=2; total time=   2.4s\n",
      "[CV 2/5] END classifier__criterion=gini, classifier__max_depth=8, classifier__min_samples_leaf=1, classifier__min_samples_split=2; total time=   2.4s\n",
      "[CV 3/5] END classifier__criterion=gini, classifier__max_depth=8, classifier__min_samples_leaf=1, classifier__min_samples_split=2; total time=   2.5s\n",
      "[CV 4/5] END classifier__criterion=gini, classifier__max_depth=8, classifier__min_samples_leaf=1, classifier__min_samples_split=2; total time=   2.4s\n",
      "[CV 5/5] END classifier__criterion=gini, classifier__max_depth=8, classifier__min_samples_leaf=1, classifier__min_samples_split=2; total time=   2.4s\n",
      "[CV 1/5] END classifier__criterion=gini, classifier__max_depth=8, classifier__min_samples_leaf=1, classifier__min_samples_split=10; total time=   2.4s\n",
      "[CV 2/5] END classifier__criterion=gini, classifier__max_depth=8, classifier__min_samples_leaf=1, classifier__min_samples_split=10; total time=   2.4s\n",
      "[CV 3/5] END classifier__criterion=gini, classifier__max_depth=8, classifier__min_samples_leaf=1, classifier__min_samples_split=10; total time=   2.4s\n",
      "[CV 4/5] END classifier__criterion=gini, classifier__max_depth=8, classifier__min_samples_leaf=1, classifier__min_samples_split=10; total time=   2.3s\n",
      "[CV 5/5] END classifier__criterion=gini, classifier__max_depth=8, classifier__min_samples_leaf=1, classifier__min_samples_split=10; total time=   2.3s\n",
      "[CV 1/5] END classifier__criterion=gini, classifier__max_depth=8, classifier__min_samples_leaf=1, classifier__min_samples_split=20; total time=   2.3s\n",
      "[CV 2/5] END classifier__criterion=gini, classifier__max_depth=8, classifier__min_samples_leaf=1, classifier__min_samples_split=20; total time=   2.3s\n",
      "[CV 3/5] END classifier__criterion=gini, classifier__max_depth=8, classifier__min_samples_leaf=1, classifier__min_samples_split=20; total time=   2.4s\n",
      "[CV 4/5] END classifier__criterion=gini, classifier__max_depth=8, classifier__min_samples_leaf=1, classifier__min_samples_split=20; total time=   2.5s\n",
      "[CV 5/5] END classifier__criterion=gini, classifier__max_depth=8, classifier__min_samples_leaf=1, classifier__min_samples_split=20; total time=   2.4s\n",
      "[CV 1/5] END classifier__criterion=gini, classifier__max_depth=8, classifier__min_samples_leaf=5, classifier__min_samples_split=2; total time=   2.4s\n",
      "[CV 2/5] END classifier__criterion=gini, classifier__max_depth=8, classifier__min_samples_leaf=5, classifier__min_samples_split=2; total time=   2.4s\n",
      "[CV 3/5] END classifier__criterion=gini, classifier__max_depth=8, classifier__min_samples_leaf=5, classifier__min_samples_split=2; total time=   2.4s\n",
      "[CV 4/5] END classifier__criterion=gini, classifier__max_depth=8, classifier__min_samples_leaf=5, classifier__min_samples_split=2; total time=   2.3s\n",
      "[CV 5/5] END classifier__criterion=gini, classifier__max_depth=8, classifier__min_samples_leaf=5, classifier__min_samples_split=2; total time=   2.3s\n",
      "[CV 1/5] END classifier__criterion=gini, classifier__max_depth=8, classifier__min_samples_leaf=5, classifier__min_samples_split=10; total time=   2.4s\n",
      "[CV 2/5] END classifier__criterion=gini, classifier__max_depth=8, classifier__min_samples_leaf=5, classifier__min_samples_split=10; total time=   2.4s\n",
      "[CV 3/5] END classifier__criterion=gini, classifier__max_depth=8, classifier__min_samples_leaf=5, classifier__min_samples_split=10; total time=   2.4s\n",
      "[CV 4/5] END classifier__criterion=gini, classifier__max_depth=8, classifier__min_samples_leaf=5, classifier__min_samples_split=10; total time=   2.4s\n",
      "[CV 5/5] END classifier__criterion=gini, classifier__max_depth=8, classifier__min_samples_leaf=5, classifier__min_samples_split=10; total time=   2.4s\n",
      "[CV 1/5] END classifier__criterion=gini, classifier__max_depth=8, classifier__min_samples_leaf=5, classifier__min_samples_split=20; total time=   2.4s\n",
      "[CV 2/5] END classifier__criterion=gini, classifier__max_depth=8, classifier__min_samples_leaf=5, classifier__min_samples_split=20; total time=   2.4s\n",
      "[CV 3/5] END classifier__criterion=gini, classifier__max_depth=8, classifier__min_samples_leaf=5, classifier__min_samples_split=20; total time=   2.4s\n",
      "[CV 4/5] END classifier__criterion=gini, classifier__max_depth=8, classifier__min_samples_leaf=5, classifier__min_samples_split=20; total time=   2.4s\n",
      "[CV 5/5] END classifier__criterion=gini, classifier__max_depth=8, classifier__min_samples_leaf=5, classifier__min_samples_split=20; total time=   2.4s\n",
      "[CV 1/5] END classifier__criterion=gini, classifier__max_depth=8, classifier__min_samples_leaf=10, classifier__min_samples_split=2; total time=   2.5s\n",
      "[CV 2/5] END classifier__criterion=gini, classifier__max_depth=8, classifier__min_samples_leaf=10, classifier__min_samples_split=2; total time=   2.3s\n",
      "[CV 3/5] END classifier__criterion=gini, classifier__max_depth=8, classifier__min_samples_leaf=10, classifier__min_samples_split=2; total time=   2.3s\n",
      "[CV 4/5] END classifier__criterion=gini, classifier__max_depth=8, classifier__min_samples_leaf=10, classifier__min_samples_split=2; total time=   2.4s\n",
      "[CV 5/5] END classifier__criterion=gini, classifier__max_depth=8, classifier__min_samples_leaf=10, classifier__min_samples_split=2; total time=   2.4s\n",
      "[CV 1/5] END classifier__criterion=gini, classifier__max_depth=8, classifier__min_samples_leaf=10, classifier__min_samples_split=10; total time=   2.4s\n",
      "[CV 2/5] END classifier__criterion=gini, classifier__max_depth=8, classifier__min_samples_leaf=10, classifier__min_samples_split=10; total time=   2.4s\n",
      "[CV 3/5] END classifier__criterion=gini, classifier__max_depth=8, classifier__min_samples_leaf=10, classifier__min_samples_split=10; total time=   2.2s\n",
      "[CV 4/5] END classifier__criterion=gini, classifier__max_depth=8, classifier__min_samples_leaf=10, classifier__min_samples_split=10; total time=   2.3s\n",
      "[CV 5/5] END classifier__criterion=gini, classifier__max_depth=8, classifier__min_samples_leaf=10, classifier__min_samples_split=10; total time=   2.4s\n",
      "[CV 1/5] END classifier__criterion=gini, classifier__max_depth=8, classifier__min_samples_leaf=10, classifier__min_samples_split=20; total time=   2.3s\n",
      "[CV 2/5] END classifier__criterion=gini, classifier__max_depth=8, classifier__min_samples_leaf=10, classifier__min_samples_split=20; total time=   2.4s\n",
      "[CV 3/5] END classifier__criterion=gini, classifier__max_depth=8, classifier__min_samples_leaf=10, classifier__min_samples_split=20; total time=   2.4s\n",
      "[CV 4/5] END classifier__criterion=gini, classifier__max_depth=8, classifier__min_samples_leaf=10, classifier__min_samples_split=20; total time=   2.4s\n",
      "[CV 5/5] END classifier__criterion=gini, classifier__max_depth=8, classifier__min_samples_leaf=10, classifier__min_samples_split=20; total time=   2.4s\n",
      "[CV 1/5] END classifier__criterion=gini, classifier__max_depth=10, classifier__min_samples_leaf=1, classifier__min_samples_split=2; total time=   3.0s\n",
      "[CV 2/5] END classifier__criterion=gini, classifier__max_depth=10, classifier__min_samples_leaf=1, classifier__min_samples_split=2; total time=   3.1s\n",
      "[CV 3/5] END classifier__criterion=gini, classifier__max_depth=10, classifier__min_samples_leaf=1, classifier__min_samples_split=2; total time=   3.0s\n",
      "[CV 4/5] END classifier__criterion=gini, classifier__max_depth=10, classifier__min_samples_leaf=1, classifier__min_samples_split=2; total time=   3.2s\n",
      "[CV 5/5] END classifier__criterion=gini, classifier__max_depth=10, classifier__min_samples_leaf=1, classifier__min_samples_split=2; total time=   3.2s\n",
      "[CV 1/5] END classifier__criterion=gini, classifier__max_depth=10, classifier__min_samples_leaf=1, classifier__min_samples_split=10; total time=   3.2s\n",
      "[CV 2/5] END classifier__criterion=gini, classifier__max_depth=10, classifier__min_samples_leaf=1, classifier__min_samples_split=10; total time=   3.2s\n",
      "[CV 3/5] END classifier__criterion=gini, classifier__max_depth=10, classifier__min_samples_leaf=1, classifier__min_samples_split=10; total time=   3.2s\n",
      "[CV 4/5] END classifier__criterion=gini, classifier__max_depth=10, classifier__min_samples_leaf=1, classifier__min_samples_split=10; total time=   3.1s\n",
      "[CV 5/5] END classifier__criterion=gini, classifier__max_depth=10, classifier__min_samples_leaf=1, classifier__min_samples_split=10; total time=   3.2s\n",
      "[CV 1/5] END classifier__criterion=gini, classifier__max_depth=10, classifier__min_samples_leaf=1, classifier__min_samples_split=20; total time=   3.1s\n",
      "[CV 2/5] END classifier__criterion=gini, classifier__max_depth=10, classifier__min_samples_leaf=1, classifier__min_samples_split=20; total time=   3.2s\n",
      "[CV 3/5] END classifier__criterion=gini, classifier__max_depth=10, classifier__min_samples_leaf=1, classifier__min_samples_split=20; total time=   3.1s\n",
      "[CV 4/5] END classifier__criterion=gini, classifier__max_depth=10, classifier__min_samples_leaf=1, classifier__min_samples_split=20; total time=   3.1s\n",
      "[CV 5/5] END classifier__criterion=gini, classifier__max_depth=10, classifier__min_samples_leaf=1, classifier__min_samples_split=20; total time=   3.1s\n",
      "[CV 1/5] END classifier__criterion=gini, classifier__max_depth=10, classifier__min_samples_leaf=5, classifier__min_samples_split=2; total time=   3.2s\n",
      "[CV 2/5] END classifier__criterion=gini, classifier__max_depth=10, classifier__min_samples_leaf=5, classifier__min_samples_split=2; total time=   3.2s\n",
      "[CV 3/5] END classifier__criterion=gini, classifier__max_depth=10, classifier__min_samples_leaf=5, classifier__min_samples_split=2; total time=   3.2s\n",
      "[CV 4/5] END classifier__criterion=gini, classifier__max_depth=10, classifier__min_samples_leaf=5, classifier__min_samples_split=2; total time=   3.2s\n",
      "[CV 5/5] END classifier__criterion=gini, classifier__max_depth=10, classifier__min_samples_leaf=5, classifier__min_samples_split=2; total time=   3.1s\n",
      "[CV 1/5] END classifier__criterion=gini, classifier__max_depth=10, classifier__min_samples_leaf=5, classifier__min_samples_split=10; total time=   3.2s\n",
      "[CV 2/5] END classifier__criterion=gini, classifier__max_depth=10, classifier__min_samples_leaf=5, classifier__min_samples_split=10; total time=   3.2s\n",
      "[CV 3/5] END classifier__criterion=gini, classifier__max_depth=10, classifier__min_samples_leaf=5, classifier__min_samples_split=10; total time=   3.2s\n",
      "[CV 4/5] END classifier__criterion=gini, classifier__max_depth=10, classifier__min_samples_leaf=5, classifier__min_samples_split=10; total time=   3.2s\n",
      "[CV 5/5] END classifier__criterion=gini, classifier__max_depth=10, classifier__min_samples_leaf=5, classifier__min_samples_split=10; total time=   3.3s\n",
      "[CV 1/5] END classifier__criterion=gini, classifier__max_depth=10, classifier__min_samples_leaf=5, classifier__min_samples_split=20; total time=   3.2s\n",
      "[CV 2/5] END classifier__criterion=gini, classifier__max_depth=10, classifier__min_samples_leaf=5, classifier__min_samples_split=20; total time=   3.1s\n",
      "[CV 3/5] END classifier__criterion=gini, classifier__max_depth=10, classifier__min_samples_leaf=5, classifier__min_samples_split=20; total time=   3.2s\n",
      "[CV 4/5] END classifier__criterion=gini, classifier__max_depth=10, classifier__min_samples_leaf=5, classifier__min_samples_split=20; total time=   3.1s\n",
      "[CV 5/5] END classifier__criterion=gini, classifier__max_depth=10, classifier__min_samples_leaf=5, classifier__min_samples_split=20; total time=   3.0s\n",
      "[CV 1/5] END classifier__criterion=gini, classifier__max_depth=10, classifier__min_samples_leaf=10, classifier__min_samples_split=2; total time=   3.1s\n",
      "[CV 2/5] END classifier__criterion=gini, classifier__max_depth=10, classifier__min_samples_leaf=10, classifier__min_samples_split=2; total time=   3.1s\n",
      "[CV 3/5] END classifier__criterion=gini, classifier__max_depth=10, classifier__min_samples_leaf=10, classifier__min_samples_split=2; total time=   3.0s\n",
      "[CV 4/5] END classifier__criterion=gini, classifier__max_depth=10, classifier__min_samples_leaf=10, classifier__min_samples_split=2; total time=   3.1s\n",
      "[CV 5/5] END classifier__criterion=gini, classifier__max_depth=10, classifier__min_samples_leaf=10, classifier__min_samples_split=2; total time=   3.1s\n",
      "[CV 1/5] END classifier__criterion=gini, classifier__max_depth=10, classifier__min_samples_leaf=10, classifier__min_samples_split=10; total time=   3.2s\n",
      "[CV 2/5] END classifier__criterion=gini, classifier__max_depth=10, classifier__min_samples_leaf=10, classifier__min_samples_split=10; total time=   3.2s\n",
      "[CV 3/5] END classifier__criterion=gini, classifier__max_depth=10, classifier__min_samples_leaf=10, classifier__min_samples_split=10; total time=   3.2s\n",
      "[CV 4/5] END classifier__criterion=gini, classifier__max_depth=10, classifier__min_samples_leaf=10, classifier__min_samples_split=10; total time=   3.0s\n",
      "[CV 5/5] END classifier__criterion=gini, classifier__max_depth=10, classifier__min_samples_leaf=10, classifier__min_samples_split=10; total time=   3.0s\n",
      "[CV 1/5] END classifier__criterion=gini, classifier__max_depth=10, classifier__min_samples_leaf=10, classifier__min_samples_split=20; total time=   3.1s\n",
      "[CV 2/5] END classifier__criterion=gini, classifier__max_depth=10, classifier__min_samples_leaf=10, classifier__min_samples_split=20; total time=   3.1s\n",
      "[CV 3/5] END classifier__criterion=gini, classifier__max_depth=10, classifier__min_samples_leaf=10, classifier__min_samples_split=20; total time=   3.1s\n",
      "[CV 4/5] END classifier__criterion=gini, classifier__max_depth=10, classifier__min_samples_leaf=10, classifier__min_samples_split=20; total time=   3.1s\n",
      "[CV 5/5] END classifier__criterion=gini, classifier__max_depth=10, classifier__min_samples_leaf=10, classifier__min_samples_split=20; total time=   3.1s\n",
      "[CV 1/5] END classifier__criterion=gini, classifier__max_depth=12, classifier__min_samples_leaf=1, classifier__min_samples_split=2; total time=   4.3s\n",
      "[CV 2/5] END classifier__criterion=gini, classifier__max_depth=12, classifier__min_samples_leaf=1, classifier__min_samples_split=2; total time=   4.3s\n",
      "[CV 3/5] END classifier__criterion=gini, classifier__max_depth=12, classifier__min_samples_leaf=1, classifier__min_samples_split=2; total time=   4.2s\n",
      "[CV 4/5] END classifier__criterion=gini, classifier__max_depth=12, classifier__min_samples_leaf=1, classifier__min_samples_split=2; total time=   4.2s\n",
      "[CV 5/5] END classifier__criterion=gini, classifier__max_depth=12, classifier__min_samples_leaf=1, classifier__min_samples_split=2; total time=   4.2s\n",
      "[CV 1/5] END classifier__criterion=gini, classifier__max_depth=12, classifier__min_samples_leaf=1, classifier__min_samples_split=10; total time=   4.1s\n",
      "[CV 2/5] END classifier__criterion=gini, classifier__max_depth=12, classifier__min_samples_leaf=1, classifier__min_samples_split=10; total time=   4.2s\n",
      "[CV 3/5] END classifier__criterion=gini, classifier__max_depth=12, classifier__min_samples_leaf=1, classifier__min_samples_split=10; total time=   4.1s\n",
      "[CV 4/5] END classifier__criterion=gini, classifier__max_depth=12, classifier__min_samples_leaf=1, classifier__min_samples_split=10; total time=   4.1s\n",
      "[CV 5/5] END classifier__criterion=gini, classifier__max_depth=12, classifier__min_samples_leaf=1, classifier__min_samples_split=10; total time=   3.9s\n",
      "[CV 1/5] END classifier__criterion=gini, classifier__max_depth=12, classifier__min_samples_leaf=1, classifier__min_samples_split=20; total time=   3.8s\n",
      "[CV 2/5] END classifier__criterion=gini, classifier__max_depth=12, classifier__min_samples_leaf=1, classifier__min_samples_split=20; total time=   4.0s\n",
      "[CV 3/5] END classifier__criterion=gini, classifier__max_depth=12, classifier__min_samples_leaf=1, classifier__min_samples_split=20; total time=   4.0s\n",
      "[CV 4/5] END classifier__criterion=gini, classifier__max_depth=12, classifier__min_samples_leaf=1, classifier__min_samples_split=20; total time=   4.0s\n",
      "[CV 5/5] END classifier__criterion=gini, classifier__max_depth=12, classifier__min_samples_leaf=1, classifier__min_samples_split=20; total time=   3.8s\n",
      "[CV 1/5] END classifier__criterion=gini, classifier__max_depth=12, classifier__min_samples_leaf=5, classifier__min_samples_split=2; total time=   4.1s\n",
      "[CV 2/5] END classifier__criterion=gini, classifier__max_depth=12, classifier__min_samples_leaf=5, classifier__min_samples_split=2; total time=   4.1s\n",
      "[CV 3/5] END classifier__criterion=gini, classifier__max_depth=12, classifier__min_samples_leaf=5, classifier__min_samples_split=2; total time=   4.1s\n",
      "[CV 4/5] END classifier__criterion=gini, classifier__max_depth=12, classifier__min_samples_leaf=5, classifier__min_samples_split=2; total time=   4.0s\n",
      "[CV 5/5] END classifier__criterion=gini, classifier__max_depth=12, classifier__min_samples_leaf=5, classifier__min_samples_split=2; total time=   4.0s\n",
      "[CV 1/5] END classifier__criterion=gini, classifier__max_depth=12, classifier__min_samples_leaf=5, classifier__min_samples_split=10; total time=   4.0s\n",
      "[CV 2/5] END classifier__criterion=gini, classifier__max_depth=12, classifier__min_samples_leaf=5, classifier__min_samples_split=10; total time=   4.2s\n",
      "[CV 3/5] END classifier__criterion=gini, classifier__max_depth=12, classifier__min_samples_leaf=5, classifier__min_samples_split=10; total time=   4.1s\n",
      "[CV 4/5] END classifier__criterion=gini, classifier__max_depth=12, classifier__min_samples_leaf=5, classifier__min_samples_split=10; total time=   4.2s\n",
      "[CV 5/5] END classifier__criterion=gini, classifier__max_depth=12, classifier__min_samples_leaf=5, classifier__min_samples_split=10; total time=   3.9s\n",
      "[CV 1/5] END classifier__criterion=gini, classifier__max_depth=12, classifier__min_samples_leaf=5, classifier__min_samples_split=20; total time=   3.8s\n",
      "[CV 2/5] END classifier__criterion=gini, classifier__max_depth=12, classifier__min_samples_leaf=5, classifier__min_samples_split=20; total time=   3.8s\n",
      "[CV 3/5] END classifier__criterion=gini, classifier__max_depth=12, classifier__min_samples_leaf=5, classifier__min_samples_split=20; total time=   3.8s\n",
      "[CV 4/5] END classifier__criterion=gini, classifier__max_depth=12, classifier__min_samples_leaf=5, classifier__min_samples_split=20; total time=   4.0s\n",
      "[CV 5/5] END classifier__criterion=gini, classifier__max_depth=12, classifier__min_samples_leaf=5, classifier__min_samples_split=20; total time=   3.7s\n",
      "[CV 1/5] END classifier__criterion=gini, classifier__max_depth=12, classifier__min_samples_leaf=10, classifier__min_samples_split=2; total time=   4.1s\n",
      "[CV 2/5] END classifier__criterion=gini, classifier__max_depth=12, classifier__min_samples_leaf=10, classifier__min_samples_split=2; total time=   4.1s\n",
      "[CV 3/5] END classifier__criterion=gini, classifier__max_depth=12, classifier__min_samples_leaf=10, classifier__min_samples_split=2; total time=   3.9s\n",
      "[CV 4/5] END classifier__criterion=gini, classifier__max_depth=12, classifier__min_samples_leaf=10, classifier__min_samples_split=2; total time=   3.9s\n",
      "[CV 5/5] END classifier__criterion=gini, classifier__max_depth=12, classifier__min_samples_leaf=10, classifier__min_samples_split=2; total time=   3.8s\n",
      "[CV 1/5] END classifier__criterion=gini, classifier__max_depth=12, classifier__min_samples_leaf=10, classifier__min_samples_split=10; total time=   4.0s\n",
      "[CV 2/5] END classifier__criterion=gini, classifier__max_depth=12, classifier__min_samples_leaf=10, classifier__min_samples_split=10; total time=   4.0s\n",
      "[CV 3/5] END classifier__criterion=gini, classifier__max_depth=12, classifier__min_samples_leaf=10, classifier__min_samples_split=10; total time=   4.0s\n",
      "[CV 4/5] END classifier__criterion=gini, classifier__max_depth=12, classifier__min_samples_leaf=10, classifier__min_samples_split=10; total time=   4.1s\n",
      "[CV 5/5] END classifier__criterion=gini, classifier__max_depth=12, classifier__min_samples_leaf=10, classifier__min_samples_split=10; total time=   4.0s\n",
      "[CV 1/5] END classifier__criterion=gini, classifier__max_depth=12, classifier__min_samples_leaf=10, classifier__min_samples_split=20; total time=   4.0s\n",
      "[CV 2/5] END classifier__criterion=gini, classifier__max_depth=12, classifier__min_samples_leaf=10, classifier__min_samples_split=20; total time=   4.0s\n",
      "[CV 3/5] END classifier__criterion=gini, classifier__max_depth=12, classifier__min_samples_leaf=10, classifier__min_samples_split=20; total time=   3.8s\n",
      "[CV 4/5] END classifier__criterion=gini, classifier__max_depth=12, classifier__min_samples_leaf=10, classifier__min_samples_split=20; total time=   4.0s\n",
      "[CV 5/5] END classifier__criterion=gini, classifier__max_depth=12, classifier__min_samples_leaf=10, classifier__min_samples_split=20; total time=   3.9s\n"
     ]
    },
    {
     "data": {
      "text/plain": [
       "GridSearchCV(cv=5,\n",
       "             estimator=Pipeline(steps=[('preprocessor',\n",
       "                                        ColumnTransformer(transformers=[('num',\n",
       "                                                                         Pipeline(steps=[('imputer',\n",
       "                                                                                          SimpleImputer(strategy='median')),\n",
       "                                                                                         ('scaler',\n",
       "                                                                                          StandardScaler())]),\n",
       "                                                                         ['AfricanAmerican',\n",
       "                                                                          'Asian',\n",
       "                                                                          'Caucasian',\n",
       "                                                                          'Hispanic',\n",
       "                                                                          'Other',\n",
       "                                                                          'change',\n",
       "                                                                          'diabetesMed',\n",
       "                                                                          'encounter_id',\n",
       "                                                                          'num_lab_procedures',\n",
       "                                                                          'num_medications',\n",
       "                                                                          'num_procedures',\n",
       "                                                                          'number_...\n",
       "                                                                          'X3',\n",
       "                                                                          'X4',\n",
       "                                                                          'X5',\n",
       "                                                                          'X6',\n",
       "                                                                          'X7',\n",
       "                                                                          'X8',\n",
       "                                                                          'X9',\n",
       "                                                                          'X10',\n",
       "                                                                          'X11',\n",
       "                                                                          'X12',\n",
       "                                                                          'X13',\n",
       "                                                                          'X14',\n",
       "                                                                          'X15',\n",
       "                                                                          'X16',\n",
       "                                                                          'X17',\n",
       "                                                                          'X18',\n",
       "                                                                          'X19',\n",
       "                                                                          'X20',\n",
       "                                                                          'X21',\n",
       "                                                                          'X22',\n",
       "                                                                          'X23', ...])])),\n",
       "                                       ('classifier',\n",
       "                                        DecisionTreeClassifier())]),\n",
       "             param_grid={'classifier__criterion': ['entropy', 'gini'],\n",
       "                         'classifier__max_depth': [6, 8, 10, 12],\n",
       "                         'classifier__min_samples_leaf': [1, 5, 10],\n",
       "                         'classifier__min_samples_split': [2, 10, 20]},\n",
       "             verbose=3)"
      ]
     },
     "execution_count": 67,
     "metadata": {},
     "output_type": "execute_result"
    }
   ],
   "source": [
    "\n",
    "clf_dt = Pipeline(steps=[('preprocessor', preprocessor),\n",
    "                      ('classifier', DecisionTreeClassifier())])\n",
    "                 #('name', GridSearchCV('classifier', param_grid=dt_param_grid, cv=5,verbose=3)))\n",
    "\n",
    "\n",
    "\n",
    "dt_param_grid = {'classifier__criterion': ['entropy', 'gini'], \n",
    "                 'classifier__max_depth': [6,8,10,12], \n",
    "                 \"classifier__min_samples_split\": [2, 10, 20],\n",
    "                 \"classifier__min_samples_leaf\": [1, 5, 10]}\n",
    "\n",
    "dt_grid = GridSearchCV(clf_dt, param_grid=dt_param_grid, cv=5,verbose=3)\n",
    "\n",
    "dt_grid.fit(X_train,y_train)"
   ]
  },
  {
   "cell_type": "code",
   "execution_count": 69,
   "metadata": {},
   "outputs": [
    {
     "data": {
      "text/plain": [
       "{'classifier__criterion': 'gini',\n",
       " 'classifier__max_depth': 12,\n",
       " 'classifier__min_samples_leaf': 1,\n",
       " 'classifier__min_samples_split': 2}"
      ]
     },
     "execution_count": 69,
     "metadata": {},
     "output_type": "execute_result"
    }
   ],
   "source": [
    "dt_grid.best_params_"
   ]
  },
  {
   "cell_type": "code",
   "execution_count": 70,
   "metadata": {},
   "outputs": [
    {
     "name": "stdout",
     "output_type": "stream",
     "text": [
      "0.7195972287197309\n",
      "0.6503976298144394\n"
     ]
    }
   ],
   "source": [
    "train_pred = dt_grid.predict(X_train)\n",
    "test_pred = dt_grid.predict(X_test)\n",
    "\n",
    "print(dt_grid.score(X_train, y_train))\n",
    "print(dt_grid.score(X_test, y_test))"
   ]
  },
  {
   "cell_type": "code",
   "execution_count": 71,
   "metadata": {},
   "outputs": [
    {
     "name": "stdout",
     "output_type": "stream",
     "text": [
      "              precision    recall  f1-score   support\n",
      "\n",
      "           0       0.67      0.68      0.68     10277\n",
      "           1       0.63      0.61      0.62      8962\n",
      "\n",
      "    accuracy                           0.65     19239\n",
      "   macro avg       0.65      0.65      0.65     19239\n",
      "weighted avg       0.65      0.65      0.65     19239\n",
      "\n"
     ]
    }
   ],
   "source": [
    "print(classification_report(y_true=y_test, y_pred =  test_pred))"
   ]
  },
  {
   "cell_type": "code",
   "execution_count": 72,
   "metadata": {},
   "outputs": [
    {
     "name": "stdout",
     "output_type": "stream",
     "text": [
      "              precision    recall  f1-score   support\n",
      "\n",
      "           0       0.73      0.74      0.74     23851\n",
      "           1       0.70      0.69      0.70     21038\n",
      "\n",
      "    accuracy                           0.72     44889\n",
      "   macro avg       0.72      0.72      0.72     44889\n",
      "weighted avg       0.72      0.72      0.72     44889\n",
      "\n"
     ]
    }
   ],
   "source": [
    "print(classification_report(y_true=y_train, y_pred =  train_pred))"
   ]
  },
  {
   "cell_type": "markdown",
   "metadata": {},
   "source": [
    "## Random Forest Model"
   ]
  },
  {
   "cell_type": "code",
   "execution_count": 73,
   "metadata": {},
   "outputs": [],
   "source": [
    "#Build Random Forest Model-3 \n",
    "clf = Pipeline(steps=[('preprocessor', preprocessor),\n",
    "                      ('classifier', RandomForestClassifier())])"
   ]
  },
  {
   "cell_type": "code",
   "execution_count": 74,
   "metadata": {},
   "outputs": [],
   "source": [
    "kfold = StratifiedKFold(n_splits=5, shuffle=True, random_state=143)\n",
    "\n",
    "param_grid = {\"classifier__n_estimators\" : [150, 250, 300],\n",
    "              \"classifier__max_depth\" : [5,8,10],\n",
    "              \"classifier__max_features\" : [3, 5, 7],\n",
    "              \"classifier__min_samples_leaf\" : [4, 6, 8, 10]}\n",
    "\n",
    "rf_grid = GridSearchCV(clf, param_grid= param_grid, cv=kfold,verbose=1,n_jobs=6)"
   ]
  },
  {
   "cell_type": "code",
   "execution_count": 75,
   "metadata": {},
   "outputs": [
    {
     "name": "stdout",
     "output_type": "stream",
     "text": [
      "Fitting 5 folds for each of 108 candidates, totalling 540 fits\n",
      "CPU times: user 11.6 s, sys: 307 ms, total: 11.9 s\n",
      "Wall time: 14min 54s\n"
     ]
    },
    {
     "data": {
      "text/plain": [
       "GridSearchCV(cv=StratifiedKFold(n_splits=5, random_state=143, shuffle=True),\n",
       "             estimator=Pipeline(steps=[('preprocessor',\n",
       "                                        ColumnTransformer(transformers=[('num',\n",
       "                                                                         Pipeline(steps=[('imputer',\n",
       "                                                                                          SimpleImputer(strategy='median')),\n",
       "                                                                                         ('scaler',\n",
       "                                                                                          StandardScaler())]),\n",
       "                                                                         ['AfricanAmerican',\n",
       "                                                                          'Asian',\n",
       "                                                                          'Caucasian',\n",
       "                                                                          'Hispanic',\n",
       "                                                                          'Other',\n",
       "                                                                          'change',\n",
       "                                                                          'diabetesMed',\n",
       "                                                                          'encounter_id',\n",
       "                                                                          'num_lab...\n",
       "                                                                          'X3',\n",
       "                                                                          'X4',\n",
       "                                                                          'X5',\n",
       "                                                                          'X6',\n",
       "                                                                          'X7',\n",
       "                                                                          'X8',\n",
       "                                                                          'X9',\n",
       "                                                                          'X10',\n",
       "                                                                          'X11',\n",
       "                                                                          'X12',\n",
       "                                                                          'X13',\n",
       "                                                                          'X14',\n",
       "                                                                          'X15',\n",
       "                                                                          'X16',\n",
       "                                                                          'X17',\n",
       "                                                                          'X18',\n",
       "                                                                          'X19',\n",
       "                                                                          'X20',\n",
       "                                                                          'X21',\n",
       "                                                                          'X22',\n",
       "                                                                          'X23', ...])])),\n",
       "                                       ('classifier',\n",
       "                                        RandomForestClassifier())]),\n",
       "             n_jobs=6,\n",
       "             param_grid={'classifier__max_depth': [5, 8, 10],\n",
       "                         'classifier__max_features': [3, 5, 7],\n",
       "                         'classifier__min_samples_leaf': [4, 6, 8, 10],\n",
       "                         'classifier__n_estimators': [150, 250, 300]},\n",
       "             verbose=1)"
      ]
     },
     "execution_count": 75,
     "metadata": {},
     "output_type": "execute_result"
    }
   ],
   "source": [
    "%%time\n",
    "rf_grid.fit(X_train,y_train)"
   ]
  },
  {
   "cell_type": "code",
   "execution_count": 76,
   "metadata": {},
   "outputs": [
    {
     "data": {
      "text/plain": [
       "{'classifier__max_depth': 5,\n",
       " 'classifier__max_features': 3,\n",
       " 'classifier__min_samples_leaf': 4,\n",
       " 'classifier__n_estimators': 150}"
      ]
     },
     "execution_count": 76,
     "metadata": {},
     "output_type": "execute_result"
    }
   ],
   "source": [
    "rf_grid.best_params_"
   ]
  },
  {
   "cell_type": "code",
   "execution_count": 77,
   "metadata": {},
   "outputs": [
    {
     "name": "stdout",
     "output_type": "stream",
     "text": [
      "0.5313328432355365\n",
      "0.5341753729403815\n",
      "              precision    recall  f1-score   support\n",
      "\n",
      "           0       0.53      1.00      0.70     10277\n",
      "           1       0.00      0.00      0.00      8962\n",
      "\n",
      "    accuracy                           0.53     19239\n",
      "   macro avg       0.27      0.50      0.35     19239\n",
      "weighted avg       0.29      0.53      0.37     19239\n",
      "\n",
      "              precision    recall  f1-score   support\n",
      "\n",
      "           0       0.53      1.00      0.69     23851\n",
      "           1       0.00      0.00      0.00     21038\n",
      "\n",
      "    accuracy                           0.53     44889\n",
      "   macro avg       0.27      0.50      0.35     44889\n",
      "weighted avg       0.28      0.53      0.37     44889\n",
      "\n"
     ]
    },
    {
     "name": "stderr",
     "output_type": "stream",
     "text": [
      "/usr/share/anaconda3/lib/python3.7/site-packages/sklearn/metrics/_classification.py:1245: UndefinedMetricWarning: Precision and F-score are ill-defined and being set to 0.0 in labels with no predicted samples. Use `zero_division` parameter to control this behavior.\n",
      "  _warn_prf(average, modifier, msg_start, len(result))\n",
      "/usr/share/anaconda3/lib/python3.7/site-packages/sklearn/metrics/_classification.py:1245: UndefinedMetricWarning: Precision and F-score are ill-defined and being set to 0.0 in labels with no predicted samples. Use `zero_division` parameter to control this behavior.\n",
      "  _warn_prf(average, modifier, msg_start, len(result))\n",
      "/usr/share/anaconda3/lib/python3.7/site-packages/sklearn/metrics/_classification.py:1245: UndefinedMetricWarning: Precision and F-score are ill-defined and being set to 0.0 in labels with no predicted samples. Use `zero_division` parameter to control this behavior.\n",
      "  _warn_prf(average, modifier, msg_start, len(result))\n",
      "/usr/share/anaconda3/lib/python3.7/site-packages/sklearn/metrics/_classification.py:1245: UndefinedMetricWarning: Precision and F-score are ill-defined and being set to 0.0 in labels with no predicted samples. Use `zero_division` parameter to control this behavior.\n",
      "  _warn_prf(average, modifier, msg_start, len(result))\n",
      "/usr/share/anaconda3/lib/python3.7/site-packages/sklearn/metrics/_classification.py:1245: UndefinedMetricWarning: Precision and F-score are ill-defined and being set to 0.0 in labels with no predicted samples. Use `zero_division` parameter to control this behavior.\n",
      "  _warn_prf(average, modifier, msg_start, len(result))\n",
      "/usr/share/anaconda3/lib/python3.7/site-packages/sklearn/metrics/_classification.py:1245: UndefinedMetricWarning: Precision and F-score are ill-defined and being set to 0.0 in labels with no predicted samples. Use `zero_division` parameter to control this behavior.\n",
      "  _warn_prf(average, modifier, msg_start, len(result))\n"
     ]
    }
   ],
   "source": [
    "train_pred = rf_grid.predict(X_train)\n",
    "test_pred = rf_grid.predict(X_test)\n",
    "\n",
    "print(rf_grid.score(X_train, y_train))\n",
    "print(rf_grid.score(X_test, y_test))\n",
    "\n",
    "print(classification_report(y_true=y_test, y_pred =  test_pred))\n",
    "print(classification_report(y_true=y_train, y_pred =  train_pred))"
   ]
  },
  {
   "cell_type": "markdown",
   "metadata": {},
   "source": [
    "## Gradient Boosting Model"
   ]
  },
  {
   "cell_type": "code",
   "execution_count": 78,
   "metadata": {},
   "outputs": [],
   "source": [
    "#Build Gradient Boosting\n",
    "\n",
    "clf = Pipeline(steps=[('preprocessor', preprocessor),\n",
    "                      ('GBM',GradientBoostingClassifier())])"
   ]
  },
  {
   "cell_type": "code",
   "execution_count": null,
   "metadata": {},
   "outputs": [],
   "source": [
    "%%time\n",
    "gbm_param_grid = {'GBM__max_depth': [8,10,12,14], 'GBM__subsample': [0.8, 0.6,], 'GBM__max_features':[0.2, 0.3], \n",
    "              'GBM__n_estimators': [10, 20, 30]}\n",
    "\n",
    "gbm_grid = GridSearchCV(clf, param_grid=gbm_param_grid, cv=3,n_jobs=6)\n",
    "\n",
    "gbm_grid.fit(X_train,y_train)"
   ]
  },
  {
   "cell_type": "code",
   "execution_count": null,
   "metadata": {},
   "outputs": [],
   "source": [
    "gbm_grid.best_params_"
   ]
  },
  {
   "cell_type": "code",
   "execution_count": null,
   "metadata": {},
   "outputs": [],
   "source": [
    "train_pred = gbm_grid.predict(X_train)\n",
    "test_pred = gbm_grid.predict(X_test)\n",
    "\n",
    "print(gbm_grid.score(X_train, y_train))\n",
    "print(gbm_grid.score(X_test, y_test))\n",
    "\n",
    "\n",
    "print(classification_report(y_true=y_test, y_pred =  test_pred))\n",
    "print(classification_report(y_true=y_train, y_pred =  train_pred))"
   ]
  },
  {
   "cell_type": "markdown",
   "metadata": {},
   "source": [
    "## SVM Model"
   ]
  },
  {
   "cell_type": "code",
   "execution_count": null,
   "metadata": {},
   "outputs": [],
   "source": [
    "#Build SVM\n",
    "\n",
    "%%time\n",
    "clf_svm = Pipeline(steps=[('preprocessor', preprocessor),\n",
    "                      ('classifier', SVC())])\n",
    "\n",
    "svm_param_grid = {'classifier__C': [50,90], 'classifier__gamma': [0.008, 0.001],\n",
    "                 \"classifier__kernel\": ['rbf']}\n",
    "\n",
    "svm_grid = GridSearchCV(clf_svm, param_grid= svm_param_grid, cv= 5,n_jobs=6)\n",
    "\n",
    "svm_grid.fit(X_train,y_train)"
   ]
  },
  {
   "cell_type": "code",
   "execution_count": null,
   "metadata": {},
   "outputs": [],
   "source": [
    "svm_grid.best_params_"
   ]
  },
  {
   "cell_type": "code",
   "execution_count": null,
   "metadata": {},
   "outputs": [],
   "source": [
    "train_pred = svm_grid.predict(X_train)\n",
    "test_pred = svm_grid.predict(X_test)\n",
    "\n",
    "print(svm_grid.score(X_train, y_train))\n",
    "print(svm_grid.score(X_test, y_test))\n",
    "\n",
    "print(confusion_matrix(y_true=y_train, y_pred = train_pred))\n",
    "\n",
    "confusion_matrix_test = confusion_matrix(y_true=y_test, y_pred =  test_pred)"
   ]
  },
  {
   "cell_type": "code",
   "execution_count": null,
   "metadata": {},
   "outputs": [],
   "source": [
    "\n",
    "print(classification_report(y_true=y_test, y_pred =  test_pred))\n",
    "print(classification_report(y_true=y_train, y_pred =  train_pred))"
   ]
  },
  {
   "cell_type": "code",
   "execution_count": null,
   "metadata": {},
   "outputs": [],
   "source": []
  }
 ],
 "metadata": {
  "kernelspec": {
   "display_name": "Python 3",
   "language": "python",
   "name": "python3"
  },
  "language_info": {
   "codemirror_mode": {
    "name": "ipython",
    "version": 3
   },
   "file_extension": ".py",
   "mimetype": "text/x-python",
   "name": "python",
   "nbconvert_exporter": "python",
   "pygments_lexer": "ipython3",
   "version": "3.7.6"
  }
 },
 "nbformat": 4,
 "nbformat_minor": 4
}
